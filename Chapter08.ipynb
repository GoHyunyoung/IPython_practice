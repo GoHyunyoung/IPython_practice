{
 "metadata": {
  "name": "",
  "signature": "sha256:cccbdd89434293dad446321785f2aff3a488d691609cf76062417eb958f5808d"
 },
 "nbformat": 3,
 "nbformat_minor": 0,
 "worksheets": [
  {
   "cells": [
    {
     "cell_type": "markdown",
     "metadata": {},
     "source": [
      "#Chapter 8. \ub3c4\uc2dd\ud654\uc640 \uc2dc\uac01\ud654\n",
      "- matplotlib\uc740 \uc8fc\ub85c 2D \ub3c4\ud45c\ub97c \uc704\ud55c \ub370\uc2a4\ud06c\ud1b1 \ud328\ud0a4\uc9c0\ub85c, \ucd9c\ud310\ubb3c \uc218\uc900\uc758 \ub3c4\ud45c\ub97c \ub9cc\ub4e4 \uc218 \uc788\ub3c4\ub85d \uc124\uacc4 \ub418\uc5b4\uc788\uc74c"
     ]
    },
    {
     "cell_type": "code",
     "collapsed": false,
     "input": [
      "import matplotlib.pyplot as plt\n",
      "import numpy as np\n",
      "%matplotlib qt"
     ],
     "language": "python",
     "metadata": {},
     "outputs": [],
     "prompt_number": 1
    },
    {
     "cell_type": "markdown",
     "metadata": {},
     "source": [
      "##8.1 matplotlib API \uac04\ub7b5\ud558\uac8c \uc0b4\ud3b4\ubcf4\uae30"
     ]
    },
    {
     "cell_type": "code",
     "collapsed": false,
     "input": [
      "plt.plot(np.arange(10))"
     ],
     "language": "python",
     "metadata": {},
     "outputs": [
      {
       "metadata": {},
       "output_type": "pyout",
       "prompt_number": 2,
       "text": [
        "[<matplotlib.lines.Line2D at 0xa146828>]"
       ]
      }
     ],
     "prompt_number": 2
    },
    {
     "cell_type": "markdown",
     "metadata": {},
     "source": [
      "###8.1.1 Figure\uc640 Subplot\n",
      "- matplotlib\uc5d0\uc11c \uadf8\ub798\ud504\ub294 Figure \uac1d\uccb4 \ub0b4\uc5d0 \uc874\uc7ac\ud55c\ub2e4.\n",
      "- \uadf8\ub798\ud504\ub97c \uc704\ud55c \uc0c8\ub85c\uc6b4 Figure\ub294 plt.figure\ub97c \uc0ac\uc6a9\ud574\uc11c \uc0dd\uc131\ud560 \uc218 \uc788\ub2e4."
     ]
    },
    {
     "cell_type": "code",
     "collapsed": false,
     "input": [
      "fig = plt.figure()"
     ],
     "language": "python",
     "metadata": {},
     "outputs": [],
     "prompt_number": 3
    },
    {
     "cell_type": "code",
     "collapsed": false,
     "input": [
      "ax1 = fig.add_subplot(2,2,1)"
     ],
     "language": "python",
     "metadata": {},
     "outputs": [],
     "prompt_number": 4
    },
    {
     "cell_type": "code",
     "collapsed": false,
     "input": [
      "ax2 = fig.add_subplot(2,2,2)"
     ],
     "language": "python",
     "metadata": {},
     "outputs": [],
     "prompt_number": 5
    },
    {
     "cell_type": "code",
     "collapsed": false,
     "input": [
      "ax3 = fig.add_subplot(2,2,3)"
     ],
     "language": "python",
     "metadata": {},
     "outputs": [],
     "prompt_number": 6
    },
    {
     "cell_type": "code",
     "collapsed": false,
     "input": [
      "fig.show()"
     ],
     "language": "python",
     "metadata": {},
     "outputs": [],
     "prompt_number": 7
    },
    {
     "cell_type": "code",
     "collapsed": false,
     "input": [
      "from numpy.random import randn"
     ],
     "language": "python",
     "metadata": {},
     "outputs": [],
     "prompt_number": 8
    },
    {
     "cell_type": "code",
     "collapsed": false,
     "input": [
      "_ = ax1.hist(randn(100), bins=20, color='k', alpha=0.3)"
     ],
     "language": "python",
     "metadata": {},
     "outputs": [],
     "prompt_number": 9
    },
    {
     "cell_type": "code",
     "collapsed": false,
     "input": [
      "ax2.scatter(np.arange(30),np.arange(30)+3*randn(30))"
     ],
     "language": "python",
     "metadata": {},
     "outputs": [
      {
       "metadata": {},
       "output_type": "pyout",
       "prompt_number": 10,
       "text": [
        "<matplotlib.collections.PathCollection at 0xa499518>"
       ]
      }
     ],
     "prompt_number": 10
    },
    {
     "cell_type": "code",
     "collapsed": false,
     "input": [
      "ax3.plot(randn(50).cumsum(),'k--')"
     ],
     "language": "python",
     "metadata": {},
     "outputs": [
      {
       "metadata": {},
       "output_type": "pyout",
       "prompt_number": 11,
       "text": [
        "[<matplotlib.lines.Line2D at 0xa574f60>]"
       ]
      }
     ],
     "prompt_number": 11
    },
    {
     "cell_type": "code",
     "collapsed": false,
     "input": [
      "fig.show()"
     ],
     "language": "python",
     "metadata": {},
     "outputs": [],
     "prompt_number": 16
    },
    {
     "cell_type": "code",
     "collapsed": false,
     "input": [
      "fig, axes = plt.subplots(2,3)"
     ],
     "language": "python",
     "metadata": {},
     "outputs": [],
     "prompt_number": 13
    },
    {
     "cell_type": "code",
     "collapsed": false,
     "input": [
      "axes"
     ],
     "language": "python",
     "metadata": {},
     "outputs": [
      {
       "metadata": {},
       "output_type": "pyout",
       "prompt_number": 14,
       "text": [
        "array([[<matplotlib.axes._subplots.AxesSubplot object at 0x000000000A606978>,\n",
        "        <matplotlib.axes._subplots.AxesSubplot object at 0x000000000A73A0B8>,\n",
        "        <matplotlib.axes._subplots.AxesSubplot object at 0x000000000A83CD30>],\n",
        "       [<matplotlib.axes._subplots.AxesSubplot object at 0x000000000A8C3400>,\n",
        "        <matplotlib.axes._subplots.AxesSubplot object at 0x000000000A9BE978>,\n",
        "        <matplotlib.axes._subplots.AxesSubplot object at 0x000000000AACB128>]], dtype=object)"
       ]
      }
     ],
     "prompt_number": 14
    },
    {
     "cell_type": "markdown",
     "metadata": {},
     "source": [
      "<br><br>\n",
      "###\uc11c\ube0c\ud50c\ub86f \uac04 \uac04\uaca9 \uc870\uc808\ud558\uae30\n",
      "- matplotlib\uc740 \uc11c\ube0c\ud50c\ub86f \uac04\uc758 \uc801\ub2f9\ud55c \uac04\uaca9\uacfc \uc5ec\ubc31\uc744 \ucd94\uac00\ud574\uc900\ub2e4.\n",
      "- \uc774 \uac04\uaca9\uc740 \uc804\uccb4 \uadf8\ub798\ud504\uc758 \ub192\uc774\uc640 \ub108\ube44\uc5d0 \ub530\ub77c \uc0c1\ub300\uc801\uc73c\ub85c \uacb0\uc815\ub41c\ub2e4.\n",
      "- \uadf8\ub798\uc11c \ud504\ub85c\uadf8\ub7a8\uc744 \uc0ac\uc6a9\ud558\ub358\uac00 \uc544\ub2c8\uba74 \uc9c1\uc811 GUI \uc708\ub3c4\uc6b0\uc758 \ud06c\uae30\ub97c \uc870\uc815\ud558\uba74 \uc790\ub3d9\uc73c\ub85c \uadf8\ub798\ud504 \ud06c\uae30\uac00 \uc870\uc808\ub41c\ub2e4.\n",
      "- subplot \uac04\uc758 \uac04\uaca9\uc740 Figure\uc758 subplots_adjust \uba54\uc11c\ub4dc\ub97c \uc0ac\uc6a9\ud574\uc11c \uc27d\uac8c \ubc14\uafc0 \uc218 \uc788\ub2e4."
     ]
    },
    {
     "cell_type": "code",
     "collapsed": false,
     "input": [
      "fig.subplots_adjust(left = None, bottom=None, right=None, top=None, wspace=None, hspace=None)"
     ],
     "language": "python",
     "metadata": {},
     "outputs": [],
     "prompt_number": 27
    },
    {
     "cell_type": "code",
     "collapsed": false,
     "input": [
      "fig, axes = plt.subplots(2,2,sharex=True,sharey=True)\n",
      "for i in range(2):\n",
      "    for j in range(2):\n",
      "        #bins=sample\uc758 \uc218, alpha=\uadf8\ub798\ud504\uc758 \uba85\uc554(\ud22c\uba85\ub3c4(0~1))\n",
      "        axes[i,j].hist(randn(500), bins=50, color='k', alpha=0.5)\n",
      "\n",
      "#wspace, hspace\ub294 \uac01\uac01\uc758 \uc5ec\uc720\uacf5\uac04\uc758 \ud06c\uae30\ub97c \uc870\uc808\n",
      "plt.subplots_adjust(wspace=0, hspace=0)"
     ],
     "language": "python",
     "metadata": {},
     "outputs": [],
     "prompt_number": 15
    },
    {
     "cell_type": "markdown",
     "metadata": {},
     "source": [
      "###8.1.2 \uc0c9\uc0c1, \ub9c8\ucee4, \uc120 \uc2a4\ud0c0\uc77c\n",
      "- matplotlib\uc5d0\uc11c \uac00\uc7a5 \uc911\uc694\ud55c plot\ud568\uc218\ub294 X\uc640 Y \uc88c\ud45c \uac12\uc774 \ub2f4\uae34 \ubc30\uc5f4\uacfc \ucd94\uac00\uc801\uc73c\ub85c \uc0c9\uc0c1\uacfc \uc120 \uc2a4\ud0c0\uc77c\uc744 \ub098\ud0c0\ub0b4\ub294 \ucd95\uc57d \ubb38\uc790\uc5f4\uc744 \uc778\uc790\ub85c \ubc1b\ub294\ub2e4."
     ]
    },
    {
     "cell_type": "code",
     "collapsed": false,
     "input": [
      "# X\uc640 Y\uc88c\ud45c \uac12\uc774 \ub2f4\uae34 \ubc30\uc5f4\uacfc \ucd94\uac00\uc801\uc73c\ub85c \uc0c9\uc0c1\uacfc \uc120\uc2a4\ud0c0\uc77c\uc744 \ub098\ud0c0\ub0b4\ub294 \ucd95\uc57d \ubb38\uc790\uc5f4\uc744 \uc778\uc790\ub85c\ubc1b\uc74c\n",
      "# \ub179\uc0c9 \uc810\uc120\uc73c\ub85c \uadf8\ub824\uc9c4 x \ub300 y \uadf8\ub798\ud504\n",
      "x= (1,2,3)\n",
      "y= (1,4,9)\n",
      "plt.plot(x,y,'g--')"
     ],
     "language": "python",
     "metadata": {},
     "outputs": [
      {
       "metadata": {},
       "output_type": "pyout",
       "prompt_number": 120,
       "text": [
        "[<matplotlib.lines.Line2D at 0xedf6e10>]"
       ]
      }
     ],
     "prompt_number": 120
    },
    {
     "cell_type": "code",
     "collapsed": false,
     "input": [
      "# \uadf8\ub798\ud504\ub97c \uc6d0\ud558\ub294 \ud615\uc2dd\uc73c\ub85c \uc0dd\uc131\ud558\uae30 \uc704\ud574 \ubb38\uc790\uc5f4\uc744 \uc9c0\uc800\ubd84\ud558\uac8c \uc11e\uc5b4 \uc4f0\uace0 \uc2f6\uc9c0 \uc54a\ub294 \uacbd\uc6b0\n",
      "# \uc55e\uc5d0\uc11c \ub9cc\ub4e0 \uadf8\ub798\ud504\ub97c \uc880\ub354 \uba85\uc2dc\uc801\uc778 \ubc29\ubc95\uc73c\ub85c \ud45c\ud604\n",
      "plt.plot(x,y,linestyle='--',color='g')"
     ],
     "language": "python",
     "metadata": {},
     "outputs": [
      {
       "metadata": {},
       "output_type": "pyout",
       "prompt_number": 122,
       "text": [
        "[<matplotlib.lines.Line2D at 0x107f22e8>]"
       ]
      }
     ],
     "prompt_number": 122
    },
    {
     "cell_type": "code",
     "collapsed": false,
     "input": [
      "# \uc120 \uadf8\ub798\ud504\ub294 \ud2b9\uc815 \uc9c0\uc810\uc758 \uc2e4\uc81c \ub370\uc774\ud130\ub97c \ub3cb\ubcf4\uc774\uac8c \ud558\uae30 \uc704\ud574 \ub9c8\ucee4\ub97c \ucd94\uac00\ud558\uae30\ub3c4 \ud55c\ub2e4.\n",
      "plt.plot(randn(30).cumsum(), 'ko--')"
     ],
     "language": "python",
     "metadata": {},
     "outputs": [
      {
       "metadata": {},
       "output_type": "pyout",
       "prompt_number": 133,
       "text": [
        "[<matplotlib.lines.Line2D at 0x13ba06d8>]"
       ]
      }
     ],
     "prompt_number": 133
    },
    {
     "cell_type": "code",
     "collapsed": false,
     "input": [
      "plt.plot(randn(30).cumsum(),color='k',linestyle='--',marker='o')"
     ],
     "language": "python",
     "metadata": {},
     "outputs": [
      {
       "metadata": {},
       "output_type": "pyout",
       "prompt_number": 134,
       "text": [
        "[<matplotlib.lines.Line2D at 0x13d46b38>]"
       ]
      }
     ],
     "prompt_number": 134
    },
    {
     "cell_type": "code",
     "collapsed": false,
     "input": [
      "data = randn(30).cumsum()"
     ],
     "language": "python",
     "metadata": {},
     "outputs": [],
     "prompt_number": 135
    },
    {
     "cell_type": "code",
     "collapsed": false,
     "input": [
      "plt.plot(data, 'k--',label='Default')"
     ],
     "language": "python",
     "metadata": {},
     "outputs": [
      {
       "metadata": {},
       "output_type": "pyout",
       "prompt_number": 136,
       "text": [
        "[<matplotlib.lines.Line2D at 0x13f3b160>]"
       ]
      }
     ],
     "prompt_number": 136
    },
    {
     "cell_type": "code",
     "collapsed": false,
     "input": [
      "plt.plot(data,'k--')"
     ],
     "language": "python",
     "metadata": {},
     "outputs": []
    }
   ],
   "metadata": {}
  }
 ]
}