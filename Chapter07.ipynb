{
 "metadata": {
  "kernelspec": {
   "display_name": "Python 2",
   "language": "python",
   "name": "python2"
  },
  "language_info": {
   "codemirror_mode": {
    "name": "ipython",
    "version": 2
   },
   "file_extension": ".py",
   "mimetype": "text/x-python",
   "name": "python",
   "nbconvert_exporter": "python",
   "pygments_lexer": "ipython2",
   "version": "2.7.9"
  },
  "name": "",
  "signature": "sha256:413beb15bb97359e82a72311db6d7d3a070e78ac4dcb46b5ddf432b234d3b862"
 },
 "nbformat": 3,
 "nbformat_minor": 0,
 "worksheets": [
  {
   "cells": [
    {
     "cell_type": "heading",
     "level": 1,
     "metadata": {},
     "source": [
      "Chapter07. \ub370\uc774\ud130 \uc900\ube44\ud558\uae30 : \ub2e4\ub4ec\uae30, \ubcc0\ud615, \ubcd1\ud569"
     ]
    },
    {
     "cell_type": "code",
     "collapsed": false,
     "input": [
      "import pandas as pd\n",
      "import numpy as np\n",
      "from pandas import Series\n",
      "from pandas import DataFrame"
     ],
     "language": "python",
     "metadata": {},
     "outputs": [],
     "prompt_number": 1
    },
    {
     "cell_type": "heading",
     "level": 2,
     "metadata": {},
     "source": [
      "7.1 \ub370\uc774\ud130 \ud569\uce58\uae30"
     ]
    },
    {
     "cell_type": "markdown",
     "metadata": {},
     "source": [
      "- pandas.merge\ub294 \ud558\ub098 \uc774\uc0c1\uc758 \ud0a4\ub97c \uae30\uc900\uc73c\ub85c DataFrame\uc758 \ub85c\uc6b0\ub97c \ud569\uce5c\ub2e4. SQL \uc774\ub098 \ub2e4\ub978 \uad00\uacc4\ud615 \ub370\uc774\ud130 \ubca0\uc774\uc2a4\uc758 join \uc5f0\uc0b0\uacfc \uc720\uc0ac\ud558\ub2e4.\n",
      "- pandas.concat\uc740 \ud558\ub098\uc758 \ucd95\uc744 \ub530\ub77c \uac1d\uccb4\ub97c \uc774\uc5b4 \ubd99\uc778\ub2e4.\n",
      "- combine_first \uc778\uc2a4\ud134\uc2a4 \uba54\uc11c\ub4dc\ub294 \ub450 \uac1d\uccb4\ub97c \ud3ec\uac1c\uc11c \ud55c \uac1d\uccb4\uc5d0\uc11c \ub204\ub77d\ub41c \ub370\uc774\ud130\ub97c \ub2e4\ub978 \uac1d\uccb4\uc5d0 \uc788\ub294 \uac12\uc73c\ub85c \ucc44\uc6b8 \uc218 \uc788\ub3c4\ub85d \ud55c\ub2e4."
     ]
    },
    {
     "cell_type": "heading",
     "level": 3,
     "metadata": {},
     "source": [
      "7.1.1 \ub370\uc774\ud130\ubca0\uc774\uc2a4 \uc2a4\ud0c0\uc77c\ub85c DataFrame \ud569\uce58\uae30"
     ]
    },
    {
     "cell_type": "code",
     "collapsed": false,
     "input": [
      "df1 = DataFrame({'key':['b','b','a','c','a','a','b'],\n",
      "                 'data':range(7)})"
     ],
     "language": "python",
     "metadata": {},
     "outputs": [],
     "prompt_number": 2
    },
    {
     "cell_type": "code",
     "collapsed": false,
     "input": [
      "df2 = DataFrame({'key':['a','b','d'],\n",
      "                 'data2':range(3)})"
     ],
     "language": "python",
     "metadata": {},
     "outputs": [],
     "prompt_number": 3
    },
    {
     "cell_type": "code",
     "collapsed": false,
     "input": [
      "df1"
     ],
     "language": "python",
     "metadata": {},
     "outputs": [
      {
       "html": [
        "<div style=\"max-width:1500px;overflow:auto;\">\n",
        "<table border=\"1\" class=\"dataframe\">\n",
        "  <thead>\n",
        "    <tr style=\"text-align: right;\">\n",
        "      <th></th>\n",
        "      <th>data</th>\n",
        "      <th>key</th>\n",
        "    </tr>\n",
        "  </thead>\n",
        "  <tbody>\n",
        "    <tr>\n",
        "      <th>0</th>\n",
        "      <td>0</td>\n",
        "      <td>b</td>\n",
        "    </tr>\n",
        "    <tr>\n",
        "      <th>1</th>\n",
        "      <td>1</td>\n",
        "      <td>b</td>\n",
        "    </tr>\n",
        "    <tr>\n",
        "      <th>2</th>\n",
        "      <td>2</td>\n",
        "      <td>a</td>\n",
        "    </tr>\n",
        "    <tr>\n",
        "      <th>3</th>\n",
        "      <td>3</td>\n",
        "      <td>c</td>\n",
        "    </tr>\n",
        "    <tr>\n",
        "      <th>4</th>\n",
        "      <td>4</td>\n",
        "      <td>a</td>\n",
        "    </tr>\n",
        "    <tr>\n",
        "      <th>5</th>\n",
        "      <td>5</td>\n",
        "      <td>a</td>\n",
        "    </tr>\n",
        "    <tr>\n",
        "      <th>6</th>\n",
        "      <td>6</td>\n",
        "      <td>b</td>\n",
        "    </tr>\n",
        "  </tbody>\n",
        "</table>\n",
        "</div>"
       ],
       "metadata": {},
       "output_type": "pyout",
       "prompt_number": 4,
       "text": [
        "   data key\n",
        "0     0   b\n",
        "1     1   b\n",
        "2     2   a\n",
        "3     3   c\n",
        "4     4   a\n",
        "5     5   a\n",
        "6     6   b"
       ]
      }
     ],
     "prompt_number": 4
    },
    {
     "cell_type": "code",
     "collapsed": false,
     "input": [
      "df2"
     ],
     "language": "python",
     "metadata": {},
     "outputs": [
      {
       "html": [
        "<div style=\"max-width:1500px;overflow:auto;\">\n",
        "<table border=\"1\" class=\"dataframe\">\n",
        "  <thead>\n",
        "    <tr style=\"text-align: right;\">\n",
        "      <th></th>\n",
        "      <th>data2</th>\n",
        "      <th>key</th>\n",
        "    </tr>\n",
        "  </thead>\n",
        "  <tbody>\n",
        "    <tr>\n",
        "      <th>0</th>\n",
        "      <td>0</td>\n",
        "      <td>a</td>\n",
        "    </tr>\n",
        "    <tr>\n",
        "      <th>1</th>\n",
        "      <td>1</td>\n",
        "      <td>b</td>\n",
        "    </tr>\n",
        "    <tr>\n",
        "      <th>2</th>\n",
        "      <td>2</td>\n",
        "      <td>d</td>\n",
        "    </tr>\n",
        "  </tbody>\n",
        "</table>\n",
        "</div>"
       ],
       "metadata": {},
       "output_type": "pyout",
       "prompt_number": 5,
       "text": [
        "   data2 key\n",
        "0      0   a\n",
        "1      1   b\n",
        "2      2   d"
       ]
      }
     ],
     "prompt_number": 5
    },
    {
     "cell_type": "code",
     "collapsed": false,
     "input": [
      "#\uc5b4\ub5a4 column\uc744 \ubcd1\ud569\ud560 \uac83\uc778\uc9c0 \uba85\uc2dc\ud558\uc9c0\uc54a\uc740 \uacbd\uc6b0 -> \uacb9\uccd0\uc9c0\ub294 column\uc758 \uc774\ub984\uc744 \ud0a4\ub85c \uc0ac\uc6a9('key'\ub97c \uacf5\ud1b5\uc73c\ub85c \uc0ac\uc6a9)\n",
      "pd.merge(df1,df2)"
     ],
     "language": "python",
     "metadata": {},
     "outputs": [
      {
       "html": [
        "<div style=\"max-width:1500px;overflow:auto;\">\n",
        "<table border=\"1\" class=\"dataframe\">\n",
        "  <thead>\n",
        "    <tr style=\"text-align: right;\">\n",
        "      <th></th>\n",
        "      <th>data</th>\n",
        "      <th>key</th>\n",
        "      <th>data2</th>\n",
        "    </tr>\n",
        "  </thead>\n",
        "  <tbody>\n",
        "    <tr>\n",
        "      <th>0</th>\n",
        "      <td>0</td>\n",
        "      <td>b</td>\n",
        "      <td>1</td>\n",
        "    </tr>\n",
        "    <tr>\n",
        "      <th>1</th>\n",
        "      <td>1</td>\n",
        "      <td>b</td>\n",
        "      <td>1</td>\n",
        "    </tr>\n",
        "    <tr>\n",
        "      <th>2</th>\n",
        "      <td>6</td>\n",
        "      <td>b</td>\n",
        "      <td>1</td>\n",
        "    </tr>\n",
        "    <tr>\n",
        "      <th>3</th>\n",
        "      <td>2</td>\n",
        "      <td>a</td>\n",
        "      <td>0</td>\n",
        "    </tr>\n",
        "    <tr>\n",
        "      <th>4</th>\n",
        "      <td>4</td>\n",
        "      <td>a</td>\n",
        "      <td>0</td>\n",
        "    </tr>\n",
        "    <tr>\n",
        "      <th>5</th>\n",
        "      <td>5</td>\n",
        "      <td>a</td>\n",
        "      <td>0</td>\n",
        "    </tr>\n",
        "  </tbody>\n",
        "</table>\n",
        "</div>"
       ],
       "metadata": {},
       "output_type": "pyout",
       "prompt_number": 6,
       "text": [
        "   data key  data2\n",
        "0     0   b      1\n",
        "1     1   b      1\n",
        "2     6   b      1\n",
        "3     2   a      0\n",
        "4     4   a      0\n",
        "5     5   a      0"
       ]
      }
     ],
     "prompt_number": 6
    },
    {
     "cell_type": "code",
     "collapsed": false,
     "input": [
      "#\uc5b4\ub5a4 column\uc744 \ubcd1\ud569\ud560 \uac83\uc778\uc9c0 \uba85\uc2dc\ud574\uc8fc\ub294 \uac83\uc774 \uc88b\uc74c\n",
      "pd.merge(df1,df2,on='key')"
     ],
     "language": "python",
     "metadata": {},
     "outputs": [
      {
       "html": [
        "<div style=\"max-width:1500px;overflow:auto;\">\n",
        "<table border=\"1\" class=\"dataframe\">\n",
        "  <thead>\n",
        "    <tr style=\"text-align: right;\">\n",
        "      <th></th>\n",
        "      <th>data</th>\n",
        "      <th>key</th>\n",
        "      <th>data2</th>\n",
        "    </tr>\n",
        "  </thead>\n",
        "  <tbody>\n",
        "    <tr>\n",
        "      <th>0</th>\n",
        "      <td>0</td>\n",
        "      <td>b</td>\n",
        "      <td>1</td>\n",
        "    </tr>\n",
        "    <tr>\n",
        "      <th>1</th>\n",
        "      <td>1</td>\n",
        "      <td>b</td>\n",
        "      <td>1</td>\n",
        "    </tr>\n",
        "    <tr>\n",
        "      <th>2</th>\n",
        "      <td>6</td>\n",
        "      <td>b</td>\n",
        "      <td>1</td>\n",
        "    </tr>\n",
        "    <tr>\n",
        "      <th>3</th>\n",
        "      <td>2</td>\n",
        "      <td>a</td>\n",
        "      <td>0</td>\n",
        "    </tr>\n",
        "    <tr>\n",
        "      <th>4</th>\n",
        "      <td>4</td>\n",
        "      <td>a</td>\n",
        "      <td>0</td>\n",
        "    </tr>\n",
        "    <tr>\n",
        "      <th>5</th>\n",
        "      <td>5</td>\n",
        "      <td>a</td>\n",
        "      <td>0</td>\n",
        "    </tr>\n",
        "  </tbody>\n",
        "</table>\n",
        "</div>"
       ],
       "metadata": {},
       "output_type": "pyout",
       "prompt_number": 7,
       "text": [
        "   data key  data2\n",
        "0     0   b      1\n",
        "1     1   b      1\n",
        "2     6   b      1\n",
        "3     2   a      0\n",
        "4     4   a      0\n",
        "5     5   a      0"
       ]
      }
     ],
     "prompt_number": 7
    },
    {
     "cell_type": "code",
     "collapsed": false,
     "input": [
      "df3 = DataFrame({'lkey':['b','b','a','c','a','a','b'],\n",
      "                 'data1':range(7)})"
     ],
     "language": "python",
     "metadata": {},
     "outputs": [],
     "prompt_number": 8
    },
    {
     "cell_type": "code",
     "collapsed": false,
     "input": [
      "df4 = DataFrame({'rkey':['a','b','d'],\n",
      "                 'data2':range(3)})"
     ],
     "language": "python",
     "metadata": {},
     "outputs": [],
     "prompt_number": 9
    },
    {
     "cell_type": "code",
     "collapsed": false,
     "input": [
      "df3"
     ],
     "language": "python",
     "metadata": {},
     "outputs": [
      {
       "html": [
        "<div style=\"max-width:1500px;overflow:auto;\">\n",
        "<table border=\"1\" class=\"dataframe\">\n",
        "  <thead>\n",
        "    <tr style=\"text-align: right;\">\n",
        "      <th></th>\n",
        "      <th>data1</th>\n",
        "      <th>lkey</th>\n",
        "    </tr>\n",
        "  </thead>\n",
        "  <tbody>\n",
        "    <tr>\n",
        "      <th>0</th>\n",
        "      <td>0</td>\n",
        "      <td>b</td>\n",
        "    </tr>\n",
        "    <tr>\n",
        "      <th>1</th>\n",
        "      <td>1</td>\n",
        "      <td>b</td>\n",
        "    </tr>\n",
        "    <tr>\n",
        "      <th>2</th>\n",
        "      <td>2</td>\n",
        "      <td>a</td>\n",
        "    </tr>\n",
        "    <tr>\n",
        "      <th>3</th>\n",
        "      <td>3</td>\n",
        "      <td>c</td>\n",
        "    </tr>\n",
        "    <tr>\n",
        "      <th>4</th>\n",
        "      <td>4</td>\n",
        "      <td>a</td>\n",
        "    </tr>\n",
        "    <tr>\n",
        "      <th>5</th>\n",
        "      <td>5</td>\n",
        "      <td>a</td>\n",
        "    </tr>\n",
        "    <tr>\n",
        "      <th>6</th>\n",
        "      <td>6</td>\n",
        "      <td>b</td>\n",
        "    </tr>\n",
        "  </tbody>\n",
        "</table>\n",
        "</div>"
       ],
       "metadata": {},
       "output_type": "pyout",
       "prompt_number": 10,
       "text": [
        "   data1 lkey\n",
        "0      0    b\n",
        "1      1    b\n",
        "2      2    a\n",
        "3      3    c\n",
        "4      4    a\n",
        "5      5    a\n",
        "6      6    b"
       ]
      }
     ],
     "prompt_number": 10
    },
    {
     "cell_type": "code",
     "collapsed": false,
     "input": [
      "df4"
     ],
     "language": "python",
     "metadata": {},
     "outputs": [
      {
       "html": [
        "<div style=\"max-width:1500px;overflow:auto;\">\n",
        "<table border=\"1\" class=\"dataframe\">\n",
        "  <thead>\n",
        "    <tr style=\"text-align: right;\">\n",
        "      <th></th>\n",
        "      <th>data2</th>\n",
        "      <th>rkey</th>\n",
        "    </tr>\n",
        "  </thead>\n",
        "  <tbody>\n",
        "    <tr>\n",
        "      <th>0</th>\n",
        "      <td>0</td>\n",
        "      <td>a</td>\n",
        "    </tr>\n",
        "    <tr>\n",
        "      <th>1</th>\n",
        "      <td>1</td>\n",
        "      <td>b</td>\n",
        "    </tr>\n",
        "    <tr>\n",
        "      <th>2</th>\n",
        "      <td>2</td>\n",
        "      <td>d</td>\n",
        "    </tr>\n",
        "  </tbody>\n",
        "</table>\n",
        "</div>"
       ],
       "metadata": {},
       "output_type": "pyout",
       "prompt_number": 11,
       "text": [
        "   data2 rkey\n",
        "0      0    a\n",
        "1      1    b\n",
        "2      2    d"
       ]
      }
     ],
     "prompt_number": 11
    },
    {
     "cell_type": "code",
     "collapsed": false,
     "input": [
      "#\uacf5\ud1b5\ub418\ub294 column\uc774 \uc5c6\uc73c\uba74 \uc9c0\uc815\ud574\uc8fc\uba74 \ub428\n",
      "pd.merge(df3,df4,left_on='lkey',right_on='rkey')\n",
      "#merge\ub294 \ub0b4\ubd80\uc870\uc778(inner join)\uc744 \uc218\ud589\ud558\uc5ec \uad50\uc9d1\ud569 \uacb0\uacfc\ub97c \ubc18\ud658"
     ],
     "language": "python",
     "metadata": {},
     "outputs": [
      {
       "html": [
        "<div style=\"max-width:1500px;overflow:auto;\">\n",
        "<table border=\"1\" class=\"dataframe\">\n",
        "  <thead>\n",
        "    <tr style=\"text-align: right;\">\n",
        "      <th></th>\n",
        "      <th>data1</th>\n",
        "      <th>lkey</th>\n",
        "      <th>data2</th>\n",
        "      <th>rkey</th>\n",
        "    </tr>\n",
        "  </thead>\n",
        "  <tbody>\n",
        "    <tr>\n",
        "      <th>0</th>\n",
        "      <td>0</td>\n",
        "      <td>b</td>\n",
        "      <td>1</td>\n",
        "      <td>b</td>\n",
        "    </tr>\n",
        "    <tr>\n",
        "      <th>1</th>\n",
        "      <td>1</td>\n",
        "      <td>b</td>\n",
        "      <td>1</td>\n",
        "      <td>b</td>\n",
        "    </tr>\n",
        "    <tr>\n",
        "      <th>2</th>\n",
        "      <td>6</td>\n",
        "      <td>b</td>\n",
        "      <td>1</td>\n",
        "      <td>b</td>\n",
        "    </tr>\n",
        "    <tr>\n",
        "      <th>3</th>\n",
        "      <td>2</td>\n",
        "      <td>a</td>\n",
        "      <td>0</td>\n",
        "      <td>a</td>\n",
        "    </tr>\n",
        "    <tr>\n",
        "      <th>4</th>\n",
        "      <td>4</td>\n",
        "      <td>a</td>\n",
        "      <td>0</td>\n",
        "      <td>a</td>\n",
        "    </tr>\n",
        "    <tr>\n",
        "      <th>5</th>\n",
        "      <td>5</td>\n",
        "      <td>a</td>\n",
        "      <td>0</td>\n",
        "      <td>a</td>\n",
        "    </tr>\n",
        "  </tbody>\n",
        "</table>\n",
        "</div>"
       ],
       "metadata": {},
       "output_type": "pyout",
       "prompt_number": 12,
       "text": [
        "   data1 lkey  data2 rkey\n",
        "0      0    b      1    b\n",
        "1      1    b      1    b\n",
        "2      6    b      1    b\n",
        "3      2    a      0    a\n",
        "4      4    a      0    a\n",
        "5      5    a      0    a"
       ]
      }
     ],
     "prompt_number": 12
    },
    {
     "cell_type": "code",
     "collapsed": false,
     "input": [
      "print df1\n",
      "print df2"
     ],
     "language": "python",
     "metadata": {},
     "outputs": [
      {
       "output_type": "stream",
       "stream": "stdout",
       "text": [
        "   data key\n",
        "0     0   b\n",
        "1     1   b\n",
        "2     2   a\n",
        "3     3   c\n",
        "4     4   a\n",
        "5     5   a\n",
        "6     6   b\n",
        "   data2 key\n",
        "0      0   a\n",
        "1      1   b\n",
        "2      2   d\n"
       ]
      }
     ],
     "prompt_number": 13
    },
    {
     "cell_type": "code",
     "collapsed": false,
     "input": [
      "#how \uc778\uc790\ub85c 'left','right','outer'\ub97c \ub118\uaca8\uc11c \uac01\uac01 \uc67c\ucabd \uc6b0\uc120 \uc678\ubd80\uc870\uc778, \uc624\ub978\ucabd \uc6b0\uc120 \uc678\ubd80\uc870\uc778, \uc644\uc804 \uc678\ubd80\uc870\uc778\uc744 \uc218\ud589\ud55c\ub2e4.\n",
      "pd.merge(df1,df2,how='outer')"
     ],
     "language": "python",
     "metadata": {},
     "outputs": [
      {
       "html": [
        "<div style=\"max-width:1500px;overflow:auto;\">\n",
        "<table border=\"1\" class=\"dataframe\">\n",
        "  <thead>\n",
        "    <tr style=\"text-align: right;\">\n",
        "      <th></th>\n",
        "      <th>data</th>\n",
        "      <th>key</th>\n",
        "      <th>data2</th>\n",
        "    </tr>\n",
        "  </thead>\n",
        "  <tbody>\n",
        "    <tr>\n",
        "      <th>0</th>\n",
        "      <td>0</td>\n",
        "      <td>b</td>\n",
        "      <td>1</td>\n",
        "    </tr>\n",
        "    <tr>\n",
        "      <th>1</th>\n",
        "      <td>1</td>\n",
        "      <td>b</td>\n",
        "      <td>1</td>\n",
        "    </tr>\n",
        "    <tr>\n",
        "      <th>2</th>\n",
        "      <td>6</td>\n",
        "      <td>b</td>\n",
        "      <td>1</td>\n",
        "    </tr>\n",
        "    <tr>\n",
        "      <th>3</th>\n",
        "      <td>2</td>\n",
        "      <td>a</td>\n",
        "      <td>0</td>\n",
        "    </tr>\n",
        "    <tr>\n",
        "      <th>4</th>\n",
        "      <td>4</td>\n",
        "      <td>a</td>\n",
        "      <td>0</td>\n",
        "    </tr>\n",
        "    <tr>\n",
        "      <th>5</th>\n",
        "      <td>5</td>\n",
        "      <td>a</td>\n",
        "      <td>0</td>\n",
        "    </tr>\n",
        "    <tr>\n",
        "      <th>6</th>\n",
        "      <td>3</td>\n",
        "      <td>c</td>\n",
        "      <td>NaN</td>\n",
        "    </tr>\n",
        "    <tr>\n",
        "      <th>7</th>\n",
        "      <td>NaN</td>\n",
        "      <td>d</td>\n",
        "      <td>2</td>\n",
        "    </tr>\n",
        "  </tbody>\n",
        "</table>\n",
        "</div>"
       ],
       "metadata": {},
       "output_type": "pyout",
       "prompt_number": 14,
       "text": [
        "   data key  data2\n",
        "0     0   b      1\n",
        "1     1   b      1\n",
        "2     6   b      1\n",
        "3     2   a      0\n",
        "4     4   a      0\n",
        "5     5   a      0\n",
        "6     3   c    NaN\n",
        "7   NaN   d      2"
       ]
      }
     ],
     "prompt_number": 14
    },
    {
     "cell_type": "code",
     "collapsed": false,
     "input": [
      "#\uc67c\ucabd\uc778\uc790(df1\uc744 \uc6b0\uc120\uc21c\uc704\ub85c \ud55c \uc678\ubd80\uc870\uc778\uc744 \uc218\ud589)\n",
      "pd.merge(df1,df2,how='left')"
     ],
     "language": "python",
     "metadata": {},
     "outputs": [
      {
       "html": [
        "<div style=\"max-width:1500px;overflow:auto;\">\n",
        "<table border=\"1\" class=\"dataframe\">\n",
        "  <thead>\n",
        "    <tr style=\"text-align: right;\">\n",
        "      <th></th>\n",
        "      <th>data</th>\n",
        "      <th>key</th>\n",
        "      <th>data2</th>\n",
        "    </tr>\n",
        "  </thead>\n",
        "  <tbody>\n",
        "    <tr>\n",
        "      <th>0</th>\n",
        "      <td>0</td>\n",
        "      <td>b</td>\n",
        "      <td>1</td>\n",
        "    </tr>\n",
        "    <tr>\n",
        "      <th>1</th>\n",
        "      <td>1</td>\n",
        "      <td>b</td>\n",
        "      <td>1</td>\n",
        "    </tr>\n",
        "    <tr>\n",
        "      <th>2</th>\n",
        "      <td>2</td>\n",
        "      <td>a</td>\n",
        "      <td>0</td>\n",
        "    </tr>\n",
        "    <tr>\n",
        "      <th>3</th>\n",
        "      <td>3</td>\n",
        "      <td>c</td>\n",
        "      <td>NaN</td>\n",
        "    </tr>\n",
        "    <tr>\n",
        "      <th>4</th>\n",
        "      <td>4</td>\n",
        "      <td>a</td>\n",
        "      <td>0</td>\n",
        "    </tr>\n",
        "    <tr>\n",
        "      <th>5</th>\n",
        "      <td>5</td>\n",
        "      <td>a</td>\n",
        "      <td>0</td>\n",
        "    </tr>\n",
        "    <tr>\n",
        "      <th>6</th>\n",
        "      <td>6</td>\n",
        "      <td>b</td>\n",
        "      <td>1</td>\n",
        "    </tr>\n",
        "  </tbody>\n",
        "</table>\n",
        "</div>"
       ],
       "metadata": {},
       "output_type": "pyout",
       "prompt_number": 15,
       "text": [
        "   data key  data2\n",
        "0     0   b      1\n",
        "1     1   b      1\n",
        "2     2   a      0\n",
        "3     3   c    NaN\n",
        "4     4   a      0\n",
        "5     5   a      0\n",
        "6     6   b      1"
       ]
      }
     ],
     "prompt_number": 15
    },
    {
     "cell_type": "code",
     "collapsed": false,
     "input": [
      "df1 = DataFrame({'key':['b','b','a','c','a','b'],\n",
      "                 'data1':range(6)})\n",
      "df2 = DataFrame({'key':['a','b','a','b','d'],\n",
      "                 'data2':range(5)})"
     ],
     "language": "python",
     "metadata": {},
     "outputs": [],
     "prompt_number": 16
    },
    {
     "cell_type": "code",
     "collapsed": false,
     "input": [
      "df1"
     ],
     "language": "python",
     "metadata": {},
     "outputs": [
      {
       "html": [
        "<div style=\"max-width:1500px;overflow:auto;\">\n",
        "<table border=\"1\" class=\"dataframe\">\n",
        "  <thead>\n",
        "    <tr style=\"text-align: right;\">\n",
        "      <th></th>\n",
        "      <th>data1</th>\n",
        "      <th>key</th>\n",
        "    </tr>\n",
        "  </thead>\n",
        "  <tbody>\n",
        "    <tr>\n",
        "      <th>0</th>\n",
        "      <td>0</td>\n",
        "      <td>b</td>\n",
        "    </tr>\n",
        "    <tr>\n",
        "      <th>1</th>\n",
        "      <td>1</td>\n",
        "      <td>b</td>\n",
        "    </tr>\n",
        "    <tr>\n",
        "      <th>2</th>\n",
        "      <td>2</td>\n",
        "      <td>a</td>\n",
        "    </tr>\n",
        "    <tr>\n",
        "      <th>3</th>\n",
        "      <td>3</td>\n",
        "      <td>c</td>\n",
        "    </tr>\n",
        "    <tr>\n",
        "      <th>4</th>\n",
        "      <td>4</td>\n",
        "      <td>a</td>\n",
        "    </tr>\n",
        "    <tr>\n",
        "      <th>5</th>\n",
        "      <td>5</td>\n",
        "      <td>b</td>\n",
        "    </tr>\n",
        "  </tbody>\n",
        "</table>\n",
        "</div>"
       ],
       "metadata": {},
       "output_type": "pyout",
       "prompt_number": 17,
       "text": [
        "   data1 key\n",
        "0      0   b\n",
        "1      1   b\n",
        "2      2   a\n",
        "3      3   c\n",
        "4      4   a\n",
        "5      5   b"
       ]
      }
     ],
     "prompt_number": 17
    },
    {
     "cell_type": "code",
     "collapsed": false,
     "input": [
      "df2"
     ],
     "language": "python",
     "metadata": {},
     "outputs": [
      {
       "html": [
        "<div style=\"max-width:1500px;overflow:auto;\">\n",
        "<table border=\"1\" class=\"dataframe\">\n",
        "  <thead>\n",
        "    <tr style=\"text-align: right;\">\n",
        "      <th></th>\n",
        "      <th>data2</th>\n",
        "      <th>key</th>\n",
        "    </tr>\n",
        "  </thead>\n",
        "  <tbody>\n",
        "    <tr>\n",
        "      <th>0</th>\n",
        "      <td>0</td>\n",
        "      <td>a</td>\n",
        "    </tr>\n",
        "    <tr>\n",
        "      <th>1</th>\n",
        "      <td>1</td>\n",
        "      <td>b</td>\n",
        "    </tr>\n",
        "    <tr>\n",
        "      <th>2</th>\n",
        "      <td>2</td>\n",
        "      <td>a</td>\n",
        "    </tr>\n",
        "    <tr>\n",
        "      <th>3</th>\n",
        "      <td>3</td>\n",
        "      <td>b</td>\n",
        "    </tr>\n",
        "    <tr>\n",
        "      <th>4</th>\n",
        "      <td>4</td>\n",
        "      <td>d</td>\n",
        "    </tr>\n",
        "  </tbody>\n",
        "</table>\n",
        "</div>"
       ],
       "metadata": {},
       "output_type": "pyout",
       "prompt_number": 18,
       "text": [
        "   data2 key\n",
        "0      0   a\n",
        "1      1   b\n",
        "2      2   a\n",
        "3      3   b\n",
        "4      4   d"
       ]
      }
     ],
     "prompt_number": 18
    },
    {
     "cell_type": "code",
     "collapsed": false,
     "input": [
      "pd.merge(df1,df2,on='key',how='left')"
     ],
     "language": "python",
     "metadata": {},
     "outputs": [
      {
       "html": [
        "<div style=\"max-width:1500px;overflow:auto;\">\n",
        "<table border=\"1\" class=\"dataframe\">\n",
        "  <thead>\n",
        "    <tr style=\"text-align: right;\">\n",
        "      <th></th>\n",
        "      <th>data1</th>\n",
        "      <th>key</th>\n",
        "      <th>data2</th>\n",
        "    </tr>\n",
        "  </thead>\n",
        "  <tbody>\n",
        "    <tr>\n",
        "      <th>0</th>\n",
        "      <td>0</td>\n",
        "      <td>b</td>\n",
        "      <td>1</td>\n",
        "    </tr>\n",
        "    <tr>\n",
        "      <th>1</th>\n",
        "      <td>0</td>\n",
        "      <td>b</td>\n",
        "      <td>3</td>\n",
        "    </tr>\n",
        "    <tr>\n",
        "      <th>2</th>\n",
        "      <td>1</td>\n",
        "      <td>b</td>\n",
        "      <td>1</td>\n",
        "    </tr>\n",
        "    <tr>\n",
        "      <th>3</th>\n",
        "      <td>1</td>\n",
        "      <td>b</td>\n",
        "      <td>3</td>\n",
        "    </tr>\n",
        "    <tr>\n",
        "      <th>4</th>\n",
        "      <td>2</td>\n",
        "      <td>a</td>\n",
        "      <td>0</td>\n",
        "    </tr>\n",
        "    <tr>\n",
        "      <th>5</th>\n",
        "      <td>2</td>\n",
        "      <td>a</td>\n",
        "      <td>2</td>\n",
        "    </tr>\n",
        "    <tr>\n",
        "      <th>6</th>\n",
        "      <td>3</td>\n",
        "      <td>c</td>\n",
        "      <td>NaN</td>\n",
        "    </tr>\n",
        "    <tr>\n",
        "      <th>7</th>\n",
        "      <td>4</td>\n",
        "      <td>a</td>\n",
        "      <td>0</td>\n",
        "    </tr>\n",
        "    <tr>\n",
        "      <th>8</th>\n",
        "      <td>4</td>\n",
        "      <td>a</td>\n",
        "      <td>2</td>\n",
        "    </tr>\n",
        "    <tr>\n",
        "      <th>9</th>\n",
        "      <td>5</td>\n",
        "      <td>b</td>\n",
        "      <td>1</td>\n",
        "    </tr>\n",
        "    <tr>\n",
        "      <th>10</th>\n",
        "      <td>5</td>\n",
        "      <td>b</td>\n",
        "      <td>3</td>\n",
        "    </tr>\n",
        "  </tbody>\n",
        "</table>\n",
        "</div>"
       ],
       "metadata": {},
       "output_type": "pyout",
       "prompt_number": 19,
       "text": [
        "    data1 key  data2\n",
        "0       0   b      1\n",
        "1       0   b      3\n",
        "2       1   b      1\n",
        "3       1   b      3\n",
        "4       2   a      0\n",
        "5       2   a      2\n",
        "6       3   c    NaN\n",
        "7       4   a      0\n",
        "8       4   a      2\n",
        "9       5   b      1\n",
        "10      5   b      3"
       ]
      }
     ],
     "prompt_number": 19
    },
    {
     "cell_type": "code",
     "collapsed": false,
     "input": [
      "#how\uc5d0 'inner'\ub97c \ub118\uae30\uba74 Cartesian_product(\ub370\uce74\ub974\ud2b8 \uacf1)\uc744 \ubc18\ud658\n",
      "pd.merge(df1,df2,how='inner')"
     ],
     "language": "python",
     "metadata": {},
     "outputs": [
      {
       "html": [
        "<div style=\"max-width:1500px;overflow:auto;\">\n",
        "<table border=\"1\" class=\"dataframe\">\n",
        "  <thead>\n",
        "    <tr style=\"text-align: right;\">\n",
        "      <th></th>\n",
        "      <th>data1</th>\n",
        "      <th>key</th>\n",
        "      <th>data2</th>\n",
        "    </tr>\n",
        "  </thead>\n",
        "  <tbody>\n",
        "    <tr>\n",
        "      <th>0</th>\n",
        "      <td>0</td>\n",
        "      <td>b</td>\n",
        "      <td>1</td>\n",
        "    </tr>\n",
        "    <tr>\n",
        "      <th>1</th>\n",
        "      <td>0</td>\n",
        "      <td>b</td>\n",
        "      <td>3</td>\n",
        "    </tr>\n",
        "    <tr>\n",
        "      <th>2</th>\n",
        "      <td>1</td>\n",
        "      <td>b</td>\n",
        "      <td>1</td>\n",
        "    </tr>\n",
        "    <tr>\n",
        "      <th>3</th>\n",
        "      <td>1</td>\n",
        "      <td>b</td>\n",
        "      <td>3</td>\n",
        "    </tr>\n",
        "    <tr>\n",
        "      <th>4</th>\n",
        "      <td>5</td>\n",
        "      <td>b</td>\n",
        "      <td>1</td>\n",
        "    </tr>\n",
        "    <tr>\n",
        "      <th>5</th>\n",
        "      <td>5</td>\n",
        "      <td>b</td>\n",
        "      <td>3</td>\n",
        "    </tr>\n",
        "    <tr>\n",
        "      <th>6</th>\n",
        "      <td>2</td>\n",
        "      <td>a</td>\n",
        "      <td>0</td>\n",
        "    </tr>\n",
        "    <tr>\n",
        "      <th>7</th>\n",
        "      <td>2</td>\n",
        "      <td>a</td>\n",
        "      <td>2</td>\n",
        "    </tr>\n",
        "    <tr>\n",
        "      <th>8</th>\n",
        "      <td>4</td>\n",
        "      <td>a</td>\n",
        "      <td>0</td>\n",
        "    </tr>\n",
        "    <tr>\n",
        "      <th>9</th>\n",
        "      <td>4</td>\n",
        "      <td>a</td>\n",
        "      <td>2</td>\n",
        "    </tr>\n",
        "  </tbody>\n",
        "</table>\n",
        "</div>"
       ],
       "metadata": {},
       "output_type": "pyout",
       "prompt_number": 20,
       "text": [
        "   data1 key  data2\n",
        "0      0   b      1\n",
        "1      0   b      3\n",
        "2      1   b      1\n",
        "3      1   b      3\n",
        "4      5   b      1\n",
        "5      5   b      3\n",
        "6      2   a      0\n",
        "7      2   a      2\n",
        "8      4   a      0\n",
        "9      4   a      2"
       ]
      }
     ],
     "prompt_number": 20
    },
    {
     "cell_type": "code",
     "collapsed": false,
     "input": [
      "left = DataFrame({'key1':['foo','foo','bar'],\n",
      "                  'key2':['one','two','one'],\n",
      "                  'lval':[1,2,3]})"
     ],
     "language": "python",
     "metadata": {},
     "outputs": [],
     "prompt_number": 21
    },
    {
     "cell_type": "code",
     "collapsed": false,
     "input": [
      "left"
     ],
     "language": "python",
     "metadata": {},
     "outputs": [
      {
       "html": [
        "<div style=\"max-width:1500px;overflow:auto;\">\n",
        "<table border=\"1\" class=\"dataframe\">\n",
        "  <thead>\n",
        "    <tr style=\"text-align: right;\">\n",
        "      <th></th>\n",
        "      <th>key1</th>\n",
        "      <th>key2</th>\n",
        "      <th>lval</th>\n",
        "    </tr>\n",
        "  </thead>\n",
        "  <tbody>\n",
        "    <tr>\n",
        "      <th>0</th>\n",
        "      <td>foo</td>\n",
        "      <td>one</td>\n",
        "      <td>1</td>\n",
        "    </tr>\n",
        "    <tr>\n",
        "      <th>1</th>\n",
        "      <td>foo</td>\n",
        "      <td>two</td>\n",
        "      <td>2</td>\n",
        "    </tr>\n",
        "    <tr>\n",
        "      <th>2</th>\n",
        "      <td>bar</td>\n",
        "      <td>one</td>\n",
        "      <td>3</td>\n",
        "    </tr>\n",
        "  </tbody>\n",
        "</table>\n",
        "</div>"
       ],
       "metadata": {},
       "output_type": "pyout",
       "prompt_number": 22,
       "text": [
        "  key1 key2  lval\n",
        "0  foo  one     1\n",
        "1  foo  two     2\n",
        "2  bar  one     3"
       ]
      }
     ],
     "prompt_number": 22
    },
    {
     "cell_type": "code",
     "collapsed": false,
     "input": [
      "right = DataFrame({'key1':['foo','foo','bar','bar'],\n",
      "                  'key2':['one','one','one','two'],\n",
      "                  'rval':[4,5,6,7]})"
     ],
     "language": "python",
     "metadata": {},
     "outputs": [],
     "prompt_number": 23
    },
    {
     "cell_type": "code",
     "collapsed": false,
     "input": [
      "right"
     ],
     "language": "python",
     "metadata": {},
     "outputs": [
      {
       "html": [
        "<div style=\"max-width:1500px;overflow:auto;\">\n",
        "<table border=\"1\" class=\"dataframe\">\n",
        "  <thead>\n",
        "    <tr style=\"text-align: right;\">\n",
        "      <th></th>\n",
        "      <th>key1</th>\n",
        "      <th>key2</th>\n",
        "      <th>rval</th>\n",
        "    </tr>\n",
        "  </thead>\n",
        "  <tbody>\n",
        "    <tr>\n",
        "      <th>0</th>\n",
        "      <td>foo</td>\n",
        "      <td>one</td>\n",
        "      <td>4</td>\n",
        "    </tr>\n",
        "    <tr>\n",
        "      <th>1</th>\n",
        "      <td>foo</td>\n",
        "      <td>one</td>\n",
        "      <td>5</td>\n",
        "    </tr>\n",
        "    <tr>\n",
        "      <th>2</th>\n",
        "      <td>bar</td>\n",
        "      <td>one</td>\n",
        "      <td>6</td>\n",
        "    </tr>\n",
        "    <tr>\n",
        "      <th>3</th>\n",
        "      <td>bar</td>\n",
        "      <td>two</td>\n",
        "      <td>7</td>\n",
        "    </tr>\n",
        "  </tbody>\n",
        "</table>\n",
        "</div>"
       ],
       "metadata": {},
       "output_type": "pyout",
       "prompt_number": 24,
       "text": [
        "  key1 key2  rval\n",
        "0  foo  one     4\n",
        "1  foo  one     5\n",
        "2  bar  one     6\n",
        "3  bar  two     7"
       ]
      }
     ],
     "prompt_number": 24
    },
    {
     "cell_type": "code",
     "collapsed": false,
     "input": [
      "pd.merge(left,right,on=['key1','key2'],how='outer')"
     ],
     "language": "python",
     "metadata": {},
     "outputs": [
      {
       "html": [
        "<div style=\"max-width:1500px;overflow:auto;\">\n",
        "<table border=\"1\" class=\"dataframe\">\n",
        "  <thead>\n",
        "    <tr style=\"text-align: right;\">\n",
        "      <th></th>\n",
        "      <th>key1</th>\n",
        "      <th>key2</th>\n",
        "      <th>lval</th>\n",
        "      <th>rval</th>\n",
        "    </tr>\n",
        "  </thead>\n",
        "  <tbody>\n",
        "    <tr>\n",
        "      <th>0</th>\n",
        "      <td>foo</td>\n",
        "      <td>one</td>\n",
        "      <td>1</td>\n",
        "      <td>4</td>\n",
        "    </tr>\n",
        "    <tr>\n",
        "      <th>1</th>\n",
        "      <td>foo</td>\n",
        "      <td>one</td>\n",
        "      <td>1</td>\n",
        "      <td>5</td>\n",
        "    </tr>\n",
        "    <tr>\n",
        "      <th>2</th>\n",
        "      <td>foo</td>\n",
        "      <td>two</td>\n",
        "      <td>2</td>\n",
        "      <td>NaN</td>\n",
        "    </tr>\n",
        "    <tr>\n",
        "      <th>3</th>\n",
        "      <td>bar</td>\n",
        "      <td>one</td>\n",
        "      <td>3</td>\n",
        "      <td>6</td>\n",
        "    </tr>\n",
        "    <tr>\n",
        "      <th>4</th>\n",
        "      <td>bar</td>\n",
        "      <td>two</td>\n",
        "      <td>NaN</td>\n",
        "      <td>7</td>\n",
        "    </tr>\n",
        "  </tbody>\n",
        "</table>\n",
        "</div>"
       ],
       "metadata": {},
       "output_type": "pyout",
       "prompt_number": 25,
       "text": [
        "  key1 key2  lval  rval\n",
        "0  foo  one     1     4\n",
        "1  foo  one     1     5\n",
        "2  foo  two     2   NaN\n",
        "3  bar  one     3     6\n",
        "4  bar  two   NaN     7"
       ]
      }
     ],
     "prompt_number": 25
    },
    {
     "cell_type": "code",
     "collapsed": false,
     "input": [
      "pd.merge(left,right,on='key1')"
     ],
     "language": "python",
     "metadata": {},
     "outputs": [
      {
       "html": [
        "<div style=\"max-width:1500px;overflow:auto;\">\n",
        "<table border=\"1\" class=\"dataframe\">\n",
        "  <thead>\n",
        "    <tr style=\"text-align: right;\">\n",
        "      <th></th>\n",
        "      <th>key1</th>\n",
        "      <th>key2_x</th>\n",
        "      <th>lval</th>\n",
        "      <th>key2_y</th>\n",
        "      <th>rval</th>\n",
        "    </tr>\n",
        "  </thead>\n",
        "  <tbody>\n",
        "    <tr>\n",
        "      <th>0</th>\n",
        "      <td>foo</td>\n",
        "      <td>one</td>\n",
        "      <td>1</td>\n",
        "      <td>one</td>\n",
        "      <td>4</td>\n",
        "    </tr>\n",
        "    <tr>\n",
        "      <th>1</th>\n",
        "      <td>foo</td>\n",
        "      <td>one</td>\n",
        "      <td>1</td>\n",
        "      <td>one</td>\n",
        "      <td>5</td>\n",
        "    </tr>\n",
        "    <tr>\n",
        "      <th>2</th>\n",
        "      <td>foo</td>\n",
        "      <td>two</td>\n",
        "      <td>2</td>\n",
        "      <td>one</td>\n",
        "      <td>4</td>\n",
        "    </tr>\n",
        "    <tr>\n",
        "      <th>3</th>\n",
        "      <td>foo</td>\n",
        "      <td>two</td>\n",
        "      <td>2</td>\n",
        "      <td>one</td>\n",
        "      <td>5</td>\n",
        "    </tr>\n",
        "    <tr>\n",
        "      <th>4</th>\n",
        "      <td>bar</td>\n",
        "      <td>one</td>\n",
        "      <td>3</td>\n",
        "      <td>one</td>\n",
        "      <td>6</td>\n",
        "    </tr>\n",
        "    <tr>\n",
        "      <th>5</th>\n",
        "      <td>bar</td>\n",
        "      <td>one</td>\n",
        "      <td>3</td>\n",
        "      <td>two</td>\n",
        "      <td>7</td>\n",
        "    </tr>\n",
        "  </tbody>\n",
        "</table>\n",
        "</div>"
       ],
       "metadata": {},
       "output_type": "pyout",
       "prompt_number": 26,
       "text": [
        "  key1 key2_x  lval key2_y  rval\n",
        "0  foo    one     1    one     4\n",
        "1  foo    one     1    one     5\n",
        "2  foo    two     2    one     4\n",
        "3  foo    two     2    one     5\n",
        "4  bar    one     3    one     6\n",
        "5  bar    one     3    two     7"
       ]
      }
     ],
     "prompt_number": 26
    },
    {
     "cell_type": "code",
     "collapsed": false,
     "input": [
      "#suffixes\ub294 column\uc774\ub984\ub4a4\uc5d0 \ubd99\uc77c \ubb38\uc790\uc5f4\uc758 \ud29c\ud50c\n",
      "pd.merge(left,right,on='key1',suffixes=('_left','_right'))"
     ],
     "language": "python",
     "metadata": {},
     "outputs": [
      {
       "html": [
        "<div style=\"max-width:1500px;overflow:auto;\">\n",
        "<table border=\"1\" class=\"dataframe\">\n",
        "  <thead>\n",
        "    <tr style=\"text-align: right;\">\n",
        "      <th></th>\n",
        "      <th>key1</th>\n",
        "      <th>key2_left</th>\n",
        "      <th>lval</th>\n",
        "      <th>key2_right</th>\n",
        "      <th>rval</th>\n",
        "    </tr>\n",
        "  </thead>\n",
        "  <tbody>\n",
        "    <tr>\n",
        "      <th>0</th>\n",
        "      <td>foo</td>\n",
        "      <td>one</td>\n",
        "      <td>1</td>\n",
        "      <td>one</td>\n",
        "      <td>4</td>\n",
        "    </tr>\n",
        "    <tr>\n",
        "      <th>1</th>\n",
        "      <td>foo</td>\n",
        "      <td>one</td>\n",
        "      <td>1</td>\n",
        "      <td>one</td>\n",
        "      <td>5</td>\n",
        "    </tr>\n",
        "    <tr>\n",
        "      <th>2</th>\n",
        "      <td>foo</td>\n",
        "      <td>two</td>\n",
        "      <td>2</td>\n",
        "      <td>one</td>\n",
        "      <td>4</td>\n",
        "    </tr>\n",
        "    <tr>\n",
        "      <th>3</th>\n",
        "      <td>foo</td>\n",
        "      <td>two</td>\n",
        "      <td>2</td>\n",
        "      <td>one</td>\n",
        "      <td>5</td>\n",
        "    </tr>\n",
        "    <tr>\n",
        "      <th>4</th>\n",
        "      <td>bar</td>\n",
        "      <td>one</td>\n",
        "      <td>3</td>\n",
        "      <td>one</td>\n",
        "      <td>6</td>\n",
        "    </tr>\n",
        "    <tr>\n",
        "      <th>5</th>\n",
        "      <td>bar</td>\n",
        "      <td>one</td>\n",
        "      <td>3</td>\n",
        "      <td>two</td>\n",
        "      <td>7</td>\n",
        "    </tr>\n",
        "  </tbody>\n",
        "</table>\n",
        "</div>"
       ],
       "metadata": {},
       "output_type": "pyout",
       "prompt_number": 27,
       "text": [
        "  key1 key2_left  lval key2_right  rval\n",
        "0  foo       one     1        one     4\n",
        "1  foo       one     1        one     5\n",
        "2  foo       two     2        one     4\n",
        "3  foo       two     2        one     5\n",
        "4  bar       one     3        one     6\n",
        "5  bar       one     3        two     7"
       ]
      }
     ],
     "prompt_number": 27
    },
    {
     "cell_type": "markdown",
     "metadata": {},
     "source": [
      "###7.1.2 \uc0c9\uc778 \uba38\uc9c0\ud558\uae30\n",
      "- \uba38\uc9c0\ud558\ub824\ub294 \ud0a4\uac00 DataFrame\uc758 \uc0c9\uc778\uc77c \uc218 \uc788\ub2e4. \uc774\ub7f4\uacbd\uc6b0 left_index=True,right_index=True \uc635\uc158\uc744 \uc9c0\uc815"
     ]
    },
    {
     "cell_type": "code",
     "collapsed": false,
     "input": [
      "left1= DataFrame({'key':['a','b','a','a','b','c'],\n",
      "                  'value':range(6)})"
     ],
     "language": "python",
     "metadata": {},
     "outputs": [],
     "prompt_number": 28
    },
    {
     "cell_type": "code",
     "collapsed": false,
     "input": [
      "right1 = DataFrame({'group_val':[3.5,7]}, index=['a','b'])"
     ],
     "language": "python",
     "metadata": {},
     "outputs": [],
     "prompt_number": 29
    },
    {
     "cell_type": "code",
     "collapsed": false,
     "input": [
      "left1"
     ],
     "language": "python",
     "metadata": {},
     "outputs": [
      {
       "html": [
        "<div style=\"max-width:1500px;overflow:auto;\">\n",
        "<table border=\"1\" class=\"dataframe\">\n",
        "  <thead>\n",
        "    <tr style=\"text-align: right;\">\n",
        "      <th></th>\n",
        "      <th>key</th>\n",
        "      <th>value</th>\n",
        "    </tr>\n",
        "  </thead>\n",
        "  <tbody>\n",
        "    <tr>\n",
        "      <th>0</th>\n",
        "      <td>a</td>\n",
        "      <td>0</td>\n",
        "    </tr>\n",
        "    <tr>\n",
        "      <th>1</th>\n",
        "      <td>b</td>\n",
        "      <td>1</td>\n",
        "    </tr>\n",
        "    <tr>\n",
        "      <th>2</th>\n",
        "      <td>a</td>\n",
        "      <td>2</td>\n",
        "    </tr>\n",
        "    <tr>\n",
        "      <th>3</th>\n",
        "      <td>a</td>\n",
        "      <td>3</td>\n",
        "    </tr>\n",
        "    <tr>\n",
        "      <th>4</th>\n",
        "      <td>b</td>\n",
        "      <td>4</td>\n",
        "    </tr>\n",
        "    <tr>\n",
        "      <th>5</th>\n",
        "      <td>c</td>\n",
        "      <td>5</td>\n",
        "    </tr>\n",
        "  </tbody>\n",
        "</table>\n",
        "</div>"
       ],
       "metadata": {},
       "output_type": "pyout",
       "prompt_number": 30,
       "text": [
        "  key  value\n",
        "0   a      0\n",
        "1   b      1\n",
        "2   a      2\n",
        "3   a      3\n",
        "4   b      4\n",
        "5   c      5"
       ]
      }
     ],
     "prompt_number": 30
    },
    {
     "cell_type": "code",
     "collapsed": false,
     "input": [
      "right1"
     ],
     "language": "python",
     "metadata": {},
     "outputs": [
      {
       "html": [
        "<div style=\"max-width:1500px;overflow:auto;\">\n",
        "<table border=\"1\" class=\"dataframe\">\n",
        "  <thead>\n",
        "    <tr style=\"text-align: right;\">\n",
        "      <th></th>\n",
        "      <th>group_val</th>\n",
        "    </tr>\n",
        "  </thead>\n",
        "  <tbody>\n",
        "    <tr>\n",
        "      <th>a</th>\n",
        "      <td>3.5</td>\n",
        "    </tr>\n",
        "    <tr>\n",
        "      <th>b</th>\n",
        "      <td>7.0</td>\n",
        "    </tr>\n",
        "  </tbody>\n",
        "</table>\n",
        "</div>"
       ],
       "metadata": {},
       "output_type": "pyout",
       "prompt_number": 31,
       "text": [
        "   group_val\n",
        "a        3.5\n",
        "b        7.0"
       ]
      }
     ],
     "prompt_number": 31
    },
    {
     "cell_type": "code",
     "collapsed": false,
     "input": [
      "#left\uc758 column\uc774 right\uc758 index\ub85c join\ud560\ub54c\n",
      "pd.merge(left1,right1,left_on='key',right_index=True)"
     ],
     "language": "python",
     "metadata": {},
     "outputs": [
      {
       "html": [
        "<div style=\"max-width:1500px;overflow:auto;\">\n",
        "<table border=\"1\" class=\"dataframe\">\n",
        "  <thead>\n",
        "    <tr style=\"text-align: right;\">\n",
        "      <th></th>\n",
        "      <th>key</th>\n",
        "      <th>value</th>\n",
        "      <th>group_val</th>\n",
        "    </tr>\n",
        "  </thead>\n",
        "  <tbody>\n",
        "    <tr>\n",
        "      <th>0</th>\n",
        "      <td>a</td>\n",
        "      <td>0</td>\n",
        "      <td>3.5</td>\n",
        "    </tr>\n",
        "    <tr>\n",
        "      <th>2</th>\n",
        "      <td>a</td>\n",
        "      <td>2</td>\n",
        "      <td>3.5</td>\n",
        "    </tr>\n",
        "    <tr>\n",
        "      <th>3</th>\n",
        "      <td>a</td>\n",
        "      <td>3</td>\n",
        "      <td>3.5</td>\n",
        "    </tr>\n",
        "    <tr>\n",
        "      <th>1</th>\n",
        "      <td>b</td>\n",
        "      <td>1</td>\n",
        "      <td>7.0</td>\n",
        "    </tr>\n",
        "    <tr>\n",
        "      <th>4</th>\n",
        "      <td>b</td>\n",
        "      <td>4</td>\n",
        "      <td>7.0</td>\n",
        "    </tr>\n",
        "  </tbody>\n",
        "</table>\n",
        "</div>"
       ],
       "metadata": {},
       "output_type": "pyout",
       "prompt_number": 32,
       "text": [
        "  key  value  group_val\n",
        "0   a      0        3.5\n",
        "2   a      2        3.5\n",
        "3   a      3        3.5\n",
        "1   b      1        7.0\n",
        "4   b      4        7.0"
       ]
      }
     ],
     "prompt_number": 32
    },
    {
     "cell_type": "code",
     "collapsed": false,
     "input": [
      "#how\uc5d0 'outer'\uc778\uc790\ub97c \ub118\uaca8\uc11c \uad50\uc9d1\ud569\uc774 \uc544\ub2cc \ud569\uc9d1\ud569\uc744 \uad6c\ud560 \uc218\ub3c4 \uc788\ub2e4.\n",
      "pd.merge(left1,right1,left_on='key',right_index=True,how='outer')"
     ],
     "language": "python",
     "metadata": {},
     "outputs": [
      {
       "html": [
        "<div style=\"max-width:1500px;overflow:auto;\">\n",
        "<table border=\"1\" class=\"dataframe\">\n",
        "  <thead>\n",
        "    <tr style=\"text-align: right;\">\n",
        "      <th></th>\n",
        "      <th>key</th>\n",
        "      <th>value</th>\n",
        "      <th>group_val</th>\n",
        "    </tr>\n",
        "  </thead>\n",
        "  <tbody>\n",
        "    <tr>\n",
        "      <th>0</th>\n",
        "      <td>a</td>\n",
        "      <td>0</td>\n",
        "      <td>3.5</td>\n",
        "    </tr>\n",
        "    <tr>\n",
        "      <th>2</th>\n",
        "      <td>a</td>\n",
        "      <td>2</td>\n",
        "      <td>3.5</td>\n",
        "    </tr>\n",
        "    <tr>\n",
        "      <th>3</th>\n",
        "      <td>a</td>\n",
        "      <td>3</td>\n",
        "      <td>3.5</td>\n",
        "    </tr>\n",
        "    <tr>\n",
        "      <th>1</th>\n",
        "      <td>b</td>\n",
        "      <td>1</td>\n",
        "      <td>7.0</td>\n",
        "    </tr>\n",
        "    <tr>\n",
        "      <th>4</th>\n",
        "      <td>b</td>\n",
        "      <td>4</td>\n",
        "      <td>7.0</td>\n",
        "    </tr>\n",
        "    <tr>\n",
        "      <th>5</th>\n",
        "      <td>c</td>\n",
        "      <td>5</td>\n",
        "      <td>NaN</td>\n",
        "    </tr>\n",
        "  </tbody>\n",
        "</table>\n",
        "</div>"
       ],
       "metadata": {},
       "output_type": "pyout",
       "prompt_number": 33,
       "text": [
        "  key  value  group_val\n",
        "0   a      0        3.5\n",
        "2   a      2        3.5\n",
        "3   a      3        3.5\n",
        "1   b      1        7.0\n",
        "4   b      4        7.0\n",
        "5   c      5        NaN"
       ]
      }
     ],
     "prompt_number": 33
    },
    {
     "cell_type": "code",
     "collapsed": false,
     "input": [
      "lefth = DataFrame({'key1':['Ohio','Ohio','Ohio','Nevada','Nevada'],\n",
      "                   'key2':[2000,2001,2002,2001,2002],\n",
      "                   'data':np.arange(5.)})"
     ],
     "language": "python",
     "metadata": {},
     "outputs": [],
     "prompt_number": 34
    },
    {
     "cell_type": "code",
     "collapsed": false,
     "input": [
      "righth = DataFrame(np.arange(12).reshape(6,2),\n",
      "                   index=[['Nevada','Nevada','Ohio','Ohio','Ohio','Ohio'],\n",
      "                          [2001,2000,2000,2000,2001,2002]],\n",
      "                   columns=['event1','event2'])"
     ],
     "language": "python",
     "metadata": {},
     "outputs": [],
     "prompt_number": 35
    },
    {
     "cell_type": "code",
     "collapsed": false,
     "input": [
      "lefth"
     ],
     "language": "python",
     "metadata": {},
     "outputs": [
      {
       "html": [
        "<div style=\"max-width:1500px;overflow:auto;\">\n",
        "<table border=\"1\" class=\"dataframe\">\n",
        "  <thead>\n",
        "    <tr style=\"text-align: right;\">\n",
        "      <th></th>\n",
        "      <th>data</th>\n",
        "      <th>key1</th>\n",
        "      <th>key2</th>\n",
        "    </tr>\n",
        "  </thead>\n",
        "  <tbody>\n",
        "    <tr>\n",
        "      <th>0</th>\n",
        "      <td>0</td>\n",
        "      <td>Ohio</td>\n",
        "      <td>2000</td>\n",
        "    </tr>\n",
        "    <tr>\n",
        "      <th>1</th>\n",
        "      <td>1</td>\n",
        "      <td>Ohio</td>\n",
        "      <td>2001</td>\n",
        "    </tr>\n",
        "    <tr>\n",
        "      <th>2</th>\n",
        "      <td>2</td>\n",
        "      <td>Ohio</td>\n",
        "      <td>2002</td>\n",
        "    </tr>\n",
        "    <tr>\n",
        "      <th>3</th>\n",
        "      <td>3</td>\n",
        "      <td>Nevada</td>\n",
        "      <td>2001</td>\n",
        "    </tr>\n",
        "    <tr>\n",
        "      <th>4</th>\n",
        "      <td>4</td>\n",
        "      <td>Nevada</td>\n",
        "      <td>2002</td>\n",
        "    </tr>\n",
        "  </tbody>\n",
        "</table>\n",
        "</div>"
       ],
       "metadata": {},
       "output_type": "pyout",
       "prompt_number": 36,
       "text": [
        "   data    key1  key2\n",
        "0     0    Ohio  2000\n",
        "1     1    Ohio  2001\n",
        "2     2    Ohio  2002\n",
        "3     3  Nevada  2001\n",
        "4     4  Nevada  2002"
       ]
      }
     ],
     "prompt_number": 36
    },
    {
     "cell_type": "code",
     "collapsed": false,
     "input": [
      "righth"
     ],
     "language": "python",
     "metadata": {},
     "outputs": [
      {
       "html": [
        "<div style=\"max-width:1500px;overflow:auto;\">\n",
        "<table border=\"1\" class=\"dataframe\">\n",
        "  <thead>\n",
        "    <tr style=\"text-align: right;\">\n",
        "      <th></th>\n",
        "      <th></th>\n",
        "      <th>event1</th>\n",
        "      <th>event2</th>\n",
        "    </tr>\n",
        "  </thead>\n",
        "  <tbody>\n",
        "    <tr>\n",
        "      <th rowspan=\"2\" valign=\"top\">Nevada</th>\n",
        "      <th>2001</th>\n",
        "      <td>0</td>\n",
        "      <td>1</td>\n",
        "    </tr>\n",
        "    <tr>\n",
        "      <th>2000</th>\n",
        "      <td>2</td>\n",
        "      <td>3</td>\n",
        "    </tr>\n",
        "    <tr>\n",
        "      <th rowspan=\"4\" valign=\"top\">Ohio</th>\n",
        "      <th>2000</th>\n",
        "      <td>4</td>\n",
        "      <td>5</td>\n",
        "    </tr>\n",
        "    <tr>\n",
        "      <th>2000</th>\n",
        "      <td>6</td>\n",
        "      <td>7</td>\n",
        "    </tr>\n",
        "    <tr>\n",
        "      <th>2001</th>\n",
        "      <td>8</td>\n",
        "      <td>9</td>\n",
        "    </tr>\n",
        "    <tr>\n",
        "      <th>2002</th>\n",
        "      <td>10</td>\n",
        "      <td>11</td>\n",
        "    </tr>\n",
        "  </tbody>\n",
        "</table>\n",
        "</div>"
       ],
       "metadata": {},
       "output_type": "pyout",
       "prompt_number": 37,
       "text": [
        "             event1  event2\n",
        "Nevada 2001       0       1\n",
        "       2000       2       3\n",
        "Ohio   2000       4       5\n",
        "       2000       6       7\n",
        "       2001       8       9\n",
        "       2002      10      11"
       ]
      }
     ],
     "prompt_number": 37
    },
    {
     "cell_type": "code",
     "collapsed": false,
     "input": [
      "pd.merge(lefth,righth,left_on=['key1','key2'],right_index=True)"
     ],
     "language": "python",
     "metadata": {},
     "outputs": [
      {
       "html": [
        "<div style=\"max-width:1500px;overflow:auto;\">\n",
        "<table border=\"1\" class=\"dataframe\">\n",
        "  <thead>\n",
        "    <tr style=\"text-align: right;\">\n",
        "      <th></th>\n",
        "      <th>data</th>\n",
        "      <th>key1</th>\n",
        "      <th>key2</th>\n",
        "      <th>event1</th>\n",
        "      <th>event2</th>\n",
        "    </tr>\n",
        "  </thead>\n",
        "  <tbody>\n",
        "    <tr>\n",
        "      <th>0</th>\n",
        "      <td>0</td>\n",
        "      <td>Ohio</td>\n",
        "      <td>2000</td>\n",
        "      <td>4</td>\n",
        "      <td>5</td>\n",
        "    </tr>\n",
        "    <tr>\n",
        "      <th>0</th>\n",
        "      <td>0</td>\n",
        "      <td>Ohio</td>\n",
        "      <td>2000</td>\n",
        "      <td>6</td>\n",
        "      <td>7</td>\n",
        "    </tr>\n",
        "    <tr>\n",
        "      <th>1</th>\n",
        "      <td>1</td>\n",
        "      <td>Ohio</td>\n",
        "      <td>2001</td>\n",
        "      <td>8</td>\n",
        "      <td>9</td>\n",
        "    </tr>\n",
        "    <tr>\n",
        "      <th>2</th>\n",
        "      <td>2</td>\n",
        "      <td>Ohio</td>\n",
        "      <td>2002</td>\n",
        "      <td>10</td>\n",
        "      <td>11</td>\n",
        "    </tr>\n",
        "    <tr>\n",
        "      <th>3</th>\n",
        "      <td>3</td>\n",
        "      <td>Nevada</td>\n",
        "      <td>2001</td>\n",
        "      <td>0</td>\n",
        "      <td>1</td>\n",
        "    </tr>\n",
        "  </tbody>\n",
        "</table>\n",
        "</div>"
       ],
       "metadata": {},
       "output_type": "pyout",
       "prompt_number": 38,
       "text": [
        "   data    key1  key2  event1  event2\n",
        "0     0    Ohio  2000       4       5\n",
        "0     0    Ohio  2000       6       7\n",
        "1     1    Ohio  2001       8       9\n",
        "2     2    Ohio  2002      10      11\n",
        "3     3  Nevada  2001       0       1"
       ]
      }
     ],
     "prompt_number": 38
    },
    {
     "cell_type": "code",
     "collapsed": false,
     "input": [
      "left2 = DataFrame([[1.,2.],[3.,4.],[5.,6.]],index=['a','c','e'],columns=['Ohio','Nevada'])"
     ],
     "language": "python",
     "metadata": {},
     "outputs": [],
     "prompt_number": 39
    },
    {
     "cell_type": "code",
     "collapsed": false,
     "input": [
      "right2 = DataFrame([[7.,8.],[9.,10.],[11.,12.],[13,14]],\n",
      "                   columns=['Missouri','Alabama'],\n",
      "                   index=['b','c','d','e'])"
     ],
     "language": "python",
     "metadata": {},
     "outputs": [],
     "prompt_number": 40
    },
    {
     "cell_type": "code",
     "collapsed": false,
     "input": [
      "left2"
     ],
     "language": "python",
     "metadata": {},
     "outputs": [
      {
       "html": [
        "<div style=\"max-width:1500px;overflow:auto;\">\n",
        "<table border=\"1\" class=\"dataframe\">\n",
        "  <thead>\n",
        "    <tr style=\"text-align: right;\">\n",
        "      <th></th>\n",
        "      <th>Ohio</th>\n",
        "      <th>Nevada</th>\n",
        "    </tr>\n",
        "  </thead>\n",
        "  <tbody>\n",
        "    <tr>\n",
        "      <th>a</th>\n",
        "      <td>1</td>\n",
        "      <td>2</td>\n",
        "    </tr>\n",
        "    <tr>\n",
        "      <th>c</th>\n",
        "      <td>3</td>\n",
        "      <td>4</td>\n",
        "    </tr>\n",
        "    <tr>\n",
        "      <th>e</th>\n",
        "      <td>5</td>\n",
        "      <td>6</td>\n",
        "    </tr>\n",
        "  </tbody>\n",
        "</table>\n",
        "</div>"
       ],
       "metadata": {},
       "output_type": "pyout",
       "prompt_number": 41,
       "text": [
        "   Ohio  Nevada\n",
        "a     1       2\n",
        "c     3       4\n",
        "e     5       6"
       ]
      }
     ],
     "prompt_number": 41
    },
    {
     "cell_type": "code",
     "collapsed": false,
     "input": [
      "right2"
     ],
     "language": "python",
     "metadata": {},
     "outputs": [
      {
       "html": [
        "<div style=\"max-width:1500px;overflow:auto;\">\n",
        "<table border=\"1\" class=\"dataframe\">\n",
        "  <thead>\n",
        "    <tr style=\"text-align: right;\">\n",
        "      <th></th>\n",
        "      <th>Missouri</th>\n",
        "      <th>Alabama</th>\n",
        "    </tr>\n",
        "  </thead>\n",
        "  <tbody>\n",
        "    <tr>\n",
        "      <th>b</th>\n",
        "      <td>7</td>\n",
        "      <td>8</td>\n",
        "    </tr>\n",
        "    <tr>\n",
        "      <th>c</th>\n",
        "      <td>9</td>\n",
        "      <td>10</td>\n",
        "    </tr>\n",
        "    <tr>\n",
        "      <th>d</th>\n",
        "      <td>11</td>\n",
        "      <td>12</td>\n",
        "    </tr>\n",
        "    <tr>\n",
        "      <th>e</th>\n",
        "      <td>13</td>\n",
        "      <td>14</td>\n",
        "    </tr>\n",
        "  </tbody>\n",
        "</table>\n",
        "</div>"
       ],
       "metadata": {},
       "output_type": "pyout",
       "prompt_number": 42,
       "text": [
        "   Missouri  Alabama\n",
        "b         7        8\n",
        "c         9       10\n",
        "d        11       12\n",
        "e        13       14"
       ]
      }
     ],
     "prompt_number": 42
    },
    {
     "cell_type": "code",
     "collapsed": false,
     "input": [
      "#\uae30\uc874\uc758 merge\ub294 \uac19\uc740 column\uc744 \uad6c\ud588\uc9c0\ub9cc left_index,right_index\ub97c \uc635\uc158\uc73c\ub85c \ud558\uba74 \uac19\uc740 index\ub97c merge\ud568\n",
      "pd.merge(left2,right2,left_index=True,right_index=True)"
     ],
     "language": "python",
     "metadata": {},
     "outputs": [
      {
       "html": [
        "<div style=\"max-width:1500px;overflow:auto;\">\n",
        "<table border=\"1\" class=\"dataframe\">\n",
        "  <thead>\n",
        "    <tr style=\"text-align: right;\">\n",
        "      <th></th>\n",
        "      <th>Ohio</th>\n",
        "      <th>Nevada</th>\n",
        "      <th>Missouri</th>\n",
        "      <th>Alabama</th>\n",
        "    </tr>\n",
        "  </thead>\n",
        "  <tbody>\n",
        "    <tr>\n",
        "      <th>c</th>\n",
        "      <td>3</td>\n",
        "      <td>4</td>\n",
        "      <td>9</td>\n",
        "      <td>10</td>\n",
        "    </tr>\n",
        "    <tr>\n",
        "      <th>e</th>\n",
        "      <td>5</td>\n",
        "      <td>6</td>\n",
        "      <td>13</td>\n",
        "      <td>14</td>\n",
        "    </tr>\n",
        "  </tbody>\n",
        "</table>\n",
        "</div>"
       ],
       "metadata": {},
       "output_type": "pyout",
       "prompt_number": 43,
       "text": [
        "   Ohio  Nevada  Missouri  Alabama\n",
        "c     3       4         9       10\n",
        "e     5       6        13       14"
       ]
      }
     ],
     "prompt_number": 43
    },
    {
     "cell_type": "code",
     "collapsed": false,
     "input": [
      "pd.merge(left2,right2,how='outer',left_index=True,right_index=True)"
     ],
     "language": "python",
     "metadata": {},
     "outputs": [
      {
       "html": [
        "<div style=\"max-width:1500px;overflow:auto;\">\n",
        "<table border=\"1\" class=\"dataframe\">\n",
        "  <thead>\n",
        "    <tr style=\"text-align: right;\">\n",
        "      <th></th>\n",
        "      <th>Ohio</th>\n",
        "      <th>Nevada</th>\n",
        "      <th>Missouri</th>\n",
        "      <th>Alabama</th>\n",
        "    </tr>\n",
        "  </thead>\n",
        "  <tbody>\n",
        "    <tr>\n",
        "      <th>a</th>\n",
        "      <td>1</td>\n",
        "      <td>2</td>\n",
        "      <td>NaN</td>\n",
        "      <td>NaN</td>\n",
        "    </tr>\n",
        "    <tr>\n",
        "      <th>b</th>\n",
        "      <td>NaN</td>\n",
        "      <td>NaN</td>\n",
        "      <td>7</td>\n",
        "      <td>8</td>\n",
        "    </tr>\n",
        "    <tr>\n",
        "      <th>c</th>\n",
        "      <td>3</td>\n",
        "      <td>4</td>\n",
        "      <td>9</td>\n",
        "      <td>10</td>\n",
        "    </tr>\n",
        "    <tr>\n",
        "      <th>d</th>\n",
        "      <td>NaN</td>\n",
        "      <td>NaN</td>\n",
        "      <td>11</td>\n",
        "      <td>12</td>\n",
        "    </tr>\n",
        "    <tr>\n",
        "      <th>e</th>\n",
        "      <td>5</td>\n",
        "      <td>6</td>\n",
        "      <td>13</td>\n",
        "      <td>14</td>\n",
        "    </tr>\n",
        "  </tbody>\n",
        "</table>\n",
        "</div>"
       ],
       "metadata": {},
       "output_type": "pyout",
       "prompt_number": 44,
       "text": [
        "   Ohio  Nevada  Missouri  Alabama\n",
        "a     1       2       NaN      NaN\n",
        "b   NaN     NaN         7        8\n",
        "c     3       4         9       10\n",
        "d   NaN     NaN        11       12\n",
        "e     5       6        13       14"
       ]
      }
     ],
     "prompt_number": 44
    },
    {
     "cell_type": "markdown",
     "metadata": {},
     "source": [
      "- \uc0c9\uc778\uc73c\ub85c merge \ud560 \uacbd\uc6b0, DataFrame\uc758 join \uba54\uc11c\ub4dc\ub97c \uc0ac\uc6a9\ud558\ub294 \uac83\uc774 \uc88b\ub2e4.\n",
      "- join \uba54\uc11c\ub4dc\ub294 column\uc774 \uacb9\uce58\uc9c0 \uc54a\uc73c\uba70 \uc644\uc804\ud788 \uac19\uac70\ub098 \uc720\uc0ac\ud55c \uc0c9\uc778 \uad6c\uc870\ub97c \uac00\uc9c4 \uc5ec\ub7ec\uac1c\uc758 DataFrame \uac1d\uccb4\ub97c \ubcd1\ud569\ud560\ub54c \uc0ac\uc6a9\ud560 \uc218 \uc788\ub2e4."
     ]
    },
    {
     "cell_type": "code",
     "collapsed": false,
     "input": [
      "#\ub9cc\uc57d left\uc5d0 \ud574\ub2f9\ud558\ub294 index\uac00 right\uc5d0 \uc5c6\ub2e4\uba74 NaN\uc73c\ub85c \ucc98\ub9ac\n",
      "left2.join(right2)"
     ],
     "language": "python",
     "metadata": {},
     "outputs": [
      {
       "html": [
        "<div style=\"max-width:1500px;overflow:auto;\">\n",
        "<table border=\"1\" class=\"dataframe\">\n",
        "  <thead>\n",
        "    <tr style=\"text-align: right;\">\n",
        "      <th></th>\n",
        "      <th>Ohio</th>\n",
        "      <th>Nevada</th>\n",
        "      <th>Missouri</th>\n",
        "      <th>Alabama</th>\n",
        "    </tr>\n",
        "  </thead>\n",
        "  <tbody>\n",
        "    <tr>\n",
        "      <th>a</th>\n",
        "      <td>1</td>\n",
        "      <td>2</td>\n",
        "      <td>NaN</td>\n",
        "      <td>NaN</td>\n",
        "    </tr>\n",
        "    <tr>\n",
        "      <th>c</th>\n",
        "      <td>3</td>\n",
        "      <td>4</td>\n",
        "      <td>9</td>\n",
        "      <td>10</td>\n",
        "    </tr>\n",
        "    <tr>\n",
        "      <th>e</th>\n",
        "      <td>5</td>\n",
        "      <td>6</td>\n",
        "      <td>13</td>\n",
        "      <td>14</td>\n",
        "    </tr>\n",
        "  </tbody>\n",
        "</table>\n",
        "</div>"
       ],
       "metadata": {},
       "output_type": "pyout",
       "prompt_number": 45,
       "text": [
        "   Ohio  Nevada  Missouri  Alabama\n",
        "a     1       2       NaN      NaN\n",
        "c     3       4         9       10\n",
        "e     5       6        13       14"
       ]
      }
     ],
     "prompt_number": 45
    },
    {
     "cell_type": "code",
     "collapsed": false,
     "input": [
      "left2.join(right2,how='outer')"
     ],
     "language": "python",
     "metadata": {},
     "outputs": [
      {
       "html": [
        "<div style=\"max-width:1500px;overflow:auto;\">\n",
        "<table border=\"1\" class=\"dataframe\">\n",
        "  <thead>\n",
        "    <tr style=\"text-align: right;\">\n",
        "      <th></th>\n",
        "      <th>Ohio</th>\n",
        "      <th>Nevada</th>\n",
        "      <th>Missouri</th>\n",
        "      <th>Alabama</th>\n",
        "    </tr>\n",
        "  </thead>\n",
        "  <tbody>\n",
        "    <tr>\n",
        "      <th>a</th>\n",
        "      <td>1</td>\n",
        "      <td>2</td>\n",
        "      <td>NaN</td>\n",
        "      <td>NaN</td>\n",
        "    </tr>\n",
        "    <tr>\n",
        "      <th>b</th>\n",
        "      <td>NaN</td>\n",
        "      <td>NaN</td>\n",
        "      <td>7</td>\n",
        "      <td>8</td>\n",
        "    </tr>\n",
        "    <tr>\n",
        "      <th>c</th>\n",
        "      <td>3</td>\n",
        "      <td>4</td>\n",
        "      <td>9</td>\n",
        "      <td>10</td>\n",
        "    </tr>\n",
        "    <tr>\n",
        "      <th>d</th>\n",
        "      <td>NaN</td>\n",
        "      <td>NaN</td>\n",
        "      <td>11</td>\n",
        "      <td>12</td>\n",
        "    </tr>\n",
        "    <tr>\n",
        "      <th>e</th>\n",
        "      <td>5</td>\n",
        "      <td>6</td>\n",
        "      <td>13</td>\n",
        "      <td>14</td>\n",
        "    </tr>\n",
        "  </tbody>\n",
        "</table>\n",
        "</div>"
       ],
       "metadata": {},
       "output_type": "pyout",
       "prompt_number": 46,
       "text": [
        "   Ohio  Nevada  Missouri  Alabama\n",
        "a     1       2       NaN      NaN\n",
        "b   NaN     NaN         7        8\n",
        "c     3       4         9       10\n",
        "d   NaN     NaN        11       12\n",
        "e     5       6        13       14"
       ]
      }
     ],
     "prompt_number": 46
    },
    {
     "cell_type": "code",
     "collapsed": false,
     "input": [
      "left1"
     ],
     "language": "python",
     "metadata": {
      "scrolled": true
     },
     "outputs": [
      {
       "html": [
        "<div style=\"max-width:1500px;overflow:auto;\">\n",
        "<table border=\"1\" class=\"dataframe\">\n",
        "  <thead>\n",
        "    <tr style=\"text-align: right;\">\n",
        "      <th></th>\n",
        "      <th>key</th>\n",
        "      <th>value</th>\n",
        "    </tr>\n",
        "  </thead>\n",
        "  <tbody>\n",
        "    <tr>\n",
        "      <th>0</th>\n",
        "      <td>a</td>\n",
        "      <td>0</td>\n",
        "    </tr>\n",
        "    <tr>\n",
        "      <th>1</th>\n",
        "      <td>b</td>\n",
        "      <td>1</td>\n",
        "    </tr>\n",
        "    <tr>\n",
        "      <th>2</th>\n",
        "      <td>a</td>\n",
        "      <td>2</td>\n",
        "    </tr>\n",
        "    <tr>\n",
        "      <th>3</th>\n",
        "      <td>a</td>\n",
        "      <td>3</td>\n",
        "    </tr>\n",
        "    <tr>\n",
        "      <th>4</th>\n",
        "      <td>b</td>\n",
        "      <td>4</td>\n",
        "    </tr>\n",
        "    <tr>\n",
        "      <th>5</th>\n",
        "      <td>c</td>\n",
        "      <td>5</td>\n",
        "    </tr>\n",
        "  </tbody>\n",
        "</table>\n",
        "</div>"
       ],
       "metadata": {},
       "output_type": "pyout",
       "prompt_number": 47,
       "text": [
        "  key  value\n",
        "0   a      0\n",
        "1   b      1\n",
        "2   a      2\n",
        "3   a      3\n",
        "4   b      4\n",
        "5   c      5"
       ]
      }
     ],
     "prompt_number": 47
    },
    {
     "cell_type": "code",
     "collapsed": false,
     "input": [
      "right1"
     ],
     "language": "python",
     "metadata": {},
     "outputs": [
      {
       "html": [
        "<div style=\"max-width:1500px;overflow:auto;\">\n",
        "<table border=\"1\" class=\"dataframe\">\n",
        "  <thead>\n",
        "    <tr style=\"text-align: right;\">\n",
        "      <th></th>\n",
        "      <th>group_val</th>\n",
        "    </tr>\n",
        "  </thead>\n",
        "  <tbody>\n",
        "    <tr>\n",
        "      <th>a</th>\n",
        "      <td>3.5</td>\n",
        "    </tr>\n",
        "    <tr>\n",
        "      <th>b</th>\n",
        "      <td>7.0</td>\n",
        "    </tr>\n",
        "  </tbody>\n",
        "</table>\n",
        "</div>"
       ],
       "metadata": {},
       "output_type": "pyout",
       "prompt_number": 48,
       "text": [
        "   group_val\n",
        "a        3.5\n",
        "b        7.0"
       ]
      }
     ],
     "prompt_number": 48
    },
    {
     "cell_type": "code",
     "collapsed": false,
     "input": [
      "left1.join(right1,on='key')"
     ],
     "language": "python",
     "metadata": {},
     "outputs": [
      {
       "html": [
        "<div style=\"max-width:1500px;overflow:auto;\">\n",
        "<table border=\"1\" class=\"dataframe\">\n",
        "  <thead>\n",
        "    <tr style=\"text-align: right;\">\n",
        "      <th></th>\n",
        "      <th>key</th>\n",
        "      <th>value</th>\n",
        "      <th>group_val</th>\n",
        "    </tr>\n",
        "  </thead>\n",
        "  <tbody>\n",
        "    <tr>\n",
        "      <th>0</th>\n",
        "      <td>a</td>\n",
        "      <td>0</td>\n",
        "      <td>3.5</td>\n",
        "    </tr>\n",
        "    <tr>\n",
        "      <th>1</th>\n",
        "      <td>b</td>\n",
        "      <td>1</td>\n",
        "      <td>7.0</td>\n",
        "    </tr>\n",
        "    <tr>\n",
        "      <th>2</th>\n",
        "      <td>a</td>\n",
        "      <td>2</td>\n",
        "      <td>3.5</td>\n",
        "    </tr>\n",
        "    <tr>\n",
        "      <th>3</th>\n",
        "      <td>a</td>\n",
        "      <td>3</td>\n",
        "      <td>3.5</td>\n",
        "    </tr>\n",
        "    <tr>\n",
        "      <th>4</th>\n",
        "      <td>b</td>\n",
        "      <td>4</td>\n",
        "      <td>7.0</td>\n",
        "    </tr>\n",
        "    <tr>\n",
        "      <th>5</th>\n",
        "      <td>c</td>\n",
        "      <td>5</td>\n",
        "      <td>NaN</td>\n",
        "    </tr>\n",
        "  </tbody>\n",
        "</table>\n",
        "</div>"
       ],
       "metadata": {},
       "output_type": "pyout",
       "prompt_number": 49,
       "text": [
        "  key  value  group_val\n",
        "0   a      0        3.5\n",
        "1   b      1        7.0\n",
        "2   a      2        3.5\n",
        "3   a      3        3.5\n",
        "4   b      4        7.0\n",
        "5   c      5        NaN"
       ]
      }
     ],
     "prompt_number": 49
    },
    {
     "cell_type": "code",
     "collapsed": false,
     "input": [
      "another = DataFrame([[7.,8.],[9.,10.],[11.,12.],[16.,17.]],\n",
      "                    index = ['a','c','e','f'],\n",
      "                    columns = ['New York','Orgon'])"
     ],
     "language": "python",
     "metadata": {},
     "outputs": [],
     "prompt_number": 50
    },
    {
     "cell_type": "code",
     "collapsed": false,
     "input": [
      "another"
     ],
     "language": "python",
     "metadata": {},
     "outputs": [
      {
       "html": [
        "<div style=\"max-width:1500px;overflow:auto;\">\n",
        "<table border=\"1\" class=\"dataframe\">\n",
        "  <thead>\n",
        "    <tr style=\"text-align: right;\">\n",
        "      <th></th>\n",
        "      <th>New York</th>\n",
        "      <th>Orgon</th>\n",
        "    </tr>\n",
        "  </thead>\n",
        "  <tbody>\n",
        "    <tr>\n",
        "      <th>a</th>\n",
        "      <td>7</td>\n",
        "      <td>8</td>\n",
        "    </tr>\n",
        "    <tr>\n",
        "      <th>c</th>\n",
        "      <td>9</td>\n",
        "      <td>10</td>\n",
        "    </tr>\n",
        "    <tr>\n",
        "      <th>e</th>\n",
        "      <td>11</td>\n",
        "      <td>12</td>\n",
        "    </tr>\n",
        "    <tr>\n",
        "      <th>f</th>\n",
        "      <td>16</td>\n",
        "      <td>17</td>\n",
        "    </tr>\n",
        "  </tbody>\n",
        "</table>\n",
        "</div>"
       ],
       "metadata": {},
       "output_type": "pyout",
       "prompt_number": 51,
       "text": [
        "   New York  Orgon\n",
        "a         7      8\n",
        "c         9     10\n",
        "e        11     12\n",
        "f        16     17"
       ]
      }
     ],
     "prompt_number": 51
    },
    {
     "cell_type": "code",
     "collapsed": false,
     "input": [
      "left2"
     ],
     "language": "python",
     "metadata": {},
     "outputs": [
      {
       "html": [
        "<div style=\"max-width:1500px;overflow:auto;\">\n",
        "<table border=\"1\" class=\"dataframe\">\n",
        "  <thead>\n",
        "    <tr style=\"text-align: right;\">\n",
        "      <th></th>\n",
        "      <th>Ohio</th>\n",
        "      <th>Nevada</th>\n",
        "    </tr>\n",
        "  </thead>\n",
        "  <tbody>\n",
        "    <tr>\n",
        "      <th>a</th>\n",
        "      <td>1</td>\n",
        "      <td>2</td>\n",
        "    </tr>\n",
        "    <tr>\n",
        "      <th>c</th>\n",
        "      <td>3</td>\n",
        "      <td>4</td>\n",
        "    </tr>\n",
        "    <tr>\n",
        "      <th>e</th>\n",
        "      <td>5</td>\n",
        "      <td>6</td>\n",
        "    </tr>\n",
        "  </tbody>\n",
        "</table>\n",
        "</div>"
       ],
       "metadata": {},
       "output_type": "pyout",
       "prompt_number": 52,
       "text": [
        "   Ohio  Nevada\n",
        "a     1       2\n",
        "c     3       4\n",
        "e     5       6"
       ]
      }
     ],
     "prompt_number": 52
    },
    {
     "cell_type": "code",
     "collapsed": false,
     "input": [
      "right2"
     ],
     "language": "python",
     "metadata": {},
     "outputs": [
      {
       "html": [
        "<div style=\"max-width:1500px;overflow:auto;\">\n",
        "<table border=\"1\" class=\"dataframe\">\n",
        "  <thead>\n",
        "    <tr style=\"text-align: right;\">\n",
        "      <th></th>\n",
        "      <th>Missouri</th>\n",
        "      <th>Alabama</th>\n",
        "    </tr>\n",
        "  </thead>\n",
        "  <tbody>\n",
        "    <tr>\n",
        "      <th>b</th>\n",
        "      <td>7</td>\n",
        "      <td>8</td>\n",
        "    </tr>\n",
        "    <tr>\n",
        "      <th>c</th>\n",
        "      <td>9</td>\n",
        "      <td>10</td>\n",
        "    </tr>\n",
        "    <tr>\n",
        "      <th>d</th>\n",
        "      <td>11</td>\n",
        "      <td>12</td>\n",
        "    </tr>\n",
        "    <tr>\n",
        "      <th>e</th>\n",
        "      <td>13</td>\n",
        "      <td>14</td>\n",
        "    </tr>\n",
        "  </tbody>\n",
        "</table>\n",
        "</div>"
       ],
       "metadata": {},
       "output_type": "pyout",
       "prompt_number": 53,
       "text": [
        "   Missouri  Alabama\n",
        "b         7        8\n",
        "c         9       10\n",
        "d        11       12\n",
        "e        13       14"
       ]
      }
     ],
     "prompt_number": 53
    },
    {
     "cell_type": "code",
     "collapsed": false,
     "input": [
      "left2.join([right2,another])"
     ],
     "language": "python",
     "metadata": {},
     "outputs": [
      {
       "html": [
        "<div style=\"max-width:1500px;overflow:auto;\">\n",
        "<table border=\"1\" class=\"dataframe\">\n",
        "  <thead>\n",
        "    <tr style=\"text-align: right;\">\n",
        "      <th></th>\n",
        "      <th>Ohio</th>\n",
        "      <th>Nevada</th>\n",
        "      <th>Missouri</th>\n",
        "      <th>Alabama</th>\n",
        "      <th>New York</th>\n",
        "      <th>Orgon</th>\n",
        "    </tr>\n",
        "  </thead>\n",
        "  <tbody>\n",
        "    <tr>\n",
        "      <th>a</th>\n",
        "      <td>1</td>\n",
        "      <td>2</td>\n",
        "      <td>NaN</td>\n",
        "      <td>NaN</td>\n",
        "      <td>7</td>\n",
        "      <td>8</td>\n",
        "    </tr>\n",
        "    <tr>\n",
        "      <th>c</th>\n",
        "      <td>3</td>\n",
        "      <td>4</td>\n",
        "      <td>9</td>\n",
        "      <td>10</td>\n",
        "      <td>9</td>\n",
        "      <td>10</td>\n",
        "    </tr>\n",
        "    <tr>\n",
        "      <th>e</th>\n",
        "      <td>5</td>\n",
        "      <td>6</td>\n",
        "      <td>13</td>\n",
        "      <td>14</td>\n",
        "      <td>11</td>\n",
        "      <td>12</td>\n",
        "    </tr>\n",
        "  </tbody>\n",
        "</table>\n",
        "</div>"
       ],
       "metadata": {},
       "output_type": "pyout",
       "prompt_number": 54,
       "text": [
        "   Ohio  Nevada  Missouri  Alabama  New York  Orgon\n",
        "a     1       2       NaN      NaN         7      8\n",
        "c     3       4         9       10         9     10\n",
        "e     5       6        13       14        11     12"
       ]
      }
     ],
     "prompt_number": 54
    },
    {
     "cell_type": "code",
     "collapsed": false,
     "input": [
      "left2.join([right2,another],how='outer')"
     ],
     "language": "python",
     "metadata": {},
     "outputs": [
      {
       "html": [
        "<div style=\"max-width:1500px;overflow:auto;\">\n",
        "<table border=\"1\" class=\"dataframe\">\n",
        "  <thead>\n",
        "    <tr style=\"text-align: right;\">\n",
        "      <th></th>\n",
        "      <th>Ohio</th>\n",
        "      <th>Nevada</th>\n",
        "      <th>Missouri</th>\n",
        "      <th>Alabama</th>\n",
        "      <th>New York</th>\n",
        "      <th>Orgon</th>\n",
        "    </tr>\n",
        "  </thead>\n",
        "  <tbody>\n",
        "    <tr>\n",
        "      <th>a</th>\n",
        "      <td>1</td>\n",
        "      <td>2</td>\n",
        "      <td>NaN</td>\n",
        "      <td>NaN</td>\n",
        "      <td>7</td>\n",
        "      <td>8</td>\n",
        "    </tr>\n",
        "    <tr>\n",
        "      <th>b</th>\n",
        "      <td>NaN</td>\n",
        "      <td>NaN</td>\n",
        "      <td>7</td>\n",
        "      <td>8</td>\n",
        "      <td>NaN</td>\n",
        "      <td>NaN</td>\n",
        "    </tr>\n",
        "    <tr>\n",
        "      <th>c</th>\n",
        "      <td>3</td>\n",
        "      <td>4</td>\n",
        "      <td>9</td>\n",
        "      <td>10</td>\n",
        "      <td>9</td>\n",
        "      <td>10</td>\n",
        "    </tr>\n",
        "    <tr>\n",
        "      <th>d</th>\n",
        "      <td>NaN</td>\n",
        "      <td>NaN</td>\n",
        "      <td>11</td>\n",
        "      <td>12</td>\n",
        "      <td>NaN</td>\n",
        "      <td>NaN</td>\n",
        "    </tr>\n",
        "    <tr>\n",
        "      <th>e</th>\n",
        "      <td>5</td>\n",
        "      <td>6</td>\n",
        "      <td>13</td>\n",
        "      <td>14</td>\n",
        "      <td>11</td>\n",
        "      <td>12</td>\n",
        "    </tr>\n",
        "    <tr>\n",
        "      <th>f</th>\n",
        "      <td>NaN</td>\n",
        "      <td>NaN</td>\n",
        "      <td>NaN</td>\n",
        "      <td>NaN</td>\n",
        "      <td>16</td>\n",
        "      <td>17</td>\n",
        "    </tr>\n",
        "  </tbody>\n",
        "</table>\n",
        "</div>"
       ],
       "metadata": {},
       "output_type": "pyout",
       "prompt_number": 55,
       "text": [
        "   Ohio  Nevada  Missouri  Alabama  New York  Orgon\n",
        "a     1       2       NaN      NaN         7      8\n",
        "b   NaN     NaN         7        8       NaN    NaN\n",
        "c     3       4         9       10         9     10\n",
        "d   NaN     NaN        11       12       NaN    NaN\n",
        "e     5       6        13       14        11     12\n",
        "f   NaN     NaN       NaN      NaN        16     17"
       ]
      }
     ],
     "prompt_number": 55
    },
    {
     "cell_type": "heading",
     "level": 3,
     "metadata": {},
     "source": [
      "7.1.3 \ucd95 \ub530\ub77c \uc774\uc5b4\ubd99\uc774\uae30"
     ]
    },
    {
     "cell_type": "markdown",
     "metadata": {},
     "source": [
      "- \ub370\uc774\ud130\ub97c \ud569\uce58\ub294 \ub2e4\ub978 \ubc29\ubc95\uc73c\ub85c\ub294 concatenation(\uc774\uc5b4\ubd99\uc774\uae30), binding(\uc5f0\uacb0), stacking(\uc801\uce35) \ub4f1\uc774 \uc788\ub2e4\n",
      "- NumPy\ub294 ndarray\ub97c \uc5f0\uacb0\ud558\ub294 concatenate \ud568\uc218\ub97c \uc81c\uacf5\ud55c\ub2e4."
     ]
    },
    {
     "cell_type": "code",
     "collapsed": false,
     "input": [
      "arr = np.arange(12).reshape(3,4)"
     ],
     "language": "python",
     "metadata": {},
     "outputs": [],
     "prompt_number": 56
    },
    {
     "cell_type": "code",
     "collapsed": false,
     "input": [
      "arr"
     ],
     "language": "python",
     "metadata": {},
     "outputs": [
      {
       "metadata": {},
       "output_type": "pyout",
       "prompt_number": 57,
       "text": [
        "array([[ 0,  1,  2,  3],\n",
        "       [ 4,  5,  6,  7],\n",
        "       [ 8,  9, 10, 11]])"
       ]
      }
     ],
     "prompt_number": 57
    },
    {
     "cell_type": "code",
     "collapsed": false,
     "input": [
      "np.concatenate([arr,arr],axis=1)"
     ],
     "language": "python",
     "metadata": {},
     "outputs": [
      {
       "metadata": {},
       "output_type": "pyout",
       "prompt_number": 58,
       "text": [
        "array([[ 0,  1,  2,  3,  0,  1,  2,  3],\n",
        "       [ 4,  5,  6,  7,  4,  5,  6,  7],\n",
        "       [ 8,  9, 10, 11,  8,  9, 10, 11]])"
       ]
      }
     ],
     "prompt_number": 58
    },
    {
     "cell_type": "code",
     "collapsed": false,
     "input": [
      "#concatenate\uc758 default\uc635\uc158\uc740 axis=0(\uc138\ub85c\ub85c \uc774\uc5b4\ubd99\uc774\uae30)\n",
      "np.concatenate([arr,arr])"
     ],
     "language": "python",
     "metadata": {},
     "outputs": [
      {
       "metadata": {},
       "output_type": "pyout",
       "prompt_number": 59,
       "text": [
        "array([[ 0,  1,  2,  3],\n",
        "       [ 4,  5,  6,  7],\n",
        "       [ 8,  9, 10, 11],\n",
        "       [ 0,  1,  2,  3],\n",
        "       [ 4,  5,  6,  7],\n",
        "       [ 8,  9, 10, 11]])"
       ]
      }
     ],
     "prompt_number": 59
    },
    {
     "cell_type": "code",
     "collapsed": false,
     "input": [
      "s1 = Series([0,1],index=['a','b'])"
     ],
     "language": "python",
     "metadata": {},
     "outputs": [],
     "prompt_number": 60
    },
    {
     "cell_type": "code",
     "collapsed": false,
     "input": [
      "s2 = Series([2,3,4],index=['c','d','e'])"
     ],
     "language": "python",
     "metadata": {},
     "outputs": [],
     "prompt_number": 61
    },
    {
     "cell_type": "code",
     "collapsed": false,
     "input": [
      "s3 = Series([5,6],index=['f','g'])"
     ],
     "language": "python",
     "metadata": {},
     "outputs": [],
     "prompt_number": 62
    },
    {
     "cell_type": "code",
     "collapsed": false,
     "input": [
      "pd.concat([s1,s2,s3])"
     ],
     "language": "python",
     "metadata": {},
     "outputs": [
      {
       "metadata": {},
       "output_type": "pyout",
       "prompt_number": 63,
       "text": [
        "a    0\n",
        "b    1\n",
        "c    2\n",
        "d    3\n",
        "e    4\n",
        "f    5\n",
        "g    6\n",
        "dtype: int64"
       ]
      }
     ],
     "prompt_number": 63
    },
    {
     "cell_type": "code",
     "collapsed": false,
     "input": [
      "#axis=1 \uc740 column\uc744 \uc758\ubbf8\n",
      "pd.concat([s1,s2,s3],axis=1)"
     ],
     "language": "python",
     "metadata": {},
     "outputs": [
      {
       "html": [
        "<div style=\"max-width:1500px;overflow:auto;\">\n",
        "<table border=\"1\" class=\"dataframe\">\n",
        "  <thead>\n",
        "    <tr style=\"text-align: right;\">\n",
        "      <th></th>\n",
        "      <th>0</th>\n",
        "      <th>1</th>\n",
        "      <th>2</th>\n",
        "    </tr>\n",
        "  </thead>\n",
        "  <tbody>\n",
        "    <tr>\n",
        "      <th>a</th>\n",
        "      <td>0</td>\n",
        "      <td>NaN</td>\n",
        "      <td>NaN</td>\n",
        "    </tr>\n",
        "    <tr>\n",
        "      <th>b</th>\n",
        "      <td>1</td>\n",
        "      <td>NaN</td>\n",
        "      <td>NaN</td>\n",
        "    </tr>\n",
        "    <tr>\n",
        "      <th>c</th>\n",
        "      <td>NaN</td>\n",
        "      <td>2</td>\n",
        "      <td>NaN</td>\n",
        "    </tr>\n",
        "    <tr>\n",
        "      <th>d</th>\n",
        "      <td>NaN</td>\n",
        "      <td>3</td>\n",
        "      <td>NaN</td>\n",
        "    </tr>\n",
        "    <tr>\n",
        "      <th>e</th>\n",
        "      <td>NaN</td>\n",
        "      <td>4</td>\n",
        "      <td>NaN</td>\n",
        "    </tr>\n",
        "    <tr>\n",
        "      <th>f</th>\n",
        "      <td>NaN</td>\n",
        "      <td>NaN</td>\n",
        "      <td>5</td>\n",
        "    </tr>\n",
        "    <tr>\n",
        "      <th>g</th>\n",
        "      <td>NaN</td>\n",
        "      <td>NaN</td>\n",
        "      <td>6</td>\n",
        "    </tr>\n",
        "  </tbody>\n",
        "</table>\n",
        "</div>"
       ],
       "metadata": {},
       "output_type": "pyout",
       "prompt_number": 64,
       "text": [
        "    0   1   2\n",
        "a   0 NaN NaN\n",
        "b   1 NaN NaN\n",
        "c NaN   2 NaN\n",
        "d NaN   3 NaN\n",
        "e NaN   4 NaN\n",
        "f NaN NaN   5\n",
        "g NaN NaN   6"
       ]
      }
     ],
     "prompt_number": 64
    },
    {
     "cell_type": "code",
     "collapsed": false,
     "input": [
      "s4 = pd.concat([s1*5,s3])"
     ],
     "language": "python",
     "metadata": {},
     "outputs": [],
     "prompt_number": 65
    },
    {
     "cell_type": "code",
     "collapsed": false,
     "input": [
      "s4"
     ],
     "language": "python",
     "metadata": {},
     "outputs": [
      {
       "metadata": {},
       "output_type": "pyout",
       "prompt_number": 66,
       "text": [
        "a    0\n",
        "b    5\n",
        "f    5\n",
        "g    6\n",
        "dtype: int64"
       ]
      }
     ],
     "prompt_number": 66
    },
    {
     "cell_type": "code",
     "collapsed": false,
     "input": [
      "s1"
     ],
     "language": "python",
     "metadata": {},
     "outputs": [
      {
       "metadata": {},
       "output_type": "pyout",
       "prompt_number": 67,
       "text": [
        "a    0\n",
        "b    1\n",
        "dtype: int64"
       ]
      }
     ],
     "prompt_number": 67
    },
    {
     "cell_type": "code",
     "collapsed": false,
     "input": [
      "pd.concat([s1,s4],axis=1)"
     ],
     "language": "python",
     "metadata": {},
     "outputs": [
      {
       "html": [
        "<div style=\"max-width:1500px;overflow:auto;\">\n",
        "<table border=\"1\" class=\"dataframe\">\n",
        "  <thead>\n",
        "    <tr style=\"text-align: right;\">\n",
        "      <th></th>\n",
        "      <th>0</th>\n",
        "      <th>1</th>\n",
        "    </tr>\n",
        "  </thead>\n",
        "  <tbody>\n",
        "    <tr>\n",
        "      <th>a</th>\n",
        "      <td>0</td>\n",
        "      <td>0</td>\n",
        "    </tr>\n",
        "    <tr>\n",
        "      <th>b</th>\n",
        "      <td>1</td>\n",
        "      <td>5</td>\n",
        "    </tr>\n",
        "    <tr>\n",
        "      <th>f</th>\n",
        "      <td>NaN</td>\n",
        "      <td>5</td>\n",
        "    </tr>\n",
        "    <tr>\n",
        "      <th>g</th>\n",
        "      <td>NaN</td>\n",
        "      <td>6</td>\n",
        "    </tr>\n",
        "  </tbody>\n",
        "</table>\n",
        "</div>"
       ],
       "metadata": {},
       "output_type": "pyout",
       "prompt_number": 68,
       "text": [
        "    0  1\n",
        "a   0  0\n",
        "b   1  5\n",
        "f NaN  5\n",
        "g NaN  6"
       ]
      }
     ],
     "prompt_number": 68
    },
    {
     "cell_type": "code",
     "collapsed": false,
     "input": [
      "pd.concat([s1,s4],axis=1,join='inner')"
     ],
     "language": "python",
     "metadata": {},
     "outputs": [
      {
       "html": [
        "<div style=\"max-width:1500px;overflow:auto;\">\n",
        "<table border=\"1\" class=\"dataframe\">\n",
        "  <thead>\n",
        "    <tr style=\"text-align: right;\">\n",
        "      <th></th>\n",
        "      <th>0</th>\n",
        "      <th>1</th>\n",
        "    </tr>\n",
        "  </thead>\n",
        "  <tbody>\n",
        "    <tr>\n",
        "      <th>a</th>\n",
        "      <td>0</td>\n",
        "      <td>0</td>\n",
        "    </tr>\n",
        "    <tr>\n",
        "      <th>b</th>\n",
        "      <td>1</td>\n",
        "      <td>5</td>\n",
        "    </tr>\n",
        "  </tbody>\n",
        "</table>\n",
        "</div>"
       ],
       "metadata": {},
       "output_type": "pyout",
       "prompt_number": 69,
       "text": [
        "   0  1\n",
        "a  0  0\n",
        "b  1  5"
       ]
      }
     ],
     "prompt_number": 69
    },
    {
     "cell_type": "code",
     "collapsed": false,
     "input": [
      "pd.concat([s1,s4],axis=1,join_axes=[['a','c','b','e']])\n",
      "#join_axes\uc5d0 list\uc5d0 list\ud615\ud0dc\uc778 \uc774\uc720?????????"
     ],
     "language": "python",
     "metadata": {},
     "outputs": [
      {
       "html": [
        "<div style=\"max-width:1500px;overflow:auto;\">\n",
        "<table border=\"1\" class=\"dataframe\">\n",
        "  <thead>\n",
        "    <tr style=\"text-align: right;\">\n",
        "      <th></th>\n",
        "      <th>0</th>\n",
        "      <th>1</th>\n",
        "    </tr>\n",
        "  </thead>\n",
        "  <tbody>\n",
        "    <tr>\n",
        "      <th>a</th>\n",
        "      <td>0</td>\n",
        "      <td>0</td>\n",
        "    </tr>\n",
        "    <tr>\n",
        "      <th>c</th>\n",
        "      <td>NaN</td>\n",
        "      <td>NaN</td>\n",
        "    </tr>\n",
        "    <tr>\n",
        "      <th>b</th>\n",
        "      <td>1</td>\n",
        "      <td>5</td>\n",
        "    </tr>\n",
        "    <tr>\n",
        "      <th>e</th>\n",
        "      <td>NaN</td>\n",
        "      <td>NaN</td>\n",
        "    </tr>\n",
        "  </tbody>\n",
        "</table>\n",
        "</div>"
       ],
       "metadata": {},
       "output_type": "pyout",
       "prompt_number": 70,
       "text": [
        "    0   1\n",
        "a   0   0\n",
        "c NaN NaN\n",
        "b   1   5\n",
        "e NaN NaN"
       ]
      }
     ],
     "prompt_number": 70
    },
    {
     "cell_type": "code",
     "collapsed": false,
     "input": [
      "s1"
     ],
     "language": "python",
     "metadata": {},
     "outputs": [
      {
       "metadata": {},
       "output_type": "pyout",
       "prompt_number": 71,
       "text": [
        "a    0\n",
        "b    1\n",
        "dtype: int64"
       ]
      }
     ],
     "prompt_number": 71
    },
    {
     "cell_type": "code",
     "collapsed": false,
     "input": [
      "s3"
     ],
     "language": "python",
     "metadata": {},
     "outputs": [
      {
       "metadata": {},
       "output_type": "pyout",
       "prompt_number": 72,
       "text": [
        "f    5\n",
        "g    6\n",
        "dtype: int64"
       ]
      }
     ],
     "prompt_number": 72
    },
    {
     "cell_type": "code",
     "collapsed": false,
     "input": [
      "result = pd.concat([s1, s1,s3],keys=['one','two','three'])"
     ],
     "language": "python",
     "metadata": {},
     "outputs": [],
     "prompt_number": 73
    },
    {
     "cell_type": "code",
     "collapsed": false,
     "input": [
      "result"
     ],
     "language": "python",
     "metadata": {},
     "outputs": [
      {
       "metadata": {},
       "output_type": "pyout",
       "prompt_number": 74,
       "text": [
        "one    a    0\n",
        "       b    1\n",
        "two    a    0\n",
        "       b    1\n",
        "three  f    5\n",
        "       g    6\n",
        "dtype: int64"
       ]
      }
     ],
     "prompt_number": 74
    },
    {
     "cell_type": "code",
     "collapsed": false,
     "input": [
      "result.unstack()"
     ],
     "language": "python",
     "metadata": {},
     "outputs": [
      {
       "html": [
        "<div style=\"max-width:1500px;overflow:auto;\">\n",
        "<table border=\"1\" class=\"dataframe\">\n",
        "  <thead>\n",
        "    <tr style=\"text-align: right;\">\n",
        "      <th></th>\n",
        "      <th>a</th>\n",
        "      <th>b</th>\n",
        "      <th>f</th>\n",
        "      <th>g</th>\n",
        "    </tr>\n",
        "  </thead>\n",
        "  <tbody>\n",
        "    <tr>\n",
        "      <th>one</th>\n",
        "      <td>0</td>\n",
        "      <td>1</td>\n",
        "      <td>NaN</td>\n",
        "      <td>NaN</td>\n",
        "    </tr>\n",
        "    <tr>\n",
        "      <th>two</th>\n",
        "      <td>0</td>\n",
        "      <td>1</td>\n",
        "      <td>NaN</td>\n",
        "      <td>NaN</td>\n",
        "    </tr>\n",
        "    <tr>\n",
        "      <th>three</th>\n",
        "      <td>NaN</td>\n",
        "      <td>NaN</td>\n",
        "      <td>5</td>\n",
        "      <td>6</td>\n",
        "    </tr>\n",
        "  </tbody>\n",
        "</table>\n",
        "</div>"
       ],
       "metadata": {},
       "output_type": "pyout",
       "prompt_number": 75,
       "text": [
        "        a   b   f   g\n",
        "one     0   1 NaN NaN\n",
        "two     0   1 NaN NaN\n",
        "three NaN NaN   5   6"
       ]
      }
     ],
     "prompt_number": 75
    },
    {
     "cell_type": "code",
     "collapsed": false,
     "input": [
      "print s1\n",
      "print s2\n",
      "print s3"
     ],
     "language": "python",
     "metadata": {},
     "outputs": [
      {
       "output_type": "stream",
       "stream": "stdout",
       "text": [
        "a    0\n",
        "b    1\n",
        "dtype: int64\n",
        "c    2\n",
        "d    3\n",
        "e    4\n",
        "dtype: int64\n",
        "f    5\n",
        "g    6\n",
        "dtype: int64\n"
       ]
      }
     ],
     "prompt_number": 76
    },
    {
     "cell_type": "code",
     "collapsed": false,
     "input": [
      "#Series\ub294 axis=1\ub85c \ubcd1\ud569\ud560 \uacbd\uc6b0 keys\ub294 DataFrame\uc758 column \uc81c\ubaa9\uc774 \ub41c\ub2e4.\n",
      "pd.concat([s1,s2,s3],axis=1,keys=['one','two','three'])"
     ],
     "language": "python",
     "metadata": {},
     "outputs": [
      {
       "html": [
        "<div style=\"max-width:1500px;overflow:auto;\">\n",
        "<table border=\"1\" class=\"dataframe\">\n",
        "  <thead>\n",
        "    <tr style=\"text-align: right;\">\n",
        "      <th></th>\n",
        "      <th>one</th>\n",
        "      <th>two</th>\n",
        "      <th>three</th>\n",
        "    </tr>\n",
        "  </thead>\n",
        "  <tbody>\n",
        "    <tr>\n",
        "      <th>a</th>\n",
        "      <td>0</td>\n",
        "      <td>NaN</td>\n",
        "      <td>NaN</td>\n",
        "    </tr>\n",
        "    <tr>\n",
        "      <th>b</th>\n",
        "      <td>1</td>\n",
        "      <td>NaN</td>\n",
        "      <td>NaN</td>\n",
        "    </tr>\n",
        "    <tr>\n",
        "      <th>c</th>\n",
        "      <td>NaN</td>\n",
        "      <td>2</td>\n",
        "      <td>NaN</td>\n",
        "    </tr>\n",
        "    <tr>\n",
        "      <th>d</th>\n",
        "      <td>NaN</td>\n",
        "      <td>3</td>\n",
        "      <td>NaN</td>\n",
        "    </tr>\n",
        "    <tr>\n",
        "      <th>e</th>\n",
        "      <td>NaN</td>\n",
        "      <td>4</td>\n",
        "      <td>NaN</td>\n",
        "    </tr>\n",
        "    <tr>\n",
        "      <th>f</th>\n",
        "      <td>NaN</td>\n",
        "      <td>NaN</td>\n",
        "      <td>5</td>\n",
        "    </tr>\n",
        "    <tr>\n",
        "      <th>g</th>\n",
        "      <td>NaN</td>\n",
        "      <td>NaN</td>\n",
        "      <td>6</td>\n",
        "    </tr>\n",
        "  </tbody>\n",
        "</table>\n",
        "</div>"
       ],
       "metadata": {},
       "output_type": "pyout",
       "prompt_number": 77,
       "text": [
        "   one  two  three\n",
        "a    0  NaN    NaN\n",
        "b    1  NaN    NaN\n",
        "c  NaN    2    NaN\n",
        "d  NaN    3    NaN\n",
        "e  NaN    4    NaN\n",
        "f  NaN  NaN      5\n",
        "g  NaN  NaN      6"
       ]
      }
     ],
     "prompt_number": 77
    },
    {
     "cell_type": "code",
     "collapsed": false,
     "input": [
      "df1 = DataFrame(np.arange(6).reshape(3,2), index=['a','b','c'],columns=['one','two'])"
     ],
     "language": "python",
     "metadata": {},
     "outputs": [],
     "prompt_number": 78
    },
    {
     "cell_type": "code",
     "collapsed": false,
     "input": [
      "df1"
     ],
     "language": "python",
     "metadata": {},
     "outputs": [
      {
       "html": [
        "<div style=\"max-width:1500px;overflow:auto;\">\n",
        "<table border=\"1\" class=\"dataframe\">\n",
        "  <thead>\n",
        "    <tr style=\"text-align: right;\">\n",
        "      <th></th>\n",
        "      <th>one</th>\n",
        "      <th>two</th>\n",
        "    </tr>\n",
        "  </thead>\n",
        "  <tbody>\n",
        "    <tr>\n",
        "      <th>a</th>\n",
        "      <td>0</td>\n",
        "      <td>1</td>\n",
        "    </tr>\n",
        "    <tr>\n",
        "      <th>b</th>\n",
        "      <td>2</td>\n",
        "      <td>3</td>\n",
        "    </tr>\n",
        "    <tr>\n",
        "      <th>c</th>\n",
        "      <td>4</td>\n",
        "      <td>5</td>\n",
        "    </tr>\n",
        "  </tbody>\n",
        "</table>\n",
        "</div>"
       ],
       "metadata": {},
       "output_type": "pyout",
       "prompt_number": 79,
       "text": [
        "   one  two\n",
        "a    0    1\n",
        "b    2    3\n",
        "c    4    5"
       ]
      }
     ],
     "prompt_number": 79
    },
    {
     "cell_type": "code",
     "collapsed": false,
     "input": [
      "df2 = DataFrame(5+np.arange(4).reshape(2,2), index=['a','c'], columns=['three','four'])"
     ],
     "language": "python",
     "metadata": {},
     "outputs": [],
     "prompt_number": 80
    },
    {
     "cell_type": "code",
     "collapsed": false,
     "input": [
      "df2"
     ],
     "language": "python",
     "metadata": {},
     "outputs": [
      {
       "html": [
        "<div style=\"max-width:1500px;overflow:auto;\">\n",
        "<table border=\"1\" class=\"dataframe\">\n",
        "  <thead>\n",
        "    <tr style=\"text-align: right;\">\n",
        "      <th></th>\n",
        "      <th>three</th>\n",
        "      <th>four</th>\n",
        "    </tr>\n",
        "  </thead>\n",
        "  <tbody>\n",
        "    <tr>\n",
        "      <th>a</th>\n",
        "      <td>5</td>\n",
        "      <td>6</td>\n",
        "    </tr>\n",
        "    <tr>\n",
        "      <th>c</th>\n",
        "      <td>7</td>\n",
        "      <td>8</td>\n",
        "    </tr>\n",
        "  </tbody>\n",
        "</table>\n",
        "</div>"
       ],
       "metadata": {},
       "output_type": "pyout",
       "prompt_number": 81,
       "text": [
        "   three  four\n",
        "a      5     6\n",
        "c      7     8"
       ]
      }
     ],
     "prompt_number": 81
    },
    {
     "cell_type": "code",
     "collapsed": false,
     "input": [
      "pd.concat([df1,df2],axis=1,keys=['level1','level2'])"
     ],
     "language": "python",
     "metadata": {},
     "outputs": [
      {
       "html": [
        "<div style=\"max-width:1500px;overflow:auto;\">\n",
        "<table border=\"1\" class=\"dataframe\">\n",
        "  <thead>\n",
        "    <tr>\n",
        "      <th></th>\n",
        "      <th colspan=\"2\" halign=\"left\">level1</th>\n",
        "      <th colspan=\"2\" halign=\"left\">level2</th>\n",
        "    </tr>\n",
        "    <tr>\n",
        "      <th></th>\n",
        "      <th>one</th>\n",
        "      <th>two</th>\n",
        "      <th>three</th>\n",
        "      <th>four</th>\n",
        "    </tr>\n",
        "  </thead>\n",
        "  <tbody>\n",
        "    <tr>\n",
        "      <th>a</th>\n",
        "      <td>0</td>\n",
        "      <td>1</td>\n",
        "      <td>5</td>\n",
        "      <td>6</td>\n",
        "    </tr>\n",
        "    <tr>\n",
        "      <th>b</th>\n",
        "      <td>2</td>\n",
        "      <td>3</td>\n",
        "      <td>NaN</td>\n",
        "      <td>NaN</td>\n",
        "    </tr>\n",
        "    <tr>\n",
        "      <th>c</th>\n",
        "      <td>4</td>\n",
        "      <td>5</td>\n",
        "      <td>7</td>\n",
        "      <td>8</td>\n",
        "    </tr>\n",
        "  </tbody>\n",
        "</table>\n",
        "</div>"
       ],
       "metadata": {},
       "output_type": "pyout",
       "prompt_number": 82,
       "text": [
        "  level1     level2     \n",
        "     one two  three four\n",
        "a      0   1      5    6\n",
        "b      2   3    NaN  NaN\n",
        "c      4   5      7    8"
       ]
      }
     ],
     "prompt_number": 82
    },
    {
     "cell_type": "code",
     "collapsed": false,
     "input": [
      "pd.concat([df1,df2],axis=1,keys=['level1','level2'])"
     ],
     "language": "python",
     "metadata": {},
     "outputs": [
      {
       "html": [
        "<div style=\"max-width:1500px;overflow:auto;\">\n",
        "<table border=\"1\" class=\"dataframe\">\n",
        "  <thead>\n",
        "    <tr>\n",
        "      <th></th>\n",
        "      <th colspan=\"2\" halign=\"left\">level1</th>\n",
        "      <th colspan=\"2\" halign=\"left\">level2</th>\n",
        "    </tr>\n",
        "    <tr>\n",
        "      <th></th>\n",
        "      <th>one</th>\n",
        "      <th>two</th>\n",
        "      <th>three</th>\n",
        "      <th>four</th>\n",
        "    </tr>\n",
        "  </thead>\n",
        "  <tbody>\n",
        "    <tr>\n",
        "      <th>a</th>\n",
        "      <td>0</td>\n",
        "      <td>1</td>\n",
        "      <td>5</td>\n",
        "      <td>6</td>\n",
        "    </tr>\n",
        "    <tr>\n",
        "      <th>b</th>\n",
        "      <td>2</td>\n",
        "      <td>3</td>\n",
        "      <td>NaN</td>\n",
        "      <td>NaN</td>\n",
        "    </tr>\n",
        "    <tr>\n",
        "      <th>c</th>\n",
        "      <td>4</td>\n",
        "      <td>5</td>\n",
        "      <td>7</td>\n",
        "      <td>8</td>\n",
        "    </tr>\n",
        "  </tbody>\n",
        "</table>\n",
        "</div>"
       ],
       "metadata": {},
       "output_type": "pyout",
       "prompt_number": 83,
       "text": [
        "  level1     level2     \n",
        "     one two  three four\n",
        "a      0   1      5    6\n",
        "b      2   3    NaN  NaN\n",
        "c      4   5      7    8"
       ]
      }
     ],
     "prompt_number": 83
    },
    {
     "cell_type": "code",
     "collapsed": false,
     "input": [
      "pd.concat({'level1':df1,'level2':df2},axis=1)"
     ],
     "language": "python",
     "metadata": {},
     "outputs": [
      {
       "html": [
        "<div style=\"max-width:1500px;overflow:auto;\">\n",
        "<table border=\"1\" class=\"dataframe\">\n",
        "  <thead>\n",
        "    <tr>\n",
        "      <th></th>\n",
        "      <th colspan=\"2\" halign=\"left\">level1</th>\n",
        "      <th colspan=\"2\" halign=\"left\">level2</th>\n",
        "    </tr>\n",
        "    <tr>\n",
        "      <th></th>\n",
        "      <th>one</th>\n",
        "      <th>two</th>\n",
        "      <th>three</th>\n",
        "      <th>four</th>\n",
        "    </tr>\n",
        "  </thead>\n",
        "  <tbody>\n",
        "    <tr>\n",
        "      <th>a</th>\n",
        "      <td>0</td>\n",
        "      <td>1</td>\n",
        "      <td>5</td>\n",
        "      <td>6</td>\n",
        "    </tr>\n",
        "    <tr>\n",
        "      <th>b</th>\n",
        "      <td>2</td>\n",
        "      <td>3</td>\n",
        "      <td>NaN</td>\n",
        "      <td>NaN</td>\n",
        "    </tr>\n",
        "    <tr>\n",
        "      <th>c</th>\n",
        "      <td>4</td>\n",
        "      <td>5</td>\n",
        "      <td>7</td>\n",
        "      <td>8</td>\n",
        "    </tr>\n",
        "  </tbody>\n",
        "</table>\n",
        "</div>"
       ],
       "metadata": {},
       "output_type": "pyout",
       "prompt_number": 84,
       "text": [
        "  level1     level2     \n",
        "     one two  three four\n",
        "a      0   1      5    6\n",
        "b      2   3    NaN  NaN\n",
        "c      4   5      7    8"
       ]
      }
     ],
     "prompt_number": 84
    },
    {
     "cell_type": "code",
     "collapsed": false,
     "input": [
      "pd.concat([df1,df2],axis=1,keys=['level1','level2'],names=['upper','lower'])"
     ],
     "language": "python",
     "metadata": {},
     "outputs": [
      {
       "html": [
        "<div style=\"max-width:1500px;overflow:auto;\">\n",
        "<table border=\"1\" class=\"dataframe\">\n",
        "  <thead>\n",
        "    <tr>\n",
        "      <th>upper</th>\n",
        "      <th colspan=\"2\" halign=\"left\">level1</th>\n",
        "      <th colspan=\"2\" halign=\"left\">level2</th>\n",
        "    </tr>\n",
        "    <tr>\n",
        "      <th>lower</th>\n",
        "      <th>one</th>\n",
        "      <th>two</th>\n",
        "      <th>three</th>\n",
        "      <th>four</th>\n",
        "    </tr>\n",
        "  </thead>\n",
        "  <tbody>\n",
        "    <tr>\n",
        "      <th>a</th>\n",
        "      <td>0</td>\n",
        "      <td>1</td>\n",
        "      <td>5</td>\n",
        "      <td>6</td>\n",
        "    </tr>\n",
        "    <tr>\n",
        "      <th>b</th>\n",
        "      <td>2</td>\n",
        "      <td>3</td>\n",
        "      <td>NaN</td>\n",
        "      <td>NaN</td>\n",
        "    </tr>\n",
        "    <tr>\n",
        "      <th>c</th>\n",
        "      <td>4</td>\n",
        "      <td>5</td>\n",
        "      <td>7</td>\n",
        "      <td>8</td>\n",
        "    </tr>\n",
        "  </tbody>\n",
        "</table>\n",
        "</div>"
       ],
       "metadata": {},
       "output_type": "pyout",
       "prompt_number": 85,
       "text": [
        "upper level1     level2     \n",
        "lower    one two  three four\n",
        "a          0   1      5    6\n",
        "b          2   3    NaN  NaN\n",
        "c          4   5      7    8"
       ]
      }
     ],
     "prompt_number": 85
    },
    {
     "cell_type": "code",
     "collapsed": true,
     "input": [
      "df1 = DataFrame(np.random.randn(3,4),columns=['a','b','c','d'])"
     ],
     "language": "python",
     "metadata": {},
     "outputs": [],
     "prompt_number": 86
    },
    {
     "cell_type": "code",
     "collapsed": true,
     "input": [
      "df2 = DataFrame(np.random.randn(2,3),columns=['b','d','a'])"
     ],
     "language": "python",
     "metadata": {},
     "outputs": [],
     "prompt_number": 87
    },
    {
     "cell_type": "code",
     "collapsed": false,
     "input": [
      "df1"
     ],
     "language": "python",
     "metadata": {},
     "outputs": [
      {
       "html": [
        "<div style=\"max-width:1500px;overflow:auto;\">\n",
        "<table border=\"1\" class=\"dataframe\">\n",
        "  <thead>\n",
        "    <tr style=\"text-align: right;\">\n",
        "      <th></th>\n",
        "      <th>a</th>\n",
        "      <th>b</th>\n",
        "      <th>c</th>\n",
        "      <th>d</th>\n",
        "    </tr>\n",
        "  </thead>\n",
        "  <tbody>\n",
        "    <tr>\n",
        "      <th>0</th>\n",
        "      <td>0.422872</td>\n",
        "      <td>-2.828115</td>\n",
        "      <td>-0.193433</td>\n",
        "      <td>2.162396</td>\n",
        "    </tr>\n",
        "    <tr>\n",
        "      <th>1</th>\n",
        "      <td>0.705036</td>\n",
        "      <td>-0.675790</td>\n",
        "      <td>1.298525</td>\n",
        "      <td>0.670990</td>\n",
        "    </tr>\n",
        "    <tr>\n",
        "      <th>2</th>\n",
        "      <td>0.654639</td>\n",
        "      <td>-1.985186</td>\n",
        "      <td>0.547751</td>\n",
        "      <td>-0.788639</td>\n",
        "    </tr>\n",
        "  </tbody>\n",
        "</table>\n",
        "</div>"
       ],
       "metadata": {},
       "output_type": "pyout",
       "prompt_number": 88,
       "text": [
        "          a         b         c         d\n",
        "0  0.422872 -2.828115 -0.193433  2.162396\n",
        "1  0.705036 -0.675790  1.298525  0.670990\n",
        "2  0.654639 -1.985186  0.547751 -0.788639"
       ]
      }
     ],
     "prompt_number": 88
    },
    {
     "cell_type": "code",
     "collapsed": false,
     "input": [
      "df2"
     ],
     "language": "python",
     "metadata": {},
     "outputs": [
      {
       "html": [
        "<div style=\"max-width:1500px;overflow:auto;\">\n",
        "<table border=\"1\" class=\"dataframe\">\n",
        "  <thead>\n",
        "    <tr style=\"text-align: right;\">\n",
        "      <th></th>\n",
        "      <th>b</th>\n",
        "      <th>d</th>\n",
        "      <th>a</th>\n",
        "    </tr>\n",
        "  </thead>\n",
        "  <tbody>\n",
        "    <tr>\n",
        "      <th>0</th>\n",
        "      <td>0.124342</td>\n",
        "      <td>0.705639</td>\n",
        "      <td>0.631688</td>\n",
        "    </tr>\n",
        "    <tr>\n",
        "      <th>1</th>\n",
        "      <td>0.213285</td>\n",
        "      <td>0.750240</td>\n",
        "      <td>-0.047643</td>\n",
        "    </tr>\n",
        "  </tbody>\n",
        "</table>\n",
        "</div>"
       ],
       "metadata": {},
       "output_type": "pyout",
       "prompt_number": 89,
       "text": [
        "          b         d         a\n",
        "0  0.124342  0.705639  0.631688\n",
        "1  0.213285  0.750240 -0.047643"
       ]
      }
     ],
     "prompt_number": 89
    },
    {
     "cell_type": "code",
     "collapsed": false,
     "input": [
      "pd.concat([df1,df2])"
     ],
     "language": "python",
     "metadata": {},
     "outputs": [
      {
       "html": [
        "<div style=\"max-width:1500px;overflow:auto;\">\n",
        "<table border=\"1\" class=\"dataframe\">\n",
        "  <thead>\n",
        "    <tr style=\"text-align: right;\">\n",
        "      <th></th>\n",
        "      <th>a</th>\n",
        "      <th>b</th>\n",
        "      <th>c</th>\n",
        "      <th>d</th>\n",
        "    </tr>\n",
        "  </thead>\n",
        "  <tbody>\n",
        "    <tr>\n",
        "      <th>0</th>\n",
        "      <td>0.422872</td>\n",
        "      <td>-2.828115</td>\n",
        "      <td>-0.193433</td>\n",
        "      <td>2.162396</td>\n",
        "    </tr>\n",
        "    <tr>\n",
        "      <th>1</th>\n",
        "      <td>0.705036</td>\n",
        "      <td>-0.675790</td>\n",
        "      <td>1.298525</td>\n",
        "      <td>0.670990</td>\n",
        "    </tr>\n",
        "    <tr>\n",
        "      <th>2</th>\n",
        "      <td>0.654639</td>\n",
        "      <td>-1.985186</td>\n",
        "      <td>0.547751</td>\n",
        "      <td>-0.788639</td>\n",
        "    </tr>\n",
        "    <tr>\n",
        "      <th>0</th>\n",
        "      <td>0.631688</td>\n",
        "      <td>0.124342</td>\n",
        "      <td>NaN</td>\n",
        "      <td>0.705639</td>\n",
        "    </tr>\n",
        "    <tr>\n",
        "      <th>1</th>\n",
        "      <td>-0.047643</td>\n",
        "      <td>0.213285</td>\n",
        "      <td>NaN</td>\n",
        "      <td>0.750240</td>\n",
        "    </tr>\n",
        "  </tbody>\n",
        "</table>\n",
        "</div>"
       ],
       "metadata": {},
       "output_type": "pyout",
       "prompt_number": 90,
       "text": [
        "          a         b         c         d\n",
        "0  0.422872 -2.828115 -0.193433  2.162396\n",
        "1  0.705036 -0.675790  1.298525  0.670990\n",
        "2  0.654639 -1.985186  0.547751 -0.788639\n",
        "0  0.631688  0.124342       NaN  0.705639\n",
        "1 -0.047643  0.213285       NaN  0.750240"
       ]
      }
     ],
     "prompt_number": 90
    },
    {
     "cell_type": "code",
     "collapsed": false,
     "input": [
      "#ignore_index\ub294 \ub85c\uc6b0\uc0c9\uc778\uc774 \ud544\uc694\uc5c6\ub294 \uacbd\uc6b0 \uc0ac\uc6a9\n",
      "pd.concat([df1,df2],ignore_index=True)"
     ],
     "language": "python",
     "metadata": {},
     "outputs": [
      {
       "html": [
        "<div style=\"max-width:1500px;overflow:auto;\">\n",
        "<table border=\"1\" class=\"dataframe\">\n",
        "  <thead>\n",
        "    <tr style=\"text-align: right;\">\n",
        "      <th></th>\n",
        "      <th>a</th>\n",
        "      <th>b</th>\n",
        "      <th>c</th>\n",
        "      <th>d</th>\n",
        "    </tr>\n",
        "  </thead>\n",
        "  <tbody>\n",
        "    <tr>\n",
        "      <th>0</th>\n",
        "      <td>0.422872</td>\n",
        "      <td>-2.828115</td>\n",
        "      <td>-0.193433</td>\n",
        "      <td>2.162396</td>\n",
        "    </tr>\n",
        "    <tr>\n",
        "      <th>1</th>\n",
        "      <td>0.705036</td>\n",
        "      <td>-0.675790</td>\n",
        "      <td>1.298525</td>\n",
        "      <td>0.670990</td>\n",
        "    </tr>\n",
        "    <tr>\n",
        "      <th>2</th>\n",
        "      <td>0.654639</td>\n",
        "      <td>-1.985186</td>\n",
        "      <td>0.547751</td>\n",
        "      <td>-0.788639</td>\n",
        "    </tr>\n",
        "    <tr>\n",
        "      <th>3</th>\n",
        "      <td>0.631688</td>\n",
        "      <td>0.124342</td>\n",
        "      <td>NaN</td>\n",
        "      <td>0.705639</td>\n",
        "    </tr>\n",
        "    <tr>\n",
        "      <th>4</th>\n",
        "      <td>-0.047643</td>\n",
        "      <td>0.213285</td>\n",
        "      <td>NaN</td>\n",
        "      <td>0.750240</td>\n",
        "    </tr>\n",
        "  </tbody>\n",
        "</table>\n",
        "</div>"
       ],
       "metadata": {},
       "output_type": "pyout",
       "prompt_number": 91,
       "text": [
        "          a         b         c         d\n",
        "0  0.422872 -2.828115 -0.193433  2.162396\n",
        "1  0.705036 -0.675790  1.298525  0.670990\n",
        "2  0.654639 -1.985186  0.547751 -0.788639\n",
        "3  0.631688  0.124342       NaN  0.705639\n",
        "4 -0.047643  0.213285       NaN  0.750240"
       ]
      }
     ],
     "prompt_number": 91
    },
    {
     "cell_type": "heading",
     "level": 3,
     "metadata": {},
     "source": [
      "7.1.4 \uacb9\uce58\ub294 \ub370\uc774\ud130 \ud569\uce58\uae30"
     ]
    },
    {
     "cell_type": "code",
     "collapsed": true,
     "input": [
      "a = Series([np.nan,2.5,np.nan,3.5,4.5,np.nan],\n",
      "           index=['f','e','d','c','b','a'])"
     ],
     "language": "python",
     "metadata": {},
     "outputs": [],
     "prompt_number": 92
    },
    {
     "cell_type": "code",
     "collapsed": false,
     "input": [
      "a"
     ],
     "language": "python",
     "metadata": {},
     "outputs": [
      {
       "metadata": {},
       "output_type": "pyout",
       "prompt_number": 93,
       "text": [
        "f    NaN\n",
        "e    2.5\n",
        "d    NaN\n",
        "c    3.5\n",
        "b    4.5\n",
        "a    NaN\n",
        "dtype: float64"
       ]
      }
     ],
     "prompt_number": 93
    },
    {
     "cell_type": "code",
     "collapsed": true,
     "input": [
      "b = Series(np.arange(len(a),dtype=np.float64),\n",
      "            index=['f','e','d','c','b','a'])"
     ],
     "language": "python",
     "metadata": {},
     "outputs": [],
     "prompt_number": 94
    },
    {
     "cell_type": "code",
     "collapsed": true,
     "input": [
      "b[-1] = np.nan"
     ],
     "language": "python",
     "metadata": {},
     "outputs": [],
     "prompt_number": 95
    },
    {
     "cell_type": "code",
     "collapsed": false,
     "input": [
      "b"
     ],
     "language": "python",
     "metadata": {},
     "outputs": [
      {
       "metadata": {},
       "output_type": "pyout",
       "prompt_number": 96,
       "text": [
        "f     0\n",
        "e     1\n",
        "d     2\n",
        "c     3\n",
        "b     4\n",
        "a   NaN\n",
        "dtype: float64"
       ]
      }
     ],
     "prompt_number": 96
    },
    {
     "cell_type": "code",
     "collapsed": false,
     "input": [
      "#numpy.where \ud568\uc218\ub294 'x if \uc870\uac74 else y' \uac19\uc740 \uc0bc\ud56d\uc2dd\uc758 \ubca1\ud130\ud654\ub41c \ubc84\uc804(\uc870\uac74,\ucc38,\uac70\uc9d3)\n",
      "np.where(pd.isnull(a),b,a)"
     ],
     "language": "python",
     "metadata": {},
     "outputs": [
      {
       "metadata": {},
       "output_type": "pyout",
       "prompt_number": 97,
       "text": [
        "array([ 0. ,  2.5,  2. ,  3.5,  4.5,  nan])"
       ]
      }
     ],
     "prompt_number": 97
    },
    {
     "cell_type": "code",
     "collapsed": false,
     "input": [
      "pd.isnull(a)"
     ],
     "language": "python",
     "metadata": {},
     "outputs": [
      {
       "metadata": {},
       "output_type": "pyout",
       "prompt_number": 98,
       "text": [
        "f     True\n",
        "e    False\n",
        "d     True\n",
        "c    False\n",
        "b    False\n",
        "a     True\n",
        "dtype: bool"
       ]
      }
     ],
     "prompt_number": 98
    },
    {
     "cell_type": "code",
     "collapsed": false,
     "input": [
      "b"
     ],
     "language": "python",
     "metadata": {},
     "outputs": [
      {
       "metadata": {},
       "output_type": "pyout",
       "prompt_number": 99,
       "text": [
        "f     0\n",
        "e     1\n",
        "d     2\n",
        "c     3\n",
        "b     4\n",
        "a   NaN\n",
        "dtype: float64"
       ]
      }
     ],
     "prompt_number": 99
    },
    {
     "cell_type": "code",
     "collapsed": false,
     "input": [
      "a"
     ],
     "language": "python",
     "metadata": {},
     "outputs": [
      {
       "metadata": {},
       "output_type": "pyout",
       "prompt_number": 100,
       "text": [
        "f    NaN\n",
        "e    2.5\n",
        "d    NaN\n",
        "c    3.5\n",
        "b    4.5\n",
        "a    NaN\n",
        "dtype: float64"
       ]
      }
     ],
     "prompt_number": 100
    },
    {
     "cell_type": "code",
     "collapsed": false,
     "input": [
      "#b[:-2]\uc5d0 a[2:]\ub97c combine\n",
      "b[:-2].combine_first(a[2:])"
     ],
     "language": "python",
     "metadata": {},
     "outputs": [
      {
       "metadata": {},
       "output_type": "pyout",
       "prompt_number": 101,
       "text": [
        "a    NaN\n",
        "b    4.5\n",
        "c    3.0\n",
        "d    2.0\n",
        "e    1.0\n",
        "f    0.0\n",
        "dtype: float64"
       ]
      }
     ],
     "prompt_number": 101
    },
    {
     "cell_type": "code",
     "collapsed": true,
     "input": [
      "df1 = DataFrame({'a':[1.,np.nan,5.,np.nan],\n",
      "                 'b':[np.nan,2.,np.nan,6.],\n",
      "                 'c':range(2,18,4)})"
     ],
     "language": "python",
     "metadata": {},
     "outputs": [],
     "prompt_number": 102
    },
    {
     "cell_type": "code",
     "collapsed": true,
     "input": [
      "df2 = DataFrame({'a':[5.,4.,np.nan,3.,7.],\n",
      "                 'b':[np.nan,3.,4.,6.,8.]})"
     ],
     "language": "python",
     "metadata": {},
     "outputs": [],
     "prompt_number": 103
    },
    {
     "cell_type": "code",
     "collapsed": false,
     "input": [
      "print df1\n",
      "print\n",
      "print df2"
     ],
     "language": "python",
     "metadata": {},
     "outputs": [
      {
       "output_type": "stream",
       "stream": "stdout",
       "text": [
        "    a   b   c\n",
        "0   1 NaN   2\n",
        "1 NaN   2   6\n",
        "2   5 NaN  10\n",
        "3 NaN   6  14\n",
        "\n",
        "    a   b\n",
        "0   5 NaN\n",
        "1   4   3\n",
        "2 NaN   4\n",
        "3   3   6\n",
        "4   7   8\n"
       ]
      }
     ],
     "prompt_number": 104
    },
    {
     "cell_type": "code",
     "collapsed": false,
     "input": [
      "df1.combine_first(df2)"
     ],
     "language": "python",
     "metadata": {},
     "outputs": [
      {
       "html": [
        "<div style=\"max-width:1500px;overflow:auto;\">\n",
        "<table border=\"1\" class=\"dataframe\">\n",
        "  <thead>\n",
        "    <tr style=\"text-align: right;\">\n",
        "      <th></th>\n",
        "      <th>a</th>\n",
        "      <th>b</th>\n",
        "      <th>c</th>\n",
        "    </tr>\n",
        "  </thead>\n",
        "  <tbody>\n",
        "    <tr>\n",
        "      <th>0</th>\n",
        "      <td>1</td>\n",
        "      <td>NaN</td>\n",
        "      <td>2</td>\n",
        "    </tr>\n",
        "    <tr>\n",
        "      <th>1</th>\n",
        "      <td>4</td>\n",
        "      <td>2</td>\n",
        "      <td>6</td>\n",
        "    </tr>\n",
        "    <tr>\n",
        "      <th>2</th>\n",
        "      <td>5</td>\n",
        "      <td>4</td>\n",
        "      <td>10</td>\n",
        "    </tr>\n",
        "    <tr>\n",
        "      <th>3</th>\n",
        "      <td>3</td>\n",
        "      <td>6</td>\n",
        "      <td>14</td>\n",
        "    </tr>\n",
        "    <tr>\n",
        "      <th>4</th>\n",
        "      <td>7</td>\n",
        "      <td>8</td>\n",
        "      <td>NaN</td>\n",
        "    </tr>\n",
        "  </tbody>\n",
        "</table>\n",
        "</div>"
       ],
       "metadata": {},
       "output_type": "pyout",
       "prompt_number": 105,
       "text": [
        "   a   b   c\n",
        "0  1 NaN   2\n",
        "1  4   2   6\n",
        "2  5   4  10\n",
        "3  3   6  14\n",
        "4  7   8 NaN"
       ]
      }
     ],
     "prompt_number": 105
    },
    {
     "cell_type": "markdown",
     "metadata": {},
     "source": [
      "##7.2 \uc7ac\ud615\uc131\uacfc \ud53c\ubc97\n",
      "- \ud45c \ud615\uc2dd\uc758 \ub370\uc774\ud130\ub97c \uc7ac\ubc30\uce58\ud558\ub294 \ub2e4\uc591\ud55c \uc5f0\uc0b0\uc744 **\uc7ac\ud615\uc131** \uc774\ub77c\uace0 \ud568"
     ]
    },
    {
     "cell_type": "markdown",
     "metadata": {
      "collapsed": true
     },
     "source": [
      "###7.2.1 \uacc4\uce35\uc801 \uc0c9\uc778\uc73c\ub85c \uc7ac\ud615\uc131\ud558\uae30\n",
      "- stack : \ub370\uc774\ud130\uc758 column\uc744 row\ub85c \ud53c\ubc97(\ud68c\uc804)\n",
      "- unstack : \ub370\uc774\ud130\uc758 row\ub97c column\uc73c\ub85c \ud53c\ubc97(\ud68c\uc804)"
     ]
    },
    {
     "cell_type": "code",
     "collapsed": false,
     "input": [
      "data = DataFrame(np.arange(6).reshape(2,3),\n",
      "                 index=pd.Index(['Ohio','Colorado'],name='state'),\n",
      "                 columns=pd.Index(['one','two','three'],name='number'))"
     ],
     "language": "python",
     "metadata": {},
     "outputs": [],
     "prompt_number": 106
    },
    {
     "cell_type": "code",
     "collapsed": false,
     "input": [
      "data"
     ],
     "language": "python",
     "metadata": {},
     "outputs": [
      {
       "html": [
        "<div style=\"max-width:1500px;overflow:auto;\">\n",
        "<table border=\"1\" class=\"dataframe\">\n",
        "  <thead>\n",
        "    <tr style=\"text-align: right;\">\n",
        "      <th>number</th>\n",
        "      <th>one</th>\n",
        "      <th>two</th>\n",
        "      <th>three</th>\n",
        "    </tr>\n",
        "    <tr>\n",
        "      <th>state</th>\n",
        "      <th></th>\n",
        "      <th></th>\n",
        "      <th></th>\n",
        "    </tr>\n",
        "  </thead>\n",
        "  <tbody>\n",
        "    <tr>\n",
        "      <th>Ohio</th>\n",
        "      <td>0</td>\n",
        "      <td>1</td>\n",
        "      <td>2</td>\n",
        "    </tr>\n",
        "    <tr>\n",
        "      <th>Colorado</th>\n",
        "      <td>3</td>\n",
        "      <td>4</td>\n",
        "      <td>5</td>\n",
        "    </tr>\n",
        "  </tbody>\n",
        "</table>\n",
        "</div>"
       ],
       "metadata": {},
       "output_type": "pyout",
       "prompt_number": 107,
       "text": [
        "number    one  two  three\n",
        "state                    \n",
        "Ohio        0    1      2\n",
        "Colorado    3    4      5"
       ]
      }
     ],
     "prompt_number": 107
    },
    {
     "cell_type": "code",
     "collapsed": false,
     "input": [
      "#data\uc758 column\uc744 row\ub85c \ud53c\ubc97\n",
      "result = data.stack()"
     ],
     "language": "python",
     "metadata": {},
     "outputs": [],
     "prompt_number": 108
    },
    {
     "cell_type": "code",
     "collapsed": false,
     "input": [
      "result"
     ],
     "language": "python",
     "metadata": {},
     "outputs": [
      {
       "metadata": {},
       "output_type": "pyout",
       "prompt_number": 109,
       "text": [
        "state     number\n",
        "Ohio      one       0\n",
        "          two       1\n",
        "          three     2\n",
        "Colorado  one       3\n",
        "          two       4\n",
        "          three     5\n",
        "dtype: int32"
       ]
      }
     ],
     "prompt_number": 109
    },
    {
     "cell_type": "code",
     "collapsed": false,
     "input": [
      "#result\uc758 column\uc744 row\ub85c \ud53c\ubc97\n",
      "result.unstack()"
     ],
     "language": "python",
     "metadata": {},
     "outputs": [
      {
       "html": [
        "<div style=\"max-width:1500px;overflow:auto;\">\n",
        "<table border=\"1\" class=\"dataframe\">\n",
        "  <thead>\n",
        "    <tr style=\"text-align: right;\">\n",
        "      <th>number</th>\n",
        "      <th>one</th>\n",
        "      <th>two</th>\n",
        "      <th>three</th>\n",
        "    </tr>\n",
        "    <tr>\n",
        "      <th>state</th>\n",
        "      <th></th>\n",
        "      <th></th>\n",
        "      <th></th>\n",
        "    </tr>\n",
        "  </thead>\n",
        "  <tbody>\n",
        "    <tr>\n",
        "      <th>Ohio</th>\n",
        "      <td>0</td>\n",
        "      <td>1</td>\n",
        "      <td>2</td>\n",
        "    </tr>\n",
        "    <tr>\n",
        "      <th>Colorado</th>\n",
        "      <td>3</td>\n",
        "      <td>4</td>\n",
        "      <td>5</td>\n",
        "    </tr>\n",
        "  </tbody>\n",
        "</table>\n",
        "</div>"
       ],
       "metadata": {},
       "output_type": "pyout",
       "prompt_number": 110,
       "text": [
        "number    one  two  three\n",
        "state                    \n",
        "Ohio        0    1      2\n",
        "Colorado    3    4      5"
       ]
      }
     ],
     "prompt_number": 110
    },
    {
     "cell_type": "code",
     "collapsed": false,
     "input": [
      "result.unstack(0)"
     ],
     "language": "python",
     "metadata": {},
     "outputs": [
      {
       "html": [
        "<div style=\"max-width:1500px;overflow:auto;\">\n",
        "<table border=\"1\" class=\"dataframe\">\n",
        "  <thead>\n",
        "    <tr style=\"text-align: right;\">\n",
        "      <th>state</th>\n",
        "      <th>Ohio</th>\n",
        "      <th>Colorado</th>\n",
        "    </tr>\n",
        "    <tr>\n",
        "      <th>number</th>\n",
        "      <th></th>\n",
        "      <th></th>\n",
        "    </tr>\n",
        "  </thead>\n",
        "  <tbody>\n",
        "    <tr>\n",
        "      <th>one</th>\n",
        "      <td>0</td>\n",
        "      <td>3</td>\n",
        "    </tr>\n",
        "    <tr>\n",
        "      <th>two</th>\n",
        "      <td>1</td>\n",
        "      <td>4</td>\n",
        "    </tr>\n",
        "    <tr>\n",
        "      <th>three</th>\n",
        "      <td>2</td>\n",
        "      <td>5</td>\n",
        "    </tr>\n",
        "  </tbody>\n",
        "</table>\n",
        "</div>"
       ],
       "metadata": {},
       "output_type": "pyout",
       "prompt_number": 111,
       "text": [
        "state   Ohio  Colorado\n",
        "number                \n",
        "one        0         3\n",
        "two        1         4\n",
        "three      2         5"
       ]
      }
     ],
     "prompt_number": 111
    },
    {
     "cell_type": "code",
     "collapsed": false,
     "input": [
      "result.unstack('state')"
     ],
     "language": "python",
     "metadata": {},
     "outputs": [
      {
       "html": [
        "<div style=\"max-width:1500px;overflow:auto;\">\n",
        "<table border=\"1\" class=\"dataframe\">\n",
        "  <thead>\n",
        "    <tr style=\"text-align: right;\">\n",
        "      <th>state</th>\n",
        "      <th>Ohio</th>\n",
        "      <th>Colorado</th>\n",
        "    </tr>\n",
        "    <tr>\n",
        "      <th>number</th>\n",
        "      <th></th>\n",
        "      <th></th>\n",
        "    </tr>\n",
        "  </thead>\n",
        "  <tbody>\n",
        "    <tr>\n",
        "      <th>one</th>\n",
        "      <td>0</td>\n",
        "      <td>3</td>\n",
        "    </tr>\n",
        "    <tr>\n",
        "      <th>two</th>\n",
        "      <td>1</td>\n",
        "      <td>4</td>\n",
        "    </tr>\n",
        "    <tr>\n",
        "      <th>three</th>\n",
        "      <td>2</td>\n",
        "      <td>5</td>\n",
        "    </tr>\n",
        "  </tbody>\n",
        "</table>\n",
        "</div>"
       ],
       "metadata": {},
       "output_type": "pyout",
       "prompt_number": 112,
       "text": [
        "state   Ohio  Colorado\n",
        "number                \n",
        "one        0         3\n",
        "two        1         4\n",
        "three      2         5"
       ]
      }
     ],
     "prompt_number": 112
    },
    {
     "cell_type": "code",
     "collapsed": true,
     "input": [
      "s1 = Series([0,1,2,3],index=['a','b','c','d'])"
     ],
     "language": "python",
     "metadata": {},
     "outputs": [],
     "prompt_number": 113
    },
    {
     "cell_type": "code",
     "collapsed": true,
     "input": [
      "s2 = Series([4,5,6],index=['c','d','e'])"
     ],
     "language": "python",
     "metadata": {},
     "outputs": [],
     "prompt_number": 114
    },
    {
     "cell_type": "code",
     "collapsed": false,
     "input": [
      "print s1\n",
      "print s2"
     ],
     "language": "python",
     "metadata": {},
     "outputs": [
      {
       "output_type": "stream",
       "stream": "stdout",
       "text": [
        "a    0\n",
        "b    1\n",
        "c    2\n",
        "d    3\n",
        "dtype: int64\n",
        "c    4\n",
        "d    5\n",
        "e    6\n",
        "dtype: int64\n"
       ]
      }
     ],
     "prompt_number": 115
    },
    {
     "cell_type": "code",
     "collapsed": true,
     "input": [
      "data2 = pd.concat([s1,s2],keys=['one','two'])"
     ],
     "language": "python",
     "metadata": {},
     "outputs": [],
     "prompt_number": 116
    },
    {
     "cell_type": "code",
     "collapsed": false,
     "input": [
      "data2"
     ],
     "language": "python",
     "metadata": {
      "scrolled": true
     },
     "outputs": [
      {
       "metadata": {},
       "output_type": "pyout",
       "prompt_number": 117,
       "text": [
        "one  a    0\n",
        "     b    1\n",
        "     c    2\n",
        "     d    3\n",
        "two  c    4\n",
        "     d    5\n",
        "     e    6\n",
        "dtype: int64"
       ]
      }
     ],
     "prompt_number": 117
    },
    {
     "cell_type": "code",
     "collapsed": false,
     "input": [
      "data2.unstack()"
     ],
     "language": "python",
     "metadata": {},
     "outputs": [
      {
       "html": [
        "<div style=\"max-width:1500px;overflow:auto;\">\n",
        "<table border=\"1\" class=\"dataframe\">\n",
        "  <thead>\n",
        "    <tr style=\"text-align: right;\">\n",
        "      <th></th>\n",
        "      <th>a</th>\n",
        "      <th>b</th>\n",
        "      <th>c</th>\n",
        "      <th>d</th>\n",
        "      <th>e</th>\n",
        "    </tr>\n",
        "  </thead>\n",
        "  <tbody>\n",
        "    <tr>\n",
        "      <th>one</th>\n",
        "      <td>0</td>\n",
        "      <td>1</td>\n",
        "      <td>2</td>\n",
        "      <td>3</td>\n",
        "      <td>NaN</td>\n",
        "    </tr>\n",
        "    <tr>\n",
        "      <th>two</th>\n",
        "      <td>NaN</td>\n",
        "      <td>NaN</td>\n",
        "      <td>4</td>\n",
        "      <td>5</td>\n",
        "      <td>6</td>\n",
        "    </tr>\n",
        "  </tbody>\n",
        "</table>\n",
        "</div>"
       ],
       "metadata": {},
       "output_type": "pyout",
       "prompt_number": 118,
       "text": [
        "      a   b  c  d   e\n",
        "one   0   1  2  3 NaN\n",
        "two NaN NaN  4  5   6"
       ]
      }
     ],
     "prompt_number": 118
    },
    {
     "cell_type": "code",
     "collapsed": false,
     "input": [
      "data2.unstack().stack()"
     ],
     "language": "python",
     "metadata": {},
     "outputs": [
      {
       "metadata": {},
       "output_type": "pyout",
       "prompt_number": 119,
       "text": [
        "one  a    0\n",
        "     b    1\n",
        "     c    2\n",
        "     d    3\n",
        "two  c    4\n",
        "     d    5\n",
        "     e    6\n",
        "dtype: float64"
       ]
      }
     ],
     "prompt_number": 119
    },
    {
     "cell_type": "code",
     "collapsed": false,
     "input": [
      "data2.unstack().stack(dropna=False)"
     ],
     "language": "python",
     "metadata": {},
     "outputs": [
      {
       "metadata": {},
       "output_type": "pyout",
       "prompt_number": 120,
       "text": [
        "one  a     0\n",
        "     b     1\n",
        "     c     2\n",
        "     d     3\n",
        "     e   NaN\n",
        "two  a   NaN\n",
        "     b   NaN\n",
        "     c     4\n",
        "     d     5\n",
        "     e     6\n",
        "dtype: float64"
       ]
      }
     ],
     "prompt_number": 120
    },
    {
     "cell_type": "code",
     "collapsed": true,
     "input": [
      "df = DataFrame({'left':result,'right':result+5},\n",
      "              columns=pd.Index(['left','right'],name='side'))"
     ],
     "language": "python",
     "metadata": {},
     "outputs": [],
     "prompt_number": 121
    },
    {
     "cell_type": "code",
     "collapsed": false,
     "input": [
      "df"
     ],
     "language": "python",
     "metadata": {},
     "outputs": [
      {
       "html": [
        "<div style=\"max-width:1500px;overflow:auto;\">\n",
        "<table border=\"1\" class=\"dataframe\">\n",
        "  <thead>\n",
        "    <tr style=\"text-align: right;\">\n",
        "      <th></th>\n",
        "      <th>side</th>\n",
        "      <th>left</th>\n",
        "      <th>right</th>\n",
        "    </tr>\n",
        "    <tr>\n",
        "      <th>state</th>\n",
        "      <th>number</th>\n",
        "      <th></th>\n",
        "      <th></th>\n",
        "    </tr>\n",
        "  </thead>\n",
        "  <tbody>\n",
        "    <tr>\n",
        "      <th rowspan=\"3\" valign=\"top\">Ohio</th>\n",
        "      <th>one</th>\n",
        "      <td>0</td>\n",
        "      <td>5</td>\n",
        "    </tr>\n",
        "    <tr>\n",
        "      <th>two</th>\n",
        "      <td>1</td>\n",
        "      <td>6</td>\n",
        "    </tr>\n",
        "    <tr>\n",
        "      <th>three</th>\n",
        "      <td>2</td>\n",
        "      <td>7</td>\n",
        "    </tr>\n",
        "    <tr>\n",
        "      <th rowspan=\"3\" valign=\"top\">Colorado</th>\n",
        "      <th>one</th>\n",
        "      <td>3</td>\n",
        "      <td>8</td>\n",
        "    </tr>\n",
        "    <tr>\n",
        "      <th>two</th>\n",
        "      <td>4</td>\n",
        "      <td>9</td>\n",
        "    </tr>\n",
        "    <tr>\n",
        "      <th>three</th>\n",
        "      <td>5</td>\n",
        "      <td>10</td>\n",
        "    </tr>\n",
        "  </tbody>\n",
        "</table>\n",
        "</div>"
       ],
       "metadata": {},
       "output_type": "pyout",
       "prompt_number": 122,
       "text": [
        "side             left  right\n",
        "state    number             \n",
        "Ohio     one        0      5\n",
        "         two        1      6\n",
        "         three      2      7\n",
        "Colorado one        3      8\n",
        "         two        4      9\n",
        "         three      5     10"
       ]
      }
     ],
     "prompt_number": 122
    },
    {
     "cell_type": "code",
     "collapsed": false,
     "input": [
      "#row\uc758 'state'\ub97c column\uc73c\ub85c \ud53c\ubc97\n",
      "df.unstack('state')"
     ],
     "language": "python",
     "metadata": {},
     "outputs": [
      {
       "html": [
        "<div style=\"max-width:1500px;overflow:auto;\">\n",
        "<table border=\"1\" class=\"dataframe\">\n",
        "  <thead>\n",
        "    <tr>\n",
        "      <th>side</th>\n",
        "      <th colspan=\"2\" halign=\"left\">left</th>\n",
        "      <th colspan=\"2\" halign=\"left\">right</th>\n",
        "    </tr>\n",
        "    <tr>\n",
        "      <th>state</th>\n",
        "      <th>Ohio</th>\n",
        "      <th>Colorado</th>\n",
        "      <th>Ohio</th>\n",
        "      <th>Colorado</th>\n",
        "    </tr>\n",
        "    <tr>\n",
        "      <th>number</th>\n",
        "      <th></th>\n",
        "      <th></th>\n",
        "      <th></th>\n",
        "      <th></th>\n",
        "    </tr>\n",
        "  </thead>\n",
        "  <tbody>\n",
        "    <tr>\n",
        "      <th>one</th>\n",
        "      <td>0</td>\n",
        "      <td>3</td>\n",
        "      <td>5</td>\n",
        "      <td>8</td>\n",
        "    </tr>\n",
        "    <tr>\n",
        "      <th>two</th>\n",
        "      <td>1</td>\n",
        "      <td>4</td>\n",
        "      <td>6</td>\n",
        "      <td>9</td>\n",
        "    </tr>\n",
        "    <tr>\n",
        "      <th>three</th>\n",
        "      <td>2</td>\n",
        "      <td>5</td>\n",
        "      <td>7</td>\n",
        "      <td>10</td>\n",
        "    </tr>\n",
        "  </tbody>\n",
        "</table>\n",
        "</div>"
       ],
       "metadata": {},
       "output_type": "pyout",
       "prompt_number": 123,
       "text": [
        "side   left          right         \n",
        "state  Ohio Colorado  Ohio Colorado\n",
        "number                             \n",
        "one       0        3     5        8\n",
        "two       1        4     6        9\n",
        "three     2        5     7       10"
       ]
      }
     ],
     "prompt_number": 123
    },
    {
     "cell_type": "code",
     "collapsed": false,
     "input": [
      "#column\uc758 'side'\ub97c row\ub85c \ud53c\ubc97\n",
      "df.unstack('state').stack('side')"
     ],
     "language": "python",
     "metadata": {},
     "outputs": [
      {
       "html": [
        "<div style=\"max-width:1500px;overflow:auto;\">\n",
        "<table border=\"1\" class=\"dataframe\">\n",
        "  <thead>\n",
        "    <tr style=\"text-align: right;\">\n",
        "      <th></th>\n",
        "      <th>state</th>\n",
        "      <th>Ohio</th>\n",
        "      <th>Colorado</th>\n",
        "    </tr>\n",
        "    <tr>\n",
        "      <th>number</th>\n",
        "      <th>side</th>\n",
        "      <th></th>\n",
        "      <th></th>\n",
        "    </tr>\n",
        "  </thead>\n",
        "  <tbody>\n",
        "    <tr>\n",
        "      <th rowspan=\"2\" valign=\"top\">one</th>\n",
        "      <th>left</th>\n",
        "      <td>0</td>\n",
        "      <td>3</td>\n",
        "    </tr>\n",
        "    <tr>\n",
        "      <th>right</th>\n",
        "      <td>5</td>\n",
        "      <td>8</td>\n",
        "    </tr>\n",
        "    <tr>\n",
        "      <th rowspan=\"2\" valign=\"top\">two</th>\n",
        "      <th>left</th>\n",
        "      <td>1</td>\n",
        "      <td>4</td>\n",
        "    </tr>\n",
        "    <tr>\n",
        "      <th>right</th>\n",
        "      <td>6</td>\n",
        "      <td>9</td>\n",
        "    </tr>\n",
        "    <tr>\n",
        "      <th rowspan=\"2\" valign=\"top\">three</th>\n",
        "      <th>left</th>\n",
        "      <td>2</td>\n",
        "      <td>5</td>\n",
        "    </tr>\n",
        "    <tr>\n",
        "      <th>right</th>\n",
        "      <td>7</td>\n",
        "      <td>10</td>\n",
        "    </tr>\n",
        "  </tbody>\n",
        "</table>\n",
        "</div>"
       ],
       "metadata": {},
       "output_type": "pyout",
       "prompt_number": 124,
       "text": [
        "state         Ohio  Colorado\n",
        "number side                 \n",
        "one    left      0         3\n",
        "       right     5         8\n",
        "two    left      1         4\n",
        "       right     6         9\n",
        "three  left      2         5\n",
        "       right     7        10"
       ]
      }
     ],
     "prompt_number": 124
    },
    {
     "cell_type": "heading",
     "level": 3,
     "metadata": {},
     "source": [
      "7.2.2 \ud53c\ubc84\ud305\uc73c\ub85c \ub370\uc774\ud130 \ub098\uc5f4 \ubc29\uc2dd \ubc14\uafb8\uae30"
     ]
    },
    {
     "cell_type": "code",
     "collapsed": false,
     "input": [
      "ldata = pd.read_csv('ex_7_2_2.txt',header=None,names=['date','time','item','value'])"
     ],
     "language": "python",
     "metadata": {},
     "outputs": [],
     "prompt_number": 125
    },
    {
     "cell_type": "code",
     "collapsed": false,
     "input": [
      "ldata[:10]"
     ],
     "language": "python",
     "metadata": {},
     "outputs": [
      {
       "html": [
        "<div style=\"max-width:1500px;overflow:auto;\">\n",
        "<table border=\"1\" class=\"dataframe\">\n",
        "  <thead>\n",
        "    <tr style=\"text-align: right;\">\n",
        "      <th></th>\n",
        "      <th>date</th>\n",
        "      <th>time</th>\n",
        "      <th>item</th>\n",
        "      <th>value</th>\n",
        "    </tr>\n",
        "  </thead>\n",
        "  <tbody>\n",
        "    <tr>\n",
        "      <th>0</th>\n",
        "      <td>1959-03-31</td>\n",
        "      <td>00:00:00</td>\n",
        "      <td>realgdp</td>\n",
        "      <td>2710.349</td>\n",
        "    </tr>\n",
        "    <tr>\n",
        "      <th>1</th>\n",
        "      <td>1959-03-31</td>\n",
        "      <td>00:00:00</td>\n",
        "      <td>infl</td>\n",
        "      <td>0.000</td>\n",
        "    </tr>\n",
        "    <tr>\n",
        "      <th>2</th>\n",
        "      <td>1959-03-31</td>\n",
        "      <td>00:00:00</td>\n",
        "      <td>unemp</td>\n",
        "      <td>5.800</td>\n",
        "    </tr>\n",
        "    <tr>\n",
        "      <th>3</th>\n",
        "      <td>1959-06-30</td>\n",
        "      <td>00:00:00</td>\n",
        "      <td>realgdp</td>\n",
        "      <td>2778.801</td>\n",
        "    </tr>\n",
        "    <tr>\n",
        "      <th>4</th>\n",
        "      <td>1959-06-30</td>\n",
        "      <td>00:00:00</td>\n",
        "      <td>infl</td>\n",
        "      <td>2.340</td>\n",
        "    </tr>\n",
        "    <tr>\n",
        "      <th>5</th>\n",
        "      <td>1959-06-30</td>\n",
        "      <td>00:00:00</td>\n",
        "      <td>unemp</td>\n",
        "      <td>5.100</td>\n",
        "    </tr>\n",
        "    <tr>\n",
        "      <th>6</th>\n",
        "      <td>1959-09-30</td>\n",
        "      <td>00:00:00</td>\n",
        "      <td>realgdp</td>\n",
        "      <td>2775.488</td>\n",
        "    </tr>\n",
        "    <tr>\n",
        "      <th>7</th>\n",
        "      <td>1959-09-30</td>\n",
        "      <td>00:00:00</td>\n",
        "      <td>infl</td>\n",
        "      <td>2.740</td>\n",
        "    </tr>\n",
        "    <tr>\n",
        "      <th>8</th>\n",
        "      <td>1959-09-30</td>\n",
        "      <td>00:00:00</td>\n",
        "      <td>unemp</td>\n",
        "      <td>5.300</td>\n",
        "    </tr>\n",
        "    <tr>\n",
        "      <th>9</th>\n",
        "      <td>1959-12-31</td>\n",
        "      <td>00:00:00</td>\n",
        "      <td>realgdp</td>\n",
        "      <td>2785.204</td>\n",
        "    </tr>\n",
        "  </tbody>\n",
        "</table>\n",
        "</div>"
       ],
       "metadata": {},
       "output_type": "pyout",
       "prompt_number": 126,
       "text": [
        "         date      time     item     value\n",
        "0  1959-03-31  00:00:00  realgdp  2710.349\n",
        "1  1959-03-31  00:00:00     infl     0.000\n",
        "2  1959-03-31  00:00:00    unemp     5.800\n",
        "3  1959-06-30  00:00:00  realgdp  2778.801\n",
        "4  1959-06-30  00:00:00     infl     2.340\n",
        "5  1959-06-30  00:00:00    unemp     5.100\n",
        "6  1959-09-30  00:00:00  realgdp  2775.488\n",
        "7  1959-09-30  00:00:00     infl     2.740\n",
        "8  1959-09-30  00:00:00    unemp     5.300\n",
        "9  1959-12-31  00:00:00  realgdp  2785.204"
       ]
      }
     ],
     "prompt_number": 126
    },
    {
     "cell_type": "code",
     "collapsed": false,
     "input": [
      "#pivot(index,column,\ud45c\ud604\ud558\uace0 \uc2f6\uc740 \ub370\uc774\ud130)\n",
      "pivoted = ldata.pivot('date','item','value')"
     ],
     "language": "python",
     "metadata": {},
     "outputs": [],
     "prompt_number": 127
    },
    {
     "cell_type": "code",
     "collapsed": false,
     "input": [
      "pivoted.head()"
     ],
     "language": "python",
     "metadata": {},
     "outputs": [
      {
       "html": [
        "<div style=\"max-width:1500px;overflow:auto;\">\n",
        "<table border=\"1\" class=\"dataframe\">\n",
        "  <thead>\n",
        "    <tr style=\"text-align: right;\">\n",
        "      <th>item</th>\n",
        "      <th>infl</th>\n",
        "      <th>realgdp</th>\n",
        "      <th>unemp</th>\n",
        "    </tr>\n",
        "    <tr>\n",
        "      <th>date</th>\n",
        "      <th></th>\n",
        "      <th></th>\n",
        "      <th></th>\n",
        "    </tr>\n",
        "  </thead>\n",
        "  <tbody>\n",
        "    <tr>\n",
        "      <th>1959-03-31</th>\n",
        "      <td>0.00</td>\n",
        "      <td>2710.349</td>\n",
        "      <td>5.8</td>\n",
        "    </tr>\n",
        "    <tr>\n",
        "      <th>1959-06-30</th>\n",
        "      <td>2.34</td>\n",
        "      <td>2778.801</td>\n",
        "      <td>5.1</td>\n",
        "    </tr>\n",
        "    <tr>\n",
        "      <th>1959-09-30</th>\n",
        "      <td>2.74</td>\n",
        "      <td>2775.488</td>\n",
        "      <td>5.3</td>\n",
        "    </tr>\n",
        "    <tr>\n",
        "      <th>1959-12-31</th>\n",
        "      <td>NaN</td>\n",
        "      <td>2785.204</td>\n",
        "      <td>NaN</td>\n",
        "    </tr>\n",
        "  </tbody>\n",
        "</table>\n",
        "</div>"
       ],
       "metadata": {},
       "output_type": "pyout",
       "prompt_number": 128,
       "text": [
        "item        infl   realgdp  unemp\n",
        "date                             \n",
        "1959-03-31  0.00  2710.349    5.8\n",
        "1959-06-30  2.34  2778.801    5.1\n",
        "1959-09-30  2.74  2775.488    5.3\n",
        "1959-12-31   NaN  2785.204    NaN"
       ]
      }
     ],
     "prompt_number": 128
    },
    {
     "cell_type": "code",
     "collapsed": false,
     "input": [
      "ldata"
     ],
     "language": "python",
     "metadata": {},
     "outputs": [
      {
       "html": [
        "<div style=\"max-width:1500px;overflow:auto;\">\n",
        "<table border=\"1\" class=\"dataframe\">\n",
        "  <thead>\n",
        "    <tr style=\"text-align: right;\">\n",
        "      <th></th>\n",
        "      <th>date</th>\n",
        "      <th>time</th>\n",
        "      <th>item</th>\n",
        "      <th>value</th>\n",
        "    </tr>\n",
        "  </thead>\n",
        "  <tbody>\n",
        "    <tr>\n",
        "      <th>0</th>\n",
        "      <td>1959-03-31</td>\n",
        "      <td>00:00:00</td>\n",
        "      <td>realgdp</td>\n",
        "      <td>2710.349</td>\n",
        "    </tr>\n",
        "    <tr>\n",
        "      <th>1</th>\n",
        "      <td>1959-03-31</td>\n",
        "      <td>00:00:00</td>\n",
        "      <td>infl</td>\n",
        "      <td>0.000</td>\n",
        "    </tr>\n",
        "    <tr>\n",
        "      <th>2</th>\n",
        "      <td>1959-03-31</td>\n",
        "      <td>00:00:00</td>\n",
        "      <td>unemp</td>\n",
        "      <td>5.800</td>\n",
        "    </tr>\n",
        "    <tr>\n",
        "      <th>3</th>\n",
        "      <td>1959-06-30</td>\n",
        "      <td>00:00:00</td>\n",
        "      <td>realgdp</td>\n",
        "      <td>2778.801</td>\n",
        "    </tr>\n",
        "    <tr>\n",
        "      <th>4</th>\n",
        "      <td>1959-06-30</td>\n",
        "      <td>00:00:00</td>\n",
        "      <td>infl</td>\n",
        "      <td>2.340</td>\n",
        "    </tr>\n",
        "    <tr>\n",
        "      <th>5</th>\n",
        "      <td>1959-06-30</td>\n",
        "      <td>00:00:00</td>\n",
        "      <td>unemp</td>\n",
        "      <td>5.100</td>\n",
        "    </tr>\n",
        "    <tr>\n",
        "      <th>6</th>\n",
        "      <td>1959-09-30</td>\n",
        "      <td>00:00:00</td>\n",
        "      <td>realgdp</td>\n",
        "      <td>2775.488</td>\n",
        "    </tr>\n",
        "    <tr>\n",
        "      <th>7</th>\n",
        "      <td>1959-09-30</td>\n",
        "      <td>00:00:00</td>\n",
        "      <td>infl</td>\n",
        "      <td>2.740</td>\n",
        "    </tr>\n",
        "    <tr>\n",
        "      <th>8</th>\n",
        "      <td>1959-09-30</td>\n",
        "      <td>00:00:00</td>\n",
        "      <td>unemp</td>\n",
        "      <td>5.300</td>\n",
        "    </tr>\n",
        "    <tr>\n",
        "      <th>9</th>\n",
        "      <td>1959-12-31</td>\n",
        "      <td>00:00:00</td>\n",
        "      <td>realgdp</td>\n",
        "      <td>2785.204</td>\n",
        "    </tr>\n",
        "  </tbody>\n",
        "</table>\n",
        "</div>"
       ],
       "metadata": {},
       "output_type": "pyout",
       "prompt_number": 129,
       "text": [
        "         date      time     item     value\n",
        "0  1959-03-31  00:00:00  realgdp  2710.349\n",
        "1  1959-03-31  00:00:00     infl     0.000\n",
        "2  1959-03-31  00:00:00    unemp     5.800\n",
        "3  1959-06-30  00:00:00  realgdp  2778.801\n",
        "4  1959-06-30  00:00:00     infl     2.340\n",
        "5  1959-06-30  00:00:00    unemp     5.100\n",
        "6  1959-09-30  00:00:00  realgdp  2775.488\n",
        "7  1959-09-30  00:00:00     infl     2.740\n",
        "8  1959-09-30  00:00:00    unemp     5.300\n",
        "9  1959-12-31  00:00:00  realgdp  2785.204"
       ]
      }
     ],
     "prompt_number": 129
    },
    {
     "cell_type": "code",
     "collapsed": true,
     "input": [
      "ldata['value2'] = np.random.randn(len(ldata))"
     ],
     "language": "python",
     "metadata": {},
     "outputs": [],
     "prompt_number": 130
    },
    {
     "cell_type": "code",
     "collapsed": false,
     "input": [
      "ldata[:10]"
     ],
     "language": "python",
     "metadata": {},
     "outputs": [
      {
       "html": [
        "<div style=\"max-width:1500px;overflow:auto;\">\n",
        "<table border=\"1\" class=\"dataframe\">\n",
        "  <thead>\n",
        "    <tr style=\"text-align: right;\">\n",
        "      <th></th>\n",
        "      <th>date</th>\n",
        "      <th>time</th>\n",
        "      <th>item</th>\n",
        "      <th>value</th>\n",
        "      <th>value2</th>\n",
        "    </tr>\n",
        "  </thead>\n",
        "  <tbody>\n",
        "    <tr>\n",
        "      <th>0</th>\n",
        "      <td>1959-03-31</td>\n",
        "      <td>00:00:00</td>\n",
        "      <td>realgdp</td>\n",
        "      <td>2710.349</td>\n",
        "      <td>1.296549</td>\n",
        "    </tr>\n",
        "    <tr>\n",
        "      <th>1</th>\n",
        "      <td>1959-03-31</td>\n",
        "      <td>00:00:00</td>\n",
        "      <td>infl</td>\n",
        "      <td>0.000</td>\n",
        "      <td>-0.823548</td>\n",
        "    </tr>\n",
        "    <tr>\n",
        "      <th>2</th>\n",
        "      <td>1959-03-31</td>\n",
        "      <td>00:00:00</td>\n",
        "      <td>unemp</td>\n",
        "      <td>5.800</td>\n",
        "      <td>-1.693294</td>\n",
        "    </tr>\n",
        "    <tr>\n",
        "      <th>3</th>\n",
        "      <td>1959-06-30</td>\n",
        "      <td>00:00:00</td>\n",
        "      <td>realgdp</td>\n",
        "      <td>2778.801</td>\n",
        "      <td>-1.404858</td>\n",
        "    </tr>\n",
        "    <tr>\n",
        "      <th>4</th>\n",
        "      <td>1959-06-30</td>\n",
        "      <td>00:00:00</td>\n",
        "      <td>infl</td>\n",
        "      <td>2.340</td>\n",
        "      <td>-0.128143</td>\n",
        "    </tr>\n",
        "    <tr>\n",
        "      <th>5</th>\n",
        "      <td>1959-06-30</td>\n",
        "      <td>00:00:00</td>\n",
        "      <td>unemp</td>\n",
        "      <td>5.100</td>\n",
        "      <td>-0.165398</td>\n",
        "    </tr>\n",
        "    <tr>\n",
        "      <th>6</th>\n",
        "      <td>1959-09-30</td>\n",
        "      <td>00:00:00</td>\n",
        "      <td>realgdp</td>\n",
        "      <td>2775.488</td>\n",
        "      <td>-0.727373</td>\n",
        "    </tr>\n",
        "    <tr>\n",
        "      <th>7</th>\n",
        "      <td>1959-09-30</td>\n",
        "      <td>00:00:00</td>\n",
        "      <td>infl</td>\n",
        "      <td>2.740</td>\n",
        "      <td>1.021268</td>\n",
        "    </tr>\n",
        "    <tr>\n",
        "      <th>8</th>\n",
        "      <td>1959-09-30</td>\n",
        "      <td>00:00:00</td>\n",
        "      <td>unemp</td>\n",
        "      <td>5.300</td>\n",
        "      <td>-0.579744</td>\n",
        "    </tr>\n",
        "    <tr>\n",
        "      <th>9</th>\n",
        "      <td>1959-12-31</td>\n",
        "      <td>00:00:00</td>\n",
        "      <td>realgdp</td>\n",
        "      <td>2785.204</td>\n",
        "      <td>0.018339</td>\n",
        "    </tr>\n",
        "  </tbody>\n",
        "</table>\n",
        "</div>"
       ],
       "metadata": {},
       "output_type": "pyout",
       "prompt_number": 131,
       "text": [
        "         date      time     item     value    value2\n",
        "0  1959-03-31  00:00:00  realgdp  2710.349  1.296549\n",
        "1  1959-03-31  00:00:00     infl     0.000 -0.823548\n",
        "2  1959-03-31  00:00:00    unemp     5.800 -1.693294\n",
        "3  1959-06-30  00:00:00  realgdp  2778.801 -1.404858\n",
        "4  1959-06-30  00:00:00     infl     2.340 -0.128143\n",
        "5  1959-06-30  00:00:00    unemp     5.100 -0.165398\n",
        "6  1959-09-30  00:00:00  realgdp  2775.488 -0.727373\n",
        "7  1959-09-30  00:00:00     infl     2.740  1.021268\n",
        "8  1959-09-30  00:00:00    unemp     5.300 -0.579744\n",
        "9  1959-12-31  00:00:00  realgdp  2785.204  0.018339"
       ]
      }
     ],
     "prompt_number": 131
    },
    {
     "cell_type": "code",
     "collapsed": false,
     "input": [
      "#date\ub97c row, item\uc744 column\uc73c\ub85c\n",
      "pivoted = ldata.pivot('date','item')"
     ],
     "language": "python",
     "metadata": {},
     "outputs": [],
     "prompt_number": 132
    },
    {
     "cell_type": "code",
     "collapsed": false,
     "input": [
      "pivoted[:5]"
     ],
     "language": "python",
     "metadata": {},
     "outputs": [
      {
       "html": [
        "<div style=\"max-width:1500px;overflow:auto;\">\n",
        "<table border=\"1\" class=\"dataframe\">\n",
        "  <thead>\n",
        "    <tr>\n",
        "      <th></th>\n",
        "      <th colspan=\"3\" halign=\"left\">time</th>\n",
        "      <th colspan=\"3\" halign=\"left\">value</th>\n",
        "      <th colspan=\"3\" halign=\"left\">value2</th>\n",
        "    </tr>\n",
        "    <tr>\n",
        "      <th>item</th>\n",
        "      <th>infl</th>\n",
        "      <th>realgdp</th>\n",
        "      <th>unemp</th>\n",
        "      <th>infl</th>\n",
        "      <th>realgdp</th>\n",
        "      <th>unemp</th>\n",
        "      <th>infl</th>\n",
        "      <th>realgdp</th>\n",
        "      <th>unemp</th>\n",
        "    </tr>\n",
        "    <tr>\n",
        "      <th>date</th>\n",
        "      <th></th>\n",
        "      <th></th>\n",
        "      <th></th>\n",
        "      <th></th>\n",
        "      <th></th>\n",
        "      <th></th>\n",
        "      <th></th>\n",
        "      <th></th>\n",
        "      <th></th>\n",
        "    </tr>\n",
        "  </thead>\n",
        "  <tbody>\n",
        "    <tr>\n",
        "      <th>1959-03-31</th>\n",
        "      <td>00:00:00</td>\n",
        "      <td>00:00:00</td>\n",
        "      <td>00:00:00</td>\n",
        "      <td>0.00</td>\n",
        "      <td>2710.349</td>\n",
        "      <td>5.8</td>\n",
        "      <td>-0.823548</td>\n",
        "      <td>1.296549</td>\n",
        "      <td>-1.693294</td>\n",
        "    </tr>\n",
        "    <tr>\n",
        "      <th>1959-06-30</th>\n",
        "      <td>00:00:00</td>\n",
        "      <td>00:00:00</td>\n",
        "      <td>00:00:00</td>\n",
        "      <td>2.34</td>\n",
        "      <td>2778.801</td>\n",
        "      <td>5.1</td>\n",
        "      <td>-0.128143</td>\n",
        "      <td>-1.404858</td>\n",
        "      <td>-0.165398</td>\n",
        "    </tr>\n",
        "    <tr>\n",
        "      <th>1959-09-30</th>\n",
        "      <td>00:00:00</td>\n",
        "      <td>00:00:00</td>\n",
        "      <td>00:00:00</td>\n",
        "      <td>2.74</td>\n",
        "      <td>2775.488</td>\n",
        "      <td>5.3</td>\n",
        "      <td>1.021268</td>\n",
        "      <td>-0.727373</td>\n",
        "      <td>-0.579744</td>\n",
        "    </tr>\n",
        "    <tr>\n",
        "      <th>1959-12-31</th>\n",
        "      <td>NaN</td>\n",
        "      <td>00:00:00</td>\n",
        "      <td>NaN</td>\n",
        "      <td>NaN</td>\n",
        "      <td>2785.204</td>\n",
        "      <td>NaN</td>\n",
        "      <td>NaN</td>\n",
        "      <td>0.018339</td>\n",
        "      <td>NaN</td>\n",
        "    </tr>\n",
        "  </tbody>\n",
        "</table>\n",
        "</div>"
       ],
       "metadata": {},
       "output_type": "pyout",
       "prompt_number": 133,
       "text": [
        "                time                     value                    value2  \\\n",
        "item            infl   realgdp     unemp  infl   realgdp unemp      infl   \n",
        "date                                                                       \n",
        "1959-03-31  00:00:00  00:00:00  00:00:00  0.00  2710.349   5.8 -0.823548   \n",
        "1959-06-30  00:00:00  00:00:00  00:00:00  2.34  2778.801   5.1 -0.128143   \n",
        "1959-09-30  00:00:00  00:00:00  00:00:00  2.74  2775.488   5.3  1.021268   \n",
        "1959-12-31       NaN  00:00:00       NaN   NaN  2785.204   NaN       NaN   \n",
        "\n",
        "                                \n",
        "item         realgdp     unemp  \n",
        "date                            \n",
        "1959-03-31  1.296549 -1.693294  \n",
        "1959-06-30 -1.404858 -0.165398  \n",
        "1959-09-30 -0.727373 -0.579744  \n",
        "1959-12-31  0.018339       NaN  "
       ]
      }
     ],
     "prompt_number": 133
    },
    {
     "cell_type": "code",
     "collapsed": false,
     "input": [
      "pivoted['value'][:5]"
     ],
     "language": "python",
     "metadata": {},
     "outputs": [
      {
       "html": [
        "<div style=\"max-width:1500px;overflow:auto;\">\n",
        "<table border=\"1\" class=\"dataframe\">\n",
        "  <thead>\n",
        "    <tr style=\"text-align: right;\">\n",
        "      <th>item</th>\n",
        "      <th>infl</th>\n",
        "      <th>realgdp</th>\n",
        "      <th>unemp</th>\n",
        "    </tr>\n",
        "    <tr>\n",
        "      <th>date</th>\n",
        "      <th></th>\n",
        "      <th></th>\n",
        "      <th></th>\n",
        "    </tr>\n",
        "  </thead>\n",
        "  <tbody>\n",
        "    <tr>\n",
        "      <th>1959-03-31</th>\n",
        "      <td>0.00</td>\n",
        "      <td>2710.349</td>\n",
        "      <td>5.8</td>\n",
        "    </tr>\n",
        "    <tr>\n",
        "      <th>1959-06-30</th>\n",
        "      <td>2.34</td>\n",
        "      <td>2778.801</td>\n",
        "      <td>5.1</td>\n",
        "    </tr>\n",
        "    <tr>\n",
        "      <th>1959-09-30</th>\n",
        "      <td>2.74</td>\n",
        "      <td>2775.488</td>\n",
        "      <td>5.3</td>\n",
        "    </tr>\n",
        "    <tr>\n",
        "      <th>1959-12-31</th>\n",
        "      <td>NaN</td>\n",
        "      <td>2785.204</td>\n",
        "      <td>NaN</td>\n",
        "    </tr>\n",
        "  </tbody>\n",
        "</table>\n",
        "</div>"
       ],
       "metadata": {},
       "output_type": "pyout",
       "prompt_number": 134,
       "text": [
        "item        infl   realgdp  unemp\n",
        "date                             \n",
        "1959-03-31  0.00  2710.349    5.8\n",
        "1959-06-30  2.34  2778.801    5.1\n",
        "1959-09-30  2.74  2775.488    5.3\n",
        "1959-12-31   NaN  2785.204    NaN"
       ]
      }
     ],
     "prompt_number": 134
    },
    {
     "cell_type": "code",
     "collapsed": false,
     "input": [
      "ldata"
     ],
     "language": "python",
     "metadata": {},
     "outputs": [
      {
       "html": [
        "<div style=\"max-width:1500px;overflow:auto;\">\n",
        "<table border=\"1\" class=\"dataframe\">\n",
        "  <thead>\n",
        "    <tr style=\"text-align: right;\">\n",
        "      <th></th>\n",
        "      <th>date</th>\n",
        "      <th>time</th>\n",
        "      <th>item</th>\n",
        "      <th>value</th>\n",
        "      <th>value2</th>\n",
        "    </tr>\n",
        "  </thead>\n",
        "  <tbody>\n",
        "    <tr>\n",
        "      <th>0</th>\n",
        "      <td>1959-03-31</td>\n",
        "      <td>00:00:00</td>\n",
        "      <td>realgdp</td>\n",
        "      <td>2710.349</td>\n",
        "      <td>1.296549</td>\n",
        "    </tr>\n",
        "    <tr>\n",
        "      <th>1</th>\n",
        "      <td>1959-03-31</td>\n",
        "      <td>00:00:00</td>\n",
        "      <td>infl</td>\n",
        "      <td>0.000</td>\n",
        "      <td>-0.823548</td>\n",
        "    </tr>\n",
        "    <tr>\n",
        "      <th>2</th>\n",
        "      <td>1959-03-31</td>\n",
        "      <td>00:00:00</td>\n",
        "      <td>unemp</td>\n",
        "      <td>5.800</td>\n",
        "      <td>-1.693294</td>\n",
        "    </tr>\n",
        "    <tr>\n",
        "      <th>3</th>\n",
        "      <td>1959-06-30</td>\n",
        "      <td>00:00:00</td>\n",
        "      <td>realgdp</td>\n",
        "      <td>2778.801</td>\n",
        "      <td>-1.404858</td>\n",
        "    </tr>\n",
        "    <tr>\n",
        "      <th>4</th>\n",
        "      <td>1959-06-30</td>\n",
        "      <td>00:00:00</td>\n",
        "      <td>infl</td>\n",
        "      <td>2.340</td>\n",
        "      <td>-0.128143</td>\n",
        "    </tr>\n",
        "    <tr>\n",
        "      <th>5</th>\n",
        "      <td>1959-06-30</td>\n",
        "      <td>00:00:00</td>\n",
        "      <td>unemp</td>\n",
        "      <td>5.100</td>\n",
        "      <td>-0.165398</td>\n",
        "    </tr>\n",
        "    <tr>\n",
        "      <th>6</th>\n",
        "      <td>1959-09-30</td>\n",
        "      <td>00:00:00</td>\n",
        "      <td>realgdp</td>\n",
        "      <td>2775.488</td>\n",
        "      <td>-0.727373</td>\n",
        "    </tr>\n",
        "    <tr>\n",
        "      <th>7</th>\n",
        "      <td>1959-09-30</td>\n",
        "      <td>00:00:00</td>\n",
        "      <td>infl</td>\n",
        "      <td>2.740</td>\n",
        "      <td>1.021268</td>\n",
        "    </tr>\n",
        "    <tr>\n",
        "      <th>8</th>\n",
        "      <td>1959-09-30</td>\n",
        "      <td>00:00:00</td>\n",
        "      <td>unemp</td>\n",
        "      <td>5.300</td>\n",
        "      <td>-0.579744</td>\n",
        "    </tr>\n",
        "    <tr>\n",
        "      <th>9</th>\n",
        "      <td>1959-12-31</td>\n",
        "      <td>00:00:00</td>\n",
        "      <td>realgdp</td>\n",
        "      <td>2785.204</td>\n",
        "      <td>0.018339</td>\n",
        "    </tr>\n",
        "  </tbody>\n",
        "</table>\n",
        "</div>"
       ],
       "metadata": {},
       "output_type": "pyout",
       "prompt_number": 135,
       "text": [
        "         date      time     item     value    value2\n",
        "0  1959-03-31  00:00:00  realgdp  2710.349  1.296549\n",
        "1  1959-03-31  00:00:00     infl     0.000 -0.823548\n",
        "2  1959-03-31  00:00:00    unemp     5.800 -1.693294\n",
        "3  1959-06-30  00:00:00  realgdp  2778.801 -1.404858\n",
        "4  1959-06-30  00:00:00     infl     2.340 -0.128143\n",
        "5  1959-06-30  00:00:00    unemp     5.100 -0.165398\n",
        "6  1959-09-30  00:00:00  realgdp  2775.488 -0.727373\n",
        "7  1959-09-30  00:00:00     infl     2.740  1.021268\n",
        "8  1959-09-30  00:00:00    unemp     5.300 -0.579744\n",
        "9  1959-12-31  00:00:00  realgdp  2785.204  0.018339"
       ]
      }
     ],
     "prompt_number": 135
    },
    {
     "cell_type": "code",
     "collapsed": false,
     "input": [
      "#index\uc5d0 \uc788\ub358 'item'\uc744 column\uc73c\ub85c \ud53c\ubc97\n",
      "unstacked = ldata.set_index(['date','item']).unstack('item')"
     ],
     "language": "python",
     "metadata": {},
     "outputs": [],
     "prompt_number": 136
    },
    {
     "cell_type": "code",
     "collapsed": false,
     "input": [
      "unstacked[:7]"
     ],
     "language": "python",
     "metadata": {},
     "outputs": [
      {
       "html": [
        "<div style=\"max-width:1500px;overflow:auto;\">\n",
        "<table border=\"1\" class=\"dataframe\">\n",
        "  <thead>\n",
        "    <tr>\n",
        "      <th></th>\n",
        "      <th colspan=\"3\" halign=\"left\">time</th>\n",
        "      <th colspan=\"3\" halign=\"left\">value</th>\n",
        "      <th colspan=\"3\" halign=\"left\">value2</th>\n",
        "    </tr>\n",
        "    <tr>\n",
        "      <th>item</th>\n",
        "      <th>infl</th>\n",
        "      <th>realgdp</th>\n",
        "      <th>unemp</th>\n",
        "      <th>infl</th>\n",
        "      <th>realgdp</th>\n",
        "      <th>unemp</th>\n",
        "      <th>infl</th>\n",
        "      <th>realgdp</th>\n",
        "      <th>unemp</th>\n",
        "    </tr>\n",
        "    <tr>\n",
        "      <th>date</th>\n",
        "      <th></th>\n",
        "      <th></th>\n",
        "      <th></th>\n",
        "      <th></th>\n",
        "      <th></th>\n",
        "      <th></th>\n",
        "      <th></th>\n",
        "      <th></th>\n",
        "      <th></th>\n",
        "    </tr>\n",
        "  </thead>\n",
        "  <tbody>\n",
        "    <tr>\n",
        "      <th>1959-03-31</th>\n",
        "      <td>00:00:00</td>\n",
        "      <td>00:00:00</td>\n",
        "      <td>00:00:00</td>\n",
        "      <td>0.00</td>\n",
        "      <td>2710.349</td>\n",
        "      <td>5.8</td>\n",
        "      <td>-0.823548</td>\n",
        "      <td>1.296549</td>\n",
        "      <td>-1.693294</td>\n",
        "    </tr>\n",
        "    <tr>\n",
        "      <th>1959-06-30</th>\n",
        "      <td>00:00:00</td>\n",
        "      <td>00:00:00</td>\n",
        "      <td>00:00:00</td>\n",
        "      <td>2.34</td>\n",
        "      <td>2778.801</td>\n",
        "      <td>5.1</td>\n",
        "      <td>-0.128143</td>\n",
        "      <td>-1.404858</td>\n",
        "      <td>-0.165398</td>\n",
        "    </tr>\n",
        "    <tr>\n",
        "      <th>1959-09-30</th>\n",
        "      <td>00:00:00</td>\n",
        "      <td>00:00:00</td>\n",
        "      <td>00:00:00</td>\n",
        "      <td>2.74</td>\n",
        "      <td>2775.488</td>\n",
        "      <td>5.3</td>\n",
        "      <td>1.021268</td>\n",
        "      <td>-0.727373</td>\n",
        "      <td>-0.579744</td>\n",
        "    </tr>\n",
        "    <tr>\n",
        "      <th>1959-12-31</th>\n",
        "      <td>NaN</td>\n",
        "      <td>00:00:00</td>\n",
        "      <td>NaN</td>\n",
        "      <td>NaN</td>\n",
        "      <td>2785.204</td>\n",
        "      <td>NaN</td>\n",
        "      <td>NaN</td>\n",
        "      <td>0.018339</td>\n",
        "      <td>NaN</td>\n",
        "    </tr>\n",
        "  </tbody>\n",
        "</table>\n",
        "</div>"
       ],
       "metadata": {},
       "output_type": "pyout",
       "prompt_number": 137,
       "text": [
        "                time                     value                    value2  \\\n",
        "item            infl   realgdp     unemp  infl   realgdp unemp      infl   \n",
        "date                                                                       \n",
        "1959-03-31  00:00:00  00:00:00  00:00:00  0.00  2710.349   5.8 -0.823548   \n",
        "1959-06-30  00:00:00  00:00:00  00:00:00  2.34  2778.801   5.1 -0.128143   \n",
        "1959-09-30  00:00:00  00:00:00  00:00:00  2.74  2775.488   5.3  1.021268   \n",
        "1959-12-31       NaN  00:00:00       NaN   NaN  2785.204   NaN       NaN   \n",
        "\n",
        "                                \n",
        "item         realgdp     unemp  \n",
        "date                            \n",
        "1959-03-31  1.296549 -1.693294  \n",
        "1959-06-30 -1.404858 -0.165398  \n",
        "1959-09-30 -0.727373 -0.579744  \n",
        "1959-12-31  0.018339       NaN  "
       ]
      }
     ],
     "prompt_number": 137
    },
    {
     "cell_type": "heading",
     "level": 2,
     "metadata": {},
     "source": [
      "7.3 \ub370\uc774\ud130 \ubcc0\ud615"
     ]
    },
    {
     "cell_type": "heading",
     "level": 3,
     "metadata": {},
     "source": [
      "7.3.1 \uc911\ubcf5 \uc81c\uac70\ud558\uae30"
     ]
    },
    {
     "cell_type": "code",
     "collapsed": true,
     "input": [
      "data = DataFrame({'k1':['one']*3+['two']*4,\n",
      "                 'k2':[1,1,2,3,3,4,4]})"
     ],
     "language": "python",
     "metadata": {},
     "outputs": [],
     "prompt_number": 138
    },
    {
     "cell_type": "code",
     "collapsed": false,
     "input": [
      "data"
     ],
     "language": "python",
     "metadata": {},
     "outputs": [
      {
       "html": [
        "<div style=\"max-width:1500px;overflow:auto;\">\n",
        "<table border=\"1\" class=\"dataframe\">\n",
        "  <thead>\n",
        "    <tr style=\"text-align: right;\">\n",
        "      <th></th>\n",
        "      <th>k1</th>\n",
        "      <th>k2</th>\n",
        "    </tr>\n",
        "  </thead>\n",
        "  <tbody>\n",
        "    <tr>\n",
        "      <th>0</th>\n",
        "      <td>one</td>\n",
        "      <td>1</td>\n",
        "    </tr>\n",
        "    <tr>\n",
        "      <th>1</th>\n",
        "      <td>one</td>\n",
        "      <td>1</td>\n",
        "    </tr>\n",
        "    <tr>\n",
        "      <th>2</th>\n",
        "      <td>one</td>\n",
        "      <td>2</td>\n",
        "    </tr>\n",
        "    <tr>\n",
        "      <th>3</th>\n",
        "      <td>two</td>\n",
        "      <td>3</td>\n",
        "    </tr>\n",
        "    <tr>\n",
        "      <th>4</th>\n",
        "      <td>two</td>\n",
        "      <td>3</td>\n",
        "    </tr>\n",
        "    <tr>\n",
        "      <th>5</th>\n",
        "      <td>two</td>\n",
        "      <td>4</td>\n",
        "    </tr>\n",
        "    <tr>\n",
        "      <th>6</th>\n",
        "      <td>two</td>\n",
        "      <td>4</td>\n",
        "    </tr>\n",
        "  </tbody>\n",
        "</table>\n",
        "</div>"
       ],
       "metadata": {},
       "output_type": "pyout",
       "prompt_number": 139,
       "text": [
        "    k1  k2\n",
        "0  one   1\n",
        "1  one   1\n",
        "2  one   2\n",
        "3  two   3\n",
        "4  two   3\n",
        "5  two   4\n",
        "6  two   4"
       ]
      }
     ],
     "prompt_number": 139
    },
    {
     "cell_type": "code",
     "collapsed": false,
     "input": [
      "#duplicated \uba54\uc11c\ub4dc\ub294 \uac01 row\uac00 \uc911\ubcf5\uc778\uc9c0 \uc544\ub2cc\uc9c0\ub97c \uc54c\ub824\uc8fc\ub294 boolean Series\uac1d\uccb4 \ubc18\ud658\n",
      "data.duplicated()"
     ],
     "language": "python",
     "metadata": {},
     "outputs": [
      {
       "metadata": {},
       "output_type": "pyout",
       "prompt_number": 140,
       "text": [
        "0    False\n",
        "1     True\n",
        "2    False\n",
        "3    False\n",
        "4     True\n",
        "5    False\n",
        "6     True\n",
        "dtype: bool"
       ]
      }
     ],
     "prompt_number": 140
    },
    {
     "cell_type": "code",
     "collapsed": false,
     "input": [
      "#drop_duplicates\ub294 duplicated \ubc30\uc5f4\uc774 False(\uc911\ubcf5\ub41c\uac83\uc744 \uc81c\uac70\ud55c)\uc778 DataFrame\uc744 \ubc18\ud658\ud55c\ub2e4.\n",
      "data.drop_duplicates()"
     ],
     "language": "python",
     "metadata": {},
     "outputs": [
      {
       "html": [
        "<div style=\"max-width:1500px;overflow:auto;\">\n",
        "<table border=\"1\" class=\"dataframe\">\n",
        "  <thead>\n",
        "    <tr style=\"text-align: right;\">\n",
        "      <th></th>\n",
        "      <th>k1</th>\n",
        "      <th>k2</th>\n",
        "    </tr>\n",
        "  </thead>\n",
        "  <tbody>\n",
        "    <tr>\n",
        "      <th>0</th>\n",
        "      <td>one</td>\n",
        "      <td>1</td>\n",
        "    </tr>\n",
        "    <tr>\n",
        "      <th>2</th>\n",
        "      <td>one</td>\n",
        "      <td>2</td>\n",
        "    </tr>\n",
        "    <tr>\n",
        "      <th>3</th>\n",
        "      <td>two</td>\n",
        "      <td>3</td>\n",
        "    </tr>\n",
        "    <tr>\n",
        "      <th>5</th>\n",
        "      <td>two</td>\n",
        "      <td>4</td>\n",
        "    </tr>\n",
        "  </tbody>\n",
        "</table>\n",
        "</div>"
       ],
       "metadata": {},
       "output_type": "pyout",
       "prompt_number": 141,
       "text": [
        "    k1  k2\n",
        "0  one   1\n",
        "2  one   2\n",
        "3  two   3\n",
        "5  two   4"
       ]
      }
     ],
     "prompt_number": 141
    },
    {
     "cell_type": "code",
     "collapsed": true,
     "input": [
      "#'v1' column \uc0c8\ub85c \uc0dd\uc131\n",
      "data['v1'] = range(7)"
     ],
     "language": "python",
     "metadata": {},
     "outputs": [],
     "prompt_number": 142
    },
    {
     "cell_type": "code",
     "collapsed": false,
     "input": [
      "#drop_duplicates\uc5d0 \uc911\ubcf5\uae30\uc900\uc744 \uc815\ud560 \uc218 \uc788\uc74c\n",
      "data.drop_duplicates(['k1'])"
     ],
     "language": "python",
     "metadata": {},
     "outputs": [
      {
       "html": [
        "<div style=\"max-width:1500px;overflow:auto;\">\n",
        "<table border=\"1\" class=\"dataframe\">\n",
        "  <thead>\n",
        "    <tr style=\"text-align: right;\">\n",
        "      <th></th>\n",
        "      <th>k1</th>\n",
        "      <th>k2</th>\n",
        "      <th>v1</th>\n",
        "    </tr>\n",
        "  </thead>\n",
        "  <tbody>\n",
        "    <tr>\n",
        "      <th>0</th>\n",
        "      <td>one</td>\n",
        "      <td>1</td>\n",
        "      <td>0</td>\n",
        "    </tr>\n",
        "    <tr>\n",
        "      <th>3</th>\n",
        "      <td>two</td>\n",
        "      <td>3</td>\n",
        "      <td>3</td>\n",
        "    </tr>\n",
        "  </tbody>\n",
        "</table>\n",
        "</div>"
       ],
       "metadata": {},
       "output_type": "pyout",
       "prompt_number": 143,
       "text": [
        "    k1  k2  v1\n",
        "0  one   1   0\n",
        "3  two   3   3"
       ]
      }
     ],
     "prompt_number": 143
    },
    {
     "cell_type": "code",
     "collapsed": false,
     "input": [
      "data"
     ],
     "language": "python",
     "metadata": {},
     "outputs": [
      {
       "html": [
        "<div style=\"max-width:1500px;overflow:auto;\">\n",
        "<table border=\"1\" class=\"dataframe\">\n",
        "  <thead>\n",
        "    <tr style=\"text-align: right;\">\n",
        "      <th></th>\n",
        "      <th>k1</th>\n",
        "      <th>k2</th>\n",
        "      <th>v1</th>\n",
        "    </tr>\n",
        "  </thead>\n",
        "  <tbody>\n",
        "    <tr>\n",
        "      <th>0</th>\n",
        "      <td>one</td>\n",
        "      <td>1</td>\n",
        "      <td>0</td>\n",
        "    </tr>\n",
        "    <tr>\n",
        "      <th>1</th>\n",
        "      <td>one</td>\n",
        "      <td>1</td>\n",
        "      <td>1</td>\n",
        "    </tr>\n",
        "    <tr>\n",
        "      <th>2</th>\n",
        "      <td>one</td>\n",
        "      <td>2</td>\n",
        "      <td>2</td>\n",
        "    </tr>\n",
        "    <tr>\n",
        "      <th>3</th>\n",
        "      <td>two</td>\n",
        "      <td>3</td>\n",
        "      <td>3</td>\n",
        "    </tr>\n",
        "    <tr>\n",
        "      <th>4</th>\n",
        "      <td>two</td>\n",
        "      <td>3</td>\n",
        "      <td>4</td>\n",
        "    </tr>\n",
        "    <tr>\n",
        "      <th>5</th>\n",
        "      <td>two</td>\n",
        "      <td>4</td>\n",
        "      <td>5</td>\n",
        "    </tr>\n",
        "    <tr>\n",
        "      <th>6</th>\n",
        "      <td>two</td>\n",
        "      <td>4</td>\n",
        "      <td>6</td>\n",
        "    </tr>\n",
        "  </tbody>\n",
        "</table>\n",
        "</div>"
       ],
       "metadata": {},
       "output_type": "pyout",
       "prompt_number": 144,
       "text": [
        "    k1  k2  v1\n",
        "0  one   1   0\n",
        "1  one   1   1\n",
        "2  one   2   2\n",
        "3  two   3   3\n",
        "4  two   3   4\n",
        "5  two   4   5\n",
        "6  two   4   6"
       ]
      }
     ],
     "prompt_number": 144
    },
    {
     "cell_type": "code",
     "collapsed": false,
     "input": [
      "#duplicated \uc640 drop_duplicates\ub294 \uae30\ubcf8\uc801\uc73c\ub85c \ucc98\uc74c \ubc1c\uacac\ub41c \uac12\uc744 \uc720\uc9c0\ud558\ub294\ub370,\n",
      "#take_last=True \uc635\uc158\uc744 \ud1b5\ud574 \ub9c8\uc9c0\ub9c9\uc73c\ub85c \ubc1c\uacac\ub41c \uac12\uc744 \ubc18\ud658\ud560 \uc218 \uc788\ub2e4.\n",
      "data.drop_duplicates(['k1','k2'], take_last=True)"
     ],
     "language": "python",
     "metadata": {},
     "outputs": [
      {
       "html": [
        "<div style=\"max-width:1500px;overflow:auto;\">\n",
        "<table border=\"1\" class=\"dataframe\">\n",
        "  <thead>\n",
        "    <tr style=\"text-align: right;\">\n",
        "      <th></th>\n",
        "      <th>k1</th>\n",
        "      <th>k2</th>\n",
        "      <th>v1</th>\n",
        "    </tr>\n",
        "  </thead>\n",
        "  <tbody>\n",
        "    <tr>\n",
        "      <th>1</th>\n",
        "      <td>one</td>\n",
        "      <td>1</td>\n",
        "      <td>1</td>\n",
        "    </tr>\n",
        "    <tr>\n",
        "      <th>2</th>\n",
        "      <td>one</td>\n",
        "      <td>2</td>\n",
        "      <td>2</td>\n",
        "    </tr>\n",
        "    <tr>\n",
        "      <th>4</th>\n",
        "      <td>two</td>\n",
        "      <td>3</td>\n",
        "      <td>4</td>\n",
        "    </tr>\n",
        "    <tr>\n",
        "      <th>6</th>\n",
        "      <td>two</td>\n",
        "      <td>4</td>\n",
        "      <td>6</td>\n",
        "    </tr>\n",
        "  </tbody>\n",
        "</table>\n",
        "</div>"
       ],
       "metadata": {},
       "output_type": "pyout",
       "prompt_number": 145,
       "text": [
        "    k1  k2  v1\n",
        "1  one   1   1\n",
        "2  one   2   2\n",
        "4  two   3   4\n",
        "6  two   4   6"
       ]
      }
     ],
     "prompt_number": 145
    },
    {
     "cell_type": "heading",
     "level": 3,
     "metadata": {},
     "source": [
      "7.3.2 \ud568\uc218\ub098 \ub9e4\uce6d \uc774\uc6a9\ud558\uc5ec \ub370\uc774\ud130 \ubcc0\ud615\ud558\uae30"
     ]
    },
    {
     "cell_type": "code",
     "collapsed": true,
     "input": [
      "data = DataFrame({'food':['bacon','pulled pork','bacon','Pastrami','corned beef','Bacon','pastrami','honey ham','nova lox'],\n",
      "                 'ounces': [4,3,12,6,7.5,8,3,5,6]})"
     ],
     "language": "python",
     "metadata": {},
     "outputs": [],
     "prompt_number": 146
    },
    {
     "cell_type": "code",
     "collapsed": false,
     "input": [
      "data"
     ],
     "language": "python",
     "metadata": {},
     "outputs": [
      {
       "html": [
        "<div style=\"max-width:1500px;overflow:auto;\">\n",
        "<table border=\"1\" class=\"dataframe\">\n",
        "  <thead>\n",
        "    <tr style=\"text-align: right;\">\n",
        "      <th></th>\n",
        "      <th>food</th>\n",
        "      <th>ounces</th>\n",
        "    </tr>\n",
        "  </thead>\n",
        "  <tbody>\n",
        "    <tr>\n",
        "      <th>0</th>\n",
        "      <td>bacon</td>\n",
        "      <td>4.0</td>\n",
        "    </tr>\n",
        "    <tr>\n",
        "      <th>1</th>\n",
        "      <td>pulled pork</td>\n",
        "      <td>3.0</td>\n",
        "    </tr>\n",
        "    <tr>\n",
        "      <th>2</th>\n",
        "      <td>bacon</td>\n",
        "      <td>12.0</td>\n",
        "    </tr>\n",
        "    <tr>\n",
        "      <th>3</th>\n",
        "      <td>Pastrami</td>\n",
        "      <td>6.0</td>\n",
        "    </tr>\n",
        "    <tr>\n",
        "      <th>4</th>\n",
        "      <td>corned beef</td>\n",
        "      <td>7.5</td>\n",
        "    </tr>\n",
        "    <tr>\n",
        "      <th>5</th>\n",
        "      <td>Bacon</td>\n",
        "      <td>8.0</td>\n",
        "    </tr>\n",
        "    <tr>\n",
        "      <th>6</th>\n",
        "      <td>pastrami</td>\n",
        "      <td>3.0</td>\n",
        "    </tr>\n",
        "    <tr>\n",
        "      <th>7</th>\n",
        "      <td>honey ham</td>\n",
        "      <td>5.0</td>\n",
        "    </tr>\n",
        "    <tr>\n",
        "      <th>8</th>\n",
        "      <td>nova lox</td>\n",
        "      <td>6.0</td>\n",
        "    </tr>\n",
        "  </tbody>\n",
        "</table>\n",
        "</div>"
       ],
       "metadata": {},
       "output_type": "pyout",
       "prompt_number": 147,
       "text": [
        "          food  ounces\n",
        "0        bacon     4.0\n",
        "1  pulled pork     3.0\n",
        "2        bacon    12.0\n",
        "3     Pastrami     6.0\n",
        "4  corned beef     7.5\n",
        "5        Bacon     8.0\n",
        "6     pastrami     3.0\n",
        "7    honey ham     5.0\n",
        "8     nova lox     6.0"
       ]
      }
     ],
     "prompt_number": 147
    },
    {
     "cell_type": "code",
     "collapsed": true,
     "input": [
      "meat_to_animal = {\n",
      "    'bacon':'pig',\n",
      "    'pulled pork':'pig',\n",
      "    'pastrami':'cow',\n",
      "    'corned beef':'cow',\n",
      "    'honey ham':'pig',\n",
      "    'nova lox':'salmon'\n",
      "}"
     ],
     "language": "python",
     "metadata": {},
     "outputs": [],
     "prompt_number": 148
    },
    {
     "cell_type": "code",
     "collapsed": true,
     "input": [
      "#'food' column\uc744 \uc804\ubd80 \uc18c\ubb38\uc790\ub85c \ubcc0\uacbd\ud55c \ub4a4, meat_to_animal\uacfc mapping\n",
      "data['animal']=data['food'].map(str.lower).map(meat_to_animal)"
     ],
     "language": "python",
     "metadata": {},
     "outputs": [],
     "prompt_number": 149
    },
    {
     "cell_type": "code",
     "collapsed": false,
     "input": [
      "data"
     ],
     "language": "python",
     "metadata": {},
     "outputs": [
      {
       "html": [
        "<div style=\"max-width:1500px;overflow:auto;\">\n",
        "<table border=\"1\" class=\"dataframe\">\n",
        "  <thead>\n",
        "    <tr style=\"text-align: right;\">\n",
        "      <th></th>\n",
        "      <th>food</th>\n",
        "      <th>ounces</th>\n",
        "      <th>animal</th>\n",
        "    </tr>\n",
        "  </thead>\n",
        "  <tbody>\n",
        "    <tr>\n",
        "      <th>0</th>\n",
        "      <td>bacon</td>\n",
        "      <td>4.0</td>\n",
        "      <td>pig</td>\n",
        "    </tr>\n",
        "    <tr>\n",
        "      <th>1</th>\n",
        "      <td>pulled pork</td>\n",
        "      <td>3.0</td>\n",
        "      <td>pig</td>\n",
        "    </tr>\n",
        "    <tr>\n",
        "      <th>2</th>\n",
        "      <td>bacon</td>\n",
        "      <td>12.0</td>\n",
        "      <td>pig</td>\n",
        "    </tr>\n",
        "    <tr>\n",
        "      <th>3</th>\n",
        "      <td>Pastrami</td>\n",
        "      <td>6.0</td>\n",
        "      <td>cow</td>\n",
        "    </tr>\n",
        "    <tr>\n",
        "      <th>4</th>\n",
        "      <td>corned beef</td>\n",
        "      <td>7.5</td>\n",
        "      <td>cow</td>\n",
        "    </tr>\n",
        "    <tr>\n",
        "      <th>5</th>\n",
        "      <td>Bacon</td>\n",
        "      <td>8.0</td>\n",
        "      <td>pig</td>\n",
        "    </tr>\n",
        "    <tr>\n",
        "      <th>6</th>\n",
        "      <td>pastrami</td>\n",
        "      <td>3.0</td>\n",
        "      <td>cow</td>\n",
        "    </tr>\n",
        "    <tr>\n",
        "      <th>7</th>\n",
        "      <td>honey ham</td>\n",
        "      <td>5.0</td>\n",
        "      <td>pig</td>\n",
        "    </tr>\n",
        "    <tr>\n",
        "      <th>8</th>\n",
        "      <td>nova lox</td>\n",
        "      <td>6.0</td>\n",
        "      <td>salmon</td>\n",
        "    </tr>\n",
        "  </tbody>\n",
        "</table>\n",
        "</div>"
       ],
       "metadata": {},
       "output_type": "pyout",
       "prompt_number": 150,
       "text": [
        "          food  ounces  animal\n",
        "0        bacon     4.0     pig\n",
        "1  pulled pork     3.0     pig\n",
        "2        bacon    12.0     pig\n",
        "3     Pastrami     6.0     cow\n",
        "4  corned beef     7.5     cow\n",
        "5        Bacon     8.0     pig\n",
        "6     pastrami     3.0     cow\n",
        "7    honey ham     5.0     pig\n",
        "8     nova lox     6.0  salmon"
       ]
      }
     ],
     "prompt_number": 150
    },
    {
     "cell_type": "code",
     "collapsed": false,
     "input": [
      "data['food'].map(lambda x: meat_to_animal[x.lower()])"
     ],
     "language": "python",
     "metadata": {},
     "outputs": [
      {
       "metadata": {},
       "output_type": "pyout",
       "prompt_number": 151,
       "text": [
        "0       pig\n",
        "1       pig\n",
        "2       pig\n",
        "3       cow\n",
        "4       cow\n",
        "5       pig\n",
        "6       cow\n",
        "7       pig\n",
        "8    salmon\n",
        "Name: food, dtype: object"
       ]
      }
     ],
     "prompt_number": 151
    },
    {
     "cell_type": "heading",
     "level": 3,
     "metadata": {},
     "source": [
      "7.3.3 \uac12 \uce58\ud658\ud558\uae30"
     ]
    },
    {
     "cell_type": "code",
     "collapsed": true,
     "input": [
      "#fillna \uba54\uc11c\ub4dc\ub97c \uc0ac\uc6a9\ud574\uc11c \ub204\ub77d\ub41c \uac12 \ucc44\uc6b0\uae30\n",
      "data = Series([1.,-999.,2.,-999.,-1000.,3.])"
     ],
     "language": "python",
     "metadata": {},
     "outputs": [],
     "prompt_number": 152
    },
    {
     "cell_type": "code",
     "collapsed": false,
     "input": [
      "data"
     ],
     "language": "python",
     "metadata": {},
     "outputs": [
      {
       "metadata": {},
       "output_type": "pyout",
       "prompt_number": 153,
       "text": [
        "0       1\n",
        "1    -999\n",
        "2       2\n",
        "3    -999\n",
        "4   -1000\n",
        "5       3\n",
        "dtype: float64"
       ]
      }
     ],
     "prompt_number": 153
    },
    {
     "cell_type": "code",
     "collapsed": false,
     "input": [
      "#replace \uba54\uc11c\ub4dc\ub97c \ud1b5\ud574 \ud2b9\uc815 \uac12\uc744 NaN\uc73c\ub85c \uce58\ud658\ud560 \uc218 \uc788\ub2e4.\n",
      "data.replace(-999,np.nan)"
     ],
     "language": "python",
     "metadata": {},
     "outputs": [
      {
       "metadata": {},
       "output_type": "pyout",
       "prompt_number": 154,
       "text": [
        "0       1\n",
        "1     NaN\n",
        "2       2\n",
        "3     NaN\n",
        "4   -1000\n",
        "5       3\n",
        "dtype: float64"
       ]
      }
     ],
     "prompt_number": 154
    },
    {
     "cell_type": "code",
     "collapsed": false,
     "input": [
      "data.replace([-999,-1000],np.nan)"
     ],
     "language": "python",
     "metadata": {},
     "outputs": [
      {
       "metadata": {},
       "output_type": "pyout",
       "prompt_number": 155,
       "text": [
        "0     1\n",
        "1   NaN\n",
        "2     2\n",
        "3   NaN\n",
        "4   NaN\n",
        "5     3\n",
        "dtype: float64"
       ]
      }
     ],
     "prompt_number": 155
    },
    {
     "cell_type": "code",
     "collapsed": false,
     "input": [
      "data.replace([-999,-1000],[np.nan,0])"
     ],
     "language": "python",
     "metadata": {},
     "outputs": [
      {
       "metadata": {},
       "output_type": "pyout",
       "prompt_number": 156,
       "text": [
        "0     1\n",
        "1   NaN\n",
        "2     2\n",
        "3   NaN\n",
        "4     0\n",
        "5     3\n",
        "dtype: float64"
       ]
      }
     ],
     "prompt_number": 156
    },
    {
     "cell_type": "code",
     "collapsed": false,
     "input": [
      "#\ub9ac\uc2a4\ud2b8 \ub300\uc2e0 \uc0ac\uc804\uc744 \uc774\uc6a9\ud574\ub3c4 \ub428\n",
      "data.replace({-999:np.nan,-1000:0})"
     ],
     "language": "python",
     "metadata": {},
     "outputs": [
      {
       "metadata": {},
       "output_type": "pyout",
       "prompt_number": 157,
       "text": [
        "0     1\n",
        "1   NaN\n",
        "2     2\n",
        "3   NaN\n",
        "4     0\n",
        "5     3\n",
        "dtype: float64"
       ]
      }
     ],
     "prompt_number": 157
    },
    {
     "cell_type": "heading",
     "level": 3,
     "metadata": {},
     "source": [
      "7.3.4 \ucd95 \uc0c9\uc778 \uc774\ub984 \ubc14\uafb8\uae30"
     ]
    },
    {
     "cell_type": "code",
     "collapsed": true,
     "input": [
      "data = DataFrame(np.arange(12).reshape(3,4),\n",
      "                index=['Ohio','Colorado','New York'],\n",
      "                columns=['one','two','three','four'])"
     ],
     "language": "python",
     "metadata": {},
     "outputs": [],
     "prompt_number": 158
    },
    {
     "cell_type": "code",
     "collapsed": false,
     "input": [
      "data.index.map(str.upper)"
     ],
     "language": "python",
     "metadata": {},
     "outputs": [
      {
       "metadata": {},
       "output_type": "pyout",
       "prompt_number": 159,
       "text": [
        "array(['OHIO', 'COLORADO', 'NEW YORK'], dtype=object)"
       ]
      }
     ],
     "prompt_number": 159
    },
    {
     "cell_type": "code",
     "collapsed": true,
     "input": [
      "data.index = data.index.map(str.upper)"
     ],
     "language": "python",
     "metadata": {},
     "outputs": [],
     "prompt_number": 160
    },
    {
     "cell_type": "code",
     "collapsed": false,
     "input": [
      "data.index"
     ],
     "language": "python",
     "metadata": {},
     "outputs": [
      {
       "metadata": {},
       "output_type": "pyout",
       "prompt_number": 161,
       "text": [
        "Index([u'OHIO', u'COLORADO', u'NEW YORK'], dtype='object')"
       ]
      }
     ],
     "prompt_number": 161
    },
    {
     "cell_type": "code",
     "collapsed": false,
     "input": [
      "data"
     ],
     "language": "python",
     "metadata": {},
     "outputs": [
      {
       "html": [
        "<div style=\"max-width:1500px;overflow:auto;\">\n",
        "<table border=\"1\" class=\"dataframe\">\n",
        "  <thead>\n",
        "    <tr style=\"text-align: right;\">\n",
        "      <th></th>\n",
        "      <th>one</th>\n",
        "      <th>two</th>\n",
        "      <th>three</th>\n",
        "      <th>four</th>\n",
        "    </tr>\n",
        "  </thead>\n",
        "  <tbody>\n",
        "    <tr>\n",
        "      <th>OHIO</th>\n",
        "      <td>0</td>\n",
        "      <td>1</td>\n",
        "      <td>2</td>\n",
        "      <td>3</td>\n",
        "    </tr>\n",
        "    <tr>\n",
        "      <th>COLORADO</th>\n",
        "      <td>4</td>\n",
        "      <td>5</td>\n",
        "      <td>6</td>\n",
        "      <td>7</td>\n",
        "    </tr>\n",
        "    <tr>\n",
        "      <th>NEW YORK</th>\n",
        "      <td>8</td>\n",
        "      <td>9</td>\n",
        "      <td>10</td>\n",
        "      <td>11</td>\n",
        "    </tr>\n",
        "  </tbody>\n",
        "</table>\n",
        "</div>"
       ],
       "metadata": {},
       "output_type": "pyout",
       "prompt_number": 162,
       "text": [
        "          one  two  three  four\n",
        "OHIO        0    1      2     3\n",
        "COLORADO    4    5      6     7\n",
        "NEW YORK    8    9     10    11"
       ]
      }
     ],
     "prompt_number": 162
    },
    {
     "cell_type": "code",
     "collapsed": false,
     "input": [
      "data.rename(index=str.title,columns=str.upper)"
     ],
     "language": "python",
     "metadata": {},
     "outputs": [
      {
       "html": [
        "<div style=\"max-width:1500px;overflow:auto;\">\n",
        "<table border=\"1\" class=\"dataframe\">\n",
        "  <thead>\n",
        "    <tr style=\"text-align: right;\">\n",
        "      <th></th>\n",
        "      <th>ONE</th>\n",
        "      <th>TWO</th>\n",
        "      <th>THREE</th>\n",
        "      <th>FOUR</th>\n",
        "    </tr>\n",
        "  </thead>\n",
        "  <tbody>\n",
        "    <tr>\n",
        "      <th>Ohio</th>\n",
        "      <td>0</td>\n",
        "      <td>1</td>\n",
        "      <td>2</td>\n",
        "      <td>3</td>\n",
        "    </tr>\n",
        "    <tr>\n",
        "      <th>Colorado</th>\n",
        "      <td>4</td>\n",
        "      <td>5</td>\n",
        "      <td>6</td>\n",
        "      <td>7</td>\n",
        "    </tr>\n",
        "    <tr>\n",
        "      <th>New York</th>\n",
        "      <td>8</td>\n",
        "      <td>9</td>\n",
        "      <td>10</td>\n",
        "      <td>11</td>\n",
        "    </tr>\n",
        "  </tbody>\n",
        "</table>\n",
        "</div>"
       ],
       "metadata": {},
       "output_type": "pyout",
       "prompt_number": 163,
       "text": [
        "          ONE  TWO  THREE  FOUR\n",
        "Ohio        0    1      2     3\n",
        "Colorado    4    5      6     7\n",
        "New York    8    9     10    11"
       ]
      }
     ],
     "prompt_number": 163
    },
    {
     "cell_type": "code",
     "collapsed": false,
     "input": [
      "#\ucd95 \uc774\ub984 \uc911 \uc77c\ubd80\ub9cc \ubcc0\uacbd\ud558\ub294 \uac83\ub3c4 \uac00\ub2a5\n",
      "data.rename(index={'OHIO':'INDIANA'},\n",
      "           columns={'three':'peekaboo'})"
     ],
     "language": "python",
     "metadata": {},
     "outputs": [
      {
       "html": [
        "<div style=\"max-width:1500px;overflow:auto;\">\n",
        "<table border=\"1\" class=\"dataframe\">\n",
        "  <thead>\n",
        "    <tr style=\"text-align: right;\">\n",
        "      <th></th>\n",
        "      <th>one</th>\n",
        "      <th>two</th>\n",
        "      <th>peekaboo</th>\n",
        "      <th>four</th>\n",
        "    </tr>\n",
        "  </thead>\n",
        "  <tbody>\n",
        "    <tr>\n",
        "      <th>INDIANA</th>\n",
        "      <td>0</td>\n",
        "      <td>1</td>\n",
        "      <td>2</td>\n",
        "      <td>3</td>\n",
        "    </tr>\n",
        "    <tr>\n",
        "      <th>COLORADO</th>\n",
        "      <td>4</td>\n",
        "      <td>5</td>\n",
        "      <td>6</td>\n",
        "      <td>7</td>\n",
        "    </tr>\n",
        "    <tr>\n",
        "      <th>NEW YORK</th>\n",
        "      <td>8</td>\n",
        "      <td>9</td>\n",
        "      <td>10</td>\n",
        "      <td>11</td>\n",
        "    </tr>\n",
        "  </tbody>\n",
        "</table>\n",
        "</div>"
       ],
       "metadata": {},
       "output_type": "pyout",
       "prompt_number": 164,
       "text": [
        "          one  two  peekaboo  four\n",
        "INDIANA     0    1         2     3\n",
        "COLORADO    4    5         6     7\n",
        "NEW YORK    8    9        10    11"
       ]
      }
     ],
     "prompt_number": 164
    },
    {
     "cell_type": "code",
     "collapsed": false,
     "input": [
      "data"
     ],
     "language": "python",
     "metadata": {},
     "outputs": [
      {
       "html": [
        "<div style=\"max-width:1500px;overflow:auto;\">\n",
        "<table border=\"1\" class=\"dataframe\">\n",
        "  <thead>\n",
        "    <tr style=\"text-align: right;\">\n",
        "      <th></th>\n",
        "      <th>one</th>\n",
        "      <th>two</th>\n",
        "      <th>three</th>\n",
        "      <th>four</th>\n",
        "    </tr>\n",
        "  </thead>\n",
        "  <tbody>\n",
        "    <tr>\n",
        "      <th>OHIO</th>\n",
        "      <td>0</td>\n",
        "      <td>1</td>\n",
        "      <td>2</td>\n",
        "      <td>3</td>\n",
        "    </tr>\n",
        "    <tr>\n",
        "      <th>COLORADO</th>\n",
        "      <td>4</td>\n",
        "      <td>5</td>\n",
        "      <td>6</td>\n",
        "      <td>7</td>\n",
        "    </tr>\n",
        "    <tr>\n",
        "      <th>NEW YORK</th>\n",
        "      <td>8</td>\n",
        "      <td>9</td>\n",
        "      <td>10</td>\n",
        "      <td>11</td>\n",
        "    </tr>\n",
        "  </tbody>\n",
        "</table>\n",
        "</div>"
       ],
       "metadata": {},
       "output_type": "pyout",
       "prompt_number": 165,
       "text": [
        "          one  two  three  four\n",
        "OHIO        0    1      2     3\n",
        "COLORADO    4    5      6     7\n",
        "NEW YORK    8    9     10    11"
       ]
      }
     ],
     "prompt_number": 165
    },
    {
     "cell_type": "code",
     "collapsed": true,
     "input": [
      "#\uc6d0\ubcf8 \ub370\uc774\ud130\ub97c \ubc14\ub85c \ubcc0\uacbd\ud558\ub824\uba74 inplace = True \uc635\uc158\n",
      "_ = data.rename(index={'OHIO':'INDIANA'},inplace=True)"
     ],
     "language": "python",
     "metadata": {},
     "outputs": [],
     "prompt_number": 166
    },
    {
     "cell_type": "code",
     "collapsed": false,
     "input": [
      "data"
     ],
     "language": "python",
     "metadata": {},
     "outputs": [
      {
       "html": [
        "<div style=\"max-width:1500px;overflow:auto;\">\n",
        "<table border=\"1\" class=\"dataframe\">\n",
        "  <thead>\n",
        "    <tr style=\"text-align: right;\">\n",
        "      <th></th>\n",
        "      <th>one</th>\n",
        "      <th>two</th>\n",
        "      <th>three</th>\n",
        "      <th>four</th>\n",
        "    </tr>\n",
        "  </thead>\n",
        "  <tbody>\n",
        "    <tr>\n",
        "      <th>INDIANA</th>\n",
        "      <td>0</td>\n",
        "      <td>1</td>\n",
        "      <td>2</td>\n",
        "      <td>3</td>\n",
        "    </tr>\n",
        "    <tr>\n",
        "      <th>COLORADO</th>\n",
        "      <td>4</td>\n",
        "      <td>5</td>\n",
        "      <td>6</td>\n",
        "      <td>7</td>\n",
        "    </tr>\n",
        "    <tr>\n",
        "      <th>NEW YORK</th>\n",
        "      <td>8</td>\n",
        "      <td>9</td>\n",
        "      <td>10</td>\n",
        "      <td>11</td>\n",
        "    </tr>\n",
        "  </tbody>\n",
        "</table>\n",
        "</div>"
       ],
       "metadata": {},
       "output_type": "pyout",
       "prompt_number": 167,
       "text": [
        "          one  two  three  four\n",
        "INDIANA     0    1      2     3\n",
        "COLORADO    4    5      6     7\n",
        "NEW YORK    8    9     10    11"
       ]
      }
     ],
     "prompt_number": 167
    },
    {
     "cell_type": "heading",
     "level": 3,
     "metadata": {},
     "source": [
      "7.3.5 \uac1c\ubcc4\ud654\uc640 \uc591\uc790\ud654"
     ]
    },
    {
     "cell_type": "code",
     "collapsed": true,
     "input": [
      "ages = [17,20,22,25,27,21,23,37,61,45,41,32,102]"
     ],
     "language": "python",
     "metadata": {},
     "outputs": [],
     "prompt_number": 168
    },
    {
     "cell_type": "code",
     "collapsed": true,
     "input": [
      "bins = [18,25,35,60,100]"
     ],
     "language": "python",
     "metadata": {},
     "outputs": [],
     "prompt_number": 169
    },
    {
     "cell_type": "code",
     "collapsed": true,
     "input": [
      "#pandas\uc758 cut\ud568\uc218\ub294 1\ubc88\uc9f8 \uc778\uc790\uc758 \uac12\ub4e4\uc774 2\ubc88\uc9f8 \uc778\uc790\ub85c \ub4e4\uc5b4\uc628 \uac12\uc744 \ubc94\uc704\ub85c \ud558\uc5ec \uc5b4\ub290 \ubc94\uc704\uc5d0 \uc18d\ud558\ub294\uc9c0 \uc54c\ub824\uc900\ub2e4.\n",
      "#\ud574\ub2f9 \ubc94\uc704\uc5d0 \uc874\uc7ac\ud558\uc9c0\uc54a\ub294 \uc218\ub294 NaN\uc73c\ub85c \ucc98\ub9ac\n",
      "#pandas.cut(\uac12,\ubc94\uc704)\n",
      "cats = pd.cut(ages,bins)"
     ],
     "language": "python",
     "metadata": {},
     "outputs": [],
     "prompt_number": 170
    },
    {
     "cell_type": "code",
     "collapsed": false,
     "input": [
      "cats"
     ],
     "language": "python",
     "metadata": {},
     "outputs": [
      {
       "metadata": {},
       "output_type": "pyout",
       "prompt_number": 171,
       "text": [
        "[NaN, (18, 25], (18, 25], (18, 25], (25, 35], ..., (60, 100], (35, 60], (35, 60], (25, 35], NaN]\n",
        "Length: 13\n",
        "Categories (4, object): [(18, 25] < (25, 35] < (35, 60] < (60, 100]]"
       ]
      }
     ],
     "prompt_number": 171
    },
    {
     "cell_type": "code",
     "collapsed": false,
     "input": [
      "type(cats)"
     ],
     "language": "python",
     "metadata": {},
     "outputs": [
      {
       "metadata": {},
       "output_type": "pyout",
       "prompt_number": 172,
       "text": [
        "pandas.core.categorical.Categorical"
       ]
      }
     ],
     "prompt_number": 172
    },
    {
     "cell_type": "code",
     "collapsed": false,
     "input": [
      "#Categorical \uac1d\uccb4\uc778 cats\n",
      "#cats\uc758 \ubc94\uc704 \uc548\uc5d0\uc788\uc73c\uba74 index\ub85c, \uc5c6\uc73c\uba74 -1\n",
      "cats.codes"
     ],
     "language": "python",
     "metadata": {},
     "outputs": [
      {
       "metadata": {},
       "output_type": "pyout",
       "prompt_number": 173,
       "text": [
        "array([-1,  0,  0,  0,  1,  0,  0,  2,  3,  2,  2,  1, -1], dtype=int8)"
       ]
      }
     ],
     "prompt_number": 173
    },
    {
     "cell_type": "code",
     "collapsed": false,
     "input": [
      "#Categorical.levels\ub294 \ubc94\uc704\uac00 \ub2f4\uae34 \uac1d\uccb4\n",
      "cats.categories"
     ],
     "language": "python",
     "metadata": {},
     "outputs": [
      {
       "metadata": {},
       "output_type": "pyout",
       "prompt_number": 174,
       "text": [
        "Index([u'(18, 25]', u'(25, 35]', u'(35, 60]', u'(60, 100]'], dtype='object')"
       ]
      }
     ],
     "prompt_number": 174
    },
    {
     "cell_type": "code",
     "collapsed": false,
     "input": [
      "pd.value_counts(cats)"
     ],
     "language": "python",
     "metadata": {
      "scrolled": true
     },
     "outputs": [
      {
       "metadata": {},
       "output_type": "pyout",
       "prompt_number": 175,
       "text": [
        "(18, 25]     5\n",
        "(35, 60]     3\n",
        "(25, 35]     2\n",
        "(60, 100]    1\n",
        "dtype: int64"
       ]
      }
     ],
     "prompt_number": 175
    },
    {
     "cell_type": "code",
     "collapsed": false,
     "input": [
      "#'()'\ub294 \ud3ec\ud568 X, '[]'\ub294 \ud3ec\ud568 O\n",
      "#\ubcf4\ud1b5\uc740 '(]'(~\ucd08\uacfc ~\uc774\ud558)\ub85c \ub098\ud0c0\ub0b4\ub294\ub370 right=False\ub97c \ud558\uba74 '[)'(~\uc774\uc0c1 ~\ubbf8\ub9cc)\ub85c \ud45c\ud604\uac00\ub2a5 )\n",
      "pd.cut(ages,[18,26,36,61,100],right=False)"
     ],
     "language": "python",
     "metadata": {},
     "outputs": [
      {
       "metadata": {},
       "output_type": "pyout",
       "prompt_number": 176,
       "text": [
        "[NaN, [18, 26), [18, 26), [18, 26), [26, 36), ..., [61, 100), [36, 61), [36, 61), [26, 36), NaN]\n",
        "Length: 13\n",
        "Categories (4, object): [[18, 26) < [26, 36) < [36, 61) < [61, 100)]"
       ]
      }
     ],
     "prompt_number": 176
    },
    {
     "cell_type": "code",
     "collapsed": true,
     "input": [
      "group_names = ['Youth','YoungAdult','MiddleAged','Senior']"
     ],
     "language": "python",
     "metadata": {},
     "outputs": [],
     "prompt_number": 177
    },
    {
     "cell_type": "code",
     "collapsed": false,
     "input": [
      "#labels \uc635\uc158\uc73c\ub85c \uadf8\ub8f9\uc758 \uc774\ub984\uc744 \uc9c1\uc811 \ub118\uaca8\uc904 \uc218\ub3c4 \uc788\ub2e4.\n",
      "pd.cut(ages,bins,labels=group_names)"
     ],
     "language": "python",
     "metadata": {},
     "outputs": [
      {
       "metadata": {},
       "output_type": "pyout",
       "prompt_number": 178,
       "text": [
        "[NaN, Youth, Youth, Youth, YoungAdult, ..., Senior, MiddleAged, MiddleAged, YoungAdult, NaN]\n",
        "Length: 13\n",
        "Categories (4, object): [Youth < YoungAdult < MiddleAged < Senior]"
       ]
      }
     ],
     "prompt_number": 178
    },
    {
     "cell_type": "code",
     "collapsed": true,
     "input": [
      "data = np.random.rand(20)"
     ],
     "language": "python",
     "metadata": {},
     "outputs": [],
     "prompt_number": 179
    },
    {
     "cell_type": "code",
     "collapsed": false,
     "input": [
      "data"
     ],
     "language": "python",
     "metadata": {},
     "outputs": [
      {
       "metadata": {},
       "output_type": "pyout",
       "prompt_number": 180,
       "text": [
        "array([ 0.52742626,  0.44464439,  0.75340765,  0.38242624,  0.89959906,\n",
        "        0.19703959,  0.10366783,  0.87079205,  0.56597215,  0.78771879,\n",
        "        0.82096778,  0.14465585,  0.81357435,  0.8153646 ,  0.90426483,\n",
        "        0.45639187,  0.13143231,  0.85469488,  0.06687727,  0.63927071])"
       ]
      }
     ],
     "prompt_number": 180
    },
    {
     "cell_type": "code",
     "collapsed": false,
     "input": [
      "#precision\uc740 \ud074\uc218\ub85d \uc815\ubc00\ub3c4\uac00 \ucee4\uc9d0\n",
      "pd.cut(data,4,precision=2)"
     ],
     "language": "python",
     "metadata": {},
     "outputs": [
      {
       "metadata": {},
       "output_type": "pyout",
       "prompt_number": 181,
       "text": [
        "[(0.49, 0.69], (0.28, 0.49], (0.69, 0.9], (0.28, 0.49], (0.69, 0.9], ..., (0.28, 0.49], (0.066, 0.28], (0.69, 0.9], (0.066, 0.28], (0.49, 0.69]]\n",
        "Length: 20\n",
        "Categories (4, object): [(0.066, 0.28] < (0.28, 0.49] < (0.49, 0.69] < (0.69, 0.9]]"
       ]
      }
     ],
     "prompt_number": 181
    },
    {
     "cell_type": "code",
     "collapsed": true,
     "input": [
      "data = np.random.randn(1000) #Normally distributed"
     ],
     "language": "python",
     "metadata": {},
     "outputs": [],
     "prompt_number": 182
    },
    {
     "cell_type": "code",
     "collapsed": false,
     "input": [
      "data"
     ],
     "language": "python",
     "metadata": {},
     "outputs": [
      {
       "metadata": {},
       "output_type": "pyout",
       "prompt_number": 183,
       "text": [
        "array([  8.10558394e-02,  -4.96283932e-01,   2.18501383e-01,\n",
        "         1.69065656e-01,  -7.52034741e-01,  -9.31843957e-01,\n",
        "         1.56130494e+00,  -5.55707291e-01,  -7.12349888e-01,\n",
        "        -1.39757092e+00,   4.30058743e-01,   1.51974595e-02,\n",
        "         7.57901695e-01,   1.03416224e-02,  -6.53008338e-01,\n",
        "        -3.13805864e-01,   1.92788718e-03,   5.88988391e-01,\n",
        "        -3.04966351e-01,   1.12859792e+00,  -2.11349546e+00,\n",
        "         9.16552567e-01,   4.86230603e-01,   2.12226209e+00,\n",
        "        -4.95625037e-01,  -1.46058092e+00,  -1.86748281e+00,\n",
        "         1.00582733e+00,  -8.63677790e-01,  -1.50720915e-01,\n",
        "         7.95700537e-02,  -6.51967851e-01,  -9.54471332e-01,\n",
        "         8.13304596e-01,   2.97328995e-01,   1.51957093e+00,\n",
        "        -6.84902159e-01,  -3.28471634e-01,  -5.30838553e-01,\n",
        "        -7.93349531e-01,   1.84619802e+00,  -5.05353647e-01,\n",
        "        -9.92778180e-02,  -3.85906444e-01,   1.16615019e+00,\n",
        "        -8.02568214e-02,  -9.31070823e-01,  -6.89857087e-01,\n",
        "        -3.35083261e-01,  -8.31809849e-01,   2.26990873e+00,\n",
        "         7.06440109e-01,   7.20534096e-01,  -1.23129948e+00,\n",
        "        -2.03712189e-01,   1.49220500e+00,  -4.38101179e-01,\n",
        "        -1.23035678e+00,   3.80202969e-01,  -1.00423985e+00,\n",
        "        -9.20028263e-01,  -2.38547783e-01,  -2.11458114e+00,\n",
        "        -2.23279521e-01,   1.64837729e-01,   2.38632885e+00,\n",
        "         7.89244734e-01,   1.28295970e+00,   2.71976232e-02,\n",
        "         1.80500345e-01,  -1.96979139e+00,  -1.54686048e+00,\n",
        "        -1.64863434e+00,   7.71864746e-01,   4.97762250e-01,\n",
        "        -1.24959146e-01,  -1.42456196e-01,   4.60616988e-01,\n",
        "         2.05064844e+00,  -9.54473244e-01,  -6.25940162e-01,\n",
        "         1.17347914e+00,  -2.45927125e-01,   7.24039557e-01,\n",
        "         1.46907170e-01,   8.07046822e-02,   5.67939842e-01,\n",
        "        -6.09422620e-01,  -1.00939132e+00,   2.20309775e+00,\n",
        "         4.60866462e-01,  -1.22824567e+00,   1.99814748e+00,\n",
        "         2.10580400e-01,  -1.80391307e+00,  -2.56241912e-01,\n",
        "        -2.20659759e+00,  -2.26104388e-01,   9.22594880e-01,\n",
        "        -6.55078301e-01,  -8.72216079e-01,   1.45154857e-03,\n",
        "         2.94865334e-01,  -1.40805921e+00,  -1.51483928e+00,\n",
        "         9.62316419e-01,   9.34348795e-01,  -1.73309781e-01,\n",
        "         7.58440078e-01,  -1.23962610e+00,   5.88003732e-01,\n",
        "         1.86555669e-01,  -4.69947126e-01,   1.70656144e-01,\n",
        "         1.63370651e+00,  -5.82471715e-01,   6.10806747e-01,\n",
        "         2.33059557e+00,   4.33458503e-01,   7.41828076e-02,\n",
        "        -2.84210671e-02,   1.24280526e+00,   7.34111694e-01,\n",
        "        -6.43803260e-01,  -1.02167916e+00,   7.53912044e-01,\n",
        "        -1.56460894e+00,   7.97362646e-01,   1.61165636e+00,\n",
        "         7.11562996e-03,  -8.34375050e-01,  -2.12963241e-01,\n",
        "        -1.97441817e-01,   1.20607926e+00,   6.48683216e-01,\n",
        "        -2.60600676e-01,  -1.15813877e+00,  -8.00486633e-01,\n",
        "        -1.39946894e+00,  -1.40993079e+00,  -1.04778530e+00,\n",
        "         1.52200103e+00,   2.98376877e-01,  -1.37681273e+00,\n",
        "         5.48453603e-01,   5.95940231e-01,   1.76644513e+00,\n",
        "        -8.63545425e-01,  -2.92618106e-01,  -6.28192166e-01,\n",
        "        -1.43776727e+00,  -8.03979279e-01,  -4.65922727e-01,\n",
        "        -1.93281014e+00,  -5.94633203e-01,   8.48480695e-01,\n",
        "         6.66640184e-01,  -1.45987635e+00,  -1.51228782e-01,\n",
        "        -1.24907364e+00,   1.98964253e+00,   1.36295317e+00,\n",
        "         4.56044129e-02,  -1.19299829e-02,   1.97946844e+00,\n",
        "        -7.58082756e-01,   1.68227607e-01,  -6.68399258e-01,\n",
        "        -2.36105133e+00,  -3.53863243e-01,   1.16126968e+00,\n",
        "         2.76176003e+00,   3.68068483e-01,   1.23020050e-01,\n",
        "         3.65792104e-02,  -6.37437080e-01,  -2.07214015e+00,\n",
        "         4.93528824e-01,   1.85790405e+00,  -5.78134581e-02,\n",
        "         2.52928758e-01,  -4.37089026e-01,  -6.17095568e-02,\n",
        "        -1.75414218e-01,  -4.79493989e-01,  -2.57295943e-01,\n",
        "        -5.15162751e-01,   5.43962839e-01,  -4.44090254e-01,\n",
        "         5.74670187e-02,  -6.18742588e-01,  -1.69193808e-01,\n",
        "         5.04655226e-01,  -2.07775419e-01,   5.51915284e-01,\n",
        "         1.32234900e+00,  -1.05039632e+00,   1.59626929e+00,\n",
        "         8.98372671e-01,   6.93881932e-01,   7.08099294e-01,\n",
        "        -1.48568868e+00,  -1.33125010e-01,  -7.72983166e-01,\n",
        "         1.04757800e+00,  -1.00806402e+00,  -1.24561762e-01,\n",
        "         1.31569248e-01,   6.46960949e-01,  -9.43716496e-01,\n",
        "         5.12806699e-01,   8.61024585e-01,  -3.60894116e-02,\n",
        "         1.55303120e-02,   9.51498981e-02,  -3.06951184e-01,\n",
        "        -6.48142441e-01,  -7.12154652e-01,   6.66823799e-01,\n",
        "        -5.63226606e-01,  -2.14091668e+00,   8.28692202e-01,\n",
        "         1.08847705e-01,   3.44424545e-01,   4.87636301e-01,\n",
        "         1.89898693e-01,  -1.32738954e+00,  -2.58620841e+00,\n",
        "        -3.14745012e-01,   2.79981047e-01,  -9.08552931e-01,\n",
        "         7.53129986e-01,   8.69012537e-01,  -1.16680546e+00,\n",
        "         3.11468627e-01,  -2.29128880e+00,  -1.30887721e-01,\n",
        "         6.96262253e-01,   3.51998517e-01,   8.59258208e-01,\n",
        "         1.22177095e+00,  -7.18237853e-01,   7.17662573e-01,\n",
        "         1.12239752e+00,   1.64638765e-01,  -1.52762447e+00,\n",
        "        -4.04030711e-01,  -6.48302832e-01,   3.23652844e-01,\n",
        "         1.08858061e+00,  -2.99374279e-02,  -1.10336828e+00,\n",
        "        -5.83855632e-01,   8.52848906e-01,  -8.30566103e-01,\n",
        "         1.14664010e+00,  -6.30087608e-01,   8.95631607e-01,\n",
        "        -3.17401514e-01,  -4.48717099e-01,   5.94354051e-01,\n",
        "         7.60899132e-01,   1.34187204e+00,  -1.97363872e+00,\n",
        "         2.80540734e-01,   5.70991692e-01,   1.44281468e+00,\n",
        "         3.98447282e-01,  -1.24387977e+00,  -7.58965833e-04,\n",
        "        -1.14933413e-01,   7.45900583e-01,  -1.70053957e+00,\n",
        "        -7.23602736e-01,  -1.62032410e+00,   1.10366564e+00,\n",
        "        -2.87761724e-01,  -2.71028932e+00,  -4.50534896e-01,\n",
        "         1.25866705e+00,   7.69641310e-01,   1.03909865e+00,\n",
        "        -1.04823283e+00,  -1.59421584e+00,  -9.49850804e-01,\n",
        "        -1.43559219e+00,  -5.51593653e-01,  -8.83092821e-01,\n",
        "         1.20610742e+00,   7.33368987e-01,   4.60839484e-01,\n",
        "         1.00984121e+00,   1.33174091e-01,   4.80172604e-01,\n",
        "        -4.72025820e-01,   5.73941647e-01,   2.93399104e+00,\n",
        "         5.89498087e-01,   2.56510470e+00,   1.12961384e+00,\n",
        "         8.26950997e-01,   6.44597697e-01,  -6.80964711e-01,\n",
        "         8.04636473e-01,  -4.76686757e-01,  -1.45298084e+00,\n",
        "        -2.10264754e+00,  -6.10081308e-01,  -1.18985559e+00,\n",
        "         1.36823217e-01,  -1.00855310e+00,   1.18556079e+00,\n",
        "        -7.64017934e-02,   3.57808279e-02,   8.43730366e-01,\n",
        "         3.30217848e-01,  -7.98884794e-01,  -1.33413558e+00,\n",
        "        -1.06857016e+00,  -7.53110143e-01,   1.03119412e+00,\n",
        "         4.17178025e-01,   9.56967967e-01,   1.22933042e+00,\n",
        "        -7.32979207e-01,  -1.78610408e-01,  -1.26997212e-01,\n",
        "         4.00328500e-01,  -1.07663492e+00,  -5.66283692e-01,\n",
        "         1.63166339e+00,   9.49023333e-01,   2.22224563e+00,\n",
        "        -2.29257518e+00,   7.16589470e-01,  -6.34330671e-01,\n",
        "         3.50487070e-01,  -1.74529140e+00,  -3.87310314e-01,\n",
        "        -3.23617366e-02,  -1.55460132e+00,   1.72505741e-01,\n",
        "         1.72717555e+00,   1.68962656e-01,  -1.23979845e+00,\n",
        "        -8.08474036e-01,   2.12887616e-01,  -6.56155195e-01,\n",
        "         3.83559037e-02,  -1.86683342e-01,   9.03434848e-01,\n",
        "         2.70269758e+00,  -1.62583150e+00,  -7.64255028e-01,\n",
        "        -8.57945624e-02,   1.01048297e+00,   1.66162385e-01,\n",
        "        -4.12463620e-01,  -1.39938453e+00,  -7.74790289e-01,\n",
        "        -5.66923144e-01,  -4.56639501e-02,   1.02113553e+00,\n",
        "         1.78580795e+00,   1.94794950e+00,   1.27279209e+00,\n",
        "         1.71091144e-01,   9.05774820e-01,  -3.11098919e-01,\n",
        "        -1.17862588e-01,   1.51959822e+00,   2.12569058e-01,\n",
        "         1.32399354e+00,   6.37246400e-02,  -1.91440989e+00,\n",
        "        -2.24107894e-01,  -7.07281341e-01,  -2.94510006e-01,\n",
        "        -6.62508066e-01,   1.48896518e-01,   1.56464318e+00,\n",
        "        -6.89122572e-01,  -9.06967227e-01,  -8.51546928e-01,\n",
        "         7.25354428e-02,   1.09588777e+00,  -9.53489723e-02,\n",
        "         5.52154011e-01,   1.38242536e+00,  -6.68324701e-01,\n",
        "        -1.07937913e+00,   1.78996169e-01,   1.53872616e+00,\n",
        "        -2.80708747e-01,   1.87909239e-01,   2.06940499e+00,\n",
        "        -1.25913521e+00,  -2.05811041e+00,   2.42623264e-01,\n",
        "        -6.49001061e-01,  -2.04659075e+00,  -4.18585467e-02,\n",
        "         1.66286246e+00,   1.42304577e+00,  -1.03759803e+00,\n",
        "         1.24473996e+00,  -9.45757084e-01,  -6.60056321e-01,\n",
        "        -1.74622048e-01,  -1.01694795e+00,  -1.83277060e-01,\n",
        "         1.29597586e+00,  -6.19119904e-01,   6.49298750e-01,\n",
        "         9.21661400e-01,  -1.31358118e+00,  -9.87515577e-01,\n",
        "        -3.91254671e-01,   7.12361349e-01,   6.95610188e-01,\n",
        "         4.78162051e-01,   6.99755419e-01,  -3.47025357e-01,\n",
        "        -6.65774979e-01,   4.99422620e-01,   8.93192296e-01,\n",
        "         1.13939516e+00,  -7.62420370e-02,   6.14444655e-01,\n",
        "        -3.78946069e-01,   7.63674979e-01,  -6.53104762e-01,\n",
        "         7.29963779e-03,   2.17064667e-01,  -2.03097250e+00,\n",
        "        -1.85573820e+00,   8.43154875e-01,   1.11526740e+00,\n",
        "         1.52526142e+00,   3.31446135e-01,   3.83436369e-01,\n",
        "        -5.02354224e-03,  -2.33374151e-01,  -9.81143745e-01,\n",
        "        -1.61713763e-01,  -8.09593507e-01,   8.22043625e-01,\n",
        "         5.34128928e-01,  -2.13848084e-01,  -5.91677359e-01,\n",
        "        -9.40718927e-01,   5.48348304e-02,   2.20104835e-01,\n",
        "         1.99514148e-01,   6.83620724e-01,  -2.40374832e+00,\n",
        "         1.82765027e+00,   5.91672058e-01,  -3.08268570e-01,\n",
        "        -4.90714313e-01,  -6.95177624e-01,   3.71747304e-01,\n",
        "        -2.78559214e-01,   2.63519615e-01,  -1.18136887e+00,\n",
        "         1.03192546e+00,  -3.74613923e-01,   6.13459394e-02,\n",
        "         8.50460501e-01,  -4.48261404e-01,  -3.85942752e-01,\n",
        "        -2.11833618e+00,  -7.30824163e-01,  -2.58646623e+00,\n",
        "         9.48603538e-01,  -5.94051239e-01,   1.86269279e+00,\n",
        "         1.24881652e+00,   1.39315423e+00,  -1.78270799e-01,\n",
        "        -1.64453784e+00,   3.86319373e-01,   8.97753547e-01,\n",
        "        -6.93015627e-01,   3.45264398e-01,   3.33551964e+00,\n",
        "        -6.18750932e-01,  -2.69270951e-01,   4.38664108e-02,\n",
        "         2.15763521e-01,   5.29059430e-01,  -1.21832076e+00,\n",
        "        -3.73193106e-02,  -3.50240675e-01,   3.58083400e-01,\n",
        "         1.08424960e+00,   1.69578323e+00,   8.35683053e-01,\n",
        "         9.66373576e-01,  -3.69510183e-01,   4.42935882e-01,\n",
        "         1.23794112e-01,  -5.29501274e-01,   1.88055853e-01,\n",
        "        -4.94154583e-01,  -1.43087149e+00,  -3.08677577e+00,\n",
        "         7.32666504e-01,   1.28245938e+00,   3.59234481e-02,\n",
        "        -1.19071191e+00,  -9.55988766e-03,  -2.19604411e-01,\n",
        "        -6.11310790e-01,   6.06904370e-01,   1.72394201e+00,\n",
        "        -1.34075428e+00,  -1.69531903e-02,  -2.60045273e-01,\n",
        "        -5.55431495e-02,  -1.08683707e+00,   2.34248948e-01,\n",
        "        -6.18109123e-01,  -1.16275713e+00,   1.58012243e+00,\n",
        "         1.15770784e+00,   1.74758362e-01,   7.41512912e-01,\n",
        "        -1.20850766e+00,   5.17702406e-01,   1.45652600e-01,\n",
        "        -1.85411526e+00,   8.14794161e-01,  -2.40022079e+00,\n",
        "         4.24170928e-01,   1.23789589e+00,  -2.32473539e+00,\n",
        "        -3.72261665e-03,   1.61864563e+00,  -5.73401750e-02,\n",
        "         1.17622029e-01,   1.16210515e+00,   7.89700615e-01,\n",
        "         8.90315445e-01,  -1.36300265e+00,  -5.37278721e-01,\n",
        "        -7.37844366e-02,  -4.99509066e-01,  -5.12846590e-02,\n",
        "         2.07349198e-01,  -3.19877612e-03,   2.22733945e-01,\n",
        "         8.26471602e-01,  -6.25881718e-01,  -8.32869905e-01,\n",
        "         1.10338944e-01,  -4.76140384e-02,  -1.12059937e+00,\n",
        "         3.10152892e-01,   7.27556632e-01,  -9.54163396e-01,\n",
        "        -9.09924768e-01,  -5.47995222e-01,   9.80596114e-01,\n",
        "         4.86778017e-01,  -1.92762565e-02,   1.26690869e+00,\n",
        "         2.33182128e-01,  -9.08853776e-01,   3.37536356e-01,\n",
        "         1.76801646e+00,   9.60713170e-01,  -2.97115675e-01,\n",
        "         2.00761198e+00,   1.39727320e+00,  -1.73189770e+00,\n",
        "         1.60685863e+00,  -2.91531325e-01,  -1.97143765e+00,\n",
        "         1.78543333e+00,   1.53786146e+00,  -1.64562971e+00,\n",
        "         9.17979878e-01,   8.88652525e-01,   9.62141739e-02,\n",
        "        -4.76295132e-01,   1.03711533e+00,   9.83965636e-01,\n",
        "        -1.42121427e+00,   3.42601037e-01,  -3.25495766e-01,\n",
        "         2.79359989e-01,  -6.49697146e-01,  -8.08154613e-01,\n",
        "        -6.60811604e-01,   1.54065725e+00,  -3.43724894e-01,\n",
        "        -5.24815914e-01,  -1.84970541e-01,   4.17941710e-01,\n",
        "        -1.29012411e-01,  -3.27099227e-01,   2.03193273e-01,\n",
        "         3.35658281e-01,  -6.80100939e-02,   5.82499626e-01,\n",
        "         1.29607672e+00,  -1.46546335e-01,  -2.53311771e+00,\n",
        "        -1.88451196e-02,   1.03083441e-01,   1.12751220e+00,\n",
        "         6.42995362e-01,   8.49219823e-01,   1.76367337e-02,\n",
        "         1.66002648e-01,  -3.42962956e-01,   8.18376775e-01,\n",
        "         9.21858504e-01,  -1.25420570e-01,  -1.37392551e+00,\n",
        "        -1.46078418e+00,  -4.51098152e-01,  -2.48069384e-01,\n",
        "         1.73372271e+00,  -1.26435065e+00,  -1.72687000e-01,\n",
        "         4.39912755e-01,  -4.27611575e-01,  -2.64916801e-01,\n",
        "        -4.78635892e-01,  -8.22893829e-01,   2.08022016e-02,\n",
        "        -1.84139370e+00,  -6.93609365e-01,  -3.68556077e-01,\n",
        "         7.84572061e-01,  -1.07645790e+00,   1.77411509e+00,\n",
        "        -3.78586200e-01,   7.93184769e-01,  -1.86905348e-01,\n",
        "         1.29462330e-01,  -1.02027245e-01,  -1.37543407e+00,\n",
        "        -1.09100526e+00,   9.58192442e-02,  -1.08791431e+00,\n",
        "        -6.67391513e-01,   3.49689892e-01,  -9.54320904e-01,\n",
        "         1.02310701e-01,  -4.85352386e-01,  -1.91562706e-01,\n",
        "         1.82470609e-01,   6.63136458e-01,   2.63176190e+00,\n",
        "         3.07734100e-01,  -1.13790487e+00,   6.92309896e-01,\n",
        "        -8.75616048e-02,   4.51728178e-01,   1.92770777e-01,\n",
        "        -1.03313598e+00,   7.23263497e-01,  -8.66213947e-01,\n",
        "        -1.12985520e+00,   1.19036342e-01,  -1.50531892e+00,\n",
        "         1.29779571e+00,  -2.38469992e-01,   1.86280999e+00,\n",
        "         4.45503030e-01,   1.07517369e+00,  -6.91991810e-01,\n",
        "        -8.92449535e-02,   1.17344188e+00,  -1.69665268e+00,\n",
        "         1.93409459e+00,   4.38112721e-01,  -2.13568719e+00,\n",
        "        -2.12115093e-01,   1.99219743e-01,   2.36207412e-01,\n",
        "        -4.75029618e-01,  -2.06487116e+00,  -5.57390375e-01,\n",
        "        -3.74193753e-01,  -1.68705844e+00,  -1.09471897e+00,\n",
        "        -1.45188317e-01,  -1.53335365e+00,   6.57132334e-01,\n",
        "         1.11834697e+00,  -8.66720190e-01,   1.31687549e+00,\n",
        "         8.41822600e-01,  -1.04808523e+00,   1.22355899e+00,\n",
        "        -6.56335102e-01,  -3.21415428e-01,  -4.57970277e-02,\n",
        "         3.99824677e-01,   7.91810199e-01,  -6.35701881e-01,\n",
        "         7.95305097e-01,  -8.98198470e-01,   1.55122282e+00,\n",
        "         1.26796141e+00,  -6.51790183e-01,  -4.53879719e-01,\n",
        "         1.33091042e+00,  -5.57348998e-01,  -7.95726592e-01,\n",
        "        -8.02607779e-01,   7.11639165e-01,  -3.10047880e-02,\n",
        "         2.14000779e+00,  -1.37537469e+00,  -3.25177088e-01,\n",
        "        -1.57928675e+00,   2.18994590e+00,  -1.50953655e+00,\n",
        "        -1.05503561e-01,   1.49504251e+00,   9.22072521e-02,\n",
        "         7.34674183e-01,  -3.24795040e-01,  -4.37644576e-02,\n",
        "        -2.49317906e-01,   2.54864012e+00,   2.45557543e-01,\n",
        "        -5.82650636e-01,  -9.24741595e-01,  -1.05673037e-01,\n",
        "         8.14747889e-01,   1.69406149e+00,   3.67452156e-01,\n",
        "         3.27887566e-01,   2.12251594e+00,   7.42293769e-01,\n",
        "         1.05475533e+00,  -1.15950044e+00,  -1.06403588e+00,\n",
        "         1.33188838e+00,  -1.01158636e+00,   9.66728667e-02,\n",
        "        -7.14703816e-01,  -1.94940976e+00,   4.63687660e-01,\n",
        "        -2.78232976e-01,   3.93469884e-02,  -1.00465386e-01,\n",
        "        -7.51294424e-01,   1.99577214e-01,   4.31097644e-01,\n",
        "         8.16932743e-01,   7.91049190e-01,  -1.56156412e+00,\n",
        "        -1.25248163e+00,  -7.41415522e-01,   9.82361824e-01,\n",
        "        -6.37615284e-02,   1.22970464e+00,   3.84853387e-02,\n",
        "        -6.87926618e-01,  -5.52246326e-01,  -1.42800235e-01,\n",
        "        -8.81020724e-01,   1.29410822e+00,  -5.65248444e-01,\n",
        "        -6.75774060e-01,  -3.81533683e-01,  -7.88744466e-01,\n",
        "        -4.32148712e-02,   1.70702490e-02,  -1.74424972e+00,\n",
        "         7.64955728e-01,   6.45718448e-01,  -5.44269910e-01,\n",
        "         9.13903481e-02,   8.15881486e-01,  -5.25904231e-02,\n",
        "        -3.65157709e-01,  -1.53838980e+00,  -1.58657542e+00,\n",
        "         1.43024376e+00,   1.80067562e+00,  -4.94346078e-01,\n",
        "         1.78055138e+00,  -2.78269965e-01,   1.61008464e+00,\n",
        "        -1.04506825e+00,   5.90454804e-03,   1.36729025e+00,\n",
        "        -1.83099162e+00,  -4.44585824e-01,  -6.83096467e-01,\n",
        "        -7.05016048e-01,  -1.43798206e+00,   2.95678847e-01,\n",
        "         1.62919502e+00,  -4.66128723e-01,  -1.22093172e-01,\n",
        "         4.11577380e-01,   4.68836499e-01,   5.60661287e-01,\n",
        "        -2.61292346e-01,   8.67540839e-01,   3.09549097e-01,\n",
        "        -2.50153580e-01,   1.59665375e-01,  -1.20095593e+00,\n",
        "         4.51011125e-02,   6.56874942e-01,  -5.64110245e-01,\n",
        "         3.80204457e-01,  -3.24909613e-01,  -1.64150620e+00,\n",
        "         6.98865542e-01,   2.66893159e-01,   3.51767368e-02,\n",
        "        -8.80105392e-02,   2.65427564e-01,  -4.40300279e-02,\n",
        "        -1.05325478e-01,  -1.78406852e+00,  -7.21485448e-01,\n",
        "        -1.89148525e-01,   9.81852483e-01,   1.37117985e-01,\n",
        "         6.89373707e-01,   9.35547570e-01,   3.74683703e-01,\n",
        "         3.53611558e-01,   2.64929774e-01,   1.12847921e+00,\n",
        "         8.68087775e-01,  -6.86733659e-01,   5.61498656e-01,\n",
        "         7.84197443e-01,   1.77462756e+00,   1.79059601e+00,\n",
        "        -6.62919633e-01,  -5.98978807e-01,  -1.60912677e+00,\n",
        "         1.63595878e-01,  -7.11436418e-01,  -1.10308959e+00,\n",
        "        -2.74188069e+00,  -1.52946801e+00,   4.73170794e-02,\n",
        "        -3.12595407e-01,  -7.03539511e-01,  -3.47534514e-01,\n",
        "        -4.69879365e-01,  -3.17606144e-02,   2.97370125e-01,\n",
        "         8.37118741e-01,   8.52471716e-01,  -1.08255381e+00,\n",
        "        -1.22222947e+00,   1.07460131e+00,   1.04250394e+00,\n",
        "         9.86433354e-01,   2.12028270e+00,   5.20531953e-01,\n",
        "         1.19396460e-01,   7.60964302e-01,  -7.04314418e-01,\n",
        "         1.15021796e-01,  -6.24294638e-01,   2.82666189e-01,\n",
        "         1.18825139e+00,   1.02000734e+00,   1.62675684e-01,\n",
        "        -5.53644496e-01,  -1.11411937e+00,  -9.01090693e-01,\n",
        "        -1.65318399e+00,  -5.84508323e-01,  -3.93692937e-02,\n",
        "        -9.70524033e-01,   1.16657564e+00,  -2.84255329e-01,\n",
        "        -1.98830333e+00,   3.37544647e-01,   4.79415604e-01,\n",
        "        -1.58272015e-01,   5.82324022e-02,  -1.63665660e-01,\n",
        "        -1.27210636e-01,  -2.18860886e+00,  -1.00960602e+00,\n",
        "         3.22467061e-01,  -1.22175500e+00,   1.43757862e+00,\n",
        "        -1.53244188e-01,   1.90630071e-01,  -6.68846337e-01,\n",
        "        -1.66187052e+00,   5.30944506e-01,   6.18574168e-01,\n",
        "        -1.33128683e+00,  -1.74186779e+00,   2.38019796e-02,\n",
        "        -1.40280574e+00,  -1.73612122e+00,   2.23925146e+00,\n",
        "         3.01912272e-01,  -6.90449425e-01,   1.71124299e+00,\n",
        "        -1.22179608e+00,  -1.74372168e-02,  -7.01077862e-01,\n",
        "        -9.00977436e-01,   4.95202617e-01,   1.20931974e+00,\n",
        "         5.82405975e-01,  -1.06665429e+00,   2.94454032e-01,\n",
        "         1.64282797e+00,   2.35949016e+00,  -7.54739383e-01,\n",
        "        -3.02545117e-01,   9.16328264e-01,   1.26208966e-01,\n",
        "        -3.04864400e-01,  -5.42977500e-01,  -3.32205455e-01,\n",
        "        -1.92701314e-01,  -9.87515320e-01,  -1.44424866e-01,\n",
        "         2.09327893e+00,   9.18550122e-01,   1.97309375e-01,\n",
        "        -2.62032357e+00,  -5.72415178e-01,  -7.76166844e-01,\n",
        "         2.79145002e-01,   1.48422656e+00,  -2.57723640e+00,\n",
        "        -3.10608153e-01,  -9.13529442e-01,   7.97039977e-01,\n",
        "        -1.47865709e+00,  -2.23966055e-01,   2.22631908e+00,\n",
        "         4.11925840e-01,   9.51098631e-01,  -7.03487789e-02,\n",
        "         8.04244875e-01,  -9.74537829e-01,   1.79452041e-01,\n",
        "         6.02438849e-01,   1.13115980e+00,   3.82324604e-01,\n",
        "        -6.47493173e-01,   3.67312810e-01,  -6.82333259e-01,\n",
        "         1.54012500e+00,   2.37466491e-01,   3.20444803e-02,\n",
        "         2.00936171e+00,  -9.49698401e-01,  -1.25315506e+00,\n",
        "        -1.58234762e-01,  -8.94240728e-01,   4.39479924e-02,\n",
        "        -4.52034157e-01,  -6.76163777e-02,  -1.26147668e+00,\n",
        "        -1.22430195e+00,  -8.45978623e-02,  -7.92759049e-01,\n",
        "         1.12813018e+00,  -3.76972941e-01,  -1.64198792e+00,\n",
        "         2.04629843e-01,   1.39983521e-01,  -1.41089363e+00,\n",
        "         8.35861598e-02,  -9.01948685e-01,  -4.29750741e-01,\n",
        "        -2.38568972e+00,  -5.84108019e-01,  -4.78095664e-01,\n",
        "         5.55692144e-01,  -2.03376600e-01,  -1.54381703e+00,\n",
        "         3.26200780e-01,   1.53869441e-01,  -1.07321563e+00,\n",
        "         8.23968610e-01,   1.42985393e-01,   7.06603697e-01,\n",
        "        -3.19217384e-01,   2.00097736e+00,   2.03449080e+00,\n",
        "        -6.01082571e-01])"
       ]
      }
     ],
     "prompt_number": 183
    },
    {
     "cell_type": "code",
     "collapsed": true,
     "input": [
      "#4\uac1c\ub85c \uac19\uc740 \ud06c\uae30\uc758 \uadf8\ub8f9\uc73c\ub85c \ub098\ub214\n",
      "#Cut into quartiles\n",
      "#qcut \ud568\uc218\ub294 \ud45c\uc900\ubcc0\uc704\uce58\ub97c \uc0ac\uc6a9\ud558\uae30 \ub54c\ubb38\uc5d0 \uc801\ub2f9\ud788 \uac19\uc740 \ud06c\uae30\uc758 \uadf8\ub8f9\uc73c\ub85c \ub098\ub204\uc5b4\uc9d0\n",
      "cats = pd.qcut(data,4)"
     ],
     "language": "python",
     "metadata": {},
     "outputs": [],
     "prompt_number": 184
    },
    {
     "cell_type": "code",
     "collapsed": false,
     "input": [
      "cats"
     ],
     "language": "python",
     "metadata": {},
     "outputs": [
      {
       "metadata": {},
       "output_type": "pyout",
       "prompt_number": 185,
       "text": [
        "[(-0.0367, 0.694], (-0.681, -0.0367], (-0.0367, 0.694], (-0.0367, 0.694], [-3.0868, -0.681], ..., (0.694, 3.336], (-0.681, -0.0367], (0.694, 3.336], (0.694, 3.336], (-0.681, -0.0367]]\n",
        "Length: 1000\n",
        "Categories (4, object): [[-3.0868, -0.681] < (-0.681, -0.0367] < (-0.0367, 0.694] < (0.694, 3.336]]"
       ]
      }
     ],
     "prompt_number": 185
    },
    {
     "cell_type": "code",
     "collapsed": false,
     "input": [
      "pd.value_counts(cats)"
     ],
     "language": "python",
     "metadata": {},
     "outputs": [
      {
       "metadata": {},
       "output_type": "pyout",
       "prompt_number": 186,
       "text": [
        "(0.694, 3.336]       250\n",
        "(-0.0367, 0.694]     250\n",
        "(-0.681, -0.0367]    250\n",
        "[-3.0868, -0.681]    250\n",
        "dtype: int64"
       ]
      }
     ],
     "prompt_number": 186
    },
    {
     "cell_type": "code",
     "collapsed": true,
     "input": [
      "#cut \ud568\uc218\ub294 \ub370\uc774\ud130\uc758 \ubd84\uc0b0\uc5d0 \ub530\ub77c \uac01\uac01\uc758 \uadf8\ub8f9\ub9c8\ub2e4 \ub370\uc774\ud130\uc758 \uac1c\uc218\uac00 \ub2e4\ub974\uac8c \ub098\ub204\uc5b4\uc9d0\n",
      "tmp_cats = pd.cut(data,4)"
     ],
     "language": "python",
     "metadata": {},
     "outputs": [],
     "prompt_number": 187
    },
    {
     "cell_type": "code",
     "collapsed": false,
     "input": [
      "tmp_cats"
     ],
     "language": "python",
     "metadata": {},
     "outputs": [
      {
       "metadata": {},
       "output_type": "pyout",
       "prompt_number": 188,
       "text": [
        "[(-1.481, 0.124], (-1.481, 0.124], (0.124, 1.73], (0.124, 1.73], (-1.481, 0.124], ..., (0.124, 1.73], (-1.481, 0.124], (1.73, 3.336], (1.73, 3.336], (-1.481, 0.124]]\n",
        "Length: 1000\n",
        "Categories (4, object): [(-3.0932, -1.481] < (-1.481, 0.124] < (0.124, 1.73] < (1.73, 3.336]]"
       ]
      }
     ],
     "prompt_number": 188
    },
    {
     "cell_type": "code",
     "collapsed": false,
     "input": [
      "pd.value_counts(tmp_cats)"
     ],
     "language": "python",
     "metadata": {},
     "outputs": [
      {
       "metadata": {},
       "output_type": "pyout",
       "prompt_number": 189,
       "text": [
        "(-1.481, 0.124]      493\n",
        "(0.124, 1.73]        384\n",
        "(-3.0932, -1.481]     76\n",
        "(1.73, 3.336]         47\n",
        "dtype: int64"
       ]
      }
     ],
     "prompt_number": 189
    },
    {
     "cell_type": "code",
     "collapsed": false,
     "input": [
      "pd.qcut(data,[0,0.1,0.5,0.9,1.])"
     ],
     "language": "python",
     "metadata": {},
     "outputs": [
      {
       "metadata": {},
       "output_type": "pyout",
       "prompt_number": 190,
       "text": [
        "[(-0.0367, 1.267], (-1.332, -0.0367], (-0.0367, 1.267], (-0.0367, 1.267], (-1.332, -0.0367], ..., (-0.0367, 1.267], (-1.332, -0.0367], (1.267, 3.336], (1.267, 3.336], (-1.332, -0.0367]]\n",
        "Length: 1000\n",
        "Categories (4, object): [[-3.0868, -1.332] < (-1.332, -0.0367] < (-0.0367, 1.267] < (1.267, 3.336]]"
       ]
      }
     ],
     "prompt_number": 190
    },
    {
     "cell_type": "markdown",
     "metadata": {},
     "source": [
      "###7.3.6 \ud2b9\uc774\uac12 \ucc3e\uc544\ub0b4\uace0 \uc81c\uc678\ud558\uae30\n",
      "- \ubc30\uc5f4\uc5f0\uc0b0\uc744 \uc218\ud589\ud560\ub54c\ub294 \ud2b9\uc774\uac12(outlier)\uc744 \uc81c\uc678\ud558\uac70\ub098 \uc801\ub2f9\ud55c \uac12\uc73c\ub85c \ub300\uccb4\ud558\ub294 \uac83\uc774 \uc911\uc694"
     ]
    },
    {
     "cell_type": "code",
     "collapsed": true,
     "input": [
      "np.random.seed(12345)"
     ],
     "language": "python",
     "metadata": {},
     "outputs": [],
     "prompt_number": 191
    },
    {
     "cell_type": "code",
     "collapsed": true,
     "input": [
      "#np.random.randn(row,column)\n",
      "data = DataFrame(np.random.randn(1000,4))"
     ],
     "language": "python",
     "metadata": {},
     "outputs": [],
     "prompt_number": 192
    },
    {
     "cell_type": "code",
     "collapsed": false,
     "input": [
      "data.describe()"
     ],
     "language": "python",
     "metadata": {},
     "outputs": [
      {
       "html": [
        "<div style=\"max-width:1500px;overflow:auto;\">\n",
        "<table border=\"1\" class=\"dataframe\">\n",
        "  <thead>\n",
        "    <tr style=\"text-align: right;\">\n",
        "      <th></th>\n",
        "      <th>0</th>\n",
        "      <th>1</th>\n",
        "      <th>2</th>\n",
        "      <th>3</th>\n",
        "    </tr>\n",
        "  </thead>\n",
        "  <tbody>\n",
        "    <tr>\n",
        "      <th>count</th>\n",
        "      <td>1000.000000</td>\n",
        "      <td>1000.000000</td>\n",
        "      <td>1000.000000</td>\n",
        "      <td>1000.000000</td>\n",
        "    </tr>\n",
        "    <tr>\n",
        "      <th>mean</th>\n",
        "      <td>-0.067684</td>\n",
        "      <td>0.067924</td>\n",
        "      <td>0.025598</td>\n",
        "      <td>-0.002298</td>\n",
        "    </tr>\n",
        "    <tr>\n",
        "      <th>std</th>\n",
        "      <td>0.998035</td>\n",
        "      <td>0.992106</td>\n",
        "      <td>1.006835</td>\n",
        "      <td>0.996794</td>\n",
        "    </tr>\n",
        "    <tr>\n",
        "      <th>min</th>\n",
        "      <td>-3.428254</td>\n",
        "      <td>-3.548824</td>\n",
        "      <td>-3.184377</td>\n",
        "      <td>-3.745356</td>\n",
        "    </tr>\n",
        "    <tr>\n",
        "      <th>25%</th>\n",
        "      <td>-0.774890</td>\n",
        "      <td>-0.591841</td>\n",
        "      <td>-0.641675</td>\n",
        "      <td>-0.644144</td>\n",
        "    </tr>\n",
        "    <tr>\n",
        "      <th>50%</th>\n",
        "      <td>-0.116401</td>\n",
        "      <td>0.101143</td>\n",
        "      <td>0.002073</td>\n",
        "      <td>-0.013611</td>\n",
        "    </tr>\n",
        "    <tr>\n",
        "      <th>75%</th>\n",
        "      <td>0.616366</td>\n",
        "      <td>0.780282</td>\n",
        "      <td>0.680391</td>\n",
        "      <td>0.654328</td>\n",
        "    </tr>\n",
        "    <tr>\n",
        "      <th>max</th>\n",
        "      <td>3.366626</td>\n",
        "      <td>2.653656</td>\n",
        "      <td>3.260383</td>\n",
        "      <td>3.927528</td>\n",
        "    </tr>\n",
        "  </tbody>\n",
        "</table>\n",
        "</div>"
       ],
       "metadata": {},
       "output_type": "pyout",
       "prompt_number": 193,
       "text": [
        "                 0            1            2            3\n",
        "count  1000.000000  1000.000000  1000.000000  1000.000000\n",
        "mean     -0.067684     0.067924     0.025598    -0.002298\n",
        "std       0.998035     0.992106     1.006835     0.996794\n",
        "min      -3.428254    -3.548824    -3.184377    -3.745356\n",
        "25%      -0.774890    -0.591841    -0.641675    -0.644144\n",
        "50%      -0.116401     0.101143     0.002073    -0.013611\n",
        "75%       0.616366     0.780282     0.680391     0.654328\n",
        "max       3.366626     2.653656     3.260383     3.927528"
       ]
      }
     ],
     "prompt_number": 193
    },
    {
     "cell_type": "code",
     "collapsed": true,
     "input": [
      "col = data[3]"
     ],
     "language": "python",
     "metadata": {},
     "outputs": [],
     "prompt_number": 194
    },
    {
     "cell_type": "code",
     "collapsed": false,
     "input": [
      "#\ud2b9\uc815 row\uc5d0\uc11c \uc808\ub300\uac12\uc774 3\ucd08\uacfc\uc778 \uac12\uc744 \ucd94\ucd9c\n",
      "col[np.abs(col)>3]"
     ],
     "language": "python",
     "metadata": {},
     "outputs": [
      {
       "metadata": {},
       "output_type": "pyout",
       "prompt_number": 195,
       "text": [
        "97     3.927528\n",
        "305   -3.399312\n",
        "400   -3.745356\n",
        "Name: 3, dtype: float64"
       ]
      }
     ],
     "prompt_number": 195
    },
    {
     "cell_type": "code",
     "collapsed": false,
     "input": [
      "data[(np.abs(data)>3).any(1)]"
     ],
     "language": "python",
     "metadata": {},
     "outputs": [
      {
       "html": [
        "<div style=\"max-width:1500px;overflow:auto;\">\n",
        "<table border=\"1\" class=\"dataframe\">\n",
        "  <thead>\n",
        "    <tr style=\"text-align: right;\">\n",
        "      <th></th>\n",
        "      <th>0</th>\n",
        "      <th>1</th>\n",
        "      <th>2</th>\n",
        "      <th>3</th>\n",
        "    </tr>\n",
        "  </thead>\n",
        "  <tbody>\n",
        "    <tr>\n",
        "      <th>5</th>\n",
        "      <td>-0.539741</td>\n",
        "      <td>0.476985</td>\n",
        "      <td>3.248944</td>\n",
        "      <td>-1.021228</td>\n",
        "    </tr>\n",
        "    <tr>\n",
        "      <th>97</th>\n",
        "      <td>-0.774363</td>\n",
        "      <td>0.552936</td>\n",
        "      <td>0.106061</td>\n",
        "      <td>3.927528</td>\n",
        "    </tr>\n",
        "    <tr>\n",
        "      <th>102</th>\n",
        "      <td>-0.655054</td>\n",
        "      <td>-0.565230</td>\n",
        "      <td>3.176873</td>\n",
        "      <td>0.959533</td>\n",
        "    </tr>\n",
        "    <tr>\n",
        "      <th>305</th>\n",
        "      <td>-2.315555</td>\n",
        "      <td>0.457246</td>\n",
        "      <td>-0.025907</td>\n",
        "      <td>-3.399312</td>\n",
        "    </tr>\n",
        "    <tr>\n",
        "      <th>324</th>\n",
        "      <td>0.050188</td>\n",
        "      <td>1.951312</td>\n",
        "      <td>3.260383</td>\n",
        "      <td>0.963301</td>\n",
        "    </tr>\n",
        "    <tr>\n",
        "      <th>400</th>\n",
        "      <td>0.146326</td>\n",
        "      <td>0.508391</td>\n",
        "      <td>-0.196713</td>\n",
        "      <td>-3.745356</td>\n",
        "    </tr>\n",
        "    <tr>\n",
        "      <th>499</th>\n",
        "      <td>-0.293333</td>\n",
        "      <td>-0.242459</td>\n",
        "      <td>-3.056990</td>\n",
        "      <td>1.918403</td>\n",
        "    </tr>\n",
        "    <tr>\n",
        "      <th>523</th>\n",
        "      <td>-3.428254</td>\n",
        "      <td>-0.296336</td>\n",
        "      <td>-0.439938</td>\n",
        "      <td>-0.867165</td>\n",
        "    </tr>\n",
        "    <tr>\n",
        "      <th>586</th>\n",
        "      <td>0.275144</td>\n",
        "      <td>1.179227</td>\n",
        "      <td>-3.184377</td>\n",
        "      <td>1.369891</td>\n",
        "    </tr>\n",
        "    <tr>\n",
        "      <th>808</th>\n",
        "      <td>-0.362528</td>\n",
        "      <td>-3.548824</td>\n",
        "      <td>1.553205</td>\n",
        "      <td>-2.186301</td>\n",
        "    </tr>\n",
        "    <tr>\n",
        "      <th>900</th>\n",
        "      <td>3.366626</td>\n",
        "      <td>-2.372214</td>\n",
        "      <td>0.851010</td>\n",
        "      <td>1.332846</td>\n",
        "    </tr>\n",
        "  </tbody>\n",
        "</table>\n",
        "</div>"
       ],
       "metadata": {},
       "output_type": "pyout",
       "prompt_number": 196,
       "text": [
        "            0         1         2         3\n",
        "5   -0.539741  0.476985  3.248944 -1.021228\n",
        "97  -0.774363  0.552936  0.106061  3.927528\n",
        "102 -0.655054 -0.565230  3.176873  0.959533\n",
        "305 -2.315555  0.457246 -0.025907 -3.399312\n",
        "324  0.050188  1.951312  3.260383  0.963301\n",
        "400  0.146326  0.508391 -0.196713 -3.745356\n",
        "499 -0.293333 -0.242459 -3.056990  1.918403\n",
        "523 -3.428254 -0.296336 -0.439938 -0.867165\n",
        "586  0.275144  1.179227 -3.184377  1.369891\n",
        "808 -0.362528 -3.548824  1.553205 -2.186301\n",
        "900  3.366626 -2.372214  0.851010  1.332846"
       ]
      }
     ],
     "prompt_number": 196
    },
    {
     "cell_type": "code",
     "collapsed": true,
     "input": [
      "#np.sign\uc740 \uc8fc\uc5b4\uc9c4 \uac12\uc774 \ubd80\ud638\uc5d0 \ub530\ub77c 1 \ud639\uc740 -1\uc774 \ub2f4\uae34 \ubc30\uc5f4\uc744 \ubc18\ud658\n",
      "#\uc808\ub300\uac12\uc774 3\uc744 \ub118\ub294 row\uc5d0\ub294 3 \ub610\ub294 -3\uc744 \uc800\uc7a5\n",
      "data[np.abs(data)>3] = np.sign(data)*3"
     ],
     "language": "python",
     "metadata": {},
     "outputs": [],
     "prompt_number": 197
    },
    {
     "cell_type": "code",
     "collapsed": false,
     "input": [
      "data.describe()"
     ],
     "language": "python",
     "metadata": {},
     "outputs": [
      {
       "html": [
        "<div style=\"max-width:1500px;overflow:auto;\">\n",
        "<table border=\"1\" class=\"dataframe\">\n",
        "  <thead>\n",
        "    <tr style=\"text-align: right;\">\n",
        "      <th></th>\n",
        "      <th>0</th>\n",
        "      <th>1</th>\n",
        "      <th>2</th>\n",
        "      <th>3</th>\n",
        "    </tr>\n",
        "  </thead>\n",
        "  <tbody>\n",
        "    <tr>\n",
        "      <th>count</th>\n",
        "      <td>1000.000000</td>\n",
        "      <td>1000.000000</td>\n",
        "      <td>1000.000000</td>\n",
        "      <td>1000.000000</td>\n",
        "    </tr>\n",
        "    <tr>\n",
        "      <th>mean</th>\n",
        "      <td>-0.067623</td>\n",
        "      <td>0.068473</td>\n",
        "      <td>0.025153</td>\n",
        "      <td>-0.002081</td>\n",
        "    </tr>\n",
        "    <tr>\n",
        "      <th>std</th>\n",
        "      <td>0.995485</td>\n",
        "      <td>0.990253</td>\n",
        "      <td>1.003977</td>\n",
        "      <td>0.989736</td>\n",
        "    </tr>\n",
        "    <tr>\n",
        "      <th>min</th>\n",
        "      <td>-3.000000</td>\n",
        "      <td>-3.000000</td>\n",
        "      <td>-3.000000</td>\n",
        "      <td>-3.000000</td>\n",
        "    </tr>\n",
        "    <tr>\n",
        "      <th>25%</th>\n",
        "      <td>-0.774890</td>\n",
        "      <td>-0.591841</td>\n",
        "      <td>-0.641675</td>\n",
        "      <td>-0.644144</td>\n",
        "    </tr>\n",
        "    <tr>\n",
        "      <th>50%</th>\n",
        "      <td>-0.116401</td>\n",
        "      <td>0.101143</td>\n",
        "      <td>0.002073</td>\n",
        "      <td>-0.013611</td>\n",
        "    </tr>\n",
        "    <tr>\n",
        "      <th>75%</th>\n",
        "      <td>0.616366</td>\n",
        "      <td>0.780282</td>\n",
        "      <td>0.680391</td>\n",
        "      <td>0.654328</td>\n",
        "    </tr>\n",
        "    <tr>\n",
        "      <th>max</th>\n",
        "      <td>3.000000</td>\n",
        "      <td>2.653656</td>\n",
        "      <td>3.000000</td>\n",
        "      <td>3.000000</td>\n",
        "    </tr>\n",
        "  </tbody>\n",
        "</table>\n",
        "</div>"
       ],
       "metadata": {},
       "output_type": "pyout",
       "prompt_number": 198,
       "text": [
        "                 0            1            2            3\n",
        "count  1000.000000  1000.000000  1000.000000  1000.000000\n",
        "mean     -0.067623     0.068473     0.025153    -0.002081\n",
        "std       0.995485     0.990253     1.003977     0.989736\n",
        "min      -3.000000    -3.000000    -3.000000    -3.000000\n",
        "25%      -0.774890    -0.591841    -0.641675    -0.644144\n",
        "50%      -0.116401     0.101143     0.002073    -0.013611\n",
        "75%       0.616366     0.780282     0.680391     0.654328\n",
        "max       3.000000     2.653656     3.000000     3.000000"
       ]
      }
     ],
     "prompt_number": 198
    },
    {
     "cell_type": "markdown",
     "metadata": {},
     "source": [
      "###7.3.7 \uce58\ud658\uacfc \uc784\uc758 \uc0d8\ud50c\ub9c1\n",
      "- numpy.random.permutation \ud568\uc218\ub97c \uc774\uc6a9\ud558\uba74 Series\ub098 DataFrame\uc758 row\ub97c \uc27d\uac8c \uc784\uc758\uc758 \uc21c\uc11c\ub300\ub85c \uc7ac\ubc30\uce58 \ud560 \uc218 \uc788\uc74c\n",
      "- \uc21c\uc11c\ub97c \ubc14\uafb8\uace0 \uc2f6\uc740 \ub9cc\ud07c\uc758 \uae38\uc774\ub97c permutaiotn \ud568\uc218\uc5d0 \ub118\uae30\uba74 \ubc14\ub010 \uc21c\uc11c\uac00 \ub2f4\uae34 \uc815\uc218 \ubc30\uc5f4\uc774 \uc0dd\uc131\ub428"
     ]
    },
    {
     "cell_type": "code",
     "collapsed": true,
     "input": [
      "df = DataFrame(np.arange(5*4).reshape(5,4))"
     ],
     "language": "python",
     "metadata": {},
     "outputs": [],
     "prompt_number": 199
    },
    {
     "cell_type": "code",
     "collapsed": false,
     "input": [
      "df"
     ],
     "language": "python",
     "metadata": {},
     "outputs": [
      {
       "html": [
        "<div style=\"max-width:1500px;overflow:auto;\">\n",
        "<table border=\"1\" class=\"dataframe\">\n",
        "  <thead>\n",
        "    <tr style=\"text-align: right;\">\n",
        "      <th></th>\n",
        "      <th>0</th>\n",
        "      <th>1</th>\n",
        "      <th>2</th>\n",
        "      <th>3</th>\n",
        "    </tr>\n",
        "  </thead>\n",
        "  <tbody>\n",
        "    <tr>\n",
        "      <th>0</th>\n",
        "      <td>0</td>\n",
        "      <td>1</td>\n",
        "      <td>2</td>\n",
        "      <td>3</td>\n",
        "    </tr>\n",
        "    <tr>\n",
        "      <th>1</th>\n",
        "      <td>4</td>\n",
        "      <td>5</td>\n",
        "      <td>6</td>\n",
        "      <td>7</td>\n",
        "    </tr>\n",
        "    <tr>\n",
        "      <th>2</th>\n",
        "      <td>8</td>\n",
        "      <td>9</td>\n",
        "      <td>10</td>\n",
        "      <td>11</td>\n",
        "    </tr>\n",
        "    <tr>\n",
        "      <th>3</th>\n",
        "      <td>12</td>\n",
        "      <td>13</td>\n",
        "      <td>14</td>\n",
        "      <td>15</td>\n",
        "    </tr>\n",
        "    <tr>\n",
        "      <th>4</th>\n",
        "      <td>16</td>\n",
        "      <td>17</td>\n",
        "      <td>18</td>\n",
        "      <td>19</td>\n",
        "    </tr>\n",
        "  </tbody>\n",
        "</table>\n",
        "</div>"
       ],
       "metadata": {},
       "output_type": "pyout",
       "prompt_number": 200,
       "text": [
        "    0   1   2   3\n",
        "0   0   1   2   3\n",
        "1   4   5   6   7\n",
        "2   8   9  10  11\n",
        "3  12  13  14  15\n",
        "4  16  17  18  19"
       ]
      }
     ],
     "prompt_number": 200
    },
    {
     "cell_type": "code",
     "collapsed": false,
     "input": [
      "#numpy.random.permutation()\uc744 \uc0ac\uc6a9\ud558\uc5ec 0~4\uae4c\uc9c0\uc758 \uc784\uc758\uc758 \uc218\uc758 \ubc30\uc5f4 \uc0dd\uc131\n",
      "sampler = np.random.permutation(5)\n",
      "sampler"
     ],
     "language": "python",
     "metadata": {},
     "outputs": [
      {
       "metadata": {},
       "output_type": "pyout",
       "prompt_number": 201,
       "text": [
        "array([1, 0, 2, 3, 4])"
       ]
      }
     ],
     "prompt_number": 201
    },
    {
     "cell_type": "code",
     "collapsed": false,
     "input": [
      "#DataFrame.take()\uc5d0 \ub9ac\uc2a4\ud2b8\ub97c \ub118\uae30\uba74 index\uc758 \uc21c\uc11c\ub97c \uc9c0\uc815\ud560\uc218 \uc788\uc74c\n",
      "df.take([3,2,1,0,4])"
     ],
     "language": "python",
     "metadata": {},
     "outputs": [
      {
       "html": [
        "<div style=\"max-width:1500px;overflow:auto;\">\n",
        "<table border=\"1\" class=\"dataframe\">\n",
        "  <thead>\n",
        "    <tr style=\"text-align: right;\">\n",
        "      <th></th>\n",
        "      <th>0</th>\n",
        "      <th>1</th>\n",
        "      <th>2</th>\n",
        "      <th>3</th>\n",
        "    </tr>\n",
        "  </thead>\n",
        "  <tbody>\n",
        "    <tr>\n",
        "      <th>3</th>\n",
        "      <td>12</td>\n",
        "      <td>13</td>\n",
        "      <td>14</td>\n",
        "      <td>15</td>\n",
        "    </tr>\n",
        "    <tr>\n",
        "      <th>2</th>\n",
        "      <td>8</td>\n",
        "      <td>9</td>\n",
        "      <td>10</td>\n",
        "      <td>11</td>\n",
        "    </tr>\n",
        "    <tr>\n",
        "      <th>1</th>\n",
        "      <td>4</td>\n",
        "      <td>5</td>\n",
        "      <td>6</td>\n",
        "      <td>7</td>\n",
        "    </tr>\n",
        "    <tr>\n",
        "      <th>0</th>\n",
        "      <td>0</td>\n",
        "      <td>1</td>\n",
        "      <td>2</td>\n",
        "      <td>3</td>\n",
        "    </tr>\n",
        "    <tr>\n",
        "      <th>4</th>\n",
        "      <td>16</td>\n",
        "      <td>17</td>\n",
        "      <td>18</td>\n",
        "      <td>19</td>\n",
        "    </tr>\n",
        "  </tbody>\n",
        "</table>\n",
        "</div>"
       ],
       "metadata": {},
       "output_type": "pyout",
       "prompt_number": 202,
       "text": [
        "    0   1   2   3\n",
        "3  12  13  14  15\n",
        "2   8   9  10  11\n",
        "1   4   5   6   7\n",
        "0   0   1   2   3\n",
        "4  16  17  18  19"
       ]
      }
     ],
     "prompt_number": 202
    },
    {
     "cell_type": "code",
     "collapsed": false,
     "input": [
      "df.take(sampler)"
     ],
     "language": "python",
     "metadata": {},
     "outputs": [
      {
       "html": [
        "<div style=\"max-width:1500px;overflow:auto;\">\n",
        "<table border=\"1\" class=\"dataframe\">\n",
        "  <thead>\n",
        "    <tr style=\"text-align: right;\">\n",
        "      <th></th>\n",
        "      <th>0</th>\n",
        "      <th>1</th>\n",
        "      <th>2</th>\n",
        "      <th>3</th>\n",
        "    </tr>\n",
        "  </thead>\n",
        "  <tbody>\n",
        "    <tr>\n",
        "      <th>1</th>\n",
        "      <td>4</td>\n",
        "      <td>5</td>\n",
        "      <td>6</td>\n",
        "      <td>7</td>\n",
        "    </tr>\n",
        "    <tr>\n",
        "      <th>0</th>\n",
        "      <td>0</td>\n",
        "      <td>1</td>\n",
        "      <td>2</td>\n",
        "      <td>3</td>\n",
        "    </tr>\n",
        "    <tr>\n",
        "      <th>2</th>\n",
        "      <td>8</td>\n",
        "      <td>9</td>\n",
        "      <td>10</td>\n",
        "      <td>11</td>\n",
        "    </tr>\n",
        "    <tr>\n",
        "      <th>3</th>\n",
        "      <td>12</td>\n",
        "      <td>13</td>\n",
        "      <td>14</td>\n",
        "      <td>15</td>\n",
        "    </tr>\n",
        "    <tr>\n",
        "      <th>4</th>\n",
        "      <td>16</td>\n",
        "      <td>17</td>\n",
        "      <td>18</td>\n",
        "      <td>19</td>\n",
        "    </tr>\n",
        "  </tbody>\n",
        "</table>\n",
        "</div>"
       ],
       "metadata": {},
       "output_type": "pyout",
       "prompt_number": 203,
       "text": [
        "    0   1   2   3\n",
        "1   4   5   6   7\n",
        "0   0   1   2   3\n",
        "2   8   9  10  11\n",
        "3  12  13  14  15\n",
        "4  16  17  18  19"
       ]
      }
     ],
     "prompt_number": 203
    },
    {
     "cell_type": "code",
     "collapsed": false,
     "input": [
      "len(df)"
     ],
     "language": "python",
     "metadata": {},
     "outputs": [
      {
       "metadata": {},
       "output_type": "pyout",
       "prompt_number": 204,
       "text": [
        "5"
       ]
      }
     ],
     "prompt_number": 204
    },
    {
     "cell_type": "code",
     "collapsed": false,
     "input": [
      "#df\uc758 \uae38\uc774\ub9cc\ud07c \ub79c\ub364\ud55c\uc218\uc758 \ubc30\uc5f4\uc744 \uc0dd\uc131\ud55c\ub4a4 index \uc7ac\ubc30\uce58\n",
      "df.take(np.random.permutation(len(df)))"
     ],
     "language": "python",
     "metadata": {},
     "outputs": [
      {
       "html": [
        "<div style=\"max-width:1500px;overflow:auto;\">\n",
        "<table border=\"1\" class=\"dataframe\">\n",
        "  <thead>\n",
        "    <tr style=\"text-align: right;\">\n",
        "      <th></th>\n",
        "      <th>0</th>\n",
        "      <th>1</th>\n",
        "      <th>2</th>\n",
        "      <th>3</th>\n",
        "    </tr>\n",
        "  </thead>\n",
        "  <tbody>\n",
        "    <tr>\n",
        "      <th>1</th>\n",
        "      <td>4</td>\n",
        "      <td>5</td>\n",
        "      <td>6</td>\n",
        "      <td>7</td>\n",
        "    </tr>\n",
        "    <tr>\n",
        "      <th>3</th>\n",
        "      <td>12</td>\n",
        "      <td>13</td>\n",
        "      <td>14</td>\n",
        "      <td>15</td>\n",
        "    </tr>\n",
        "    <tr>\n",
        "      <th>4</th>\n",
        "      <td>16</td>\n",
        "      <td>17</td>\n",
        "      <td>18</td>\n",
        "      <td>19</td>\n",
        "    </tr>\n",
        "    <tr>\n",
        "      <th>0</th>\n",
        "      <td>0</td>\n",
        "      <td>1</td>\n",
        "      <td>2</td>\n",
        "      <td>3</td>\n",
        "    </tr>\n",
        "    <tr>\n",
        "      <th>2</th>\n",
        "      <td>8</td>\n",
        "      <td>9</td>\n",
        "      <td>10</td>\n",
        "      <td>11</td>\n",
        "    </tr>\n",
        "  </tbody>\n",
        "</table>\n",
        "</div>"
       ],
       "metadata": {},
       "output_type": "pyout",
       "prompt_number": 205,
       "text": [
        "    0   1   2   3\n",
        "1   4   5   6   7\n",
        "3  12  13  14  15\n",
        "4  16  17  18  19\n",
        "0   0   1   2   3\n",
        "2   8   9  10  11"
       ]
      }
     ],
     "prompt_number": 205
    },
    {
     "cell_type": "code",
     "collapsed": false,
     "input": [
      "#\uce58\ud658\uc744 \ud1b5\ud574 \ud45c\ubcf8\uc744 \uc0dd\uc131\ud558\uae30 \uc704\ud55c \uac00\uc7a5 \ube60\ub978 \ubc29\ubc95\uc740 np.random.randint\ub97c \uc0ac\uc6a9\ud574\uc11c \uc0dd\uc131\ud55c \ub09c\uc218\ub97c \uc774\uc6a9\ud558\ub294 \ubc29\ubc95\n",
      "bag = np.array([5,7,-1,6,4])\n",
      "bag"
     ],
     "language": "python",
     "metadata": {},
     "outputs": [
      {
       "metadata": {},
       "output_type": "pyout",
       "prompt_number": 206,
       "text": [
        "array([ 5,  7, -1,  6,  4])"
       ]
      }
     ],
     "prompt_number": 206
    },
    {
     "cell_type": "code",
     "collapsed": false,
     "input": [
      "#numpy.random.randint(low,high,size)\n",
      "sampler = np.random.randint(0,len(bag),size=10)\n",
      "sampler"
     ],
     "language": "python",
     "metadata": {},
     "outputs": [
      {
       "metadata": {},
       "output_type": "pyout",
       "prompt_number": 207,
       "text": [
        "array([4, 4, 2, 2, 2, 0, 3, 0, 4, 1])"
       ]
      }
     ],
     "prompt_number": 207
    },
    {
     "cell_type": "code",
     "collapsed": false,
     "input": [
      "#Array.take(param_Array) : param_Array\ub85c\ubd80\ud130 \uac12\ub4e4\uc744 index\ub85c \ud558\uc5ec, Array\uc5d0\uc11c \uac12\ub4e4\uc744 \ubf51\uc544\uc634\n",
      "draws = bag.take(sampler)\n",
      "draws"
     ],
     "language": "python",
     "metadata": {},
     "outputs": [
      {
       "metadata": {},
       "output_type": "pyout",
       "prompt_number": 208,
       "text": [
        "array([ 4,  4, -1, -1, -1,  5,  6,  5,  4,  7])"
       ]
      }
     ],
     "prompt_number": 208
    },
    {
     "cell_type": "markdown",
     "metadata": {},
     "source": [
      "###7.3.8 \ud45c\uc2dc\uc790/\ub354\ubbf8 \ubcc0\uc218\n",
      "- \uc5b4\ub5a4 DataFrame\uc758 \ud55c \uceec\ub7fc\uc5d0 k\uac00\uc9c0\uc758 \uac12\uc774 \uc788\ub294 \uacbd\uc6b0, k\uac1c\uc758 \uce7c\ub7fc\uc774 \uc788\ub294 DataFrame\uc774\ub098 \ud589\ub82c\uc744 \ub9cc\ub4e4\uace0 \uac01 \uce78\uc744 1\uacfc 0\uc73c\ub85c \ucc44\uc6cc\ub123\uace0 \uc2f6\uc744\ub54c,           pandas\uc758 get_dummies\ud568\uc218\ub97c \uc0ac\uc6a9"
     ]
    },
    {
     "cell_type": "code",
     "collapsed": false,
     "input": [
      "df = DataFrame({'key':['b','b','a','c','a','b'],\n",
      "                'data1':range(6)})"
     ],
     "language": "python",
     "metadata": {},
     "outputs": [],
     "prompt_number": 209
    },
    {
     "cell_type": "code",
     "collapsed": false,
     "input": [
      "df"
     ],
     "language": "python",
     "metadata": {},
     "outputs": [
      {
       "html": [
        "<div style=\"max-width:1500px;overflow:auto;\">\n",
        "<table border=\"1\" class=\"dataframe\">\n",
        "  <thead>\n",
        "    <tr style=\"text-align: right;\">\n",
        "      <th></th>\n",
        "      <th>data1</th>\n",
        "      <th>key</th>\n",
        "    </tr>\n",
        "  </thead>\n",
        "  <tbody>\n",
        "    <tr>\n",
        "      <th>0</th>\n",
        "      <td>0</td>\n",
        "      <td>b</td>\n",
        "    </tr>\n",
        "    <tr>\n",
        "      <th>1</th>\n",
        "      <td>1</td>\n",
        "      <td>b</td>\n",
        "    </tr>\n",
        "    <tr>\n",
        "      <th>2</th>\n",
        "      <td>2</td>\n",
        "      <td>a</td>\n",
        "    </tr>\n",
        "    <tr>\n",
        "      <th>3</th>\n",
        "      <td>3</td>\n",
        "      <td>c</td>\n",
        "    </tr>\n",
        "    <tr>\n",
        "      <th>4</th>\n",
        "      <td>4</td>\n",
        "      <td>a</td>\n",
        "    </tr>\n",
        "    <tr>\n",
        "      <th>5</th>\n",
        "      <td>5</td>\n",
        "      <td>b</td>\n",
        "    </tr>\n",
        "  </tbody>\n",
        "</table>\n",
        "</div>"
       ],
       "metadata": {},
       "output_type": "pyout",
       "prompt_number": 210,
       "text": [
        "   data1 key\n",
        "0      0   b\n",
        "1      1   b\n",
        "2      2   a\n",
        "3      3   c\n",
        "4      4   a\n",
        "5      5   b"
       ]
      }
     ],
     "prompt_number": 210
    },
    {
     "cell_type": "code",
     "collapsed": false,
     "input": [
      "pd.get_dummies(df['key'])"
     ],
     "language": "python",
     "metadata": {},
     "outputs": [
      {
       "html": [
        "<div style=\"max-width:1500px;overflow:auto;\">\n",
        "<table border=\"1\" class=\"dataframe\">\n",
        "  <thead>\n",
        "    <tr style=\"text-align: right;\">\n",
        "      <th></th>\n",
        "      <th>a</th>\n",
        "      <th>b</th>\n",
        "      <th>c</th>\n",
        "    </tr>\n",
        "  </thead>\n",
        "  <tbody>\n",
        "    <tr>\n",
        "      <th>0</th>\n",
        "      <td>0</td>\n",
        "      <td>1</td>\n",
        "      <td>0</td>\n",
        "    </tr>\n",
        "    <tr>\n",
        "      <th>1</th>\n",
        "      <td>0</td>\n",
        "      <td>1</td>\n",
        "      <td>0</td>\n",
        "    </tr>\n",
        "    <tr>\n",
        "      <th>2</th>\n",
        "      <td>1</td>\n",
        "      <td>0</td>\n",
        "      <td>0</td>\n",
        "    </tr>\n",
        "    <tr>\n",
        "      <th>3</th>\n",
        "      <td>0</td>\n",
        "      <td>0</td>\n",
        "      <td>1</td>\n",
        "    </tr>\n",
        "    <tr>\n",
        "      <th>4</th>\n",
        "      <td>1</td>\n",
        "      <td>0</td>\n",
        "      <td>0</td>\n",
        "    </tr>\n",
        "    <tr>\n",
        "      <th>5</th>\n",
        "      <td>0</td>\n",
        "      <td>1</td>\n",
        "      <td>0</td>\n",
        "    </tr>\n",
        "  </tbody>\n",
        "</table>\n",
        "</div>"
       ],
       "metadata": {},
       "output_type": "pyout",
       "prompt_number": 211,
       "text": [
        "   a  b  c\n",
        "0  0  1  0\n",
        "1  0  1  0\n",
        "2  1  0  0\n",
        "3  0  0  1\n",
        "4  1  0  0\n",
        "5  0  1  0"
       ]
      }
     ],
     "prompt_number": 211
    },
    {
     "cell_type": "code",
     "collapsed": false,
     "input": [
      "#\ud45c\uc2dc\uc6a9 DataFrame \uc548\uc5d0 \uc788\ub294 \uce7c\ub7fc\uc5d0 \uc811\ub450\uc5b4(prefix)\ub97c \ucd94\uac00\ud55c \ud6c4 \ub2e4\ub978 \ub370\uc774\ud130\uc640 \ubcd1\ud569\ud558\uace0 \uc2f6\uc744 \ub54c\uac00 \uc788\ub294\ub370,\n",
      "#\uc774\ub7f4\uacbd\uc6b0 get_dummies \ud568\uc218\uc758 prefix \uc778\uc790\ub97c \uc0ac\uc6a9\n",
      "dummies = pd.get_dummies(df['key'], prefix='key')\n",
      "dummies"
     ],
     "language": "python",
     "metadata": {},
     "outputs": [
      {
       "html": [
        "<div style=\"max-width:1500px;overflow:auto;\">\n",
        "<table border=\"1\" class=\"dataframe\">\n",
        "  <thead>\n",
        "    <tr style=\"text-align: right;\">\n",
        "      <th></th>\n",
        "      <th>key_a</th>\n",
        "      <th>key_b</th>\n",
        "      <th>key_c</th>\n",
        "    </tr>\n",
        "  </thead>\n",
        "  <tbody>\n",
        "    <tr>\n",
        "      <th>0</th>\n",
        "      <td>0</td>\n",
        "      <td>1</td>\n",
        "      <td>0</td>\n",
        "    </tr>\n",
        "    <tr>\n",
        "      <th>1</th>\n",
        "      <td>0</td>\n",
        "      <td>1</td>\n",
        "      <td>0</td>\n",
        "    </tr>\n",
        "    <tr>\n",
        "      <th>2</th>\n",
        "      <td>1</td>\n",
        "      <td>0</td>\n",
        "      <td>0</td>\n",
        "    </tr>\n",
        "    <tr>\n",
        "      <th>3</th>\n",
        "      <td>0</td>\n",
        "      <td>0</td>\n",
        "      <td>1</td>\n",
        "    </tr>\n",
        "    <tr>\n",
        "      <th>4</th>\n",
        "      <td>1</td>\n",
        "      <td>0</td>\n",
        "      <td>0</td>\n",
        "    </tr>\n",
        "    <tr>\n",
        "      <th>5</th>\n",
        "      <td>0</td>\n",
        "      <td>1</td>\n",
        "      <td>0</td>\n",
        "    </tr>\n",
        "  </tbody>\n",
        "</table>\n",
        "</div>"
       ],
       "metadata": {},
       "output_type": "pyout",
       "prompt_number": 212,
       "text": [
        "   key_a  key_b  key_c\n",
        "0      0      1      0\n",
        "1      0      1      0\n",
        "2      1      0      0\n",
        "3      0      0      1\n",
        "4      1      0      0\n",
        "5      0      1      0"
       ]
      }
     ],
     "prompt_number": 212
    },
    {
     "cell_type": "code",
     "collapsed": false,
     "input": [
      "df_with_dummy = df[['data1']].join(dummies)\n",
      "df_with_dummy"
     ],
     "language": "python",
     "metadata": {},
     "outputs": [
      {
       "html": [
        "<div style=\"max-width:1500px;overflow:auto;\">\n",
        "<table border=\"1\" class=\"dataframe\">\n",
        "  <thead>\n",
        "    <tr style=\"text-align: right;\">\n",
        "      <th></th>\n",
        "      <th>data1</th>\n",
        "      <th>key_a</th>\n",
        "      <th>key_b</th>\n",
        "      <th>key_c</th>\n",
        "    </tr>\n",
        "  </thead>\n",
        "  <tbody>\n",
        "    <tr>\n",
        "      <th>0</th>\n",
        "      <td>0</td>\n",
        "      <td>0</td>\n",
        "      <td>1</td>\n",
        "      <td>0</td>\n",
        "    </tr>\n",
        "    <tr>\n",
        "      <th>1</th>\n",
        "      <td>1</td>\n",
        "      <td>0</td>\n",
        "      <td>1</td>\n",
        "      <td>0</td>\n",
        "    </tr>\n",
        "    <tr>\n",
        "      <th>2</th>\n",
        "      <td>2</td>\n",
        "      <td>1</td>\n",
        "      <td>0</td>\n",
        "      <td>0</td>\n",
        "    </tr>\n",
        "    <tr>\n",
        "      <th>3</th>\n",
        "      <td>3</td>\n",
        "      <td>0</td>\n",
        "      <td>0</td>\n",
        "      <td>1</td>\n",
        "    </tr>\n",
        "    <tr>\n",
        "      <th>4</th>\n",
        "      <td>4</td>\n",
        "      <td>1</td>\n",
        "      <td>0</td>\n",
        "      <td>0</td>\n",
        "    </tr>\n",
        "    <tr>\n",
        "      <th>5</th>\n",
        "      <td>5</td>\n",
        "      <td>0</td>\n",
        "      <td>1</td>\n",
        "      <td>0</td>\n",
        "    </tr>\n",
        "  </tbody>\n",
        "</table>\n",
        "</div>"
       ],
       "metadata": {},
       "output_type": "pyout",
       "prompt_number": 213,
       "text": [
        "   data1  key_a  key_b  key_c\n",
        "0      0      0      1      0\n",
        "1      1      0      1      0\n",
        "2      2      1      0      0\n",
        "3      3      0      0      1\n",
        "4      4      1      0      0\n",
        "5      5      0      1      0"
       ]
      }
     ],
     "prompt_number": 213
    },
    {
     "cell_type": "code",
     "collapsed": false,
     "input": [
      "print type(df['data1'])\n",
      "print type(df[['data1']])"
     ],
     "language": "python",
     "metadata": {},
     "outputs": [
      {
       "output_type": "stream",
       "stream": "stdout",
       "text": [
        "<class 'pandas.core.series.Series'>\n",
        "<class 'pandas.core.frame.DataFrame'>\n"
       ]
      }
     ],
     "prompt_number": 214
    },
    {
     "cell_type": "code",
     "collapsed": false,
     "input": [
      "mnames = ['movie_id','title','genres']"
     ],
     "language": "python",
     "metadata": {},
     "outputs": [],
     "prompt_number": 215
    },
    {
     "cell_type": "code",
     "collapsed": false,
     "input": [
      "movies = pd.read_table('https://raw.githubusercontent.com/pydata/pydata-book/master/ch02/movielens/movies.dat',\n",
      "                       sep='::',\n",
      "                       header=None,\n",
      "                       names=mnames)"
     ],
     "language": "python",
     "metadata": {},
     "outputs": [],
     "prompt_number": 232
    },
    {
     "cell_type": "code",
     "collapsed": false,
     "input": [
      "movies"
     ],
     "language": "python",
     "metadata": {},
     "outputs": [
      {
       "html": [
        "<div style=\"max-width:1500px;overflow:auto;\">\n",
        "<table border=\"1\" class=\"dataframe\">\n",
        "  <thead>\n",
        "    <tr style=\"text-align: right;\">\n",
        "      <th></th>\n",
        "      <th>movie_id</th>\n",
        "      <th>title</th>\n",
        "      <th>genres</th>\n",
        "    </tr>\n",
        "  </thead>\n",
        "  <tbody>\n",
        "    <tr>\n",
        "      <th>0</th>\n",
        "      <td>1</td>\n",
        "      <td>Toy Story (1995)</td>\n",
        "      <td>Animation|Children's|Comedy</td>\n",
        "    </tr>\n",
        "    <tr>\n",
        "      <th>1</th>\n",
        "      <td>2</td>\n",
        "      <td>Jumanji (1995)</td>\n",
        "      <td>Adventure|Children's|Fantasy</td>\n",
        "    </tr>\n",
        "    <tr>\n",
        "      <th>2</th>\n",
        "      <td>3</td>\n",
        "      <td>Grumpier Old Men (1995)</td>\n",
        "      <td>Comedy|Romance</td>\n",
        "    </tr>\n",
        "    <tr>\n",
        "      <th>3</th>\n",
        "      <td>4</td>\n",
        "      <td>Waiting to Exhale (1995)</td>\n",
        "      <td>Comedy|Drama</td>\n",
        "    </tr>\n",
        "    <tr>\n",
        "      <th>4</th>\n",
        "      <td>5</td>\n",
        "      <td>Father of the Bride Part II (1995)</td>\n",
        "      <td>Comedy</td>\n",
        "    </tr>\n",
        "    <tr>\n",
        "      <th>5</th>\n",
        "      <td>6</td>\n",
        "      <td>Heat (1995)</td>\n",
        "      <td>Action|Crime|Thriller</td>\n",
        "    </tr>\n",
        "    <tr>\n",
        "      <th>6</th>\n",
        "      <td>7</td>\n",
        "      <td>Sabrina (1995)</td>\n",
        "      <td>Comedy|Romance</td>\n",
        "    </tr>\n",
        "    <tr>\n",
        "      <th>7</th>\n",
        "      <td>8</td>\n",
        "      <td>Tom and Huck (1995)</td>\n",
        "      <td>Adventure|Children's</td>\n",
        "    </tr>\n",
        "    <tr>\n",
        "      <th>8</th>\n",
        "      <td>9</td>\n",
        "      <td>Sudden Death (1995)</td>\n",
        "      <td>Action</td>\n",
        "    </tr>\n",
        "    <tr>\n",
        "      <th>9</th>\n",
        "      <td>10</td>\n",
        "      <td>GoldenEye (1995)</td>\n",
        "      <td>Action|Adventure|Thriller</td>\n",
        "    </tr>\n",
        "    <tr>\n",
        "      <th>10</th>\n",
        "      <td>11</td>\n",
        "      <td>American President, The (1995)</td>\n",
        "      <td>Comedy|Drama|Romance</td>\n",
        "    </tr>\n",
        "    <tr>\n",
        "      <th>11</th>\n",
        "      <td>12</td>\n",
        "      <td>Dracula: Dead and Loving It (1995)</td>\n",
        "      <td>Comedy|Horror</td>\n",
        "    </tr>\n",
        "    <tr>\n",
        "      <th>12</th>\n",
        "      <td>13</td>\n",
        "      <td>Balto (1995)</td>\n",
        "      <td>Animation|Children's</td>\n",
        "    </tr>\n",
        "    <tr>\n",
        "      <th>13</th>\n",
        "      <td>14</td>\n",
        "      <td>Nixon (1995)</td>\n",
        "      <td>Drama</td>\n",
        "    </tr>\n",
        "    <tr>\n",
        "      <th>14</th>\n",
        "      <td>15</td>\n",
        "      <td>Cutthroat Island (1995)</td>\n",
        "      <td>Action|Adventure|Romance</td>\n",
        "    </tr>\n",
        "    <tr>\n",
        "      <th>15</th>\n",
        "      <td>16</td>\n",
        "      <td>Casino (1995)</td>\n",
        "      <td>Drama|Thriller</td>\n",
        "    </tr>\n",
        "    <tr>\n",
        "      <th>16</th>\n",
        "      <td>17</td>\n",
        "      <td>Sense and Sensibility (1995)</td>\n",
        "      <td>Drama|Romance</td>\n",
        "    </tr>\n",
        "    <tr>\n",
        "      <th>17</th>\n",
        "      <td>18</td>\n",
        "      <td>Four Rooms (1995)</td>\n",
        "      <td>Thriller</td>\n",
        "    </tr>\n",
        "    <tr>\n",
        "      <th>18</th>\n",
        "      <td>19</td>\n",
        "      <td>Ace Ventura: When Nature Calls (1995)</td>\n",
        "      <td>Comedy</td>\n",
        "    </tr>\n",
        "    <tr>\n",
        "      <th>19</th>\n",
        "      <td>20</td>\n",
        "      <td>Money Train (1995)</td>\n",
        "      <td>Action</td>\n",
        "    </tr>\n",
        "    <tr>\n",
        "      <th>20</th>\n",
        "      <td>21</td>\n",
        "      <td>Get Shorty (1995)</td>\n",
        "      <td>Action|Comedy|Drama</td>\n",
        "    </tr>\n",
        "    <tr>\n",
        "      <th>21</th>\n",
        "      <td>22</td>\n",
        "      <td>Copycat (1995)</td>\n",
        "      <td>Crime|Drama|Thriller</td>\n",
        "    </tr>\n",
        "    <tr>\n",
        "      <th>22</th>\n",
        "      <td>23</td>\n",
        "      <td>Assassins (1995)</td>\n",
        "      <td>Thriller</td>\n",
        "    </tr>\n",
        "    <tr>\n",
        "      <th>23</th>\n",
        "      <td>24</td>\n",
        "      <td>Powder (1995)</td>\n",
        "      <td>Drama|Sci-Fi</td>\n",
        "    </tr>\n",
        "    <tr>\n",
        "      <th>24</th>\n",
        "      <td>25</td>\n",
        "      <td>Leaving Las Vegas (1995)</td>\n",
        "      <td>Drama|Romance</td>\n",
        "    </tr>\n",
        "    <tr>\n",
        "      <th>25</th>\n",
        "      <td>26</td>\n",
        "      <td>Othello (1995)</td>\n",
        "      <td>Drama</td>\n",
        "    </tr>\n",
        "    <tr>\n",
        "      <th>26</th>\n",
        "      <td>27</td>\n",
        "      <td>Now and Then (1995)</td>\n",
        "      <td>Drama</td>\n",
        "    </tr>\n",
        "    <tr>\n",
        "      <th>27</th>\n",
        "      <td>28</td>\n",
        "      <td>Persuasion (1995)</td>\n",
        "      <td>Romance</td>\n",
        "    </tr>\n",
        "    <tr>\n",
        "      <th>28</th>\n",
        "      <td>29</td>\n",
        "      <td>City of Lost Children, The (1995)</td>\n",
        "      <td>Adventure|Sci-Fi</td>\n",
        "    </tr>\n",
        "    <tr>\n",
        "      <th>29</th>\n",
        "      <td>30</td>\n",
        "      <td>Shanghai Triad (Yao a yao yao dao waipo qiao) ...</td>\n",
        "      <td>Drama</td>\n",
        "    </tr>\n",
        "    <tr>\n",
        "      <th>...</th>\n",
        "      <td>...</td>\n",
        "      <td>...</td>\n",
        "      <td>...</td>\n",
        "    </tr>\n",
        "    <tr>\n",
        "      <th>3853</th>\n",
        "      <td>3923</td>\n",
        "      <td>Return of the Fly (1959)</td>\n",
        "      <td>Horror|Sci-Fi</td>\n",
        "    </tr>\n",
        "    <tr>\n",
        "      <th>3854</th>\n",
        "      <td>3924</td>\n",
        "      <td>Pajama Party (1964)</td>\n",
        "      <td>Comedy</td>\n",
        "    </tr>\n",
        "    <tr>\n",
        "      <th>3855</th>\n",
        "      <td>3925</td>\n",
        "      <td>Stranger Than Paradise (1984)</td>\n",
        "      <td>Comedy</td>\n",
        "    </tr>\n",
        "    <tr>\n",
        "      <th>3856</th>\n",
        "      <td>3926</td>\n",
        "      <td>Voyage to the Bottom of the Sea (1961)</td>\n",
        "      <td>Adventure|Sci-Fi</td>\n",
        "    </tr>\n",
        "    <tr>\n",
        "      <th>3857</th>\n",
        "      <td>3927</td>\n",
        "      <td>Fantastic Voyage (1966)</td>\n",
        "      <td>Adventure|Sci-Fi</td>\n",
        "    </tr>\n",
        "    <tr>\n",
        "      <th>3858</th>\n",
        "      <td>3928</td>\n",
        "      <td>Abbott and Costello Meet Frankenstein (1948)</td>\n",
        "      <td>Comedy|Horror</td>\n",
        "    </tr>\n",
        "    <tr>\n",
        "      <th>3859</th>\n",
        "      <td>3929</td>\n",
        "      <td>Bank Dick, The (1940)</td>\n",
        "      <td>Comedy</td>\n",
        "    </tr>\n",
        "    <tr>\n",
        "      <th>3860</th>\n",
        "      <td>3930</td>\n",
        "      <td>Creature From the Black Lagoon, The (1954)</td>\n",
        "      <td>Horror</td>\n",
        "    </tr>\n",
        "    <tr>\n",
        "      <th>3861</th>\n",
        "      <td>3931</td>\n",
        "      <td>Giant Gila Monster, The (1959)</td>\n",
        "      <td>Horror|Sci-Fi</td>\n",
        "    </tr>\n",
        "    <tr>\n",
        "      <th>3862</th>\n",
        "      <td>3932</td>\n",
        "      <td>Invisible Man, The (1933)</td>\n",
        "      <td>Horror|Sci-Fi</td>\n",
        "    </tr>\n",
        "    <tr>\n",
        "      <th>3863</th>\n",
        "      <td>3933</td>\n",
        "      <td>Killer Shrews, The (1959)</td>\n",
        "      <td>Horror|Sci-Fi</td>\n",
        "    </tr>\n",
        "    <tr>\n",
        "      <th>3864</th>\n",
        "      <td>3934</td>\n",
        "      <td>Kronos (1957)</td>\n",
        "      <td>Sci-Fi</td>\n",
        "    </tr>\n",
        "    <tr>\n",
        "      <th>3865</th>\n",
        "      <td>3935</td>\n",
        "      <td>Kronos (1973)</td>\n",
        "      <td>Horror</td>\n",
        "    </tr>\n",
        "    <tr>\n",
        "      <th>3866</th>\n",
        "      <td>3936</td>\n",
        "      <td>Phantom of the Opera, The (1943)</td>\n",
        "      <td>Drama|Thriller</td>\n",
        "    </tr>\n",
        "    <tr>\n",
        "      <th>3867</th>\n",
        "      <td>3937</td>\n",
        "      <td>Runaway (1984)</td>\n",
        "      <td>Sci-Fi|Thriller</td>\n",
        "    </tr>\n",
        "    <tr>\n",
        "      <th>3868</th>\n",
        "      <td>3938</td>\n",
        "      <td>Slumber Party Massacre, The (1982)</td>\n",
        "      <td>Horror</td>\n",
        "    </tr>\n",
        "    <tr>\n",
        "      <th>3869</th>\n",
        "      <td>3939</td>\n",
        "      <td>Slumber Party Massacre II, The (1987)</td>\n",
        "      <td>Horror</td>\n",
        "    </tr>\n",
        "    <tr>\n",
        "      <th>3870</th>\n",
        "      <td>3940</td>\n",
        "      <td>Slumber Party Massacre III, The (1990)</td>\n",
        "      <td>Horror</td>\n",
        "    </tr>\n",
        "    <tr>\n",
        "      <th>3871</th>\n",
        "      <td>3941</td>\n",
        "      <td>Sorority House Massacre (1986)</td>\n",
        "      <td>Horror</td>\n",
        "    </tr>\n",
        "    <tr>\n",
        "      <th>3872</th>\n",
        "      <td>3942</td>\n",
        "      <td>Sorority House Massacre II (1990)</td>\n",
        "      <td>Horror</td>\n",
        "    </tr>\n",
        "    <tr>\n",
        "      <th>3873</th>\n",
        "      <td>3943</td>\n",
        "      <td>Bamboozled (2000)</td>\n",
        "      <td>Comedy</td>\n",
        "    </tr>\n",
        "    <tr>\n",
        "      <th>3874</th>\n",
        "      <td>3944</td>\n",
        "      <td>Bootmen (2000)</td>\n",
        "      <td>Comedy|Drama</td>\n",
        "    </tr>\n",
        "    <tr>\n",
        "      <th>3875</th>\n",
        "      <td>3945</td>\n",
        "      <td>Digimon: The Movie (2000)</td>\n",
        "      <td>Adventure|Animation|Children's</td>\n",
        "    </tr>\n",
        "    <tr>\n",
        "      <th>3876</th>\n",
        "      <td>3946</td>\n",
        "      <td>Get Carter (2000)</td>\n",
        "      <td>Action|Drama|Thriller</td>\n",
        "    </tr>\n",
        "    <tr>\n",
        "      <th>3877</th>\n",
        "      <td>3947</td>\n",
        "      <td>Get Carter (1971)</td>\n",
        "      <td>Thriller</td>\n",
        "    </tr>\n",
        "    <tr>\n",
        "      <th>3878</th>\n",
        "      <td>3948</td>\n",
        "      <td>Meet the Parents (2000)</td>\n",
        "      <td>Comedy</td>\n",
        "    </tr>\n",
        "    <tr>\n",
        "      <th>3879</th>\n",
        "      <td>3949</td>\n",
        "      <td>Requiem for a Dream (2000)</td>\n",
        "      <td>Drama</td>\n",
        "    </tr>\n",
        "    <tr>\n",
        "      <th>3880</th>\n",
        "      <td>3950</td>\n",
        "      <td>Tigerland (2000)</td>\n",
        "      <td>Drama</td>\n",
        "    </tr>\n",
        "    <tr>\n",
        "      <th>3881</th>\n",
        "      <td>3951</td>\n",
        "      <td>Two Family House (2000)</td>\n",
        "      <td>Drama</td>\n",
        "    </tr>\n",
        "    <tr>\n",
        "      <th>3882</th>\n",
        "      <td>3952</td>\n",
        "      <td>Contender, The (2000)</td>\n",
        "      <td>Drama|Thriller</td>\n",
        "    </tr>\n",
        "  </tbody>\n",
        "</table>\n",
        "<p>3883 rows \u00d7 3 columns</p>\n",
        "</div>"
       ],
       "metadata": {},
       "output_type": "pyout",
       "prompt_number": 233,
       "text": [
        "      movie_id                                              title  \\\n",
        "0            1                                   Toy Story (1995)   \n",
        "1            2                                     Jumanji (1995)   \n",
        "2            3                            Grumpier Old Men (1995)   \n",
        "3            4                           Waiting to Exhale (1995)   \n",
        "4            5                 Father of the Bride Part II (1995)   \n",
        "5            6                                        Heat (1995)   \n",
        "6            7                                     Sabrina (1995)   \n",
        "7            8                                Tom and Huck (1995)   \n",
        "8            9                                Sudden Death (1995)   \n",
        "9           10                                   GoldenEye (1995)   \n",
        "10          11                     American President, The (1995)   \n",
        "11          12                 Dracula: Dead and Loving It (1995)   \n",
        "12          13                                       Balto (1995)   \n",
        "13          14                                       Nixon (1995)   \n",
        "14          15                            Cutthroat Island (1995)   \n",
        "15          16                                      Casino (1995)   \n",
        "16          17                       Sense and Sensibility (1995)   \n",
        "17          18                                  Four Rooms (1995)   \n",
        "18          19              Ace Ventura: When Nature Calls (1995)   \n",
        "19          20                                 Money Train (1995)   \n",
        "20          21                                  Get Shorty (1995)   \n",
        "21          22                                     Copycat (1995)   \n",
        "22          23                                   Assassins (1995)   \n",
        "23          24                                      Powder (1995)   \n",
        "24          25                           Leaving Las Vegas (1995)   \n",
        "25          26                                     Othello (1995)   \n",
        "26          27                                Now and Then (1995)   \n",
        "27          28                                  Persuasion (1995)   \n",
        "28          29                  City of Lost Children, The (1995)   \n",
        "29          30  Shanghai Triad (Yao a yao yao dao waipo qiao) ...   \n",
        "...        ...                                                ...   \n",
        "3853      3923                           Return of the Fly (1959)   \n",
        "3854      3924                                Pajama Party (1964)   \n",
        "3855      3925                      Stranger Than Paradise (1984)   \n",
        "3856      3926             Voyage to the Bottom of the Sea (1961)   \n",
        "3857      3927                            Fantastic Voyage (1966)   \n",
        "3858      3928       Abbott and Costello Meet Frankenstein (1948)   \n",
        "3859      3929                              Bank Dick, The (1940)   \n",
        "3860      3930         Creature From the Black Lagoon, The (1954)   \n",
        "3861      3931                     Giant Gila Monster, The (1959)   \n",
        "3862      3932                          Invisible Man, The (1933)   \n",
        "3863      3933                          Killer Shrews, The (1959)   \n",
        "3864      3934                                      Kronos (1957)   \n",
        "3865      3935                                      Kronos (1973)   \n",
        "3866      3936                   Phantom of the Opera, The (1943)   \n",
        "3867      3937                                     Runaway (1984)   \n",
        "3868      3938                 Slumber Party Massacre, The (1982)   \n",
        "3869      3939              Slumber Party Massacre II, The (1987)   \n",
        "3870      3940             Slumber Party Massacre III, The (1990)   \n",
        "3871      3941                     Sorority House Massacre (1986)   \n",
        "3872      3942                  Sorority House Massacre II (1990)   \n",
        "3873      3943                                  Bamboozled (2000)   \n",
        "3874      3944                                     Bootmen (2000)   \n",
        "3875      3945                          Digimon: The Movie (2000)   \n",
        "3876      3946                                  Get Carter (2000)   \n",
        "3877      3947                                  Get Carter (1971)   \n",
        "3878      3948                            Meet the Parents (2000)   \n",
        "3879      3949                         Requiem for a Dream (2000)   \n",
        "3880      3950                                   Tigerland (2000)   \n",
        "3881      3951                            Two Family House (2000)   \n",
        "3882      3952                              Contender, The (2000)   \n",
        "\n",
        "                              genres  \n",
        "0        Animation|Children's|Comedy  \n",
        "1       Adventure|Children's|Fantasy  \n",
        "2                     Comedy|Romance  \n",
        "3                       Comedy|Drama  \n",
        "4                             Comedy  \n",
        "5              Action|Crime|Thriller  \n",
        "6                     Comedy|Romance  \n",
        "7               Adventure|Children's  \n",
        "8                             Action  \n",
        "9          Action|Adventure|Thriller  \n",
        "10              Comedy|Drama|Romance  \n",
        "11                     Comedy|Horror  \n",
        "12              Animation|Children's  \n",
        "13                             Drama  \n",
        "14          Action|Adventure|Romance  \n",
        "15                    Drama|Thriller  \n",
        "16                     Drama|Romance  \n",
        "17                          Thriller  \n",
        "18                            Comedy  \n",
        "19                            Action  \n",
        "20               Action|Comedy|Drama  \n",
        "21              Crime|Drama|Thriller  \n",
        "22                          Thriller  \n",
        "23                      Drama|Sci-Fi  \n",
        "24                     Drama|Romance  \n",
        "25                             Drama  \n",
        "26                             Drama  \n",
        "27                           Romance  \n",
        "28                  Adventure|Sci-Fi  \n",
        "29                             Drama  \n",
        "...                              ...  \n",
        "3853                   Horror|Sci-Fi  \n",
        "3854                          Comedy  \n",
        "3855                          Comedy  \n",
        "3856                Adventure|Sci-Fi  \n",
        "3857                Adventure|Sci-Fi  \n",
        "3858                   Comedy|Horror  \n",
        "3859                          Comedy  \n",
        "3860                          Horror  \n",
        "3861                   Horror|Sci-Fi  \n",
        "3862                   Horror|Sci-Fi  \n",
        "3863                   Horror|Sci-Fi  \n",
        "3864                          Sci-Fi  \n",
        "3865                          Horror  \n",
        "3866                  Drama|Thriller  \n",
        "3867                 Sci-Fi|Thriller  \n",
        "3868                          Horror  \n",
        "3869                          Horror  \n",
        "3870                          Horror  \n",
        "3871                          Horror  \n",
        "3872                          Horror  \n",
        "3873                          Comedy  \n",
        "3874                    Comedy|Drama  \n",
        "3875  Adventure|Animation|Children's  \n",
        "3876           Action|Drama|Thriller  \n",
        "3877                        Thriller  \n",
        "3878                          Comedy  \n",
        "3879                           Drama  \n",
        "3880                           Drama  \n",
        "3881                           Drama  \n",
        "3882                  Drama|Thriller  \n",
        "\n",
        "[3883 rows x 3 columns]"
       ]
      }
     ],
     "prompt_number": 233
    },
    {
     "cell_type": "code",
     "collapsed": false,
     "input": [
      "genre_iter = (set(x.split('|')) for x in movies.genres)"
     ],
     "language": "python",
     "metadata": {},
     "outputs": [],
     "prompt_number": 218
    },
    {
     "cell_type": "code",
     "collapsed": false,
     "input": [
      "genre_iter."
     ],
     "language": "python",
     "metadata": {},
     "outputs": [
      {
       "metadata": {},
       "output_type": "pyout",
       "prompt_number": 236,
       "text": [
        "<generator object <genexpr> at 0x00000000082E0B40>"
       ]
      }
     ],
     "prompt_number": 236
    },
    {
     "cell_type": "code",
     "collapsed": false,
     "input": [],
     "language": "python",
     "metadata": {},
     "outputs": [],
     "prompt_number": 220
    }
   ],
   "metadata": {}
  }
 ]
}