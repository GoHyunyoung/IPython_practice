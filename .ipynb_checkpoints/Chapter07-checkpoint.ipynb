{
 "metadata": {
  "kernelspec": {
   "display_name": "Python 2",
   "language": "python",
   "name": "python2"
  },
  "language_info": {
   "codemirror_mode": {
    "name": "ipython",
    "version": 2
   },
   "file_extension": ".py",
   "mimetype": "text/x-python",
   "name": "python",
   "nbconvert_exporter": "python",
   "pygments_lexer": "ipython2",
   "version": "2.7.9"
  },
  "name": "",
  "signature": "sha256:bce2fc7b5140688560809681fb80de678b4590ac13d21032257af12f3fc4f62c"
 },
 "nbformat": 3,
 "nbformat_minor": 0,
 "worksheets": [
  {
   "cells": [
    {
     "cell_type": "heading",
     "level": 1,
     "metadata": {},
     "source": [
      "Chapter07. \ub370\uc774\ud130 \uc900\ube44\ud558\uae30 : \ub2e4\ub4ec\uae30, \ubcc0\ud615, \ubcd1\ud569"
     ]
    },
    {
     "cell_type": "code",
     "collapsed": false,
     "input": [
      "import pandas as pd\n",
      "import numpy as np\n",
      "from pandas import Series\n",
      "from pandas import DataFrame"
     ],
     "language": "python",
     "metadata": {},
     "outputs": [],
     "prompt_number": 1
    },
    {
     "cell_type": "heading",
     "level": 2,
     "metadata": {},
     "source": [
      "7.1 \ub370\uc774\ud130 \ud569\uce58\uae30"
     ]
    },
    {
     "cell_type": "markdown",
     "metadata": {},
     "source": [
      "- pandas.merge\ub294 \ud558\ub098 \uc774\uc0c1\uc758 \ud0a4\ub97c \uae30\uc900\uc73c\ub85c DataFrame\uc758 \ub85c\uc6b0\ub97c \ud569\uce5c\ub2e4. SQL \uc774\ub098 \ub2e4\ub978 \uad00\uacc4\ud615 \ub370\uc774\ud130 \ubca0\uc774\uc2a4\uc758 join \uc5f0\uc0b0\uacfc \uc720\uc0ac\ud558\ub2e4.\n",
      "- pandas.concat\uc740 \ud558\ub098\uc758 \ucd95\uc744 \ub530\ub77c \uac1d\uccb4\ub97c \uc774\uc5b4 \ubd99\uc778\ub2e4.\n",
      "- combine_first \uc778\uc2a4\ud134\uc2a4 \uba54\uc11c\ub4dc\ub294 \ub450 \uac1d\uccb4\ub97c \ud3ec\uac1c\uc11c \ud55c \uac1d\uccb4\uc5d0\uc11c \ub204\ub77d\ub41c \ub370\uc774\ud130\ub97c \ub2e4\ub978 \uac1d\uccb4\uc5d0 \uc788\ub294 \uac12\uc73c\ub85c \ucc44\uc6b8 \uc218 \uc788\ub3c4\ub85d \ud55c\ub2e4."
     ]
    },
    {
     "cell_type": "heading",
     "level": 3,
     "metadata": {},
     "source": [
      "7.1.1 \ub370\uc774\ud130\ubca0\uc774\uc2a4 \uc2a4\ud0c0\uc77c\ub85c DataFrame \ud569\uce58\uae30"
     ]
    },
    {
     "cell_type": "code",
     "collapsed": false,
     "input": [
      "df1 = DataFrame({'key':['b','b','a','c','a','a','b'],\n",
      "                 'data':range(7)})"
     ],
     "language": "python",
     "metadata": {},
     "outputs": [],
     "prompt_number": 2
    },
    {
     "cell_type": "code",
     "collapsed": false,
     "input": [
      "df2 = DataFrame({'key':['a','b','d'],\n",
      "                 'data2':range(3)})"
     ],
     "language": "python",
     "metadata": {},
     "outputs": [],
     "prompt_number": 3
    },
    {
     "cell_type": "code",
     "collapsed": false,
     "input": [
      "df1"
     ],
     "language": "python",
     "metadata": {},
     "outputs": [
      {
       "html": [
        "<div style=\"max-width:1500px;overflow:auto;\">\n",
        "<table border=\"1\" class=\"dataframe\">\n",
        "  <thead>\n",
        "    <tr style=\"text-align: right;\">\n",
        "      <th></th>\n",
        "      <th>data</th>\n",
        "      <th>key</th>\n",
        "    </tr>\n",
        "  </thead>\n",
        "  <tbody>\n",
        "    <tr>\n",
        "      <th>0</th>\n",
        "      <td>0</td>\n",
        "      <td>b</td>\n",
        "    </tr>\n",
        "    <tr>\n",
        "      <th>1</th>\n",
        "      <td>1</td>\n",
        "      <td>b</td>\n",
        "    </tr>\n",
        "    <tr>\n",
        "      <th>2</th>\n",
        "      <td>2</td>\n",
        "      <td>a</td>\n",
        "    </tr>\n",
        "    <tr>\n",
        "      <th>3</th>\n",
        "      <td>3</td>\n",
        "      <td>c</td>\n",
        "    </tr>\n",
        "    <tr>\n",
        "      <th>4</th>\n",
        "      <td>4</td>\n",
        "      <td>a</td>\n",
        "    </tr>\n",
        "    <tr>\n",
        "      <th>5</th>\n",
        "      <td>5</td>\n",
        "      <td>a</td>\n",
        "    </tr>\n",
        "    <tr>\n",
        "      <th>6</th>\n",
        "      <td>6</td>\n",
        "      <td>b</td>\n",
        "    </tr>\n",
        "  </tbody>\n",
        "</table>\n",
        "</div>"
       ],
       "metadata": {},
       "output_type": "pyout",
       "prompt_number": 4,
       "text": [
        "   data key\n",
        "0     0   b\n",
        "1     1   b\n",
        "2     2   a\n",
        "3     3   c\n",
        "4     4   a\n",
        "5     5   a\n",
        "6     6   b"
       ]
      }
     ],
     "prompt_number": 4
    },
    {
     "cell_type": "code",
     "collapsed": false,
     "input": [
      "df2"
     ],
     "language": "python",
     "metadata": {},
     "outputs": [
      {
       "html": [
        "<div style=\"max-width:1500px;overflow:auto;\">\n",
        "<table border=\"1\" class=\"dataframe\">\n",
        "  <thead>\n",
        "    <tr style=\"text-align: right;\">\n",
        "      <th></th>\n",
        "      <th>data2</th>\n",
        "      <th>key</th>\n",
        "    </tr>\n",
        "  </thead>\n",
        "  <tbody>\n",
        "    <tr>\n",
        "      <th>0</th>\n",
        "      <td>0</td>\n",
        "      <td>a</td>\n",
        "    </tr>\n",
        "    <tr>\n",
        "      <th>1</th>\n",
        "      <td>1</td>\n",
        "      <td>b</td>\n",
        "    </tr>\n",
        "    <tr>\n",
        "      <th>2</th>\n",
        "      <td>2</td>\n",
        "      <td>d</td>\n",
        "    </tr>\n",
        "  </tbody>\n",
        "</table>\n",
        "</div>"
       ],
       "metadata": {},
       "output_type": "pyout",
       "prompt_number": 5,
       "text": [
        "   data2 key\n",
        "0      0   a\n",
        "1      1   b\n",
        "2      2   d"
       ]
      }
     ],
     "prompt_number": 5
    },
    {
     "cell_type": "code",
     "collapsed": false,
     "input": [
      "#\uc5b4\ub5a4 column\uc744 \ubcd1\ud569\ud560 \uac83\uc778\uc9c0 \uba85\uc2dc\ud558\uc9c0\uc54a\uc740 \uacbd\uc6b0 -> \uacb9\uccd0\uc9c0\ub294 column\uc758 \uc774\ub984\uc744 \ud0a4\ub85c \uc0ac\uc6a9('key'\ub97c \uacf5\ud1b5\uc73c\ub85c \uc0ac\uc6a9)\n",
      "pd.merge(df1,df2)"
     ],
     "language": "python",
     "metadata": {},
     "outputs": [
      {
       "html": [
        "<div style=\"max-width:1500px;overflow:auto;\">\n",
        "<table border=\"1\" class=\"dataframe\">\n",
        "  <thead>\n",
        "    <tr style=\"text-align: right;\">\n",
        "      <th></th>\n",
        "      <th>data</th>\n",
        "      <th>key</th>\n",
        "      <th>data2</th>\n",
        "    </tr>\n",
        "  </thead>\n",
        "  <tbody>\n",
        "    <tr>\n",
        "      <th>0</th>\n",
        "      <td>0</td>\n",
        "      <td>b</td>\n",
        "      <td>1</td>\n",
        "    </tr>\n",
        "    <tr>\n",
        "      <th>1</th>\n",
        "      <td>1</td>\n",
        "      <td>b</td>\n",
        "      <td>1</td>\n",
        "    </tr>\n",
        "    <tr>\n",
        "      <th>2</th>\n",
        "      <td>6</td>\n",
        "      <td>b</td>\n",
        "      <td>1</td>\n",
        "    </tr>\n",
        "    <tr>\n",
        "      <th>3</th>\n",
        "      <td>2</td>\n",
        "      <td>a</td>\n",
        "      <td>0</td>\n",
        "    </tr>\n",
        "    <tr>\n",
        "      <th>4</th>\n",
        "      <td>4</td>\n",
        "      <td>a</td>\n",
        "      <td>0</td>\n",
        "    </tr>\n",
        "    <tr>\n",
        "      <th>5</th>\n",
        "      <td>5</td>\n",
        "      <td>a</td>\n",
        "      <td>0</td>\n",
        "    </tr>\n",
        "  </tbody>\n",
        "</table>\n",
        "</div>"
       ],
       "metadata": {},
       "output_type": "pyout",
       "prompt_number": 6,
       "text": [
        "   data key  data2\n",
        "0     0   b      1\n",
        "1     1   b      1\n",
        "2     6   b      1\n",
        "3     2   a      0\n",
        "4     4   a      0\n",
        "5     5   a      0"
       ]
      }
     ],
     "prompt_number": 6
    },
    {
     "cell_type": "code",
     "collapsed": false,
     "input": [
      "#\uc5b4\ub5a4 column\uc744 \ubcd1\ud569\ud560 \uac83\uc778\uc9c0 \uba85\uc2dc\ud574\uc8fc\ub294 \uac83\uc774 \uc88b\uc74c\n",
      "pd.merge(df1,df2,on='key')"
     ],
     "language": "python",
     "metadata": {},
     "outputs": [
      {
       "html": [
        "<div style=\"max-width:1500px;overflow:auto;\">\n",
        "<table border=\"1\" class=\"dataframe\">\n",
        "  <thead>\n",
        "    <tr style=\"text-align: right;\">\n",
        "      <th></th>\n",
        "      <th>data</th>\n",
        "      <th>key</th>\n",
        "      <th>data2</th>\n",
        "    </tr>\n",
        "  </thead>\n",
        "  <tbody>\n",
        "    <tr>\n",
        "      <th>0</th>\n",
        "      <td>0</td>\n",
        "      <td>b</td>\n",
        "      <td>1</td>\n",
        "    </tr>\n",
        "    <tr>\n",
        "      <th>1</th>\n",
        "      <td>1</td>\n",
        "      <td>b</td>\n",
        "      <td>1</td>\n",
        "    </tr>\n",
        "    <tr>\n",
        "      <th>2</th>\n",
        "      <td>6</td>\n",
        "      <td>b</td>\n",
        "      <td>1</td>\n",
        "    </tr>\n",
        "    <tr>\n",
        "      <th>3</th>\n",
        "      <td>2</td>\n",
        "      <td>a</td>\n",
        "      <td>0</td>\n",
        "    </tr>\n",
        "    <tr>\n",
        "      <th>4</th>\n",
        "      <td>4</td>\n",
        "      <td>a</td>\n",
        "      <td>0</td>\n",
        "    </tr>\n",
        "    <tr>\n",
        "      <th>5</th>\n",
        "      <td>5</td>\n",
        "      <td>a</td>\n",
        "      <td>0</td>\n",
        "    </tr>\n",
        "  </tbody>\n",
        "</table>\n",
        "</div>"
       ],
       "metadata": {},
       "output_type": "pyout",
       "prompt_number": 7,
       "text": [
        "   data key  data2\n",
        "0     0   b      1\n",
        "1     1   b      1\n",
        "2     6   b      1\n",
        "3     2   a      0\n",
        "4     4   a      0\n",
        "5     5   a      0"
       ]
      }
     ],
     "prompt_number": 7
    },
    {
     "cell_type": "code",
     "collapsed": false,
     "input": [
      "df3 = DataFrame({'lkey':['b','b','a','c','a','a','b'],\n",
      "                 'data1':range(7)})"
     ],
     "language": "python",
     "metadata": {},
     "outputs": [],
     "prompt_number": 8
    },
    {
     "cell_type": "code",
     "collapsed": false,
     "input": [
      "df4 = DataFrame({'rkey':['a','b','d'],\n",
      "                 'data2':range(3)})"
     ],
     "language": "python",
     "metadata": {},
     "outputs": [],
     "prompt_number": 9
    },
    {
     "cell_type": "code",
     "collapsed": false,
     "input": [
      "df3"
     ],
     "language": "python",
     "metadata": {},
     "outputs": [
      {
       "html": [
        "<div style=\"max-width:1500px;overflow:auto;\">\n",
        "<table border=\"1\" class=\"dataframe\">\n",
        "  <thead>\n",
        "    <tr style=\"text-align: right;\">\n",
        "      <th></th>\n",
        "      <th>data1</th>\n",
        "      <th>lkey</th>\n",
        "    </tr>\n",
        "  </thead>\n",
        "  <tbody>\n",
        "    <tr>\n",
        "      <th>0</th>\n",
        "      <td>0</td>\n",
        "      <td>b</td>\n",
        "    </tr>\n",
        "    <tr>\n",
        "      <th>1</th>\n",
        "      <td>1</td>\n",
        "      <td>b</td>\n",
        "    </tr>\n",
        "    <tr>\n",
        "      <th>2</th>\n",
        "      <td>2</td>\n",
        "      <td>a</td>\n",
        "    </tr>\n",
        "    <tr>\n",
        "      <th>3</th>\n",
        "      <td>3</td>\n",
        "      <td>c</td>\n",
        "    </tr>\n",
        "    <tr>\n",
        "      <th>4</th>\n",
        "      <td>4</td>\n",
        "      <td>a</td>\n",
        "    </tr>\n",
        "    <tr>\n",
        "      <th>5</th>\n",
        "      <td>5</td>\n",
        "      <td>a</td>\n",
        "    </tr>\n",
        "    <tr>\n",
        "      <th>6</th>\n",
        "      <td>6</td>\n",
        "      <td>b</td>\n",
        "    </tr>\n",
        "  </tbody>\n",
        "</table>\n",
        "</div>"
       ],
       "metadata": {},
       "output_type": "pyout",
       "prompt_number": 10,
       "text": [
        "   data1 lkey\n",
        "0      0    b\n",
        "1      1    b\n",
        "2      2    a\n",
        "3      3    c\n",
        "4      4    a\n",
        "5      5    a\n",
        "6      6    b"
       ]
      }
     ],
     "prompt_number": 10
    },
    {
     "cell_type": "code",
     "collapsed": false,
     "input": [
      "df4"
     ],
     "language": "python",
     "metadata": {},
     "outputs": [
      {
       "html": [
        "<div style=\"max-width:1500px;overflow:auto;\">\n",
        "<table border=\"1\" class=\"dataframe\">\n",
        "  <thead>\n",
        "    <tr style=\"text-align: right;\">\n",
        "      <th></th>\n",
        "      <th>data2</th>\n",
        "      <th>rkey</th>\n",
        "    </tr>\n",
        "  </thead>\n",
        "  <tbody>\n",
        "    <tr>\n",
        "      <th>0</th>\n",
        "      <td>0</td>\n",
        "      <td>a</td>\n",
        "    </tr>\n",
        "    <tr>\n",
        "      <th>1</th>\n",
        "      <td>1</td>\n",
        "      <td>b</td>\n",
        "    </tr>\n",
        "    <tr>\n",
        "      <th>2</th>\n",
        "      <td>2</td>\n",
        "      <td>d</td>\n",
        "    </tr>\n",
        "  </tbody>\n",
        "</table>\n",
        "</div>"
       ],
       "metadata": {},
       "output_type": "pyout",
       "prompt_number": 11,
       "text": [
        "   data2 rkey\n",
        "0      0    a\n",
        "1      1    b\n",
        "2      2    d"
       ]
      }
     ],
     "prompt_number": 11
    },
    {
     "cell_type": "code",
     "collapsed": false,
     "input": [
      "#\uacf5\ud1b5\ub418\ub294 column\uc774 \uc5c6\uc73c\uba74 \uc9c0\uc815\ud574\uc8fc\uba74 \ub428\n",
      "pd.merge(df3,df4,left_on='lkey',right_on='rkey')\n",
      "#merge\ub294 \ub0b4\ubd80\uc870\uc778(inner join)\uc744 \uc218\ud589\ud558\uc5ec \uad50\uc9d1\ud569 \uacb0\uacfc\ub97c \ubc18\ud658"
     ],
     "language": "python",
     "metadata": {},
     "outputs": [
      {
       "html": [
        "<div style=\"max-width:1500px;overflow:auto;\">\n",
        "<table border=\"1\" class=\"dataframe\">\n",
        "  <thead>\n",
        "    <tr style=\"text-align: right;\">\n",
        "      <th></th>\n",
        "      <th>data1</th>\n",
        "      <th>lkey</th>\n",
        "      <th>data2</th>\n",
        "      <th>rkey</th>\n",
        "    </tr>\n",
        "  </thead>\n",
        "  <tbody>\n",
        "    <tr>\n",
        "      <th>0</th>\n",
        "      <td>0</td>\n",
        "      <td>b</td>\n",
        "      <td>1</td>\n",
        "      <td>b</td>\n",
        "    </tr>\n",
        "    <tr>\n",
        "      <th>1</th>\n",
        "      <td>1</td>\n",
        "      <td>b</td>\n",
        "      <td>1</td>\n",
        "      <td>b</td>\n",
        "    </tr>\n",
        "    <tr>\n",
        "      <th>2</th>\n",
        "      <td>6</td>\n",
        "      <td>b</td>\n",
        "      <td>1</td>\n",
        "      <td>b</td>\n",
        "    </tr>\n",
        "    <tr>\n",
        "      <th>3</th>\n",
        "      <td>2</td>\n",
        "      <td>a</td>\n",
        "      <td>0</td>\n",
        "      <td>a</td>\n",
        "    </tr>\n",
        "    <tr>\n",
        "      <th>4</th>\n",
        "      <td>4</td>\n",
        "      <td>a</td>\n",
        "      <td>0</td>\n",
        "      <td>a</td>\n",
        "    </tr>\n",
        "    <tr>\n",
        "      <th>5</th>\n",
        "      <td>5</td>\n",
        "      <td>a</td>\n",
        "      <td>0</td>\n",
        "      <td>a</td>\n",
        "    </tr>\n",
        "  </tbody>\n",
        "</table>\n",
        "</div>"
       ],
       "metadata": {},
       "output_type": "pyout",
       "prompt_number": 12,
       "text": [
        "   data1 lkey  data2 rkey\n",
        "0      0    b      1    b\n",
        "1      1    b      1    b\n",
        "2      6    b      1    b\n",
        "3      2    a      0    a\n",
        "4      4    a      0    a\n",
        "5      5    a      0    a"
       ]
      }
     ],
     "prompt_number": 12
    },
    {
     "cell_type": "code",
     "collapsed": false,
     "input": [
      "print df1\n",
      "print df2"
     ],
     "language": "python",
     "metadata": {},
     "outputs": [
      {
       "output_type": "stream",
       "stream": "stdout",
       "text": [
        "   data key\n",
        "0     0   b\n",
        "1     1   b\n",
        "2     2   a\n",
        "3     3   c\n",
        "4     4   a\n",
        "5     5   a\n",
        "6     6   b\n",
        "   data2 key\n",
        "0      0   a\n",
        "1      1   b\n",
        "2      2   d\n"
       ]
      }
     ],
     "prompt_number": 13
    },
    {
     "cell_type": "code",
     "collapsed": false,
     "input": [
      "#how \uc778\uc790\ub85c 'left','right','outer'\ub97c \ub118\uaca8\uc11c \uac01\uac01 \uc67c\ucabd \uc6b0\uc120 \uc678\ubd80\uc870\uc778, \uc624\ub978\ucabd \uc6b0\uc120 \uc678\ubd80\uc870\uc778, \uc644\uc804 \uc678\ubd80\uc870\uc778\uc744 \uc218\ud589\ud55c\ub2e4.\n",
      "pd.merge(df1,df2,how='outer')"
     ],
     "language": "python",
     "metadata": {},
     "outputs": [
      {
       "html": [
        "<div style=\"max-width:1500px;overflow:auto;\">\n",
        "<table border=\"1\" class=\"dataframe\">\n",
        "  <thead>\n",
        "    <tr style=\"text-align: right;\">\n",
        "      <th></th>\n",
        "      <th>data</th>\n",
        "      <th>key</th>\n",
        "      <th>data2</th>\n",
        "    </tr>\n",
        "  </thead>\n",
        "  <tbody>\n",
        "    <tr>\n",
        "      <th>0</th>\n",
        "      <td>0</td>\n",
        "      <td>b</td>\n",
        "      <td>1</td>\n",
        "    </tr>\n",
        "    <tr>\n",
        "      <th>1</th>\n",
        "      <td>1</td>\n",
        "      <td>b</td>\n",
        "      <td>1</td>\n",
        "    </tr>\n",
        "    <tr>\n",
        "      <th>2</th>\n",
        "      <td>6</td>\n",
        "      <td>b</td>\n",
        "      <td>1</td>\n",
        "    </tr>\n",
        "    <tr>\n",
        "      <th>3</th>\n",
        "      <td>2</td>\n",
        "      <td>a</td>\n",
        "      <td>0</td>\n",
        "    </tr>\n",
        "    <tr>\n",
        "      <th>4</th>\n",
        "      <td>4</td>\n",
        "      <td>a</td>\n",
        "      <td>0</td>\n",
        "    </tr>\n",
        "    <tr>\n",
        "      <th>5</th>\n",
        "      <td>5</td>\n",
        "      <td>a</td>\n",
        "      <td>0</td>\n",
        "    </tr>\n",
        "    <tr>\n",
        "      <th>6</th>\n",
        "      <td>3</td>\n",
        "      <td>c</td>\n",
        "      <td>NaN</td>\n",
        "    </tr>\n",
        "    <tr>\n",
        "      <th>7</th>\n",
        "      <td>NaN</td>\n",
        "      <td>d</td>\n",
        "      <td>2</td>\n",
        "    </tr>\n",
        "  </tbody>\n",
        "</table>\n",
        "</div>"
       ],
       "metadata": {},
       "output_type": "pyout",
       "prompt_number": 14,
       "text": [
        "   data key  data2\n",
        "0     0   b      1\n",
        "1     1   b      1\n",
        "2     6   b      1\n",
        "3     2   a      0\n",
        "4     4   a      0\n",
        "5     5   a      0\n",
        "6     3   c    NaN\n",
        "7   NaN   d      2"
       ]
      }
     ],
     "prompt_number": 14
    },
    {
     "cell_type": "code",
     "collapsed": false,
     "input": [
      "#\uc67c\ucabd\uc778\uc790(df1\uc744 \uc6b0\uc120\uc21c\uc704\ub85c \ud55c \uc678\ubd80\uc870\uc778\uc744 \uc218\ud589)\n",
      "pd.merge(df1,df2,how='left')"
     ],
     "language": "python",
     "metadata": {},
     "outputs": [
      {
       "html": [
        "<div style=\"max-width:1500px;overflow:auto;\">\n",
        "<table border=\"1\" class=\"dataframe\">\n",
        "  <thead>\n",
        "    <tr style=\"text-align: right;\">\n",
        "      <th></th>\n",
        "      <th>data</th>\n",
        "      <th>key</th>\n",
        "      <th>data2</th>\n",
        "    </tr>\n",
        "  </thead>\n",
        "  <tbody>\n",
        "    <tr>\n",
        "      <th>0</th>\n",
        "      <td>0</td>\n",
        "      <td>b</td>\n",
        "      <td>1</td>\n",
        "    </tr>\n",
        "    <tr>\n",
        "      <th>1</th>\n",
        "      <td>1</td>\n",
        "      <td>b</td>\n",
        "      <td>1</td>\n",
        "    </tr>\n",
        "    <tr>\n",
        "      <th>2</th>\n",
        "      <td>2</td>\n",
        "      <td>a</td>\n",
        "      <td>0</td>\n",
        "    </tr>\n",
        "    <tr>\n",
        "      <th>3</th>\n",
        "      <td>3</td>\n",
        "      <td>c</td>\n",
        "      <td>NaN</td>\n",
        "    </tr>\n",
        "    <tr>\n",
        "      <th>4</th>\n",
        "      <td>4</td>\n",
        "      <td>a</td>\n",
        "      <td>0</td>\n",
        "    </tr>\n",
        "    <tr>\n",
        "      <th>5</th>\n",
        "      <td>5</td>\n",
        "      <td>a</td>\n",
        "      <td>0</td>\n",
        "    </tr>\n",
        "    <tr>\n",
        "      <th>6</th>\n",
        "      <td>6</td>\n",
        "      <td>b</td>\n",
        "      <td>1</td>\n",
        "    </tr>\n",
        "  </tbody>\n",
        "</table>\n",
        "</div>"
       ],
       "metadata": {},
       "output_type": "pyout",
       "prompt_number": 15,
       "text": [
        "   data key  data2\n",
        "0     0   b      1\n",
        "1     1   b      1\n",
        "2     2   a      0\n",
        "3     3   c    NaN\n",
        "4     4   a      0\n",
        "5     5   a      0\n",
        "6     6   b      1"
       ]
      }
     ],
     "prompt_number": 15
    },
    {
     "cell_type": "code",
     "collapsed": false,
     "input": [
      "df1 = DataFrame({'key':['b','b','a','c','a','b'],\n",
      "                 'data1':range(6)})\n",
      "df2 = DataFrame({'key':['a','b','a','b','d'],\n",
      "                 'data2':range(5)})"
     ],
     "language": "python",
     "metadata": {},
     "outputs": [],
     "prompt_number": 16
    },
    {
     "cell_type": "code",
     "collapsed": false,
     "input": [
      "df1"
     ],
     "language": "python",
     "metadata": {},
     "outputs": [
      {
       "html": [
        "<div style=\"max-width:1500px;overflow:auto;\">\n",
        "<table border=\"1\" class=\"dataframe\">\n",
        "  <thead>\n",
        "    <tr style=\"text-align: right;\">\n",
        "      <th></th>\n",
        "      <th>data1</th>\n",
        "      <th>key</th>\n",
        "    </tr>\n",
        "  </thead>\n",
        "  <tbody>\n",
        "    <tr>\n",
        "      <th>0</th>\n",
        "      <td>0</td>\n",
        "      <td>b</td>\n",
        "    </tr>\n",
        "    <tr>\n",
        "      <th>1</th>\n",
        "      <td>1</td>\n",
        "      <td>b</td>\n",
        "    </tr>\n",
        "    <tr>\n",
        "      <th>2</th>\n",
        "      <td>2</td>\n",
        "      <td>a</td>\n",
        "    </tr>\n",
        "    <tr>\n",
        "      <th>3</th>\n",
        "      <td>3</td>\n",
        "      <td>c</td>\n",
        "    </tr>\n",
        "    <tr>\n",
        "      <th>4</th>\n",
        "      <td>4</td>\n",
        "      <td>a</td>\n",
        "    </tr>\n",
        "    <tr>\n",
        "      <th>5</th>\n",
        "      <td>5</td>\n",
        "      <td>b</td>\n",
        "    </tr>\n",
        "  </tbody>\n",
        "</table>\n",
        "</div>"
       ],
       "metadata": {},
       "output_type": "pyout",
       "prompt_number": 17,
       "text": [
        "   data1 key\n",
        "0      0   b\n",
        "1      1   b\n",
        "2      2   a\n",
        "3      3   c\n",
        "4      4   a\n",
        "5      5   b"
       ]
      }
     ],
     "prompt_number": 17
    },
    {
     "cell_type": "code",
     "collapsed": false,
     "input": [
      "df2"
     ],
     "language": "python",
     "metadata": {},
     "outputs": [
      {
       "html": [
        "<div style=\"max-width:1500px;overflow:auto;\">\n",
        "<table border=\"1\" class=\"dataframe\">\n",
        "  <thead>\n",
        "    <tr style=\"text-align: right;\">\n",
        "      <th></th>\n",
        "      <th>data2</th>\n",
        "      <th>key</th>\n",
        "    </tr>\n",
        "  </thead>\n",
        "  <tbody>\n",
        "    <tr>\n",
        "      <th>0</th>\n",
        "      <td>0</td>\n",
        "      <td>a</td>\n",
        "    </tr>\n",
        "    <tr>\n",
        "      <th>1</th>\n",
        "      <td>1</td>\n",
        "      <td>b</td>\n",
        "    </tr>\n",
        "    <tr>\n",
        "      <th>2</th>\n",
        "      <td>2</td>\n",
        "      <td>a</td>\n",
        "    </tr>\n",
        "    <tr>\n",
        "      <th>3</th>\n",
        "      <td>3</td>\n",
        "      <td>b</td>\n",
        "    </tr>\n",
        "    <tr>\n",
        "      <th>4</th>\n",
        "      <td>4</td>\n",
        "      <td>d</td>\n",
        "    </tr>\n",
        "  </tbody>\n",
        "</table>\n",
        "</div>"
       ],
       "metadata": {},
       "output_type": "pyout",
       "prompt_number": 18,
       "text": [
        "   data2 key\n",
        "0      0   a\n",
        "1      1   b\n",
        "2      2   a\n",
        "3      3   b\n",
        "4      4   d"
       ]
      }
     ],
     "prompt_number": 18
    },
    {
     "cell_type": "code",
     "collapsed": false,
     "input": [
      "pd.merge(df1,df2,on='key',how='left')"
     ],
     "language": "python",
     "metadata": {},
     "outputs": [
      {
       "html": [
        "<div style=\"max-width:1500px;overflow:auto;\">\n",
        "<table border=\"1\" class=\"dataframe\">\n",
        "  <thead>\n",
        "    <tr style=\"text-align: right;\">\n",
        "      <th></th>\n",
        "      <th>data1</th>\n",
        "      <th>key</th>\n",
        "      <th>data2</th>\n",
        "    </tr>\n",
        "  </thead>\n",
        "  <tbody>\n",
        "    <tr>\n",
        "      <th>0</th>\n",
        "      <td>0</td>\n",
        "      <td>b</td>\n",
        "      <td>1</td>\n",
        "    </tr>\n",
        "    <tr>\n",
        "      <th>1</th>\n",
        "      <td>0</td>\n",
        "      <td>b</td>\n",
        "      <td>3</td>\n",
        "    </tr>\n",
        "    <tr>\n",
        "      <th>2</th>\n",
        "      <td>1</td>\n",
        "      <td>b</td>\n",
        "      <td>1</td>\n",
        "    </tr>\n",
        "    <tr>\n",
        "      <th>3</th>\n",
        "      <td>1</td>\n",
        "      <td>b</td>\n",
        "      <td>3</td>\n",
        "    </tr>\n",
        "    <tr>\n",
        "      <th>4</th>\n",
        "      <td>2</td>\n",
        "      <td>a</td>\n",
        "      <td>0</td>\n",
        "    </tr>\n",
        "    <tr>\n",
        "      <th>5</th>\n",
        "      <td>2</td>\n",
        "      <td>a</td>\n",
        "      <td>2</td>\n",
        "    </tr>\n",
        "    <tr>\n",
        "      <th>6</th>\n",
        "      <td>3</td>\n",
        "      <td>c</td>\n",
        "      <td>NaN</td>\n",
        "    </tr>\n",
        "    <tr>\n",
        "      <th>7</th>\n",
        "      <td>4</td>\n",
        "      <td>a</td>\n",
        "      <td>0</td>\n",
        "    </tr>\n",
        "    <tr>\n",
        "      <th>8</th>\n",
        "      <td>4</td>\n",
        "      <td>a</td>\n",
        "      <td>2</td>\n",
        "    </tr>\n",
        "    <tr>\n",
        "      <th>9</th>\n",
        "      <td>5</td>\n",
        "      <td>b</td>\n",
        "      <td>1</td>\n",
        "    </tr>\n",
        "    <tr>\n",
        "      <th>10</th>\n",
        "      <td>5</td>\n",
        "      <td>b</td>\n",
        "      <td>3</td>\n",
        "    </tr>\n",
        "  </tbody>\n",
        "</table>\n",
        "</div>"
       ],
       "metadata": {},
       "output_type": "pyout",
       "prompt_number": 19,
       "text": [
        "    data1 key  data2\n",
        "0       0   b      1\n",
        "1       0   b      3\n",
        "2       1   b      1\n",
        "3       1   b      3\n",
        "4       2   a      0\n",
        "5       2   a      2\n",
        "6       3   c    NaN\n",
        "7       4   a      0\n",
        "8       4   a      2\n",
        "9       5   b      1\n",
        "10      5   b      3"
       ]
      }
     ],
     "prompt_number": 19
    },
    {
     "cell_type": "code",
     "collapsed": false,
     "input": [
      "#how\uc5d0 'inner'\ub97c \ub118\uae30\uba74 Cartesian_product(\ub370\uce74\ub974\ud2b8 \uacf1)\uc744 \ubc18\ud658\n",
      "pd.merge(df1,df2,how='inner')"
     ],
     "language": "python",
     "metadata": {},
     "outputs": [
      {
       "html": [
        "<div style=\"max-width:1500px;overflow:auto;\">\n",
        "<table border=\"1\" class=\"dataframe\">\n",
        "  <thead>\n",
        "    <tr style=\"text-align: right;\">\n",
        "      <th></th>\n",
        "      <th>data1</th>\n",
        "      <th>key</th>\n",
        "      <th>data2</th>\n",
        "    </tr>\n",
        "  </thead>\n",
        "  <tbody>\n",
        "    <tr>\n",
        "      <th>0</th>\n",
        "      <td>0</td>\n",
        "      <td>b</td>\n",
        "      <td>1</td>\n",
        "    </tr>\n",
        "    <tr>\n",
        "      <th>1</th>\n",
        "      <td>0</td>\n",
        "      <td>b</td>\n",
        "      <td>3</td>\n",
        "    </tr>\n",
        "    <tr>\n",
        "      <th>2</th>\n",
        "      <td>1</td>\n",
        "      <td>b</td>\n",
        "      <td>1</td>\n",
        "    </tr>\n",
        "    <tr>\n",
        "      <th>3</th>\n",
        "      <td>1</td>\n",
        "      <td>b</td>\n",
        "      <td>3</td>\n",
        "    </tr>\n",
        "    <tr>\n",
        "      <th>4</th>\n",
        "      <td>5</td>\n",
        "      <td>b</td>\n",
        "      <td>1</td>\n",
        "    </tr>\n",
        "    <tr>\n",
        "      <th>5</th>\n",
        "      <td>5</td>\n",
        "      <td>b</td>\n",
        "      <td>3</td>\n",
        "    </tr>\n",
        "    <tr>\n",
        "      <th>6</th>\n",
        "      <td>2</td>\n",
        "      <td>a</td>\n",
        "      <td>0</td>\n",
        "    </tr>\n",
        "    <tr>\n",
        "      <th>7</th>\n",
        "      <td>2</td>\n",
        "      <td>a</td>\n",
        "      <td>2</td>\n",
        "    </tr>\n",
        "    <tr>\n",
        "      <th>8</th>\n",
        "      <td>4</td>\n",
        "      <td>a</td>\n",
        "      <td>0</td>\n",
        "    </tr>\n",
        "    <tr>\n",
        "      <th>9</th>\n",
        "      <td>4</td>\n",
        "      <td>a</td>\n",
        "      <td>2</td>\n",
        "    </tr>\n",
        "  </tbody>\n",
        "</table>\n",
        "</div>"
       ],
       "metadata": {},
       "output_type": "pyout",
       "prompt_number": 20,
       "text": [
        "   data1 key  data2\n",
        "0      0   b      1\n",
        "1      0   b      3\n",
        "2      1   b      1\n",
        "3      1   b      3\n",
        "4      5   b      1\n",
        "5      5   b      3\n",
        "6      2   a      0\n",
        "7      2   a      2\n",
        "8      4   a      0\n",
        "9      4   a      2"
       ]
      }
     ],
     "prompt_number": 20
    },
    {
     "cell_type": "code",
     "collapsed": false,
     "input": [
      "left = DataFrame({'key1':['foo','foo','bar'],\n",
      "                  'key2':['one','two','one'],\n",
      "                  'lval':[1,2,3]})"
     ],
     "language": "python",
     "metadata": {},
     "outputs": [],
     "prompt_number": 21
    },
    {
     "cell_type": "code",
     "collapsed": false,
     "input": [
      "left"
     ],
     "language": "python",
     "metadata": {},
     "outputs": [
      {
       "html": [
        "<div style=\"max-width:1500px;overflow:auto;\">\n",
        "<table border=\"1\" class=\"dataframe\">\n",
        "  <thead>\n",
        "    <tr style=\"text-align: right;\">\n",
        "      <th></th>\n",
        "      <th>key1</th>\n",
        "      <th>key2</th>\n",
        "      <th>lval</th>\n",
        "    </tr>\n",
        "  </thead>\n",
        "  <tbody>\n",
        "    <tr>\n",
        "      <th>0</th>\n",
        "      <td>foo</td>\n",
        "      <td>one</td>\n",
        "      <td>1</td>\n",
        "    </tr>\n",
        "    <tr>\n",
        "      <th>1</th>\n",
        "      <td>foo</td>\n",
        "      <td>two</td>\n",
        "      <td>2</td>\n",
        "    </tr>\n",
        "    <tr>\n",
        "      <th>2</th>\n",
        "      <td>bar</td>\n",
        "      <td>one</td>\n",
        "      <td>3</td>\n",
        "    </tr>\n",
        "  </tbody>\n",
        "</table>\n",
        "</div>"
       ],
       "metadata": {},
       "output_type": "pyout",
       "prompt_number": 22,
       "text": [
        "  key1 key2  lval\n",
        "0  foo  one     1\n",
        "1  foo  two     2\n",
        "2  bar  one     3"
       ]
      }
     ],
     "prompt_number": 22
    },
    {
     "cell_type": "code",
     "collapsed": false,
     "input": [
      "right = DataFrame({'key1':['foo','foo','bar','bar'],\n",
      "                  'key2':['one','one','one','two'],\n",
      "                  'rval':[4,5,6,7]})"
     ],
     "language": "python",
     "metadata": {},
     "outputs": [],
     "prompt_number": 23
    },
    {
     "cell_type": "code",
     "collapsed": false,
     "input": [
      "right"
     ],
     "language": "python",
     "metadata": {},
     "outputs": [
      {
       "html": [
        "<div style=\"max-width:1500px;overflow:auto;\">\n",
        "<table border=\"1\" class=\"dataframe\">\n",
        "  <thead>\n",
        "    <tr style=\"text-align: right;\">\n",
        "      <th></th>\n",
        "      <th>key1</th>\n",
        "      <th>key2</th>\n",
        "      <th>rval</th>\n",
        "    </tr>\n",
        "  </thead>\n",
        "  <tbody>\n",
        "    <tr>\n",
        "      <th>0</th>\n",
        "      <td>foo</td>\n",
        "      <td>one</td>\n",
        "      <td>4</td>\n",
        "    </tr>\n",
        "    <tr>\n",
        "      <th>1</th>\n",
        "      <td>foo</td>\n",
        "      <td>one</td>\n",
        "      <td>5</td>\n",
        "    </tr>\n",
        "    <tr>\n",
        "      <th>2</th>\n",
        "      <td>bar</td>\n",
        "      <td>one</td>\n",
        "      <td>6</td>\n",
        "    </tr>\n",
        "    <tr>\n",
        "      <th>3</th>\n",
        "      <td>bar</td>\n",
        "      <td>two</td>\n",
        "      <td>7</td>\n",
        "    </tr>\n",
        "  </tbody>\n",
        "</table>\n",
        "</div>"
       ],
       "metadata": {},
       "output_type": "pyout",
       "prompt_number": 24,
       "text": [
        "  key1 key2  rval\n",
        "0  foo  one     4\n",
        "1  foo  one     5\n",
        "2  bar  one     6\n",
        "3  bar  two     7"
       ]
      }
     ],
     "prompt_number": 24
    },
    {
     "cell_type": "code",
     "collapsed": false,
     "input": [
      "pd.merge(left,right,on=['key1','key2'],how='outer')"
     ],
     "language": "python",
     "metadata": {},
     "outputs": [
      {
       "html": [
        "<div style=\"max-width:1500px;overflow:auto;\">\n",
        "<table border=\"1\" class=\"dataframe\">\n",
        "  <thead>\n",
        "    <tr style=\"text-align: right;\">\n",
        "      <th></th>\n",
        "      <th>key1</th>\n",
        "      <th>key2</th>\n",
        "      <th>lval</th>\n",
        "      <th>rval</th>\n",
        "    </tr>\n",
        "  </thead>\n",
        "  <tbody>\n",
        "    <tr>\n",
        "      <th>0</th>\n",
        "      <td>foo</td>\n",
        "      <td>one</td>\n",
        "      <td>1</td>\n",
        "      <td>4</td>\n",
        "    </tr>\n",
        "    <tr>\n",
        "      <th>1</th>\n",
        "      <td>foo</td>\n",
        "      <td>one</td>\n",
        "      <td>1</td>\n",
        "      <td>5</td>\n",
        "    </tr>\n",
        "    <tr>\n",
        "      <th>2</th>\n",
        "      <td>foo</td>\n",
        "      <td>two</td>\n",
        "      <td>2</td>\n",
        "      <td>NaN</td>\n",
        "    </tr>\n",
        "    <tr>\n",
        "      <th>3</th>\n",
        "      <td>bar</td>\n",
        "      <td>one</td>\n",
        "      <td>3</td>\n",
        "      <td>6</td>\n",
        "    </tr>\n",
        "    <tr>\n",
        "      <th>4</th>\n",
        "      <td>bar</td>\n",
        "      <td>two</td>\n",
        "      <td>NaN</td>\n",
        "      <td>7</td>\n",
        "    </tr>\n",
        "  </tbody>\n",
        "</table>\n",
        "</div>"
       ],
       "metadata": {},
       "output_type": "pyout",
       "prompt_number": 25,
       "text": [
        "  key1 key2  lval  rval\n",
        "0  foo  one     1     4\n",
        "1  foo  one     1     5\n",
        "2  foo  two     2   NaN\n",
        "3  bar  one     3     6\n",
        "4  bar  two   NaN     7"
       ]
      }
     ],
     "prompt_number": 25
    },
    {
     "cell_type": "code",
     "collapsed": false,
     "input": [
      "pd.merge(left,right,on='key1')"
     ],
     "language": "python",
     "metadata": {},
     "outputs": [
      {
       "html": [
        "<div style=\"max-width:1500px;overflow:auto;\">\n",
        "<table border=\"1\" class=\"dataframe\">\n",
        "  <thead>\n",
        "    <tr style=\"text-align: right;\">\n",
        "      <th></th>\n",
        "      <th>key1</th>\n",
        "      <th>key2_x</th>\n",
        "      <th>lval</th>\n",
        "      <th>key2_y</th>\n",
        "      <th>rval</th>\n",
        "    </tr>\n",
        "  </thead>\n",
        "  <tbody>\n",
        "    <tr>\n",
        "      <th>0</th>\n",
        "      <td>foo</td>\n",
        "      <td>one</td>\n",
        "      <td>1</td>\n",
        "      <td>one</td>\n",
        "      <td>4</td>\n",
        "    </tr>\n",
        "    <tr>\n",
        "      <th>1</th>\n",
        "      <td>foo</td>\n",
        "      <td>one</td>\n",
        "      <td>1</td>\n",
        "      <td>one</td>\n",
        "      <td>5</td>\n",
        "    </tr>\n",
        "    <tr>\n",
        "      <th>2</th>\n",
        "      <td>foo</td>\n",
        "      <td>two</td>\n",
        "      <td>2</td>\n",
        "      <td>one</td>\n",
        "      <td>4</td>\n",
        "    </tr>\n",
        "    <tr>\n",
        "      <th>3</th>\n",
        "      <td>foo</td>\n",
        "      <td>two</td>\n",
        "      <td>2</td>\n",
        "      <td>one</td>\n",
        "      <td>5</td>\n",
        "    </tr>\n",
        "    <tr>\n",
        "      <th>4</th>\n",
        "      <td>bar</td>\n",
        "      <td>one</td>\n",
        "      <td>3</td>\n",
        "      <td>one</td>\n",
        "      <td>6</td>\n",
        "    </tr>\n",
        "    <tr>\n",
        "      <th>5</th>\n",
        "      <td>bar</td>\n",
        "      <td>one</td>\n",
        "      <td>3</td>\n",
        "      <td>two</td>\n",
        "      <td>7</td>\n",
        "    </tr>\n",
        "  </tbody>\n",
        "</table>\n",
        "</div>"
       ],
       "metadata": {},
       "output_type": "pyout",
       "prompt_number": 26,
       "text": [
        "  key1 key2_x  lval key2_y  rval\n",
        "0  foo    one     1    one     4\n",
        "1  foo    one     1    one     5\n",
        "2  foo    two     2    one     4\n",
        "3  foo    two     2    one     5\n",
        "4  bar    one     3    one     6\n",
        "5  bar    one     3    two     7"
       ]
      }
     ],
     "prompt_number": 26
    },
    {
     "cell_type": "code",
     "collapsed": false,
     "input": [
      "#suffixes\ub294 column\uc774\ub984\ub4a4\uc5d0 \ubd99\uc77c \ubb38\uc790\uc5f4\uc758 \ud29c\ud50c\n",
      "pd.merge(left,right,on='key1',suffixes=('_left','_right'))"
     ],
     "language": "python",
     "metadata": {},
     "outputs": [
      {
       "html": [
        "<div style=\"max-width:1500px;overflow:auto;\">\n",
        "<table border=\"1\" class=\"dataframe\">\n",
        "  <thead>\n",
        "    <tr style=\"text-align: right;\">\n",
        "      <th></th>\n",
        "      <th>key1</th>\n",
        "      <th>key2_left</th>\n",
        "      <th>lval</th>\n",
        "      <th>key2_right</th>\n",
        "      <th>rval</th>\n",
        "    </tr>\n",
        "  </thead>\n",
        "  <tbody>\n",
        "    <tr>\n",
        "      <th>0</th>\n",
        "      <td>foo</td>\n",
        "      <td>one</td>\n",
        "      <td>1</td>\n",
        "      <td>one</td>\n",
        "      <td>4</td>\n",
        "    </tr>\n",
        "    <tr>\n",
        "      <th>1</th>\n",
        "      <td>foo</td>\n",
        "      <td>one</td>\n",
        "      <td>1</td>\n",
        "      <td>one</td>\n",
        "      <td>5</td>\n",
        "    </tr>\n",
        "    <tr>\n",
        "      <th>2</th>\n",
        "      <td>foo</td>\n",
        "      <td>two</td>\n",
        "      <td>2</td>\n",
        "      <td>one</td>\n",
        "      <td>4</td>\n",
        "    </tr>\n",
        "    <tr>\n",
        "      <th>3</th>\n",
        "      <td>foo</td>\n",
        "      <td>two</td>\n",
        "      <td>2</td>\n",
        "      <td>one</td>\n",
        "      <td>5</td>\n",
        "    </tr>\n",
        "    <tr>\n",
        "      <th>4</th>\n",
        "      <td>bar</td>\n",
        "      <td>one</td>\n",
        "      <td>3</td>\n",
        "      <td>one</td>\n",
        "      <td>6</td>\n",
        "    </tr>\n",
        "    <tr>\n",
        "      <th>5</th>\n",
        "      <td>bar</td>\n",
        "      <td>one</td>\n",
        "      <td>3</td>\n",
        "      <td>two</td>\n",
        "      <td>7</td>\n",
        "    </tr>\n",
        "  </tbody>\n",
        "</table>\n",
        "</div>"
       ],
       "metadata": {},
       "output_type": "pyout",
       "prompt_number": 27,
       "text": [
        "  key1 key2_left  lval key2_right  rval\n",
        "0  foo       one     1        one     4\n",
        "1  foo       one     1        one     5\n",
        "2  foo       two     2        one     4\n",
        "3  foo       two     2        one     5\n",
        "4  bar       one     3        one     6\n",
        "5  bar       one     3        two     7"
       ]
      }
     ],
     "prompt_number": 27
    },
    {
     "cell_type": "markdown",
     "metadata": {},
     "source": [
      "###7.1.2 \uc0c9\uc778 \uba38\uc9c0\ud558\uae30\n",
      "- \uba38\uc9c0\ud558\ub824\ub294 \ud0a4\uac00 DataFrame\uc758 \uc0c9\uc778\uc77c \uc218 \uc788\ub2e4. \uc774\ub7f4\uacbd\uc6b0 left_index=True,right_index=True \uc635\uc158\uc744 \uc9c0\uc815"
     ]
    },
    {
     "cell_type": "code",
     "collapsed": false,
     "input": [
      "left1= DataFrame({'key':['a','b','a','a','b','c'],\n",
      "                  'value':range(6)})"
     ],
     "language": "python",
     "metadata": {},
     "outputs": [],
     "prompt_number": 28
    },
    {
     "cell_type": "code",
     "collapsed": false,
     "input": [
      "right1 = DataFrame({'group_val':[3.5,7]}, index=['a','b'])"
     ],
     "language": "python",
     "metadata": {},
     "outputs": [],
     "prompt_number": 29
    },
    {
     "cell_type": "code",
     "collapsed": false,
     "input": [
      "left1"
     ],
     "language": "python",
     "metadata": {},
     "outputs": [
      {
       "html": [
        "<div style=\"max-width:1500px;overflow:auto;\">\n",
        "<table border=\"1\" class=\"dataframe\">\n",
        "  <thead>\n",
        "    <tr style=\"text-align: right;\">\n",
        "      <th></th>\n",
        "      <th>key</th>\n",
        "      <th>value</th>\n",
        "    </tr>\n",
        "  </thead>\n",
        "  <tbody>\n",
        "    <tr>\n",
        "      <th>0</th>\n",
        "      <td>a</td>\n",
        "      <td>0</td>\n",
        "    </tr>\n",
        "    <tr>\n",
        "      <th>1</th>\n",
        "      <td>b</td>\n",
        "      <td>1</td>\n",
        "    </tr>\n",
        "    <tr>\n",
        "      <th>2</th>\n",
        "      <td>a</td>\n",
        "      <td>2</td>\n",
        "    </tr>\n",
        "    <tr>\n",
        "      <th>3</th>\n",
        "      <td>a</td>\n",
        "      <td>3</td>\n",
        "    </tr>\n",
        "    <tr>\n",
        "      <th>4</th>\n",
        "      <td>b</td>\n",
        "      <td>4</td>\n",
        "    </tr>\n",
        "    <tr>\n",
        "      <th>5</th>\n",
        "      <td>c</td>\n",
        "      <td>5</td>\n",
        "    </tr>\n",
        "  </tbody>\n",
        "</table>\n",
        "</div>"
       ],
       "metadata": {},
       "output_type": "pyout",
       "prompt_number": 30,
       "text": [
        "  key  value\n",
        "0   a      0\n",
        "1   b      1\n",
        "2   a      2\n",
        "3   a      3\n",
        "4   b      4\n",
        "5   c      5"
       ]
      }
     ],
     "prompt_number": 30
    },
    {
     "cell_type": "code",
     "collapsed": false,
     "input": [
      "right1"
     ],
     "language": "python",
     "metadata": {},
     "outputs": [
      {
       "html": [
        "<div style=\"max-width:1500px;overflow:auto;\">\n",
        "<table border=\"1\" class=\"dataframe\">\n",
        "  <thead>\n",
        "    <tr style=\"text-align: right;\">\n",
        "      <th></th>\n",
        "      <th>group_val</th>\n",
        "    </tr>\n",
        "  </thead>\n",
        "  <tbody>\n",
        "    <tr>\n",
        "      <th>a</th>\n",
        "      <td>3.5</td>\n",
        "    </tr>\n",
        "    <tr>\n",
        "      <th>b</th>\n",
        "      <td>7.0</td>\n",
        "    </tr>\n",
        "  </tbody>\n",
        "</table>\n",
        "</div>"
       ],
       "metadata": {},
       "output_type": "pyout",
       "prompt_number": 31,
       "text": [
        "   group_val\n",
        "a        3.5\n",
        "b        7.0"
       ]
      }
     ],
     "prompt_number": 31
    },
    {
     "cell_type": "code",
     "collapsed": false,
     "input": [
      "#left\uc758 column\uc774 right\uc758 index\ub85c join\ud560\ub54c\n",
      "pd.merge(left1,right1,left_on='key',right_index=True)"
     ],
     "language": "python",
     "metadata": {},
     "outputs": [
      {
       "html": [
        "<div style=\"max-width:1500px;overflow:auto;\">\n",
        "<table border=\"1\" class=\"dataframe\">\n",
        "  <thead>\n",
        "    <tr style=\"text-align: right;\">\n",
        "      <th></th>\n",
        "      <th>key</th>\n",
        "      <th>value</th>\n",
        "      <th>group_val</th>\n",
        "    </tr>\n",
        "  </thead>\n",
        "  <tbody>\n",
        "    <tr>\n",
        "      <th>0</th>\n",
        "      <td>a</td>\n",
        "      <td>0</td>\n",
        "      <td>3.5</td>\n",
        "    </tr>\n",
        "    <tr>\n",
        "      <th>2</th>\n",
        "      <td>a</td>\n",
        "      <td>2</td>\n",
        "      <td>3.5</td>\n",
        "    </tr>\n",
        "    <tr>\n",
        "      <th>3</th>\n",
        "      <td>a</td>\n",
        "      <td>3</td>\n",
        "      <td>3.5</td>\n",
        "    </tr>\n",
        "    <tr>\n",
        "      <th>1</th>\n",
        "      <td>b</td>\n",
        "      <td>1</td>\n",
        "      <td>7.0</td>\n",
        "    </tr>\n",
        "    <tr>\n",
        "      <th>4</th>\n",
        "      <td>b</td>\n",
        "      <td>4</td>\n",
        "      <td>7.0</td>\n",
        "    </tr>\n",
        "  </tbody>\n",
        "</table>\n",
        "</div>"
       ],
       "metadata": {},
       "output_type": "pyout",
       "prompt_number": 32,
       "text": [
        "  key  value  group_val\n",
        "0   a      0        3.5\n",
        "2   a      2        3.5\n",
        "3   a      3        3.5\n",
        "1   b      1        7.0\n",
        "4   b      4        7.0"
       ]
      }
     ],
     "prompt_number": 32
    },
    {
     "cell_type": "code",
     "collapsed": false,
     "input": [
      "#how\uc5d0 'outer'\uc778\uc790\ub97c \ub118\uaca8\uc11c \uad50\uc9d1\ud569\uc774 \uc544\ub2cc \ud569\uc9d1\ud569\uc744 \uad6c\ud560 \uc218\ub3c4 \uc788\ub2e4.\n",
      "pd.merge(left1,right1,left_on='key',right_index=True,how='outer')"
     ],
     "language": "python",
     "metadata": {},
     "outputs": [
      {
       "html": [
        "<div style=\"max-width:1500px;overflow:auto;\">\n",
        "<table border=\"1\" class=\"dataframe\">\n",
        "  <thead>\n",
        "    <tr style=\"text-align: right;\">\n",
        "      <th></th>\n",
        "      <th>key</th>\n",
        "      <th>value</th>\n",
        "      <th>group_val</th>\n",
        "    </tr>\n",
        "  </thead>\n",
        "  <tbody>\n",
        "    <tr>\n",
        "      <th>0</th>\n",
        "      <td>a</td>\n",
        "      <td>0</td>\n",
        "      <td>3.5</td>\n",
        "    </tr>\n",
        "    <tr>\n",
        "      <th>2</th>\n",
        "      <td>a</td>\n",
        "      <td>2</td>\n",
        "      <td>3.5</td>\n",
        "    </tr>\n",
        "    <tr>\n",
        "      <th>3</th>\n",
        "      <td>a</td>\n",
        "      <td>3</td>\n",
        "      <td>3.5</td>\n",
        "    </tr>\n",
        "    <tr>\n",
        "      <th>1</th>\n",
        "      <td>b</td>\n",
        "      <td>1</td>\n",
        "      <td>7.0</td>\n",
        "    </tr>\n",
        "    <tr>\n",
        "      <th>4</th>\n",
        "      <td>b</td>\n",
        "      <td>4</td>\n",
        "      <td>7.0</td>\n",
        "    </tr>\n",
        "    <tr>\n",
        "      <th>5</th>\n",
        "      <td>c</td>\n",
        "      <td>5</td>\n",
        "      <td>NaN</td>\n",
        "    </tr>\n",
        "  </tbody>\n",
        "</table>\n",
        "</div>"
       ],
       "metadata": {},
       "output_type": "pyout",
       "prompt_number": 33,
       "text": [
        "  key  value  group_val\n",
        "0   a      0        3.5\n",
        "2   a      2        3.5\n",
        "3   a      3        3.5\n",
        "1   b      1        7.0\n",
        "4   b      4        7.0\n",
        "5   c      5        NaN"
       ]
      }
     ],
     "prompt_number": 33
    },
    {
     "cell_type": "code",
     "collapsed": false,
     "input": [
      "lefth = DataFrame({'key1':['Ohio','Ohio','Ohio','Nevada','Nevada'],\n",
      "                   'key2':[2000,2001,2002,2001,2002],\n",
      "                   'data':np.arange(5.)})"
     ],
     "language": "python",
     "metadata": {},
     "outputs": [],
     "prompt_number": 34
    },
    {
     "cell_type": "code",
     "collapsed": false,
     "input": [
      "righth = DataFrame(np.arange(12).reshape(6,2),\n",
      "                   index=[['Nevada','Nevada','Ohio','Ohio','Ohio','Ohio'],\n",
      "                          [2001,2000,2000,2000,2001,2002]],\n",
      "                   columns=['event1','event2'])"
     ],
     "language": "python",
     "metadata": {},
     "outputs": [],
     "prompt_number": 35
    },
    {
     "cell_type": "code",
     "collapsed": false,
     "input": [
      "lefth"
     ],
     "language": "python",
     "metadata": {},
     "outputs": [
      {
       "html": [
        "<div style=\"max-width:1500px;overflow:auto;\">\n",
        "<table border=\"1\" class=\"dataframe\">\n",
        "  <thead>\n",
        "    <tr style=\"text-align: right;\">\n",
        "      <th></th>\n",
        "      <th>data</th>\n",
        "      <th>key1</th>\n",
        "      <th>key2</th>\n",
        "    </tr>\n",
        "  </thead>\n",
        "  <tbody>\n",
        "    <tr>\n",
        "      <th>0</th>\n",
        "      <td>0</td>\n",
        "      <td>Ohio</td>\n",
        "      <td>2000</td>\n",
        "    </tr>\n",
        "    <tr>\n",
        "      <th>1</th>\n",
        "      <td>1</td>\n",
        "      <td>Ohio</td>\n",
        "      <td>2001</td>\n",
        "    </tr>\n",
        "    <tr>\n",
        "      <th>2</th>\n",
        "      <td>2</td>\n",
        "      <td>Ohio</td>\n",
        "      <td>2002</td>\n",
        "    </tr>\n",
        "    <tr>\n",
        "      <th>3</th>\n",
        "      <td>3</td>\n",
        "      <td>Nevada</td>\n",
        "      <td>2001</td>\n",
        "    </tr>\n",
        "    <tr>\n",
        "      <th>4</th>\n",
        "      <td>4</td>\n",
        "      <td>Nevada</td>\n",
        "      <td>2002</td>\n",
        "    </tr>\n",
        "  </tbody>\n",
        "</table>\n",
        "</div>"
       ],
       "metadata": {},
       "output_type": "pyout",
       "prompt_number": 36,
       "text": [
        "   data    key1  key2\n",
        "0     0    Ohio  2000\n",
        "1     1    Ohio  2001\n",
        "2     2    Ohio  2002\n",
        "3     3  Nevada  2001\n",
        "4     4  Nevada  2002"
       ]
      }
     ],
     "prompt_number": 36
    },
    {
     "cell_type": "code",
     "collapsed": false,
     "input": [
      "righth"
     ],
     "language": "python",
     "metadata": {},
     "outputs": [
      {
       "html": [
        "<div style=\"max-width:1500px;overflow:auto;\">\n",
        "<table border=\"1\" class=\"dataframe\">\n",
        "  <thead>\n",
        "    <tr style=\"text-align: right;\">\n",
        "      <th></th>\n",
        "      <th></th>\n",
        "      <th>event1</th>\n",
        "      <th>event2</th>\n",
        "    </tr>\n",
        "  </thead>\n",
        "  <tbody>\n",
        "    <tr>\n",
        "      <th rowspan=\"2\" valign=\"top\">Nevada</th>\n",
        "      <th>2001</th>\n",
        "      <td>0</td>\n",
        "      <td>1</td>\n",
        "    </tr>\n",
        "    <tr>\n",
        "      <th>2000</th>\n",
        "      <td>2</td>\n",
        "      <td>3</td>\n",
        "    </tr>\n",
        "    <tr>\n",
        "      <th rowspan=\"4\" valign=\"top\">Ohio</th>\n",
        "      <th>2000</th>\n",
        "      <td>4</td>\n",
        "      <td>5</td>\n",
        "    </tr>\n",
        "    <tr>\n",
        "      <th>2000</th>\n",
        "      <td>6</td>\n",
        "      <td>7</td>\n",
        "    </tr>\n",
        "    <tr>\n",
        "      <th>2001</th>\n",
        "      <td>8</td>\n",
        "      <td>9</td>\n",
        "    </tr>\n",
        "    <tr>\n",
        "      <th>2002</th>\n",
        "      <td>10</td>\n",
        "      <td>11</td>\n",
        "    </tr>\n",
        "  </tbody>\n",
        "</table>\n",
        "</div>"
       ],
       "metadata": {},
       "output_type": "pyout",
       "prompt_number": 37,
       "text": [
        "             event1  event2\n",
        "Nevada 2001       0       1\n",
        "       2000       2       3\n",
        "Ohio   2000       4       5\n",
        "       2000       6       7\n",
        "       2001       8       9\n",
        "       2002      10      11"
       ]
      }
     ],
     "prompt_number": 37
    },
    {
     "cell_type": "code",
     "collapsed": false,
     "input": [
      "pd.merge(lefth,righth,left_on=['key1','key2'],right_index=True)"
     ],
     "language": "python",
     "metadata": {},
     "outputs": [
      {
       "html": [
        "<div style=\"max-width:1500px;overflow:auto;\">\n",
        "<table border=\"1\" class=\"dataframe\">\n",
        "  <thead>\n",
        "    <tr style=\"text-align: right;\">\n",
        "      <th></th>\n",
        "      <th>data</th>\n",
        "      <th>key1</th>\n",
        "      <th>key2</th>\n",
        "      <th>event1</th>\n",
        "      <th>event2</th>\n",
        "    </tr>\n",
        "  </thead>\n",
        "  <tbody>\n",
        "    <tr>\n",
        "      <th>0</th>\n",
        "      <td>0</td>\n",
        "      <td>Ohio</td>\n",
        "      <td>2000</td>\n",
        "      <td>4</td>\n",
        "      <td>5</td>\n",
        "    </tr>\n",
        "    <tr>\n",
        "      <th>0</th>\n",
        "      <td>0</td>\n",
        "      <td>Ohio</td>\n",
        "      <td>2000</td>\n",
        "      <td>6</td>\n",
        "      <td>7</td>\n",
        "    </tr>\n",
        "    <tr>\n",
        "      <th>1</th>\n",
        "      <td>1</td>\n",
        "      <td>Ohio</td>\n",
        "      <td>2001</td>\n",
        "      <td>8</td>\n",
        "      <td>9</td>\n",
        "    </tr>\n",
        "    <tr>\n",
        "      <th>2</th>\n",
        "      <td>2</td>\n",
        "      <td>Ohio</td>\n",
        "      <td>2002</td>\n",
        "      <td>10</td>\n",
        "      <td>11</td>\n",
        "    </tr>\n",
        "    <tr>\n",
        "      <th>3</th>\n",
        "      <td>3</td>\n",
        "      <td>Nevada</td>\n",
        "      <td>2001</td>\n",
        "      <td>0</td>\n",
        "      <td>1</td>\n",
        "    </tr>\n",
        "  </tbody>\n",
        "</table>\n",
        "</div>"
       ],
       "metadata": {},
       "output_type": "pyout",
       "prompt_number": 38,
       "text": [
        "   data    key1  key2  event1  event2\n",
        "0     0    Ohio  2000       4       5\n",
        "0     0    Ohio  2000       6       7\n",
        "1     1    Ohio  2001       8       9\n",
        "2     2    Ohio  2002      10      11\n",
        "3     3  Nevada  2001       0       1"
       ]
      }
     ],
     "prompt_number": 38
    },
    {
     "cell_type": "code",
     "collapsed": false,
     "input": [
      "left2 = DataFrame([[1.,2.],[3.,4.],[5.,6.]],index=['a','c','e'],columns=['Ohio','Nevada'])"
     ],
     "language": "python",
     "metadata": {},
     "outputs": [],
     "prompt_number": 39
    },
    {
     "cell_type": "code",
     "collapsed": false,
     "input": [
      "right2 = DataFrame([[7.,8.],[9.,10.],[11.,12.],[13,14]],\n",
      "                   columns=['Missouri','Alabama'],\n",
      "                   index=['b','c','d','e'])"
     ],
     "language": "python",
     "metadata": {},
     "outputs": [],
     "prompt_number": 40
    },
    {
     "cell_type": "code",
     "collapsed": false,
     "input": [
      "left2"
     ],
     "language": "python",
     "metadata": {},
     "outputs": [
      {
       "html": [
        "<div style=\"max-width:1500px;overflow:auto;\">\n",
        "<table border=\"1\" class=\"dataframe\">\n",
        "  <thead>\n",
        "    <tr style=\"text-align: right;\">\n",
        "      <th></th>\n",
        "      <th>Ohio</th>\n",
        "      <th>Nevada</th>\n",
        "    </tr>\n",
        "  </thead>\n",
        "  <tbody>\n",
        "    <tr>\n",
        "      <th>a</th>\n",
        "      <td>1</td>\n",
        "      <td>2</td>\n",
        "    </tr>\n",
        "    <tr>\n",
        "      <th>c</th>\n",
        "      <td>3</td>\n",
        "      <td>4</td>\n",
        "    </tr>\n",
        "    <tr>\n",
        "      <th>e</th>\n",
        "      <td>5</td>\n",
        "      <td>6</td>\n",
        "    </tr>\n",
        "  </tbody>\n",
        "</table>\n",
        "</div>"
       ],
       "metadata": {},
       "output_type": "pyout",
       "prompt_number": 41,
       "text": [
        "   Ohio  Nevada\n",
        "a     1       2\n",
        "c     3       4\n",
        "e     5       6"
       ]
      }
     ],
     "prompt_number": 41
    },
    {
     "cell_type": "code",
     "collapsed": false,
     "input": [
      "right2"
     ],
     "language": "python",
     "metadata": {},
     "outputs": [
      {
       "html": [
        "<div style=\"max-width:1500px;overflow:auto;\">\n",
        "<table border=\"1\" class=\"dataframe\">\n",
        "  <thead>\n",
        "    <tr style=\"text-align: right;\">\n",
        "      <th></th>\n",
        "      <th>Missouri</th>\n",
        "      <th>Alabama</th>\n",
        "    </tr>\n",
        "  </thead>\n",
        "  <tbody>\n",
        "    <tr>\n",
        "      <th>b</th>\n",
        "      <td>7</td>\n",
        "      <td>8</td>\n",
        "    </tr>\n",
        "    <tr>\n",
        "      <th>c</th>\n",
        "      <td>9</td>\n",
        "      <td>10</td>\n",
        "    </tr>\n",
        "    <tr>\n",
        "      <th>d</th>\n",
        "      <td>11</td>\n",
        "      <td>12</td>\n",
        "    </tr>\n",
        "    <tr>\n",
        "      <th>e</th>\n",
        "      <td>13</td>\n",
        "      <td>14</td>\n",
        "    </tr>\n",
        "  </tbody>\n",
        "</table>\n",
        "</div>"
       ],
       "metadata": {},
       "output_type": "pyout",
       "prompt_number": 42,
       "text": [
        "   Missouri  Alabama\n",
        "b         7        8\n",
        "c         9       10\n",
        "d        11       12\n",
        "e        13       14"
       ]
      }
     ],
     "prompt_number": 42
    },
    {
     "cell_type": "code",
     "collapsed": false,
     "input": [
      "#\uae30\uc874\uc758 merge\ub294 \uac19\uc740 column\uc744 \uad6c\ud588\uc9c0\ub9cc left_index,right_index\ub97c \uc635\uc158\uc73c\ub85c \ud558\uba74 \uac19\uc740 index\ub97c merge\ud568\n",
      "pd.merge(left2,right2,left_index=True,right_index=True)"
     ],
     "language": "python",
     "metadata": {},
     "outputs": [
      {
       "html": [
        "<div style=\"max-width:1500px;overflow:auto;\">\n",
        "<table border=\"1\" class=\"dataframe\">\n",
        "  <thead>\n",
        "    <tr style=\"text-align: right;\">\n",
        "      <th></th>\n",
        "      <th>Ohio</th>\n",
        "      <th>Nevada</th>\n",
        "      <th>Missouri</th>\n",
        "      <th>Alabama</th>\n",
        "    </tr>\n",
        "  </thead>\n",
        "  <tbody>\n",
        "    <tr>\n",
        "      <th>c</th>\n",
        "      <td>3</td>\n",
        "      <td>4</td>\n",
        "      <td>9</td>\n",
        "      <td>10</td>\n",
        "    </tr>\n",
        "    <tr>\n",
        "      <th>e</th>\n",
        "      <td>5</td>\n",
        "      <td>6</td>\n",
        "      <td>13</td>\n",
        "      <td>14</td>\n",
        "    </tr>\n",
        "  </tbody>\n",
        "</table>\n",
        "</div>"
       ],
       "metadata": {},
       "output_type": "pyout",
       "prompt_number": 43,
       "text": [
        "   Ohio  Nevada  Missouri  Alabama\n",
        "c     3       4         9       10\n",
        "e     5       6        13       14"
       ]
      }
     ],
     "prompt_number": 43
    },
    {
     "cell_type": "code",
     "collapsed": false,
     "input": [
      "pd.merge(left2,right2,how='outer',left_index=True,right_index=True)"
     ],
     "language": "python",
     "metadata": {},
     "outputs": [
      {
       "html": [
        "<div style=\"max-width:1500px;overflow:auto;\">\n",
        "<table border=\"1\" class=\"dataframe\">\n",
        "  <thead>\n",
        "    <tr style=\"text-align: right;\">\n",
        "      <th></th>\n",
        "      <th>Ohio</th>\n",
        "      <th>Nevada</th>\n",
        "      <th>Missouri</th>\n",
        "      <th>Alabama</th>\n",
        "    </tr>\n",
        "  </thead>\n",
        "  <tbody>\n",
        "    <tr>\n",
        "      <th>a</th>\n",
        "      <td>1</td>\n",
        "      <td>2</td>\n",
        "      <td>NaN</td>\n",
        "      <td>NaN</td>\n",
        "    </tr>\n",
        "    <tr>\n",
        "      <th>b</th>\n",
        "      <td>NaN</td>\n",
        "      <td>NaN</td>\n",
        "      <td>7</td>\n",
        "      <td>8</td>\n",
        "    </tr>\n",
        "    <tr>\n",
        "      <th>c</th>\n",
        "      <td>3</td>\n",
        "      <td>4</td>\n",
        "      <td>9</td>\n",
        "      <td>10</td>\n",
        "    </tr>\n",
        "    <tr>\n",
        "      <th>d</th>\n",
        "      <td>NaN</td>\n",
        "      <td>NaN</td>\n",
        "      <td>11</td>\n",
        "      <td>12</td>\n",
        "    </tr>\n",
        "    <tr>\n",
        "      <th>e</th>\n",
        "      <td>5</td>\n",
        "      <td>6</td>\n",
        "      <td>13</td>\n",
        "      <td>14</td>\n",
        "    </tr>\n",
        "  </tbody>\n",
        "</table>\n",
        "</div>"
       ],
       "metadata": {},
       "output_type": "pyout",
       "prompt_number": 44,
       "text": [
        "   Ohio  Nevada  Missouri  Alabama\n",
        "a     1       2       NaN      NaN\n",
        "b   NaN     NaN         7        8\n",
        "c     3       4         9       10\n",
        "d   NaN     NaN        11       12\n",
        "e     5       6        13       14"
       ]
      }
     ],
     "prompt_number": 44
    },
    {
     "cell_type": "markdown",
     "metadata": {},
     "source": [
      "- \uc0c9\uc778\uc73c\ub85c merge \ud560 \uacbd\uc6b0, DataFrame\uc758 join \uba54\uc11c\ub4dc\ub97c \uc0ac\uc6a9\ud558\ub294 \uac83\uc774 \uc88b\ub2e4.\n",
      "- join \uba54\uc11c\ub4dc\ub294 column\uc774 \uacb9\uce58\uc9c0 \uc54a\uc73c\uba70 \uc644\uc804\ud788 \uac19\uac70\ub098 \uc720\uc0ac\ud55c \uc0c9\uc778 \uad6c\uc870\ub97c \uac00\uc9c4 \uc5ec\ub7ec\uac1c\uc758 DataFrame \uac1d\uccb4\ub97c \ubcd1\ud569\ud560\ub54c \uc0ac\uc6a9\ud560 \uc218 \uc788\ub2e4."
     ]
    },
    {
     "cell_type": "code",
     "collapsed": false,
     "input": [
      "#\ub9cc\uc57d left\uc5d0 \ud574\ub2f9\ud558\ub294 index\uac00 right\uc5d0 \uc5c6\ub2e4\uba74 NaN\uc73c\ub85c \ucc98\ub9ac\n",
      "left2.join(right2)"
     ],
     "language": "python",
     "metadata": {},
     "outputs": [
      {
       "html": [
        "<div style=\"max-width:1500px;overflow:auto;\">\n",
        "<table border=\"1\" class=\"dataframe\">\n",
        "  <thead>\n",
        "    <tr style=\"text-align: right;\">\n",
        "      <th></th>\n",
        "      <th>Ohio</th>\n",
        "      <th>Nevada</th>\n",
        "      <th>Missouri</th>\n",
        "      <th>Alabama</th>\n",
        "    </tr>\n",
        "  </thead>\n",
        "  <tbody>\n",
        "    <tr>\n",
        "      <th>a</th>\n",
        "      <td>1</td>\n",
        "      <td>2</td>\n",
        "      <td>NaN</td>\n",
        "      <td>NaN</td>\n",
        "    </tr>\n",
        "    <tr>\n",
        "      <th>c</th>\n",
        "      <td>3</td>\n",
        "      <td>4</td>\n",
        "      <td>9</td>\n",
        "      <td>10</td>\n",
        "    </tr>\n",
        "    <tr>\n",
        "      <th>e</th>\n",
        "      <td>5</td>\n",
        "      <td>6</td>\n",
        "      <td>13</td>\n",
        "      <td>14</td>\n",
        "    </tr>\n",
        "  </tbody>\n",
        "</table>\n",
        "</div>"
       ],
       "metadata": {},
       "output_type": "pyout",
       "prompt_number": 45,
       "text": [
        "   Ohio  Nevada  Missouri  Alabama\n",
        "a     1       2       NaN      NaN\n",
        "c     3       4         9       10\n",
        "e     5       6        13       14"
       ]
      }
     ],
     "prompt_number": 45
    },
    {
     "cell_type": "code",
     "collapsed": false,
     "input": [
      "left2.join(right2,how='outer')"
     ],
     "language": "python",
     "metadata": {},
     "outputs": [
      {
       "html": [
        "<div style=\"max-width:1500px;overflow:auto;\">\n",
        "<table border=\"1\" class=\"dataframe\">\n",
        "  <thead>\n",
        "    <tr style=\"text-align: right;\">\n",
        "      <th></th>\n",
        "      <th>Ohio</th>\n",
        "      <th>Nevada</th>\n",
        "      <th>Missouri</th>\n",
        "      <th>Alabama</th>\n",
        "    </tr>\n",
        "  </thead>\n",
        "  <tbody>\n",
        "    <tr>\n",
        "      <th>a</th>\n",
        "      <td>1</td>\n",
        "      <td>2</td>\n",
        "      <td>NaN</td>\n",
        "      <td>NaN</td>\n",
        "    </tr>\n",
        "    <tr>\n",
        "      <th>b</th>\n",
        "      <td>NaN</td>\n",
        "      <td>NaN</td>\n",
        "      <td>7</td>\n",
        "      <td>8</td>\n",
        "    </tr>\n",
        "    <tr>\n",
        "      <th>c</th>\n",
        "      <td>3</td>\n",
        "      <td>4</td>\n",
        "      <td>9</td>\n",
        "      <td>10</td>\n",
        "    </tr>\n",
        "    <tr>\n",
        "      <th>d</th>\n",
        "      <td>NaN</td>\n",
        "      <td>NaN</td>\n",
        "      <td>11</td>\n",
        "      <td>12</td>\n",
        "    </tr>\n",
        "    <tr>\n",
        "      <th>e</th>\n",
        "      <td>5</td>\n",
        "      <td>6</td>\n",
        "      <td>13</td>\n",
        "      <td>14</td>\n",
        "    </tr>\n",
        "  </tbody>\n",
        "</table>\n",
        "</div>"
       ],
       "metadata": {},
       "output_type": "pyout",
       "prompt_number": 46,
       "text": [
        "   Ohio  Nevada  Missouri  Alabama\n",
        "a     1       2       NaN      NaN\n",
        "b   NaN     NaN         7        8\n",
        "c     3       4         9       10\n",
        "d   NaN     NaN        11       12\n",
        "e     5       6        13       14"
       ]
      }
     ],
     "prompt_number": 46
    },
    {
     "cell_type": "code",
     "collapsed": false,
     "input": [
      "left1"
     ],
     "language": "python",
     "metadata": {
      "scrolled": true
     },
     "outputs": [
      {
       "html": [
        "<div style=\"max-width:1500px;overflow:auto;\">\n",
        "<table border=\"1\" class=\"dataframe\">\n",
        "  <thead>\n",
        "    <tr style=\"text-align: right;\">\n",
        "      <th></th>\n",
        "      <th>key</th>\n",
        "      <th>value</th>\n",
        "    </tr>\n",
        "  </thead>\n",
        "  <tbody>\n",
        "    <tr>\n",
        "      <th>0</th>\n",
        "      <td>a</td>\n",
        "      <td>0</td>\n",
        "    </tr>\n",
        "    <tr>\n",
        "      <th>1</th>\n",
        "      <td>b</td>\n",
        "      <td>1</td>\n",
        "    </tr>\n",
        "    <tr>\n",
        "      <th>2</th>\n",
        "      <td>a</td>\n",
        "      <td>2</td>\n",
        "    </tr>\n",
        "    <tr>\n",
        "      <th>3</th>\n",
        "      <td>a</td>\n",
        "      <td>3</td>\n",
        "    </tr>\n",
        "    <tr>\n",
        "      <th>4</th>\n",
        "      <td>b</td>\n",
        "      <td>4</td>\n",
        "    </tr>\n",
        "    <tr>\n",
        "      <th>5</th>\n",
        "      <td>c</td>\n",
        "      <td>5</td>\n",
        "    </tr>\n",
        "  </tbody>\n",
        "</table>\n",
        "</div>"
       ],
       "metadata": {},
       "output_type": "pyout",
       "prompt_number": 47,
       "text": [
        "  key  value\n",
        "0   a      0\n",
        "1   b      1\n",
        "2   a      2\n",
        "3   a      3\n",
        "4   b      4\n",
        "5   c      5"
       ]
      }
     ],
     "prompt_number": 47
    },
    {
     "cell_type": "code",
     "collapsed": false,
     "input": [
      "right1"
     ],
     "language": "python",
     "metadata": {},
     "outputs": [
      {
       "html": [
        "<div style=\"max-width:1500px;overflow:auto;\">\n",
        "<table border=\"1\" class=\"dataframe\">\n",
        "  <thead>\n",
        "    <tr style=\"text-align: right;\">\n",
        "      <th></th>\n",
        "      <th>group_val</th>\n",
        "    </tr>\n",
        "  </thead>\n",
        "  <tbody>\n",
        "    <tr>\n",
        "      <th>a</th>\n",
        "      <td>3.5</td>\n",
        "    </tr>\n",
        "    <tr>\n",
        "      <th>b</th>\n",
        "      <td>7.0</td>\n",
        "    </tr>\n",
        "  </tbody>\n",
        "</table>\n",
        "</div>"
       ],
       "metadata": {},
       "output_type": "pyout",
       "prompt_number": 48,
       "text": [
        "   group_val\n",
        "a        3.5\n",
        "b        7.0"
       ]
      }
     ],
     "prompt_number": 48
    },
    {
     "cell_type": "code",
     "collapsed": false,
     "input": [
      "left1.join(right1,on='key')"
     ],
     "language": "python",
     "metadata": {},
     "outputs": [
      {
       "html": [
        "<div style=\"max-width:1500px;overflow:auto;\">\n",
        "<table border=\"1\" class=\"dataframe\">\n",
        "  <thead>\n",
        "    <tr style=\"text-align: right;\">\n",
        "      <th></th>\n",
        "      <th>key</th>\n",
        "      <th>value</th>\n",
        "      <th>group_val</th>\n",
        "    </tr>\n",
        "  </thead>\n",
        "  <tbody>\n",
        "    <tr>\n",
        "      <th>0</th>\n",
        "      <td>a</td>\n",
        "      <td>0</td>\n",
        "      <td>3.5</td>\n",
        "    </tr>\n",
        "    <tr>\n",
        "      <th>1</th>\n",
        "      <td>b</td>\n",
        "      <td>1</td>\n",
        "      <td>7.0</td>\n",
        "    </tr>\n",
        "    <tr>\n",
        "      <th>2</th>\n",
        "      <td>a</td>\n",
        "      <td>2</td>\n",
        "      <td>3.5</td>\n",
        "    </tr>\n",
        "    <tr>\n",
        "      <th>3</th>\n",
        "      <td>a</td>\n",
        "      <td>3</td>\n",
        "      <td>3.5</td>\n",
        "    </tr>\n",
        "    <tr>\n",
        "      <th>4</th>\n",
        "      <td>b</td>\n",
        "      <td>4</td>\n",
        "      <td>7.0</td>\n",
        "    </tr>\n",
        "    <tr>\n",
        "      <th>5</th>\n",
        "      <td>c</td>\n",
        "      <td>5</td>\n",
        "      <td>NaN</td>\n",
        "    </tr>\n",
        "  </tbody>\n",
        "</table>\n",
        "</div>"
       ],
       "metadata": {},
       "output_type": "pyout",
       "prompt_number": 49,
       "text": [
        "  key  value  group_val\n",
        "0   a      0        3.5\n",
        "1   b      1        7.0\n",
        "2   a      2        3.5\n",
        "3   a      3        3.5\n",
        "4   b      4        7.0\n",
        "5   c      5        NaN"
       ]
      }
     ],
     "prompt_number": 49
    },
    {
     "cell_type": "code",
     "collapsed": false,
     "input": [
      "another = DataFrame([[7.,8.],[9.,10.],[11.,12.],[16.,17.]],\n",
      "                    index = ['a','c','e','f'],\n",
      "                    columns = ['New York','Orgon'])"
     ],
     "language": "python",
     "metadata": {},
     "outputs": [],
     "prompt_number": 50
    },
    {
     "cell_type": "code",
     "collapsed": false,
     "input": [
      "another"
     ],
     "language": "python",
     "metadata": {},
     "outputs": [
      {
       "html": [
        "<div style=\"max-width:1500px;overflow:auto;\">\n",
        "<table border=\"1\" class=\"dataframe\">\n",
        "  <thead>\n",
        "    <tr style=\"text-align: right;\">\n",
        "      <th></th>\n",
        "      <th>New York</th>\n",
        "      <th>Orgon</th>\n",
        "    </tr>\n",
        "  </thead>\n",
        "  <tbody>\n",
        "    <tr>\n",
        "      <th>a</th>\n",
        "      <td>7</td>\n",
        "      <td>8</td>\n",
        "    </tr>\n",
        "    <tr>\n",
        "      <th>c</th>\n",
        "      <td>9</td>\n",
        "      <td>10</td>\n",
        "    </tr>\n",
        "    <tr>\n",
        "      <th>e</th>\n",
        "      <td>11</td>\n",
        "      <td>12</td>\n",
        "    </tr>\n",
        "    <tr>\n",
        "      <th>f</th>\n",
        "      <td>16</td>\n",
        "      <td>17</td>\n",
        "    </tr>\n",
        "  </tbody>\n",
        "</table>\n",
        "</div>"
       ],
       "metadata": {},
       "output_type": "pyout",
       "prompt_number": 51,
       "text": [
        "   New York  Orgon\n",
        "a         7      8\n",
        "c         9     10\n",
        "e        11     12\n",
        "f        16     17"
       ]
      }
     ],
     "prompt_number": 51
    },
    {
     "cell_type": "code",
     "collapsed": false,
     "input": [
      "left2"
     ],
     "language": "python",
     "metadata": {},
     "outputs": [
      {
       "html": [
        "<div style=\"max-width:1500px;overflow:auto;\">\n",
        "<table border=\"1\" class=\"dataframe\">\n",
        "  <thead>\n",
        "    <tr style=\"text-align: right;\">\n",
        "      <th></th>\n",
        "      <th>Ohio</th>\n",
        "      <th>Nevada</th>\n",
        "    </tr>\n",
        "  </thead>\n",
        "  <tbody>\n",
        "    <tr>\n",
        "      <th>a</th>\n",
        "      <td>1</td>\n",
        "      <td>2</td>\n",
        "    </tr>\n",
        "    <tr>\n",
        "      <th>c</th>\n",
        "      <td>3</td>\n",
        "      <td>4</td>\n",
        "    </tr>\n",
        "    <tr>\n",
        "      <th>e</th>\n",
        "      <td>5</td>\n",
        "      <td>6</td>\n",
        "    </tr>\n",
        "  </tbody>\n",
        "</table>\n",
        "</div>"
       ],
       "metadata": {},
       "output_type": "pyout",
       "prompt_number": 52,
       "text": [
        "   Ohio  Nevada\n",
        "a     1       2\n",
        "c     3       4\n",
        "e     5       6"
       ]
      }
     ],
     "prompt_number": 52
    },
    {
     "cell_type": "code",
     "collapsed": false,
     "input": [
      "right2"
     ],
     "language": "python",
     "metadata": {},
     "outputs": [
      {
       "html": [
        "<div style=\"max-width:1500px;overflow:auto;\">\n",
        "<table border=\"1\" class=\"dataframe\">\n",
        "  <thead>\n",
        "    <tr style=\"text-align: right;\">\n",
        "      <th></th>\n",
        "      <th>Missouri</th>\n",
        "      <th>Alabama</th>\n",
        "    </tr>\n",
        "  </thead>\n",
        "  <tbody>\n",
        "    <tr>\n",
        "      <th>b</th>\n",
        "      <td>7</td>\n",
        "      <td>8</td>\n",
        "    </tr>\n",
        "    <tr>\n",
        "      <th>c</th>\n",
        "      <td>9</td>\n",
        "      <td>10</td>\n",
        "    </tr>\n",
        "    <tr>\n",
        "      <th>d</th>\n",
        "      <td>11</td>\n",
        "      <td>12</td>\n",
        "    </tr>\n",
        "    <tr>\n",
        "      <th>e</th>\n",
        "      <td>13</td>\n",
        "      <td>14</td>\n",
        "    </tr>\n",
        "  </tbody>\n",
        "</table>\n",
        "</div>"
       ],
       "metadata": {},
       "output_type": "pyout",
       "prompt_number": 53,
       "text": [
        "   Missouri  Alabama\n",
        "b         7        8\n",
        "c         9       10\n",
        "d        11       12\n",
        "e        13       14"
       ]
      }
     ],
     "prompt_number": 53
    },
    {
     "cell_type": "code",
     "collapsed": false,
     "input": [
      "left2.join([right2,another])"
     ],
     "language": "python",
     "metadata": {},
     "outputs": [
      {
       "html": [
        "<div style=\"max-width:1500px;overflow:auto;\">\n",
        "<table border=\"1\" class=\"dataframe\">\n",
        "  <thead>\n",
        "    <tr style=\"text-align: right;\">\n",
        "      <th></th>\n",
        "      <th>Ohio</th>\n",
        "      <th>Nevada</th>\n",
        "      <th>Missouri</th>\n",
        "      <th>Alabama</th>\n",
        "      <th>New York</th>\n",
        "      <th>Orgon</th>\n",
        "    </tr>\n",
        "  </thead>\n",
        "  <tbody>\n",
        "    <tr>\n",
        "      <th>a</th>\n",
        "      <td>1</td>\n",
        "      <td>2</td>\n",
        "      <td>NaN</td>\n",
        "      <td>NaN</td>\n",
        "      <td>7</td>\n",
        "      <td>8</td>\n",
        "    </tr>\n",
        "    <tr>\n",
        "      <th>c</th>\n",
        "      <td>3</td>\n",
        "      <td>4</td>\n",
        "      <td>9</td>\n",
        "      <td>10</td>\n",
        "      <td>9</td>\n",
        "      <td>10</td>\n",
        "    </tr>\n",
        "    <tr>\n",
        "      <th>e</th>\n",
        "      <td>5</td>\n",
        "      <td>6</td>\n",
        "      <td>13</td>\n",
        "      <td>14</td>\n",
        "      <td>11</td>\n",
        "      <td>12</td>\n",
        "    </tr>\n",
        "  </tbody>\n",
        "</table>\n",
        "</div>"
       ],
       "metadata": {},
       "output_type": "pyout",
       "prompt_number": 54,
       "text": [
        "   Ohio  Nevada  Missouri  Alabama  New York  Orgon\n",
        "a     1       2       NaN      NaN         7      8\n",
        "c     3       4         9       10         9     10\n",
        "e     5       6        13       14        11     12"
       ]
      }
     ],
     "prompt_number": 54
    },
    {
     "cell_type": "code",
     "collapsed": false,
     "input": [
      "left2.join([right2,another],how='outer')"
     ],
     "language": "python",
     "metadata": {},
     "outputs": [
      {
       "html": [
        "<div style=\"max-width:1500px;overflow:auto;\">\n",
        "<table border=\"1\" class=\"dataframe\">\n",
        "  <thead>\n",
        "    <tr style=\"text-align: right;\">\n",
        "      <th></th>\n",
        "      <th>Ohio</th>\n",
        "      <th>Nevada</th>\n",
        "      <th>Missouri</th>\n",
        "      <th>Alabama</th>\n",
        "      <th>New York</th>\n",
        "      <th>Orgon</th>\n",
        "    </tr>\n",
        "  </thead>\n",
        "  <tbody>\n",
        "    <tr>\n",
        "      <th>a</th>\n",
        "      <td>1</td>\n",
        "      <td>2</td>\n",
        "      <td>NaN</td>\n",
        "      <td>NaN</td>\n",
        "      <td>7</td>\n",
        "      <td>8</td>\n",
        "    </tr>\n",
        "    <tr>\n",
        "      <th>b</th>\n",
        "      <td>NaN</td>\n",
        "      <td>NaN</td>\n",
        "      <td>7</td>\n",
        "      <td>8</td>\n",
        "      <td>NaN</td>\n",
        "      <td>NaN</td>\n",
        "    </tr>\n",
        "    <tr>\n",
        "      <th>c</th>\n",
        "      <td>3</td>\n",
        "      <td>4</td>\n",
        "      <td>9</td>\n",
        "      <td>10</td>\n",
        "      <td>9</td>\n",
        "      <td>10</td>\n",
        "    </tr>\n",
        "    <tr>\n",
        "      <th>d</th>\n",
        "      <td>NaN</td>\n",
        "      <td>NaN</td>\n",
        "      <td>11</td>\n",
        "      <td>12</td>\n",
        "      <td>NaN</td>\n",
        "      <td>NaN</td>\n",
        "    </tr>\n",
        "    <tr>\n",
        "      <th>e</th>\n",
        "      <td>5</td>\n",
        "      <td>6</td>\n",
        "      <td>13</td>\n",
        "      <td>14</td>\n",
        "      <td>11</td>\n",
        "      <td>12</td>\n",
        "    </tr>\n",
        "    <tr>\n",
        "      <th>f</th>\n",
        "      <td>NaN</td>\n",
        "      <td>NaN</td>\n",
        "      <td>NaN</td>\n",
        "      <td>NaN</td>\n",
        "      <td>16</td>\n",
        "      <td>17</td>\n",
        "    </tr>\n",
        "  </tbody>\n",
        "</table>\n",
        "</div>"
       ],
       "metadata": {},
       "output_type": "pyout",
       "prompt_number": 55,
       "text": [
        "   Ohio  Nevada  Missouri  Alabama  New York  Orgon\n",
        "a     1       2       NaN      NaN         7      8\n",
        "b   NaN     NaN         7        8       NaN    NaN\n",
        "c     3       4         9       10         9     10\n",
        "d   NaN     NaN        11       12       NaN    NaN\n",
        "e     5       6        13       14        11     12\n",
        "f   NaN     NaN       NaN      NaN        16     17"
       ]
      }
     ],
     "prompt_number": 55
    },
    {
     "cell_type": "heading",
     "level": 3,
     "metadata": {},
     "source": [
      "7.1.3 \ucd95 \ub530\ub77c \uc774\uc5b4\ubd99\uc774\uae30"
     ]
    },
    {
     "cell_type": "markdown",
     "metadata": {},
     "source": [
      "- \ub370\uc774\ud130\ub97c \ud569\uce58\ub294 \ub2e4\ub978 \ubc29\ubc95\uc73c\ub85c\ub294 concatenation(\uc774\uc5b4\ubd99\uc774\uae30), binding(\uc5f0\uacb0), stacking(\uc801\uce35) \ub4f1\uc774 \uc788\ub2e4\n",
      "- NumPy\ub294 ndarray\ub97c \uc5f0\uacb0\ud558\ub294 concatenate \ud568\uc218\ub97c \uc81c\uacf5\ud55c\ub2e4."
     ]
    },
    {
     "cell_type": "code",
     "collapsed": false,
     "input": [
      "arr = np.arange(12).reshape(3,4)"
     ],
     "language": "python",
     "metadata": {},
     "outputs": [],
     "prompt_number": 56
    },
    {
     "cell_type": "code",
     "collapsed": false,
     "input": [
      "arr"
     ],
     "language": "python",
     "metadata": {},
     "outputs": [
      {
       "metadata": {},
       "output_type": "pyout",
       "prompt_number": 57,
       "text": [
        "array([[ 0,  1,  2,  3],\n",
        "       [ 4,  5,  6,  7],\n",
        "       [ 8,  9, 10, 11]])"
       ]
      }
     ],
     "prompt_number": 57
    },
    {
     "cell_type": "code",
     "collapsed": false,
     "input": [
      "np.concatenate([arr,arr],axis=1)"
     ],
     "language": "python",
     "metadata": {},
     "outputs": [
      {
       "metadata": {},
       "output_type": "pyout",
       "prompt_number": 58,
       "text": [
        "array([[ 0,  1,  2,  3,  0,  1,  2,  3],\n",
        "       [ 4,  5,  6,  7,  4,  5,  6,  7],\n",
        "       [ 8,  9, 10, 11,  8,  9, 10, 11]])"
       ]
      }
     ],
     "prompt_number": 58
    },
    {
     "cell_type": "code",
     "collapsed": false,
     "input": [
      "#concatenate\uc758 default\uc635\uc158\uc740 axis=0(\uc138\ub85c\ub85c \uc774\uc5b4\ubd99\uc774\uae30)\n",
      "np.concatenate([arr,arr])"
     ],
     "language": "python",
     "metadata": {},
     "outputs": [
      {
       "metadata": {},
       "output_type": "pyout",
       "prompt_number": 59,
       "text": [
        "array([[ 0,  1,  2,  3],\n",
        "       [ 4,  5,  6,  7],\n",
        "       [ 8,  9, 10, 11],\n",
        "       [ 0,  1,  2,  3],\n",
        "       [ 4,  5,  6,  7],\n",
        "       [ 8,  9, 10, 11]])"
       ]
      }
     ],
     "prompt_number": 59
    },
    {
     "cell_type": "code",
     "collapsed": false,
     "input": [
      "s1 = Series([0,1],index=['a','b'])"
     ],
     "language": "python",
     "metadata": {},
     "outputs": [],
     "prompt_number": 60
    },
    {
     "cell_type": "code",
     "collapsed": false,
     "input": [
      "s2 = Series([2,3,4],index=['c','d','e'])"
     ],
     "language": "python",
     "metadata": {},
     "outputs": [],
     "prompt_number": 61
    },
    {
     "cell_type": "code",
     "collapsed": false,
     "input": [
      "s3 = Series([5,6],index=['f','g'])"
     ],
     "language": "python",
     "metadata": {},
     "outputs": [],
     "prompt_number": 62
    },
    {
     "cell_type": "code",
     "collapsed": false,
     "input": [
      "pd.concat([s1,s2,s3])"
     ],
     "language": "python",
     "metadata": {},
     "outputs": [
      {
       "metadata": {},
       "output_type": "pyout",
       "prompt_number": 63,
       "text": [
        "a    0\n",
        "b    1\n",
        "c    2\n",
        "d    3\n",
        "e    4\n",
        "f    5\n",
        "g    6\n",
        "dtype: int64"
       ]
      }
     ],
     "prompt_number": 63
    },
    {
     "cell_type": "code",
     "collapsed": false,
     "input": [
      "#axis=1 \uc740 column\uc744 \uc758\ubbf8\n",
      "pd.concat([s1,s2,s3],axis=1)"
     ],
     "language": "python",
     "metadata": {},
     "outputs": [
      {
       "html": [
        "<div style=\"max-width:1500px;overflow:auto;\">\n",
        "<table border=\"1\" class=\"dataframe\">\n",
        "  <thead>\n",
        "    <tr style=\"text-align: right;\">\n",
        "      <th></th>\n",
        "      <th>0</th>\n",
        "      <th>1</th>\n",
        "      <th>2</th>\n",
        "    </tr>\n",
        "  </thead>\n",
        "  <tbody>\n",
        "    <tr>\n",
        "      <th>a</th>\n",
        "      <td>0</td>\n",
        "      <td>NaN</td>\n",
        "      <td>NaN</td>\n",
        "    </tr>\n",
        "    <tr>\n",
        "      <th>b</th>\n",
        "      <td>1</td>\n",
        "      <td>NaN</td>\n",
        "      <td>NaN</td>\n",
        "    </tr>\n",
        "    <tr>\n",
        "      <th>c</th>\n",
        "      <td>NaN</td>\n",
        "      <td>2</td>\n",
        "      <td>NaN</td>\n",
        "    </tr>\n",
        "    <tr>\n",
        "      <th>d</th>\n",
        "      <td>NaN</td>\n",
        "      <td>3</td>\n",
        "      <td>NaN</td>\n",
        "    </tr>\n",
        "    <tr>\n",
        "      <th>e</th>\n",
        "      <td>NaN</td>\n",
        "      <td>4</td>\n",
        "      <td>NaN</td>\n",
        "    </tr>\n",
        "    <tr>\n",
        "      <th>f</th>\n",
        "      <td>NaN</td>\n",
        "      <td>NaN</td>\n",
        "      <td>5</td>\n",
        "    </tr>\n",
        "    <tr>\n",
        "      <th>g</th>\n",
        "      <td>NaN</td>\n",
        "      <td>NaN</td>\n",
        "      <td>6</td>\n",
        "    </tr>\n",
        "  </tbody>\n",
        "</table>\n",
        "</div>"
       ],
       "metadata": {},
       "output_type": "pyout",
       "prompt_number": 64,
       "text": [
        "    0   1   2\n",
        "a   0 NaN NaN\n",
        "b   1 NaN NaN\n",
        "c NaN   2 NaN\n",
        "d NaN   3 NaN\n",
        "e NaN   4 NaN\n",
        "f NaN NaN   5\n",
        "g NaN NaN   6"
       ]
      }
     ],
     "prompt_number": 64
    },
    {
     "cell_type": "code",
     "collapsed": false,
     "input": [
      "s4 = pd.concat([s1*5,s3])"
     ],
     "language": "python",
     "metadata": {},
     "outputs": [],
     "prompt_number": 65
    },
    {
     "cell_type": "code",
     "collapsed": false,
     "input": [
      "s4"
     ],
     "language": "python",
     "metadata": {},
     "outputs": [
      {
       "metadata": {},
       "output_type": "pyout",
       "prompt_number": 66,
       "text": [
        "a    0\n",
        "b    5\n",
        "f    5\n",
        "g    6\n",
        "dtype: int64"
       ]
      }
     ],
     "prompt_number": 66
    },
    {
     "cell_type": "code",
     "collapsed": false,
     "input": [
      "s1"
     ],
     "language": "python",
     "metadata": {},
     "outputs": [
      {
       "metadata": {},
       "output_type": "pyout",
       "prompt_number": 67,
       "text": [
        "a    0\n",
        "b    1\n",
        "dtype: int64"
       ]
      }
     ],
     "prompt_number": 67
    },
    {
     "cell_type": "code",
     "collapsed": false,
     "input": [
      "pd.concat([s1,s4],axis=1)"
     ],
     "language": "python",
     "metadata": {},
     "outputs": [
      {
       "html": [
        "<div style=\"max-width:1500px;overflow:auto;\">\n",
        "<table border=\"1\" class=\"dataframe\">\n",
        "  <thead>\n",
        "    <tr style=\"text-align: right;\">\n",
        "      <th></th>\n",
        "      <th>0</th>\n",
        "      <th>1</th>\n",
        "    </tr>\n",
        "  </thead>\n",
        "  <tbody>\n",
        "    <tr>\n",
        "      <th>a</th>\n",
        "      <td>0</td>\n",
        "      <td>0</td>\n",
        "    </tr>\n",
        "    <tr>\n",
        "      <th>b</th>\n",
        "      <td>1</td>\n",
        "      <td>5</td>\n",
        "    </tr>\n",
        "    <tr>\n",
        "      <th>f</th>\n",
        "      <td>NaN</td>\n",
        "      <td>5</td>\n",
        "    </tr>\n",
        "    <tr>\n",
        "      <th>g</th>\n",
        "      <td>NaN</td>\n",
        "      <td>6</td>\n",
        "    </tr>\n",
        "  </tbody>\n",
        "</table>\n",
        "</div>"
       ],
       "metadata": {},
       "output_type": "pyout",
       "prompt_number": 68,
       "text": [
        "    0  1\n",
        "a   0  0\n",
        "b   1  5\n",
        "f NaN  5\n",
        "g NaN  6"
       ]
      }
     ],
     "prompt_number": 68
    },
    {
     "cell_type": "code",
     "collapsed": false,
     "input": [
      "pd.concat([s1,s4],axis=1,join='inner')"
     ],
     "language": "python",
     "metadata": {},
     "outputs": [
      {
       "html": [
        "<div style=\"max-width:1500px;overflow:auto;\">\n",
        "<table border=\"1\" class=\"dataframe\">\n",
        "  <thead>\n",
        "    <tr style=\"text-align: right;\">\n",
        "      <th></th>\n",
        "      <th>0</th>\n",
        "      <th>1</th>\n",
        "    </tr>\n",
        "  </thead>\n",
        "  <tbody>\n",
        "    <tr>\n",
        "      <th>a</th>\n",
        "      <td>0</td>\n",
        "      <td>0</td>\n",
        "    </tr>\n",
        "    <tr>\n",
        "      <th>b</th>\n",
        "      <td>1</td>\n",
        "      <td>5</td>\n",
        "    </tr>\n",
        "  </tbody>\n",
        "</table>\n",
        "</div>"
       ],
       "metadata": {},
       "output_type": "pyout",
       "prompt_number": 69,
       "text": [
        "   0  1\n",
        "a  0  0\n",
        "b  1  5"
       ]
      }
     ],
     "prompt_number": 69
    },
    {
     "cell_type": "code",
     "collapsed": false,
     "input": [
      "pd.concat([s1,s4],axis=1,join_axes=[['a','c','b','e']])\n",
      "#join_axes\uc5d0 list\uc5d0 list\ud615\ud0dc\uc778 \uc774\uc720?????????"
     ],
     "language": "python",
     "metadata": {},
     "outputs": [
      {
       "html": [
        "<div style=\"max-width:1500px;overflow:auto;\">\n",
        "<table border=\"1\" class=\"dataframe\">\n",
        "  <thead>\n",
        "    <tr style=\"text-align: right;\">\n",
        "      <th></th>\n",
        "      <th>0</th>\n",
        "      <th>1</th>\n",
        "    </tr>\n",
        "  </thead>\n",
        "  <tbody>\n",
        "    <tr>\n",
        "      <th>a</th>\n",
        "      <td>0</td>\n",
        "      <td>0</td>\n",
        "    </tr>\n",
        "    <tr>\n",
        "      <th>c</th>\n",
        "      <td>NaN</td>\n",
        "      <td>NaN</td>\n",
        "    </tr>\n",
        "    <tr>\n",
        "      <th>b</th>\n",
        "      <td>1</td>\n",
        "      <td>5</td>\n",
        "    </tr>\n",
        "    <tr>\n",
        "      <th>e</th>\n",
        "      <td>NaN</td>\n",
        "      <td>NaN</td>\n",
        "    </tr>\n",
        "  </tbody>\n",
        "</table>\n",
        "</div>"
       ],
       "metadata": {},
       "output_type": "pyout",
       "prompt_number": 70,
       "text": [
        "    0   1\n",
        "a   0   0\n",
        "c NaN NaN\n",
        "b   1   5\n",
        "e NaN NaN"
       ]
      }
     ],
     "prompt_number": 70
    },
    {
     "cell_type": "code",
     "collapsed": false,
     "input": [
      "s1"
     ],
     "language": "python",
     "metadata": {},
     "outputs": [
      {
       "metadata": {},
       "output_type": "pyout",
       "prompt_number": 71,
       "text": [
        "a    0\n",
        "b    1\n",
        "dtype: int64"
       ]
      }
     ],
     "prompt_number": 71
    },
    {
     "cell_type": "code",
     "collapsed": false,
     "input": [
      "s3"
     ],
     "language": "python",
     "metadata": {},
     "outputs": [
      {
       "metadata": {},
       "output_type": "pyout",
       "prompt_number": 72,
       "text": [
        "f    5\n",
        "g    6\n",
        "dtype: int64"
       ]
      }
     ],
     "prompt_number": 72
    },
    {
     "cell_type": "code",
     "collapsed": false,
     "input": [
      "result = pd.concat([s1, s1,s3],keys=['one','two','three'])"
     ],
     "language": "python",
     "metadata": {},
     "outputs": [],
     "prompt_number": 73
    },
    {
     "cell_type": "code",
     "collapsed": false,
     "input": [
      "result"
     ],
     "language": "python",
     "metadata": {},
     "outputs": [
      {
       "metadata": {},
       "output_type": "pyout",
       "prompt_number": 74,
       "text": [
        "one    a    0\n",
        "       b    1\n",
        "two    a    0\n",
        "       b    1\n",
        "three  f    5\n",
        "       g    6\n",
        "dtype: int64"
       ]
      }
     ],
     "prompt_number": 74
    },
    {
     "cell_type": "code",
     "collapsed": false,
     "input": [
      "result.unstack()"
     ],
     "language": "python",
     "metadata": {},
     "outputs": [
      {
       "html": [
        "<div style=\"max-width:1500px;overflow:auto;\">\n",
        "<table border=\"1\" class=\"dataframe\">\n",
        "  <thead>\n",
        "    <tr style=\"text-align: right;\">\n",
        "      <th></th>\n",
        "      <th>a</th>\n",
        "      <th>b</th>\n",
        "      <th>f</th>\n",
        "      <th>g</th>\n",
        "    </tr>\n",
        "  </thead>\n",
        "  <tbody>\n",
        "    <tr>\n",
        "      <th>one</th>\n",
        "      <td>0</td>\n",
        "      <td>1</td>\n",
        "      <td>NaN</td>\n",
        "      <td>NaN</td>\n",
        "    </tr>\n",
        "    <tr>\n",
        "      <th>two</th>\n",
        "      <td>0</td>\n",
        "      <td>1</td>\n",
        "      <td>NaN</td>\n",
        "      <td>NaN</td>\n",
        "    </tr>\n",
        "    <tr>\n",
        "      <th>three</th>\n",
        "      <td>NaN</td>\n",
        "      <td>NaN</td>\n",
        "      <td>5</td>\n",
        "      <td>6</td>\n",
        "    </tr>\n",
        "  </tbody>\n",
        "</table>\n",
        "</div>"
       ],
       "metadata": {},
       "output_type": "pyout",
       "prompt_number": 75,
       "text": [
        "        a   b   f   g\n",
        "one     0   1 NaN NaN\n",
        "two     0   1 NaN NaN\n",
        "three NaN NaN   5   6"
       ]
      }
     ],
     "prompt_number": 75
    },
    {
     "cell_type": "code",
     "collapsed": false,
     "input": [
      "print s1\n",
      "print s2\n",
      "print s3"
     ],
     "language": "python",
     "metadata": {},
     "outputs": [
      {
       "output_type": "stream",
       "stream": "stdout",
       "text": [
        "a    0\n",
        "b    1\n",
        "dtype: int64\n",
        "c    2\n",
        "d    3\n",
        "e    4\n",
        "dtype: int64\n",
        "f    5\n",
        "g    6\n",
        "dtype: int64\n"
       ]
      }
     ],
     "prompt_number": 76
    },
    {
     "cell_type": "code",
     "collapsed": false,
     "input": [
      "#Series\ub294 axis=1\ub85c \ubcd1\ud569\ud560 \uacbd\uc6b0 keys\ub294 DataFrame\uc758 column \uc81c\ubaa9\uc774 \ub41c\ub2e4.\n",
      "pd.concat([s1,s2,s3],axis=1,keys=['one','two','three'])"
     ],
     "language": "python",
     "metadata": {},
     "outputs": [
      {
       "html": [
        "<div style=\"max-width:1500px;overflow:auto;\">\n",
        "<table border=\"1\" class=\"dataframe\">\n",
        "  <thead>\n",
        "    <tr style=\"text-align: right;\">\n",
        "      <th></th>\n",
        "      <th>one</th>\n",
        "      <th>two</th>\n",
        "      <th>three</th>\n",
        "    </tr>\n",
        "  </thead>\n",
        "  <tbody>\n",
        "    <tr>\n",
        "      <th>a</th>\n",
        "      <td>0</td>\n",
        "      <td>NaN</td>\n",
        "      <td>NaN</td>\n",
        "    </tr>\n",
        "    <tr>\n",
        "      <th>b</th>\n",
        "      <td>1</td>\n",
        "      <td>NaN</td>\n",
        "      <td>NaN</td>\n",
        "    </tr>\n",
        "    <tr>\n",
        "      <th>c</th>\n",
        "      <td>NaN</td>\n",
        "      <td>2</td>\n",
        "      <td>NaN</td>\n",
        "    </tr>\n",
        "    <tr>\n",
        "      <th>d</th>\n",
        "      <td>NaN</td>\n",
        "      <td>3</td>\n",
        "      <td>NaN</td>\n",
        "    </tr>\n",
        "    <tr>\n",
        "      <th>e</th>\n",
        "      <td>NaN</td>\n",
        "      <td>4</td>\n",
        "      <td>NaN</td>\n",
        "    </tr>\n",
        "    <tr>\n",
        "      <th>f</th>\n",
        "      <td>NaN</td>\n",
        "      <td>NaN</td>\n",
        "      <td>5</td>\n",
        "    </tr>\n",
        "    <tr>\n",
        "      <th>g</th>\n",
        "      <td>NaN</td>\n",
        "      <td>NaN</td>\n",
        "      <td>6</td>\n",
        "    </tr>\n",
        "  </tbody>\n",
        "</table>\n",
        "</div>"
       ],
       "metadata": {},
       "output_type": "pyout",
       "prompt_number": 77,
       "text": [
        "   one  two  three\n",
        "a    0  NaN    NaN\n",
        "b    1  NaN    NaN\n",
        "c  NaN    2    NaN\n",
        "d  NaN    3    NaN\n",
        "e  NaN    4    NaN\n",
        "f  NaN  NaN      5\n",
        "g  NaN  NaN      6"
       ]
      }
     ],
     "prompt_number": 77
    },
    {
     "cell_type": "code",
     "collapsed": false,
     "input": [
      "df1 = DataFrame(np.arange(6).reshape(3,2), index=['a','b','c'],columns=['one','two'])"
     ],
     "language": "python",
     "metadata": {},
     "outputs": [],
     "prompt_number": 78
    },
    {
     "cell_type": "code",
     "collapsed": false,
     "input": [
      "df1"
     ],
     "language": "python",
     "metadata": {},
     "outputs": [
      {
       "html": [
        "<div style=\"max-width:1500px;overflow:auto;\">\n",
        "<table border=\"1\" class=\"dataframe\">\n",
        "  <thead>\n",
        "    <tr style=\"text-align: right;\">\n",
        "      <th></th>\n",
        "      <th>one</th>\n",
        "      <th>two</th>\n",
        "    </tr>\n",
        "  </thead>\n",
        "  <tbody>\n",
        "    <tr>\n",
        "      <th>a</th>\n",
        "      <td>0</td>\n",
        "      <td>1</td>\n",
        "    </tr>\n",
        "    <tr>\n",
        "      <th>b</th>\n",
        "      <td>2</td>\n",
        "      <td>3</td>\n",
        "    </tr>\n",
        "    <tr>\n",
        "      <th>c</th>\n",
        "      <td>4</td>\n",
        "      <td>5</td>\n",
        "    </tr>\n",
        "  </tbody>\n",
        "</table>\n",
        "</div>"
       ],
       "metadata": {},
       "output_type": "pyout",
       "prompt_number": 79,
       "text": [
        "   one  two\n",
        "a    0    1\n",
        "b    2    3\n",
        "c    4    5"
       ]
      }
     ],
     "prompt_number": 79
    },
    {
     "cell_type": "code",
     "collapsed": false,
     "input": [
      "df2 = DataFrame(5+np.arange(4).reshape(2,2), index=['a','c'], columns=['three','four'])"
     ],
     "language": "python",
     "metadata": {},
     "outputs": [],
     "prompt_number": 80
    },
    {
     "cell_type": "code",
     "collapsed": false,
     "input": [
      "df2"
     ],
     "language": "python",
     "metadata": {},
     "outputs": [
      {
       "html": [
        "<div style=\"max-width:1500px;overflow:auto;\">\n",
        "<table border=\"1\" class=\"dataframe\">\n",
        "  <thead>\n",
        "    <tr style=\"text-align: right;\">\n",
        "      <th></th>\n",
        "      <th>three</th>\n",
        "      <th>four</th>\n",
        "    </tr>\n",
        "  </thead>\n",
        "  <tbody>\n",
        "    <tr>\n",
        "      <th>a</th>\n",
        "      <td>5</td>\n",
        "      <td>6</td>\n",
        "    </tr>\n",
        "    <tr>\n",
        "      <th>c</th>\n",
        "      <td>7</td>\n",
        "      <td>8</td>\n",
        "    </tr>\n",
        "  </tbody>\n",
        "</table>\n",
        "</div>"
       ],
       "metadata": {},
       "output_type": "pyout",
       "prompt_number": 81,
       "text": [
        "   three  four\n",
        "a      5     6\n",
        "c      7     8"
       ]
      }
     ],
     "prompt_number": 81
    },
    {
     "cell_type": "code",
     "collapsed": false,
     "input": [
      "pd.concat([df1,df2],axis=1,keys=['level1','level2'])"
     ],
     "language": "python",
     "metadata": {},
     "outputs": [
      {
       "html": [
        "<div style=\"max-width:1500px;overflow:auto;\">\n",
        "<table border=\"1\" class=\"dataframe\">\n",
        "  <thead>\n",
        "    <tr>\n",
        "      <th></th>\n",
        "      <th colspan=\"2\" halign=\"left\">level1</th>\n",
        "      <th colspan=\"2\" halign=\"left\">level2</th>\n",
        "    </tr>\n",
        "    <tr>\n",
        "      <th></th>\n",
        "      <th>one</th>\n",
        "      <th>two</th>\n",
        "      <th>three</th>\n",
        "      <th>four</th>\n",
        "    </tr>\n",
        "  </thead>\n",
        "  <tbody>\n",
        "    <tr>\n",
        "      <th>a</th>\n",
        "      <td>0</td>\n",
        "      <td>1</td>\n",
        "      <td>5</td>\n",
        "      <td>6</td>\n",
        "    </tr>\n",
        "    <tr>\n",
        "      <th>b</th>\n",
        "      <td>2</td>\n",
        "      <td>3</td>\n",
        "      <td>NaN</td>\n",
        "      <td>NaN</td>\n",
        "    </tr>\n",
        "    <tr>\n",
        "      <th>c</th>\n",
        "      <td>4</td>\n",
        "      <td>5</td>\n",
        "      <td>7</td>\n",
        "      <td>8</td>\n",
        "    </tr>\n",
        "  </tbody>\n",
        "</table>\n",
        "</div>"
       ],
       "metadata": {},
       "output_type": "pyout",
       "prompt_number": 82,
       "text": [
        "  level1     level2     \n",
        "     one two  three four\n",
        "a      0   1      5    6\n",
        "b      2   3    NaN  NaN\n",
        "c      4   5      7    8"
       ]
      }
     ],
     "prompt_number": 82
    },
    {
     "cell_type": "code",
     "collapsed": false,
     "input": [
      "pd.concat([df1,df2],axis=1,keys=['level1','level2'])"
     ],
     "language": "python",
     "metadata": {},
     "outputs": [
      {
       "html": [
        "<div style=\"max-width:1500px;overflow:auto;\">\n",
        "<table border=\"1\" class=\"dataframe\">\n",
        "  <thead>\n",
        "    <tr>\n",
        "      <th></th>\n",
        "      <th colspan=\"2\" halign=\"left\">level1</th>\n",
        "      <th colspan=\"2\" halign=\"left\">level2</th>\n",
        "    </tr>\n",
        "    <tr>\n",
        "      <th></th>\n",
        "      <th>one</th>\n",
        "      <th>two</th>\n",
        "      <th>three</th>\n",
        "      <th>four</th>\n",
        "    </tr>\n",
        "  </thead>\n",
        "  <tbody>\n",
        "    <tr>\n",
        "      <th>a</th>\n",
        "      <td>0</td>\n",
        "      <td>1</td>\n",
        "      <td>5</td>\n",
        "      <td>6</td>\n",
        "    </tr>\n",
        "    <tr>\n",
        "      <th>b</th>\n",
        "      <td>2</td>\n",
        "      <td>3</td>\n",
        "      <td>NaN</td>\n",
        "      <td>NaN</td>\n",
        "    </tr>\n",
        "    <tr>\n",
        "      <th>c</th>\n",
        "      <td>4</td>\n",
        "      <td>5</td>\n",
        "      <td>7</td>\n",
        "      <td>8</td>\n",
        "    </tr>\n",
        "  </tbody>\n",
        "</table>\n",
        "</div>"
       ],
       "metadata": {},
       "output_type": "pyout",
       "prompt_number": 83,
       "text": [
        "  level1     level2     \n",
        "     one two  three four\n",
        "a      0   1      5    6\n",
        "b      2   3    NaN  NaN\n",
        "c      4   5      7    8"
       ]
      }
     ],
     "prompt_number": 83
    },
    {
     "cell_type": "code",
     "collapsed": false,
     "input": [
      "pd.concat({'level1':df1,'level2':df2},axis=1)"
     ],
     "language": "python",
     "metadata": {},
     "outputs": [
      {
       "html": [
        "<div style=\"max-width:1500px;overflow:auto;\">\n",
        "<table border=\"1\" class=\"dataframe\">\n",
        "  <thead>\n",
        "    <tr>\n",
        "      <th></th>\n",
        "      <th colspan=\"2\" halign=\"left\">level1</th>\n",
        "      <th colspan=\"2\" halign=\"left\">level2</th>\n",
        "    </tr>\n",
        "    <tr>\n",
        "      <th></th>\n",
        "      <th>one</th>\n",
        "      <th>two</th>\n",
        "      <th>three</th>\n",
        "      <th>four</th>\n",
        "    </tr>\n",
        "  </thead>\n",
        "  <tbody>\n",
        "    <tr>\n",
        "      <th>a</th>\n",
        "      <td>0</td>\n",
        "      <td>1</td>\n",
        "      <td>5</td>\n",
        "      <td>6</td>\n",
        "    </tr>\n",
        "    <tr>\n",
        "      <th>b</th>\n",
        "      <td>2</td>\n",
        "      <td>3</td>\n",
        "      <td>NaN</td>\n",
        "      <td>NaN</td>\n",
        "    </tr>\n",
        "    <tr>\n",
        "      <th>c</th>\n",
        "      <td>4</td>\n",
        "      <td>5</td>\n",
        "      <td>7</td>\n",
        "      <td>8</td>\n",
        "    </tr>\n",
        "  </tbody>\n",
        "</table>\n",
        "</div>"
       ],
       "metadata": {},
       "output_type": "pyout",
       "prompt_number": 84,
       "text": [
        "  level1     level2     \n",
        "     one two  three four\n",
        "a      0   1      5    6\n",
        "b      2   3    NaN  NaN\n",
        "c      4   5      7    8"
       ]
      }
     ],
     "prompt_number": 84
    },
    {
     "cell_type": "code",
     "collapsed": false,
     "input": [
      "pd.concat([df1,df2],axis=1,keys=['level1','level2'],names=['upper','lower'])"
     ],
     "language": "python",
     "metadata": {},
     "outputs": [
      {
       "html": [
        "<div style=\"max-width:1500px;overflow:auto;\">\n",
        "<table border=\"1\" class=\"dataframe\">\n",
        "  <thead>\n",
        "    <tr>\n",
        "      <th>upper</th>\n",
        "      <th colspan=\"2\" halign=\"left\">level1</th>\n",
        "      <th colspan=\"2\" halign=\"left\">level2</th>\n",
        "    </tr>\n",
        "    <tr>\n",
        "      <th>lower</th>\n",
        "      <th>one</th>\n",
        "      <th>two</th>\n",
        "      <th>three</th>\n",
        "      <th>four</th>\n",
        "    </tr>\n",
        "  </thead>\n",
        "  <tbody>\n",
        "    <tr>\n",
        "      <th>a</th>\n",
        "      <td>0</td>\n",
        "      <td>1</td>\n",
        "      <td>5</td>\n",
        "      <td>6</td>\n",
        "    </tr>\n",
        "    <tr>\n",
        "      <th>b</th>\n",
        "      <td>2</td>\n",
        "      <td>3</td>\n",
        "      <td>NaN</td>\n",
        "      <td>NaN</td>\n",
        "    </tr>\n",
        "    <tr>\n",
        "      <th>c</th>\n",
        "      <td>4</td>\n",
        "      <td>5</td>\n",
        "      <td>7</td>\n",
        "      <td>8</td>\n",
        "    </tr>\n",
        "  </tbody>\n",
        "</table>\n",
        "</div>"
       ],
       "metadata": {},
       "output_type": "pyout",
       "prompt_number": 85,
       "text": [
        "upper level1     level2     \n",
        "lower    one two  three four\n",
        "a          0   1      5    6\n",
        "b          2   3    NaN  NaN\n",
        "c          4   5      7    8"
       ]
      }
     ],
     "prompt_number": 85
    },
    {
     "cell_type": "code",
     "collapsed": true,
     "input": [
      "df1 = DataFrame(np.random.randn(3,4),columns=['a','b','c','d'])"
     ],
     "language": "python",
     "metadata": {},
     "outputs": [],
     "prompt_number": 86
    },
    {
     "cell_type": "code",
     "collapsed": true,
     "input": [
      "df2 = DataFrame(np.random.randn(2,3),columns=['b','d','a'])"
     ],
     "language": "python",
     "metadata": {},
     "outputs": [],
     "prompt_number": 87
    },
    {
     "cell_type": "code",
     "collapsed": false,
     "input": [
      "df1"
     ],
     "language": "python",
     "metadata": {},
     "outputs": [
      {
       "html": [
        "<div style=\"max-width:1500px;overflow:auto;\">\n",
        "<table border=\"1\" class=\"dataframe\">\n",
        "  <thead>\n",
        "    <tr style=\"text-align: right;\">\n",
        "      <th></th>\n",
        "      <th>a</th>\n",
        "      <th>b</th>\n",
        "      <th>c</th>\n",
        "      <th>d</th>\n",
        "    </tr>\n",
        "  </thead>\n",
        "  <tbody>\n",
        "    <tr>\n",
        "      <th>0</th>\n",
        "      <td>-1.353199</td>\n",
        "      <td>-1.249640</td>\n",
        "      <td>0.938079</td>\n",
        "      <td>-1.608567</td>\n",
        "    </tr>\n",
        "    <tr>\n",
        "      <th>1</th>\n",
        "      <td>-1.025248</td>\n",
        "      <td>-2.907438</td>\n",
        "      <td>1.179283</td>\n",
        "      <td>-2.456504</td>\n",
        "    </tr>\n",
        "    <tr>\n",
        "      <th>2</th>\n",
        "      <td>-1.368446</td>\n",
        "      <td>0.511598</td>\n",
        "      <td>-0.097602</td>\n",
        "      <td>0.845205</td>\n",
        "    </tr>\n",
        "  </tbody>\n",
        "</table>\n",
        "</div>"
       ],
       "metadata": {},
       "output_type": "pyout",
       "prompt_number": 88,
       "text": [
        "          a         b         c         d\n",
        "0 -1.353199 -1.249640  0.938079 -1.608567\n",
        "1 -1.025248 -2.907438  1.179283 -2.456504\n",
        "2 -1.368446  0.511598 -0.097602  0.845205"
       ]
      }
     ],
     "prompt_number": 88
    },
    {
     "cell_type": "code",
     "collapsed": false,
     "input": [
      "df2"
     ],
     "language": "python",
     "metadata": {},
     "outputs": [
      {
       "html": [
        "<div style=\"max-width:1500px;overflow:auto;\">\n",
        "<table border=\"1\" class=\"dataframe\">\n",
        "  <thead>\n",
        "    <tr style=\"text-align: right;\">\n",
        "      <th></th>\n",
        "      <th>b</th>\n",
        "      <th>d</th>\n",
        "      <th>a</th>\n",
        "    </tr>\n",
        "  </thead>\n",
        "  <tbody>\n",
        "    <tr>\n",
        "      <th>0</th>\n",
        "      <td>1.052961</td>\n",
        "      <td>0.064623</td>\n",
        "      <td>-1.034315</td>\n",
        "    </tr>\n",
        "    <tr>\n",
        "      <th>1</th>\n",
        "      <td>2.041800</td>\n",
        "      <td>-0.159723</td>\n",
        "      <td>0.501841</td>\n",
        "    </tr>\n",
        "  </tbody>\n",
        "</table>\n",
        "</div>"
       ],
       "metadata": {},
       "output_type": "pyout",
       "prompt_number": 89,
       "text": [
        "          b         d         a\n",
        "0  1.052961  0.064623 -1.034315\n",
        "1  2.041800 -0.159723  0.501841"
       ]
      }
     ],
     "prompt_number": 89
    },
    {
     "cell_type": "code",
     "collapsed": false,
     "input": [
      "pd.concat([df1,df2])"
     ],
     "language": "python",
     "metadata": {},
     "outputs": [
      {
       "html": [
        "<div style=\"max-width:1500px;overflow:auto;\">\n",
        "<table border=\"1\" class=\"dataframe\">\n",
        "  <thead>\n",
        "    <tr style=\"text-align: right;\">\n",
        "      <th></th>\n",
        "      <th>a</th>\n",
        "      <th>b</th>\n",
        "      <th>c</th>\n",
        "      <th>d</th>\n",
        "    </tr>\n",
        "  </thead>\n",
        "  <tbody>\n",
        "    <tr>\n",
        "      <th>0</th>\n",
        "      <td>-1.353199</td>\n",
        "      <td>-1.249640</td>\n",
        "      <td>0.938079</td>\n",
        "      <td>-1.608567</td>\n",
        "    </tr>\n",
        "    <tr>\n",
        "      <th>1</th>\n",
        "      <td>-1.025248</td>\n",
        "      <td>-2.907438</td>\n",
        "      <td>1.179283</td>\n",
        "      <td>-2.456504</td>\n",
        "    </tr>\n",
        "    <tr>\n",
        "      <th>2</th>\n",
        "      <td>-1.368446</td>\n",
        "      <td>0.511598</td>\n",
        "      <td>-0.097602</td>\n",
        "      <td>0.845205</td>\n",
        "    </tr>\n",
        "    <tr>\n",
        "      <th>0</th>\n",
        "      <td>-1.034315</td>\n",
        "      <td>1.052961</td>\n",
        "      <td>NaN</td>\n",
        "      <td>0.064623</td>\n",
        "    </tr>\n",
        "    <tr>\n",
        "      <th>1</th>\n",
        "      <td>0.501841</td>\n",
        "      <td>2.041800</td>\n",
        "      <td>NaN</td>\n",
        "      <td>-0.159723</td>\n",
        "    </tr>\n",
        "  </tbody>\n",
        "</table>\n",
        "</div>"
       ],
       "metadata": {},
       "output_type": "pyout",
       "prompt_number": 90,
       "text": [
        "          a         b         c         d\n",
        "0 -1.353199 -1.249640  0.938079 -1.608567\n",
        "1 -1.025248 -2.907438  1.179283 -2.456504\n",
        "2 -1.368446  0.511598 -0.097602  0.845205\n",
        "0 -1.034315  1.052961       NaN  0.064623\n",
        "1  0.501841  2.041800       NaN -0.159723"
       ]
      }
     ],
     "prompt_number": 90
    },
    {
     "cell_type": "code",
     "collapsed": false,
     "input": [
      "#ignore_index\ub294 \ub85c\uc6b0\uc0c9\uc778\uc774 \ud544\uc694\uc5c6\ub294 \uacbd\uc6b0 \uc0ac\uc6a9\n",
      "pd.concat([df1,df2],ignore_index=True)"
     ],
     "language": "python",
     "metadata": {},
     "outputs": [
      {
       "html": [
        "<div style=\"max-width:1500px;overflow:auto;\">\n",
        "<table border=\"1\" class=\"dataframe\">\n",
        "  <thead>\n",
        "    <tr style=\"text-align: right;\">\n",
        "      <th></th>\n",
        "      <th>a</th>\n",
        "      <th>b</th>\n",
        "      <th>c</th>\n",
        "      <th>d</th>\n",
        "    </tr>\n",
        "  </thead>\n",
        "  <tbody>\n",
        "    <tr>\n",
        "      <th>0</th>\n",
        "      <td>-1.353199</td>\n",
        "      <td>-1.249640</td>\n",
        "      <td>0.938079</td>\n",
        "      <td>-1.608567</td>\n",
        "    </tr>\n",
        "    <tr>\n",
        "      <th>1</th>\n",
        "      <td>-1.025248</td>\n",
        "      <td>-2.907438</td>\n",
        "      <td>1.179283</td>\n",
        "      <td>-2.456504</td>\n",
        "    </tr>\n",
        "    <tr>\n",
        "      <th>2</th>\n",
        "      <td>-1.368446</td>\n",
        "      <td>0.511598</td>\n",
        "      <td>-0.097602</td>\n",
        "      <td>0.845205</td>\n",
        "    </tr>\n",
        "    <tr>\n",
        "      <th>3</th>\n",
        "      <td>-1.034315</td>\n",
        "      <td>1.052961</td>\n",
        "      <td>NaN</td>\n",
        "      <td>0.064623</td>\n",
        "    </tr>\n",
        "    <tr>\n",
        "      <th>4</th>\n",
        "      <td>0.501841</td>\n",
        "      <td>2.041800</td>\n",
        "      <td>NaN</td>\n",
        "      <td>-0.159723</td>\n",
        "    </tr>\n",
        "  </tbody>\n",
        "</table>\n",
        "</div>"
       ],
       "metadata": {},
       "output_type": "pyout",
       "prompt_number": 91,
       "text": [
        "          a         b         c         d\n",
        "0 -1.353199 -1.249640  0.938079 -1.608567\n",
        "1 -1.025248 -2.907438  1.179283 -2.456504\n",
        "2 -1.368446  0.511598 -0.097602  0.845205\n",
        "3 -1.034315  1.052961       NaN  0.064623\n",
        "4  0.501841  2.041800       NaN -0.159723"
       ]
      }
     ],
     "prompt_number": 91
    },
    {
     "cell_type": "heading",
     "level": 3,
     "metadata": {},
     "source": [
      "7.1.4 \uacb9\uce58\ub294 \ub370\uc774\ud130 \ud569\uce58\uae30"
     ]
    },
    {
     "cell_type": "code",
     "collapsed": true,
     "input": [
      "a = Series([np.nan,2.5,np.nan,3.5,4.5,np.nan],\n",
      "           index=['f','e','d','c','b','a'])"
     ],
     "language": "python",
     "metadata": {},
     "outputs": [],
     "prompt_number": 92
    },
    {
     "cell_type": "code",
     "collapsed": false,
     "input": [
      "a"
     ],
     "language": "python",
     "metadata": {},
     "outputs": [
      {
       "metadata": {},
       "output_type": "pyout",
       "prompt_number": 93,
       "text": [
        "f    NaN\n",
        "e    2.5\n",
        "d    NaN\n",
        "c    3.5\n",
        "b    4.5\n",
        "a    NaN\n",
        "dtype: float64"
       ]
      }
     ],
     "prompt_number": 93
    },
    {
     "cell_type": "code",
     "collapsed": true,
     "input": [
      "b = Series(np.arange(len(a),dtype=np.float64),\n",
      "            index=['f','e','d','c','b','a'])"
     ],
     "language": "python",
     "metadata": {},
     "outputs": [],
     "prompt_number": 94
    },
    {
     "cell_type": "code",
     "collapsed": true,
     "input": [
      "b[-1] = np.nan"
     ],
     "language": "python",
     "metadata": {},
     "outputs": [],
     "prompt_number": 95
    },
    {
     "cell_type": "code",
     "collapsed": false,
     "input": [
      "b"
     ],
     "language": "python",
     "metadata": {},
     "outputs": [
      {
       "metadata": {},
       "output_type": "pyout",
       "prompt_number": 96,
       "text": [
        "f     0\n",
        "e     1\n",
        "d     2\n",
        "c     3\n",
        "b     4\n",
        "a   NaN\n",
        "dtype: float64"
       ]
      }
     ],
     "prompt_number": 96
    },
    {
     "cell_type": "code",
     "collapsed": false,
     "input": [
      "#numpy.where \ud568\uc218\ub294 'x if \uc870\uac74 else y' \uac19\uc740 \uc0bc\ud56d\uc2dd\uc758 \ubca1\ud130\ud654\ub41c \ubc84\uc804(\uc870\uac74,\ucc38,\uac70\uc9d3)\n",
      "np.where(pd.isnull(a),b,a)"
     ],
     "language": "python",
     "metadata": {},
     "outputs": [
      {
       "metadata": {},
       "output_type": "pyout",
       "prompt_number": 97,
       "text": [
        "array([ 0. ,  2.5,  2. ,  3.5,  4.5,  nan])"
       ]
      }
     ],
     "prompt_number": 97
    },
    {
     "cell_type": "code",
     "collapsed": false,
     "input": [
      "pd.isnull(a)"
     ],
     "language": "python",
     "metadata": {},
     "outputs": [
      {
       "metadata": {},
       "output_type": "pyout",
       "prompt_number": 98,
       "text": [
        "f     True\n",
        "e    False\n",
        "d     True\n",
        "c    False\n",
        "b    False\n",
        "a     True\n",
        "dtype: bool"
       ]
      }
     ],
     "prompt_number": 98
    },
    {
     "cell_type": "code",
     "collapsed": false,
     "input": [
      "b"
     ],
     "language": "python",
     "metadata": {},
     "outputs": [
      {
       "metadata": {},
       "output_type": "pyout",
       "prompt_number": 99,
       "text": [
        "f     0\n",
        "e     1\n",
        "d     2\n",
        "c     3\n",
        "b     4\n",
        "a   NaN\n",
        "dtype: float64"
       ]
      }
     ],
     "prompt_number": 99
    },
    {
     "cell_type": "code",
     "collapsed": false,
     "input": [
      "a"
     ],
     "language": "python",
     "metadata": {},
     "outputs": [
      {
       "metadata": {},
       "output_type": "pyout",
       "prompt_number": 100,
       "text": [
        "f    NaN\n",
        "e    2.5\n",
        "d    NaN\n",
        "c    3.5\n",
        "b    4.5\n",
        "a    NaN\n",
        "dtype: float64"
       ]
      }
     ],
     "prompt_number": 100
    },
    {
     "cell_type": "code",
     "collapsed": false,
     "input": [
      "#b[:-2]\uc5d0 a[2:]\ub97c combine\n",
      "b[:-2].combine_first(a[2:])"
     ],
     "language": "python",
     "metadata": {},
     "outputs": [
      {
       "metadata": {},
       "output_type": "pyout",
       "prompt_number": 101,
       "text": [
        "a    NaN\n",
        "b    4.5\n",
        "c    3.0\n",
        "d    2.0\n",
        "e    1.0\n",
        "f    0.0\n",
        "dtype: float64"
       ]
      }
     ],
     "prompt_number": 101
    },
    {
     "cell_type": "code",
     "collapsed": true,
     "input": [
      "df1 = DataFrame({'a':[1.,np.nan,5.,np.nan],\n",
      "                 'b':[np.nan,2.,np.nan,6.],\n",
      "                 'c':range(2,18,4)})"
     ],
     "language": "python",
     "metadata": {},
     "outputs": [],
     "prompt_number": 102
    },
    {
     "cell_type": "code",
     "collapsed": true,
     "input": [
      "df2 = DataFrame({'a':[5.,4.,np.nan,3.,7.],\n",
      "                 'b':[np.nan,3.,4.,6.,8.]})"
     ],
     "language": "python",
     "metadata": {},
     "outputs": [],
     "prompt_number": 103
    },
    {
     "cell_type": "code",
     "collapsed": false,
     "input": [
      "print df1\n",
      "print\n",
      "print df2"
     ],
     "language": "python",
     "metadata": {},
     "outputs": [
      {
       "output_type": "stream",
       "stream": "stdout",
       "text": [
        "    a   b   c\n",
        "0   1 NaN   2\n",
        "1 NaN   2   6\n",
        "2   5 NaN  10\n",
        "3 NaN   6  14\n",
        "\n",
        "    a   b\n",
        "0   5 NaN\n",
        "1   4   3\n",
        "2 NaN   4\n",
        "3   3   6\n",
        "4   7   8\n"
       ]
      }
     ],
     "prompt_number": 104
    },
    {
     "cell_type": "code",
     "collapsed": false,
     "input": [
      "df1.combine_first(df2)"
     ],
     "language": "python",
     "metadata": {},
     "outputs": [
      {
       "html": [
        "<div style=\"max-width:1500px;overflow:auto;\">\n",
        "<table border=\"1\" class=\"dataframe\">\n",
        "  <thead>\n",
        "    <tr style=\"text-align: right;\">\n",
        "      <th></th>\n",
        "      <th>a</th>\n",
        "      <th>b</th>\n",
        "      <th>c</th>\n",
        "    </tr>\n",
        "  </thead>\n",
        "  <tbody>\n",
        "    <tr>\n",
        "      <th>0</th>\n",
        "      <td>1</td>\n",
        "      <td>NaN</td>\n",
        "      <td>2</td>\n",
        "    </tr>\n",
        "    <tr>\n",
        "      <th>1</th>\n",
        "      <td>4</td>\n",
        "      <td>2</td>\n",
        "      <td>6</td>\n",
        "    </tr>\n",
        "    <tr>\n",
        "      <th>2</th>\n",
        "      <td>5</td>\n",
        "      <td>4</td>\n",
        "      <td>10</td>\n",
        "    </tr>\n",
        "    <tr>\n",
        "      <th>3</th>\n",
        "      <td>3</td>\n",
        "      <td>6</td>\n",
        "      <td>14</td>\n",
        "    </tr>\n",
        "    <tr>\n",
        "      <th>4</th>\n",
        "      <td>7</td>\n",
        "      <td>8</td>\n",
        "      <td>NaN</td>\n",
        "    </tr>\n",
        "  </tbody>\n",
        "</table>\n",
        "</div>"
       ],
       "metadata": {},
       "output_type": "pyout",
       "prompt_number": 105,
       "text": [
        "   a   b   c\n",
        "0  1 NaN   2\n",
        "1  4   2   6\n",
        "2  5   4  10\n",
        "3  3   6  14\n",
        "4  7   8 NaN"
       ]
      }
     ],
     "prompt_number": 105
    },
    {
     "cell_type": "markdown",
     "metadata": {},
     "source": [
      "##7.2 \uc7ac\ud615\uc131\uacfc \ud53c\ubc97\n",
      "- \ud45c \ud615\uc2dd\uc758 \ub370\uc774\ud130\ub97c \uc7ac\ubc30\uce58\ud558\ub294 \ub2e4\uc591\ud55c \uc5f0\uc0b0\uc744 **\uc7ac\ud615\uc131** \uc774\ub77c\uace0 \ud568"
     ]
    },
    {
     "cell_type": "markdown",
     "metadata": {
      "collapsed": true
     },
     "source": [
      "###7.2.1 \uacc4\uce35\uc801 \uc0c9\uc778\uc73c\ub85c \uc7ac\ud615\uc131\ud558\uae30\n",
      "- stack : \ub370\uc774\ud130\uc758 column\uc744 row\ub85c \ud53c\ubc97(\ud68c\uc804)\n",
      "- unstack : \ub370\uc774\ud130\uc758 row\ub97c column\uc73c\ub85c \ud53c\ubc97(\ud68c\uc804)"
     ]
    },
    {
     "cell_type": "code",
     "collapsed": false,
     "input": [
      "data = DataFrame(np.arange(6).reshape(2,3),\n",
      "                 index=pd.Index(['Ohio','Colorado'],name='state'),\n",
      "                 columns=pd.Index(['one','two','three'],name='number'))"
     ],
     "language": "python",
     "metadata": {},
     "outputs": [],
     "prompt_number": 106
    },
    {
     "cell_type": "code",
     "collapsed": false,
     "input": [
      "data"
     ],
     "language": "python",
     "metadata": {},
     "outputs": [
      {
       "html": [
        "<div style=\"max-width:1500px;overflow:auto;\">\n",
        "<table border=\"1\" class=\"dataframe\">\n",
        "  <thead>\n",
        "    <tr style=\"text-align: right;\">\n",
        "      <th>number</th>\n",
        "      <th>one</th>\n",
        "      <th>two</th>\n",
        "      <th>three</th>\n",
        "    </tr>\n",
        "    <tr>\n",
        "      <th>state</th>\n",
        "      <th></th>\n",
        "      <th></th>\n",
        "      <th></th>\n",
        "    </tr>\n",
        "  </thead>\n",
        "  <tbody>\n",
        "    <tr>\n",
        "      <th>Ohio</th>\n",
        "      <td>0</td>\n",
        "      <td>1</td>\n",
        "      <td>2</td>\n",
        "    </tr>\n",
        "    <tr>\n",
        "      <th>Colorado</th>\n",
        "      <td>3</td>\n",
        "      <td>4</td>\n",
        "      <td>5</td>\n",
        "    </tr>\n",
        "  </tbody>\n",
        "</table>\n",
        "</div>"
       ],
       "metadata": {},
       "output_type": "pyout",
       "prompt_number": 107,
       "text": [
        "number    one  two  three\n",
        "state                    \n",
        "Ohio        0    1      2\n",
        "Colorado    3    4      5"
       ]
      }
     ],
     "prompt_number": 107
    },
    {
     "cell_type": "code",
     "collapsed": false,
     "input": [
      "#data\uc758 column\uc744 row\ub85c \ud53c\ubc97\n",
      "result = data.stack()"
     ],
     "language": "python",
     "metadata": {},
     "outputs": [],
     "prompt_number": 108
    },
    {
     "cell_type": "code",
     "collapsed": false,
     "input": [
      "result"
     ],
     "language": "python",
     "metadata": {},
     "outputs": [
      {
       "metadata": {},
       "output_type": "pyout",
       "prompt_number": 109,
       "text": [
        "state     number\n",
        "Ohio      one       0\n",
        "          two       1\n",
        "          three     2\n",
        "Colorado  one       3\n",
        "          two       4\n",
        "          three     5\n",
        "dtype: int32"
       ]
      }
     ],
     "prompt_number": 109
    },
    {
     "cell_type": "code",
     "collapsed": false,
     "input": [
      "#result\uc758 column\uc744 row\ub85c \ud53c\ubc97\n",
      "result.unstack()"
     ],
     "language": "python",
     "metadata": {},
     "outputs": [
      {
       "html": [
        "<div style=\"max-width:1500px;overflow:auto;\">\n",
        "<table border=\"1\" class=\"dataframe\">\n",
        "  <thead>\n",
        "    <tr style=\"text-align: right;\">\n",
        "      <th>number</th>\n",
        "      <th>one</th>\n",
        "      <th>two</th>\n",
        "      <th>three</th>\n",
        "    </tr>\n",
        "    <tr>\n",
        "      <th>state</th>\n",
        "      <th></th>\n",
        "      <th></th>\n",
        "      <th></th>\n",
        "    </tr>\n",
        "  </thead>\n",
        "  <tbody>\n",
        "    <tr>\n",
        "      <th>Ohio</th>\n",
        "      <td>0</td>\n",
        "      <td>1</td>\n",
        "      <td>2</td>\n",
        "    </tr>\n",
        "    <tr>\n",
        "      <th>Colorado</th>\n",
        "      <td>3</td>\n",
        "      <td>4</td>\n",
        "      <td>5</td>\n",
        "    </tr>\n",
        "  </tbody>\n",
        "</table>\n",
        "</div>"
       ],
       "metadata": {},
       "output_type": "pyout",
       "prompt_number": 110,
       "text": [
        "number    one  two  three\n",
        "state                    \n",
        "Ohio        0    1      2\n",
        "Colorado    3    4      5"
       ]
      }
     ],
     "prompt_number": 110
    },
    {
     "cell_type": "code",
     "collapsed": false,
     "input": [
      "result.unstack(0)"
     ],
     "language": "python",
     "metadata": {},
     "outputs": [
      {
       "html": [
        "<div style=\"max-width:1500px;overflow:auto;\">\n",
        "<table border=\"1\" class=\"dataframe\">\n",
        "  <thead>\n",
        "    <tr style=\"text-align: right;\">\n",
        "      <th>state</th>\n",
        "      <th>Ohio</th>\n",
        "      <th>Colorado</th>\n",
        "    </tr>\n",
        "    <tr>\n",
        "      <th>number</th>\n",
        "      <th></th>\n",
        "      <th></th>\n",
        "    </tr>\n",
        "  </thead>\n",
        "  <tbody>\n",
        "    <tr>\n",
        "      <th>one</th>\n",
        "      <td>0</td>\n",
        "      <td>3</td>\n",
        "    </tr>\n",
        "    <tr>\n",
        "      <th>two</th>\n",
        "      <td>1</td>\n",
        "      <td>4</td>\n",
        "    </tr>\n",
        "    <tr>\n",
        "      <th>three</th>\n",
        "      <td>2</td>\n",
        "      <td>5</td>\n",
        "    </tr>\n",
        "  </tbody>\n",
        "</table>\n",
        "</div>"
       ],
       "metadata": {},
       "output_type": "pyout",
       "prompt_number": 111,
       "text": [
        "state   Ohio  Colorado\n",
        "number                \n",
        "one        0         3\n",
        "two        1         4\n",
        "three      2         5"
       ]
      }
     ],
     "prompt_number": 111
    },
    {
     "cell_type": "code",
     "collapsed": false,
     "input": [
      "result.unstack('state')"
     ],
     "language": "python",
     "metadata": {},
     "outputs": [
      {
       "html": [
        "<div style=\"max-width:1500px;overflow:auto;\">\n",
        "<table border=\"1\" class=\"dataframe\">\n",
        "  <thead>\n",
        "    <tr style=\"text-align: right;\">\n",
        "      <th>state</th>\n",
        "      <th>Ohio</th>\n",
        "      <th>Colorado</th>\n",
        "    </tr>\n",
        "    <tr>\n",
        "      <th>number</th>\n",
        "      <th></th>\n",
        "      <th></th>\n",
        "    </tr>\n",
        "  </thead>\n",
        "  <tbody>\n",
        "    <tr>\n",
        "      <th>one</th>\n",
        "      <td>0</td>\n",
        "      <td>3</td>\n",
        "    </tr>\n",
        "    <tr>\n",
        "      <th>two</th>\n",
        "      <td>1</td>\n",
        "      <td>4</td>\n",
        "    </tr>\n",
        "    <tr>\n",
        "      <th>three</th>\n",
        "      <td>2</td>\n",
        "      <td>5</td>\n",
        "    </tr>\n",
        "  </tbody>\n",
        "</table>\n",
        "</div>"
       ],
       "metadata": {},
       "output_type": "pyout",
       "prompt_number": 112,
       "text": [
        "state   Ohio  Colorado\n",
        "number                \n",
        "one        0         3\n",
        "two        1         4\n",
        "three      2         5"
       ]
      }
     ],
     "prompt_number": 112
    },
    {
     "cell_type": "code",
     "collapsed": true,
     "input": [
      "s1 = Series([0,1,2,3],index=['a','b','c','d'])"
     ],
     "language": "python",
     "metadata": {},
     "outputs": [],
     "prompt_number": 113
    },
    {
     "cell_type": "code",
     "collapsed": true,
     "input": [
      "s2 = Series([4,5,6],index=['c','d','e'])"
     ],
     "language": "python",
     "metadata": {},
     "outputs": [],
     "prompt_number": 114
    },
    {
     "cell_type": "code",
     "collapsed": false,
     "input": [
      "print s1\n",
      "print s2"
     ],
     "language": "python",
     "metadata": {},
     "outputs": [
      {
       "output_type": "stream",
       "stream": "stdout",
       "text": [
        "a    0\n",
        "b    1\n",
        "c    2\n",
        "d    3\n",
        "dtype: int64\n",
        "c    4\n",
        "d    5\n",
        "e    6\n",
        "dtype: int64\n"
       ]
      }
     ],
     "prompt_number": 115
    },
    {
     "cell_type": "code",
     "collapsed": true,
     "input": [
      "data2 = pd.concat([s1,s2],keys=['one','two'])"
     ],
     "language": "python",
     "metadata": {},
     "outputs": [],
     "prompt_number": 116
    },
    {
     "cell_type": "code",
     "collapsed": false,
     "input": [
      "data2"
     ],
     "language": "python",
     "metadata": {
      "scrolled": true
     },
     "outputs": [
      {
       "metadata": {},
       "output_type": "pyout",
       "prompt_number": 117,
       "text": [
        "one  a    0\n",
        "     b    1\n",
        "     c    2\n",
        "     d    3\n",
        "two  c    4\n",
        "     d    5\n",
        "     e    6\n",
        "dtype: int64"
       ]
      }
     ],
     "prompt_number": 117
    },
    {
     "cell_type": "code",
     "collapsed": false,
     "input": [
      "data2.unstack()"
     ],
     "language": "python",
     "metadata": {},
     "outputs": [
      {
       "html": [
        "<div style=\"max-width:1500px;overflow:auto;\">\n",
        "<table border=\"1\" class=\"dataframe\">\n",
        "  <thead>\n",
        "    <tr style=\"text-align: right;\">\n",
        "      <th></th>\n",
        "      <th>a</th>\n",
        "      <th>b</th>\n",
        "      <th>c</th>\n",
        "      <th>d</th>\n",
        "      <th>e</th>\n",
        "    </tr>\n",
        "  </thead>\n",
        "  <tbody>\n",
        "    <tr>\n",
        "      <th>one</th>\n",
        "      <td>0</td>\n",
        "      <td>1</td>\n",
        "      <td>2</td>\n",
        "      <td>3</td>\n",
        "      <td>NaN</td>\n",
        "    </tr>\n",
        "    <tr>\n",
        "      <th>two</th>\n",
        "      <td>NaN</td>\n",
        "      <td>NaN</td>\n",
        "      <td>4</td>\n",
        "      <td>5</td>\n",
        "      <td>6</td>\n",
        "    </tr>\n",
        "  </tbody>\n",
        "</table>\n",
        "</div>"
       ],
       "metadata": {},
       "output_type": "pyout",
       "prompt_number": 118,
       "text": [
        "      a   b  c  d   e\n",
        "one   0   1  2  3 NaN\n",
        "two NaN NaN  4  5   6"
       ]
      }
     ],
     "prompt_number": 118
    },
    {
     "cell_type": "code",
     "collapsed": false,
     "input": [
      "data2.unstack().stack()"
     ],
     "language": "python",
     "metadata": {},
     "outputs": [
      {
       "metadata": {},
       "output_type": "pyout",
       "prompt_number": 119,
       "text": [
        "one  a    0\n",
        "     b    1\n",
        "     c    2\n",
        "     d    3\n",
        "two  c    4\n",
        "     d    5\n",
        "     e    6\n",
        "dtype: float64"
       ]
      }
     ],
     "prompt_number": 119
    },
    {
     "cell_type": "code",
     "collapsed": false,
     "input": [
      "data2.unstack().stack(dropna=False)"
     ],
     "language": "python",
     "metadata": {},
     "outputs": [
      {
       "metadata": {},
       "output_type": "pyout",
       "prompt_number": 120,
       "text": [
        "one  a     0\n",
        "     b     1\n",
        "     c     2\n",
        "     d     3\n",
        "     e   NaN\n",
        "two  a   NaN\n",
        "     b   NaN\n",
        "     c     4\n",
        "     d     5\n",
        "     e     6\n",
        "dtype: float64"
       ]
      }
     ],
     "prompt_number": 120
    },
    {
     "cell_type": "code",
     "collapsed": true,
     "input": [
      "df = DataFrame({'left':result,'right':result+5},\n",
      "              columns=pd.Index(['left','right'],name='side'))"
     ],
     "language": "python",
     "metadata": {},
     "outputs": [],
     "prompt_number": 121
    },
    {
     "cell_type": "code",
     "collapsed": false,
     "input": [
      "df"
     ],
     "language": "python",
     "metadata": {},
     "outputs": [
      {
       "html": [
        "<div style=\"max-width:1500px;overflow:auto;\">\n",
        "<table border=\"1\" class=\"dataframe\">\n",
        "  <thead>\n",
        "    <tr style=\"text-align: right;\">\n",
        "      <th></th>\n",
        "      <th>side</th>\n",
        "      <th>left</th>\n",
        "      <th>right</th>\n",
        "    </tr>\n",
        "    <tr>\n",
        "      <th>state</th>\n",
        "      <th>number</th>\n",
        "      <th></th>\n",
        "      <th></th>\n",
        "    </tr>\n",
        "  </thead>\n",
        "  <tbody>\n",
        "    <tr>\n",
        "      <th rowspan=\"3\" valign=\"top\">Ohio</th>\n",
        "      <th>one</th>\n",
        "      <td>0</td>\n",
        "      <td>5</td>\n",
        "    </tr>\n",
        "    <tr>\n",
        "      <th>two</th>\n",
        "      <td>1</td>\n",
        "      <td>6</td>\n",
        "    </tr>\n",
        "    <tr>\n",
        "      <th>three</th>\n",
        "      <td>2</td>\n",
        "      <td>7</td>\n",
        "    </tr>\n",
        "    <tr>\n",
        "      <th rowspan=\"3\" valign=\"top\">Colorado</th>\n",
        "      <th>one</th>\n",
        "      <td>3</td>\n",
        "      <td>8</td>\n",
        "    </tr>\n",
        "    <tr>\n",
        "      <th>two</th>\n",
        "      <td>4</td>\n",
        "      <td>9</td>\n",
        "    </tr>\n",
        "    <tr>\n",
        "      <th>three</th>\n",
        "      <td>5</td>\n",
        "      <td>10</td>\n",
        "    </tr>\n",
        "  </tbody>\n",
        "</table>\n",
        "</div>"
       ],
       "metadata": {},
       "output_type": "pyout",
       "prompt_number": 122,
       "text": [
        "side             left  right\n",
        "state    number             \n",
        "Ohio     one        0      5\n",
        "         two        1      6\n",
        "         three      2      7\n",
        "Colorado one        3      8\n",
        "         two        4      9\n",
        "         three      5     10"
       ]
      }
     ],
     "prompt_number": 122
    },
    {
     "cell_type": "code",
     "collapsed": false,
     "input": [
      "#row\uc758 'state'\ub97c column\uc73c\ub85c \ud53c\ubc97\n",
      "df.unstack('state')"
     ],
     "language": "python",
     "metadata": {},
     "outputs": [
      {
       "html": [
        "<div style=\"max-width:1500px;overflow:auto;\">\n",
        "<table border=\"1\" class=\"dataframe\">\n",
        "  <thead>\n",
        "    <tr>\n",
        "      <th>side</th>\n",
        "      <th colspan=\"2\" halign=\"left\">left</th>\n",
        "      <th colspan=\"2\" halign=\"left\">right</th>\n",
        "    </tr>\n",
        "    <tr>\n",
        "      <th>state</th>\n",
        "      <th>Ohio</th>\n",
        "      <th>Colorado</th>\n",
        "      <th>Ohio</th>\n",
        "      <th>Colorado</th>\n",
        "    </tr>\n",
        "    <tr>\n",
        "      <th>number</th>\n",
        "      <th></th>\n",
        "      <th></th>\n",
        "      <th></th>\n",
        "      <th></th>\n",
        "    </tr>\n",
        "  </thead>\n",
        "  <tbody>\n",
        "    <tr>\n",
        "      <th>one</th>\n",
        "      <td>0</td>\n",
        "      <td>3</td>\n",
        "      <td>5</td>\n",
        "      <td>8</td>\n",
        "    </tr>\n",
        "    <tr>\n",
        "      <th>two</th>\n",
        "      <td>1</td>\n",
        "      <td>4</td>\n",
        "      <td>6</td>\n",
        "      <td>9</td>\n",
        "    </tr>\n",
        "    <tr>\n",
        "      <th>three</th>\n",
        "      <td>2</td>\n",
        "      <td>5</td>\n",
        "      <td>7</td>\n",
        "      <td>10</td>\n",
        "    </tr>\n",
        "  </tbody>\n",
        "</table>\n",
        "</div>"
       ],
       "metadata": {},
       "output_type": "pyout",
       "prompt_number": 123,
       "text": [
        "side   left          right         \n",
        "state  Ohio Colorado  Ohio Colorado\n",
        "number                             \n",
        "one       0        3     5        8\n",
        "two       1        4     6        9\n",
        "three     2        5     7       10"
       ]
      }
     ],
     "prompt_number": 123
    },
    {
     "cell_type": "code",
     "collapsed": false,
     "input": [
      "#column\uc758 'side'\ub97c row\ub85c \ud53c\ubc97\n",
      "df.unstack('state').stack('side')"
     ],
     "language": "python",
     "metadata": {},
     "outputs": [
      {
       "html": [
        "<div style=\"max-width:1500px;overflow:auto;\">\n",
        "<table border=\"1\" class=\"dataframe\">\n",
        "  <thead>\n",
        "    <tr style=\"text-align: right;\">\n",
        "      <th></th>\n",
        "      <th>state</th>\n",
        "      <th>Ohio</th>\n",
        "      <th>Colorado</th>\n",
        "    </tr>\n",
        "    <tr>\n",
        "      <th>number</th>\n",
        "      <th>side</th>\n",
        "      <th></th>\n",
        "      <th></th>\n",
        "    </tr>\n",
        "  </thead>\n",
        "  <tbody>\n",
        "    <tr>\n",
        "      <th rowspan=\"2\" valign=\"top\">one</th>\n",
        "      <th>left</th>\n",
        "      <td>0</td>\n",
        "      <td>3</td>\n",
        "    </tr>\n",
        "    <tr>\n",
        "      <th>right</th>\n",
        "      <td>5</td>\n",
        "      <td>8</td>\n",
        "    </tr>\n",
        "    <tr>\n",
        "      <th rowspan=\"2\" valign=\"top\">two</th>\n",
        "      <th>left</th>\n",
        "      <td>1</td>\n",
        "      <td>4</td>\n",
        "    </tr>\n",
        "    <tr>\n",
        "      <th>right</th>\n",
        "      <td>6</td>\n",
        "      <td>9</td>\n",
        "    </tr>\n",
        "    <tr>\n",
        "      <th rowspan=\"2\" valign=\"top\">three</th>\n",
        "      <th>left</th>\n",
        "      <td>2</td>\n",
        "      <td>5</td>\n",
        "    </tr>\n",
        "    <tr>\n",
        "      <th>right</th>\n",
        "      <td>7</td>\n",
        "      <td>10</td>\n",
        "    </tr>\n",
        "  </tbody>\n",
        "</table>\n",
        "</div>"
       ],
       "metadata": {},
       "output_type": "pyout",
       "prompt_number": 124,
       "text": [
        "state         Ohio  Colorado\n",
        "number side                 \n",
        "one    left      0         3\n",
        "       right     5         8\n",
        "two    left      1         4\n",
        "       right     6         9\n",
        "three  left      2         5\n",
        "       right     7        10"
       ]
      }
     ],
     "prompt_number": 124
    },
    {
     "cell_type": "heading",
     "level": 3,
     "metadata": {},
     "source": [
      "7.2.2 \ud53c\ubc84\ud305\uc73c\ub85c \ub370\uc774\ud130 \ub098\uc5f4 \ubc29\uc2dd \ubc14\uafb8\uae30"
     ]
    },
    {
     "cell_type": "code",
     "collapsed": false,
     "input": [
      "ldata = pd.read_csv('ex_7_2_2.txt',header=None,names=['date','time','item','value'])"
     ],
     "language": "python",
     "metadata": {},
     "outputs": [],
     "prompt_number": 125
    },
    {
     "cell_type": "code",
     "collapsed": false,
     "input": [
      "ldata[:10]"
     ],
     "language": "python",
     "metadata": {},
     "outputs": [
      {
       "html": [
        "<div style=\"max-width:1500px;overflow:auto;\">\n",
        "<table border=\"1\" class=\"dataframe\">\n",
        "  <thead>\n",
        "    <tr style=\"text-align: right;\">\n",
        "      <th></th>\n",
        "      <th>date</th>\n",
        "      <th>time</th>\n",
        "      <th>item</th>\n",
        "      <th>value</th>\n",
        "    </tr>\n",
        "  </thead>\n",
        "  <tbody>\n",
        "    <tr>\n",
        "      <th>0</th>\n",
        "      <td>1959-03-31</td>\n",
        "      <td>00:00:00</td>\n",
        "      <td>realgdp</td>\n",
        "      <td>2710.349</td>\n",
        "    </tr>\n",
        "    <tr>\n",
        "      <th>1</th>\n",
        "      <td>1959-03-31</td>\n",
        "      <td>00:00:00</td>\n",
        "      <td>infl</td>\n",
        "      <td>0.000</td>\n",
        "    </tr>\n",
        "    <tr>\n",
        "      <th>2</th>\n",
        "      <td>1959-03-31</td>\n",
        "      <td>00:00:00</td>\n",
        "      <td>unemp</td>\n",
        "      <td>5.800</td>\n",
        "    </tr>\n",
        "    <tr>\n",
        "      <th>3</th>\n",
        "      <td>1959-06-30</td>\n",
        "      <td>00:00:00</td>\n",
        "      <td>realgdp</td>\n",
        "      <td>2778.801</td>\n",
        "    </tr>\n",
        "    <tr>\n",
        "      <th>4</th>\n",
        "      <td>1959-06-30</td>\n",
        "      <td>00:00:00</td>\n",
        "      <td>infl</td>\n",
        "      <td>2.340</td>\n",
        "    </tr>\n",
        "    <tr>\n",
        "      <th>5</th>\n",
        "      <td>1959-06-30</td>\n",
        "      <td>00:00:00</td>\n",
        "      <td>unemp</td>\n",
        "      <td>5.100</td>\n",
        "    </tr>\n",
        "    <tr>\n",
        "      <th>6</th>\n",
        "      <td>1959-09-30</td>\n",
        "      <td>00:00:00</td>\n",
        "      <td>realgdp</td>\n",
        "      <td>2775.488</td>\n",
        "    </tr>\n",
        "    <tr>\n",
        "      <th>7</th>\n",
        "      <td>1959-09-30</td>\n",
        "      <td>00:00:00</td>\n",
        "      <td>infl</td>\n",
        "      <td>2.740</td>\n",
        "    </tr>\n",
        "    <tr>\n",
        "      <th>8</th>\n",
        "      <td>1959-09-30</td>\n",
        "      <td>00:00:00</td>\n",
        "      <td>unemp</td>\n",
        "      <td>5.300</td>\n",
        "    </tr>\n",
        "    <tr>\n",
        "      <th>9</th>\n",
        "      <td>1959-12-31</td>\n",
        "      <td>00:00:00</td>\n",
        "      <td>realgdp</td>\n",
        "      <td>2785.204</td>\n",
        "    </tr>\n",
        "  </tbody>\n",
        "</table>\n",
        "</div>"
       ],
       "metadata": {},
       "output_type": "pyout",
       "prompt_number": 126,
       "text": [
        "         date      time     item     value\n",
        "0  1959-03-31  00:00:00  realgdp  2710.349\n",
        "1  1959-03-31  00:00:00     infl     0.000\n",
        "2  1959-03-31  00:00:00    unemp     5.800\n",
        "3  1959-06-30  00:00:00  realgdp  2778.801\n",
        "4  1959-06-30  00:00:00     infl     2.340\n",
        "5  1959-06-30  00:00:00    unemp     5.100\n",
        "6  1959-09-30  00:00:00  realgdp  2775.488\n",
        "7  1959-09-30  00:00:00     infl     2.740\n",
        "8  1959-09-30  00:00:00    unemp     5.300\n",
        "9  1959-12-31  00:00:00  realgdp  2785.204"
       ]
      }
     ],
     "prompt_number": 126
    },
    {
     "cell_type": "code",
     "collapsed": false,
     "input": [
      "#pivot(index,column,\ud45c\ud604\ud558\uace0 \uc2f6\uc740 \ub370\uc774\ud130)\n",
      "pivoted = ldata.pivot('date','item','value')"
     ],
     "language": "python",
     "metadata": {},
     "outputs": [],
     "prompt_number": 127
    },
    {
     "cell_type": "code",
     "collapsed": false,
     "input": [
      "pivoted.head()"
     ],
     "language": "python",
     "metadata": {},
     "outputs": [
      {
       "html": [
        "<div style=\"max-width:1500px;overflow:auto;\">\n",
        "<table border=\"1\" class=\"dataframe\">\n",
        "  <thead>\n",
        "    <tr style=\"text-align: right;\">\n",
        "      <th>item</th>\n",
        "      <th>infl</th>\n",
        "      <th>realgdp</th>\n",
        "      <th>unemp</th>\n",
        "    </tr>\n",
        "    <tr>\n",
        "      <th>date</th>\n",
        "      <th></th>\n",
        "      <th></th>\n",
        "      <th></th>\n",
        "    </tr>\n",
        "  </thead>\n",
        "  <tbody>\n",
        "    <tr>\n",
        "      <th>1959-03-31</th>\n",
        "      <td>0.00</td>\n",
        "      <td>2710.349</td>\n",
        "      <td>5.8</td>\n",
        "    </tr>\n",
        "    <tr>\n",
        "      <th>1959-06-30</th>\n",
        "      <td>2.34</td>\n",
        "      <td>2778.801</td>\n",
        "      <td>5.1</td>\n",
        "    </tr>\n",
        "    <tr>\n",
        "      <th>1959-09-30</th>\n",
        "      <td>2.74</td>\n",
        "      <td>2775.488</td>\n",
        "      <td>5.3</td>\n",
        "    </tr>\n",
        "    <tr>\n",
        "      <th>1959-12-31</th>\n",
        "      <td>NaN</td>\n",
        "      <td>2785.204</td>\n",
        "      <td>NaN</td>\n",
        "    </tr>\n",
        "  </tbody>\n",
        "</table>\n",
        "</div>"
       ],
       "metadata": {},
       "output_type": "pyout",
       "prompt_number": 128,
       "text": [
        "item        infl   realgdp  unemp\n",
        "date                             \n",
        "1959-03-31  0.00  2710.349    5.8\n",
        "1959-06-30  2.34  2778.801    5.1\n",
        "1959-09-30  2.74  2775.488    5.3\n",
        "1959-12-31   NaN  2785.204    NaN"
       ]
      }
     ],
     "prompt_number": 128
    },
    {
     "cell_type": "code",
     "collapsed": false,
     "input": [
      "ldata"
     ],
     "language": "python",
     "metadata": {},
     "outputs": [
      {
       "html": [
        "<div style=\"max-width:1500px;overflow:auto;\">\n",
        "<table border=\"1\" class=\"dataframe\">\n",
        "  <thead>\n",
        "    <tr style=\"text-align: right;\">\n",
        "      <th></th>\n",
        "      <th>date</th>\n",
        "      <th>time</th>\n",
        "      <th>item</th>\n",
        "      <th>value</th>\n",
        "    </tr>\n",
        "  </thead>\n",
        "  <tbody>\n",
        "    <tr>\n",
        "      <th>0</th>\n",
        "      <td>1959-03-31</td>\n",
        "      <td>00:00:00</td>\n",
        "      <td>realgdp</td>\n",
        "      <td>2710.349</td>\n",
        "    </tr>\n",
        "    <tr>\n",
        "      <th>1</th>\n",
        "      <td>1959-03-31</td>\n",
        "      <td>00:00:00</td>\n",
        "      <td>infl</td>\n",
        "      <td>0.000</td>\n",
        "    </tr>\n",
        "    <tr>\n",
        "      <th>2</th>\n",
        "      <td>1959-03-31</td>\n",
        "      <td>00:00:00</td>\n",
        "      <td>unemp</td>\n",
        "      <td>5.800</td>\n",
        "    </tr>\n",
        "    <tr>\n",
        "      <th>3</th>\n",
        "      <td>1959-06-30</td>\n",
        "      <td>00:00:00</td>\n",
        "      <td>realgdp</td>\n",
        "      <td>2778.801</td>\n",
        "    </tr>\n",
        "    <tr>\n",
        "      <th>4</th>\n",
        "      <td>1959-06-30</td>\n",
        "      <td>00:00:00</td>\n",
        "      <td>infl</td>\n",
        "      <td>2.340</td>\n",
        "    </tr>\n",
        "    <tr>\n",
        "      <th>5</th>\n",
        "      <td>1959-06-30</td>\n",
        "      <td>00:00:00</td>\n",
        "      <td>unemp</td>\n",
        "      <td>5.100</td>\n",
        "    </tr>\n",
        "    <tr>\n",
        "      <th>6</th>\n",
        "      <td>1959-09-30</td>\n",
        "      <td>00:00:00</td>\n",
        "      <td>realgdp</td>\n",
        "      <td>2775.488</td>\n",
        "    </tr>\n",
        "    <tr>\n",
        "      <th>7</th>\n",
        "      <td>1959-09-30</td>\n",
        "      <td>00:00:00</td>\n",
        "      <td>infl</td>\n",
        "      <td>2.740</td>\n",
        "    </tr>\n",
        "    <tr>\n",
        "      <th>8</th>\n",
        "      <td>1959-09-30</td>\n",
        "      <td>00:00:00</td>\n",
        "      <td>unemp</td>\n",
        "      <td>5.300</td>\n",
        "    </tr>\n",
        "    <tr>\n",
        "      <th>9</th>\n",
        "      <td>1959-12-31</td>\n",
        "      <td>00:00:00</td>\n",
        "      <td>realgdp</td>\n",
        "      <td>2785.204</td>\n",
        "    </tr>\n",
        "  </tbody>\n",
        "</table>\n",
        "</div>"
       ],
       "metadata": {},
       "output_type": "pyout",
       "prompt_number": 129,
       "text": [
        "         date      time     item     value\n",
        "0  1959-03-31  00:00:00  realgdp  2710.349\n",
        "1  1959-03-31  00:00:00     infl     0.000\n",
        "2  1959-03-31  00:00:00    unemp     5.800\n",
        "3  1959-06-30  00:00:00  realgdp  2778.801\n",
        "4  1959-06-30  00:00:00     infl     2.340\n",
        "5  1959-06-30  00:00:00    unemp     5.100\n",
        "6  1959-09-30  00:00:00  realgdp  2775.488\n",
        "7  1959-09-30  00:00:00     infl     2.740\n",
        "8  1959-09-30  00:00:00    unemp     5.300\n",
        "9  1959-12-31  00:00:00  realgdp  2785.204"
       ]
      }
     ],
     "prompt_number": 129
    },
    {
     "cell_type": "code",
     "collapsed": true,
     "input": [
      "ldata['value2'] = np.random.randn(len(ldata))"
     ],
     "language": "python",
     "metadata": {},
     "outputs": [],
     "prompt_number": 130
    },
    {
     "cell_type": "code",
     "collapsed": false,
     "input": [
      "ldata[:10]"
     ],
     "language": "python",
     "metadata": {},
     "outputs": [
      {
       "html": [
        "<div style=\"max-width:1500px;overflow:auto;\">\n",
        "<table border=\"1\" class=\"dataframe\">\n",
        "  <thead>\n",
        "    <tr style=\"text-align: right;\">\n",
        "      <th></th>\n",
        "      <th>date</th>\n",
        "      <th>time</th>\n",
        "      <th>item</th>\n",
        "      <th>value</th>\n",
        "      <th>value2</th>\n",
        "    </tr>\n",
        "  </thead>\n",
        "  <tbody>\n",
        "    <tr>\n",
        "      <th>0</th>\n",
        "      <td>1959-03-31</td>\n",
        "      <td>00:00:00</td>\n",
        "      <td>realgdp</td>\n",
        "      <td>2710.349</td>\n",
        "      <td>-1.335453</td>\n",
        "    </tr>\n",
        "    <tr>\n",
        "      <th>1</th>\n",
        "      <td>1959-03-31</td>\n",
        "      <td>00:00:00</td>\n",
        "      <td>infl</td>\n",
        "      <td>0.000</td>\n",
        "      <td>1.241336</td>\n",
        "    </tr>\n",
        "    <tr>\n",
        "      <th>2</th>\n",
        "      <td>1959-03-31</td>\n",
        "      <td>00:00:00</td>\n",
        "      <td>unemp</td>\n",
        "      <td>5.800</td>\n",
        "      <td>0.144275</td>\n",
        "    </tr>\n",
        "    <tr>\n",
        "      <th>3</th>\n",
        "      <td>1959-06-30</td>\n",
        "      <td>00:00:00</td>\n",
        "      <td>realgdp</td>\n",
        "      <td>2778.801</td>\n",
        "      <td>-0.501931</td>\n",
        "    </tr>\n",
        "    <tr>\n",
        "      <th>4</th>\n",
        "      <td>1959-06-30</td>\n",
        "      <td>00:00:00</td>\n",
        "      <td>infl</td>\n",
        "      <td>2.340</td>\n",
        "      <td>-1.549679</td>\n",
        "    </tr>\n",
        "    <tr>\n",
        "      <th>5</th>\n",
        "      <td>1959-06-30</td>\n",
        "      <td>00:00:00</td>\n",
        "      <td>unemp</td>\n",
        "      <td>5.100</td>\n",
        "      <td>-0.031288</td>\n",
        "    </tr>\n",
        "    <tr>\n",
        "      <th>6</th>\n",
        "      <td>1959-09-30</td>\n",
        "      <td>00:00:00</td>\n",
        "      <td>realgdp</td>\n",
        "      <td>2775.488</td>\n",
        "      <td>-1.320830</td>\n",
        "    </tr>\n",
        "    <tr>\n",
        "      <th>7</th>\n",
        "      <td>1959-09-30</td>\n",
        "      <td>00:00:00</td>\n",
        "      <td>infl</td>\n",
        "      <td>2.740</td>\n",
        "      <td>0.388584</td>\n",
        "    </tr>\n",
        "    <tr>\n",
        "      <th>8</th>\n",
        "      <td>1959-09-30</td>\n",
        "      <td>00:00:00</td>\n",
        "      <td>unemp</td>\n",
        "      <td>5.300</td>\n",
        "      <td>0.637576</td>\n",
        "    </tr>\n",
        "    <tr>\n",
        "      <th>9</th>\n",
        "      <td>1959-12-31</td>\n",
        "      <td>00:00:00</td>\n",
        "      <td>realgdp</td>\n",
        "      <td>2785.204</td>\n",
        "      <td>-0.791767</td>\n",
        "    </tr>\n",
        "  </tbody>\n",
        "</table>\n",
        "</div>"
       ],
       "metadata": {},
       "output_type": "pyout",
       "prompt_number": 131,
       "text": [
        "         date      time     item     value    value2\n",
        "0  1959-03-31  00:00:00  realgdp  2710.349 -1.335453\n",
        "1  1959-03-31  00:00:00     infl     0.000  1.241336\n",
        "2  1959-03-31  00:00:00    unemp     5.800  0.144275\n",
        "3  1959-06-30  00:00:00  realgdp  2778.801 -0.501931\n",
        "4  1959-06-30  00:00:00     infl     2.340 -1.549679\n",
        "5  1959-06-30  00:00:00    unemp     5.100 -0.031288\n",
        "6  1959-09-30  00:00:00  realgdp  2775.488 -1.320830\n",
        "7  1959-09-30  00:00:00     infl     2.740  0.388584\n",
        "8  1959-09-30  00:00:00    unemp     5.300  0.637576\n",
        "9  1959-12-31  00:00:00  realgdp  2785.204 -0.791767"
       ]
      }
     ],
     "prompt_number": 131
    },
    {
     "cell_type": "code",
     "collapsed": false,
     "input": [
      "#date\ub97c row, item\uc744 column\uc73c\ub85c\n",
      "pivoted = ldata.pivot('date','item')"
     ],
     "language": "python",
     "metadata": {},
     "outputs": [],
     "prompt_number": 132
    },
    {
     "cell_type": "code",
     "collapsed": false,
     "input": [
      "pivoted[:5]"
     ],
     "language": "python",
     "metadata": {},
     "outputs": [
      {
       "html": [
        "<div style=\"max-width:1500px;overflow:auto;\">\n",
        "<table border=\"1\" class=\"dataframe\">\n",
        "  <thead>\n",
        "    <tr>\n",
        "      <th></th>\n",
        "      <th colspan=\"3\" halign=\"left\">time</th>\n",
        "      <th colspan=\"3\" halign=\"left\">value</th>\n",
        "      <th colspan=\"3\" halign=\"left\">value2</th>\n",
        "    </tr>\n",
        "    <tr>\n",
        "      <th>item</th>\n",
        "      <th>infl</th>\n",
        "      <th>realgdp</th>\n",
        "      <th>unemp</th>\n",
        "      <th>infl</th>\n",
        "      <th>realgdp</th>\n",
        "      <th>unemp</th>\n",
        "      <th>infl</th>\n",
        "      <th>realgdp</th>\n",
        "      <th>unemp</th>\n",
        "    </tr>\n",
        "    <tr>\n",
        "      <th>date</th>\n",
        "      <th></th>\n",
        "      <th></th>\n",
        "      <th></th>\n",
        "      <th></th>\n",
        "      <th></th>\n",
        "      <th></th>\n",
        "      <th></th>\n",
        "      <th></th>\n",
        "      <th></th>\n",
        "    </tr>\n",
        "  </thead>\n",
        "  <tbody>\n",
        "    <tr>\n",
        "      <th>1959-03-31</th>\n",
        "      <td>00:00:00</td>\n",
        "      <td>00:00:00</td>\n",
        "      <td>00:00:00</td>\n",
        "      <td>0.00</td>\n",
        "      <td>2710.349</td>\n",
        "      <td>5.8</td>\n",
        "      <td>1.241336</td>\n",
        "      <td>-1.335453</td>\n",
        "      <td>0.144275</td>\n",
        "    </tr>\n",
        "    <tr>\n",
        "      <th>1959-06-30</th>\n",
        "      <td>00:00:00</td>\n",
        "      <td>00:00:00</td>\n",
        "      <td>00:00:00</td>\n",
        "      <td>2.34</td>\n",
        "      <td>2778.801</td>\n",
        "      <td>5.1</td>\n",
        "      <td>-1.549679</td>\n",
        "      <td>-0.501931</td>\n",
        "      <td>-0.031288</td>\n",
        "    </tr>\n",
        "    <tr>\n",
        "      <th>1959-09-30</th>\n",
        "      <td>00:00:00</td>\n",
        "      <td>00:00:00</td>\n",
        "      <td>00:00:00</td>\n",
        "      <td>2.74</td>\n",
        "      <td>2775.488</td>\n",
        "      <td>5.3</td>\n",
        "      <td>0.388584</td>\n",
        "      <td>-1.320830</td>\n",
        "      <td>0.637576</td>\n",
        "    </tr>\n",
        "    <tr>\n",
        "      <th>1959-12-31</th>\n",
        "      <td>NaN</td>\n",
        "      <td>00:00:00</td>\n",
        "      <td>NaN</td>\n",
        "      <td>NaN</td>\n",
        "      <td>2785.204</td>\n",
        "      <td>NaN</td>\n",
        "      <td>NaN</td>\n",
        "      <td>-0.791767</td>\n",
        "      <td>NaN</td>\n",
        "    </tr>\n",
        "  </tbody>\n",
        "</table>\n",
        "</div>"
       ],
       "metadata": {},
       "output_type": "pyout",
       "prompt_number": 133,
       "text": [
        "                time                     value                    value2  \\\n",
        "item            infl   realgdp     unemp  infl   realgdp unemp      infl   \n",
        "date                                                                       \n",
        "1959-03-31  00:00:00  00:00:00  00:00:00  0.00  2710.349   5.8  1.241336   \n",
        "1959-06-30  00:00:00  00:00:00  00:00:00  2.34  2778.801   5.1 -1.549679   \n",
        "1959-09-30  00:00:00  00:00:00  00:00:00  2.74  2775.488   5.3  0.388584   \n",
        "1959-12-31       NaN  00:00:00       NaN   NaN  2785.204   NaN       NaN   \n",
        "\n",
        "                                \n",
        "item         realgdp     unemp  \n",
        "date                            \n",
        "1959-03-31 -1.335453  0.144275  \n",
        "1959-06-30 -0.501931 -0.031288  \n",
        "1959-09-30 -1.320830  0.637576  \n",
        "1959-12-31 -0.791767       NaN  "
       ]
      }
     ],
     "prompt_number": 133
    },
    {
     "cell_type": "code",
     "collapsed": false,
     "input": [
      "pivoted['value'][:5]"
     ],
     "language": "python",
     "metadata": {},
     "outputs": [
      {
       "html": [
        "<div style=\"max-width:1500px;overflow:auto;\">\n",
        "<table border=\"1\" class=\"dataframe\">\n",
        "  <thead>\n",
        "    <tr style=\"text-align: right;\">\n",
        "      <th>item</th>\n",
        "      <th>infl</th>\n",
        "      <th>realgdp</th>\n",
        "      <th>unemp</th>\n",
        "    </tr>\n",
        "    <tr>\n",
        "      <th>date</th>\n",
        "      <th></th>\n",
        "      <th></th>\n",
        "      <th></th>\n",
        "    </tr>\n",
        "  </thead>\n",
        "  <tbody>\n",
        "    <tr>\n",
        "      <th>1959-03-31</th>\n",
        "      <td>0.00</td>\n",
        "      <td>2710.349</td>\n",
        "      <td>5.8</td>\n",
        "    </tr>\n",
        "    <tr>\n",
        "      <th>1959-06-30</th>\n",
        "      <td>2.34</td>\n",
        "      <td>2778.801</td>\n",
        "      <td>5.1</td>\n",
        "    </tr>\n",
        "    <tr>\n",
        "      <th>1959-09-30</th>\n",
        "      <td>2.74</td>\n",
        "      <td>2775.488</td>\n",
        "      <td>5.3</td>\n",
        "    </tr>\n",
        "    <tr>\n",
        "      <th>1959-12-31</th>\n",
        "      <td>NaN</td>\n",
        "      <td>2785.204</td>\n",
        "      <td>NaN</td>\n",
        "    </tr>\n",
        "  </tbody>\n",
        "</table>\n",
        "</div>"
       ],
       "metadata": {},
       "output_type": "pyout",
       "prompt_number": 134,
       "text": [
        "item        infl   realgdp  unemp\n",
        "date                             \n",
        "1959-03-31  0.00  2710.349    5.8\n",
        "1959-06-30  2.34  2778.801    5.1\n",
        "1959-09-30  2.74  2775.488    5.3\n",
        "1959-12-31   NaN  2785.204    NaN"
       ]
      }
     ],
     "prompt_number": 134
    },
    {
     "cell_type": "code",
     "collapsed": false,
     "input": [
      "ldata"
     ],
     "language": "python",
     "metadata": {},
     "outputs": [
      {
       "html": [
        "<div style=\"max-width:1500px;overflow:auto;\">\n",
        "<table border=\"1\" class=\"dataframe\">\n",
        "  <thead>\n",
        "    <tr style=\"text-align: right;\">\n",
        "      <th></th>\n",
        "      <th>date</th>\n",
        "      <th>time</th>\n",
        "      <th>item</th>\n",
        "      <th>value</th>\n",
        "      <th>value2</th>\n",
        "    </tr>\n",
        "  </thead>\n",
        "  <tbody>\n",
        "    <tr>\n",
        "      <th>0</th>\n",
        "      <td>1959-03-31</td>\n",
        "      <td>00:00:00</td>\n",
        "      <td>realgdp</td>\n",
        "      <td>2710.349</td>\n",
        "      <td>-1.335453</td>\n",
        "    </tr>\n",
        "    <tr>\n",
        "      <th>1</th>\n",
        "      <td>1959-03-31</td>\n",
        "      <td>00:00:00</td>\n",
        "      <td>infl</td>\n",
        "      <td>0.000</td>\n",
        "      <td>1.241336</td>\n",
        "    </tr>\n",
        "    <tr>\n",
        "      <th>2</th>\n",
        "      <td>1959-03-31</td>\n",
        "      <td>00:00:00</td>\n",
        "      <td>unemp</td>\n",
        "      <td>5.800</td>\n",
        "      <td>0.144275</td>\n",
        "    </tr>\n",
        "    <tr>\n",
        "      <th>3</th>\n",
        "      <td>1959-06-30</td>\n",
        "      <td>00:00:00</td>\n",
        "      <td>realgdp</td>\n",
        "      <td>2778.801</td>\n",
        "      <td>-0.501931</td>\n",
        "    </tr>\n",
        "    <tr>\n",
        "      <th>4</th>\n",
        "      <td>1959-06-30</td>\n",
        "      <td>00:00:00</td>\n",
        "      <td>infl</td>\n",
        "      <td>2.340</td>\n",
        "      <td>-1.549679</td>\n",
        "    </tr>\n",
        "    <tr>\n",
        "      <th>5</th>\n",
        "      <td>1959-06-30</td>\n",
        "      <td>00:00:00</td>\n",
        "      <td>unemp</td>\n",
        "      <td>5.100</td>\n",
        "      <td>-0.031288</td>\n",
        "    </tr>\n",
        "    <tr>\n",
        "      <th>6</th>\n",
        "      <td>1959-09-30</td>\n",
        "      <td>00:00:00</td>\n",
        "      <td>realgdp</td>\n",
        "      <td>2775.488</td>\n",
        "      <td>-1.320830</td>\n",
        "    </tr>\n",
        "    <tr>\n",
        "      <th>7</th>\n",
        "      <td>1959-09-30</td>\n",
        "      <td>00:00:00</td>\n",
        "      <td>infl</td>\n",
        "      <td>2.740</td>\n",
        "      <td>0.388584</td>\n",
        "    </tr>\n",
        "    <tr>\n",
        "      <th>8</th>\n",
        "      <td>1959-09-30</td>\n",
        "      <td>00:00:00</td>\n",
        "      <td>unemp</td>\n",
        "      <td>5.300</td>\n",
        "      <td>0.637576</td>\n",
        "    </tr>\n",
        "    <tr>\n",
        "      <th>9</th>\n",
        "      <td>1959-12-31</td>\n",
        "      <td>00:00:00</td>\n",
        "      <td>realgdp</td>\n",
        "      <td>2785.204</td>\n",
        "      <td>-0.791767</td>\n",
        "    </tr>\n",
        "  </tbody>\n",
        "</table>\n",
        "</div>"
       ],
       "metadata": {},
       "output_type": "pyout",
       "prompt_number": 135,
       "text": [
        "         date      time     item     value    value2\n",
        "0  1959-03-31  00:00:00  realgdp  2710.349 -1.335453\n",
        "1  1959-03-31  00:00:00     infl     0.000  1.241336\n",
        "2  1959-03-31  00:00:00    unemp     5.800  0.144275\n",
        "3  1959-06-30  00:00:00  realgdp  2778.801 -0.501931\n",
        "4  1959-06-30  00:00:00     infl     2.340 -1.549679\n",
        "5  1959-06-30  00:00:00    unemp     5.100 -0.031288\n",
        "6  1959-09-30  00:00:00  realgdp  2775.488 -1.320830\n",
        "7  1959-09-30  00:00:00     infl     2.740  0.388584\n",
        "8  1959-09-30  00:00:00    unemp     5.300  0.637576\n",
        "9  1959-12-31  00:00:00  realgdp  2785.204 -0.791767"
       ]
      }
     ],
     "prompt_number": 135
    },
    {
     "cell_type": "code",
     "collapsed": false,
     "input": [
      "#index\uc5d0 \uc788\ub358 'item'\uc744 column\uc73c\ub85c \ud53c\ubc97\n",
      "unstacked = ldata.set_index(['date','item']).unstack('item')"
     ],
     "language": "python",
     "metadata": {},
     "outputs": [],
     "prompt_number": 136
    },
    {
     "cell_type": "code",
     "collapsed": false,
     "input": [
      "unstacked[:7]"
     ],
     "language": "python",
     "metadata": {},
     "outputs": [
      {
       "html": [
        "<div style=\"max-width:1500px;overflow:auto;\">\n",
        "<table border=\"1\" class=\"dataframe\">\n",
        "  <thead>\n",
        "    <tr>\n",
        "      <th></th>\n",
        "      <th colspan=\"3\" halign=\"left\">time</th>\n",
        "      <th colspan=\"3\" halign=\"left\">value</th>\n",
        "      <th colspan=\"3\" halign=\"left\">value2</th>\n",
        "    </tr>\n",
        "    <tr>\n",
        "      <th>item</th>\n",
        "      <th>infl</th>\n",
        "      <th>realgdp</th>\n",
        "      <th>unemp</th>\n",
        "      <th>infl</th>\n",
        "      <th>realgdp</th>\n",
        "      <th>unemp</th>\n",
        "      <th>infl</th>\n",
        "      <th>realgdp</th>\n",
        "      <th>unemp</th>\n",
        "    </tr>\n",
        "    <tr>\n",
        "      <th>date</th>\n",
        "      <th></th>\n",
        "      <th></th>\n",
        "      <th></th>\n",
        "      <th></th>\n",
        "      <th></th>\n",
        "      <th></th>\n",
        "      <th></th>\n",
        "      <th></th>\n",
        "      <th></th>\n",
        "    </tr>\n",
        "  </thead>\n",
        "  <tbody>\n",
        "    <tr>\n",
        "      <th>1959-03-31</th>\n",
        "      <td>00:00:00</td>\n",
        "      <td>00:00:00</td>\n",
        "      <td>00:00:00</td>\n",
        "      <td>0.00</td>\n",
        "      <td>2710.349</td>\n",
        "      <td>5.8</td>\n",
        "      <td>1.241336</td>\n",
        "      <td>-1.335453</td>\n",
        "      <td>0.144275</td>\n",
        "    </tr>\n",
        "    <tr>\n",
        "      <th>1959-06-30</th>\n",
        "      <td>00:00:00</td>\n",
        "      <td>00:00:00</td>\n",
        "      <td>00:00:00</td>\n",
        "      <td>2.34</td>\n",
        "      <td>2778.801</td>\n",
        "      <td>5.1</td>\n",
        "      <td>-1.549679</td>\n",
        "      <td>-0.501931</td>\n",
        "      <td>-0.031288</td>\n",
        "    </tr>\n",
        "    <tr>\n",
        "      <th>1959-09-30</th>\n",
        "      <td>00:00:00</td>\n",
        "      <td>00:00:00</td>\n",
        "      <td>00:00:00</td>\n",
        "      <td>2.74</td>\n",
        "      <td>2775.488</td>\n",
        "      <td>5.3</td>\n",
        "      <td>0.388584</td>\n",
        "      <td>-1.320830</td>\n",
        "      <td>0.637576</td>\n",
        "    </tr>\n",
        "    <tr>\n",
        "      <th>1959-12-31</th>\n",
        "      <td>NaN</td>\n",
        "      <td>00:00:00</td>\n",
        "      <td>NaN</td>\n",
        "      <td>NaN</td>\n",
        "      <td>2785.204</td>\n",
        "      <td>NaN</td>\n",
        "      <td>NaN</td>\n",
        "      <td>-0.791767</td>\n",
        "      <td>NaN</td>\n",
        "    </tr>\n",
        "  </tbody>\n",
        "</table>\n",
        "</div>"
       ],
       "metadata": {},
       "output_type": "pyout",
       "prompt_number": 137,
       "text": [
        "                time                     value                    value2  \\\n",
        "item            infl   realgdp     unemp  infl   realgdp unemp      infl   \n",
        "date                                                                       \n",
        "1959-03-31  00:00:00  00:00:00  00:00:00  0.00  2710.349   5.8  1.241336   \n",
        "1959-06-30  00:00:00  00:00:00  00:00:00  2.34  2778.801   5.1 -1.549679   \n",
        "1959-09-30  00:00:00  00:00:00  00:00:00  2.74  2775.488   5.3  0.388584   \n",
        "1959-12-31       NaN  00:00:00       NaN   NaN  2785.204   NaN       NaN   \n",
        "\n",
        "                                \n",
        "item         realgdp     unemp  \n",
        "date                            \n",
        "1959-03-31 -1.335453  0.144275  \n",
        "1959-06-30 -0.501931 -0.031288  \n",
        "1959-09-30 -1.320830  0.637576  \n",
        "1959-12-31 -0.791767       NaN  "
       ]
      }
     ],
     "prompt_number": 137
    },
    {
     "cell_type": "heading",
     "level": 2,
     "metadata": {},
     "source": [
      "7.3 \ub370\uc774\ud130 \ubcc0\ud615"
     ]
    },
    {
     "cell_type": "heading",
     "level": 3,
     "metadata": {},
     "source": [
      "7.3.1 \uc911\ubcf5 \uc81c\uac70\ud558\uae30"
     ]
    },
    {
     "cell_type": "code",
     "collapsed": true,
     "input": [
      "data = DataFrame({'k1':['one']*3+['two']*4,\n",
      "                 'k2':[1,1,2,3,3,4,4]})"
     ],
     "language": "python",
     "metadata": {},
     "outputs": [],
     "prompt_number": 138
    },
    {
     "cell_type": "code",
     "collapsed": false,
     "input": [
      "data"
     ],
     "language": "python",
     "metadata": {},
     "outputs": [
      {
       "html": [
        "<div style=\"max-width:1500px;overflow:auto;\">\n",
        "<table border=\"1\" class=\"dataframe\">\n",
        "  <thead>\n",
        "    <tr style=\"text-align: right;\">\n",
        "      <th></th>\n",
        "      <th>k1</th>\n",
        "      <th>k2</th>\n",
        "    </tr>\n",
        "  </thead>\n",
        "  <tbody>\n",
        "    <tr>\n",
        "      <th>0</th>\n",
        "      <td>one</td>\n",
        "      <td>1</td>\n",
        "    </tr>\n",
        "    <tr>\n",
        "      <th>1</th>\n",
        "      <td>one</td>\n",
        "      <td>1</td>\n",
        "    </tr>\n",
        "    <tr>\n",
        "      <th>2</th>\n",
        "      <td>one</td>\n",
        "      <td>2</td>\n",
        "    </tr>\n",
        "    <tr>\n",
        "      <th>3</th>\n",
        "      <td>two</td>\n",
        "      <td>3</td>\n",
        "    </tr>\n",
        "    <tr>\n",
        "      <th>4</th>\n",
        "      <td>two</td>\n",
        "      <td>3</td>\n",
        "    </tr>\n",
        "    <tr>\n",
        "      <th>5</th>\n",
        "      <td>two</td>\n",
        "      <td>4</td>\n",
        "    </tr>\n",
        "    <tr>\n",
        "      <th>6</th>\n",
        "      <td>two</td>\n",
        "      <td>4</td>\n",
        "    </tr>\n",
        "  </tbody>\n",
        "</table>\n",
        "</div>"
       ],
       "metadata": {},
       "output_type": "pyout",
       "prompt_number": 139,
       "text": [
        "    k1  k2\n",
        "0  one   1\n",
        "1  one   1\n",
        "2  one   2\n",
        "3  two   3\n",
        "4  two   3\n",
        "5  two   4\n",
        "6  two   4"
       ]
      }
     ],
     "prompt_number": 139
    },
    {
     "cell_type": "code",
     "collapsed": false,
     "input": [
      "#duplicated \uba54\uc11c\ub4dc\ub294 \uac01 row\uac00 \uc911\ubcf5\uc778\uc9c0 \uc544\ub2cc\uc9c0\ub97c \uc54c\ub824\uc8fc\ub294 boolean Series\uac1d\uccb4 \ubc18\ud658\n",
      "data.duplicated()"
     ],
     "language": "python",
     "metadata": {},
     "outputs": [
      {
       "metadata": {},
       "output_type": "pyout",
       "prompt_number": 140,
       "text": [
        "0    False\n",
        "1     True\n",
        "2    False\n",
        "3    False\n",
        "4     True\n",
        "5    False\n",
        "6     True\n",
        "dtype: bool"
       ]
      }
     ],
     "prompt_number": 140
    },
    {
     "cell_type": "code",
     "collapsed": false,
     "input": [
      "#drop_duplicates\ub294 duplicated \ubc30\uc5f4\uc774 False(\uc911\ubcf5\ub41c\uac83\uc744 \uc81c\uac70\ud55c)\uc778 DataFrame\uc744 \ubc18\ud658\ud55c\ub2e4.\n",
      "data.drop_duplicates()"
     ],
     "language": "python",
     "metadata": {},
     "outputs": [
      {
       "html": [
        "<div style=\"max-width:1500px;overflow:auto;\">\n",
        "<table border=\"1\" class=\"dataframe\">\n",
        "  <thead>\n",
        "    <tr style=\"text-align: right;\">\n",
        "      <th></th>\n",
        "      <th>k1</th>\n",
        "      <th>k2</th>\n",
        "    </tr>\n",
        "  </thead>\n",
        "  <tbody>\n",
        "    <tr>\n",
        "      <th>0</th>\n",
        "      <td>one</td>\n",
        "      <td>1</td>\n",
        "    </tr>\n",
        "    <tr>\n",
        "      <th>2</th>\n",
        "      <td>one</td>\n",
        "      <td>2</td>\n",
        "    </tr>\n",
        "    <tr>\n",
        "      <th>3</th>\n",
        "      <td>two</td>\n",
        "      <td>3</td>\n",
        "    </tr>\n",
        "    <tr>\n",
        "      <th>5</th>\n",
        "      <td>two</td>\n",
        "      <td>4</td>\n",
        "    </tr>\n",
        "  </tbody>\n",
        "</table>\n",
        "</div>"
       ],
       "metadata": {},
       "output_type": "pyout",
       "prompt_number": 141,
       "text": [
        "    k1  k2\n",
        "0  one   1\n",
        "2  one   2\n",
        "3  two   3\n",
        "5  two   4"
       ]
      }
     ],
     "prompt_number": 141
    },
    {
     "cell_type": "code",
     "collapsed": true,
     "input": [
      "#'v1' column \uc0c8\ub85c \uc0dd\uc131\n",
      "data['v1'] = range(7)"
     ],
     "language": "python",
     "metadata": {},
     "outputs": [],
     "prompt_number": 142
    },
    {
     "cell_type": "code",
     "collapsed": false,
     "input": [
      "#drop_duplicates\uc5d0 \uc911\ubcf5\uae30\uc900\uc744 \uc815\ud560 \uc218 \uc788\uc74c\n",
      "data.drop_duplicates(['k1'])"
     ],
     "language": "python",
     "metadata": {},
     "outputs": [
      {
       "html": [
        "<div style=\"max-width:1500px;overflow:auto;\">\n",
        "<table border=\"1\" class=\"dataframe\">\n",
        "  <thead>\n",
        "    <tr style=\"text-align: right;\">\n",
        "      <th></th>\n",
        "      <th>k1</th>\n",
        "      <th>k2</th>\n",
        "      <th>v1</th>\n",
        "    </tr>\n",
        "  </thead>\n",
        "  <tbody>\n",
        "    <tr>\n",
        "      <th>0</th>\n",
        "      <td>one</td>\n",
        "      <td>1</td>\n",
        "      <td>0</td>\n",
        "    </tr>\n",
        "    <tr>\n",
        "      <th>3</th>\n",
        "      <td>two</td>\n",
        "      <td>3</td>\n",
        "      <td>3</td>\n",
        "    </tr>\n",
        "  </tbody>\n",
        "</table>\n",
        "</div>"
       ],
       "metadata": {},
       "output_type": "pyout",
       "prompt_number": 143,
       "text": [
        "    k1  k2  v1\n",
        "0  one   1   0\n",
        "3  two   3   3"
       ]
      }
     ],
     "prompt_number": 143
    },
    {
     "cell_type": "code",
     "collapsed": false,
     "input": [
      "data"
     ],
     "language": "python",
     "metadata": {},
     "outputs": [
      {
       "html": [
        "<div style=\"max-width:1500px;overflow:auto;\">\n",
        "<table border=\"1\" class=\"dataframe\">\n",
        "  <thead>\n",
        "    <tr style=\"text-align: right;\">\n",
        "      <th></th>\n",
        "      <th>k1</th>\n",
        "      <th>k2</th>\n",
        "      <th>v1</th>\n",
        "    </tr>\n",
        "  </thead>\n",
        "  <tbody>\n",
        "    <tr>\n",
        "      <th>0</th>\n",
        "      <td>one</td>\n",
        "      <td>1</td>\n",
        "      <td>0</td>\n",
        "    </tr>\n",
        "    <tr>\n",
        "      <th>1</th>\n",
        "      <td>one</td>\n",
        "      <td>1</td>\n",
        "      <td>1</td>\n",
        "    </tr>\n",
        "    <tr>\n",
        "      <th>2</th>\n",
        "      <td>one</td>\n",
        "      <td>2</td>\n",
        "      <td>2</td>\n",
        "    </tr>\n",
        "    <tr>\n",
        "      <th>3</th>\n",
        "      <td>two</td>\n",
        "      <td>3</td>\n",
        "      <td>3</td>\n",
        "    </tr>\n",
        "    <tr>\n",
        "      <th>4</th>\n",
        "      <td>two</td>\n",
        "      <td>3</td>\n",
        "      <td>4</td>\n",
        "    </tr>\n",
        "    <tr>\n",
        "      <th>5</th>\n",
        "      <td>two</td>\n",
        "      <td>4</td>\n",
        "      <td>5</td>\n",
        "    </tr>\n",
        "    <tr>\n",
        "      <th>6</th>\n",
        "      <td>two</td>\n",
        "      <td>4</td>\n",
        "      <td>6</td>\n",
        "    </tr>\n",
        "  </tbody>\n",
        "</table>\n",
        "</div>"
       ],
       "metadata": {},
       "output_type": "pyout",
       "prompt_number": 144,
       "text": [
        "    k1  k2  v1\n",
        "0  one   1   0\n",
        "1  one   1   1\n",
        "2  one   2   2\n",
        "3  two   3   3\n",
        "4  two   3   4\n",
        "5  two   4   5\n",
        "6  two   4   6"
       ]
      }
     ],
     "prompt_number": 144
    },
    {
     "cell_type": "code",
     "collapsed": false,
     "input": [
      "#duplicated \uc640 drop_duplicates\ub294 \uae30\ubcf8\uc801\uc73c\ub85c \ucc98\uc74c \ubc1c\uacac\ub41c \uac12\uc744 \uc720\uc9c0\ud558\ub294\ub370,\n",
      "#take_last=True \uc635\uc158\uc744 \ud1b5\ud574 \ub9c8\uc9c0\ub9c9\uc73c\ub85c \ubc1c\uacac\ub41c \uac12\uc744 \ubc18\ud658\ud560 \uc218 \uc788\ub2e4.\n",
      "data.drop_duplicates(['k1','k2'], take_last=True)"
     ],
     "language": "python",
     "metadata": {},
     "outputs": [
      {
       "html": [
        "<div style=\"max-width:1500px;overflow:auto;\">\n",
        "<table border=\"1\" class=\"dataframe\">\n",
        "  <thead>\n",
        "    <tr style=\"text-align: right;\">\n",
        "      <th></th>\n",
        "      <th>k1</th>\n",
        "      <th>k2</th>\n",
        "      <th>v1</th>\n",
        "    </tr>\n",
        "  </thead>\n",
        "  <tbody>\n",
        "    <tr>\n",
        "      <th>1</th>\n",
        "      <td>one</td>\n",
        "      <td>1</td>\n",
        "      <td>1</td>\n",
        "    </tr>\n",
        "    <tr>\n",
        "      <th>2</th>\n",
        "      <td>one</td>\n",
        "      <td>2</td>\n",
        "      <td>2</td>\n",
        "    </tr>\n",
        "    <tr>\n",
        "      <th>4</th>\n",
        "      <td>two</td>\n",
        "      <td>3</td>\n",
        "      <td>4</td>\n",
        "    </tr>\n",
        "    <tr>\n",
        "      <th>6</th>\n",
        "      <td>two</td>\n",
        "      <td>4</td>\n",
        "      <td>6</td>\n",
        "    </tr>\n",
        "  </tbody>\n",
        "</table>\n",
        "</div>"
       ],
       "metadata": {},
       "output_type": "pyout",
       "prompt_number": 145,
       "text": [
        "    k1  k2  v1\n",
        "1  one   1   1\n",
        "2  one   2   2\n",
        "4  two   3   4\n",
        "6  two   4   6"
       ]
      }
     ],
     "prompt_number": 145
    },
    {
     "cell_type": "heading",
     "level": 3,
     "metadata": {},
     "source": [
      "7.3.2 \ud568\uc218\ub098 \ub9e4\uce6d \uc774\uc6a9\ud558\uc5ec \ub370\uc774\ud130 \ubcc0\ud615\ud558\uae30"
     ]
    },
    {
     "cell_type": "code",
     "collapsed": true,
     "input": [
      "data = DataFrame({'food':['bacon','pulled pork','bacon','Pastrami','corned beef','Bacon','pastrami','honey ham','nova lox'],\n",
      "                 'ounces': [4,3,12,6,7.5,8,3,5,6]})"
     ],
     "language": "python",
     "metadata": {},
     "outputs": [],
     "prompt_number": 146
    },
    {
     "cell_type": "code",
     "collapsed": false,
     "input": [
      "data"
     ],
     "language": "python",
     "metadata": {},
     "outputs": [
      {
       "html": [
        "<div style=\"max-width:1500px;overflow:auto;\">\n",
        "<table border=\"1\" class=\"dataframe\">\n",
        "  <thead>\n",
        "    <tr style=\"text-align: right;\">\n",
        "      <th></th>\n",
        "      <th>food</th>\n",
        "      <th>ounces</th>\n",
        "    </tr>\n",
        "  </thead>\n",
        "  <tbody>\n",
        "    <tr>\n",
        "      <th>0</th>\n",
        "      <td>bacon</td>\n",
        "      <td>4.0</td>\n",
        "    </tr>\n",
        "    <tr>\n",
        "      <th>1</th>\n",
        "      <td>pulled pork</td>\n",
        "      <td>3.0</td>\n",
        "    </tr>\n",
        "    <tr>\n",
        "      <th>2</th>\n",
        "      <td>bacon</td>\n",
        "      <td>12.0</td>\n",
        "    </tr>\n",
        "    <tr>\n",
        "      <th>3</th>\n",
        "      <td>Pastrami</td>\n",
        "      <td>6.0</td>\n",
        "    </tr>\n",
        "    <tr>\n",
        "      <th>4</th>\n",
        "      <td>corned beef</td>\n",
        "      <td>7.5</td>\n",
        "    </tr>\n",
        "    <tr>\n",
        "      <th>5</th>\n",
        "      <td>Bacon</td>\n",
        "      <td>8.0</td>\n",
        "    </tr>\n",
        "    <tr>\n",
        "      <th>6</th>\n",
        "      <td>pastrami</td>\n",
        "      <td>3.0</td>\n",
        "    </tr>\n",
        "    <tr>\n",
        "      <th>7</th>\n",
        "      <td>honey ham</td>\n",
        "      <td>5.0</td>\n",
        "    </tr>\n",
        "    <tr>\n",
        "      <th>8</th>\n",
        "      <td>nova lox</td>\n",
        "      <td>6.0</td>\n",
        "    </tr>\n",
        "  </tbody>\n",
        "</table>\n",
        "</div>"
       ],
       "metadata": {},
       "output_type": "pyout",
       "prompt_number": 147,
       "text": [
        "          food  ounces\n",
        "0        bacon     4.0\n",
        "1  pulled pork     3.0\n",
        "2        bacon    12.0\n",
        "3     Pastrami     6.0\n",
        "4  corned beef     7.5\n",
        "5        Bacon     8.0\n",
        "6     pastrami     3.0\n",
        "7    honey ham     5.0\n",
        "8     nova lox     6.0"
       ]
      }
     ],
     "prompt_number": 147
    },
    {
     "cell_type": "code",
     "collapsed": true,
     "input": [
      "meat_to_animal = {\n",
      "    'bacon':'pig',\n",
      "    'pulled pork':'pig',\n",
      "    'pastrami':'cow',\n",
      "    'corned beef':'cow',\n",
      "    'honey ham':'pig',\n",
      "    'nova lox':'salmon'\n",
      "}"
     ],
     "language": "python",
     "metadata": {},
     "outputs": [],
     "prompt_number": 148
    },
    {
     "cell_type": "code",
     "collapsed": true,
     "input": [
      "#'food' column\uc744 \uc804\ubd80 \uc18c\ubb38\uc790\ub85c \ubcc0\uacbd\ud55c \ub4a4, meat_to_animal\uacfc mapping\n",
      "data['animal']=data['food'].map(str.lower).map(meat_to_animal)"
     ],
     "language": "python",
     "metadata": {},
     "outputs": [],
     "prompt_number": 149
    },
    {
     "cell_type": "code",
     "collapsed": false,
     "input": [
      "data"
     ],
     "language": "python",
     "metadata": {},
     "outputs": [
      {
       "html": [
        "<div style=\"max-width:1500px;overflow:auto;\">\n",
        "<table border=\"1\" class=\"dataframe\">\n",
        "  <thead>\n",
        "    <tr style=\"text-align: right;\">\n",
        "      <th></th>\n",
        "      <th>food</th>\n",
        "      <th>ounces</th>\n",
        "      <th>animal</th>\n",
        "    </tr>\n",
        "  </thead>\n",
        "  <tbody>\n",
        "    <tr>\n",
        "      <th>0</th>\n",
        "      <td>bacon</td>\n",
        "      <td>4.0</td>\n",
        "      <td>pig</td>\n",
        "    </tr>\n",
        "    <tr>\n",
        "      <th>1</th>\n",
        "      <td>pulled pork</td>\n",
        "      <td>3.0</td>\n",
        "      <td>pig</td>\n",
        "    </tr>\n",
        "    <tr>\n",
        "      <th>2</th>\n",
        "      <td>bacon</td>\n",
        "      <td>12.0</td>\n",
        "      <td>pig</td>\n",
        "    </tr>\n",
        "    <tr>\n",
        "      <th>3</th>\n",
        "      <td>Pastrami</td>\n",
        "      <td>6.0</td>\n",
        "      <td>cow</td>\n",
        "    </tr>\n",
        "    <tr>\n",
        "      <th>4</th>\n",
        "      <td>corned beef</td>\n",
        "      <td>7.5</td>\n",
        "      <td>cow</td>\n",
        "    </tr>\n",
        "    <tr>\n",
        "      <th>5</th>\n",
        "      <td>Bacon</td>\n",
        "      <td>8.0</td>\n",
        "      <td>pig</td>\n",
        "    </tr>\n",
        "    <tr>\n",
        "      <th>6</th>\n",
        "      <td>pastrami</td>\n",
        "      <td>3.0</td>\n",
        "      <td>cow</td>\n",
        "    </tr>\n",
        "    <tr>\n",
        "      <th>7</th>\n",
        "      <td>honey ham</td>\n",
        "      <td>5.0</td>\n",
        "      <td>pig</td>\n",
        "    </tr>\n",
        "    <tr>\n",
        "      <th>8</th>\n",
        "      <td>nova lox</td>\n",
        "      <td>6.0</td>\n",
        "      <td>salmon</td>\n",
        "    </tr>\n",
        "  </tbody>\n",
        "</table>\n",
        "</div>"
       ],
       "metadata": {},
       "output_type": "pyout",
       "prompt_number": 150,
       "text": [
        "          food  ounces  animal\n",
        "0        bacon     4.0     pig\n",
        "1  pulled pork     3.0     pig\n",
        "2        bacon    12.0     pig\n",
        "3     Pastrami     6.0     cow\n",
        "4  corned beef     7.5     cow\n",
        "5        Bacon     8.0     pig\n",
        "6     pastrami     3.0     cow\n",
        "7    honey ham     5.0     pig\n",
        "8     nova lox     6.0  salmon"
       ]
      }
     ],
     "prompt_number": 150
    },
    {
     "cell_type": "code",
     "collapsed": false,
     "input": [
      "data['food'].map(lambda x: meat_to_animal[x.lower()])"
     ],
     "language": "python",
     "metadata": {},
     "outputs": [
      {
       "metadata": {},
       "output_type": "pyout",
       "prompt_number": 151,
       "text": [
        "0       pig\n",
        "1       pig\n",
        "2       pig\n",
        "3       cow\n",
        "4       cow\n",
        "5       pig\n",
        "6       cow\n",
        "7       pig\n",
        "8    salmon\n",
        "Name: food, dtype: object"
       ]
      }
     ],
     "prompt_number": 151
    },
    {
     "cell_type": "heading",
     "level": 3,
     "metadata": {},
     "source": [
      "7.3.3 \uac12 \uce58\ud658\ud558\uae30"
     ]
    },
    {
     "cell_type": "code",
     "collapsed": true,
     "input": [
      "#fillna \uba54\uc11c\ub4dc\ub97c \uc0ac\uc6a9\ud574\uc11c \ub204\ub77d\ub41c \uac12 \ucc44\uc6b0\uae30\n",
      "data = Series([1.,-999.,2.,-999.,-1000.,3.])"
     ],
     "language": "python",
     "metadata": {},
     "outputs": [],
     "prompt_number": 152
    },
    {
     "cell_type": "code",
     "collapsed": false,
     "input": [
      "data"
     ],
     "language": "python",
     "metadata": {},
     "outputs": [
      {
       "metadata": {},
       "output_type": "pyout",
       "prompt_number": 153,
       "text": [
        "0       1\n",
        "1    -999\n",
        "2       2\n",
        "3    -999\n",
        "4   -1000\n",
        "5       3\n",
        "dtype: float64"
       ]
      }
     ],
     "prompt_number": 153
    },
    {
     "cell_type": "code",
     "collapsed": false,
     "input": [
      "#replace \uba54\uc11c\ub4dc\ub97c \ud1b5\ud574 \ud2b9\uc815 \uac12\uc744 NaN\uc73c\ub85c \uce58\ud658\ud560 \uc218 \uc788\ub2e4.\n",
      "data.replace(-999,np.nan)"
     ],
     "language": "python",
     "metadata": {},
     "outputs": [
      {
       "metadata": {},
       "output_type": "pyout",
       "prompt_number": 154,
       "text": [
        "0       1\n",
        "1     NaN\n",
        "2       2\n",
        "3     NaN\n",
        "4   -1000\n",
        "5       3\n",
        "dtype: float64"
       ]
      }
     ],
     "prompt_number": 154
    },
    {
     "cell_type": "code",
     "collapsed": false,
     "input": [
      "data.replace([-999,-1000],np.nan)"
     ],
     "language": "python",
     "metadata": {},
     "outputs": [
      {
       "metadata": {},
       "output_type": "pyout",
       "prompt_number": 155,
       "text": [
        "0     1\n",
        "1   NaN\n",
        "2     2\n",
        "3   NaN\n",
        "4   NaN\n",
        "5     3\n",
        "dtype: float64"
       ]
      }
     ],
     "prompt_number": 155
    },
    {
     "cell_type": "code",
     "collapsed": false,
     "input": [
      "data.replace([-999,-1000],[np.nan,0])"
     ],
     "language": "python",
     "metadata": {},
     "outputs": [
      {
       "metadata": {},
       "output_type": "pyout",
       "prompt_number": 156,
       "text": [
        "0     1\n",
        "1   NaN\n",
        "2     2\n",
        "3   NaN\n",
        "4     0\n",
        "5     3\n",
        "dtype: float64"
       ]
      }
     ],
     "prompt_number": 156
    },
    {
     "cell_type": "code",
     "collapsed": false,
     "input": [
      "#\ub9ac\uc2a4\ud2b8 \ub300\uc2e0 \uc0ac\uc804\uc744 \uc774\uc6a9\ud574\ub3c4 \ub428\n",
      "data.replace({-999:np.nan,-1000:0})"
     ],
     "language": "python",
     "metadata": {},
     "outputs": [
      {
       "metadata": {},
       "output_type": "pyout",
       "prompt_number": 157,
       "text": [
        "0     1\n",
        "1   NaN\n",
        "2     2\n",
        "3   NaN\n",
        "4     0\n",
        "5     3\n",
        "dtype: float64"
       ]
      }
     ],
     "prompt_number": 157
    },
    {
     "cell_type": "heading",
     "level": 3,
     "metadata": {},
     "source": [
      "7.3.4 \ucd95 \uc0c9\uc778 \uc774\ub984 \ubc14\uafb8\uae30"
     ]
    },
    {
     "cell_type": "code",
     "collapsed": true,
     "input": [
      "data = DataFrame(np.arange(12).reshape(3,4),\n",
      "                index=['Ohio','Colorado','New York'],\n",
      "                columns=['one','two','three','four'])"
     ],
     "language": "python",
     "metadata": {},
     "outputs": [],
     "prompt_number": 158
    },
    {
     "cell_type": "code",
     "collapsed": false,
     "input": [
      "data.index.map(str.upper)"
     ],
     "language": "python",
     "metadata": {},
     "outputs": [
      {
       "metadata": {},
       "output_type": "pyout",
       "prompt_number": 159,
       "text": [
        "array(['OHIO', 'COLORADO', 'NEW YORK'], dtype=object)"
       ]
      }
     ],
     "prompt_number": 159
    },
    {
     "cell_type": "code",
     "collapsed": true,
     "input": [
      "data.index = data.index.map(str.upper)"
     ],
     "language": "python",
     "metadata": {},
     "outputs": [],
     "prompt_number": 160
    },
    {
     "cell_type": "code",
     "collapsed": false,
     "input": [
      "data.index"
     ],
     "language": "python",
     "metadata": {},
     "outputs": [
      {
       "metadata": {},
       "output_type": "pyout",
       "prompt_number": 161,
       "text": [
        "Index([u'OHIO', u'COLORADO', u'NEW YORK'], dtype='object')"
       ]
      }
     ],
     "prompt_number": 161
    },
    {
     "cell_type": "code",
     "collapsed": false,
     "input": [
      "data"
     ],
     "language": "python",
     "metadata": {},
     "outputs": [
      {
       "html": [
        "<div style=\"max-width:1500px;overflow:auto;\">\n",
        "<table border=\"1\" class=\"dataframe\">\n",
        "  <thead>\n",
        "    <tr style=\"text-align: right;\">\n",
        "      <th></th>\n",
        "      <th>one</th>\n",
        "      <th>two</th>\n",
        "      <th>three</th>\n",
        "      <th>four</th>\n",
        "    </tr>\n",
        "  </thead>\n",
        "  <tbody>\n",
        "    <tr>\n",
        "      <th>OHIO</th>\n",
        "      <td>0</td>\n",
        "      <td>1</td>\n",
        "      <td>2</td>\n",
        "      <td>3</td>\n",
        "    </tr>\n",
        "    <tr>\n",
        "      <th>COLORADO</th>\n",
        "      <td>4</td>\n",
        "      <td>5</td>\n",
        "      <td>6</td>\n",
        "      <td>7</td>\n",
        "    </tr>\n",
        "    <tr>\n",
        "      <th>NEW YORK</th>\n",
        "      <td>8</td>\n",
        "      <td>9</td>\n",
        "      <td>10</td>\n",
        "      <td>11</td>\n",
        "    </tr>\n",
        "  </tbody>\n",
        "</table>\n",
        "</div>"
       ],
       "metadata": {},
       "output_type": "pyout",
       "prompt_number": 162,
       "text": [
        "          one  two  three  four\n",
        "OHIO        0    1      2     3\n",
        "COLORADO    4    5      6     7\n",
        "NEW YORK    8    9     10    11"
       ]
      }
     ],
     "prompt_number": 162
    },
    {
     "cell_type": "code",
     "collapsed": false,
     "input": [
      "data.rename(index=str.title,columns=str.upper)"
     ],
     "language": "python",
     "metadata": {},
     "outputs": [
      {
       "html": [
        "<div style=\"max-width:1500px;overflow:auto;\">\n",
        "<table border=\"1\" class=\"dataframe\">\n",
        "  <thead>\n",
        "    <tr style=\"text-align: right;\">\n",
        "      <th></th>\n",
        "      <th>ONE</th>\n",
        "      <th>TWO</th>\n",
        "      <th>THREE</th>\n",
        "      <th>FOUR</th>\n",
        "    </tr>\n",
        "  </thead>\n",
        "  <tbody>\n",
        "    <tr>\n",
        "      <th>Ohio</th>\n",
        "      <td>0</td>\n",
        "      <td>1</td>\n",
        "      <td>2</td>\n",
        "      <td>3</td>\n",
        "    </tr>\n",
        "    <tr>\n",
        "      <th>Colorado</th>\n",
        "      <td>4</td>\n",
        "      <td>5</td>\n",
        "      <td>6</td>\n",
        "      <td>7</td>\n",
        "    </tr>\n",
        "    <tr>\n",
        "      <th>New York</th>\n",
        "      <td>8</td>\n",
        "      <td>9</td>\n",
        "      <td>10</td>\n",
        "      <td>11</td>\n",
        "    </tr>\n",
        "  </tbody>\n",
        "</table>\n",
        "</div>"
       ],
       "metadata": {},
       "output_type": "pyout",
       "prompt_number": 163,
       "text": [
        "          ONE  TWO  THREE  FOUR\n",
        "Ohio        0    1      2     3\n",
        "Colorado    4    5      6     7\n",
        "New York    8    9     10    11"
       ]
      }
     ],
     "prompt_number": 163
    },
    {
     "cell_type": "code",
     "collapsed": false,
     "input": [
      "#\ucd95 \uc774\ub984 \uc911 \uc77c\ubd80\ub9cc \ubcc0\uacbd\ud558\ub294 \uac83\ub3c4 \uac00\ub2a5\n",
      "data.rename(index={'OHIO':'INDIANA'},\n",
      "           columns={'three':'peekaboo'})"
     ],
     "language": "python",
     "metadata": {},
     "outputs": [
      {
       "html": [
        "<div style=\"max-width:1500px;overflow:auto;\">\n",
        "<table border=\"1\" class=\"dataframe\">\n",
        "  <thead>\n",
        "    <tr style=\"text-align: right;\">\n",
        "      <th></th>\n",
        "      <th>one</th>\n",
        "      <th>two</th>\n",
        "      <th>peekaboo</th>\n",
        "      <th>four</th>\n",
        "    </tr>\n",
        "  </thead>\n",
        "  <tbody>\n",
        "    <tr>\n",
        "      <th>INDIANA</th>\n",
        "      <td>0</td>\n",
        "      <td>1</td>\n",
        "      <td>2</td>\n",
        "      <td>3</td>\n",
        "    </tr>\n",
        "    <tr>\n",
        "      <th>COLORADO</th>\n",
        "      <td>4</td>\n",
        "      <td>5</td>\n",
        "      <td>6</td>\n",
        "      <td>7</td>\n",
        "    </tr>\n",
        "    <tr>\n",
        "      <th>NEW YORK</th>\n",
        "      <td>8</td>\n",
        "      <td>9</td>\n",
        "      <td>10</td>\n",
        "      <td>11</td>\n",
        "    </tr>\n",
        "  </tbody>\n",
        "</table>\n",
        "</div>"
       ],
       "metadata": {},
       "output_type": "pyout",
       "prompt_number": 164,
       "text": [
        "          one  two  peekaboo  four\n",
        "INDIANA     0    1         2     3\n",
        "COLORADO    4    5         6     7\n",
        "NEW YORK    8    9        10    11"
       ]
      }
     ],
     "prompt_number": 164
    },
    {
     "cell_type": "code",
     "collapsed": false,
     "input": [
      "data"
     ],
     "language": "python",
     "metadata": {},
     "outputs": [
      {
       "html": [
        "<div style=\"max-width:1500px;overflow:auto;\">\n",
        "<table border=\"1\" class=\"dataframe\">\n",
        "  <thead>\n",
        "    <tr style=\"text-align: right;\">\n",
        "      <th></th>\n",
        "      <th>one</th>\n",
        "      <th>two</th>\n",
        "      <th>three</th>\n",
        "      <th>four</th>\n",
        "    </tr>\n",
        "  </thead>\n",
        "  <tbody>\n",
        "    <tr>\n",
        "      <th>OHIO</th>\n",
        "      <td>0</td>\n",
        "      <td>1</td>\n",
        "      <td>2</td>\n",
        "      <td>3</td>\n",
        "    </tr>\n",
        "    <tr>\n",
        "      <th>COLORADO</th>\n",
        "      <td>4</td>\n",
        "      <td>5</td>\n",
        "      <td>6</td>\n",
        "      <td>7</td>\n",
        "    </tr>\n",
        "    <tr>\n",
        "      <th>NEW YORK</th>\n",
        "      <td>8</td>\n",
        "      <td>9</td>\n",
        "      <td>10</td>\n",
        "      <td>11</td>\n",
        "    </tr>\n",
        "  </tbody>\n",
        "</table>\n",
        "</div>"
       ],
       "metadata": {},
       "output_type": "pyout",
       "prompt_number": 165,
       "text": [
        "          one  two  three  four\n",
        "OHIO        0    1      2     3\n",
        "COLORADO    4    5      6     7\n",
        "NEW YORK    8    9     10    11"
       ]
      }
     ],
     "prompt_number": 165
    },
    {
     "cell_type": "code",
     "collapsed": true,
     "input": [
      "#\uc6d0\ubcf8 \ub370\uc774\ud130\ub97c \ubc14\ub85c \ubcc0\uacbd\ud558\ub824\uba74 inplace = True \uc635\uc158\n",
      "_ = data.rename(index={'OHIO':'INDIANA'},inplace=True)"
     ],
     "language": "python",
     "metadata": {},
     "outputs": [],
     "prompt_number": 166
    },
    {
     "cell_type": "code",
     "collapsed": false,
     "input": [
      "data"
     ],
     "language": "python",
     "metadata": {},
     "outputs": [
      {
       "html": [
        "<div style=\"max-width:1500px;overflow:auto;\">\n",
        "<table border=\"1\" class=\"dataframe\">\n",
        "  <thead>\n",
        "    <tr style=\"text-align: right;\">\n",
        "      <th></th>\n",
        "      <th>one</th>\n",
        "      <th>two</th>\n",
        "      <th>three</th>\n",
        "      <th>four</th>\n",
        "    </tr>\n",
        "  </thead>\n",
        "  <tbody>\n",
        "    <tr>\n",
        "      <th>INDIANA</th>\n",
        "      <td>0</td>\n",
        "      <td>1</td>\n",
        "      <td>2</td>\n",
        "      <td>3</td>\n",
        "    </tr>\n",
        "    <tr>\n",
        "      <th>COLORADO</th>\n",
        "      <td>4</td>\n",
        "      <td>5</td>\n",
        "      <td>6</td>\n",
        "      <td>7</td>\n",
        "    </tr>\n",
        "    <tr>\n",
        "      <th>NEW YORK</th>\n",
        "      <td>8</td>\n",
        "      <td>9</td>\n",
        "      <td>10</td>\n",
        "      <td>11</td>\n",
        "    </tr>\n",
        "  </tbody>\n",
        "</table>\n",
        "</div>"
       ],
       "metadata": {},
       "output_type": "pyout",
       "prompt_number": 167,
       "text": [
        "          one  two  three  four\n",
        "INDIANA     0    1      2     3\n",
        "COLORADO    4    5      6     7\n",
        "NEW YORK    8    9     10    11"
       ]
      }
     ],
     "prompt_number": 167
    },
    {
     "cell_type": "heading",
     "level": 3,
     "metadata": {},
     "source": [
      "7.3.5 \uac1c\ubcc4\ud654\uc640 \uc591\uc790\ud654"
     ]
    },
    {
     "cell_type": "code",
     "collapsed": true,
     "input": [
      "ages = [17,20,22,25,27,21,23,37,61,45,41,32,102]"
     ],
     "language": "python",
     "metadata": {},
     "outputs": [],
     "prompt_number": 168
    },
    {
     "cell_type": "code",
     "collapsed": true,
     "input": [
      "bins = [18,25,35,60,100]"
     ],
     "language": "python",
     "metadata": {},
     "outputs": [],
     "prompt_number": 169
    },
    {
     "cell_type": "code",
     "collapsed": true,
     "input": [
      "#pandas\uc758 cut\ud568\uc218\ub294 1\ubc88\uc9f8 \uc778\uc790\uc758 \uac12\ub4e4\uc774 2\ubc88\uc9f8 \uc778\uc790\ub85c \ub4e4\uc5b4\uc628 \uac12\uc744 \ubc94\uc704\ub85c \ud558\uc5ec \uc5b4\ub290 \ubc94\uc704\uc5d0 \uc18d\ud558\ub294\uc9c0 \uc54c\ub824\uc900\ub2e4.\n",
      "#\ud574\ub2f9 \ubc94\uc704\uc5d0 \uc874\uc7ac\ud558\uc9c0\uc54a\ub294 \uc218\ub294 NaN\uc73c\ub85c \ucc98\ub9ac\n",
      "#pandas.cut(\uac12,\ubc94\uc704)\n",
      "cats = pd.cut(ages,bins)"
     ],
     "language": "python",
     "metadata": {},
     "outputs": [],
     "prompt_number": 170
    },
    {
     "cell_type": "code",
     "collapsed": false,
     "input": [
      "cats"
     ],
     "language": "python",
     "metadata": {},
     "outputs": [
      {
       "metadata": {},
       "output_type": "pyout",
       "prompt_number": 171,
       "text": [
        "[NaN, (18, 25], (18, 25], (18, 25], (25, 35], ..., (60, 100], (35, 60], (35, 60], (25, 35], NaN]\n",
        "Length: 13\n",
        "Categories (4, object): [(18, 25] < (25, 35] < (35, 60] < (60, 100]]"
       ]
      }
     ],
     "prompt_number": 171
    },
    {
     "cell_type": "code",
     "collapsed": false,
     "input": [
      "type(cats)"
     ],
     "language": "python",
     "metadata": {},
     "outputs": [
      {
       "metadata": {},
       "output_type": "pyout",
       "prompt_number": 172,
       "text": [
        "pandas.core.categorical.Categorical"
       ]
      }
     ],
     "prompt_number": 172
    },
    {
     "cell_type": "code",
     "collapsed": false,
     "input": [
      "#Categorical \uac1d\uccb4\uc778 cats\n",
      "#cats\uc758 \ubc94\uc704 \uc548\uc5d0\uc788\uc73c\uba74 index\ub85c, \uc5c6\uc73c\uba74 -1\n",
      "cats.codes"
     ],
     "language": "python",
     "metadata": {},
     "outputs": [
      {
       "metadata": {},
       "output_type": "pyout",
       "prompt_number": 173,
       "text": [
        "array([-1,  0,  0,  0,  1,  0,  0,  2,  3,  2,  2,  1, -1], dtype=int8)"
       ]
      }
     ],
     "prompt_number": 173
    },
    {
     "cell_type": "code",
     "collapsed": false,
     "input": [
      "#Categorical.levels\ub294 \ubc94\uc704\uac00 \ub2f4\uae34 \uac1d\uccb4\n",
      "cats.categories"
     ],
     "language": "python",
     "metadata": {},
     "outputs": [
      {
       "metadata": {},
       "output_type": "pyout",
       "prompt_number": 174,
       "text": [
        "Index([u'(18, 25]', u'(25, 35]', u'(35, 60]', u'(60, 100]'], dtype='object')"
       ]
      }
     ],
     "prompt_number": 174
    },
    {
     "cell_type": "code",
     "collapsed": false,
     "input": [
      "pd.value_counts(cats)"
     ],
     "language": "python",
     "metadata": {
      "scrolled": true
     },
     "outputs": [
      {
       "metadata": {},
       "output_type": "pyout",
       "prompt_number": 175,
       "text": [
        "(18, 25]     5\n",
        "(35, 60]     3\n",
        "(25, 35]     2\n",
        "(60, 100]    1\n",
        "dtype: int64"
       ]
      }
     ],
     "prompt_number": 175
    },
    {
     "cell_type": "code",
     "collapsed": false,
     "input": [
      "#'()'\ub294 \ud3ec\ud568 X, '[]'\ub294 \ud3ec\ud568 O\n",
      "#\ubcf4\ud1b5\uc740 '(]'(~\ucd08\uacfc ~\uc774\ud558)\ub85c \ub098\ud0c0\ub0b4\ub294\ub370 right=False\ub97c \ud558\uba74 '[)'(~\uc774\uc0c1 ~\ubbf8\ub9cc)\ub85c \ud45c\ud604\uac00\ub2a5 )\n",
      "pd.cut(ages,[18,26,36,61,100],right=False)"
     ],
     "language": "python",
     "metadata": {},
     "outputs": [
      {
       "metadata": {},
       "output_type": "pyout",
       "prompt_number": 176,
       "text": [
        "[NaN, [18, 26), [18, 26), [18, 26), [26, 36), ..., [61, 100), [36, 61), [36, 61), [26, 36), NaN]\n",
        "Length: 13\n",
        "Categories (4, object): [[18, 26) < [26, 36) < [36, 61) < [61, 100)]"
       ]
      }
     ],
     "prompt_number": 176
    },
    {
     "cell_type": "code",
     "collapsed": true,
     "input": [
      "group_names = ['Youth','YoungAdult','MiddleAged','Senior']"
     ],
     "language": "python",
     "metadata": {},
     "outputs": [],
     "prompt_number": 177
    },
    {
     "cell_type": "code",
     "collapsed": false,
     "input": [
      "#labels \uc635\uc158\uc73c\ub85c \uadf8\ub8f9\uc758 \uc774\ub984\uc744 \uc9c1\uc811 \ub118\uaca8\uc904 \uc218\ub3c4 \uc788\ub2e4.\n",
      "pd.cut(ages,bins,labels=group_names)"
     ],
     "language": "python",
     "metadata": {},
     "outputs": [
      {
       "metadata": {},
       "output_type": "pyout",
       "prompt_number": 178,
       "text": [
        "[NaN, Youth, Youth, Youth, YoungAdult, ..., Senior, MiddleAged, MiddleAged, YoungAdult, NaN]\n",
        "Length: 13\n",
        "Categories (4, object): [Youth < YoungAdult < MiddleAged < Senior]"
       ]
      }
     ],
     "prompt_number": 178
    },
    {
     "cell_type": "code",
     "collapsed": true,
     "input": [
      "data = np.random.rand(20)"
     ],
     "language": "python",
     "metadata": {},
     "outputs": [],
     "prompt_number": 179
    },
    {
     "cell_type": "code",
     "collapsed": false,
     "input": [
      "data"
     ],
     "language": "python",
     "metadata": {},
     "outputs": [
      {
       "metadata": {},
       "output_type": "pyout",
       "prompt_number": 180,
       "text": [
        "array([ 0.88056622,  0.11905108,  0.17726166,  0.96801981,  0.1027624 ,\n",
        "        0.69166238,  0.98447828,  0.74091446,  0.45722138,  0.53407537,\n",
        "        0.75788907,  0.25903541,  0.95853176,  0.20031034,  0.55472441,\n",
        "        0.02009351,  0.89195916,  0.17590806,  0.75446563,  0.50561921])"
       ]
      }
     ],
     "prompt_number": 180
    },
    {
     "cell_type": "code",
     "collapsed": false,
     "input": [
      "#precision\uc740 \ud074\uc218\ub85d \uc815\ubc00\ub3c4\uac00 \ucee4\uc9d0\n",
      "pd.cut(data,4,precision=2)"
     ],
     "language": "python",
     "metadata": {},
     "outputs": [
      {
       "metadata": {},
       "output_type": "pyout",
       "prompt_number": 181,
       "text": [
        "[(0.74, 0.98], (0.019, 0.26], (0.019, 0.26], (0.74, 0.98], (0.019, 0.26], ..., (0.019, 0.26], (0.74, 0.98], (0.019, 0.26], (0.74, 0.98], (0.5, 0.74]]\n",
        "Length: 20\n",
        "Categories (4, object): [(0.019, 0.26] < (0.26, 0.5] < (0.5, 0.74] < (0.74, 0.98]]"
       ]
      }
     ],
     "prompt_number": 181
    },
    {
     "cell_type": "code",
     "collapsed": true,
     "input": [
      "data = np.random.randn(1000) #Normally distributed"
     ],
     "language": "python",
     "metadata": {},
     "outputs": [],
     "prompt_number": 182
    },
    {
     "cell_type": "code",
     "collapsed": false,
     "input": [
      "data"
     ],
     "language": "python",
     "metadata": {},
     "outputs": [
      {
       "metadata": {},
       "output_type": "pyout",
       "prompt_number": 183,
       "text": [
        "array([ -3.91559173e-01,   1.75643738e+00,  -1.71568428e+00,\n",
        "         1.77879285e+00,   7.29142030e-01,   1.11541367e+00,\n",
        "         9.07775050e-01,   1.49542178e+00,   3.63111063e-01,\n",
        "         1.96950902e+00,   2.22306224e-01,   8.90752589e-01,\n",
        "        -7.38359907e-01,   5.97849858e-01,  -5.87364479e-01,\n",
        "        -1.12964481e+00,  -8.04902553e-02,  -2.23036834e+00,\n",
        "         1.54976780e+00,   9.39300466e-02,  -4.28493591e-01,\n",
        "         4.99483897e-01,   3.69650606e-02,   2.81234524e-01,\n",
        "        -1.62196253e+00,   3.45346336e-01,   4.27819911e-01,\n",
        "         4.64805230e-01,  -3.01010414e-01,   1.85985538e-01,\n",
        "        -1.00469622e+00,   1.29859714e+00,  -1.00080986e+00,\n",
        "         3.47293811e-01,   1.68237306e+00,  -3.40082314e-01,\n",
        "         1.39351890e+00,  -1.18678605e+00,  -8.04093417e-01,\n",
        "         2.55340281e-01,   1.83198036e-01,   1.35360735e-01,\n",
        "        -1.74270703e+00,   8.51279715e-01,   5.06103603e-01,\n",
        "         1.93096937e+00,  -7.15804687e-01,   5.99117552e-01,\n",
        "         1.76527773e+00,   4.66462519e-01,  -3.98184300e-01,\n",
        "         5.50211945e-01,  -1.85527669e-01,   3.67675531e-01,\n",
        "        -1.66777499e+00,   1.40770295e-01,  -3.36022270e-01,\n",
        "         1.51097460e+00,   1.40582537e-02,  -1.48698583e+00,\n",
        "        -6.43306474e-01,  -5.92353549e-01,  -1.01725912e+00,\n",
        "         3.94318557e-01,  -2.36509713e-01,  -7.83626018e-01,\n",
        "        -1.91877959e-02,  -2.49015430e+00,  -1.37531856e+00,\n",
        "        -5.60357626e-01,  -9.56597439e-01,   2.49689544e-01,\n",
        "        -8.17167098e-01,  -9.12133007e-01,  -4.54529821e-01,\n",
        "         1.16275108e+00,   9.21814932e-01,  -4.88754021e-01,\n",
        "        -4.30545496e-01,   8.42713547e-01,  -4.47354503e-01,\n",
        "         2.25449082e-01,  -1.43369300e-01,  -3.54253615e-01,\n",
        "        -9.86501822e-01,  -1.20928201e+00,  -1.55939459e+00,\n",
        "        -5.86562305e-01,  -1.46308371e+00,  -7.00026977e-01,\n",
        "        -1.09443932e+00,   5.23478264e-01,   8.21262481e-01,\n",
        "        -1.62856417e+00,   6.66634275e-01,  -9.09411328e-02,\n",
        "        -3.29219848e-01,   1.53522022e-01,   1.01858586e+00,\n",
        "         4.11104711e-01,  -1.70990283e+00,  -1.77215565e+00,\n",
        "        -3.75311021e-01,   6.40079661e-01,  -8.08742225e-01,\n",
        "        -3.30960113e-01,   4.10179746e-01,  -1.72855453e-01,\n",
        "        -1.97804960e+00,  -4.97425563e-01,   9.35231663e-02,\n",
        "         1.62406349e+00,   7.76493659e-02,  -1.53746761e+00,\n",
        "         8.21795555e-01,  -6.46468524e-01,  -9.71426914e-01,\n",
        "         2.23848555e-01,   2.77541591e-01,  -5.83749125e-02,\n",
        "        -1.58628210e+00,  -5.94143733e-01,  -8.26561327e-02,\n",
        "        -6.09956830e-01,  -6.80332406e-01,   2.10116098e-01,\n",
        "         2.04755723e+00,  -1.07692191e+00,  -1.51694779e+00,\n",
        "         9.60755033e-02,  -6.42205747e-01,  -1.11054130e+00,\n",
        "         2.65349387e+00,   1.23270650e+00,  -1.83852382e+00,\n",
        "         1.84388959e+00,   1.03400177e+00,  -1.62025810e-01,\n",
        "        -2.27632012e-01,  -3.16400165e-01,  -1.20479254e+00,\n",
        "        -3.15606041e-01,   3.75221128e-01,  -3.82855138e-01,\n",
        "         4.01159524e-01,  -5.02785029e-02,   2.70375445e-01,\n",
        "        -1.12434013e+00,   6.53643624e-01,  -1.12240599e+00,\n",
        "         5.01012895e-01,  -2.15541050e-01,   8.38767258e-01,\n",
        "         2.71749589e-01,  -2.04310814e+00,  -8.80789076e-01,\n",
        "         5.39061653e-01,  -3.93932486e-01,   1.82407734e+00,\n",
        "        -1.10242509e+00,   1.86581797e+00,   4.32671408e-01,\n",
        "        -7.14171755e-01,  -3.72756634e-01,   2.77149262e-01,\n",
        "        -1.08897041e+00,  -4.83901305e-01,  -7.49299603e-01,\n",
        "         1.41870838e+00,   3.17513791e-01,   8.63144052e-01,\n",
        "        -3.69522830e-01,   1.26180864e+00,   2.20876797e-01,\n",
        "        -6.86017400e-01,  -1.52848186e+00,   1.94863891e-01,\n",
        "        -2.26382445e-01,  -1.55181007e+00,   1.07165387e+00,\n",
        "        -1.02803923e+00,   2.21035167e-01,  -2.37060311e-01,\n",
        "        -9.45539870e-01,   2.12669456e+00,   8.37461861e-01,\n",
        "         5.96373816e-01,   1.47074391e-01,   1.10994753e-01,\n",
        "         5.55243697e-01,   9.53956377e-01,  -1.25752963e+00,\n",
        "        -1.38432640e+00,   1.55914751e+00,  -1.41247418e+00,\n",
        "        -1.69133436e-01,   4.33753363e-01,   2.04867673e-02,\n",
        "         2.38567478e-01,   5.81343760e-01,  -8.41007015e-02,\n",
        "         1.10753939e+00,   1.15724020e-01,   8.29235735e-01,\n",
        "         5.50061232e-01,   3.12221804e-01,  -2.01823733e+00,\n",
        "        -9.23111854e-02,   1.56334521e+00,   3.75335931e-01,\n",
        "         2.28616754e-01,   6.65320061e-01,  -1.06654586e+00,\n",
        "         6.86956068e-01,   9.48413013e-01,   7.05704597e-02,\n",
        "        -6.41225480e-01,   1.29409462e-01,   1.57262214e-01,\n",
        "        -1.59675427e+00,  -1.28145697e-01,  -3.93261405e-01,\n",
        "        -3.06406224e-01,   1.63733490e-01,  -4.95653370e-01,\n",
        "        -4.38210589e-01,   5.17198012e-01,   1.43622686e+00,\n",
        "        -4.42771846e-01,   5.94906921e-01,   1.71308694e+00,\n",
        "         9.24334757e-02,   7.07757248e-02,  -8.35472436e-01,\n",
        "        -7.97597863e-01,  -5.47971557e-02,  -2.59195373e-01,\n",
        "         3.17744799e-01,   1.20291341e+00,   1.59720445e-01,\n",
        "         1.44950863e+00,   5.45276160e-01,   1.28564906e+00,\n",
        "        -8.66279607e-01,  -3.51603993e-01,  -7.00132720e-01,\n",
        "        -5.79393608e-01,   2.76936434e-01,   1.18801432e+00,\n",
        "        -1.10159698e+00,  -8.90316566e-01,  -7.85965594e-01,\n",
        "        -3.40611509e-01,   9.52093802e-01,  -6.97704341e-01,\n",
        "         9.03260450e-01,  -6.52174080e-01,  -3.97860852e-01,\n",
        "         4.79288839e-01,   2.99976646e+00,  -4.15350068e-01,\n",
        "         1.25950614e-01,   5.30749234e-01,   4.77178462e-01,\n",
        "         1.76094764e+00,  -1.87427238e+00,   6.09131642e-01,\n",
        "         1.41549821e+00,  -1.27241655e+00,   5.83135047e-01,\n",
        "         1.39762975e-01,   2.34267018e-01,   5.40791263e-01,\n",
        "        -1.15742139e-01,   9.29245567e-01,   5.89262760e-01,\n",
        "        -9.29062573e-02,  -5.98023146e-01,   5.13982638e-01,\n",
        "         7.96049492e-01,  -5.30786892e-01,   7.42511771e-01,\n",
        "        -7.72253436e-02,  -3.55574819e-02,   1.31551602e+00,\n",
        "        -6.96605253e-01,   1.29267935e+00,  -2.95432997e+00,\n",
        "        -7.38654307e-01,   1.82038915e-01,  -2.70031305e+00,\n",
        "        -3.13562511e-01,  -8.45759498e-01,  -9.36498757e-01,\n",
        "         9.07147007e-01,   2.12204026e-01,  -9.43597679e-01,\n",
        "        -5.87697873e-01,   2.82751874e-01,  -2.02325481e+00,\n",
        "        -1.13149314e+00,  -7.09025872e-01,   3.71682640e-01,\n",
        "         1.75956374e+00,  -1.92283968e+00,   1.98483566e+00,\n",
        "        -1.20232085e+00,  -3.27667850e-01,   7.87046298e-01,\n",
        "         4.94025084e-01,  -1.44915261e+00,  -2.82484763e-01,\n",
        "        -9.02591993e-01,  -2.05227605e-01,   1.03825496e-01,\n",
        "         8.46052983e-01,   1.43208689e+00,  -5.95837468e-01,\n",
        "         1.19007263e+00,   3.33900590e-01,   4.94254387e-01,\n",
        "         2.96542509e-01,   3.79524156e-01,   2.35168918e+00,\n",
        "        -8.50663314e-02,  -9.40835259e-01,   1.00487715e+00,\n",
        "        -9.75902953e-01,   3.64828270e-01,  -7.92457882e-01,\n",
        "         1.97534911e+00,  -1.05154952e+00,  -2.84432843e-01,\n",
        "         3.37327330e-01,  -9.07881761e-01,  -7.57598369e-01,\n",
        "         1.21818734e+00,   1.52644557e-01,   2.55488797e-01,\n",
        "         4.66545935e-01,   2.28369066e+00,  -1.60270878e+00,\n",
        "        -1.16935425e+00,  -1.67028563e+00,  -2.44571376e-01,\n",
        "         8.41878689e-01,  -5.35050788e-01,  -7.33298080e-01,\n",
        "        -5.94545933e-01,  -1.96181067e+00,   1.39401440e+00,\n",
        "        -2.42233844e-01,  -1.18398288e+00,  -1.21234973e+00,\n",
        "        -2.85687399e-02,   1.65141122e+00,   2.31966330e-01,\n",
        "        -5.50985899e-01,  -8.48276065e-01,  -4.75417386e-01,\n",
        "        -6.21536405e-01,   4.54671997e-02,  -6.61898599e-01,\n",
        "        -3.52115584e-01,   1.28239644e+00,  -9.84040646e-01,\n",
        "        -9.06475187e-01,   2.27084670e+00,   1.46420168e+00,\n",
        "        -3.68019308e-03,  -4.63371975e-04,   2.65568586e-01,\n",
        "        -1.52352512e+00,   1.09084638e+00,  -4.68473298e-01,\n",
        "        -1.89340459e+00,   2.37922763e+00,  -1.21681463e+00,\n",
        "        -1.85880479e+00,  -6.11232749e-01,  -7.25193522e-01,\n",
        "         4.87415585e-01,  -2.51316893e+00,  -8.94783226e-01,\n",
        "        -9.74388624e-01,  -7.51657990e-01,   2.18216122e+00,\n",
        "        -8.73660825e-01,  -1.67139662e+00,   7.89474734e-01,\n",
        "         5.90838969e-01,  -4.86980758e-01,  -1.12553388e+00,\n",
        "         6.94948019e-01,   8.63604733e-01,  -9.56056729e-01,\n",
        "        -2.77349273e-01,   1.79970504e-01,   1.14539240e-01,\n",
        "        -7.14822234e-01,  -3.10102259e-01,  -5.37595286e-01,\n",
        "        -2.12242007e-01,  -8.80321359e-01,  -6.07143828e-01,\n",
        "         1.09519599e-01,  -3.25711036e-01,   5.78385494e-01,\n",
        "         6.16342117e-01,  -1.61017401e+00,  -1.84550580e-01,\n",
        "        -1.51305241e+00,  -7.79758617e-01,   1.03975288e+00,\n",
        "        -9.61411619e-01,  -9.57474747e-01,  -2.61638316e-01,\n",
        "         1.82741672e-02,  -4.54527863e-01,   1.45970795e-01,\n",
        "        -7.86959696e-01,  -2.98417967e+00,  -1.01124621e+00,\n",
        "        -1.61433192e+00,  -4.76295823e-01,   1.26892054e+00,\n",
        "        -1.10619661e+00,  -4.97175045e-01,  -8.01658123e-01,\n",
        "        -1.60375772e+00,   3.53079974e-01,   1.18759922e+00,\n",
        "         3.55891387e-01,  -9.82044159e-03,  -2.26489705e-01,\n",
        "         1.44943034e+00,  -8.73914228e-01,   2.08853102e-01,\n",
        "         2.34504710e-01,  -6.37028878e-02,   1.09573415e+00,\n",
        "         3.91144443e-03,  -4.33233268e-01,  -1.15226112e-01,\n",
        "         1.17105352e+00,   8.61686063e-01,  -1.69937672e-01,\n",
        "         6.37711322e-01,   6.16790370e-01,   1.61672613e+00,\n",
        "        -1.98562344e+00,  -5.91766513e-01,  -1.53957693e+00,\n",
        "        -1.74531648e-01,   2.26797466e+00,   1.11319822e+00,\n",
        "        -1.14686857e+00,   2.82574078e-01,  -1.13712595e+00,\n",
        "        -1.06921803e+00,  -2.57819262e-01,   5.24776974e-01,\n",
        "         9.51194575e-01,   8.49629268e-01,  -3.30764342e-01,\n",
        "        -2.63984230e-01,  -1.06744283e+00,   4.72369245e-01,\n",
        "        -6.50724548e-02,  -7.65338238e-01,  -6.53598233e-01,\n",
        "        -1.57256172e+00,  -1.26951791e+00,   9.67543648e-01,\n",
        "         8.26425177e-01,  -1.44623519e-01,   1.64899090e+00,\n",
        "         1.73658412e-01,   2.63356333e-01,  -2.54125279e-01,\n",
        "        -6.03252589e-01,   1.41739494e+00,  -5.05740567e-01,\n",
        "         1.54758140e+00,  -2.60023798e-01,  -2.10776364e-01,\n",
        "        -4.73403576e-02,  -1.40271271e-01,   1.13108492e+00,\n",
        "         5.78591344e-01,  -3.38754892e+00,   2.07908364e+00,\n",
        "         1.49560537e+00,  -5.43778997e-02,   4.31821115e-01,\n",
        "         1.67239740e+00,  -9.24679553e-01,   6.45675077e-01,\n",
        "         4.40091487e-01,  -2.14249134e-01,  -1.31347347e+00,\n",
        "         2.59192989e+00,   5.12694510e-01,   2.49907593e+00,\n",
        "         1.66091157e+00,  -6.38513866e-01,  -1.38269563e+00,\n",
        "        -7.12599685e-01,  -1.27543588e+00,  -4.02706612e-01,\n",
        "         1.68987819e-01,  -1.07934756e+00,   1.23423817e-01,\n",
        "         1.69307077e+00,   9.09934477e-01,   3.30486729e-01,\n",
        "        -4.58465423e-01,   4.52471703e-01,  -6.33308387e-01,\n",
        "         1.48626918e+00,  -2.08351930e-01,  -4.22895102e-01,\n",
        "        -5.22912562e-01,   4.04496810e-01,   2.56750146e-01,\n",
        "         6.43901178e-01,   1.23093533e+00,   2.41984977e+00,\n",
        "         2.51671930e-01,   2.18278293e-01,   4.26276203e-01,\n",
        "        -8.36960894e-02,   1.87690429e+00,   4.07852828e-01,\n",
        "         1.42165656e+00,   7.24079277e-01,   2.81925761e+00,\n",
        "        -3.14366030e-01,   6.22808067e-01,   2.70029399e-01,\n",
        "         1.67243091e-01,   3.33291076e-01,  -1.46478449e-01,\n",
        "         4.01628470e-01,  -2.76574821e-01,   1.98079332e+00,\n",
        "        -3.00018713e-01,   1.57486157e+00,   1.53421088e+00,\n",
        "         2.95574490e-01,  -1.42579421e+00,  -1.04858033e+00,\n",
        "        -4.63935332e-01,   6.91009425e-01,   2.90558824e-01,\n",
        "         1.56558938e-01,  -3.98200901e-01,   3.28338174e-01,\n",
        "        -7.34094937e-01,  -8.32061623e-02,  -9.97263445e-02,\n",
        "         1.19326371e+00,   1.30319777e+00,   7.87907746e-01,\n",
        "        -1.42294712e-01,  -2.18703782e+00,  -1.39796356e+00,\n",
        "        -1.24479146e+00,   1.31122332e+00,  -1.96212819e+00,\n",
        "         5.06970809e-01,  -4.38053876e-01,   1.47901155e+00,\n",
        "         1.03819292e+00,   2.46620814e-01,  -2.28596516e-02,\n",
        "         2.88236351e-02,  -5.06318346e-01,   2.51556278e-01,\n",
        "         1.10566163e+00,  -1.62391705e+00,  -9.17211498e-01,\n",
        "         2.11883631e-01,   1.10927205e+00,   7.81608654e-01,\n",
        "        -1.70157932e-01,   6.38128073e-01,  -2.35612343e-01,\n",
        "        -7.95038982e-02,   2.14740040e-01,  -1.49905092e+00,\n",
        "        -2.58184332e-01,  -1.44862739e+00,   1.83463739e-01,\n",
        "        -5.33298403e-02,  -8.75528536e-01,   7.57027384e-01,\n",
        "        -1.18006468e+00,  -2.41741119e-01,   3.73383631e-01,\n",
        "         6.79510489e-01,   2.93881752e-01,  -9.23738957e-02,\n",
        "         6.89789088e-01,   1.03483646e+00,   5.25473476e-01,\n",
        "        -9.52800262e-01,   2.49076760e-01,   7.18858707e-02,\n",
        "        -9.73292650e-01,  -1.70752104e+00,   7.48865014e-01,\n",
        "         1.49838746e-01,  -6.37675221e-01,   1.94818270e-01,\n",
        "        -1.64404625e-01,   7.56560576e-01,   1.44221957e+00,\n",
        "         2.53556990e-01,   3.50564488e-01,  -1.98694488e-01,\n",
        "        -1.43330228e+00,   8.37674364e-02,   1.69921629e+00,\n",
        "        -1.51069134e+00,  -5.23552972e-01,  -1.99871533e-01,\n",
        "        -2.04257356e+00,   1.52725798e-01,  -1.17919494e+00,\n",
        "        -8.03311945e-02,   8.10129434e-01,  -1.63585639e+00,\n",
        "        -4.70234214e-02,   6.03543297e-02,  -8.04787108e-01,\n",
        "         6.62691090e-01,  -7.65701061e-01,   4.00877715e-01,\n",
        "         1.42119094e+00,   4.01200265e-01,  -4.25644975e-02,\n",
        "        -1.33909121e+00,  -1.62672945e+00,   1.14412814e+00,\n",
        "         1.06706163e+00,  -1.07417968e+00,  -3.50989650e-01,\n",
        "         9.45405585e-01,  -1.84776657e-01,  -1.07252196e-01,\n",
        "         9.58630710e-01,   3.28653461e-01,  -3.93016333e-01,\n",
        "         2.29792719e+00,  -7.07406456e-01,  -3.51416086e-01,\n",
        "         1.22582192e+00,   2.99810587e-01,  -3.92716487e-01,\n",
        "        -4.40060811e-01,  -2.80937131e-02,   6.28776593e-01,\n",
        "         1.42909291e+00,   6.41087651e-02,  -1.72143079e-01,\n",
        "        -7.22939334e-01,  -3.22337904e-01,   1.51598587e+00,\n",
        "        -1.13788209e-02,  -7.28009899e-01,  -4.09900404e-01,\n",
        "        -2.65226472e-01,   3.65400280e-01,  -8.82612997e-01,\n",
        "         5.66932881e-01,  -4.33405349e-01,   2.43033096e-01,\n",
        "        -1.10479340e+00,   1.24023020e-01,   1.36574270e+00,\n",
        "         1.14004430e+00,   1.40286794e+00,   7.01545523e-01,\n",
        "         2.45985443e-01,   4.54577597e-01,  -1.42922380e+00,\n",
        "         1.21378400e+00,   9.72260224e-01,   4.17786729e-01,\n",
        "        -1.17084638e+00,  -1.00631687e+00,  -3.36872456e-01,\n",
        "         1.85613489e+00,   1.67085729e+00,  -6.56618922e-01,\n",
        "         7.84623264e-01,   1.28881718e+00,   1.33141748e+00,\n",
        "         1.98876032e+00,  -2.43823497e-01,  -1.12197642e-01,\n",
        "        -1.87887132e+00,   6.92935930e-01,  -5.31592933e-01,\n",
        "         1.24037917e+00,  -7.34264585e-01,  -4.64763748e-01,\n",
        "         2.72827583e-01,   6.63962890e-01,   1.56529552e+00,\n",
        "        -7.10371444e-02,  -2.42476652e-02,  -8.06055833e-02,\n",
        "         6.00368511e-01,  -5.56082274e-01,  -1.10011866e+00,\n",
        "         2.15931891e+00,  -4.28745667e-01,  -3.12756003e-01,\n",
        "        -8.69078836e-01,  -6.25476433e-01,  -1.38463841e+00,\n",
        "        -2.34105370e+00,   6.77163434e-01,  -1.95663878e+00,\n",
        "         1.83434364e-01,  -1.32205734e+00,  -1.13579025e+00,\n",
        "         9.28503575e-01,   5.48258622e-01,  -1.39820663e+00,\n",
        "         1.76492399e-01,   1.18253997e+00,  -4.70257057e-01,\n",
        "        -1.00164299e+00,   7.02076190e-01,   1.32975515e-01,\n",
        "        -9.06238782e-01,  -3.31098039e-02,  -9.80685074e-01,\n",
        "        -1.02560091e+00,   1.56020984e+00,  -3.56375699e-01,\n",
        "         5.08980804e-01,   1.84822929e+00,   1.32547284e+00,\n",
        "        -8.73654785e-01,   8.91339965e-01,   1.36978127e+00,\n",
        "         2.69817408e-01,   1.07245026e+00,  -2.13893453e+00,\n",
        "        -5.68566380e-01,   8.63756267e-02,   2.14940590e-01,\n",
        "        -1.20149656e+00,  -6.13954637e-01,  -1.29637241e+00,\n",
        "        -1.40441181e-02,  -3.53773546e-01,   9.26054147e-01,\n",
        "        -3.57649933e-01,  -1.49772010e-01,   1.47799365e+00,\n",
        "         1.18890185e+00,  -1.11960060e+00,  -1.02914861e+00,\n",
        "        -4.21017849e-01,  -2.15689218e-01,  -2.04057546e-01,\n",
        "         9.83069025e-02,   1.32659032e+00,   1.55713884e+00,\n",
        "         9.25939576e-02,   5.77808675e-01,  -1.54632821e-01,\n",
        "        -1.22354673e+00,  -5.65403314e-01,   6.60338414e-01,\n",
        "         8.39017105e-01,   1.14679210e+00,  -1.50073028e-01,\n",
        "        -1.21170463e-01,   1.57114220e+00,  -5.44944414e-01,\n",
        "        -1.00834853e+00,  -9.30335533e-01,  -2.27837995e+00,\n",
        "         2.01503918e-02,  -2.79200150e-02,  -3.03400266e-01,\n",
        "        -3.60669696e-01,   2.26075879e-02,  -7.42516267e-01,\n",
        "         2.91310204e-02,  -1.05358559e+00,   8.32957325e-01,\n",
        "         4.13357451e-01,   5.80642184e-01,   3.61341969e-01,\n",
        "        -4.65683523e-02,  -3.14191852e-01,  -1.07459482e-01,\n",
        "         2.44795483e-01,   1.26030081e-01,   1.39558741e+00,\n",
        "         4.85801611e-01,   3.71955578e-01,   5.06623304e-01,\n",
        "         7.29652773e-01,  -8.74248709e-01,  -1.14322377e+00,\n",
        "        -2.04316030e+00,  -5.70407109e-01,   8.64327569e-01,\n",
        "        -1.86869776e+00,   2.81127996e-01,   8.04135448e-01,\n",
        "         1.19889330e+00,   1.45361374e+00,   1.13295386e-01,\n",
        "        -2.09516650e-01,  -3.59608711e+00,   1.72867854e-01,\n",
        "         6.16547111e-01,   8.89447252e-01,  -9.87671076e-01,\n",
        "        -1.26590863e-01,  -6.10642961e-02,  -1.13713193e+00,\n",
        "         7.24552118e-01,   4.75318881e-01,   1.21273719e-01,\n",
        "        -7.49588625e-01,   4.23545934e-01,   7.86023413e-01,\n",
        "         7.06147029e-02,  -6.62646603e-01,  -3.54956072e-01,\n",
        "        -1.12809083e+00,  -7.07511068e-01,  -3.64097978e-01,\n",
        "        -7.11625274e-01,  -4.29103488e-01,  -7.66593706e-01,\n",
        "        -3.90393073e-02,   3.56028478e-01,   8.89110620e-01,\n",
        "         1.60941134e+00,  -1.59986406e+00,  -7.69878467e-02,\n",
        "        -9.78490997e-01,  -3.37731578e-01,   4.88192659e-01,\n",
        "         9.14678471e-01,   1.48376557e+00,   5.27346010e-01,\n",
        "        -1.40395555e+00,  -1.12405018e+00,  -5.82490716e-02,\n",
        "         1.19201849e+00,  -1.77676376e+00,  -1.12279985e+00,\n",
        "         2.77659577e-01,  -1.35842457e+00,  -2.47298238e-01,\n",
        "        -2.72439871e+00,  -3.45270161e-01,  -5.66421503e-02,\n",
        "         1.06202832e+00,   2.64498073e-01,   4.45024228e-02,\n",
        "         8.01542861e-01,   5.77669357e-01,   6.54291373e-01,\n",
        "         1.28353492e-02,   1.40042366e-01,   9.81287945e-02,\n",
        "         1.16652482e+00,   2.49510659e-01,   1.54879574e-01,\n",
        "         2.15737208e-02,   1.04792447e+00,   1.74871447e+00,\n",
        "         2.76030427e-01,  -2.24089071e-01,  -1.46736857e-01,\n",
        "         2.54382298e-01,  -5.41602915e-01,  -2.99684470e-01,\n",
        "         5.05382858e-01,  -2.93839259e-01,   9.19855751e-01,\n",
        "         6.44423352e-03,   1.03388241e-01,   2.75901663e-01,\n",
        "        -8.18354713e-01,  -5.06802205e-01,   1.32347310e-02,\n",
        "         3.92321517e-01,  -1.14649349e+00,   2.20435090e-01,\n",
        "        -9.61453310e-01,  -1.20781377e+00,  -1.79082439e-01,\n",
        "         7.57594854e-01,   4.70259029e-01,   1.07409064e+00,\n",
        "         8.41804109e-01,  -3.85244993e-01,  -8.27675739e-01,\n",
        "         1.12188253e+00,  -3.05411545e-01,  -4.24571048e-01,\n",
        "        -1.32210600e-01,  -2.47492880e+00,   2.57396485e-01,\n",
        "         1.28653518e+00,   2.42685583e-01,  -7.63046764e-01,\n",
        "        -1.67898562e+00,   1.02288248e+00,   4.97252572e-01,\n",
        "        -1.13756346e+00,   4.27209781e-01,   2.14952131e+00,\n",
        "        -5.56604409e-01,   1.96211955e-01,  -8.77790520e-01,\n",
        "         3.89780988e-01,   9.31938000e-01,   4.84138063e-01,\n",
        "         7.20315361e-01,  -8.81362480e-01,  -4.46126424e-01,\n",
        "         3.81518449e-01,  -2.02385855e+00,  -2.14788474e-01,\n",
        "        -7.36606546e-01,   1.16391971e+00,  -4.28831026e-01,\n",
        "         9.28642560e-01,  -1.03071800e+00,  -1.26894259e+00,\n",
        "        -6.31282566e-01,   6.92452421e-01,   8.24375427e-01,\n",
        "         8.18034214e-01,  -9.28367105e-01,  -1.17683415e+00,\n",
        "        -6.92326277e-02,  -2.83640197e-02,  -1.07166418e+00,\n",
        "        -1.35999786e-01,  -1.50073702e-01,   8.27007977e-01,\n",
        "        -1.15649150e+00,  -4.51960966e-02,  -8.06139767e-01,\n",
        "        -1.75752021e-01,  -3.83638729e-01,   1.08163989e+00,\n",
        "         1.08717164e+00,  -2.15408756e-01,  -1.33988190e+00,\n",
        "         1.16156961e+00,   9.52483368e-01,   1.04422630e-01,\n",
        "         7.29372782e-01,  -1.04822218e+00,   8.68791331e-01,\n",
        "         1.81839541e+00,   5.33698746e-02,   9.24534118e-03,\n",
        "         2.07430402e+00,   1.49100758e+00,  -4.17687579e-02,\n",
        "        -1.18594235e+00,  -6.03316065e-01,  -6.13855024e-01,\n",
        "         2.84266302e-02,   1.67017142e+00,  -3.72175584e-01,\n",
        "         9.97897434e-02,   7.69052742e-01,   1.30666201e+00,\n",
        "        -1.30646042e+00,  -2.69118591e-02,   9.89119963e-01,\n",
        "         2.05040139e-01,  -1.43239157e+00,   1.52621970e+00,\n",
        "         1.83727246e+00,   6.99301759e-01,  -1.49987245e+00,\n",
        "        -4.04673862e-01,  -7.56433734e-01,  -5.45231350e-01,\n",
        "        -8.25038611e-01])"
       ]
      }
     ],
     "prompt_number": 183
    },
    {
     "cell_type": "code",
     "collapsed": true,
     "input": [
      "#4\uac1c\ub85c \uac19\uc740 \ud06c\uae30\uc758 \uadf8\ub8f9\uc73c\ub85c \ub098\ub214\n",
      "#Cut into quartiles\n",
      "#qcut \ud568\uc218\ub294 \ud45c\uc900\ubcc0\uc704\uce58\ub97c \uc0ac\uc6a9\ud558\uae30 \ub54c\ubb38\uc5d0 \uc801\ub2f9\ud788 \uac19\uc740 \ud06c\uae30\uc758 \uadf8\ub8f9\uc73c\ub85c \ub098\ub204\uc5b4\uc9d0\n",
      "cats = pd.qcut(data,4)"
     ],
     "language": "python",
     "metadata": {},
     "outputs": [],
     "prompt_number": 184
    },
    {
     "cell_type": "code",
     "collapsed": false,
     "input": [
      "cats"
     ],
     "language": "python",
     "metadata": {},
     "outputs": [
      {
       "metadata": {},
       "output_type": "pyout",
       "prompt_number": 185,
       "text": [
        "[(-0.682, -0.0274], (0.616, 3], [-3.596, -0.682], (0.616, 3], (0.616, 3], ..., [-3.596, -0.682], (-0.682, -0.0274], [-3.596, -0.682], (-0.682, -0.0274], [-3.596, -0.682]]\n",
        "Length: 1000\n",
        "Categories (4, object): [[-3.596, -0.682] < (-0.682, -0.0274] < (-0.0274, 0.616] < (0.616, 3]]"
       ]
      }
     ],
     "prompt_number": 185
    },
    {
     "cell_type": "code",
     "collapsed": false,
     "input": [
      "pd.value_counts(cats)"
     ],
     "language": "python",
     "metadata": {},
     "outputs": [
      {
       "metadata": {},
       "output_type": "pyout",
       "prompt_number": 186,
       "text": [
        "(0.616, 3]           250\n",
        "(-0.0274, 0.616]     250\n",
        "(-0.682, -0.0274]    250\n",
        "[-3.596, -0.682]     250\n",
        "dtype: int64"
       ]
      }
     ],
     "prompt_number": 186
    },
    {
     "cell_type": "code",
     "collapsed": true,
     "input": [
      "#cut \ud568\uc218\ub294 \ub370\uc774\ud130\uc758 \ubd84\uc0b0\uc5d0 \ub530\ub77c \uac01\uac01\uc758 \uadf8\ub8f9\ub9c8\ub2e4 \ub370\uc774\ud130\uc758 \uac1c\uc218\uac00 \ub2e4\ub974\uac8c \ub098\ub204\uc5b4\uc9d0\n",
      "tmp_cats = pd.cut(data,4)"
     ],
     "language": "python",
     "metadata": {},
     "outputs": [],
     "prompt_number": 187
    },
    {
     "cell_type": "code",
     "collapsed": false,
     "input": [
      "tmp_cats"
     ],
     "language": "python",
     "metadata": {},
     "outputs": [
      {
       "metadata": {},
       "output_type": "pyout",
       "prompt_number": 188,
       "text": [
        "[(-1.947, -0.298], (1.351, 3], (-1.947, -0.298], (1.351, 3], (-0.298, 1.351], ..., (-1.947, -0.298], (-1.947, -0.298], (-1.947, -0.298], (-1.947, -0.298], (-1.947, -0.298]]\n",
        "Length: 1000\n",
        "Categories (4, object): [(-3.603, -1.947] < (-1.947, -0.298] < (-0.298, 1.351] < (1.351, 3]]"
       ]
      }
     ],
     "prompt_number": 188
    },
    {
     "cell_type": "code",
     "collapsed": false,
     "input": [
      "pd.value_counts(tmp_cats)"
     ],
     "language": "python",
     "metadata": {},
     "outputs": [
      {
       "metadata": {},
       "output_type": "pyout",
       "prompt_number": 189,
       "text": [
        "(-0.298, 1.351]     521\n",
        "(-1.947, -0.298]    363\n",
        "(1.351, 3]           91\n",
        "(-3.603, -1.947]     25\n",
        "dtype: int64"
       ]
      }
     ],
     "prompt_number": 189
    },
    {
     "cell_type": "code",
     "collapsed": false,
     "input": [
      "pd.qcut(data,[0,0.1,0.5,0.9,1.])"
     ],
     "language": "python",
     "metadata": {},
     "outputs": [
      {
       "metadata": {},
       "output_type": "pyout",
       "prompt_number": 190,
       "text": [
        "[(-1.205, -0.0274], (1.289, 3], [-3.596, -1.205], (1.289, 3], (-0.0274, 1.289], ..., [-3.596, -1.205], (-1.205, -0.0274], (-1.205, -0.0274], (-1.205, -0.0274], (-1.205, -0.0274]]\n",
        "Length: 1000\n",
        "Categories (4, object): [[-3.596, -1.205] < (-1.205, -0.0274] < (-0.0274, 1.289] < (1.289, 3]]"
       ]
      }
     ],
     "prompt_number": 190
    },
    {
     "cell_type": "markdown",
     "metadata": {},
     "source": [
      "###7.3.6 \ud2b9\uc774\uac12 \ucc3e\uc544\ub0b4\uace0 \uc81c\uc678\ud558\uae30\n",
      "- \ubc30\uc5f4\uc5f0\uc0b0\uc744 \uc218\ud589\ud560\ub54c\ub294 \ud2b9\uc774\uac12(outlier)\uc744 \uc81c\uc678\ud558\uac70\ub098 \uc801\ub2f9\ud55c \uac12\uc73c\ub85c \ub300\uccb4\ud558\ub294 \uac83\uc774 \uc911\uc694"
     ]
    },
    {
     "cell_type": "code",
     "collapsed": true,
     "input": [
      "np.random.seed(12345)"
     ],
     "language": "python",
     "metadata": {},
     "outputs": [],
     "prompt_number": 191
    },
    {
     "cell_type": "code",
     "collapsed": true,
     "input": [
      "#np.random.randn(row,column)\n",
      "data = DataFrame(np.random.randn(1000,4))"
     ],
     "language": "python",
     "metadata": {},
     "outputs": [],
     "prompt_number": 192
    },
    {
     "cell_type": "code",
     "collapsed": false,
     "input": [
      "data.describe()"
     ],
     "language": "python",
     "metadata": {},
     "outputs": [
      {
       "html": [
        "<div style=\"max-width:1500px;overflow:auto;\">\n",
        "<table border=\"1\" class=\"dataframe\">\n",
        "  <thead>\n",
        "    <tr style=\"text-align: right;\">\n",
        "      <th></th>\n",
        "      <th>0</th>\n",
        "      <th>1</th>\n",
        "      <th>2</th>\n",
        "      <th>3</th>\n",
        "    </tr>\n",
        "  </thead>\n",
        "  <tbody>\n",
        "    <tr>\n",
        "      <th>count</th>\n",
        "      <td>1000.000000</td>\n",
        "      <td>1000.000000</td>\n",
        "      <td>1000.000000</td>\n",
        "      <td>1000.000000</td>\n",
        "    </tr>\n",
        "    <tr>\n",
        "      <th>mean</th>\n",
        "      <td>-0.067684</td>\n",
        "      <td>0.067924</td>\n",
        "      <td>0.025598</td>\n",
        "      <td>-0.002298</td>\n",
        "    </tr>\n",
        "    <tr>\n",
        "      <th>std</th>\n",
        "      <td>0.998035</td>\n",
        "      <td>0.992106</td>\n",
        "      <td>1.006835</td>\n",
        "      <td>0.996794</td>\n",
        "    </tr>\n",
        "    <tr>\n",
        "      <th>min</th>\n",
        "      <td>-3.428254</td>\n",
        "      <td>-3.548824</td>\n",
        "      <td>-3.184377</td>\n",
        "      <td>-3.745356</td>\n",
        "    </tr>\n",
        "    <tr>\n",
        "      <th>25%</th>\n",
        "      <td>-0.774890</td>\n",
        "      <td>-0.591841</td>\n",
        "      <td>-0.641675</td>\n",
        "      <td>-0.644144</td>\n",
        "    </tr>\n",
        "    <tr>\n",
        "      <th>50%</th>\n",
        "      <td>-0.116401</td>\n",
        "      <td>0.101143</td>\n",
        "      <td>0.002073</td>\n",
        "      <td>-0.013611</td>\n",
        "    </tr>\n",
        "    <tr>\n",
        "      <th>75%</th>\n",
        "      <td>0.616366</td>\n",
        "      <td>0.780282</td>\n",
        "      <td>0.680391</td>\n",
        "      <td>0.654328</td>\n",
        "    </tr>\n",
        "    <tr>\n",
        "      <th>max</th>\n",
        "      <td>3.366626</td>\n",
        "      <td>2.653656</td>\n",
        "      <td>3.260383</td>\n",
        "      <td>3.927528</td>\n",
        "    </tr>\n",
        "  </tbody>\n",
        "</table>\n",
        "</div>"
       ],
       "metadata": {},
       "output_type": "pyout",
       "prompt_number": 193,
       "text": [
        "                 0            1            2            3\n",
        "count  1000.000000  1000.000000  1000.000000  1000.000000\n",
        "mean     -0.067684     0.067924     0.025598    -0.002298\n",
        "std       0.998035     0.992106     1.006835     0.996794\n",
        "min      -3.428254    -3.548824    -3.184377    -3.745356\n",
        "25%      -0.774890    -0.591841    -0.641675    -0.644144\n",
        "50%      -0.116401     0.101143     0.002073    -0.013611\n",
        "75%       0.616366     0.780282     0.680391     0.654328\n",
        "max       3.366626     2.653656     3.260383     3.927528"
       ]
      }
     ],
     "prompt_number": 193
    },
    {
     "cell_type": "code",
     "collapsed": true,
     "input": [
      "col = data[3]"
     ],
     "language": "python",
     "metadata": {},
     "outputs": [],
     "prompt_number": 194
    },
    {
     "cell_type": "code",
     "collapsed": false,
     "input": [
      "#\ud2b9\uc815 row\uc5d0\uc11c \uc808\ub300\uac12\uc774 3\ucd08\uacfc\uc778 \uac12\uc744 \ucd94\ucd9c\n",
      "col[np.abs(col)>3]"
     ],
     "language": "python",
     "metadata": {},
     "outputs": [
      {
       "metadata": {},
       "output_type": "pyout",
       "prompt_number": 195,
       "text": [
        "97     3.927528\n",
        "305   -3.399312\n",
        "400   -3.745356\n",
        "Name: 3, dtype: float64"
       ]
      }
     ],
     "prompt_number": 195
    },
    {
     "cell_type": "code",
     "collapsed": false,
     "input": [
      "data[(np.abs(data)>3).any(1)]"
     ],
     "language": "python",
     "metadata": {},
     "outputs": [
      {
       "html": [
        "<div style=\"max-width:1500px;overflow:auto;\">\n",
        "<table border=\"1\" class=\"dataframe\">\n",
        "  <thead>\n",
        "    <tr style=\"text-align: right;\">\n",
        "      <th></th>\n",
        "      <th>0</th>\n",
        "      <th>1</th>\n",
        "      <th>2</th>\n",
        "      <th>3</th>\n",
        "    </tr>\n",
        "  </thead>\n",
        "  <tbody>\n",
        "    <tr>\n",
        "      <th>5</th>\n",
        "      <td>-0.539741</td>\n",
        "      <td>0.476985</td>\n",
        "      <td>3.248944</td>\n",
        "      <td>-1.021228</td>\n",
        "    </tr>\n",
        "    <tr>\n",
        "      <th>97</th>\n",
        "      <td>-0.774363</td>\n",
        "      <td>0.552936</td>\n",
        "      <td>0.106061</td>\n",
        "      <td>3.927528</td>\n",
        "    </tr>\n",
        "    <tr>\n",
        "      <th>102</th>\n",
        "      <td>-0.655054</td>\n",
        "      <td>-0.565230</td>\n",
        "      <td>3.176873</td>\n",
        "      <td>0.959533</td>\n",
        "    </tr>\n",
        "    <tr>\n",
        "      <th>305</th>\n",
        "      <td>-2.315555</td>\n",
        "      <td>0.457246</td>\n",
        "      <td>-0.025907</td>\n",
        "      <td>-3.399312</td>\n",
        "    </tr>\n",
        "    <tr>\n",
        "      <th>324</th>\n",
        "      <td>0.050188</td>\n",
        "      <td>1.951312</td>\n",
        "      <td>3.260383</td>\n",
        "      <td>0.963301</td>\n",
        "    </tr>\n",
        "    <tr>\n",
        "      <th>400</th>\n",
        "      <td>0.146326</td>\n",
        "      <td>0.508391</td>\n",
        "      <td>-0.196713</td>\n",
        "      <td>-3.745356</td>\n",
        "    </tr>\n",
        "    <tr>\n",
        "      <th>499</th>\n",
        "      <td>-0.293333</td>\n",
        "      <td>-0.242459</td>\n",
        "      <td>-3.056990</td>\n",
        "      <td>1.918403</td>\n",
        "    </tr>\n",
        "    <tr>\n",
        "      <th>523</th>\n",
        "      <td>-3.428254</td>\n",
        "      <td>-0.296336</td>\n",
        "      <td>-0.439938</td>\n",
        "      <td>-0.867165</td>\n",
        "    </tr>\n",
        "    <tr>\n",
        "      <th>586</th>\n",
        "      <td>0.275144</td>\n",
        "      <td>1.179227</td>\n",
        "      <td>-3.184377</td>\n",
        "      <td>1.369891</td>\n",
        "    </tr>\n",
        "    <tr>\n",
        "      <th>808</th>\n",
        "      <td>-0.362528</td>\n",
        "      <td>-3.548824</td>\n",
        "      <td>1.553205</td>\n",
        "      <td>-2.186301</td>\n",
        "    </tr>\n",
        "    <tr>\n",
        "      <th>900</th>\n",
        "      <td>3.366626</td>\n",
        "      <td>-2.372214</td>\n",
        "      <td>0.851010</td>\n",
        "      <td>1.332846</td>\n",
        "    </tr>\n",
        "  </tbody>\n",
        "</table>\n",
        "</div>"
       ],
       "metadata": {},
       "output_type": "pyout",
       "prompt_number": 196,
       "text": [
        "            0         1         2         3\n",
        "5   -0.539741  0.476985  3.248944 -1.021228\n",
        "97  -0.774363  0.552936  0.106061  3.927528\n",
        "102 -0.655054 -0.565230  3.176873  0.959533\n",
        "305 -2.315555  0.457246 -0.025907 -3.399312\n",
        "324  0.050188  1.951312  3.260383  0.963301\n",
        "400  0.146326  0.508391 -0.196713 -3.745356\n",
        "499 -0.293333 -0.242459 -3.056990  1.918403\n",
        "523 -3.428254 -0.296336 -0.439938 -0.867165\n",
        "586  0.275144  1.179227 -3.184377  1.369891\n",
        "808 -0.362528 -3.548824  1.553205 -2.186301\n",
        "900  3.366626 -2.372214  0.851010  1.332846"
       ]
      }
     ],
     "prompt_number": 196
    },
    {
     "cell_type": "code",
     "collapsed": true,
     "input": [
      "#np.sign\uc740 \uc8fc\uc5b4\uc9c4 \uac12\uc774 \ubd80\ud638\uc5d0 \ub530\ub77c 1 \ud639\uc740 -1\uc774 \ub2f4\uae34 \ubc30\uc5f4\uc744 \ubc18\ud658\n",
      "#\uc808\ub300\uac12\uc774 3\uc744 \ub118\ub294 row\uc5d0\ub294 3 \ub610\ub294 -3\uc744 \uc800\uc7a5\n",
      "data[np.abs(data)>3] = np.sign(data)*3"
     ],
     "language": "python",
     "metadata": {},
     "outputs": [],
     "prompt_number": 197
    },
    {
     "cell_type": "code",
     "collapsed": false,
     "input": [
      "data.describe()"
     ],
     "language": "python",
     "metadata": {},
     "outputs": [
      {
       "html": [
        "<div style=\"max-width:1500px;overflow:auto;\">\n",
        "<table border=\"1\" class=\"dataframe\">\n",
        "  <thead>\n",
        "    <tr style=\"text-align: right;\">\n",
        "      <th></th>\n",
        "      <th>0</th>\n",
        "      <th>1</th>\n",
        "      <th>2</th>\n",
        "      <th>3</th>\n",
        "    </tr>\n",
        "  </thead>\n",
        "  <tbody>\n",
        "    <tr>\n",
        "      <th>count</th>\n",
        "      <td>1000.000000</td>\n",
        "      <td>1000.000000</td>\n",
        "      <td>1000.000000</td>\n",
        "      <td>1000.000000</td>\n",
        "    </tr>\n",
        "    <tr>\n",
        "      <th>mean</th>\n",
        "      <td>-0.067623</td>\n",
        "      <td>0.068473</td>\n",
        "      <td>0.025153</td>\n",
        "      <td>-0.002081</td>\n",
        "    </tr>\n",
        "    <tr>\n",
        "      <th>std</th>\n",
        "      <td>0.995485</td>\n",
        "      <td>0.990253</td>\n",
        "      <td>1.003977</td>\n",
        "      <td>0.989736</td>\n",
        "    </tr>\n",
        "    <tr>\n",
        "      <th>min</th>\n",
        "      <td>-3.000000</td>\n",
        "      <td>-3.000000</td>\n",
        "      <td>-3.000000</td>\n",
        "      <td>-3.000000</td>\n",
        "    </tr>\n",
        "    <tr>\n",
        "      <th>25%</th>\n",
        "      <td>-0.774890</td>\n",
        "      <td>-0.591841</td>\n",
        "      <td>-0.641675</td>\n",
        "      <td>-0.644144</td>\n",
        "    </tr>\n",
        "    <tr>\n",
        "      <th>50%</th>\n",
        "      <td>-0.116401</td>\n",
        "      <td>0.101143</td>\n",
        "      <td>0.002073</td>\n",
        "      <td>-0.013611</td>\n",
        "    </tr>\n",
        "    <tr>\n",
        "      <th>75%</th>\n",
        "      <td>0.616366</td>\n",
        "      <td>0.780282</td>\n",
        "      <td>0.680391</td>\n",
        "      <td>0.654328</td>\n",
        "    </tr>\n",
        "    <tr>\n",
        "      <th>max</th>\n",
        "      <td>3.000000</td>\n",
        "      <td>2.653656</td>\n",
        "      <td>3.000000</td>\n",
        "      <td>3.000000</td>\n",
        "    </tr>\n",
        "  </tbody>\n",
        "</table>\n",
        "</div>"
       ],
       "metadata": {},
       "output_type": "pyout",
       "prompt_number": 198,
       "text": [
        "                 0            1            2            3\n",
        "count  1000.000000  1000.000000  1000.000000  1000.000000\n",
        "mean     -0.067623     0.068473     0.025153    -0.002081\n",
        "std       0.995485     0.990253     1.003977     0.989736\n",
        "min      -3.000000    -3.000000    -3.000000    -3.000000\n",
        "25%      -0.774890    -0.591841    -0.641675    -0.644144\n",
        "50%      -0.116401     0.101143     0.002073    -0.013611\n",
        "75%       0.616366     0.780282     0.680391     0.654328\n",
        "max       3.000000     2.653656     3.000000     3.000000"
       ]
      }
     ],
     "prompt_number": 198
    },
    {
     "cell_type": "markdown",
     "metadata": {},
     "source": [
      "###7.3.7 \uce58\ud658\uacfc \uc784\uc758 \uc0d8\ud50c\ub9c1\n",
      "- numpy.random.permutation \ud568\uc218\ub97c \uc774\uc6a9\ud558\uba74 Series\ub098 DataFrame\uc758 row\ub97c \uc27d\uac8c \uc784\uc758\uc758 \uc21c\uc11c\ub300\ub85c \uc7ac\ubc30\uce58 \ud560 \uc218 \uc788\uc74c\n",
      "- \uc21c\uc11c\ub97c \ubc14\uafb8\uace0 \uc2f6\uc740 \ub9cc\ud07c\uc758 \uae38\uc774\ub97c permutaiotn \ud568\uc218\uc5d0 \ub118\uae30\uba74 \ubc14\ub010 \uc21c\uc11c\uac00 \ub2f4\uae34 \uc815\uc218 \ubc30\uc5f4\uc774 \uc0dd\uc131\ub428"
     ]
    },
    {
     "cell_type": "code",
     "collapsed": true,
     "input": [
      "df = DataFrame(np.arange(5*4).reshape(5,4))"
     ],
     "language": "python",
     "metadata": {},
     "outputs": [],
     "prompt_number": 199
    },
    {
     "cell_type": "code",
     "collapsed": false,
     "input": [
      "df"
     ],
     "language": "python",
     "metadata": {},
     "outputs": [
      {
       "html": [
        "<div style=\"max-width:1500px;overflow:auto;\">\n",
        "<table border=\"1\" class=\"dataframe\">\n",
        "  <thead>\n",
        "    <tr style=\"text-align: right;\">\n",
        "      <th></th>\n",
        "      <th>0</th>\n",
        "      <th>1</th>\n",
        "      <th>2</th>\n",
        "      <th>3</th>\n",
        "    </tr>\n",
        "  </thead>\n",
        "  <tbody>\n",
        "    <tr>\n",
        "      <th>0</th>\n",
        "      <td>0</td>\n",
        "      <td>1</td>\n",
        "      <td>2</td>\n",
        "      <td>3</td>\n",
        "    </tr>\n",
        "    <tr>\n",
        "      <th>1</th>\n",
        "      <td>4</td>\n",
        "      <td>5</td>\n",
        "      <td>6</td>\n",
        "      <td>7</td>\n",
        "    </tr>\n",
        "    <tr>\n",
        "      <th>2</th>\n",
        "      <td>8</td>\n",
        "      <td>9</td>\n",
        "      <td>10</td>\n",
        "      <td>11</td>\n",
        "    </tr>\n",
        "    <tr>\n",
        "      <th>3</th>\n",
        "      <td>12</td>\n",
        "      <td>13</td>\n",
        "      <td>14</td>\n",
        "      <td>15</td>\n",
        "    </tr>\n",
        "    <tr>\n",
        "      <th>4</th>\n",
        "      <td>16</td>\n",
        "      <td>17</td>\n",
        "      <td>18</td>\n",
        "      <td>19</td>\n",
        "    </tr>\n",
        "  </tbody>\n",
        "</table>\n",
        "</div>"
       ],
       "metadata": {},
       "output_type": "pyout",
       "prompt_number": 200,
       "text": [
        "    0   1   2   3\n",
        "0   0   1   2   3\n",
        "1   4   5   6   7\n",
        "2   8   9  10  11\n",
        "3  12  13  14  15\n",
        "4  16  17  18  19"
       ]
      }
     ],
     "prompt_number": 200
    },
    {
     "cell_type": "code",
     "collapsed": false,
     "input": [
      "#numpy.random.permutation()\uc744 \uc0ac\uc6a9\ud558\uc5ec 0~4\uae4c\uc9c0\uc758 \uc784\uc758\uc758 \uc218\uc758 \ubc30\uc5f4 \uc0dd\uc131\n",
      "sampler = np.random.permutation(5)\n",
      "sampler"
     ],
     "language": "python",
     "metadata": {},
     "outputs": [
      {
       "metadata": {},
       "output_type": "pyout",
       "prompt_number": 201,
       "text": [
        "array([1, 0, 2, 3, 4])"
       ]
      }
     ],
     "prompt_number": 201
    },
    {
     "cell_type": "code",
     "collapsed": false,
     "input": [
      "#DataFrame.take()\uc5d0 \ub9ac\uc2a4\ud2b8\ub97c \ub118\uae30\uba74 index\uc758 \uc21c\uc11c\ub97c \uc9c0\uc815\ud560\uc218 \uc788\uc74c\n",
      "df.take([3,2,1,0,4])"
     ],
     "language": "python",
     "metadata": {},
     "outputs": [
      {
       "html": [
        "<div style=\"max-width:1500px;overflow:auto;\">\n",
        "<table border=\"1\" class=\"dataframe\">\n",
        "  <thead>\n",
        "    <tr style=\"text-align: right;\">\n",
        "      <th></th>\n",
        "      <th>0</th>\n",
        "      <th>1</th>\n",
        "      <th>2</th>\n",
        "      <th>3</th>\n",
        "    </tr>\n",
        "  </thead>\n",
        "  <tbody>\n",
        "    <tr>\n",
        "      <th>3</th>\n",
        "      <td>12</td>\n",
        "      <td>13</td>\n",
        "      <td>14</td>\n",
        "      <td>15</td>\n",
        "    </tr>\n",
        "    <tr>\n",
        "      <th>2</th>\n",
        "      <td>8</td>\n",
        "      <td>9</td>\n",
        "      <td>10</td>\n",
        "      <td>11</td>\n",
        "    </tr>\n",
        "    <tr>\n",
        "      <th>1</th>\n",
        "      <td>4</td>\n",
        "      <td>5</td>\n",
        "      <td>6</td>\n",
        "      <td>7</td>\n",
        "    </tr>\n",
        "    <tr>\n",
        "      <th>0</th>\n",
        "      <td>0</td>\n",
        "      <td>1</td>\n",
        "      <td>2</td>\n",
        "      <td>3</td>\n",
        "    </tr>\n",
        "    <tr>\n",
        "      <th>4</th>\n",
        "      <td>16</td>\n",
        "      <td>17</td>\n",
        "      <td>18</td>\n",
        "      <td>19</td>\n",
        "    </tr>\n",
        "  </tbody>\n",
        "</table>\n",
        "</div>"
       ],
       "metadata": {},
       "output_type": "pyout",
       "prompt_number": 202,
       "text": [
        "    0   1   2   3\n",
        "3  12  13  14  15\n",
        "2   8   9  10  11\n",
        "1   4   5   6   7\n",
        "0   0   1   2   3\n",
        "4  16  17  18  19"
       ]
      }
     ],
     "prompt_number": 202
    },
    {
     "cell_type": "code",
     "collapsed": false,
     "input": [
      "df.take(sampler)"
     ],
     "language": "python",
     "metadata": {},
     "outputs": [
      {
       "html": [
        "<div style=\"max-width:1500px;overflow:auto;\">\n",
        "<table border=\"1\" class=\"dataframe\">\n",
        "  <thead>\n",
        "    <tr style=\"text-align: right;\">\n",
        "      <th></th>\n",
        "      <th>0</th>\n",
        "      <th>1</th>\n",
        "      <th>2</th>\n",
        "      <th>3</th>\n",
        "    </tr>\n",
        "  </thead>\n",
        "  <tbody>\n",
        "    <tr>\n",
        "      <th>1</th>\n",
        "      <td>4</td>\n",
        "      <td>5</td>\n",
        "      <td>6</td>\n",
        "      <td>7</td>\n",
        "    </tr>\n",
        "    <tr>\n",
        "      <th>0</th>\n",
        "      <td>0</td>\n",
        "      <td>1</td>\n",
        "      <td>2</td>\n",
        "      <td>3</td>\n",
        "    </tr>\n",
        "    <tr>\n",
        "      <th>2</th>\n",
        "      <td>8</td>\n",
        "      <td>9</td>\n",
        "      <td>10</td>\n",
        "      <td>11</td>\n",
        "    </tr>\n",
        "    <tr>\n",
        "      <th>3</th>\n",
        "      <td>12</td>\n",
        "      <td>13</td>\n",
        "      <td>14</td>\n",
        "      <td>15</td>\n",
        "    </tr>\n",
        "    <tr>\n",
        "      <th>4</th>\n",
        "      <td>16</td>\n",
        "      <td>17</td>\n",
        "      <td>18</td>\n",
        "      <td>19</td>\n",
        "    </tr>\n",
        "  </tbody>\n",
        "</table>\n",
        "</div>"
       ],
       "metadata": {},
       "output_type": "pyout",
       "prompt_number": 203,
       "text": [
        "    0   1   2   3\n",
        "1   4   5   6   7\n",
        "0   0   1   2   3\n",
        "2   8   9  10  11\n",
        "3  12  13  14  15\n",
        "4  16  17  18  19"
       ]
      }
     ],
     "prompt_number": 203
    },
    {
     "cell_type": "code",
     "collapsed": false,
     "input": [
      "len(df)"
     ],
     "language": "python",
     "metadata": {},
     "outputs": [
      {
       "metadata": {},
       "output_type": "pyout",
       "prompt_number": 204,
       "text": [
        "5"
       ]
      }
     ],
     "prompt_number": 204
    },
    {
     "cell_type": "code",
     "collapsed": false,
     "input": [
      "#df\uc758 \uae38\uc774\ub9cc\ud07c \ub79c\ub364\ud55c\uc218\uc758 \ubc30\uc5f4\uc744 \uc0dd\uc131\ud55c\ub4a4 index \uc7ac\ubc30\uce58\n",
      "df.take(np.random.permutation(len(df)))"
     ],
     "language": "python",
     "metadata": {},
     "outputs": [
      {
       "html": [
        "<div style=\"max-width:1500px;overflow:auto;\">\n",
        "<table border=\"1\" class=\"dataframe\">\n",
        "  <thead>\n",
        "    <tr style=\"text-align: right;\">\n",
        "      <th></th>\n",
        "      <th>0</th>\n",
        "      <th>1</th>\n",
        "      <th>2</th>\n",
        "      <th>3</th>\n",
        "    </tr>\n",
        "  </thead>\n",
        "  <tbody>\n",
        "    <tr>\n",
        "      <th>1</th>\n",
        "      <td>4</td>\n",
        "      <td>5</td>\n",
        "      <td>6</td>\n",
        "      <td>7</td>\n",
        "    </tr>\n",
        "    <tr>\n",
        "      <th>3</th>\n",
        "      <td>12</td>\n",
        "      <td>13</td>\n",
        "      <td>14</td>\n",
        "      <td>15</td>\n",
        "    </tr>\n",
        "    <tr>\n",
        "      <th>4</th>\n",
        "      <td>16</td>\n",
        "      <td>17</td>\n",
        "      <td>18</td>\n",
        "      <td>19</td>\n",
        "    </tr>\n",
        "    <tr>\n",
        "      <th>0</th>\n",
        "      <td>0</td>\n",
        "      <td>1</td>\n",
        "      <td>2</td>\n",
        "      <td>3</td>\n",
        "    </tr>\n",
        "    <tr>\n",
        "      <th>2</th>\n",
        "      <td>8</td>\n",
        "      <td>9</td>\n",
        "      <td>10</td>\n",
        "      <td>11</td>\n",
        "    </tr>\n",
        "  </tbody>\n",
        "</table>\n",
        "</div>"
       ],
       "metadata": {},
       "output_type": "pyout",
       "prompt_number": 205,
       "text": [
        "    0   1   2   3\n",
        "1   4   5   6   7\n",
        "3  12  13  14  15\n",
        "4  16  17  18  19\n",
        "0   0   1   2   3\n",
        "2   8   9  10  11"
       ]
      }
     ],
     "prompt_number": 205
    },
    {
     "cell_type": "code",
     "collapsed": false,
     "input": [
      "#\uce58\ud658\uc744 \ud1b5\ud574 \ud45c\ubcf8\uc744 \uc0dd\uc131\ud558\uae30 \uc704\ud55c \uac00\uc7a5 \ube60\ub978 \ubc29\ubc95\uc740 np.random.randint\ub97c \uc0ac\uc6a9\ud574\uc11c \uc0dd\uc131\ud55c \ub09c\uc218\ub97c \uc774\uc6a9\ud558\ub294 \ubc29\ubc95\n",
      "bag = np.array([5,7,-1,6,4])\n",
      "bag"
     ],
     "language": "python",
     "metadata": {},
     "outputs": [
      {
       "metadata": {},
       "output_type": "pyout",
       "prompt_number": 206,
       "text": [
        "array([ 5,  7, -1,  6,  4])"
       ]
      }
     ],
     "prompt_number": 206
    },
    {
     "cell_type": "code",
     "collapsed": false,
     "input": [
      "#numpy.random.randint(low,high,size)\n",
      "sampler = np.random.randint(0,len(bag),size=10)\n",
      "sampler"
     ],
     "language": "python",
     "metadata": {},
     "outputs": [
      {
       "metadata": {},
       "output_type": "pyout",
       "prompt_number": 207,
       "text": [
        "array([4, 4, 2, 2, 2, 0, 3, 0, 4, 1])"
       ]
      }
     ],
     "prompt_number": 207
    },
    {
     "cell_type": "code",
     "collapsed": false,
     "input": [
      "#Array.take(param_Array) : param_Array\ub85c\ubd80\ud130 \uac12\ub4e4\uc744 index\ub85c \ud558\uc5ec, Array\uc5d0\uc11c \uac12\ub4e4\uc744 \ubf51\uc544\uc634\n",
      "draws = bag.take(sampler)\n",
      "draws"
     ],
     "language": "python",
     "metadata": {},
     "outputs": [
      {
       "metadata": {},
       "output_type": "pyout",
       "prompt_number": 208,
       "text": [
        "array([ 4,  4, -1, -1, -1,  5,  6,  5,  4,  7])"
       ]
      }
     ],
     "prompt_number": 208
    },
    {
     "cell_type": "markdown",
     "metadata": {},
     "source": [
      "###7.3.8 \ud45c\uc2dc\uc790/\ub354\ubbf8 \ubcc0\uc218\n",
      "- \uc5b4\ub5a4 DataFrame\uc758 \ud55c \uceec\ub7fc\uc5d0 k\uac00\uc9c0\uc758 \uac12\uc774 \uc788\ub294 \uacbd\uc6b0, k\uac1c\uc758 \uce7c\ub7fc\uc774 \uc788\ub294 DataFrame\uc774\ub098 \ud589\ub82c\uc744 \ub9cc\ub4e4\uace0 \uac01 \uce78\uc744 1\uacfc 0\uc73c\ub85c \ucc44\uc6cc\ub123\uace0 \uc2f6\uc744\ub54c,           pandas\uc758 get_dummies\ud568\uc218\ub97c \uc0ac\uc6a9"
     ]
    },
    {
     "cell_type": "code",
     "collapsed": false,
     "input": [
      "df = DataFrame({'key':['b','b','a','c','a','b'],\n",
      "                'data1':range(6)})"
     ],
     "language": "python",
     "metadata": {},
     "outputs": [],
     "prompt_number": 209
    },
    {
     "cell_type": "code",
     "collapsed": false,
     "input": [
      "df"
     ],
     "language": "python",
     "metadata": {},
     "outputs": [
      {
       "html": [
        "<div style=\"max-width:1500px;overflow:auto;\">\n",
        "<table border=\"1\" class=\"dataframe\">\n",
        "  <thead>\n",
        "    <tr style=\"text-align: right;\">\n",
        "      <th></th>\n",
        "      <th>data1</th>\n",
        "      <th>key</th>\n",
        "    </tr>\n",
        "  </thead>\n",
        "  <tbody>\n",
        "    <tr>\n",
        "      <th>0</th>\n",
        "      <td>0</td>\n",
        "      <td>b</td>\n",
        "    </tr>\n",
        "    <tr>\n",
        "      <th>1</th>\n",
        "      <td>1</td>\n",
        "      <td>b</td>\n",
        "    </tr>\n",
        "    <tr>\n",
        "      <th>2</th>\n",
        "      <td>2</td>\n",
        "      <td>a</td>\n",
        "    </tr>\n",
        "    <tr>\n",
        "      <th>3</th>\n",
        "      <td>3</td>\n",
        "      <td>c</td>\n",
        "    </tr>\n",
        "    <tr>\n",
        "      <th>4</th>\n",
        "      <td>4</td>\n",
        "      <td>a</td>\n",
        "    </tr>\n",
        "    <tr>\n",
        "      <th>5</th>\n",
        "      <td>5</td>\n",
        "      <td>b</td>\n",
        "    </tr>\n",
        "  </tbody>\n",
        "</table>\n",
        "</div>"
       ],
       "metadata": {},
       "output_type": "pyout",
       "prompt_number": 210,
       "text": [
        "   data1 key\n",
        "0      0   b\n",
        "1      1   b\n",
        "2      2   a\n",
        "3      3   c\n",
        "4      4   a\n",
        "5      5   b"
       ]
      }
     ],
     "prompt_number": 210
    },
    {
     "cell_type": "code",
     "collapsed": false,
     "input": [
      "pd.get_dummies(df['key'])"
     ],
     "language": "python",
     "metadata": {},
     "outputs": [
      {
       "html": [
        "<div style=\"max-width:1500px;overflow:auto;\">\n",
        "<table border=\"1\" class=\"dataframe\">\n",
        "  <thead>\n",
        "    <tr style=\"text-align: right;\">\n",
        "      <th></th>\n",
        "      <th>a</th>\n",
        "      <th>b</th>\n",
        "      <th>c</th>\n",
        "    </tr>\n",
        "  </thead>\n",
        "  <tbody>\n",
        "    <tr>\n",
        "      <th>0</th>\n",
        "      <td>0</td>\n",
        "      <td>1</td>\n",
        "      <td>0</td>\n",
        "    </tr>\n",
        "    <tr>\n",
        "      <th>1</th>\n",
        "      <td>0</td>\n",
        "      <td>1</td>\n",
        "      <td>0</td>\n",
        "    </tr>\n",
        "    <tr>\n",
        "      <th>2</th>\n",
        "      <td>1</td>\n",
        "      <td>0</td>\n",
        "      <td>0</td>\n",
        "    </tr>\n",
        "    <tr>\n",
        "      <th>3</th>\n",
        "      <td>0</td>\n",
        "      <td>0</td>\n",
        "      <td>1</td>\n",
        "    </tr>\n",
        "    <tr>\n",
        "      <th>4</th>\n",
        "      <td>1</td>\n",
        "      <td>0</td>\n",
        "      <td>0</td>\n",
        "    </tr>\n",
        "    <tr>\n",
        "      <th>5</th>\n",
        "      <td>0</td>\n",
        "      <td>1</td>\n",
        "      <td>0</td>\n",
        "    </tr>\n",
        "  </tbody>\n",
        "</table>\n",
        "</div>"
       ],
       "metadata": {},
       "output_type": "pyout",
       "prompt_number": 211,
       "text": [
        "   a  b  c\n",
        "0  0  1  0\n",
        "1  0  1  0\n",
        "2  1  0  0\n",
        "3  0  0  1\n",
        "4  1  0  0\n",
        "5  0  1  0"
       ]
      }
     ],
     "prompt_number": 211
    },
    {
     "cell_type": "code",
     "collapsed": false,
     "input": [
      "#\ud45c\uc2dc\uc6a9 DataFrame \uc548\uc5d0 \uc788\ub294 \uce7c\ub7fc\uc5d0 \uc811\ub450\uc5b4(prefix)\ub97c \ucd94\uac00\ud55c \ud6c4 \ub2e4\ub978 \ub370\uc774\ud130\uc640 \ubcd1\ud569\ud558\uace0 \uc2f6\uc744 \ub54c\uac00 \uc788\ub294\ub370,\n",
      "#\uc774\ub7f4\uacbd\uc6b0 get_dummies \ud568\uc218\uc758 prefix \uc778\uc790\ub97c \uc0ac\uc6a9\n",
      "dummies = pd.get_dummies(df['key'], prefix='key')\n",
      "dummies"
     ],
     "language": "python",
     "metadata": {},
     "outputs": [
      {
       "html": [
        "<div style=\"max-width:1500px;overflow:auto;\">\n",
        "<table border=\"1\" class=\"dataframe\">\n",
        "  <thead>\n",
        "    <tr style=\"text-align: right;\">\n",
        "      <th></th>\n",
        "      <th>key_a</th>\n",
        "      <th>key_b</th>\n",
        "      <th>key_c</th>\n",
        "    </tr>\n",
        "  </thead>\n",
        "  <tbody>\n",
        "    <tr>\n",
        "      <th>0</th>\n",
        "      <td>0</td>\n",
        "      <td>1</td>\n",
        "      <td>0</td>\n",
        "    </tr>\n",
        "    <tr>\n",
        "      <th>1</th>\n",
        "      <td>0</td>\n",
        "      <td>1</td>\n",
        "      <td>0</td>\n",
        "    </tr>\n",
        "    <tr>\n",
        "      <th>2</th>\n",
        "      <td>1</td>\n",
        "      <td>0</td>\n",
        "      <td>0</td>\n",
        "    </tr>\n",
        "    <tr>\n",
        "      <th>3</th>\n",
        "      <td>0</td>\n",
        "      <td>0</td>\n",
        "      <td>1</td>\n",
        "    </tr>\n",
        "    <tr>\n",
        "      <th>4</th>\n",
        "      <td>1</td>\n",
        "      <td>0</td>\n",
        "      <td>0</td>\n",
        "    </tr>\n",
        "    <tr>\n",
        "      <th>5</th>\n",
        "      <td>0</td>\n",
        "      <td>1</td>\n",
        "      <td>0</td>\n",
        "    </tr>\n",
        "  </tbody>\n",
        "</table>\n",
        "</div>"
       ],
       "metadata": {},
       "output_type": "pyout",
       "prompt_number": 212,
       "text": [
        "   key_a  key_b  key_c\n",
        "0      0      1      0\n",
        "1      0      1      0\n",
        "2      1      0      0\n",
        "3      0      0      1\n",
        "4      1      0      0\n",
        "5      0      1      0"
       ]
      }
     ],
     "prompt_number": 212
    },
    {
     "cell_type": "code",
     "collapsed": false,
     "input": [
      "df_with_dummy = df[['data1']].join(dummies)\n",
      "df_with_dummy"
     ],
     "language": "python",
     "metadata": {},
     "outputs": [
      {
       "html": [
        "<div style=\"max-width:1500px;overflow:auto;\">\n",
        "<table border=\"1\" class=\"dataframe\">\n",
        "  <thead>\n",
        "    <tr style=\"text-align: right;\">\n",
        "      <th></th>\n",
        "      <th>data1</th>\n",
        "      <th>key_a</th>\n",
        "      <th>key_b</th>\n",
        "      <th>key_c</th>\n",
        "    </tr>\n",
        "  </thead>\n",
        "  <tbody>\n",
        "    <tr>\n",
        "      <th>0</th>\n",
        "      <td>0</td>\n",
        "      <td>0</td>\n",
        "      <td>1</td>\n",
        "      <td>0</td>\n",
        "    </tr>\n",
        "    <tr>\n",
        "      <th>1</th>\n",
        "      <td>1</td>\n",
        "      <td>0</td>\n",
        "      <td>1</td>\n",
        "      <td>0</td>\n",
        "    </tr>\n",
        "    <tr>\n",
        "      <th>2</th>\n",
        "      <td>2</td>\n",
        "      <td>1</td>\n",
        "      <td>0</td>\n",
        "      <td>0</td>\n",
        "    </tr>\n",
        "    <tr>\n",
        "      <th>3</th>\n",
        "      <td>3</td>\n",
        "      <td>0</td>\n",
        "      <td>0</td>\n",
        "      <td>1</td>\n",
        "    </tr>\n",
        "    <tr>\n",
        "      <th>4</th>\n",
        "      <td>4</td>\n",
        "      <td>1</td>\n",
        "      <td>0</td>\n",
        "      <td>0</td>\n",
        "    </tr>\n",
        "    <tr>\n",
        "      <th>5</th>\n",
        "      <td>5</td>\n",
        "      <td>0</td>\n",
        "      <td>1</td>\n",
        "      <td>0</td>\n",
        "    </tr>\n",
        "  </tbody>\n",
        "</table>\n",
        "</div>"
       ],
       "metadata": {},
       "output_type": "pyout",
       "prompt_number": 213,
       "text": [
        "   data1  key_a  key_b  key_c\n",
        "0      0      0      1      0\n",
        "1      1      0      1      0\n",
        "2      2      1      0      0\n",
        "3      3      0      0      1\n",
        "4      4      1      0      0\n",
        "5      5      0      1      0"
       ]
      }
     ],
     "prompt_number": 213
    },
    {
     "cell_type": "code",
     "collapsed": false,
     "input": [
      "print type(df['data1'])\n",
      "print type(df[['data1']])"
     ],
     "language": "python",
     "metadata": {},
     "outputs": [
      {
       "output_type": "stream",
       "stream": "stdout",
       "text": [
        "<class 'pandas.core.series.Series'>\n",
        "<class 'pandas.core.frame.DataFrame'>\n"
       ]
      }
     ],
     "prompt_number": 214
    },
    {
     "cell_type": "code",
     "collapsed": false,
     "input": [
      "mnames = ['movie_id','title','genres']"
     ],
     "language": "python",
     "metadata": {},
     "outputs": [],
     "prompt_number": 215
    },
    {
     "cell_type": "code",
     "collapsed": false,
     "input": [
      "movies = pd.read_table('https://raw.githubusercontent.com/pydata/pydata-book/master/ch02/movielens/movies.dat',\n",
      "                       sep='::',\n",
      "                       header=None,\n",
      "                       names=mnames)"
     ],
     "language": "python",
     "metadata": {},
     "outputs": [
      {
       "output_type": "stream",
       "stream": "stderr",
       "text": [
        "C:\\Users\\GoHyunyoung98\\AppData\\Local\\Enthought\\Canopy\\User\\lib\\site-packages\\pandas\\io\\parsers.py:648: ParserWarning: Falling back to the 'python' engine because the 'c' engine does not support regex separators; you can avoid this warning by specifying engine='python'.\n",
        "  ParserWarning)\n"
       ]
      }
     ],
     "prompt_number": 216
    },
    {
     "cell_type": "code",
     "collapsed": false,
     "input": [
      "movies"
     ],
     "language": "python",
     "metadata": {},
     "outputs": [
      {
       "html": [
        "<div style=\"max-width:1500px;overflow:auto;\">\n",
        "<table border=\"1\" class=\"dataframe\">\n",
        "  <thead>\n",
        "    <tr style=\"text-align: right;\">\n",
        "      <th></th>\n",
        "      <th>movie_id</th>\n",
        "      <th>title</th>\n",
        "      <th>genres</th>\n",
        "    </tr>\n",
        "  </thead>\n",
        "  <tbody>\n",
        "    <tr>\n",
        "      <th>0</th>\n",
        "      <td>1</td>\n",
        "      <td>Toy Story (1995)</td>\n",
        "      <td>Animation|Children's|Comedy</td>\n",
        "    </tr>\n",
        "    <tr>\n",
        "      <th>1</th>\n",
        "      <td>2</td>\n",
        "      <td>Jumanji (1995)</td>\n",
        "      <td>Adventure|Children's|Fantasy</td>\n",
        "    </tr>\n",
        "    <tr>\n",
        "      <th>2</th>\n",
        "      <td>3</td>\n",
        "      <td>Grumpier Old Men (1995)</td>\n",
        "      <td>Comedy|Romance</td>\n",
        "    </tr>\n",
        "    <tr>\n",
        "      <th>3</th>\n",
        "      <td>4</td>\n",
        "      <td>Waiting to Exhale (1995)</td>\n",
        "      <td>Comedy|Drama</td>\n",
        "    </tr>\n",
        "    <tr>\n",
        "      <th>4</th>\n",
        "      <td>5</td>\n",
        "      <td>Father of the Bride Part II (1995)</td>\n",
        "      <td>Comedy</td>\n",
        "    </tr>\n",
        "    <tr>\n",
        "      <th>5</th>\n",
        "      <td>6</td>\n",
        "      <td>Heat (1995)</td>\n",
        "      <td>Action|Crime|Thriller</td>\n",
        "    </tr>\n",
        "    <tr>\n",
        "      <th>6</th>\n",
        "      <td>7</td>\n",
        "      <td>Sabrina (1995)</td>\n",
        "      <td>Comedy|Romance</td>\n",
        "    </tr>\n",
        "    <tr>\n",
        "      <th>7</th>\n",
        "      <td>8</td>\n",
        "      <td>Tom and Huck (1995)</td>\n",
        "      <td>Adventure|Children's</td>\n",
        "    </tr>\n",
        "    <tr>\n",
        "      <th>8</th>\n",
        "      <td>9</td>\n",
        "      <td>Sudden Death (1995)</td>\n",
        "      <td>Action</td>\n",
        "    </tr>\n",
        "    <tr>\n",
        "      <th>9</th>\n",
        "      <td>10</td>\n",
        "      <td>GoldenEye (1995)</td>\n",
        "      <td>Action|Adventure|Thriller</td>\n",
        "    </tr>\n",
        "    <tr>\n",
        "      <th>10</th>\n",
        "      <td>11</td>\n",
        "      <td>American President, The (1995)</td>\n",
        "      <td>Comedy|Drama|Romance</td>\n",
        "    </tr>\n",
        "    <tr>\n",
        "      <th>11</th>\n",
        "      <td>12</td>\n",
        "      <td>Dracula: Dead and Loving It (1995)</td>\n",
        "      <td>Comedy|Horror</td>\n",
        "    </tr>\n",
        "    <tr>\n",
        "      <th>12</th>\n",
        "      <td>13</td>\n",
        "      <td>Balto (1995)</td>\n",
        "      <td>Animation|Children's</td>\n",
        "    </tr>\n",
        "    <tr>\n",
        "      <th>13</th>\n",
        "      <td>14</td>\n",
        "      <td>Nixon (1995)</td>\n",
        "      <td>Drama</td>\n",
        "    </tr>\n",
        "    <tr>\n",
        "      <th>14</th>\n",
        "      <td>15</td>\n",
        "      <td>Cutthroat Island (1995)</td>\n",
        "      <td>Action|Adventure|Romance</td>\n",
        "    </tr>\n",
        "    <tr>\n",
        "      <th>15</th>\n",
        "      <td>16</td>\n",
        "      <td>Casino (1995)</td>\n",
        "      <td>Drama|Thriller</td>\n",
        "    </tr>\n",
        "    <tr>\n",
        "      <th>16</th>\n",
        "      <td>17</td>\n",
        "      <td>Sense and Sensibility (1995)</td>\n",
        "      <td>Drama|Romance</td>\n",
        "    </tr>\n",
        "    <tr>\n",
        "      <th>17</th>\n",
        "      <td>18</td>\n",
        "      <td>Four Rooms (1995)</td>\n",
        "      <td>Thriller</td>\n",
        "    </tr>\n",
        "    <tr>\n",
        "      <th>18</th>\n",
        "      <td>19</td>\n",
        "      <td>Ace Ventura: When Nature Calls (1995)</td>\n",
        "      <td>Comedy</td>\n",
        "    </tr>\n",
        "    <tr>\n",
        "      <th>19</th>\n",
        "      <td>20</td>\n",
        "      <td>Money Train (1995)</td>\n",
        "      <td>Action</td>\n",
        "    </tr>\n",
        "    <tr>\n",
        "      <th>20</th>\n",
        "      <td>21</td>\n",
        "      <td>Get Shorty (1995)</td>\n",
        "      <td>Action|Comedy|Drama</td>\n",
        "    </tr>\n",
        "    <tr>\n",
        "      <th>21</th>\n",
        "      <td>22</td>\n",
        "      <td>Copycat (1995)</td>\n",
        "      <td>Crime|Drama|Thriller</td>\n",
        "    </tr>\n",
        "    <tr>\n",
        "      <th>22</th>\n",
        "      <td>23</td>\n",
        "      <td>Assassins (1995)</td>\n",
        "      <td>Thriller</td>\n",
        "    </tr>\n",
        "    <tr>\n",
        "      <th>23</th>\n",
        "      <td>24</td>\n",
        "      <td>Powder (1995)</td>\n",
        "      <td>Drama|Sci-Fi</td>\n",
        "    </tr>\n",
        "    <tr>\n",
        "      <th>24</th>\n",
        "      <td>25</td>\n",
        "      <td>Leaving Las Vegas (1995)</td>\n",
        "      <td>Drama|Romance</td>\n",
        "    </tr>\n",
        "    <tr>\n",
        "      <th>25</th>\n",
        "      <td>26</td>\n",
        "      <td>Othello (1995)</td>\n",
        "      <td>Drama</td>\n",
        "    </tr>\n",
        "    <tr>\n",
        "      <th>26</th>\n",
        "      <td>27</td>\n",
        "      <td>Now and Then (1995)</td>\n",
        "      <td>Drama</td>\n",
        "    </tr>\n",
        "    <tr>\n",
        "      <th>27</th>\n",
        "      <td>28</td>\n",
        "      <td>Persuasion (1995)</td>\n",
        "      <td>Romance</td>\n",
        "    </tr>\n",
        "    <tr>\n",
        "      <th>28</th>\n",
        "      <td>29</td>\n",
        "      <td>City of Lost Children, The (1995)</td>\n",
        "      <td>Adventure|Sci-Fi</td>\n",
        "    </tr>\n",
        "    <tr>\n",
        "      <th>29</th>\n",
        "      <td>30</td>\n",
        "      <td>Shanghai Triad (Yao a yao yao dao waipo qiao) ...</td>\n",
        "      <td>Drama</td>\n",
        "    </tr>\n",
        "    <tr>\n",
        "      <th>...</th>\n",
        "      <td>...</td>\n",
        "      <td>...</td>\n",
        "      <td>...</td>\n",
        "    </tr>\n",
        "    <tr>\n",
        "      <th>3853</th>\n",
        "      <td>3923</td>\n",
        "      <td>Return of the Fly (1959)</td>\n",
        "      <td>Horror|Sci-Fi</td>\n",
        "    </tr>\n",
        "    <tr>\n",
        "      <th>3854</th>\n",
        "      <td>3924</td>\n",
        "      <td>Pajama Party (1964)</td>\n",
        "      <td>Comedy</td>\n",
        "    </tr>\n",
        "    <tr>\n",
        "      <th>3855</th>\n",
        "      <td>3925</td>\n",
        "      <td>Stranger Than Paradise (1984)</td>\n",
        "      <td>Comedy</td>\n",
        "    </tr>\n",
        "    <tr>\n",
        "      <th>3856</th>\n",
        "      <td>3926</td>\n",
        "      <td>Voyage to the Bottom of the Sea (1961)</td>\n",
        "      <td>Adventure|Sci-Fi</td>\n",
        "    </tr>\n",
        "    <tr>\n",
        "      <th>3857</th>\n",
        "      <td>3927</td>\n",
        "      <td>Fantastic Voyage (1966)</td>\n",
        "      <td>Adventure|Sci-Fi</td>\n",
        "    </tr>\n",
        "    <tr>\n",
        "      <th>3858</th>\n",
        "      <td>3928</td>\n",
        "      <td>Abbott and Costello Meet Frankenstein (1948)</td>\n",
        "      <td>Comedy|Horror</td>\n",
        "    </tr>\n",
        "    <tr>\n",
        "      <th>3859</th>\n",
        "      <td>3929</td>\n",
        "      <td>Bank Dick, The (1940)</td>\n",
        "      <td>Comedy</td>\n",
        "    </tr>\n",
        "    <tr>\n",
        "      <th>3860</th>\n",
        "      <td>3930</td>\n",
        "      <td>Creature From the Black Lagoon, The (1954)</td>\n",
        "      <td>Horror</td>\n",
        "    </tr>\n",
        "    <tr>\n",
        "      <th>3861</th>\n",
        "      <td>3931</td>\n",
        "      <td>Giant Gila Monster, The (1959)</td>\n",
        "      <td>Horror|Sci-Fi</td>\n",
        "    </tr>\n",
        "    <tr>\n",
        "      <th>3862</th>\n",
        "      <td>3932</td>\n",
        "      <td>Invisible Man, The (1933)</td>\n",
        "      <td>Horror|Sci-Fi</td>\n",
        "    </tr>\n",
        "    <tr>\n",
        "      <th>3863</th>\n",
        "      <td>3933</td>\n",
        "      <td>Killer Shrews, The (1959)</td>\n",
        "      <td>Horror|Sci-Fi</td>\n",
        "    </tr>\n",
        "    <tr>\n",
        "      <th>3864</th>\n",
        "      <td>3934</td>\n",
        "      <td>Kronos (1957)</td>\n",
        "      <td>Sci-Fi</td>\n",
        "    </tr>\n",
        "    <tr>\n",
        "      <th>3865</th>\n",
        "      <td>3935</td>\n",
        "      <td>Kronos (1973)</td>\n",
        "      <td>Horror</td>\n",
        "    </tr>\n",
        "    <tr>\n",
        "      <th>3866</th>\n",
        "      <td>3936</td>\n",
        "      <td>Phantom of the Opera, The (1943)</td>\n",
        "      <td>Drama|Thriller</td>\n",
        "    </tr>\n",
        "    <tr>\n",
        "      <th>3867</th>\n",
        "      <td>3937</td>\n",
        "      <td>Runaway (1984)</td>\n",
        "      <td>Sci-Fi|Thriller</td>\n",
        "    </tr>\n",
        "    <tr>\n",
        "      <th>3868</th>\n",
        "      <td>3938</td>\n",
        "      <td>Slumber Party Massacre, The (1982)</td>\n",
        "      <td>Horror</td>\n",
        "    </tr>\n",
        "    <tr>\n",
        "      <th>3869</th>\n",
        "      <td>3939</td>\n",
        "      <td>Slumber Party Massacre II, The (1987)</td>\n",
        "      <td>Horror</td>\n",
        "    </tr>\n",
        "    <tr>\n",
        "      <th>3870</th>\n",
        "      <td>3940</td>\n",
        "      <td>Slumber Party Massacre III, The (1990)</td>\n",
        "      <td>Horror</td>\n",
        "    </tr>\n",
        "    <tr>\n",
        "      <th>3871</th>\n",
        "      <td>3941</td>\n",
        "      <td>Sorority House Massacre (1986)</td>\n",
        "      <td>Horror</td>\n",
        "    </tr>\n",
        "    <tr>\n",
        "      <th>3872</th>\n",
        "      <td>3942</td>\n",
        "      <td>Sorority House Massacre II (1990)</td>\n",
        "      <td>Horror</td>\n",
        "    </tr>\n",
        "    <tr>\n",
        "      <th>3873</th>\n",
        "      <td>3943</td>\n",
        "      <td>Bamboozled (2000)</td>\n",
        "      <td>Comedy</td>\n",
        "    </tr>\n",
        "    <tr>\n",
        "      <th>3874</th>\n",
        "      <td>3944</td>\n",
        "      <td>Bootmen (2000)</td>\n",
        "      <td>Comedy|Drama</td>\n",
        "    </tr>\n",
        "    <tr>\n",
        "      <th>3875</th>\n",
        "      <td>3945</td>\n",
        "      <td>Digimon: The Movie (2000)</td>\n",
        "      <td>Adventure|Animation|Children's</td>\n",
        "    </tr>\n",
        "    <tr>\n",
        "      <th>3876</th>\n",
        "      <td>3946</td>\n",
        "      <td>Get Carter (2000)</td>\n",
        "      <td>Action|Drama|Thriller</td>\n",
        "    </tr>\n",
        "    <tr>\n",
        "      <th>3877</th>\n",
        "      <td>3947</td>\n",
        "      <td>Get Carter (1971)</td>\n",
        "      <td>Thriller</td>\n",
        "    </tr>\n",
        "    <tr>\n",
        "      <th>3878</th>\n",
        "      <td>3948</td>\n",
        "      <td>Meet the Parents (2000)</td>\n",
        "      <td>Comedy</td>\n",
        "    </tr>\n",
        "    <tr>\n",
        "      <th>3879</th>\n",
        "      <td>3949</td>\n",
        "      <td>Requiem for a Dream (2000)</td>\n",
        "      <td>Drama</td>\n",
        "    </tr>\n",
        "    <tr>\n",
        "      <th>3880</th>\n",
        "      <td>3950</td>\n",
        "      <td>Tigerland (2000)</td>\n",
        "      <td>Drama</td>\n",
        "    </tr>\n",
        "    <tr>\n",
        "      <th>3881</th>\n",
        "      <td>3951</td>\n",
        "      <td>Two Family House (2000)</td>\n",
        "      <td>Drama</td>\n",
        "    </tr>\n",
        "    <tr>\n",
        "      <th>3882</th>\n",
        "      <td>3952</td>\n",
        "      <td>Contender, The (2000)</td>\n",
        "      <td>Drama|Thriller</td>\n",
        "    </tr>\n",
        "  </tbody>\n",
        "</table>\n",
        "<p>3883 rows \u00d7 3 columns</p>\n",
        "</div>"
       ],
       "metadata": {},
       "output_type": "pyout",
       "prompt_number": 217,
       "text": [
        "      movie_id                                              title  \\\n",
        "0            1                                   Toy Story (1995)   \n",
        "1            2                                     Jumanji (1995)   \n",
        "2            3                            Grumpier Old Men (1995)   \n",
        "3            4                           Waiting to Exhale (1995)   \n",
        "4            5                 Father of the Bride Part II (1995)   \n",
        "5            6                                        Heat (1995)   \n",
        "6            7                                     Sabrina (1995)   \n",
        "7            8                                Tom and Huck (1995)   \n",
        "8            9                                Sudden Death (1995)   \n",
        "9           10                                   GoldenEye (1995)   \n",
        "10          11                     American President, The (1995)   \n",
        "11          12                 Dracula: Dead and Loving It (1995)   \n",
        "12          13                                       Balto (1995)   \n",
        "13          14                                       Nixon (1995)   \n",
        "14          15                            Cutthroat Island (1995)   \n",
        "15          16                                      Casino (1995)   \n",
        "16          17                       Sense and Sensibility (1995)   \n",
        "17          18                                  Four Rooms (1995)   \n",
        "18          19              Ace Ventura: When Nature Calls (1995)   \n",
        "19          20                                 Money Train (1995)   \n",
        "20          21                                  Get Shorty (1995)   \n",
        "21          22                                     Copycat (1995)   \n",
        "22          23                                   Assassins (1995)   \n",
        "23          24                                      Powder (1995)   \n",
        "24          25                           Leaving Las Vegas (1995)   \n",
        "25          26                                     Othello (1995)   \n",
        "26          27                                Now and Then (1995)   \n",
        "27          28                                  Persuasion (1995)   \n",
        "28          29                  City of Lost Children, The (1995)   \n",
        "29          30  Shanghai Triad (Yao a yao yao dao waipo qiao) ...   \n",
        "...        ...                                                ...   \n",
        "3853      3923                           Return of the Fly (1959)   \n",
        "3854      3924                                Pajama Party (1964)   \n",
        "3855      3925                      Stranger Than Paradise (1984)   \n",
        "3856      3926             Voyage to the Bottom of the Sea (1961)   \n",
        "3857      3927                            Fantastic Voyage (1966)   \n",
        "3858      3928       Abbott and Costello Meet Frankenstein (1948)   \n",
        "3859      3929                              Bank Dick, The (1940)   \n",
        "3860      3930         Creature From the Black Lagoon, The (1954)   \n",
        "3861      3931                     Giant Gila Monster, The (1959)   \n",
        "3862      3932                          Invisible Man, The (1933)   \n",
        "3863      3933                          Killer Shrews, The (1959)   \n",
        "3864      3934                                      Kronos (1957)   \n",
        "3865      3935                                      Kronos (1973)   \n",
        "3866      3936                   Phantom of the Opera, The (1943)   \n",
        "3867      3937                                     Runaway (1984)   \n",
        "3868      3938                 Slumber Party Massacre, The (1982)   \n",
        "3869      3939              Slumber Party Massacre II, The (1987)   \n",
        "3870      3940             Slumber Party Massacre III, The (1990)   \n",
        "3871      3941                     Sorority House Massacre (1986)   \n",
        "3872      3942                  Sorority House Massacre II (1990)   \n",
        "3873      3943                                  Bamboozled (2000)   \n",
        "3874      3944                                     Bootmen (2000)   \n",
        "3875      3945                          Digimon: The Movie (2000)   \n",
        "3876      3946                                  Get Carter (2000)   \n",
        "3877      3947                                  Get Carter (1971)   \n",
        "3878      3948                            Meet the Parents (2000)   \n",
        "3879      3949                         Requiem for a Dream (2000)   \n",
        "3880      3950                                   Tigerland (2000)   \n",
        "3881      3951                            Two Family House (2000)   \n",
        "3882      3952                              Contender, The (2000)   \n",
        "\n",
        "                              genres  \n",
        "0        Animation|Children's|Comedy  \n",
        "1       Adventure|Children's|Fantasy  \n",
        "2                     Comedy|Romance  \n",
        "3                       Comedy|Drama  \n",
        "4                             Comedy  \n",
        "5              Action|Crime|Thriller  \n",
        "6                     Comedy|Romance  \n",
        "7               Adventure|Children's  \n",
        "8                             Action  \n",
        "9          Action|Adventure|Thriller  \n",
        "10              Comedy|Drama|Romance  \n",
        "11                     Comedy|Horror  \n",
        "12              Animation|Children's  \n",
        "13                             Drama  \n",
        "14          Action|Adventure|Romance  \n",
        "15                    Drama|Thriller  \n",
        "16                     Drama|Romance  \n",
        "17                          Thriller  \n",
        "18                            Comedy  \n",
        "19                            Action  \n",
        "20               Action|Comedy|Drama  \n",
        "21              Crime|Drama|Thriller  \n",
        "22                          Thriller  \n",
        "23                      Drama|Sci-Fi  \n",
        "24                     Drama|Romance  \n",
        "25                             Drama  \n",
        "26                             Drama  \n",
        "27                           Romance  \n",
        "28                  Adventure|Sci-Fi  \n",
        "29                             Drama  \n",
        "...                              ...  \n",
        "3853                   Horror|Sci-Fi  \n",
        "3854                          Comedy  \n",
        "3855                          Comedy  \n",
        "3856                Adventure|Sci-Fi  \n",
        "3857                Adventure|Sci-Fi  \n",
        "3858                   Comedy|Horror  \n",
        "3859                          Comedy  \n",
        "3860                          Horror  \n",
        "3861                   Horror|Sci-Fi  \n",
        "3862                   Horror|Sci-Fi  \n",
        "3863                   Horror|Sci-Fi  \n",
        "3864                          Sci-Fi  \n",
        "3865                          Horror  \n",
        "3866                  Drama|Thriller  \n",
        "3867                 Sci-Fi|Thriller  \n",
        "3868                          Horror  \n",
        "3869                          Horror  \n",
        "3870                          Horror  \n",
        "3871                          Horror  \n",
        "3872                          Horror  \n",
        "3873                          Comedy  \n",
        "3874                    Comedy|Drama  \n",
        "3875  Adventure|Animation|Children's  \n",
        "3876           Action|Drama|Thriller  \n",
        "3877                        Thriller  \n",
        "3878                          Comedy  \n",
        "3879                           Drama  \n",
        "3880                           Drama  \n",
        "3881                           Drama  \n",
        "3882                  Drama|Thriller  \n",
        "\n",
        "[3883 rows x 3 columns]"
       ]
      }
     ],
     "prompt_number": 217
    },
    {
     "cell_type": "code",
     "collapsed": false,
     "input": [
      "genre_iter = (set(x.split('|')) for x in movies.genres)"
     ],
     "language": "python",
     "metadata": {},
     "outputs": [],
     "prompt_number": 218
    },
    {
     "cell_type": "code",
     "collapsed": false,
     "input": [
      "genres = sorted(set.union(*genre_iter))"
     ],
     "language": "python",
     "metadata": {},
     "outputs": [],
     "prompt_number": 219
    },
    {
     "cell_type": "code",
     "collapsed": false,
     "input": [
      "dummies = DataFrame(np.zeros((len(movies),len(genres))),columns=genres)"
     ],
     "language": "python",
     "metadata": {},
     "outputs": [],
     "prompt_number": 220
    },
    {
     "cell_type": "code",
     "collapsed": false,
     "input": [
      "for i, gen in enumerate(movies.genres):\n",
      "    dummies.ix[i, gen.split('|')] = 1"
     ],
     "language": "python",
     "metadata": {},
     "outputs": [],
     "prompt_number": 221
    },
    {
     "cell_type": "code",
     "collapsed": false,
     "input": [
      "movies_windix = movies.join(dummies.add_prefix('Genre_'))"
     ],
     "language": "python",
     "metadata": {},
     "outputs": [],
     "prompt_number": 222
    },
    {
     "cell_type": "code",
     "collapsed": false,
     "input": [
      "movies_windix.ix[0]"
     ],
     "language": "python",
     "metadata": {},
     "outputs": [
      {
       "metadata": {},
       "output_type": "pyout",
       "prompt_number": 223,
       "text": [
        "movie_id                                       1\n",
        "title                           Toy Story (1995)\n",
        "genres               Animation|Children's|Comedy\n",
        "Genre_Action                                   0\n",
        "Genre_Adventure                                0\n",
        "Genre_Animation                                1\n",
        "Genre_Children's                               1\n",
        "Genre_Comedy                                   1\n",
        "Genre_Crime                                    0\n",
        "Genre_Documentary                              0\n",
        "Genre_Drama                                    0\n",
        "Genre_Fantasy                                  0\n",
        "Genre_Film-Noir                                0\n",
        "Genre_Horror                                   0\n",
        "Genre_Musical                                  0\n",
        "Genre_Mystery                                  0\n",
        "Genre_Romance                                  0\n",
        "Genre_Sci-Fi                                   0\n",
        "Genre_Thriller                                 0\n",
        "Genre_War                                      0\n",
        "Genre_Western                                  0\n",
        "Name: 0, dtype: object"
       ]
      }
     ],
     "prompt_number": 223
    },
    {
     "cell_type": "code",
     "collapsed": false,
     "input": [
      "values = np.random.rand(10)"
     ],
     "language": "python",
     "metadata": {},
     "outputs": [],
     "prompt_number": 224
    },
    {
     "cell_type": "code",
     "collapsed": false,
     "input": [
      "values"
     ],
     "language": "python",
     "metadata": {},
     "outputs": [
      {
       "metadata": {},
       "output_type": "pyout",
       "prompt_number": 225,
       "text": [
        "array([ 0.75603383,  0.90830844,  0.96588737,  0.17373658,  0.87592824,\n",
        "        0.75415641,  0.163486  ,  0.23784062,  0.85564381,  0.58743194])"
       ]
      }
     ],
     "prompt_number": 225
    },
    {
     "cell_type": "code",
     "collapsed": false,
     "input": [
      "bins =[0,0.2,0.4,0.6,0.8,1]"
     ],
     "language": "python",
     "metadata": {},
     "outputs": [],
     "prompt_number": 227
    },
    {
     "cell_type": "code",
     "collapsed": false,
     "input": [
      "pd.get_dummies(pd.cut(values,bins))"
     ],
     "language": "python",
     "metadata": {},
     "outputs": [
      {
       "html": [
        "<div style=\"max-width:1500px;overflow:auto;\">\n",
        "<table border=\"1\" class=\"dataframe\">\n",
        "  <thead>\n",
        "    <tr style=\"text-align: right;\">\n",
        "      <th></th>\n",
        "      <th>(0, 0.2]</th>\n",
        "      <th>(0.2, 0.4]</th>\n",
        "      <th>(0.4, 0.6]</th>\n",
        "      <th>(0.6, 0.8]</th>\n",
        "      <th>(0.8, 1]</th>\n",
        "    </tr>\n",
        "  </thead>\n",
        "  <tbody>\n",
        "    <tr>\n",
        "      <th>0</th>\n",
        "      <td>0</td>\n",
        "      <td>0</td>\n",
        "      <td>0</td>\n",
        "      <td>1</td>\n",
        "      <td>0</td>\n",
        "    </tr>\n",
        "    <tr>\n",
        "      <th>1</th>\n",
        "      <td>0</td>\n",
        "      <td>0</td>\n",
        "      <td>0</td>\n",
        "      <td>0</td>\n",
        "      <td>1</td>\n",
        "    </tr>\n",
        "    <tr>\n",
        "      <th>2</th>\n",
        "      <td>0</td>\n",
        "      <td>0</td>\n",
        "      <td>0</td>\n",
        "      <td>0</td>\n",
        "      <td>1</td>\n",
        "    </tr>\n",
        "    <tr>\n",
        "      <th>3</th>\n",
        "      <td>1</td>\n",
        "      <td>0</td>\n",
        "      <td>0</td>\n",
        "      <td>0</td>\n",
        "      <td>0</td>\n",
        "    </tr>\n",
        "    <tr>\n",
        "      <th>4</th>\n",
        "      <td>0</td>\n",
        "      <td>0</td>\n",
        "      <td>0</td>\n",
        "      <td>0</td>\n",
        "      <td>1</td>\n",
        "    </tr>\n",
        "    <tr>\n",
        "      <th>5</th>\n",
        "      <td>0</td>\n",
        "      <td>0</td>\n",
        "      <td>0</td>\n",
        "      <td>1</td>\n",
        "      <td>0</td>\n",
        "    </tr>\n",
        "    <tr>\n",
        "      <th>6</th>\n",
        "      <td>1</td>\n",
        "      <td>0</td>\n",
        "      <td>0</td>\n",
        "      <td>0</td>\n",
        "      <td>0</td>\n",
        "    </tr>\n",
        "    <tr>\n",
        "      <th>7</th>\n",
        "      <td>0</td>\n",
        "      <td>1</td>\n",
        "      <td>0</td>\n",
        "      <td>0</td>\n",
        "      <td>0</td>\n",
        "    </tr>\n",
        "    <tr>\n",
        "      <th>8</th>\n",
        "      <td>0</td>\n",
        "      <td>0</td>\n",
        "      <td>0</td>\n",
        "      <td>0</td>\n",
        "      <td>1</td>\n",
        "    </tr>\n",
        "    <tr>\n",
        "      <th>9</th>\n",
        "      <td>0</td>\n",
        "      <td>0</td>\n",
        "      <td>1</td>\n",
        "      <td>0</td>\n",
        "      <td>0</td>\n",
        "    </tr>\n",
        "  </tbody>\n",
        "</table>\n",
        "</div>"
       ],
       "metadata": {},
       "output_type": "pyout",
       "prompt_number": 228,
       "text": [
        "   (0, 0.2]  (0.2, 0.4]  (0.4, 0.6]  (0.6, 0.8]  (0.8, 1]\n",
        "0         0           0           0           1         0\n",
        "1         0           0           0           0         1\n",
        "2         0           0           0           0         1\n",
        "3         1           0           0           0         0\n",
        "4         0           0           0           0         1\n",
        "5         0           0           0           1         0\n",
        "6         1           0           0           0         0\n",
        "7         0           1           0           0         0\n",
        "8         0           0           0           0         1\n",
        "9         0           0           1           0         0"
       ]
      }
     ],
     "prompt_number": 228
    },
    {
     "cell_type": "markdown",
     "metadata": {},
     "source": [
      "##7.4 \ubb38\uc790\uc5f4 \ub2e4\ub8e8\uae30\n",
      "- pandas\ub294 \ubc30\uc5f4 \ub370\uc774\ud130 \uc804\uccb4\uc5d0 \uc27d\uac8c \uc815\ub4c0\ud45c\ud604\uc2dd\uc744 \uc801\uc6a9\ud558\uace0 \ucd94\uac00\uc801\uc73c\ub860 \ub204\ub77d\ub41c \ub370\uc774\ud130\ub97c \ud3b8\ub9ac\ud558\uac8c \ucc98\ub9ac\ud560 \uc218 \uc788\ub294 \uae30\ub2a5\uc744\ud3ec\ud568"
     ]
    },
    {
     "cell_type": "markdown",
     "metadata": {},
     "source": [
      "###7.4.1 \ubb38\uc790\uc5f4 \uac1d\uccb4 \uba54\uc11c\ub4dc"
     ]
    },
    {
     "cell_type": "code",
     "collapsed": false,
     "input": [
      "val = 'a,b,   guido'"
     ],
     "language": "python",
     "metadata": {},
     "outputs": [],
     "prompt_number": 259
    },
    {
     "cell_type": "code",
     "collapsed": false,
     "input": [
      "#\uc27c\ud45c\ub85c \uad6c\ubd84\ub41c \ubb38\uc790\uc5f4\uc740 split \uba54\uc11c\ub4dc\ub97c \uc774\uc6a9\ud574\uc11c \ubd84\ub9ac \ud560 \uc218 \uc788\ub2e4.\n",
      "val.split(',')"
     ],
     "language": "python",
     "metadata": {},
     "outputs": [
      {
       "metadata": {},
       "output_type": "pyout",
       "prompt_number": 260,
       "text": [
        "['a', 'b', '   guido']"
       ]
      }
     ],
     "prompt_number": 260
    },
    {
     "cell_type": "code",
     "collapsed": false,
     "input": [
      "#split \uba54\uc11c\ub4dc\ub294 \uacf5\ubc31\ubb38\uc790(\uc904\ubc14\uafc8\ubb38\uc790 \ud3ec\ud568)\ub97c \uc81c\uac70\ud558\ub294 strip \uba54\uc11c\ub4dc\uc640 \uc870\ud569\ud574\uc11c \uc0ac\uc6a9\ud558\uae30\ub3c4 \ud55c\ub2e4.\n",
      "pieces = [x.strip() for x in val.split(',')]"
     ],
     "language": "python",
     "metadata": {},
     "outputs": [],
     "prompt_number": 261
    },
    {
     "cell_type": "code",
     "collapsed": false,
     "input": [
      "pieces"
     ],
     "language": "python",
     "metadata": {},
     "outputs": [
      {
       "metadata": {},
       "output_type": "pyout",
       "prompt_number": 262,
       "text": [
        "['a', 'b', 'guido']"
       ]
      }
     ],
     "prompt_number": 262
    },
    {
     "cell_type": "code",
     "collapsed": false,
     "input": [
      "first, second, third = pieces"
     ],
     "language": "python",
     "metadata": {},
     "outputs": [],
     "prompt_number": 263
    },
    {
     "cell_type": "code",
     "collapsed": false,
     "input": [
      "#\ubd84\ub9ac\ub41c \ubb38\uc790\uc5f4\uc740 \ub354\ud558\uae30 \uc5f0\uc0b0\uc744 \ud1b5\ud574 '::'\ubb38\uc790\uc5f4\uacfc \ud569\uce60 \uc218\ub3c4 \uc788\ub2e4.\n",
      "first + '::' + second + '::' + third"
     ],
     "language": "python",
     "metadata": {},
     "outputs": [
      {
       "metadata": {},
       "output_type": "pyout",
       "prompt_number": 264,
       "text": [
        "'a::b::guido'"
       ]
      }
     ],
     "prompt_number": 264
    },
    {
     "cell_type": "code",
     "collapsed": false,
     "input": [
      "'::'.join(pieces)"
     ],
     "language": "python",
     "metadata": {},
     "outputs": [
      {
       "metadata": {},
       "output_type": "pyout",
       "prompt_number": 265,
       "text": [
        "'a::b::guido'"
       ]
      }
     ],
     "prompt_number": 265
    },
    {
     "cell_type": "code",
     "collapsed": false,
     "input": [
      "'guido' in val"
     ],
     "language": "python",
     "metadata": {},
     "outputs": [
      {
       "metadata": {},
       "output_type": "pyout",
       "prompt_number": 266,
       "text": [
        "True"
       ]
      }
     ],
     "prompt_number": 266
    },
    {
     "cell_type": "code",
     "collapsed": false,
     "input": [
      "val"
     ],
     "language": "python",
     "metadata": {},
     "outputs": [
      {
       "metadata": {},
       "output_type": "pyout",
       "prompt_number": 267,
       "text": [
        "'a,b,   guido'"
       ]
      }
     ],
     "prompt_number": 267
    },
    {
     "cell_type": "code",
     "collapsed": false,
     "input": [
      "val.index(',')"
     ],
     "language": "python",
     "metadata": {},
     "outputs": [
      {
       "metadata": {},
       "output_type": "pyout",
       "prompt_number": 268,
       "text": [
        "1"
       ]
      }
     ],
     "prompt_number": 268
    },
    {
     "cell_type": "code",
     "collapsed": false,
     "input": [
      "val.find(':')"
     ],
     "language": "python",
     "metadata": {},
     "outputs": [
      {
       "metadata": {},
       "output_type": "pyout",
       "prompt_number": 269,
       "text": [
        "-1"
       ]
      }
     ],
     "prompt_number": 269
    },
    {
     "cell_type": "code",
     "collapsed": false,
     "input": [
      "#find\uc640 index\uc758 \ucc28\uc774\uc810\n",
      "#index\uc758 \uacbd\uc6b0 \ubb38\uc790\uc5f4\uc744 \ucc3e\uc774 \ubabb\ud558\uba74 \uc608\uc678 \ubc1c\uc0dd\n",
      "#find\uc758 \uacbd\uc6b0 \ubb38\uc790\uc5f4\uc744 \ucc3e\uc9c0 \ubabb\ud558\uba74 -1\uc744 \ubc18\ud658\n",
      "val.index(':')"
     ],
     "language": "python",
     "metadata": {},
     "outputs": [
      {
       "ename": "ValueError",
       "evalue": "substring not found",
       "output_type": "pyerr",
       "traceback": [
        "\u001b[1;31m---------------------------------------------------------------------------\u001b[0m\n\u001b[1;31mValueError\u001b[0m                                Traceback (most recent call last)",
        "\u001b[1;32m<ipython-input-270-7bda5b8a90e6>\u001b[0m in \u001b[0;36m<module>\u001b[1;34m()\u001b[0m\n\u001b[0;32m      2\u001b[0m \u001b[1;31m#index\uc758 \uacbd\uc6b0 \ubb38\uc790\uc5f4\uc744 \ucc3e\uc774 \ubabb\ud558\uba74 \uc608\uc678 \ubc1c\uc0dd\u001b[0m\u001b[1;33m\u001b[0m\u001b[1;33m\u001b[0m\u001b[0m\n\u001b[0;32m      3\u001b[0m \u001b[1;31m#find\uc758 \uacbd\uc6b0 \ubb38\uc790\uc5f4\uc744 \ucc3e\uc9c0 \ubabb\ud558\uba74 -1\uc744 \ubc18\ud658\u001b[0m\u001b[1;33m\u001b[0m\u001b[1;33m\u001b[0m\u001b[0m\n\u001b[1;32m----> 4\u001b[1;33m \u001b[0mval\u001b[0m\u001b[1;33m.\u001b[0m\u001b[0mindex\u001b[0m\u001b[1;33m(\u001b[0m\u001b[1;34m':'\u001b[0m\u001b[1;33m)\u001b[0m\u001b[1;33m\u001b[0m\u001b[0m\n\u001b[0m",
        "\u001b[1;31mValueError\u001b[0m: substring not found"
       ]
      }
     ],
     "prompt_number": 270
    },
    {
     "cell_type": "code",
     "collapsed": false,
     "input": [
      "#count\ub294 \ud2b9\uc815 \ubd80\ubd84 \ubb38\uc790\uc5f4\uc774 \uba87\uac74 \ubc1c\uacac\ub418\uc5c8\ub294\uc9c0\ub97c \ubc18\ud658\n",
      "val.count(',')"
     ],
     "language": "python",
     "metadata": {},
     "outputs": [
      {
       "metadata": {},
       "output_type": "pyout",
       "prompt_number": 271,
       "text": [
        "2"
       ]
      }
     ],
     "prompt_number": 271
    },
    {
     "cell_type": "code",
     "collapsed": false,
     "input": [
      "print val\n",
      "#replace\ub294 \ucc3e\uc544\ub0b8 \ud32c\ud134\uc744 \ub2e4\ub978 \ubb38\uc790\uc5f4\ub85c \uce58\ud658\n",
      "print val.replace(',','::')\n",
      "#\ub300\uccb4\ud560 \ubb38\uc790\uc5f4\ub85c \ube44\uc5b4\uc788\ub294 \ubb38\uc790\uc5f4\uc744 \ub118\uaca8\uc11c \ud328\ud134\uc744 \uc0ad\uc81c\ud558\uae30 \uc704\ud55c \ubc29\ubc95\uc73c\ub85c \uc790\uc8fc \uc0ac\uc6a9\ub418\uae30\ub3c4\ud568 \n",
      "print val.replace(',', '')"
     ],
     "language": "python",
     "metadata": {},
     "outputs": [
      {
       "output_type": "stream",
       "stream": "stdout",
       "text": [
        "a,b,   guido\n",
        "a::b::   guido\n",
        "ab   guido\n"
       ]
      }
     ],
     "prompt_number": 272
    },
    {
     "cell_type": "markdown",
     "metadata": {},
     "source": [
      "###7.4.2 \uc815\uaddc\ud45c\ud604\uc2dd\n",
      "- \ud30c\uc774\uc36c\uc5d0\ub294 re\ubaa8\ub4c8\uc774 \ub0b4\uc7a5\ub418\uc5b4 \ubb38\uc790\uc5f4\uc5d0 \ub300\ud55c \uc815\uaddc\ud45c\ud604\uc2dd\uc744 \ucc98\ub9ac\ud55c\ub2e4.\n",
      "- re \ubaa8\ub4c8\ud568\uc218\ub294 <font color=red size=4> \ub9e4\uce6d, \uce58\ud658, \ubd84\ub9ac </font> \uc138 \uac00\uc9c0\ub85c \ub098\ub20c \uc218 \uc788\ub2e4. "
     ]
    },
    {
     "cell_type": "code",
     "collapsed": false,
     "input": [
      "#\uc5ec\ub7ec\uac00\uc9c0 \uacf5\ubc31\ubb38\uc790(\ud0ed, \uc2a4\ud398\uc774\uc2a4, \uac1c\ud589\ubb38\uc790)\uac00 \ud3ec\ud568\ub41c \ubb38\uc790\uc5f4\uc744 \ub098\ub204\uace0\n",
      "#\uc2f6\ub2e4\uba74 \ud558\ub098 \uc774\uc0c1\uc758 \uacf5\ubc31\ubb38\uc790\ub97c \uc758\ubbf8\ud558\ub294 '\\s'\ub97c \uc0ac\uc6a9\ud574\uc11c \ubb38\uc790\uc5f4\uc744 \ubd84\ub9ac\ud560 \uc218\uc788\ub2e4.\n",
      "import re\n",
      "\n",
      "text = \"foo     bar\\t baz      \\tqux\""
     ],
     "language": "python",
     "metadata": {},
     "outputs": [],
     "prompt_number": 274
    },
    {
     "cell_type": "code",
     "collapsed": false,
     "input": [
      "re.split('\\s+',text)"
     ],
     "language": "python",
     "metadata": {},
     "outputs": [
      {
       "metadata": {},
       "output_type": "pyout",
       "prompt_number": 275,
       "text": [
        "['foo', 'bar', 'baz', 'qux']"
       ]
      }
     ],
     "prompt_number": 275
    },
    {
     "cell_type": "code",
     "collapsed": false,
     "input": [
      "#re.split('\\s+',text)\ub97c \uc0ac\uc6a9\ud558\uba74 \uba3c\uc800 \uc815\uaddc\ud45c\ud604\uc2dd\uc774 \ucef4\ud30c\uc77c\ub418\uace0 \uadf8 \ub2e4\uc74c\uc5d0 split \uba54\uc11c\ub4dc\uac00 \uc2e4\ud589\ub41c\ub2e4.\n",
      "#re.compile\uc744 \ud1b5\ud574 \uc9c1\uc811 \uc815\uaddc\ud45c\ud604\uc2dd\uc744 \ucef4\ud30c\uc77c \ud558\uace0 \uadf8\ub807\uac8c \uc5bb\uc740 \uc815\uaddc\ud45c\ud604\uc2dd \uac1d\uccb4\ub97c \uc7ac\uc0ac\uc6a9\ud558\ub294 \uac83\ub3c4 \uac00\ub2a5\ud558\ub2e4.\n",
      "regex = re.compile('\\s+')\n",
      "regex.split(text)"
     ],
     "language": "python",
     "metadata": {},
     "outputs": [
      {
       "metadata": {},
       "output_type": "pyout",
       "prompt_number": 278,
       "text": [
        "['foo', 'bar', 'baz', 'qux']"
       ]
      }
     ],
     "prompt_number": 278
    },
    {
     "cell_type": "code",
     "collapsed": false,
     "input": [
      "#\uc815\uaddc\ud45c\ud604\uc2dd\uc5d0 \ub9e4\uce6d\ub418\ub294 \ubaa8\ub4e0 \ud328\ud134\uc758 \ubaa9\ub85d\uc744 \uc5bb\uace0 \uc2f6\ub2e4\uba74 findall \uba54\uc11c\ub4dc\ub97c \uc0ac\uc6a9\n",
      "regex.findall(text)"
     ],
     "language": "python",
     "metadata": {},
     "outputs": [
      {
       "metadata": {},
       "output_type": "pyout",
       "prompt_number": 281,
       "text": [
        "['     ', '\\t ', '      \\t']"
       ]
      }
     ],
     "prompt_number": 281
    },
    {
     "cell_type": "code",
     "collapsed": false,
     "input": [],
     "language": "python",
     "metadata": {},
     "outputs": [],
     "prompt_number": 281
    },
    {
     "cell_type": "code",
     "collapsed": false,
     "input": [],
     "language": "python",
     "metadata": {},
     "outputs": []
    }
   ],
   "metadata": {}
  }
 ]
}