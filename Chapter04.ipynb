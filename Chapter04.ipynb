{
 "metadata": {
  "kernelspec": {
   "display_name": "Python 2",
   "language": "python",
   "name": "python2"
  },
  "language_info": {
   "codemirror_mode": {
    "name": "ipython",
    "version": 2
   },
   "file_extension": ".py",
   "mimetype": "text/x-python",
   "name": "python",
   "nbconvert_exporter": "python",
   "pygments_lexer": "ipython2",
   "version": "2.7.9"
  },
  "name": "",
  "signature": "sha256:4da90847af41d4d99c054692fd20ca04975c93b9339a37dd0cf2f576250f758f"
 },
 "nbformat": 3,
 "nbformat_minor": 0,
 "worksheets": [
  {
   "cells": [
    {
     "cell_type": "heading",
     "level": 1,
     "metadata": {},
     "source": [
      "Chapter 04. NumPy \uae30\ubcf8 : \ubc30\uc5f4\uacfc \ubca1\ud130 \uacc4\uc0b0"
     ]
    },
    {
     "cell_type": "heading",
     "level": 2,
     "metadata": {
      "collapsed": true
     },
     "source": [
      "4.1 NumPy ndarray : \ub2e4\ucc28\uc6d0 \ubc30\uc5f4 \uac1d\uccb4"
     ]
    },
    {
     "cell_type": "code",
     "collapsed": false,
     "input": [
      "import numpy as np"
     ],
     "language": "python",
     "metadata": {},
     "outputs": [],
     "prompt_number": 1
    },
    {
     "cell_type": "code",
     "collapsed": false,
     "input": [
      "data = np.array([[0.9526, -0.246, -0.8856],[0.5639,0.2379,0.9104]])"
     ],
     "language": "python",
     "metadata": {},
     "outputs": [],
     "prompt_number": 2
    },
    {
     "cell_type": "code",
     "collapsed": false,
     "input": [
      "data"
     ],
     "language": "python",
     "metadata": {},
     "outputs": [
      {
       "metadata": {},
       "output_type": "pyout",
       "prompt_number": 3,
       "text": [
        "array([[ 0.9526, -0.246 , -0.8856],\n",
        "       [ 0.5639,  0.2379,  0.9104]])"
       ]
      }
     ],
     "prompt_number": 3
    },
    {
     "cell_type": "code",
     "collapsed": false,
     "input": [
      "data * 10\n",
      "#\uac01 \uc694\uc18c\ub4e4\uc774 10\ubc30\uac00 \ub418\uc5b4 \uc800\uc7a5"
     ],
     "language": "python",
     "metadata": {},
     "outputs": [
      {
       "metadata": {},
       "output_type": "pyout",
       "prompt_number": 4,
       "text": [
        "array([[ 9.526, -2.46 , -8.856],\n",
        "       [ 5.639,  2.379,  9.104]])"
       ]
      }
     ],
     "prompt_number": 4
    },
    {
     "cell_type": "code",
     "collapsed": false,
     "input": [
      "type(data)\n",
      "#data\uc758 \ud0c0\uc785\uc740 ndarray"
     ],
     "language": "python",
     "metadata": {},
     "outputs": [
      {
       "metadata": {},
       "output_type": "pyout",
       "prompt_number": 5,
       "text": [
        "numpy.ndarray"
       ]
      }
     ],
     "prompt_number": 5
    },
    {
     "cell_type": "code",
     "collapsed": false,
     "input": [
      "data + data"
     ],
     "language": "python",
     "metadata": {},
     "outputs": [
      {
       "metadata": {},
       "output_type": "pyout",
       "prompt_number": 6,
       "text": [
        "array([[ 1.9052, -0.492 , -1.7712],\n",
        "       [ 1.1278,  0.4758,  1.8208]])"
       ]
      }
     ],
     "prompt_number": 6
    },
    {
     "cell_type": "code",
     "collapsed": false,
     "input": [
      "#ndarray \ub294 \uac19\uc740 \uc885\ub958\uc758 \ub370\uc774\ud130\ub97c \ub2f4\uc744 \uc218 \uc788\ub294 \ud3ec\uad04\uc801\uc778 \ub2e4\ucc28\uc6d0 \ubc30\uc5f4\n",
      "#ndarray \uc758 \ubaa8\ub4e0 \uc6d0\uc18c\ub294 \uc790\ub8cc\ud615\uc774 \uac19\uc544\uc57c \ud55c\ub2e4."
     ],
     "language": "python",
     "metadata": {},
     "outputs": [],
     "prompt_number": 7
    },
    {
     "cell_type": "code",
     "collapsed": false,
     "input": [
      "data.shape\n",
      "#\uac01 \ucc28\uc6d0\uc758 \ud06c\uae30\ub97c \uc54c\ub824\uc8fc\ub294 shape \ud29c\ud50c\n",
      "#(x\ucd95\uc758 \uc218,y\ucd95\uc758 \uc218)"
     ],
     "language": "python",
     "metadata": {},
     "outputs": [
      {
       "metadata": {},
       "output_type": "pyout",
       "prompt_number": 8,
       "text": [
        "(2L, 3L)"
       ]
      }
     ],
     "prompt_number": 8
    },
    {
     "cell_type": "code",
     "collapsed": false,
     "input": [
      "data.dtype\n",
      "#\ubc30\uc5f4\uc5d0 \uc800\uc7a5\ub41c \uc790\ub8cc\ud615\uc744 \uc54c\ub824\uc8fc\ub294 dtype \uac1d\uccb4"
     ],
     "language": "python",
     "metadata": {},
     "outputs": [
      {
       "metadata": {},
       "output_type": "pyout",
       "prompt_number": 9,
       "text": [
        "dtype('float64')"
       ]
      }
     ],
     "prompt_number": 9
    },
    {
     "cell_type": "heading",
     "level": 3,
     "metadata": {
      "collapsed": false
     },
     "source": [
      "4.1.1 ndarray \uc0dd\uc131"
     ]
    },
    {
     "cell_type": "code",
     "collapsed": true,
     "input": [
      "\n",
      "data1=[6,7.5,8,0,1]\n",
      "#\ud30c\uc774\uc36c\uc758 \ub9ac\uc2a4\ud2b8\ub294 \ubcc0\ud658\ud558\uae30 \uc88b\uc740 \uc608"
     ],
     "language": "python",
     "metadata": {},
     "outputs": [],
     "prompt_number": 10
    },
    {
     "cell_type": "code",
     "collapsed": false,
     "input": [
      "arr1 = np.array(data1)\n",
      "#\ubc30\uc5f4 \uc0dd\uc131\uc758 \uac00\uc7a5 \uc26c\uc6b4 \ubc29\ubc95 -> array."
     ],
     "language": "python",
     "metadata": {},
     "outputs": [],
     "prompt_number": 11
    },
    {
     "cell_type": "code",
     "collapsed": false,
     "input": [
      "arr1"
     ],
     "language": "python",
     "metadata": {},
     "outputs": [
      {
       "metadata": {},
       "output_type": "pyout",
       "prompt_number": 12,
       "text": [
        "array([ 6. ,  7.5,  8. ,  0. ,  1. ])"
       ]
      }
     ],
     "prompt_number": 12
    },
    {
     "cell_type": "code",
     "collapsed": true,
     "input": [
      "data2 = [[1,2,3,4],[5,6,7,8]]"
     ],
     "language": "python",
     "metadata": {},
     "outputs": [],
     "prompt_number": 13
    },
    {
     "cell_type": "code",
     "collapsed": true,
     "input": [
      "arr2=np.array(data2)"
     ],
     "language": "python",
     "metadata": {},
     "outputs": [],
     "prompt_number": 14
    },
    {
     "cell_type": "code",
     "collapsed": false,
     "input": [
      "arr2"
     ],
     "language": "python",
     "metadata": {},
     "outputs": [
      {
       "metadata": {},
       "output_type": "pyout",
       "prompt_number": 15,
       "text": [
        "array([[1, 2, 3, 4],\n",
        "       [5, 6, 7, 8]])"
       ]
      }
     ],
     "prompt_number": 15
    },
    {
     "cell_type": "code",
     "collapsed": false,
     "input": [
      "arr2.ndim\n",
      "#\uba87\ucc28\uc6d0\uc778\uc9c0"
     ],
     "language": "python",
     "metadata": {},
     "outputs": [
      {
       "metadata": {},
       "output_type": "pyout",
       "prompt_number": 16,
       "text": [
        "2"
       ]
      }
     ],
     "prompt_number": 16
    },
    {
     "cell_type": "code",
     "collapsed": false,
     "input": [
      "arr2.shape"
     ],
     "language": "python",
     "metadata": {},
     "outputs": [
      {
       "metadata": {},
       "output_type": "pyout",
       "prompt_number": 17,
       "text": [
        "(2L, 4L)"
       ]
      }
     ],
     "prompt_number": 17
    },
    {
     "cell_type": "code",
     "collapsed": false,
     "input": [
      "arr1.dtype"
     ],
     "language": "python",
     "metadata": {},
     "outputs": [
      {
       "metadata": {},
       "output_type": "pyout",
       "prompt_number": 18,
       "text": [
        "dtype('float64')"
       ]
      }
     ],
     "prompt_number": 18
    },
    {
     "cell_type": "code",
     "collapsed": false,
     "input": [
      "arr2.dtype\n",
      "#32\ube44\ud2b8 int\ud615"
     ],
     "language": "python",
     "metadata": {},
     "outputs": [
      {
       "metadata": {},
       "output_type": "pyout",
       "prompt_number": 19,
       "text": [
        "dtype('int32')"
       ]
      }
     ],
     "prompt_number": 19
    },
    {
     "cell_type": "code",
     "collapsed": false,
     "input": [
      "np.zeros(10)"
     ],
     "language": "python",
     "metadata": {},
     "outputs": [
      {
       "metadata": {},
       "output_type": "pyout",
       "prompt_number": 20,
       "text": [
        "array([ 0.,  0.,  0.,  0.,  0.,  0.,  0.,  0.,  0.,  0.])"
       ]
      }
     ],
     "prompt_number": 20
    },
    {
     "cell_type": "code",
     "collapsed": false,
     "input": [
      "np.zeros((3,6))\n",
      "#x\ucd95 3\uac1c, y\ucd95 6\uac1c"
     ],
     "language": "python",
     "metadata": {
      "scrolled": true
     },
     "outputs": [
      {
       "metadata": {},
       "output_type": "pyout",
       "prompt_number": 21,
       "text": [
        "array([[ 0.,  0.,  0.,  0.,  0.,  0.],\n",
        "       [ 0.,  0.,  0.,  0.,  0.,  0.],\n",
        "       [ 0.,  0.,  0.,  0.,  0.,  0.]])"
       ]
      }
     ],
     "prompt_number": 21
    },
    {
     "cell_type": "code",
     "collapsed": false,
     "input": [
      "np.empty((2,3,2))"
     ],
     "language": "python",
     "metadata": {
      "scrolled": false
     },
     "outputs": [
      {
       "metadata": {},
       "output_type": "pyout",
       "prompt_number": 22,
       "text": [
        "array([[[  2.72324280e-316,   3.16202013e-322],\n",
        "        [  0.00000000e+000,   0.00000000e+000],\n",
        "        [  0.00000000e+000,   2.25477119e+180]],\n",
        "\n",
        "       [[  1.85592452e-051,   4.04203312e-037],\n",
        "        [  1.73257887e+185,   1.48943929e+161],\n",
        "        [  1.63066132e+185,   4.23106834e+175]]])"
       ]
      }
     ],
     "prompt_number": 22
    },
    {
     "cell_type": "code",
     "collapsed": false,
     "input": [
      "np.arange(15)\n",
      "#arange() : \ud30c\uc774\uc36c range \ud568\uc218\uc758 \ubc30\uc5f4\ubc84\uc804(\ub9ac\uc2a4\ud2b8 \ub300\uc2e0 ndarray \ubc18\ud658)"
     ],
     "language": "python",
     "metadata": {},
     "outputs": [
      {
       "metadata": {},
       "output_type": "pyout",
       "prompt_number": 23,
       "text": [
        "array([ 0,  1,  2,  3,  4,  5,  6,  7,  8,  9, 10, 11, 12, 13, 14])"
       ]
      }
     ],
     "prompt_number": 23
    },
    {
     "cell_type": "code",
     "collapsed": true,
     "input": [
      "tmp_arr=np.arange(15)"
     ],
     "language": "python",
     "metadata": {},
     "outputs": [],
     "prompt_number": 24
    },
    {
     "cell_type": "code",
     "collapsed": false,
     "input": [
      "type(tmp_arr)"
     ],
     "language": "python",
     "metadata": {},
     "outputs": [
      {
       "metadata": {},
       "output_type": "pyout",
       "prompt_number": 25,
       "text": [
        "numpy.ndarray"
       ]
      }
     ],
     "prompt_number": 25
    },
    {
     "cell_type": "code",
     "collapsed": false,
     "input": [
      "np.eye(3)\n",
      "#3*3\uc758 \ub2e8\uc704\ud589\ub82c \uc0dd\uc131"
     ],
     "language": "python",
     "metadata": {},
     "outputs": [
      {
       "metadata": {},
       "output_type": "pyout",
       "prompt_number": 26,
       "text": [
        "array([[ 1.,  0.,  0.],\n",
        "       [ 0.,  1.,  0.],\n",
        "       [ 0.,  0.,  1.]])"
       ]
      }
     ],
     "prompt_number": 26
    },
    {
     "cell_type": "code",
     "collapsed": false,
     "input": [
      "np.identity(4)"
     ],
     "language": "python",
     "metadata": {},
     "outputs": [
      {
       "metadata": {},
       "output_type": "pyout",
       "prompt_number": 27,
       "text": [
        "array([[ 1.,  0.,  0.,  0.],\n",
        "       [ 0.,  1.,  0.,  0.],\n",
        "       [ 0.,  0.,  1.,  0.],\n",
        "       [ 0.,  0.,  0.,  1.]])"
       ]
      }
     ],
     "prompt_number": 27
    },
    {
     "cell_type": "code",
     "collapsed": false,
     "input": [
      "np.ones_like(arr2)\n",
      "#ones_like\ub294 \uc8fc\uc5b4\uc9c4 \ubc30\uc5f4\uacfc \ub3d9\uc77c\ud55c \ubaa8\uc591\uacfc dtype\uc744 \uac00\uc9c0\ub294 \ubc30\uc5f4\uc744 \uc0dd\uc131\ud558\uc5ec 1\ub85c \ucd08\uae30\ud654"
     ],
     "language": "python",
     "metadata": {},
     "outputs": [
      {
       "metadata": {},
       "output_type": "pyout",
       "prompt_number": 28,
       "text": [
        "array([[1, 1, 1, 1],\n",
        "       [1, 1, 1, 1]])"
       ]
      }
     ],
     "prompt_number": 28
    },
    {
     "cell_type": "heading",
     "level": 3,
     "metadata": {},
     "source": [
      "4.1.2 ndarray\uc758 \uc790\ub8cc\ud615"
     ]
    },
    {
     "cell_type": "code",
     "collapsed": true,
     "input": [
      "arr1=np.array([1,2,3],dtype=np.float64)"
     ],
     "language": "python",
     "metadata": {},
     "outputs": [],
     "prompt_number": 29
    },
    {
     "cell_type": "code",
     "collapsed": false,
     "input": [
      "arr2=np.array((1,2,3),dtype=np.float64)\n",
      "#array\uc548\uc758 \ub300\uad04\ud638[]\uc640 \uc18c\uad04\ud638() \uc0c1\uad00\uc5c6\uc774 \uc0ac\uc6a9\uac00\ub2a5\ud55c\uac83\uc73c\ub85c \ubcf4\uc784"
     ],
     "language": "python",
     "metadata": {},
     "outputs": [],
     "prompt_number": 30
    },
    {
     "cell_type": "code",
     "collapsed": true,
     "input": [
      "arr3=np.array([1,2,3],dtype=np.int32)"
     ],
     "language": "python",
     "metadata": {},
     "outputs": [],
     "prompt_number": 31
    },
    {
     "cell_type": "code",
     "collapsed": false,
     "input": [
      "arr1,arr2,arr3"
     ],
     "language": "python",
     "metadata": {},
     "outputs": [
      {
       "metadata": {},
       "output_type": "pyout",
       "prompt_number": 32,
       "text": [
        "(array([ 1.,  2.,  3.]), array([ 1.,  2.,  3.]), array([1, 2, 3]))"
       ]
      }
     ],
     "prompt_number": 32
    },
    {
     "cell_type": "code",
     "collapsed": false,
     "input": [
      "type(arr1[0]),type(arr2[0]),type(arr3[0])"
     ],
     "language": "python",
     "metadata": {},
     "outputs": [
      {
       "metadata": {},
       "output_type": "pyout",
       "prompt_number": 33,
       "text": [
        "(numpy.float64, numpy.float64, numpy.int32)"
       ]
      }
     ],
     "prompt_number": 33
    },
    {
     "cell_type": "code",
     "collapsed": false,
     "input": [
      "arr1.dtype,arr2.dtype,arr3.dtype\n",
      "#\uac01 ndarray\uc5d0 \ub4e4\uc5b4\uac00\uc788\ub294 \uc694\uc18c\ub4e4\uc5d0 \ub300\ud55c type\uc744 \ubc18\ud658"
     ],
     "language": "python",
     "metadata": {},
     "outputs": [
      {
       "metadata": {},
       "output_type": "pyout",
       "prompt_number": 34,
       "text": [
        "(dtype('float64'), dtype('float64'), dtype('int32'))"
       ]
      }
     ],
     "prompt_number": 34
    },
    {
     "cell_type": "code",
     "collapsed": true,
     "input": [
      "arr = np.array([1,2,3,4,5])"
     ],
     "language": "python",
     "metadata": {},
     "outputs": [],
     "prompt_number": 35
    },
    {
     "cell_type": "code",
     "collapsed": false,
     "input": [
      "arr.dtype"
     ],
     "language": "python",
     "metadata": {},
     "outputs": [
      {
       "metadata": {},
       "output_type": "pyout",
       "prompt_number": 36,
       "text": [
        "dtype('int32')"
       ]
      }
     ],
     "prompt_number": 36
    },
    {
     "cell_type": "code",
     "collapsed": true,
     "input": [
      "float_arr=arr.astype(np.float64)\n",
      "#ndarray\uc758 astype \uba54\uc11c\ub4dc\ub97c \uc0ac\uc6a9\ud574\uc11c \ubc30\uc5f4\uc758 dtype\uc744 \ub2e4\ub978 \ud615\uc73c\ub85c \uba85\uc2dc\uc801 \ubcc0\uacbd\uc774 \uac00\ub2a5"
     ],
     "language": "python",
     "metadata": {},
     "outputs": [],
     "prompt_number": 37
    },
    {
     "cell_type": "code",
     "collapsed": false,
     "input": [
      "float_arr,float_arr.dtype"
     ],
     "language": "python",
     "metadata": {},
     "outputs": [
      {
       "metadata": {},
       "output_type": "pyout",
       "prompt_number": 38,
       "text": [
        "(array([ 1.,  2.,  3.,  4.,  5.]), dtype('float64'))"
       ]
      }
     ],
     "prompt_number": 38
    },
    {
     "cell_type": "code",
     "collapsed": false,
     "input": [
      "arr.dtype\n",
      "#arr\uc758 \ud0c0\uc785\uc740 \ubcc0\uacbd\ub418\uc9c0 \uc54a\uc74c"
     ],
     "language": "python",
     "metadata": {},
     "outputs": [
      {
       "metadata": {},
       "output_type": "pyout",
       "prompt_number": 39,
       "text": [
        "dtype('int32')"
       ]
      }
     ],
     "prompt_number": 39
    },
    {
     "cell_type": "code",
     "collapsed": true,
     "input": [
      "arr = np.array([3.7, -1.2, -2.6, 0.5 , 12.9, 10.1])"
     ],
     "language": "python",
     "metadata": {},
     "outputs": [],
     "prompt_number": 40
    },
    {
     "cell_type": "code",
     "collapsed": false,
     "input": [
      "arr"
     ],
     "language": "python",
     "metadata": {},
     "outputs": [
      {
       "metadata": {},
       "output_type": "pyout",
       "prompt_number": 41,
       "text": [
        "array([  3.7,  -1.2,  -2.6,   0.5,  12.9,  10.1])"
       ]
      }
     ],
     "prompt_number": 41
    },
    {
     "cell_type": "code",
     "collapsed": false,
     "input": [
      "arr.astype(np.int32)\n",
      "#\ubd80\ub3d9\uc18c\uc218\uc810 \uc22b\uc790\ub97c \uc815\uc218\ub85c \ubcc0\uacbd\uc2dc \uc18c\uc218\uc810 \uc544\ub7ab\uc790\ub9ac\ub294 \ubc84\ub824\uc9d0"
     ],
     "language": "python",
     "metadata": {},
     "outputs": [
      {
       "metadata": {},
       "output_type": "pyout",
       "prompt_number": 42,
       "text": [
        "array([ 3, -1, -2,  0, 12, 10])"
       ]
      }
     ],
     "prompt_number": 42
    },
    {
     "cell_type": "code",
     "collapsed": true,
     "input": [
      "numeric_strings = np.array(['1.25', '-9.6', '42'],dtype=np.string_)"
     ],
     "language": "python",
     "metadata": {},
     "outputs": [],
     "prompt_number": 43
    },
    {
     "cell_type": "code",
     "collapsed": false,
     "input": [
      "numeric_strings"
     ],
     "language": "python",
     "metadata": {},
     "outputs": [
      {
       "metadata": {},
       "output_type": "pyout",
       "prompt_number": 44,
       "text": [
        "array(['1.25', '-9.6', '42'], \n",
        "      dtype='|S4')"
       ]
      }
     ],
     "prompt_number": 44
    },
    {
     "cell_type": "code",
     "collapsed": false,
     "input": [
      "numeric_strings.astype(float)\n",
      "#\uc815\uc0c1\uc791\ub3d9"
     ],
     "language": "python",
     "metadata": {},
     "outputs": [
      {
       "metadata": {},
       "output_type": "pyout",
       "prompt_number": 45,
       "text": [
        "array([  1.25,  -9.6 ,  42.  ])"
       ]
      }
     ],
     "prompt_number": 45
    },
    {
     "cell_type": "code",
     "collapsed": false,
     "input": [
      "numeric_strings.astype(int)\n",
      "numeric_strings.astype(np.int32)\n",
      "#\uc624\ub958\ubc1c\uc0dd \uc18c\uc218\ub97c int\ud615\uc73c\ub85c \ubc14\uafc0\uc218\uc5c6\uc5b4\uc11c \ubc1c\uc0dd\ud558\ub294 \uc624\ub958"
     ],
     "language": "python",
     "metadata": {},
     "outputs": [
      {
       "ename": "ValueError",
       "evalue": "invalid literal for int() with base 10: '1.25'",
       "output_type": "pyerr",
       "traceback": [
        "\u001b[1;31m---------------------------------------------------------------------------\u001b[0m",
        "\u001b[1;31mValueError\u001b[0m                                Traceback (most recent call last)",
        "\u001b[1;32m<ipython-input-46-04265e772c9f>\u001b[0m in \u001b[0;36m<module>\u001b[1;34m()\u001b[0m\n\u001b[1;32m----> 1\u001b[1;33m \u001b[0mnumeric_strings\u001b[0m\u001b[1;33m.\u001b[0m\u001b[0mastype\u001b[0m\u001b[1;33m(\u001b[0m\u001b[0mint\u001b[0m\u001b[1;33m)\u001b[0m\u001b[1;33m\u001b[0m\u001b[0m\n\u001b[0m\u001b[0;32m      2\u001b[0m \u001b[0mnumeric_strings\u001b[0m\u001b[1;33m.\u001b[0m\u001b[0mastype\u001b[0m\u001b[1;33m(\u001b[0m\u001b[0mnp\u001b[0m\u001b[1;33m.\u001b[0m\u001b[0mint32\u001b[0m\u001b[1;33m)\u001b[0m\u001b[1;33m\u001b[0m\u001b[0m\n\u001b[0;32m      3\u001b[0m \u001b[1;31m#\uc624\ub958\ubc1c\uc0dd \uc18c\uc218\ub97c int\ud615\uc73c\ub85c \ubc14\uafc0\uc218\uc5c6\uc5b4\uc11c \ubc1c\uc0dd\ud558\ub294 \uc624\ub958\u001b[0m\u001b[1;33m\u001b[0m\u001b[1;33m\u001b[0m\u001b[0m\n",
        "\u001b[1;31mValueError\u001b[0m: invalid literal for int() with base 10: '1.25'"
       ]
      }
     ],
     "prompt_number": 46
    },
    {
     "cell_type": "code",
     "collapsed": false,
     "input": [
      "numeric_strings.astype(float)\n",
      "#np.float \ub300\uc2e0 float \ub3c4 \uac00\ub2a5"
     ],
     "language": "python",
     "metadata": {},
     "outputs": [
      {
       "metadata": {},
       "output_type": "pyout",
       "prompt_number": 130,
       "text": [
        "array([  1.25,  -9.6 ,  42.  ])"
       ]
      }
     ],
     "prompt_number": 130
    },
    {
     "cell_type": "code",
     "collapsed": true,
     "input": [
      "int_array = np.arange(10)"
     ],
     "language": "python",
     "metadata": {},
     "outputs": [],
     "prompt_number": 131
    },
    {
     "cell_type": "code",
     "collapsed": true,
     "input": [
      "calibers= np.array([.22, .270, .357, .380, .44, .50],dtype=np.float64)"
     ],
     "language": "python",
     "metadata": {},
     "outputs": [],
     "prompt_number": 132
    },
    {
     "cell_type": "code",
     "collapsed": false,
     "input": [
      "int_array.astype(calibers.dtype)\n",
      "#calibers\uc758 dtype(float64)\ub85c int_array\uc758 dtype\uc744 \uc218\uc815"
     ],
     "language": "python",
     "metadata": {},
     "outputs": [
      {
       "metadata": {},
       "output_type": "pyout",
       "prompt_number": 133,
       "text": [
        "array([ 0.,  1.,  2.,  3.,  4.,  5.,  6.,  7.,  8.,  9.])"
       ]
      }
     ],
     "prompt_number": 133
    },
    {
     "cell_type": "code",
     "collapsed": true,
     "input": [
      "empty_uint32=np.empty(8, dtype='u4')"
     ],
     "language": "python",
     "metadata": {},
     "outputs": [],
     "prompt_number": 134
    },
    {
     "cell_type": "code",
     "collapsed": false,
     "input": [
      "empty_uint32"
     ],
     "language": "python",
     "metadata": {},
     "outputs": [
      {
       "metadata": {},
       "output_type": "pyout",
       "prompt_number": 135,
       "text": [
        "array([0, 0, 0, 0, 0, 0, 0, 0], dtype=uint32)"
       ]
      }
     ],
     "prompt_number": 135
    },
    {
     "cell_type": "heading",
     "level": 3,
     "metadata": {},
     "source": [
      "4.1.3 \ubc30\uc5f4\uacfc \uc2a4\uce7c\ub77c \uac04\uc758 \uc5f0\uc0b0"
     ]
    },
    {
     "cell_type": "code",
     "collapsed": true,
     "input": [
      "arr = np.array([[1.,2.,3.],[4.,5.,6.,]])"
     ],
     "language": "python",
     "metadata": {},
     "outputs": [],
     "prompt_number": 136
    },
    {
     "cell_type": "code",
     "collapsed": false,
     "input": [
      "arr"
     ],
     "language": "python",
     "metadata": {},
     "outputs": [
      {
       "metadata": {},
       "output_type": "pyout",
       "prompt_number": 137,
       "text": [
        "array([[ 1.,  2.,  3.],\n",
        "       [ 4.,  5.,  6.]])"
       ]
      }
     ],
     "prompt_number": 137
    },
    {
     "cell_type": "code",
     "collapsed": false,
     "input": [
      "arr * arr\n",
      "#\uc81c\uc790\ub9ac \uc81c\uacf1"
     ],
     "language": "python",
     "metadata": {},
     "outputs": [
      {
       "metadata": {},
       "output_type": "pyout",
       "prompt_number": 138,
       "text": [
        "array([[  1.,   4.,   9.],\n",
        "       [ 16.,  25.,  36.]])"
       ]
      }
     ],
     "prompt_number": 138
    },
    {
     "cell_type": "code",
     "collapsed": false,
     "input": [
      "arr - arr"
     ],
     "language": "python",
     "metadata": {},
     "outputs": [
      {
       "metadata": {},
       "output_type": "pyout",
       "prompt_number": 139,
       "text": [
        "array([[ 0.,  0.,  0.],\n",
        "       [ 0.,  0.,  0.]])"
       ]
      }
     ],
     "prompt_number": 139
    },
    {
     "cell_type": "code",
     "collapsed": false,
     "input": [
      "1/arr\n",
      "#\uc2a4\uce7c\ub77c \uac12\uc5d0 \ub300\ud55c \uc0b0\uc220\uc5f0\uc0b0\uc740 \uac01 \uc694\uc18c\ub85c \uc804\ub2ec"
     ],
     "language": "python",
     "metadata": {},
     "outputs": [
      {
       "metadata": {},
       "output_type": "pyout",
       "prompt_number": 140,
       "text": [
        "array([[ 1.        ,  0.5       ,  0.33333333],\n",
        "       [ 0.25      ,  0.2       ,  0.16666667]])"
       ]
      }
     ],
     "prompt_number": 140
    },
    {
     "cell_type": "code",
     "collapsed": false,
     "input": [
      "arr**0.5"
     ],
     "language": "python",
     "metadata": {},
     "outputs": [
      {
       "metadata": {},
       "output_type": "pyout",
       "prompt_number": 141,
       "text": [
        "array([[ 1.        ,  1.41421356,  1.73205081],\n",
        "       [ 2.        ,  2.23606798,  2.44948974]])"
       ]
      }
     ],
     "prompt_number": 141
    },
    {
     "cell_type": "heading",
     "level": 3,
     "metadata": {},
     "source": [
      "4.1.4 \uc0c9\uc778\uacfc \uc2ac\ub77c\uc774\uc2f1 \uae30\ucd08"
     ]
    },
    {
     "cell_type": "code",
     "collapsed": true,
     "input": [
      "arr = np.arange(10)"
     ],
     "language": "python",
     "metadata": {},
     "outputs": [],
     "prompt_number": 142
    },
    {
     "cell_type": "code",
     "collapsed": false,
     "input": [
      "arr"
     ],
     "language": "python",
     "metadata": {},
     "outputs": [
      {
       "metadata": {},
       "output_type": "pyout",
       "prompt_number": 143,
       "text": [
        "array([0, 1, 2, 3, 4, 5, 6, 7, 8, 9])"
       ]
      }
     ],
     "prompt_number": 143
    },
    {
     "cell_type": "code",
     "collapsed": false,
     "input": [
      "arr[5]"
     ],
     "language": "python",
     "metadata": {},
     "outputs": [
      {
       "metadata": {},
       "output_type": "pyout",
       "prompt_number": 144,
       "text": [
        "5"
       ]
      }
     ],
     "prompt_number": 144
    },
    {
     "cell_type": "code",
     "collapsed": false,
     "input": [
      "arr[5:8]\n",
      "#arr[5]~arr[7]"
     ],
     "language": "python",
     "metadata": {},
     "outputs": [
      {
       "metadata": {},
       "output_type": "pyout",
       "prompt_number": 145,
       "text": [
        "array([5, 6, 7])"
       ]
      }
     ],
     "prompt_number": 145
    },
    {
     "cell_type": "code",
     "collapsed": true,
     "input": [
      "arr[5:8]=12"
     ],
     "language": "python",
     "metadata": {},
     "outputs": [],
     "prompt_number": 146
    },
    {
     "cell_type": "code",
     "collapsed": false,
     "input": [
      "arr"
     ],
     "language": "python",
     "metadata": {},
     "outputs": [
      {
       "metadata": {},
       "output_type": "pyout",
       "prompt_number": 147,
       "text": [
        "array([ 0,  1,  2,  3,  4, 12, 12, 12,  8,  9])"
       ]
      }
     ],
     "prompt_number": 147
    },
    {
     "cell_type": "code",
     "collapsed": true,
     "input": [
      "arr_slice  = arr[5:8]\n",
      "#\ub370\uc774\ud130 \ubcf5\uc0ac\uac00 \uc544\ub2cc \ucc38\uc870(reference)!!!\n",
      "#\ucc38\uc870 \ub300\uc0c1\uc740 arr[5]~arr[7]\n",
      "#arr_slice \ub294 \ud604\uc7ac [12,12,12]\ub97c \uac00\uc9c0\uace0 \uc788\uace0 \uc774\ub294 arr[5:8] \ubd80\ubd84"
     ],
     "language": "python",
     "metadata": {},
     "outputs": [],
     "prompt_number": 148
    },
    {
     "cell_type": "code",
     "collapsed": false,
     "input": [
      "arr_slice[1] = 12345\n",
      "#arr_slice[1] == arr[6]"
     ],
     "language": "python",
     "metadata": {},
     "outputs": [],
     "prompt_number": 149
    },
    {
     "cell_type": "code",
     "collapsed": false,
     "input": [
      "arr"
     ],
     "language": "python",
     "metadata": {},
     "outputs": [
      {
       "metadata": {},
       "output_type": "pyout",
       "prompt_number": 150,
       "text": [
        "array([    0,     1,     2,     3,     4,    12, 12345,    12,     8,     9])"
       ]
      }
     ],
     "prompt_number": 150
    },
    {
     "cell_type": "code",
     "collapsed": false,
     "input": [
      "arr_slice[:]=64\n",
      "#arr_slice\uac00 \ucc38\uc870\ud558\ub294 \ubaa8\ub4e0 \ub300\uc0c1\uc744 64\ub85c"
     ],
     "language": "python",
     "metadata": {},
     "outputs": [],
     "prompt_number": 151
    },
    {
     "cell_type": "code",
     "collapsed": false,
     "input": [
      "arr"
     ],
     "language": "python",
     "metadata": {
      "scrolled": true
     },
     "outputs": [
      {
       "metadata": {},
       "output_type": "pyout",
       "prompt_number": 152,
       "text": [
        "array([ 0,  1,  2,  3,  4, 64, 64, 64,  8,  9])"
       ]
      }
     ],
     "prompt_number": 152
    },
    {
     "cell_type": "markdown",
     "metadata": {},
     "source": [
      "----------------------------------------------------------------------------------------------------------------------------------"
     ]
    },
    {
     "cell_type": "code",
     "collapsed": false,
     "input": [
      "#\ub9cc\uc57d\uc5d0 \ubdf0 \ub300\uc2e0 ndarray \uc2ac\ub77c\uc774\uc2a4\uc758 \ubcf5\uc0ac\ubcf8\uc744 \uc5bb\uace0 \uc2f6\ub2e4\uba74 arr[5:8].copy()\ub97c \uc0ac\uc6a9\ud558\uc5ec \uba85\uc2dc\uc801\uc744 \ubc30\uc5f4\uc744 \ubcf5\uc0ac\n",
      "print 'arr = ',arr\n",
      "#\ud604\uc7ac arr\n",
      "print\n",
      "\n",
      "arr_slice_copy=arr[0:3].copy()\n",
      "print 'arr_slice_copy=arr[0:3] \uacb0\uacfc';\n",
      "print 'arr_slice_copy = ',arr_slice_copy\n",
      "print 'arr = ',arr\n",
      "print\n",
      "\n",
      "arr_slice_copy=[99, 98, 97]\n",
      "print 'arr_slice_copy = ',arr_slice_copy\n",
      "print 'arr = ',arr"
     ],
     "language": "python",
     "metadata": {},
     "outputs": [
      {
       "output_type": "stream",
       "stream": "stdout",
       "text": [
        "arr =  [ 0  1  2  3  4 64 64 64  8  9]\n",
        "\n",
        "arr_slice_copy=arr[0:3] \uacb0\uacfc\n",
        "arr_slice_copy =  [0 1 2]\n",
        "arr =  [ 0  1  2  3  4 64 64 64  8  9]\n",
        "\n",
        "arr_slice_copy =  [99, 98, 97]\n",
        "arr =  [ 0  1  2  3  4 64 64 64  8  9]\n"
       ]
      }
     ],
     "prompt_number": 153
    },
    {
     "cell_type": "code",
     "collapsed": false,
     "input": [
      "arr_slice_copy"
     ],
     "language": "python",
     "metadata": {
      "scrolled": true
     },
     "outputs": [
      {
       "metadata": {},
       "output_type": "pyout",
       "prompt_number": 154,
       "text": [
        "[99, 98, 97]"
       ]
      }
     ],
     "prompt_number": 154
    },
    {
     "cell_type": "markdown",
     "metadata": {},
     "source": [
      "----------------------------------------------------------------------------------------------------------------------------------"
     ]
    },
    {
     "cell_type": "code",
     "collapsed": true,
     "input": [
      "arr2d=np.array([[1,2,3],[4,5,6],[7,8,9]])"
     ],
     "language": "python",
     "metadata": {},
     "outputs": [],
     "prompt_number": 155
    },
    {
     "cell_type": "code",
     "collapsed": false,
     "input": [
      "arr2d[1],type(arr2d[1])"
     ],
     "language": "python",
     "metadata": {},
     "outputs": [
      {
       "metadata": {},
       "output_type": "pyout",
       "prompt_number": 156,
       "text": [
        "(array([4, 5, 6]), numpy.ndarray)"
       ]
      }
     ],
     "prompt_number": 156
    },
    {
     "cell_type": "code",
     "collapsed": false,
     "input": [
      "arr2d[1][2],type(arr2d[1][2])"
     ],
     "language": "python",
     "metadata": {},
     "outputs": [
      {
       "metadata": {},
       "output_type": "pyout",
       "prompt_number": 157,
       "text": [
        "(6, numpy.int32)"
       ]
      }
     ],
     "prompt_number": 157
    },
    {
     "cell_type": "code",
     "collapsed": false,
     "input": [
      "arr2d[1,2]\n",
      "#arr2d[1][2] \uc640 arr2d[1,2] \ub294 \uac19\uc740\ud45c\ud604"
     ],
     "language": "python",
     "metadata": {},
     "outputs": [
      {
       "metadata": {},
       "output_type": "pyout",
       "prompt_number": 158,
       "text": [
        "6"
       ]
      }
     ],
     "prompt_number": 158
    },
    {
     "cell_type": "code",
     "collapsed": true,
     "input": [
      "arr3d = np.array([[[1,2,3],[4,5,6]],[[7,8,9],[10,11,12]]])"
     ],
     "language": "python",
     "metadata": {},
     "outputs": [],
     "prompt_number": 159
    },
    {
     "cell_type": "code",
     "collapsed": false,
     "input": [
      "arr3d"
     ],
     "language": "python",
     "metadata": {},
     "outputs": [
      {
       "metadata": {},
       "output_type": "pyout",
       "prompt_number": 160,
       "text": [
        "array([[[ 1,  2,  3],\n",
        "        [ 4,  5,  6]],\n",
        "\n",
        "       [[ 7,  8,  9],\n",
        "        [10, 11, 12]]])"
       ]
      }
     ],
     "prompt_number": 160
    },
    {
     "cell_type": "code",
     "collapsed": false,
     "input": [
      "arr3d[0]\n",
      "#2 x 3 \ud06c\uae30\uc758 \ubc30\uc5f4"
     ],
     "language": "python",
     "metadata": {},
     "outputs": [
      {
       "metadata": {},
       "output_type": "pyout",
       "prompt_number": 161,
       "text": [
        "array([[1, 2, 3],\n",
        "       [4, 5, 6]])"
       ]
      }
     ],
     "prompt_number": 161
    },
    {
     "cell_type": "code",
     "collapsed": true,
     "input": [
      "old_values = arr3d[0].copy()"
     ],
     "language": "python",
     "metadata": {},
     "outputs": [],
     "prompt_number": 162
    },
    {
     "cell_type": "code",
     "collapsed": true,
     "input": [
      "arr3d[0] = 42\n",
      "#\uc2a4\uce7c\ub77c\uac12 \ub300\uc785"
     ],
     "language": "python",
     "metadata": {},
     "outputs": [],
     "prompt_number": 163
    },
    {
     "cell_type": "code",
     "collapsed": false,
     "input": [
      "arr3d"
     ],
     "language": "python",
     "metadata": {},
     "outputs": [
      {
       "metadata": {},
       "output_type": "pyout",
       "prompt_number": 164,
       "text": [
        "array([[[42, 42, 42],\n",
        "        [42, 42, 42]],\n",
        "\n",
        "       [[ 7,  8,  9],\n",
        "        [10, 11, 12]]])"
       ]
      }
     ],
     "prompt_number": 164
    },
    {
     "cell_type": "code",
     "collapsed": true,
     "input": [
      "arr3d[0]=old_values.copy()"
     ],
     "language": "python",
     "metadata": {},
     "outputs": [],
     "prompt_number": 165
    },
    {
     "cell_type": "code",
     "collapsed": false,
     "input": [
      "arr3d"
     ],
     "language": "python",
     "metadata": {},
     "outputs": [
      {
       "metadata": {},
       "output_type": "pyout",
       "prompt_number": 166,
       "text": [
        "array([[[ 1,  2,  3],\n",
        "        [ 4,  5,  6]],\n",
        "\n",
        "       [[ 7,  8,  9],\n",
        "        [10, 11, 12]]])"
       ]
      }
     ],
     "prompt_number": 166
    },
    {
     "cell_type": "code",
     "collapsed": false,
     "input": [
      "arr3d[1,0]"
     ],
     "language": "python",
     "metadata": {},
     "outputs": [
      {
       "metadata": {},
       "output_type": "pyout",
       "prompt_number": 167,
       "text": [
        "array([7, 8, 9])"
       ]
      }
     ],
     "prompt_number": 167
    },
    {
     "cell_type": "code",
     "collapsed": false,
     "input": [
      "arr[1:6]\n",
      "#1\ucc28\uc6d0 \uc2ac\ub77c\uc774\uc2f1 \ubc29\ubc95\n",
      "#ndarray\ub294 \uc2ac\ub77c\uc774\uc2f1\uc774 \uac00\ub2a5"
     ],
     "language": "python",
     "metadata": {},
     "outputs": [
      {
       "metadata": {},
       "output_type": "pyout",
       "prompt_number": 168,
       "text": [
        "array([ 1,  2,  3,  4, 64])"
       ]
      }
     ],
     "prompt_number": 168
    },
    {
     "cell_type": "code",
     "collapsed": false,
     "input": [
      "arr2d"
     ],
     "language": "python",
     "metadata": {},
     "outputs": [
      {
       "metadata": {},
       "output_type": "pyout",
       "prompt_number": 169,
       "text": [
        "array([[1, 2, 3],\n",
        "       [4, 5, 6],\n",
        "       [7, 8, 9]])"
       ]
      }
     ],
     "prompt_number": 169
    },
    {
     "cell_type": "code",
     "collapsed": false,
     "input": [
      "arr2d[:2]"
     ],
     "language": "python",
     "metadata": {},
     "outputs": [
      {
       "metadata": {},
       "output_type": "pyout",
       "prompt_number": 170,
       "text": [
        "array([[1, 2, 3],\n",
        "       [4, 5, 6]])"
       ]
      }
     ],
     "prompt_number": 170
    },
    {
     "cell_type": "code",
     "collapsed": false,
     "input": [
      "arr2d[:2, 1:]\n",
      "#arr2d[0:2] \uae4c\uc9c0 \ucd94\ucd9c\ud55c\ub4a4 \uac01 \uc694\uc18c\uc5d0 \ub300\ud558[1:]\uc870\uac74\uc73c\ub85c \ucd94\ucd9c"
     ],
     "language": "python",
     "metadata": {},
     "outputs": [
      {
       "metadata": {},
       "output_type": "pyout",
       "prompt_number": 171,
       "text": [
        "array([[2, 3],\n",
        "       [5, 6]])"
       ]
      }
     ],
     "prompt_number": 171
    },
    {
     "cell_type": "code",
     "collapsed": false,
     "input": [
      "arr3d[:2]"
     ],
     "language": "python",
     "metadata": {},
     "outputs": [
      {
       "metadata": {},
       "output_type": "pyout",
       "prompt_number": 172,
       "text": [
        "array([[[ 1,  2,  3],\n",
        "        [ 4,  5,  6]],\n",
        "\n",
        "       [[ 7,  8,  9],\n",
        "        [10, 11, 12]]])"
       ]
      }
     ],
     "prompt_number": 172
    },
    {
     "cell_type": "code",
     "collapsed": false,
     "input": [
      "arr2d[1,:2]\n",
      "#arr2d[1] = [4,5,6] \uc5d0\uc11c [:2]\uae4c\uc9c0 \ucd94\ucd9c"
     ],
     "language": "python",
     "metadata": {},
     "outputs": [
      {
       "metadata": {},
       "output_type": "pyout",
       "prompt_number": 173,
       "text": [
        "array([4, 5])"
       ]
      }
     ],
     "prompt_number": 173
    },
    {
     "cell_type": "code",
     "collapsed": false,
     "input": [
      "arr2d[2,:1]\n",
      "#arr2d[2] = [7,8,9] \uc5d0\uc11c [:1]\uae4c\uc9c0 \ucd94\ucd9c"
     ],
     "language": "python",
     "metadata": {},
     "outputs": [
      {
       "metadata": {},
       "output_type": "pyout",
       "prompt_number": 174,
       "text": [
        "array([7])"
       ]
      }
     ],
     "prompt_number": 174
    },
    {
     "cell_type": "code",
     "collapsed": false,
     "input": [
      "arr2d[:,:1]\n",
      "#arr2d \uac01 \uc694\uc18c\uc5d0\uc11c [:1]\uae4c\uc9c0 \ucd94\ucd9c"
     ],
     "language": "python",
     "metadata": {},
     "outputs": [
      {
       "metadata": {},
       "output_type": "pyout",
       "prompt_number": 175,
       "text": [
        "array([[1],\n",
        "       [4],\n",
        "       [7]])"
       ]
      }
     ],
     "prompt_number": 175
    },
    {
     "cell_type": "code",
     "collapsed": true,
     "input": [
      "arr2d[:2,1:] =0"
     ],
     "language": "python",
     "metadata": {},
     "outputs": [],
     "prompt_number": 176
    },
    {
     "cell_type": "code",
     "collapsed": false,
     "input": [
      "arr2d"
     ],
     "language": "python",
     "metadata": {},
     "outputs": [
      {
       "metadata": {},
       "output_type": "pyout",
       "prompt_number": 177,
       "text": [
        "array([[1, 0, 0],\n",
        "       [4, 0, 0],\n",
        "       [7, 8, 9]])"
       ]
      }
     ],
     "prompt_number": 177
    },
    {
     "cell_type": "heading",
     "level": 3,
     "metadata": {},
     "source": [
      "4.1.5 boolean \uc0c9\uc778"
     ]
    },
    {
     "cell_type": "code",
     "collapsed": false,
     "input": [
      "names = np.array(['Bob','Joe','Will','Bob','Will','bob','Joe'])"
     ],
     "language": "python",
     "metadata": {},
     "outputs": [],
     "prompt_number": 178
    },
    {
     "cell_type": "code",
     "collapsed": false,
     "input": [
      "names"
     ],
     "language": "python",
     "metadata": {},
     "outputs": [
      {
       "metadata": {},
       "output_type": "pyout",
       "prompt_number": 179,
       "text": [
        "array(['Bob', 'Joe', 'Will', 'Bob', 'Will', 'bob', 'Joe'], \n",
        "      dtype='|S4')"
       ]
      }
     ],
     "prompt_number": 179
    },
    {
     "cell_type": "code",
     "collapsed": false,
     "input": [
      "data = np.random.randn(7,4)\n",
      "#x\ucd95 7, y\ucd95 4\uc758 \uc18c\uc218\uc810 \ub79c\ub364 ndarray"
     ],
     "language": "python",
     "metadata": {},
     "outputs": [],
     "prompt_number": 180
    },
    {
     "cell_type": "code",
     "collapsed": false,
     "input": [
      "data"
     ],
     "language": "python",
     "metadata": {},
     "outputs": [
      {
       "metadata": {},
       "output_type": "pyout",
       "prompt_number": 181,
       "text": [
        "array([[ 0.89141352, -0.75869243,  1.82173859, -0.26454053],\n",
        "       [-0.42159335, -0.37007677, -0.97187099,  1.43397437],\n",
        "       [ 0.55885084, -0.38922323, -0.56054329,  0.71257381],\n",
        "       [ 0.18297036, -0.13491938,  0.35841341, -0.76676334],\n",
        "       [ 0.04951747,  0.15516454, -1.73378834,  0.23210451],\n",
        "       [-0.87362812,  1.03080388,  1.73788029, -0.35704384],\n",
        "       [ 0.22485796, -1.34972084,  0.96179268,  0.29155199]])"
       ]
      }
     ],
     "prompt_number": 181
    },
    {
     "cell_type": "code",
     "collapsed": false,
     "input": [
      "names =='Bob'\n",
      "#names \uc758 \ubaa8\ub4e0 \uc6d0\uc18c\uc5d0 \ub300\ud558\uc5ec '==' \uac80\uc0ac"
     ],
     "language": "python",
     "metadata": {},
     "outputs": [
      {
       "metadata": {},
       "output_type": "pyout",
       "prompt_number": 182,
       "text": [
        "array([ True, False, False,  True, False, False, False], dtype=bool)"
       ]
      }
     ],
     "prompt_number": 182
    },
    {
     "cell_type": "code",
     "collapsed": false,
     "input": [
      "data[names == 'Bob']\n",
      "#names == 'Bob' \uc758 \uacb0\uacfc\ub294 [T,F,F,T,F,F,F]\uc774\ubbc0\ub85c 0\ubc88\uc9f8,3\ubc88\uc9f8 \uc778\ub371\uc2a4\ub9cc \uc720\ud6a8(data[0],data[3])"
     ],
     "language": "python",
     "metadata": {},
     "outputs": [
      {
       "metadata": {},
       "output_type": "pyout",
       "prompt_number": 183,
       "text": [
        "array([[ 0.89141352, -0.75869243,  1.82173859, -0.26454053],\n",
        "       [ 0.18297036, -0.13491938,  0.35841341, -0.76676334]])"
       ]
      }
     ],
     "prompt_number": 183
    },
    {
     "cell_type": "code",
     "collapsed": false,
     "input": [
      "data[names == 'Bob',2:]"
     ],
     "language": "python",
     "metadata": {},
     "outputs": [
      {
       "metadata": {},
       "output_type": "pyout",
       "prompt_number": 184,
       "text": [
        "array([[ 1.82173859, -0.26454053],\n",
        "       [ 0.35841341, -0.76676334]])"
       ]
      }
     ],
     "prompt_number": 184
    },
    {
     "cell_type": "code",
     "collapsed": false,
     "input": [
      "data[names == 'Bob',3]"
     ],
     "language": "python",
     "metadata": {},
     "outputs": [
      {
       "metadata": {},
       "output_type": "pyout",
       "prompt_number": 185,
       "text": [
        "array([-0.26454053, -0.76676334])"
       ]
      }
     ],
     "prompt_number": 185
    },
    {
     "cell_type": "code",
     "collapsed": false,
     "input": [
      "#'Bob'\uc774 \uc544\ub2cc \uc694\uc18c\ub97c \uc120\ud0dd\ud558\uace0\uc790 \ud55c\ub2e4\uba74 '!='\uc5f0\uc0b0\uc790\ub97c \uc0ac\uc6a9\ud558\uac70\ub098 -\ub97c \uc0ac\uc6a9\ud574\uc11c \uc870\uac74\ubb38\uc744 \ubd80\uc815\n",
      "names != 'Bob'"
     ],
     "language": "python",
     "metadata": {},
     "outputs": [
      {
       "metadata": {},
       "output_type": "pyout",
       "prompt_number": 186,
       "text": [
        "array([False,  True,  True, False,  True,  True,  True], dtype=bool)"
       ]
      }
     ],
     "prompt_number": 186
    },
    {
     "cell_type": "code",
     "collapsed": false,
     "input": [
      "data[names != 'Bob']"
     ],
     "language": "python",
     "metadata": {},
     "outputs": [
      {
       "metadata": {},
       "output_type": "pyout",
       "prompt_number": 187,
       "text": [
        "array([[-0.42159335, -0.37007677, -0.97187099,  1.43397437],\n",
        "       [ 0.55885084, -0.38922323, -0.56054329,  0.71257381],\n",
        "       [ 0.04951747,  0.15516454, -1.73378834,  0.23210451],\n",
        "       [-0.87362812,  1.03080388,  1.73788029, -0.35704384],\n",
        "       [ 0.22485796, -1.34972084,  0.96179268,  0.29155199]])"
       ]
      }
     ],
     "prompt_number": 187
    },
    {
     "cell_type": "code",
     "collapsed": false,
     "input": [
      "data[-(names =='Bob')]\n",
      "#-\uc5f0\uc0b0\uc790\ub294 \ud574\ub2f9\ud29c\ud50c\uc744 \uc81c\uc678\ud558\ub294 \uc5f0\uc0b0"
     ],
     "language": "python",
     "metadata": {},
     "outputs": [
      {
       "metadata": {},
       "output_type": "pyout",
       "prompt_number": 188,
       "text": [
        "array([[-0.42159335, -0.37007677, -0.97187099,  1.43397437],\n",
        "       [ 0.55885084, -0.38922323, -0.56054329,  0.71257381],\n",
        "       [ 0.04951747,  0.15516454, -1.73378834,  0.23210451],\n",
        "       [-0.87362812,  1.03080388,  1.73788029, -0.35704384],\n",
        "       [ 0.22485796, -1.34972084,  0.96179268,  0.29155199]])"
       ]
      }
     ],
     "prompt_number": 188
    },
    {
     "cell_type": "code",
     "collapsed": false,
     "input": [
      "#\uc138\uac00\uc9c0 \uc774\ub984\uc911\uc5d0\uc11c \ub450 \uac00\uc9c0 \uc774\ub984\uc744 \uc120\ud0dd\ud558\ub824\uba74 &(and)\uc640 |(or) \uac19\uc740 \ub17c\ub9ac\uc5f0\uc0b0 \uc0ac\uc6a9\n",
      "mask=data[(names=='Bob') | (names== \"Will\")]"
     ],
     "language": "python",
     "metadata": {},
     "outputs": [],
     "prompt_number": 189
    },
    {
     "cell_type": "code",
     "collapsed": false,
     "input": [
      "mask=(names == 'Bob') | (names=='Will')"
     ],
     "language": "python",
     "metadata": {},
     "outputs": [],
     "prompt_number": 190
    },
    {
     "cell_type": "code",
     "collapsed": false,
     "input": [
      "mask"
     ],
     "language": "python",
     "metadata": {},
     "outputs": [
      {
       "metadata": {},
       "output_type": "pyout",
       "prompt_number": 191,
       "text": [
        "array([ True, False,  True,  True,  True, False, False], dtype=bool)"
       ]
      }
     ],
     "prompt_number": 191
    },
    {
     "cell_type": "code",
     "collapsed": false,
     "input": [
      "data[mask]"
     ],
     "language": "python",
     "metadata": {},
     "outputs": [
      {
       "metadata": {},
       "output_type": "pyout",
       "prompt_number": 192,
       "text": [
        "array([[ 0.89141352, -0.75869243,  1.82173859, -0.26454053],\n",
        "       [ 0.55885084, -0.38922323, -0.56054329,  0.71257381],\n",
        "       [ 0.18297036, -0.13491938,  0.35841341, -0.76676334],\n",
        "       [ 0.04951747,  0.15516454, -1.73378834,  0.23210451]])"
       ]
      }
     ],
     "prompt_number": 192
    },
    {
     "cell_type": "code",
     "collapsed": false,
     "input": [
      "data"
     ],
     "language": "python",
     "metadata": {},
     "outputs": [
      {
       "metadata": {},
       "output_type": "pyout",
       "prompt_number": 193,
       "text": [
        "array([[ 0.89141352, -0.75869243,  1.82173859, -0.26454053],\n",
        "       [-0.42159335, -0.37007677, -0.97187099,  1.43397437],\n",
        "       [ 0.55885084, -0.38922323, -0.56054329,  0.71257381],\n",
        "       [ 0.18297036, -0.13491938,  0.35841341, -0.76676334],\n",
        "       [ 0.04951747,  0.15516454, -1.73378834,  0.23210451],\n",
        "       [-0.87362812,  1.03080388,  1.73788029, -0.35704384],\n",
        "       [ 0.22485796, -1.34972084,  0.96179268,  0.29155199]])"
       ]
      }
     ],
     "prompt_number": 193
    },
    {
     "cell_type": "code",
     "collapsed": false,
     "input": [
      "data[data  < 0 ] = 0"
     ],
     "language": "python",
     "metadata": {},
     "outputs": [],
     "prompt_number": 194
    },
    {
     "cell_type": "code",
     "collapsed": false,
     "input": [
      "data"
     ],
     "language": "python",
     "metadata": {},
     "outputs": [
      {
       "metadata": {},
       "output_type": "pyout",
       "prompt_number": 195,
       "text": [
        "array([[ 0.89141352,  0.        ,  1.82173859,  0.        ],\n",
        "       [ 0.        ,  0.        ,  0.        ,  1.43397437],\n",
        "       [ 0.55885084,  0.        ,  0.        ,  0.71257381],\n",
        "       [ 0.18297036,  0.        ,  0.35841341,  0.        ],\n",
        "       [ 0.04951747,  0.15516454,  0.        ,  0.23210451],\n",
        "       [ 0.        ,  1.03080388,  1.73788029,  0.        ],\n",
        "       [ 0.22485796,  0.        ,  0.96179268,  0.29155199]])"
       ]
      }
     ],
     "prompt_number": 195
    },
    {
     "cell_type": "code",
     "collapsed": false,
     "input": [
      "data[names != 'Joe'] = 7"
     ],
     "language": "python",
     "metadata": {},
     "outputs": [],
     "prompt_number": 196
    },
    {
     "cell_type": "code",
     "collapsed": false,
     "input": [
      "data"
     ],
     "language": "python",
     "metadata": {},
     "outputs": [
      {
       "metadata": {},
       "output_type": "pyout",
       "prompt_number": 197,
       "text": [
        "array([[ 7.        ,  7.        ,  7.        ,  7.        ],\n",
        "       [ 0.        ,  0.        ,  0.        ,  1.43397437],\n",
        "       [ 7.        ,  7.        ,  7.        ,  7.        ],\n",
        "       [ 7.        ,  7.        ,  7.        ,  7.        ],\n",
        "       [ 7.        ,  7.        ,  7.        ,  7.        ],\n",
        "       [ 7.        ,  7.        ,  7.        ,  7.        ],\n",
        "       [ 0.22485796,  0.        ,  0.96179268,  0.29155199]])"
       ]
      }
     ],
     "prompt_number": 197
    },
    {
     "cell_type": "markdown",
     "metadata": {},
     "source": [
      " "
     ]
    },
    {
     "cell_type": "markdown",
     "metadata": {},
     "source": [
      "--------------------------------------------------------"
     ]
    },
    {
     "cell_type": "code",
     "collapsed": false,
     "input": [
      "[x for x in data if x>=7]\n",
      "#data \uc694\uc18c\ub4e4\uc911\uc5d0 7\uc744 2\ub85c \ubcc0\uacbd\ud558\ub824\uace0\ud568\n",
      "#for\ubb38\uc73c\ub85c\ub294 \uc5b4\ub5bb\uac8c \ub9cc\ub4e4\uc5b4\uc57c \ud558\ub294\uac00?"
     ],
     "language": "python",
     "metadata": {},
     "outputs": [
      {
       "ename": "ValueError",
       "evalue": "The truth value of an array with more than one element is ambiguous. Use a.any() or a.all()",
       "output_type": "pyerr",
       "traceback": [
        "\u001b[1;31m---------------------------------------------------------------------------\u001b[0m",
        "\u001b[1;31mValueError\u001b[0m                                Traceback (most recent call last)",
        "\u001b[1;32m<ipython-input-198-2a6eb99b5359>\u001b[0m in \u001b[0;36m<module>\u001b[1;34m()\u001b[0m\n\u001b[1;32m----> 1\u001b[1;33m \u001b[1;33m[\u001b[0m\u001b[0mx\u001b[0m \u001b[1;32mfor\u001b[0m \u001b[0mx\u001b[0m \u001b[1;32min\u001b[0m \u001b[0mdata\u001b[0m \u001b[1;32mif\u001b[0m \u001b[0mx\u001b[0m\u001b[1;33m>=\u001b[0m\u001b[1;36m7\u001b[0m\u001b[1;33m]\u001b[0m\u001b[1;33m\u001b[0m\u001b[0m\n\u001b[0m\u001b[0;32m      2\u001b[0m \u001b[1;31m#data \uc694\uc18c\ub4e4\uc911\uc5d0 7\uc744 2\ub85c \ubcc0\uacbd\ud558\ub824\uace0\ud568\u001b[0m\u001b[1;33m\u001b[0m\u001b[1;33m\u001b[0m\u001b[0m\n\u001b[0;32m      3\u001b[0m \u001b[1;31m#for\ubb38\uc73c\ub85c\ub294 \uc5b4\ub5bb\uac8c \ub9cc\ub4e4\uc5b4\uc57c \ud558\ub294\uac00?\u001b[0m\u001b[1;33m\u001b[0m\u001b[1;33m\u001b[0m\u001b[0m\n",
        "\u001b[1;31mValueError\u001b[0m: The truth value of an array with more than one element is ambiguous. Use a.any() or a.all()"
       ]
      }
     ],
     "prompt_number": 198
    },
    {
     "cell_type": "heading",
     "level": 3,
     "metadata": {},
     "source": [
      "*\ubc30\uc5f4 \uc778\ub371\uc2a4 \uc811\uadfc"
     ]
    },
    {
     "cell_type": "code",
     "collapsed": true,
     "input": [
      "arr= [1,2,3]"
     ],
     "language": "python",
     "metadata": {},
     "outputs": [],
     "prompt_number": 199
    },
    {
     "cell_type": "code",
     "collapsed": false,
     "input": [
      "arr"
     ],
     "language": "python",
     "metadata": {},
     "outputs": [
      {
       "metadata": {},
       "output_type": "pyout",
       "prompt_number": 200,
       "text": [
        "[1, 2, 3]"
       ]
      }
     ],
     "prompt_number": 200
    },
    {
     "cell_type": "code",
     "collapsed": false,
     "input": [
      "for x in range(len(arr)):\n",
      "    if arr[x]>2:\n",
      "        arr[x]=4\n",
      "#arr\uc758 \uc694\uc18c\uc911 2\ubcf4\ub2e4 \ud070 \uc694\uc18c\ub294 4\ub85c"
     ],
     "language": "python",
     "metadata": {},
     "outputs": [],
     "prompt_number": 201
    },
    {
     "cell_type": "code",
     "collapsed": false,
     "input": [
      "arr"
     ],
     "language": "python",
     "metadata": {},
     "outputs": [
      {
       "metadata": {},
       "output_type": "pyout",
       "prompt_number": 202,
       "text": [
        "[1, 2, 4]"
       ]
      }
     ],
     "prompt_number": 202
    },
    {
     "cell_type": "code",
     "collapsed": false,
     "input": [
      "#\ub9ac\uc2a4\ud2b8\ub0b4\ud3ec \ud615\ud0dc\ub85c\ub294?\n",
      "x=[x if x<4 else 3 for x in arr]"
     ],
     "language": "python",
     "metadata": {},
     "outputs": [],
     "prompt_number": 203
    },
    {
     "cell_type": "code",
     "collapsed": false,
     "input": [
      "x"
     ],
     "language": "python",
     "metadata": {},
     "outputs": [
      {
       "metadata": {},
       "output_type": "pyout",
       "prompt_number": 204,
       "text": [
        "[1, 2, 3]"
       ]
      }
     ],
     "prompt_number": 204
    },
    {
     "cell_type": "heading",
     "level": 3,
     "metadata": {},
     "source": [
      "*\uadf8\ub807\ub2e4\uba74 2\ucc28\ubc30\uc5f4(data)\uc758 \uc694\uc18c\ub294?"
     ]
    },
    {
     "cell_type": "code",
     "collapsed": false,
     "input": [
      "data"
     ],
     "language": "python",
     "metadata": {
      "scrolled": true
     },
     "outputs": [
      {
       "metadata": {},
       "output_type": "pyout",
       "prompt_number": 205,
       "text": [
        "array([[ 7.        ,  7.        ,  7.        ,  7.        ],\n",
        "       [ 0.        ,  0.        ,  0.        ,  1.43397437],\n",
        "       [ 7.        ,  7.        ,  7.        ,  7.        ],\n",
        "       [ 7.        ,  7.        ,  7.        ,  7.        ],\n",
        "       [ 7.        ,  7.        ,  7.        ,  7.        ],\n",
        "       [ 7.        ,  7.        ,  7.        ,  7.        ],\n",
        "       [ 0.22485796,  0.        ,  0.96179268,  0.29155199]])"
       ]
      }
     ],
     "prompt_number": 205
    },
    {
     "cell_type": "code",
     "collapsed": false,
     "input": [
      "#\uc694\uc18c\ub4e4\uc911\uc5d0 7\uc778\uac12\ub4e4\uc744 \uc804\ubd80 1\ub85c \ubc14\uafd4\ubcf4\uc790\n",
      "for x in range(len(data)):\n",
      "    for y in range(len(data[x])):\n",
      "        if data[x][y] == 7:\n",
      "            data[x][y]=1"
     ],
     "language": "python",
     "metadata": {},
     "outputs": [],
     "prompt_number": 206
    },
    {
     "cell_type": "code",
     "collapsed": false,
     "input": [
      "data"
     ],
     "language": "python",
     "metadata": {},
     "outputs": [
      {
       "metadata": {},
       "output_type": "pyout",
       "prompt_number": 207,
       "text": [
        "array([[ 1.        ,  1.        ,  1.        ,  1.        ],\n",
        "       [ 0.        ,  0.        ,  0.        ,  1.43397437],\n",
        "       [ 1.        ,  1.        ,  1.        ,  1.        ],\n",
        "       [ 1.        ,  1.        ,  1.        ,  1.        ],\n",
        "       [ 1.        ,  1.        ,  1.        ,  1.        ],\n",
        "       [ 1.        ,  1.        ,  1.        ,  1.        ],\n",
        "       [ 0.22485796,  0.        ,  0.96179268,  0.29155199]])"
       ]
      }
     ],
     "prompt_number": 207
    },
    {
     "cell_type": "markdown",
     "metadata": {},
     "source": [
      "--------------------------------------------------------"
     ]
    },
    {
     "cell_type": "heading",
     "level": 3,
     "metadata": {},
     "source": [
      "4.1.6 \ud32c\uc2dc \uc0c9\uc778"
     ]
    },
    {
     "cell_type": "code",
     "collapsed": false,
     "input": [
      "arr = np.empty((8,4))"
     ],
     "language": "python",
     "metadata": {},
     "outputs": [],
     "prompt_number": 208
    },
    {
     "cell_type": "code",
     "collapsed": false,
     "input": [
      "for i in range(8):\n",
      "    arr[i] = i"
     ],
     "language": "python",
     "metadata": {},
     "outputs": [],
     "prompt_number": 209
    },
    {
     "cell_type": "code",
     "collapsed": false,
     "input": [
      "arr"
     ],
     "language": "python",
     "metadata": {},
     "outputs": [
      {
       "metadata": {},
       "output_type": "pyout",
       "prompt_number": 210,
       "text": [
        "array([[ 0.,  0.,  0.,  0.],\n",
        "       [ 1.,  1.,  1.,  1.],\n",
        "       [ 2.,  2.,  2.,  2.],\n",
        "       [ 3.,  3.,  3.,  3.],\n",
        "       [ 4.,  4.,  4.,  4.],\n",
        "       [ 5.,  5.,  5.,  5.],\n",
        "       [ 6.,  6.,  6.,  6.],\n",
        "       [ 7.,  7.,  7.,  7.]])"
       ]
      }
     ],
     "prompt_number": 210
    },
    {
     "cell_type": "code",
     "collapsed": false,
     "input": [
      "#\ud2b9\uc815 \uc21c\uc11c\ub85c \uc904(row)\uc744 \uc120\ud0dd\ud558\uace0 \uc2f6\ub2e4\uba74 \uc6d0\ud558\ub294 \uc21c\uc11c\uac00 \uba85\uc2dc\ub41c \uc815\uc218\uac00 \ub2f4\uae34 ndarray\ub098 \ub9ac\uc2a4\ud2b8\ub97c \ub118\uae30\uc790\n",
      "arr[[4,2,0,5]]"
     ],
     "language": "python",
     "metadata": {
      "scrolled": true
     },
     "outputs": [
      {
       "metadata": {},
       "output_type": "pyout",
       "prompt_number": 211,
       "text": [
        "array([[ 4.,  4.,  4.,  4.],\n",
        "       [ 2.,  2.,  2.,  2.],\n",
        "       [ 0.,  0.,  0.,  0.],\n",
        "       [ 5.,  5.,  5.,  5.]])"
       ]
      }
     ],
     "prompt_number": 211
    },
    {
     "cell_type": "code",
     "collapsed": false,
     "input": [
      "arr[[-3,5,7]]\n",
      "#\uc0c9\uc778\uc744 \uc74c\uc218\ub97c \uc0ac\uc6a9\ud558\uba74 \uc5ed\uc21c"
     ],
     "language": "python",
     "metadata": {},
     "outputs": [
      {
       "metadata": {},
       "output_type": "pyout",
       "prompt_number": 212,
       "text": [
        "array([[ 5.,  5.,  5.,  5.],\n",
        "       [ 5.,  5.,  5.,  5.],\n",
        "       [ 7.,  7.,  7.,  7.]])"
       ]
      }
     ],
     "prompt_number": 212
    },
    {
     "cell_type": "code",
     "collapsed": true,
     "input": [
      "arr= np.arange(32)\n",
      "#1\ucc28\uc6d0 \ubc30\uc5f4\ub85c 0~31 \ub098\uc5f4"
     ],
     "language": "python",
     "metadata": {},
     "outputs": [],
     "prompt_number": 213
    },
    {
     "cell_type": "code",
     "collapsed": false,
     "input": [
      "arr"
     ],
     "language": "python",
     "metadata": {},
     "outputs": [
      {
       "metadata": {},
       "output_type": "pyout",
       "prompt_number": 214,
       "text": [
        "array([ 0,  1,  2,  3,  4,  5,  6,  7,  8,  9, 10, 11, 12, 13, 14, 15, 16,\n",
        "       17, 18, 19, 20, 21, 22, 23, 24, 25, 26, 27, 28, 29, 30, 31])"
       ]
      }
     ],
     "prompt_number": 214
    },
    {
     "cell_type": "code",
     "collapsed": true,
     "input": [
      "arr = np.arange(32).reshape((8,4))\n",
      "#2\ucc28\uc6d0 \ubc30\uc5f4\ub85c 8\ud589 4\uc5f4\ub85c \ud574\uc11c 0~31 \ub098\uc5f4"
     ],
     "language": "python",
     "metadata": {},
     "outputs": [],
     "prompt_number": 215
    },
    {
     "cell_type": "code",
     "collapsed": false,
     "input": [
      "arr"
     ],
     "language": "python",
     "metadata": {
      "scrolled": true
     },
     "outputs": [
      {
       "metadata": {},
       "output_type": "pyout",
       "prompt_number": 216,
       "text": [
        "array([[ 0,  1,  2,  3],\n",
        "       [ 4,  5,  6,  7],\n",
        "       [ 8,  9, 10, 11],\n",
        "       [12, 13, 14, 15],\n",
        "       [16, 17, 18, 19],\n",
        "       [20, 21, 22, 23],\n",
        "       [24, 25, 26, 27],\n",
        "       [28, 29, 30, 31]])"
       ]
      }
     ],
     "prompt_number": 216
    },
    {
     "cell_type": "code",
     "collapsed": false,
     "input": [
      "arr[[1,5,7,2]]"
     ],
     "language": "python",
     "metadata": {},
     "outputs": [
      {
       "metadata": {},
       "output_type": "pyout",
       "prompt_number": 217,
       "text": [
        "array([[ 4,  5,  6,  7],\n",
        "       [20, 21, 22, 23],\n",
        "       [28, 29, 30, 31],\n",
        "       [ 8,  9, 10, 11]])"
       ]
      }
     ],
     "prompt_number": 217
    },
    {
     "cell_type": "code",
     "collapsed": false,
     "input": [
      "print arr[[1],[0,1,2]];\n",
      "print arr[1][0]"
     ],
     "language": "python",
     "metadata": {},
     "outputs": [
      {
       "output_type": "stream",
       "stream": "stdout",
       "text": [
        "[4 5 6]\n",
        "4\n"
       ]
      }
     ],
     "prompt_number": 218
    },
    {
     "cell_type": "code",
     "collapsed": false,
     "input": [
      "arr[[1,5,7,2],[0,3,1,2]]\n",
      "# (1,0),(5,3),(7,1),(2,2)\uc5d0 \ud574\ub2f9\ud558\ub294 \uc694\uc18c \ucd94\ucd9c"
     ],
     "language": "python",
     "metadata": {},
     "outputs": [
      {
       "metadata": {},
       "output_type": "pyout",
       "prompt_number": 219,
       "text": [
        "array([ 4, 23, 29, 10])"
       ]
      }
     ],
     "prompt_number": 219
    },
    {
     "cell_type": "code",
     "collapsed": false,
     "input": [
      "arr[[1,5,7,2]][:,[0,3,1,2]]\n",
      "#1,5,7,2\ud589\uc758 index 0,3,1,2 \uc21c\uc73c\ub85c \ucd94\ucd9c"
     ],
     "language": "python",
     "metadata": {},
     "outputs": [
      {
       "metadata": {},
       "output_type": "pyout",
       "prompt_number": 220,
       "text": [
        "array([[ 4,  7,  5,  6],\n",
        "       [20, 23, 21, 22],\n",
        "       [28, 31, 29, 30],\n",
        "       [ 8, 11,  9, 10]])"
       ]
      }
     ],
     "prompt_number": 220
    },
    {
     "cell_type": "code",
     "collapsed": false,
     "input": [
      "arr[np.ix_([1,5,7,2],[0,3,1,2])]"
     ],
     "language": "python",
     "metadata": {},
     "outputs": [
      {
       "metadata": {},
       "output_type": "pyout",
       "prompt_number": 221,
       "text": [
        "array([[ 4,  7,  5,  6],\n",
        "       [20, 23, 21, 22],\n",
        "       [28, 31, 29, 30],\n",
        "       [ 8, 11,  9, 10]])"
       ]
      }
     ],
     "prompt_number": 221
    },
    {
     "cell_type": "code",
     "collapsed": false,
     "input": [
      "arr"
     ],
     "language": "python",
     "metadata": {},
     "outputs": [
      {
       "metadata": {},
       "output_type": "pyout",
       "prompt_number": 222,
       "text": [
        "array([[ 0,  1,  2,  3],\n",
        "       [ 4,  5,  6,  7],\n",
        "       [ 8,  9, 10, 11],\n",
        "       [12, 13, 14, 15],\n",
        "       [16, 17, 18, 19],\n",
        "       [20, 21, 22, 23],\n",
        "       [24, 25, 26, 27],\n",
        "       [28, 29, 30, 31]])"
       ]
      }
     ],
     "prompt_number": 222
    },
    {
     "cell_type": "code",
     "collapsed": false,
     "input": [
      "arr[np.ix_(range(len(arr)),[0,2,3,1])]"
     ],
     "language": "python",
     "metadata": {},
     "outputs": [
      {
       "metadata": {},
       "output_type": "pyout",
       "prompt_number": 223,
       "text": [
        "array([[ 0,  2,  3,  1],\n",
        "       [ 4,  6,  7,  5],\n",
        "       [ 8, 10, 11,  9],\n",
        "       [12, 14, 15, 13],\n",
        "       [16, 18, 19, 17],\n",
        "       [20, 22, 23, 21],\n",
        "       [24, 26, 27, 25],\n",
        "       [28, 30, 31, 29]])"
       ]
      }
     ],
     "prompt_number": 223
    },
    {
     "cell_type": "heading",
     "level": 3,
     "metadata": {},
     "source": [
      "4.1.7 \ubc30\uc5f4 \uc804\uce58\uc640 \ucd95 \ubc14\uafb8\uae30"
     ]
    },
    {
     "cell_type": "code",
     "collapsed": true,
     "input": [
      "arr=np.arange(15).reshape(3,5)\n",
      "#arr\uc744 0~14\uae4c\uc9c0\uc758 \uc218\ub85c 3\ud589 5\uc5f4\ub85c \uc0dd\uc131"
     ],
     "language": "python",
     "metadata": {},
     "outputs": [],
     "prompt_number": 224
    },
    {
     "cell_type": "code",
     "collapsed": false,
     "input": [
      "arr,arr.shape\n",
      "#3*5\uc758 \ud615\ud0dc"
     ],
     "language": "python",
     "metadata": {},
     "outputs": [
      {
       "metadata": {},
       "output_type": "pyout",
       "prompt_number": 225,
       "text": [
        "(array([[ 0,  1,  2,  3,  4],\n",
        "        [ 5,  6,  7,  8,  9],\n",
        "        [10, 11, 12, 13, 14]]), (3L, 5L))"
       ]
      }
     ],
     "prompt_number": 225
    },
    {
     "cell_type": "code",
     "collapsed": false,
     "input": [
      "arr.T,arr.shape\n",
      "#arr\uc758 shape\uc774 \ubc14\ub00c\uc9c0\ub294 \uc54a\uc74c"
     ],
     "language": "python",
     "metadata": {},
     "outputs": [
      {
       "metadata": {},
       "output_type": "pyout",
       "prompt_number": 226,
       "text": [
        "(array([[ 0,  5, 10],\n",
        "        [ 1,  6, 11],\n",
        "        [ 2,  7, 12],\n",
        "        [ 3,  8, 13],\n",
        "        [ 4,  9, 14]]), (3L, 5L))"
       ]
      }
     ],
     "prompt_number": 226
    },
    {
     "cell_type": "code",
     "collapsed": false,
     "input": [
      "np.dot(arr.T,arr)\n",
      "#\ud589\ub82c\uc758 \ub0b4\uc801\uc740 np.dot\uc744 \uc774\uc6a9\ud558\uc5ec \uad6c\ud560 \uc218 \uc788\uc74c"
     ],
     "language": "python",
     "metadata": {},
     "outputs": [
      {
       "metadata": {},
       "output_type": "pyout",
       "prompt_number": 227,
       "text": [
        "array([[125, 140, 155, 170, 185],\n",
        "       [140, 158, 176, 194, 212],\n",
        "       [155, 176, 197, 218, 239],\n",
        "       [170, 194, 218, 242, 266],\n",
        "       [185, 212, 239, 266, 293]])"
       ]
      }
     ],
     "prompt_number": 227
    },
    {
     "cell_type": "code",
     "collapsed": false,
     "input": [
      "arr= np.arange(16).reshape(2,2,4)"
     ],
     "language": "python",
     "metadata": {},
     "outputs": [],
     "prompt_number": 228
    },
    {
     "cell_type": "code",
     "collapsed": false,
     "input": [
      "arr"
     ],
     "language": "python",
     "metadata": {},
     "outputs": [
      {
       "metadata": {},
       "output_type": "pyout",
       "prompt_number": 229,
       "text": [
        "array([[[ 0,  1,  2,  3],\n",
        "        [ 4,  5,  6,  7]],\n",
        "\n",
        "       [[ 8,  9, 10, 11],\n",
        "        [12, 13, 14, 15]]])"
       ]
      }
     ],
     "prompt_number": 229
    },
    {
     "cell_type": "code",
     "collapsed": false,
     "input": [
      "arr.transpose((1,0,2))"
     ],
     "language": "python",
     "metadata": {},
     "outputs": [
      {
       "metadata": {},
       "output_type": "pyout",
       "prompt_number": 230,
       "text": [
        "array([[[ 0,  1,  2,  3],\n",
        "        [ 8,  9, 10, 11]],\n",
        "\n",
        "       [[ 4,  5,  6,  7],\n",
        "        [12, 13, 14, 15]]])"
       ]
      }
     ],
     "prompt_number": 230
    },
    {
     "cell_type": "code",
     "collapsed": false,
     "input": [
      "arr.transpose((1,0,2))"
     ],
     "language": "python",
     "metadata": {},
     "outputs": [
      {
       "metadata": {},
       "output_type": "pyout",
       "prompt_number": 231,
       "text": [
        "array([[[ 0,  1,  2,  3],\n",
        "        [ 8,  9, 10, 11]],\n",
        "\n",
        "       [[ 4,  5,  6,  7],\n",
        "        [12, 13, 14, 15]]])"
       ]
      }
     ],
     "prompt_number": 231
    },
    {
     "cell_type": "code",
     "collapsed": false,
     "input": [
      "arr = np.array([1,2,3,4,5,6])"
     ],
     "language": "python",
     "metadata": {},
     "outputs": [],
     "prompt_number": 232
    },
    {
     "cell_type": "code",
     "collapsed": false,
     "input": [
      "arr.reshape(2,3)"
     ],
     "language": "python",
     "metadata": {},
     "outputs": [
      {
       "metadata": {},
       "output_type": "pyout",
       "prompt_number": 233,
       "text": [
        "array([[1, 2, 3],\n",
        "       [4, 5, 6]])"
       ]
      }
     ],
     "prompt_number": 233
    },
    {
     "cell_type": "code",
     "collapsed": false,
     "input": [
      "arr.transpose(0,1)"
     ],
     "language": "python",
     "metadata": {},
     "outputs": [
      {
       "ename": "ValueError",
       "evalue": "axes don't match array",
       "output_type": "pyerr",
       "traceback": [
        "\u001b[1;31m---------------------------------------------------------------------------\u001b[0m",
        "\u001b[1;31mValueError\u001b[0m                                Traceback (most recent call last)",
        "\u001b[1;32m<ipython-input-234-084506e8acbc>\u001b[0m in \u001b[0;36m<module>\u001b[1;34m()\u001b[0m\n\u001b[1;32m----> 1\u001b[1;33m \u001b[0marr\u001b[0m\u001b[1;33m.\u001b[0m\u001b[0mtranspose\u001b[0m\u001b[1;33m(\u001b[0m\u001b[1;36m0\u001b[0m\u001b[1;33m,\u001b[0m\u001b[1;36m1\u001b[0m\u001b[1;33m)\u001b[0m\u001b[1;33m\u001b[0m\u001b[0m\n\u001b[0m",
        "\u001b[1;31mValueError\u001b[0m: axes don't match array"
       ]
      }
     ],
     "prompt_number": 234
    },
    {
     "cell_type": "code",
     "collapsed": false,
     "input": [
      "arr.swapaxes(1,2)"
     ],
     "language": "python",
     "metadata": {},
     "outputs": [
      {
       "metadata": {},
       "output_type": "pyout",
       "prompt_number": 235,
       "text": [
        "array([1, 2, 3, 4, 5, 6])"
       ]
      }
     ],
     "prompt_number": 235
    },
    {
     "cell_type": "heading",
     "level": 2,
     "metadata": {},
     "source": [
      "4.2 \uc720\ub2c8\ubc84\uc124 \ud568\uc218"
     ]
    },
    {
     "cell_type": "code",
     "collapsed": true,
     "input": [
      "arr = np.arange(10)"
     ],
     "language": "python",
     "metadata": {},
     "outputs": [],
     "prompt_number": 236
    },
    {
     "cell_type": "code",
     "collapsed": false,
     "input": [
      "arr"
     ],
     "language": "python",
     "metadata": {},
     "outputs": [
      {
       "metadata": {},
       "output_type": "pyout",
       "prompt_number": 237,
       "text": [
        "array([0, 1, 2, 3, 4, 5, 6, 7, 8, 9])"
       ]
      }
     ],
     "prompt_number": 237
    },
    {
     "cell_type": "code",
     "collapsed": false,
     "input": [
      "np.sqrt(arr)"
     ],
     "language": "python",
     "metadata": {},
     "outputs": [
      {
       "metadata": {},
       "output_type": "pyout",
       "prompt_number": 238,
       "text": [
        "array([ 0.        ,  1.        ,  1.41421356,  1.73205081,  2.        ,\n",
        "        2.23606798,  2.44948974,  2.64575131,  2.82842712,  3.        ])"
       ]
      }
     ],
     "prompt_number": 238
    },
    {
     "cell_type": "code",
     "collapsed": false,
     "input": [
      "np.exp(arr)\n",
      "#e(=2.718281...)\uc758 arr\uc2b9\n",
      "#\uc774\ucc98\ub7fc 1\uac1c\uc758 \uc778\uc790\ub97c \ucde8\ud558\ub294 \uacbd\uc6b0 \ub2e8\ud56d \uc720\ub2c8\ubc84\uc124 \ud568\uc218\ub77c\ud568"
     ],
     "language": "python",
     "metadata": {
      "scrolled": true
     },
     "outputs": [
      {
       "metadata": {},
       "output_type": "pyout",
       "prompt_number": 239,
       "text": [
        "array([  1.00000000e+00,   2.71828183e+00,   7.38905610e+00,\n",
        "         2.00855369e+01,   5.45981500e+01,   1.48413159e+02,\n",
        "         4.03428793e+02,   1.09663316e+03,   2.98095799e+03,\n",
        "         8.10308393e+03])"
       ]
      }
     ],
     "prompt_number": 239
    },
    {
     "cell_type": "code",
     "collapsed": false,
     "input": [
      "#add \ub098 maximum \ucc98\ub7fc 2\uac1c\uc758 \uc778\uc790\ub97c \ucde8\ud574\uc11c \ub2e8\uc77c \ubc30\uc5f4\uc744 \ubc18\ud658\ud558\ub294 \ud568\uc218\ub97c \uc774\ud56d \uc720\ub2c8\ubc84\uc124 \ud568\uc218\ub77c\uace0\ud568\n",
      "x = np.random.randn(8)"
     ],
     "language": "python",
     "metadata": {},
     "outputs": [],
     "prompt_number": 240
    },
    {
     "cell_type": "code",
     "collapsed": false,
     "input": [
      "y = np.random.randn(8)"
     ],
     "language": "python",
     "metadata": {},
     "outputs": [],
     "prompt_number": 241
    },
    {
     "cell_type": "code",
     "collapsed": false,
     "input": [
      "x"
     ],
     "language": "python",
     "metadata": {},
     "outputs": [
      {
       "metadata": {},
       "output_type": "pyout",
       "prompt_number": 242,
       "text": [
        "array([ 0.77695713,  1.50677821,  1.62325825, -0.03262051, -0.21761054,\n",
        "       -1.83395321,  2.09757481, -1.31875167])"
       ]
      }
     ],
     "prompt_number": 242
    },
    {
     "cell_type": "code",
     "collapsed": false,
     "input": [
      "y"
     ],
     "language": "python",
     "metadata": {},
     "outputs": [
      {
       "metadata": {},
       "output_type": "pyout",
       "prompt_number": 243,
       "text": [
        "array([ 1.66745179,  2.01376004,  0.9213943 ,  1.37872631, -0.26871903,\n",
        "        1.92357187, -0.05702772, -1.40050641])"
       ]
      }
     ],
     "prompt_number": 243
    },
    {
     "cell_type": "code",
     "collapsed": false,
     "input": [
      "np.maximum(x,y)\n",
      "#\uac01 col\ub9c8\ub2e4 maximum\uc758 \uac12\uc744 \ubc18\ud658"
     ],
     "language": "python",
     "metadata": {},
     "outputs": [
      {
       "metadata": {},
       "output_type": "pyout",
       "prompt_number": 244,
       "text": [
        "array([ 1.66745179,  2.01376004,  1.62325825,  1.37872631, -0.21761054,\n",
        "        1.92357187,  2.09757481, -1.31875167])"
       ]
      }
     ],
     "prompt_number": 244
    },
    {
     "cell_type": "code",
     "collapsed": false,
     "input": [
      "arr = np.random.randn(7)*5"
     ],
     "language": "python",
     "metadata": {},
     "outputs": [],
     "prompt_number": 245
    },
    {
     "cell_type": "code",
     "collapsed": false,
     "input": [
      "arr"
     ],
     "language": "python",
     "metadata": {},
     "outputs": [
      {
       "metadata": {},
       "output_type": "pyout",
       "prompt_number": 246,
       "text": [
        "array([-1.76891908,  8.59777012, -7.61209924,  1.29441583,  0.64221579,\n",
        "        2.62679232,  1.95700479])"
       ]
      }
     ],
     "prompt_number": 246
    },
    {
     "cell_type": "code",
     "collapsed": false,
     "input": [
      "np.modf(arr)\n",
      "#\ub098\uba38\uc9c0\uc640 \ubaab\uc744 \uac01\uac01 \ubc30\uc5f4\ub85c \ubc18\ud658"
     ],
     "language": "python",
     "metadata": {},
     "outputs": [
      {
       "metadata": {},
       "output_type": "pyout",
       "prompt_number": 247,
       "text": [
        "(array([-0.76891908,  0.59777012, -0.61209924,  0.29441583,  0.64221579,\n",
        "         0.62679232,  0.95700479]), array([-1.,  8., -7.,  1.,  0.,  2.,  1.]))"
       ]
      }
     ],
     "prompt_number": 247
    },
    {
     "cell_type": "code",
     "collapsed": false,
     "input": [
      "np.floor(np.sin(np.pi/6)),np.ceil(np.cos(np.pi/3))\n",
      "#sin(pi/6) = cos(pi/3) = 0.5"
     ],
     "language": "python",
     "metadata": {
      "scrolled": true
     },
     "outputs": [
      {
       "metadata": {},
       "output_type": "pyout",
       "prompt_number": 248,
       "text": [
        "(0.0, 1.0)"
       ]
      }
     ],
     "prompt_number": 248
    },
    {
     "cell_type": "heading",
     "level": 2,
     "metadata": {},
     "source": [
      "4.3 \ubc30\uc5f4\uc744 \uc0ac\uc6a9\ud55c \ub370\uc774\ud130 \ucc98\ub9ac"
     ]
    },
    {
     "cell_type": "code",
     "collapsed": true,
     "input": [
      "points = np.arange(-5,5,0.01)\n",
      "#-5\uc5d0\uc11c 4.99\uae4c\uc9c0 0.01 \uac04\uaca9\uc73c\ub85c"
     ],
     "language": "python",
     "metadata": {},
     "outputs": [],
     "prompt_number": 249
    },
    {
     "cell_type": "code",
     "collapsed": false,
     "input": [
      "points"
     ],
     "language": "python",
     "metadata": {},
     "outputs": [
      {
       "metadata": {},
       "output_type": "pyout",
       "prompt_number": 250,
       "text": [
        "array([ -5.00000000e+00,  -4.99000000e+00,  -4.98000000e+00,\n",
        "        -4.97000000e+00,  -4.96000000e+00,  -4.95000000e+00,\n",
        "        -4.94000000e+00,  -4.93000000e+00,  -4.92000000e+00,\n",
        "        -4.91000000e+00,  -4.90000000e+00,  -4.89000000e+00,\n",
        "        -4.88000000e+00,  -4.87000000e+00,  -4.86000000e+00,\n",
        "        -4.85000000e+00,  -4.84000000e+00,  -4.83000000e+00,\n",
        "        -4.82000000e+00,  -4.81000000e+00,  -4.80000000e+00,\n",
        "        -4.79000000e+00,  -4.78000000e+00,  -4.77000000e+00,\n",
        "        -4.76000000e+00,  -4.75000000e+00,  -4.74000000e+00,\n",
        "        -4.73000000e+00,  -4.72000000e+00,  -4.71000000e+00,\n",
        "        -4.70000000e+00,  -4.69000000e+00,  -4.68000000e+00,\n",
        "        -4.67000000e+00,  -4.66000000e+00,  -4.65000000e+00,\n",
        "        -4.64000000e+00,  -4.63000000e+00,  -4.62000000e+00,\n",
        "        -4.61000000e+00,  -4.60000000e+00,  -4.59000000e+00,\n",
        "        -4.58000000e+00,  -4.57000000e+00,  -4.56000000e+00,\n",
        "        -4.55000000e+00,  -4.54000000e+00,  -4.53000000e+00,\n",
        "        -4.52000000e+00,  -4.51000000e+00,  -4.50000000e+00,\n",
        "        -4.49000000e+00,  -4.48000000e+00,  -4.47000000e+00,\n",
        "        -4.46000000e+00,  -4.45000000e+00,  -4.44000000e+00,\n",
        "        -4.43000000e+00,  -4.42000000e+00,  -4.41000000e+00,\n",
        "        -4.40000000e+00,  -4.39000000e+00,  -4.38000000e+00,\n",
        "        -4.37000000e+00,  -4.36000000e+00,  -4.35000000e+00,\n",
        "        -4.34000000e+00,  -4.33000000e+00,  -4.32000000e+00,\n",
        "        -4.31000000e+00,  -4.30000000e+00,  -4.29000000e+00,\n",
        "        -4.28000000e+00,  -4.27000000e+00,  -4.26000000e+00,\n",
        "        -4.25000000e+00,  -4.24000000e+00,  -4.23000000e+00,\n",
        "        -4.22000000e+00,  -4.21000000e+00,  -4.20000000e+00,\n",
        "        -4.19000000e+00,  -4.18000000e+00,  -4.17000000e+00,\n",
        "        -4.16000000e+00,  -4.15000000e+00,  -4.14000000e+00,\n",
        "        -4.13000000e+00,  -4.12000000e+00,  -4.11000000e+00,\n",
        "        -4.10000000e+00,  -4.09000000e+00,  -4.08000000e+00,\n",
        "        -4.07000000e+00,  -4.06000000e+00,  -4.05000000e+00,\n",
        "        -4.04000000e+00,  -4.03000000e+00,  -4.02000000e+00,\n",
        "        -4.01000000e+00,  -4.00000000e+00,  -3.99000000e+00,\n",
        "        -3.98000000e+00,  -3.97000000e+00,  -3.96000000e+00,\n",
        "        -3.95000000e+00,  -3.94000000e+00,  -3.93000000e+00,\n",
        "        -3.92000000e+00,  -3.91000000e+00,  -3.90000000e+00,\n",
        "        -3.89000000e+00,  -3.88000000e+00,  -3.87000000e+00,\n",
        "        -3.86000000e+00,  -3.85000000e+00,  -3.84000000e+00,\n",
        "        -3.83000000e+00,  -3.82000000e+00,  -3.81000000e+00,\n",
        "        -3.80000000e+00,  -3.79000000e+00,  -3.78000000e+00,\n",
        "        -3.77000000e+00,  -3.76000000e+00,  -3.75000000e+00,\n",
        "        -3.74000000e+00,  -3.73000000e+00,  -3.72000000e+00,\n",
        "        -3.71000000e+00,  -3.70000000e+00,  -3.69000000e+00,\n",
        "        -3.68000000e+00,  -3.67000000e+00,  -3.66000000e+00,\n",
        "        -3.65000000e+00,  -3.64000000e+00,  -3.63000000e+00,\n",
        "        -3.62000000e+00,  -3.61000000e+00,  -3.60000000e+00,\n",
        "        -3.59000000e+00,  -3.58000000e+00,  -3.57000000e+00,\n",
        "        -3.56000000e+00,  -3.55000000e+00,  -3.54000000e+00,\n",
        "        -3.53000000e+00,  -3.52000000e+00,  -3.51000000e+00,\n",
        "        -3.50000000e+00,  -3.49000000e+00,  -3.48000000e+00,\n",
        "        -3.47000000e+00,  -3.46000000e+00,  -3.45000000e+00,\n",
        "        -3.44000000e+00,  -3.43000000e+00,  -3.42000000e+00,\n",
        "        -3.41000000e+00,  -3.40000000e+00,  -3.39000000e+00,\n",
        "        -3.38000000e+00,  -3.37000000e+00,  -3.36000000e+00,\n",
        "        -3.35000000e+00,  -3.34000000e+00,  -3.33000000e+00,\n",
        "        -3.32000000e+00,  -3.31000000e+00,  -3.30000000e+00,\n",
        "        -3.29000000e+00,  -3.28000000e+00,  -3.27000000e+00,\n",
        "        -3.26000000e+00,  -3.25000000e+00,  -3.24000000e+00,\n",
        "        -3.23000000e+00,  -3.22000000e+00,  -3.21000000e+00,\n",
        "        -3.20000000e+00,  -3.19000000e+00,  -3.18000000e+00,\n",
        "        -3.17000000e+00,  -3.16000000e+00,  -3.15000000e+00,\n",
        "        -3.14000000e+00,  -3.13000000e+00,  -3.12000000e+00,\n",
        "        -3.11000000e+00,  -3.10000000e+00,  -3.09000000e+00,\n",
        "        -3.08000000e+00,  -3.07000000e+00,  -3.06000000e+00,\n",
        "        -3.05000000e+00,  -3.04000000e+00,  -3.03000000e+00,\n",
        "        -3.02000000e+00,  -3.01000000e+00,  -3.00000000e+00,\n",
        "        -2.99000000e+00,  -2.98000000e+00,  -2.97000000e+00,\n",
        "        -2.96000000e+00,  -2.95000000e+00,  -2.94000000e+00,\n",
        "        -2.93000000e+00,  -2.92000000e+00,  -2.91000000e+00,\n",
        "        -2.90000000e+00,  -2.89000000e+00,  -2.88000000e+00,\n",
        "        -2.87000000e+00,  -2.86000000e+00,  -2.85000000e+00,\n",
        "        -2.84000000e+00,  -2.83000000e+00,  -2.82000000e+00,\n",
        "        -2.81000000e+00,  -2.80000000e+00,  -2.79000000e+00,\n",
        "        -2.78000000e+00,  -2.77000000e+00,  -2.76000000e+00,\n",
        "        -2.75000000e+00,  -2.74000000e+00,  -2.73000000e+00,\n",
        "        -2.72000000e+00,  -2.71000000e+00,  -2.70000000e+00,\n",
        "        -2.69000000e+00,  -2.68000000e+00,  -2.67000000e+00,\n",
        "        -2.66000000e+00,  -2.65000000e+00,  -2.64000000e+00,\n",
        "        -2.63000000e+00,  -2.62000000e+00,  -2.61000000e+00,\n",
        "        -2.60000000e+00,  -2.59000000e+00,  -2.58000000e+00,\n",
        "        -2.57000000e+00,  -2.56000000e+00,  -2.55000000e+00,\n",
        "        -2.54000000e+00,  -2.53000000e+00,  -2.52000000e+00,\n",
        "        -2.51000000e+00,  -2.50000000e+00,  -2.49000000e+00,\n",
        "        -2.48000000e+00,  -2.47000000e+00,  -2.46000000e+00,\n",
        "        -2.45000000e+00,  -2.44000000e+00,  -2.43000000e+00,\n",
        "        -2.42000000e+00,  -2.41000000e+00,  -2.40000000e+00,\n",
        "        -2.39000000e+00,  -2.38000000e+00,  -2.37000000e+00,\n",
        "        -2.36000000e+00,  -2.35000000e+00,  -2.34000000e+00,\n",
        "        -2.33000000e+00,  -2.32000000e+00,  -2.31000000e+00,\n",
        "        -2.30000000e+00,  -2.29000000e+00,  -2.28000000e+00,\n",
        "        -2.27000000e+00,  -2.26000000e+00,  -2.25000000e+00,\n",
        "        -2.24000000e+00,  -2.23000000e+00,  -2.22000000e+00,\n",
        "        -2.21000000e+00,  -2.20000000e+00,  -2.19000000e+00,\n",
        "        -2.18000000e+00,  -2.17000000e+00,  -2.16000000e+00,\n",
        "        -2.15000000e+00,  -2.14000000e+00,  -2.13000000e+00,\n",
        "        -2.12000000e+00,  -2.11000000e+00,  -2.10000000e+00,\n",
        "        -2.09000000e+00,  -2.08000000e+00,  -2.07000000e+00,\n",
        "        -2.06000000e+00,  -2.05000000e+00,  -2.04000000e+00,\n",
        "        -2.03000000e+00,  -2.02000000e+00,  -2.01000000e+00,\n",
        "        -2.00000000e+00,  -1.99000000e+00,  -1.98000000e+00,\n",
        "        -1.97000000e+00,  -1.96000000e+00,  -1.95000000e+00,\n",
        "        -1.94000000e+00,  -1.93000000e+00,  -1.92000000e+00,\n",
        "        -1.91000000e+00,  -1.90000000e+00,  -1.89000000e+00,\n",
        "        -1.88000000e+00,  -1.87000000e+00,  -1.86000000e+00,\n",
        "        -1.85000000e+00,  -1.84000000e+00,  -1.83000000e+00,\n",
        "        -1.82000000e+00,  -1.81000000e+00,  -1.80000000e+00,\n",
        "        -1.79000000e+00,  -1.78000000e+00,  -1.77000000e+00,\n",
        "        -1.76000000e+00,  -1.75000000e+00,  -1.74000000e+00,\n",
        "        -1.73000000e+00,  -1.72000000e+00,  -1.71000000e+00,\n",
        "        -1.70000000e+00,  -1.69000000e+00,  -1.68000000e+00,\n",
        "        -1.67000000e+00,  -1.66000000e+00,  -1.65000000e+00,\n",
        "        -1.64000000e+00,  -1.63000000e+00,  -1.62000000e+00,\n",
        "        -1.61000000e+00,  -1.60000000e+00,  -1.59000000e+00,\n",
        "        -1.58000000e+00,  -1.57000000e+00,  -1.56000000e+00,\n",
        "        -1.55000000e+00,  -1.54000000e+00,  -1.53000000e+00,\n",
        "        -1.52000000e+00,  -1.51000000e+00,  -1.50000000e+00,\n",
        "        -1.49000000e+00,  -1.48000000e+00,  -1.47000000e+00,\n",
        "        -1.46000000e+00,  -1.45000000e+00,  -1.44000000e+00,\n",
        "        -1.43000000e+00,  -1.42000000e+00,  -1.41000000e+00,\n",
        "        -1.40000000e+00,  -1.39000000e+00,  -1.38000000e+00,\n",
        "        -1.37000000e+00,  -1.36000000e+00,  -1.35000000e+00,\n",
        "        -1.34000000e+00,  -1.33000000e+00,  -1.32000000e+00,\n",
        "        -1.31000000e+00,  -1.30000000e+00,  -1.29000000e+00,\n",
        "        -1.28000000e+00,  -1.27000000e+00,  -1.26000000e+00,\n",
        "        -1.25000000e+00,  -1.24000000e+00,  -1.23000000e+00,\n",
        "        -1.22000000e+00,  -1.21000000e+00,  -1.20000000e+00,\n",
        "        -1.19000000e+00,  -1.18000000e+00,  -1.17000000e+00,\n",
        "        -1.16000000e+00,  -1.15000000e+00,  -1.14000000e+00,\n",
        "        -1.13000000e+00,  -1.12000000e+00,  -1.11000000e+00,\n",
        "        -1.10000000e+00,  -1.09000000e+00,  -1.08000000e+00,\n",
        "        -1.07000000e+00,  -1.06000000e+00,  -1.05000000e+00,\n",
        "        -1.04000000e+00,  -1.03000000e+00,  -1.02000000e+00,\n",
        "        -1.01000000e+00,  -1.00000000e+00,  -9.90000000e-01,\n",
        "        -9.80000000e-01,  -9.70000000e-01,  -9.60000000e-01,\n",
        "        -9.50000000e-01,  -9.40000000e-01,  -9.30000000e-01,\n",
        "        -9.20000000e-01,  -9.10000000e-01,  -9.00000000e-01,\n",
        "        -8.90000000e-01,  -8.80000000e-01,  -8.70000000e-01,\n",
        "        -8.60000000e-01,  -8.50000000e-01,  -8.40000000e-01,\n",
        "        -8.30000000e-01,  -8.20000000e-01,  -8.10000000e-01,\n",
        "        -8.00000000e-01,  -7.90000000e-01,  -7.80000000e-01,\n",
        "        -7.70000000e-01,  -7.60000000e-01,  -7.50000000e-01,\n",
        "        -7.40000000e-01,  -7.30000000e-01,  -7.20000000e-01,\n",
        "        -7.10000000e-01,  -7.00000000e-01,  -6.90000000e-01,\n",
        "        -6.80000000e-01,  -6.70000000e-01,  -6.60000000e-01,\n",
        "        -6.50000000e-01,  -6.40000000e-01,  -6.30000000e-01,\n",
        "        -6.20000000e-01,  -6.10000000e-01,  -6.00000000e-01,\n",
        "        -5.90000000e-01,  -5.80000000e-01,  -5.70000000e-01,\n",
        "        -5.60000000e-01,  -5.50000000e-01,  -5.40000000e-01,\n",
        "        -5.30000000e-01,  -5.20000000e-01,  -5.10000000e-01,\n",
        "        -5.00000000e-01,  -4.90000000e-01,  -4.80000000e-01,\n",
        "        -4.70000000e-01,  -4.60000000e-01,  -4.50000000e-01,\n",
        "        -4.40000000e-01,  -4.30000000e-01,  -4.20000000e-01,\n",
        "        -4.10000000e-01,  -4.00000000e-01,  -3.90000000e-01,\n",
        "        -3.80000000e-01,  -3.70000000e-01,  -3.60000000e-01,\n",
        "        -3.50000000e-01,  -3.40000000e-01,  -3.30000000e-01,\n",
        "        -3.20000000e-01,  -3.10000000e-01,  -3.00000000e-01,\n",
        "        -2.90000000e-01,  -2.80000000e-01,  -2.70000000e-01,\n",
        "        -2.60000000e-01,  -2.50000000e-01,  -2.40000000e-01,\n",
        "        -2.30000000e-01,  -2.20000000e-01,  -2.10000000e-01,\n",
        "        -2.00000000e-01,  -1.90000000e-01,  -1.80000000e-01,\n",
        "        -1.70000000e-01,  -1.60000000e-01,  -1.50000000e-01,\n",
        "        -1.40000000e-01,  -1.30000000e-01,  -1.20000000e-01,\n",
        "        -1.10000000e-01,  -1.00000000e-01,  -9.00000000e-02,\n",
        "        -8.00000000e-02,  -7.00000000e-02,  -6.00000000e-02,\n",
        "        -5.00000000e-02,  -4.00000000e-02,  -3.00000000e-02,\n",
        "        -2.00000000e-02,  -1.00000000e-02,  -1.06581410e-13,\n",
        "         1.00000000e-02,   2.00000000e-02,   3.00000000e-02,\n",
        "         4.00000000e-02,   5.00000000e-02,   6.00000000e-02,\n",
        "         7.00000000e-02,   8.00000000e-02,   9.00000000e-02,\n",
        "         1.00000000e-01,   1.10000000e-01,   1.20000000e-01,\n",
        "         1.30000000e-01,   1.40000000e-01,   1.50000000e-01,\n",
        "         1.60000000e-01,   1.70000000e-01,   1.80000000e-01,\n",
        "         1.90000000e-01,   2.00000000e-01,   2.10000000e-01,\n",
        "         2.20000000e-01,   2.30000000e-01,   2.40000000e-01,\n",
        "         2.50000000e-01,   2.60000000e-01,   2.70000000e-01,\n",
        "         2.80000000e-01,   2.90000000e-01,   3.00000000e-01,\n",
        "         3.10000000e-01,   3.20000000e-01,   3.30000000e-01,\n",
        "         3.40000000e-01,   3.50000000e-01,   3.60000000e-01,\n",
        "         3.70000000e-01,   3.80000000e-01,   3.90000000e-01,\n",
        "         4.00000000e-01,   4.10000000e-01,   4.20000000e-01,\n",
        "         4.30000000e-01,   4.40000000e-01,   4.50000000e-01,\n",
        "         4.60000000e-01,   4.70000000e-01,   4.80000000e-01,\n",
        "         4.90000000e-01,   5.00000000e-01,   5.10000000e-01,\n",
        "         5.20000000e-01,   5.30000000e-01,   5.40000000e-01,\n",
        "         5.50000000e-01,   5.60000000e-01,   5.70000000e-01,\n",
        "         5.80000000e-01,   5.90000000e-01,   6.00000000e-01,\n",
        "         6.10000000e-01,   6.20000000e-01,   6.30000000e-01,\n",
        "         6.40000000e-01,   6.50000000e-01,   6.60000000e-01,\n",
        "         6.70000000e-01,   6.80000000e-01,   6.90000000e-01,\n",
        "         7.00000000e-01,   7.10000000e-01,   7.20000000e-01,\n",
        "         7.30000000e-01,   7.40000000e-01,   7.50000000e-01,\n",
        "         7.60000000e-01,   7.70000000e-01,   7.80000000e-01,\n",
        "         7.90000000e-01,   8.00000000e-01,   8.10000000e-01,\n",
        "         8.20000000e-01,   8.30000000e-01,   8.40000000e-01,\n",
        "         8.50000000e-01,   8.60000000e-01,   8.70000000e-01,\n",
        "         8.80000000e-01,   8.90000000e-01,   9.00000000e-01,\n",
        "         9.10000000e-01,   9.20000000e-01,   9.30000000e-01,\n",
        "         9.40000000e-01,   9.50000000e-01,   9.60000000e-01,\n",
        "         9.70000000e-01,   9.80000000e-01,   9.90000000e-01,\n",
        "         1.00000000e+00,   1.01000000e+00,   1.02000000e+00,\n",
        "         1.03000000e+00,   1.04000000e+00,   1.05000000e+00,\n",
        "         1.06000000e+00,   1.07000000e+00,   1.08000000e+00,\n",
        "         1.09000000e+00,   1.10000000e+00,   1.11000000e+00,\n",
        "         1.12000000e+00,   1.13000000e+00,   1.14000000e+00,\n",
        "         1.15000000e+00,   1.16000000e+00,   1.17000000e+00,\n",
        "         1.18000000e+00,   1.19000000e+00,   1.20000000e+00,\n",
        "         1.21000000e+00,   1.22000000e+00,   1.23000000e+00,\n",
        "         1.24000000e+00,   1.25000000e+00,   1.26000000e+00,\n",
        "         1.27000000e+00,   1.28000000e+00,   1.29000000e+00,\n",
        "         1.30000000e+00,   1.31000000e+00,   1.32000000e+00,\n",
        "         1.33000000e+00,   1.34000000e+00,   1.35000000e+00,\n",
        "         1.36000000e+00,   1.37000000e+00,   1.38000000e+00,\n",
        "         1.39000000e+00,   1.40000000e+00,   1.41000000e+00,\n",
        "         1.42000000e+00,   1.43000000e+00,   1.44000000e+00,\n",
        "         1.45000000e+00,   1.46000000e+00,   1.47000000e+00,\n",
        "         1.48000000e+00,   1.49000000e+00,   1.50000000e+00,\n",
        "         1.51000000e+00,   1.52000000e+00,   1.53000000e+00,\n",
        "         1.54000000e+00,   1.55000000e+00,   1.56000000e+00,\n",
        "         1.57000000e+00,   1.58000000e+00,   1.59000000e+00,\n",
        "         1.60000000e+00,   1.61000000e+00,   1.62000000e+00,\n",
        "         1.63000000e+00,   1.64000000e+00,   1.65000000e+00,\n",
        "         1.66000000e+00,   1.67000000e+00,   1.68000000e+00,\n",
        "         1.69000000e+00,   1.70000000e+00,   1.71000000e+00,\n",
        "         1.72000000e+00,   1.73000000e+00,   1.74000000e+00,\n",
        "         1.75000000e+00,   1.76000000e+00,   1.77000000e+00,\n",
        "         1.78000000e+00,   1.79000000e+00,   1.80000000e+00,\n",
        "         1.81000000e+00,   1.82000000e+00,   1.83000000e+00,\n",
        "         1.84000000e+00,   1.85000000e+00,   1.86000000e+00,\n",
        "         1.87000000e+00,   1.88000000e+00,   1.89000000e+00,\n",
        "         1.90000000e+00,   1.91000000e+00,   1.92000000e+00,\n",
        "         1.93000000e+00,   1.94000000e+00,   1.95000000e+00,\n",
        "         1.96000000e+00,   1.97000000e+00,   1.98000000e+00,\n",
        "         1.99000000e+00,   2.00000000e+00,   2.01000000e+00,\n",
        "         2.02000000e+00,   2.03000000e+00,   2.04000000e+00,\n",
        "         2.05000000e+00,   2.06000000e+00,   2.07000000e+00,\n",
        "         2.08000000e+00,   2.09000000e+00,   2.10000000e+00,\n",
        "         2.11000000e+00,   2.12000000e+00,   2.13000000e+00,\n",
        "         2.14000000e+00,   2.15000000e+00,   2.16000000e+00,\n",
        "         2.17000000e+00,   2.18000000e+00,   2.19000000e+00,\n",
        "         2.20000000e+00,   2.21000000e+00,   2.22000000e+00,\n",
        "         2.23000000e+00,   2.24000000e+00,   2.25000000e+00,\n",
        "         2.26000000e+00,   2.27000000e+00,   2.28000000e+00,\n",
        "         2.29000000e+00,   2.30000000e+00,   2.31000000e+00,\n",
        "         2.32000000e+00,   2.33000000e+00,   2.34000000e+00,\n",
        "         2.35000000e+00,   2.36000000e+00,   2.37000000e+00,\n",
        "         2.38000000e+00,   2.39000000e+00,   2.40000000e+00,\n",
        "         2.41000000e+00,   2.42000000e+00,   2.43000000e+00,\n",
        "         2.44000000e+00,   2.45000000e+00,   2.46000000e+00,\n",
        "         2.47000000e+00,   2.48000000e+00,   2.49000000e+00,\n",
        "         2.50000000e+00,   2.51000000e+00,   2.52000000e+00,\n",
        "         2.53000000e+00,   2.54000000e+00,   2.55000000e+00,\n",
        "         2.56000000e+00,   2.57000000e+00,   2.58000000e+00,\n",
        "         2.59000000e+00,   2.60000000e+00,   2.61000000e+00,\n",
        "         2.62000000e+00,   2.63000000e+00,   2.64000000e+00,\n",
        "         2.65000000e+00,   2.66000000e+00,   2.67000000e+00,\n",
        "         2.68000000e+00,   2.69000000e+00,   2.70000000e+00,\n",
        "         2.71000000e+00,   2.72000000e+00,   2.73000000e+00,\n",
        "         2.74000000e+00,   2.75000000e+00,   2.76000000e+00,\n",
        "         2.77000000e+00,   2.78000000e+00,   2.79000000e+00,\n",
        "         2.80000000e+00,   2.81000000e+00,   2.82000000e+00,\n",
        "         2.83000000e+00,   2.84000000e+00,   2.85000000e+00,\n",
        "         2.86000000e+00,   2.87000000e+00,   2.88000000e+00,\n",
        "         2.89000000e+00,   2.90000000e+00,   2.91000000e+00,\n",
        "         2.92000000e+00,   2.93000000e+00,   2.94000000e+00,\n",
        "         2.95000000e+00,   2.96000000e+00,   2.97000000e+00,\n",
        "         2.98000000e+00,   2.99000000e+00,   3.00000000e+00,\n",
        "         3.01000000e+00,   3.02000000e+00,   3.03000000e+00,\n",
        "         3.04000000e+00,   3.05000000e+00,   3.06000000e+00,\n",
        "         3.07000000e+00,   3.08000000e+00,   3.09000000e+00,\n",
        "         3.10000000e+00,   3.11000000e+00,   3.12000000e+00,\n",
        "         3.13000000e+00,   3.14000000e+00,   3.15000000e+00,\n",
        "         3.16000000e+00,   3.17000000e+00,   3.18000000e+00,\n",
        "         3.19000000e+00,   3.20000000e+00,   3.21000000e+00,\n",
        "         3.22000000e+00,   3.23000000e+00,   3.24000000e+00,\n",
        "         3.25000000e+00,   3.26000000e+00,   3.27000000e+00,\n",
        "         3.28000000e+00,   3.29000000e+00,   3.30000000e+00,\n",
        "         3.31000000e+00,   3.32000000e+00,   3.33000000e+00,\n",
        "         3.34000000e+00,   3.35000000e+00,   3.36000000e+00,\n",
        "         3.37000000e+00,   3.38000000e+00,   3.39000000e+00,\n",
        "         3.40000000e+00,   3.41000000e+00,   3.42000000e+00,\n",
        "         3.43000000e+00,   3.44000000e+00,   3.45000000e+00,\n",
        "         3.46000000e+00,   3.47000000e+00,   3.48000000e+00,\n",
        "         3.49000000e+00,   3.50000000e+00,   3.51000000e+00,\n",
        "         3.52000000e+00,   3.53000000e+00,   3.54000000e+00,\n",
        "         3.55000000e+00,   3.56000000e+00,   3.57000000e+00,\n",
        "         3.58000000e+00,   3.59000000e+00,   3.60000000e+00,\n",
        "         3.61000000e+00,   3.62000000e+00,   3.63000000e+00,\n",
        "         3.64000000e+00,   3.65000000e+00,   3.66000000e+00,\n",
        "         3.67000000e+00,   3.68000000e+00,   3.69000000e+00,\n",
        "         3.70000000e+00,   3.71000000e+00,   3.72000000e+00,\n",
        "         3.73000000e+00,   3.74000000e+00,   3.75000000e+00,\n",
        "         3.76000000e+00,   3.77000000e+00,   3.78000000e+00,\n",
        "         3.79000000e+00,   3.80000000e+00,   3.81000000e+00,\n",
        "         3.82000000e+00,   3.83000000e+00,   3.84000000e+00,\n",
        "         3.85000000e+00,   3.86000000e+00,   3.87000000e+00,\n",
        "         3.88000000e+00,   3.89000000e+00,   3.90000000e+00,\n",
        "         3.91000000e+00,   3.92000000e+00,   3.93000000e+00,\n",
        "         3.94000000e+00,   3.95000000e+00,   3.96000000e+00,\n",
        "         3.97000000e+00,   3.98000000e+00,   3.99000000e+00,\n",
        "         4.00000000e+00,   4.01000000e+00,   4.02000000e+00,\n",
        "         4.03000000e+00,   4.04000000e+00,   4.05000000e+00,\n",
        "         4.06000000e+00,   4.07000000e+00,   4.08000000e+00,\n",
        "         4.09000000e+00,   4.10000000e+00,   4.11000000e+00,\n",
        "         4.12000000e+00,   4.13000000e+00,   4.14000000e+00,\n",
        "         4.15000000e+00,   4.16000000e+00,   4.17000000e+00,\n",
        "         4.18000000e+00,   4.19000000e+00,   4.20000000e+00,\n",
        "         4.21000000e+00,   4.22000000e+00,   4.23000000e+00,\n",
        "         4.24000000e+00,   4.25000000e+00,   4.26000000e+00,\n",
        "         4.27000000e+00,   4.28000000e+00,   4.29000000e+00,\n",
        "         4.30000000e+00,   4.31000000e+00,   4.32000000e+00,\n",
        "         4.33000000e+00,   4.34000000e+00,   4.35000000e+00,\n",
        "         4.36000000e+00,   4.37000000e+00,   4.38000000e+00,\n",
        "         4.39000000e+00,   4.40000000e+00,   4.41000000e+00,\n",
        "         4.42000000e+00,   4.43000000e+00,   4.44000000e+00,\n",
        "         4.45000000e+00,   4.46000000e+00,   4.47000000e+00,\n",
        "         4.48000000e+00,   4.49000000e+00,   4.50000000e+00,\n",
        "         4.51000000e+00,   4.52000000e+00,   4.53000000e+00,\n",
        "         4.54000000e+00,   4.55000000e+00,   4.56000000e+00,\n",
        "         4.57000000e+00,   4.58000000e+00,   4.59000000e+00,\n",
        "         4.60000000e+00,   4.61000000e+00,   4.62000000e+00,\n",
        "         4.63000000e+00,   4.64000000e+00,   4.65000000e+00,\n",
        "         4.66000000e+00,   4.67000000e+00,   4.68000000e+00,\n",
        "         4.69000000e+00,   4.70000000e+00,   4.71000000e+00,\n",
        "         4.72000000e+00,   4.73000000e+00,   4.74000000e+00,\n",
        "         4.75000000e+00,   4.76000000e+00,   4.77000000e+00,\n",
        "         4.78000000e+00,   4.79000000e+00,   4.80000000e+00,\n",
        "         4.81000000e+00,   4.82000000e+00,   4.83000000e+00,\n",
        "         4.84000000e+00,   4.85000000e+00,   4.86000000e+00,\n",
        "         4.87000000e+00,   4.88000000e+00,   4.89000000e+00,\n",
        "         4.90000000e+00,   4.91000000e+00,   4.92000000e+00,\n",
        "         4.93000000e+00,   4.94000000e+00,   4.95000000e+00,\n",
        "         4.96000000e+00,   4.97000000e+00,   4.98000000e+00,\n",
        "         4.99000000e+00])"
       ]
      }
     ],
     "prompt_number": 250
    },
    {
     "cell_type": "code",
     "collapsed": true,
     "input": [
      "xs, ys = np.meshgrid(points,points)\n",
      "#2\uac1c\uc758 1\ucc28\uc6d0 \ubc30\uc5f4\uc744 \ubc1b\uc544 \uac00\ub2a5\ud55c \ud55c \ubaa8\ub4e0 (x,y)\uc9dd\uc744 \ub9cc\ub4e4 \uc218 \uc788\ub294 2\ucc28\uc6d0 \ubc30\uc5f4 2\uac1c\ub97c \ubc18\ud658\ud558\ub294 meshgrid \ud568\uc218\n",
      "#xs\uc640 ys\uc5d0\uc11c \uac19\uc740 \uc778\ub371\uc2a4\uc758 \uc694\uc18c\ub4e4\uc740 \ud55c\uc30d\uc758 (x,y)\ub97c \ub098\ud0c0\ub0c4"
     ],
     "language": "python",
     "metadata": {},
     "outputs": [],
     "prompt_number": 251
    },
    {
     "cell_type": "code",
     "collapsed": false,
     "input": [
      "ys"
     ],
     "language": "python",
     "metadata": {},
     "outputs": [
      {
       "metadata": {},
       "output_type": "pyout",
       "prompt_number": 252,
       "text": [
        "array([[-5.  , -5.  , -5.  , ..., -5.  , -5.  , -5.  ],\n",
        "       [-4.99, -4.99, -4.99, ..., -4.99, -4.99, -4.99],\n",
        "       [-4.98, -4.98, -4.98, ..., -4.98, -4.98, -4.98],\n",
        "       ..., \n",
        "       [ 4.97,  4.97,  4.97, ...,  4.97,  4.97,  4.97],\n",
        "       [ 4.98,  4.98,  4.98, ...,  4.98,  4.98,  4.98],\n",
        "       [ 4.99,  4.99,  4.99, ...,  4.99,  4.99,  4.99]])"
       ]
      }
     ],
     "prompt_number": 252
    },
    {
     "cell_type": "code",
     "collapsed": false,
     "input": [
      "xs"
     ],
     "language": "python",
     "metadata": {},
     "outputs": [
      {
       "metadata": {},
       "output_type": "pyout",
       "prompt_number": 253,
       "text": [
        "array([[-5.  , -4.99, -4.98, ...,  4.97,  4.98,  4.99],\n",
        "       [-5.  , -4.99, -4.98, ...,  4.97,  4.98,  4.99],\n",
        "       [-5.  , -4.99, -4.98, ...,  4.97,  4.98,  4.99],\n",
        "       ..., \n",
        "       [-5.  , -4.99, -4.98, ...,  4.97,  4.98,  4.99],\n",
        "       [-5.  , -4.99, -4.98, ...,  4.97,  4.98,  4.99],\n",
        "       [-5.  , -4.99, -4.98, ...,  4.97,  4.98,  4.99]])"
       ]
      }
     ],
     "prompt_number": 253
    },
    {
     "cell_type": "code",
     "collapsed": true,
     "input": [
      "import matplotlib.pyplot as plt\n",
      "%matplotlib inline"
     ],
     "language": "python",
     "metadata": {},
     "outputs": [],
     "prompt_number": 254
    },
    {
     "cell_type": "code",
     "collapsed": true,
     "input": [
      "z=np.sqrt(xs ** 2 + ys ** 2)\n",
      "#z=sqrt(xs^2 + ys^2)"
     ],
     "language": "python",
     "metadata": {},
     "outputs": [],
     "prompt_number": 255
    },
    {
     "cell_type": "code",
     "collapsed": false,
     "input": [
      "z"
     ],
     "language": "python",
     "metadata": {},
     "outputs": [
      {
       "metadata": {},
       "output_type": "pyout",
       "prompt_number": 256,
       "text": [
        "array([[ 7.07106781,  7.06400028,  7.05693985, ...,  7.04988652,\n",
        "         7.05693985,  7.06400028],\n",
        "       [ 7.06400028,  7.05692568,  7.04985815, ...,  7.04279774,\n",
        "         7.04985815,  7.05692568],\n",
        "       [ 7.05693985,  7.04985815,  7.04278354, ...,  7.03571603,\n",
        "         7.04278354,  7.04985815],\n",
        "       ..., \n",
        "       [ 7.04988652,  7.04279774,  7.03571603, ...,  7.0286414 ,\n",
        "         7.03571603,  7.04279774],\n",
        "       [ 7.05693985,  7.04985815,  7.04278354, ...,  7.03571603,\n",
        "         7.04278354,  7.04985815],\n",
        "       [ 7.06400028,  7.05692568,  7.04985815, ...,  7.04279774,\n",
        "         7.04985815,  7.05692568]])"
       ]
      }
     ],
     "prompt_number": 256
    },
    {
     "cell_type": "code",
     "collapsed": false,
     "input": [
      "plt.imshow(z,cmap=plt.cm.RdBu);\n",
      "plt.colorbar();\n",
      "plt.title(\"Image plot of $\\sqrt{x^2 + y^2}$ for a grid of values\")\n",
      "#\uc218\uc2dd \uc785\ub825\uc2dc '$'\ud45c\uc2dc\ub85c \uc2dc\uc791\uacfc \ub05d\uc744 \ud45c\uc2dc"
     ],
     "language": "python",
     "metadata": {},
     "outputs": [
      {
       "metadata": {},
       "output_type": "pyout",
       "prompt_number": 257,
       "text": [
        "<matplotlib.text.Text at 0xa3fc908>"
       ]
      },
      {
       "metadata": {},
       "output_type": "display_data",
       "png": "[encoded data removed]",
       "text": [
        "<matplotlib.figure.Figure at 0xa8e28d0>"
       ]
      }
     ],
     "prompt_number": 257
    },
    {
     "cell_type": "heading",
     "level": 3,
     "metadata": {},
     "source": [
      "4.3.1 \ubc30\uc5f4\uc5f0\uc0b0\uc73c\ub85c \uc870\uac74\uc808 \ud45c\ud604\ud558\uae30"
     ]
    },
    {
     "cell_type": "code",
     "collapsed": false,
     "input": [
      "xarr = np.array([1.1, 1.2, 1.3, 1.4, 1.5])"
     ],
     "language": "python",
     "metadata": {},
     "outputs": [],
     "prompt_number": 258
    },
    {
     "cell_type": "code",
     "collapsed": false,
     "input": [
      "yarr = np.array([2.1, 2.2, 2.3, 2.4, 2.5])"
     ],
     "language": "python",
     "metadata": {},
     "outputs": [],
     "prompt_number": 259
    },
    {
     "cell_type": "code",
     "collapsed": false,
     "input": [
      "cond = np.array([True, False, True, True, False])"
     ],
     "language": "python",
     "metadata": {},
     "outputs": [],
     "prompt_number": 260
    },
    {
     "cell_type": "code",
     "collapsed": false,
     "input": [
      "result = [(x if c else y)\n",
      "          for x,y,c in zip(xarr,yarr,cond)]\n",
      "#\uc0bc\ud56d\uc5f0\uc0b0\uc790 x if c else y => c \uc774\uba74 x, c\uac00 \uc544\ub2c8\uba74 y\ub97c \ubc18\ud658\n",
      "#zip(iterable) \ud568\uc218\ub294 \ub3d9\uc77c\ud55c \uac1c\uc218\uc758 \uc694\uc18c \uac12\uc744 \uac16\ub294 \ubc18\ubcf5\uac00\ub2a5\ud55c \uc790\ub8cc\ud615\uc744 \ubb36\uc5b4\uc8fc\ub294 \uc5ed\ud560"
     ],
     "language": "python",
     "metadata": {},
     "outputs": [],
     "prompt_number": 261
    },
    {
     "cell_type": "code",
     "collapsed": false,
     "input": [
      "result"
     ],
     "language": "python",
     "metadata": {},
     "outputs": [
      {
       "metadata": {},
       "output_type": "pyout",
       "prompt_number": 262,
       "text": [
        "[1.1000000000000001, 2.2000000000000002, 1.3, 1.3999999999999999, 2.5]"
       ]
      }
     ],
     "prompt_number": 262
    },
    {
     "cell_type": "code",
     "collapsed": false,
     "input": [
      "result = np.where(cond,xarr,yarr)\n",
      "#\uc774\ub807\ub4ef np.where \ud568\uc218\ub294 'x if \uc870\uac74 else y' \uac19\uc740 \uc0bc\ud56d\uc2dd\uc758 \ubca1\ud130\ud654 \ubc84\uc804"
     ],
     "language": "python",
     "metadata": {},
     "outputs": [],
     "prompt_number": 263
    },
    {
     "cell_type": "code",
     "collapsed": false,
     "input": [
      "result"
     ],
     "language": "python",
     "metadata": {},
     "outputs": [
      {
       "metadata": {},
       "output_type": "pyout",
       "prompt_number": 264,
       "text": [
        "array([ 1.1,  2.2,  1.3,  1.4,  2.5])"
       ]
      }
     ],
     "prompt_number": 264
    },
    {
     "cell_type": "code",
     "collapsed": true,
     "input": [
      "arr=np.random.randn(4,4)"
     ],
     "language": "python",
     "metadata": {},
     "outputs": [],
     "prompt_number": 265
    },
    {
     "cell_type": "code",
     "collapsed": false,
     "input": [
      "arr"
     ],
     "language": "python",
     "metadata": {
      "scrolled": true
     },
     "outputs": [
      {
       "metadata": {},
       "output_type": "pyout",
       "prompt_number": 266,
       "text": [
        "array([[ 0.99822438,  0.0961956 , -0.05190591,  0.02564089],\n",
        "       [-0.4972492 ,  0.92572148,  1.38700972,  0.1276896 ],\n",
        "       [ 0.97675998, -1.18426952,  2.07983459,  0.52313206],\n",
        "       [-0.17886443,  0.54276289, -0.25390824, -0.33600825]])"
       ]
      }
     ],
     "prompt_number": 266
    },
    {
     "cell_type": "code",
     "collapsed": false,
     "input": [
      "np.where(arr>0,2,-2)\n",
      "#\uc694\uc18c\ub4e4\uc911\uc5d0 0\ubcf4\ub2e4 \ud070\uac83\uc740 2, \uc774\uc678\uc694\uc18c\ub4e4\uc740 \uadf8\ub300\ub85c"
     ],
     "language": "python",
     "metadata": {},
     "outputs": [
      {
       "metadata": {},
       "output_type": "pyout",
       "prompt_number": 267,
       "text": [
        "array([[ 2,  2, -2,  2],\n",
        "       [-2,  2,  2,  2],\n",
        "       [ 2, -2,  2,  2],\n",
        "       [-2,  2, -2, -2]])"
       ]
      }
     ],
     "prompt_number": 267
    },
    {
     "cell_type": "code",
     "collapsed": false,
     "input": [
      "np.where(arr > 0,2,arr)\n",
      "#\uc694\uc18c\ub4e4\uc911\uc5d0 0\ubcf4\ub2e4 \ud070\uac83\uc740 2, \uc774\uc678\uc694\uc18c\ub4e4\uc740 \uadf8\ub300\ub85c"
     ],
     "language": "python",
     "metadata": {},
     "outputs": [
      {
       "metadata": {},
       "output_type": "pyout",
       "prompt_number": 268,
       "text": [
        "array([[ 2.        ,  2.        , -0.05190591,  2.        ],\n",
        "       [-0.4972492 ,  2.        ,  2.        ,  2.        ],\n",
        "       [ 2.        , -1.18426952,  2.        ,  2.        ],\n",
        "       [-0.17886443,  2.        , -0.25390824, -0.33600825]])"
       ]
      }
     ],
     "prompt_number": 268
    },
    {
     "cell_type": "code",
     "collapsed": true,
     "input": [
      "cond1 = np.array([True,False,True,True]);\n",
      "cond2 = np.array([False,False,True,True]);"
     ],
     "language": "python",
     "metadata": {},
     "outputs": [],
     "prompt_number": 269
    },
    {
     "cell_type": "markdown",
     "metadata": {},
     "source": [
      "---------------------------------------------------------------------------------------"
     ]
    },
    {
     "cell_type": "code",
     "collapsed": false,
     "input": [
      "np.where(cond1 & cond2,0,np.where(cond1,1,np.where(cond2,2,3)))"
     ],
     "language": "python",
     "metadata": {},
     "outputs": [
      {
       "metadata": {},
       "output_type": "pyout",
       "prompt_number": 270,
       "text": [
        "array([1, 3, 0, 0])"
       ]
      }
     ],
     "prompt_number": 270
    },
    {
     "cell_type": "code",
     "collapsed": false,
     "input": [
      "#\uc704\uc640 \uc544\ub798\ub294 \ub3d9\uc77c\ud55c \uacb0\uacfc\ub97c \uc5bb\uc74c\n",
      "result = []\n",
      "for i in range(len(result)):\n",
      "    if cond1[i] and cond2[i]:\n",
      "        result.append(0)\n",
      "    elif cond1[i]:\n",
      "        result.append(1)\n",
      "    elif cond2[i]:\n",
      "        result.append(2)\n",
      "    else:\n",
      "        result.append(3)"
     ],
     "language": "python",
     "metadata": {},
     "outputs": [],
     "prompt_number": 271
    },
    {
     "cell_type": "markdown",
     "metadata": {},
     "source": [
      "---------------------------------------------------------------------------------------"
     ]
    },
    {
     "cell_type": "code",
     "collapsed": true,
     "input": [],
     "language": "python",
     "metadata": {},
     "outputs": [],
     "prompt_number": null
    },
    {
     "cell_type": "heading",
     "level": 3,
     "metadata": {},
     "source": [
      "4.3.2 \uc218\ud559 \uba54\uc11c\ub4dc\uc640 \ud1b5\uacc4 \uba54\uc11c\ub4dc"
     ]
    },
    {
     "cell_type": "code",
     "collapsed": false,
     "input": [
      "arr = np.random.randint(0,10,(5,4))\n",
      "#5\ud5894\uc5f4\ub85c 0~99\uae4c\uc9c0 \ub79c\ub364\uc218"
     ],
     "language": "python",
     "metadata": {
      "scrolled": false
     },
     "outputs": [],
     "prompt_number": 272
    },
    {
     "cell_type": "code",
     "collapsed": false,
     "input": [
      "arr"
     ],
     "language": "python",
     "metadata": {
      "scrolled": true
     },
     "outputs": [
      {
       "metadata": {},
       "output_type": "pyout",
       "prompt_number": 273,
       "text": [
        "array([[3, 3, 0, 7],\n",
        "       [8, 6, 9, 1],\n",
        "       [3, 4, 6, 7],\n",
        "       [9, 6, 5, 7],\n",
        "       [3, 7, 3, 4]])"
       ]
      }
     ],
     "prompt_number": 273
    },
    {
     "cell_type": "code",
     "collapsed": false,
     "input": [
      "arr.mean()\n",
      "#\ud3c9\uade0\uac12"
     ],
     "language": "python",
     "metadata": {},
     "outputs": [
      {
       "metadata": {},
       "output_type": "pyout",
       "prompt_number": 274,
       "text": [
        "5.0499999999999998"
       ]
      }
     ],
     "prompt_number": 274
    },
    {
     "cell_type": "code",
     "collapsed": false,
     "input": [
      "np.mean(arr)"
     ],
     "language": "python",
     "metadata": {},
     "outputs": [
      {
       "metadata": {},
       "output_type": "pyout",
       "prompt_number": 275,
       "text": [
        "5.0499999999999998"
       ]
      }
     ],
     "prompt_number": 275
    },
    {
     "cell_type": "code",
     "collapsed": false,
     "input": [
      "arr.sum()"
     ],
     "language": "python",
     "metadata": {},
     "outputs": [
      {
       "metadata": {},
       "output_type": "pyout",
       "prompt_number": 276,
       "text": [
        "101"
       ]
      }
     ],
     "prompt_number": 276
    },
    {
     "cell_type": "code",
     "collapsed": false,
     "input": [
      "arr.mean()"
     ],
     "language": "python",
     "metadata": {},
     "outputs": [
      {
       "metadata": {},
       "output_type": "pyout",
       "prompt_number": 277,
       "text": [
        "5.0499999999999998"
       ]
      }
     ],
     "prompt_number": 277
    },
    {
     "cell_type": "code",
     "collapsed": false,
     "input": [
      "arr.mean(axis=1)\n",
      "#col\uc774 \uc544\ub2cc \uac01 row\ub4e4\uc758 \ud3c9\uade0"
     ],
     "language": "python",
     "metadata": {},
     "outputs": [
      {
       "metadata": {},
       "output_type": "pyout",
       "prompt_number": 278,
       "text": [
        "array([ 3.25,  6.  ,  5.  ,  6.75,  4.25])"
       ]
      }
     ],
     "prompt_number": 278
    },
    {
     "cell_type": "code",
     "collapsed": false,
     "input": [
      "arr.sum(0)\n",
      "#col[0]\uc778 \uc694\uc18c\ub4e4\uc758 \ud569(\uac01 \uc6d0\uc18c\uc758 \ub204\uc801\ud569)"
     ],
     "language": "python",
     "metadata": {},
     "outputs": [
      {
       "metadata": {},
       "output_type": "pyout",
       "prompt_number": 279,
       "text": [
        "array([26, 26, 23, 26])"
       ]
      }
     ],
     "prompt_number": 279
    },
    {
     "cell_type": "code",
     "collapsed": false,
     "input": [
      "arr.cumprod(1)\n",
      "#\uac01 row\ub4e4\uc758 \ub204\uc801\uacf1\uc744 \ubc18\ud658"
     ],
     "language": "python",
     "metadata": {},
     "outputs": [
      {
       "metadata": {},
       "output_type": "pyout",
       "prompt_number": 280,
       "text": [
        "array([[   3,    9,    0,    0],\n",
        "       [   8,   48,  432,  432],\n",
        "       [   3,   12,   72,  504],\n",
        "       [   9,   54,  270, 1890],\n",
        "       [   3,   21,   63,  252]])"
       ]
      }
     ],
     "prompt_number": 280
    },
    {
     "cell_type": "heading",
     "level": 3,
     "metadata": {},
     "source": [
      "4.3.3 \ubd88\ub9ac\uc5b8 \ubc30\uc5f4\uc758 \uc704\ud55c \uba54\uc11c\ub4dc"
     ]
    },
    {
     "cell_type": "code",
     "collapsed": true,
     "input": [
      "#\ubd88\ub9ac\uc5b8 \uac12\uc740 1(True),0(False)\ub85c \ucde8\uae09\ub428, \ub530\ub77c\uc11c \ubd88\ub9ac\uc5b8 \ubc30\uc5f4\uc5d0 \ub300\ud55c sum \uba54\uc11c\ub4dc \uc2e4\ud589\uc2dc True\uc758 \uc6d0\uc18c\uac1c\uc218\ub97c \ubc18\ud658\n",
      "arr = np.random.randn(100)"
     ],
     "language": "python",
     "metadata": {},
     "outputs": [],
     "prompt_number": 286
    },
    {
     "cell_type": "code",
     "collapsed": false,
     "input": [
      "from scipy.stats import norm\n",
      "plt.plot(arr,norm.pdf(arr,0,2))"
     ],
     "language": "python",
     "metadata": {},
     "outputs": [
      {
       "metadata": {},
       "output_type": "pyout",
       "prompt_number": 289,
       "text": [
        "[<matplotlib.lines.Line2D at 0x3ad68e48>]"
       ]
      },
      {
       "metadata": {},
       "output_type": "display_data",
       "png": "[encoded data removed]",
       "text": [
        "<matplotlib.figure.Figure at 0x3b724ba8>"
       ]
      }
     ],
     "prompt_number": 289
    },
    {
     "cell_type": "code",
     "collapsed": false,
     "input": [
      "arr"
     ],
     "language": "python",
     "metadata": {},
     "outputs": [
      {
       "metadata": {},
       "output_type": "pyout",
       "prompt_number": 290,
       "text": [
        "array([-0.91900072, -1.16369856,  0.84952221, -0.51097169,  1.07217574,\n",
        "       -1.92148475,  0.02035598, -0.6694042 ,  0.20694638,  0.14472559,\n",
        "        0.62605429, -0.558316  ,  0.54238226, -1.72488485,  0.75776456,\n",
        "       -0.95534284,  0.84099616,  0.78750182,  0.05366397, -2.32850167,\n",
        "       -0.52573056, -1.66771032,  0.86625868,  0.94245657, -0.62377451,\n",
        "        1.0952355 ,  1.01217821,  0.64092811, -1.09093673,  1.26334742,\n",
        "        0.32988369,  0.58528048,  0.78163103,  0.9950615 , -0.57021334,\n",
        "        0.03510572,  1.10517367, -0.02323256, -0.41450463,  0.07138421,\n",
        "       -0.47176711, -1.17610115,  2.71254298, -0.27322806,  0.87342487,\n",
        "       -1.06922415,  0.70997077,  1.12926126,  0.30541377, -1.25579721,\n",
        "        0.19452719, -0.93418168,  0.4757108 , -1.11560508,  0.67970207,\n",
        "        1.08971013,  0.85402303, -0.29888271, -1.11081467, -0.24274418,\n",
        "        0.3936711 ,  0.3224487 ,  2.21808915,  0.50327266,  0.27287894,\n",
        "        0.67398115, -0.05947201, -0.7580844 , -0.88814272, -1.5069224 ,\n",
        "        0.28527956,  0.86056402, -2.28174706, -1.16806719,  0.28017927,\n",
        "       -0.66984942, -0.32736258, -0.62480618,  2.50022062, -2.81892732,\n",
        "       -0.09827207,  0.6058573 ,  0.67182092, -1.09196834,  0.20490448,\n",
        "        0.07925905,  1.43116531,  2.2317876 , -1.23314755, -0.33140479,\n",
        "       -1.13945346,  0.16423047, -0.46742481,  0.46676216, -0.3855884 ,\n",
        "        1.29401411,  0.64944855, -0.52812358, -1.89730163, -0.4538315 ])"
       ]
      }
     ],
     "prompt_number": 290
    },
    {
     "cell_type": "code",
     "collapsed": false,
     "input": [
      "(arr > 0).sum()\n",
      "#\uc694\uc18c\ub4e4\uc911 True\uc758 \uac1c\uc218\ub97c \ubc18\ud658"
     ],
     "language": "python",
     "metadata": {},
     "outputs": [
      {
       "metadata": {},
       "output_type": "pyout",
       "prompt_number": 291,
       "text": [
        "54"
       ]
      }
     ],
     "prompt_number": 291
    },
    {
     "cell_type": "code",
     "collapsed": true,
     "input": [
      "bools = np.array([False, False, True, False])"
     ],
     "language": "python",
     "metadata": {},
     "outputs": [],
     "prompt_number": 292
    },
    {
     "cell_type": "code",
     "collapsed": false,
     "input": [
      "bools.any()"
     ],
     "language": "python",
     "metadata": {},
     "outputs": [
      {
       "metadata": {},
       "output_type": "pyout",
       "prompt_number": 293,
       "text": [
        "True"
       ]
      }
     ],
     "prompt_number": 293
    },
    {
     "cell_type": "code",
     "collapsed": false,
     "input": [
      "bools.all()"
     ],
     "language": "python",
     "metadata": {},
     "outputs": [
      {
       "metadata": {},
       "output_type": "pyout",
       "prompt_number": 294,
       "text": [
        "False"
       ]
      }
     ],
     "prompt_number": 294
    },
    {
     "cell_type": "heading",
     "level": 3,
     "metadata": {},
     "source": [
      "4.3.4 \uc815\ub82c"
     ]
    },
    {
     "cell_type": "code",
     "collapsed": true,
     "input": [
      "arr = np.random.randn(8)"
     ],
     "language": "python",
     "metadata": {},
     "outputs": [],
     "prompt_number": 295
    },
    {
     "cell_type": "code",
     "collapsed": false,
     "input": [
      "arr"
     ],
     "language": "python",
     "metadata": {},
     "outputs": [
      {
       "metadata": {},
       "output_type": "pyout",
       "prompt_number": 296,
       "text": [
        "array([-0.00467523,  0.05759239,  0.57308564, -1.53846771,  0.14390299,\n",
        "       -1.63438043, -0.10006247,  1.27756869])"
       ]
      }
     ],
     "prompt_number": 296
    },
    {
     "cell_type": "code",
     "collapsed": false,
     "input": [
      "arr.sort()\n",
      "#\uae30\ubcf8\uc740 \uc624\ub984\ucc28\uc21c \uc815\ub82c"
     ],
     "language": "python",
     "metadata": {},
     "outputs": [],
     "prompt_number": 302
    },
    {
     "cell_type": "code",
     "collapsed": false,
     "input": [
      "arr"
     ],
     "language": "python",
     "metadata": {},
     "outputs": [
      {
       "metadata": {},
       "output_type": "pyout",
       "prompt_number": 303,
       "text": [
        "array([-1.63438043, -1.53846771, -0.10006247, -0.00467523,  0.05759239,\n",
        "        0.14390299,  0.57308564,  1.27756869])"
       ]
      }
     ],
     "prompt_number": 303
    },
    {
     "cell_type": "markdown",
     "metadata": {},
     "source": [
      "------------------------------------------------------------------------------------------"
     ]
    },
    {
     "cell_type": "code",
     "collapsed": false,
     "input": [
      "#\ub0b4\ub9bc\ucc28\uc21c\uc73c\ub85c ndarray\ub9cc\ub4e4\uae30\n",
      "arr=sorted(arr,reverse=True)"
     ],
     "language": "python",
     "metadata": {
      "scrolled": true
     },
     "outputs": [],
     "prompt_number": 304
    },
    {
     "cell_type": "code",
     "collapsed": false,
     "input": [
      "arr=np.array(arr)"
     ],
     "language": "python",
     "metadata": {},
     "outputs": [],
     "prompt_number": 305
    },
    {
     "cell_type": "code",
     "collapsed": false,
     "input": [
      "arr"
     ],
     "language": "python",
     "metadata": {},
     "outputs": [
      {
       "metadata": {},
       "output_type": "pyout",
       "prompt_number": 306,
       "text": [
        "array([ 1.27756869,  0.57308564,  0.14390299,  0.05759239, -0.00467523,\n",
        "       -0.10006247, -1.53846771, -1.63438043])"
       ]
      }
     ],
     "prompt_number": 306
    },
    {
     "cell_type": "markdown",
     "metadata": {},
     "source": [
      "------------------------------------------------------------------------------------------"
     ]
    },
    {
     "cell_type": "code",
     "collapsed": false,
     "input": [
      "large_arr = np.random.randn(10)"
     ],
     "language": "python",
     "metadata": {},
     "outputs": [],
     "prompt_number": 307
    },
    {
     "cell_type": "code",
     "collapsed": true,
     "input": [
      "large_arr.sort()"
     ],
     "language": "python",
     "metadata": {},
     "outputs": [],
     "prompt_number": 308
    },
    {
     "cell_type": "code",
     "collapsed": false,
     "input": [
      "large_arr"
     ],
     "language": "python",
     "metadata": {},
     "outputs": [
      {
       "metadata": {},
       "output_type": "pyout",
       "prompt_number": 309,
       "text": [
        "array([-0.81986776, -0.62921105, -0.33182087, -0.28410826,  0.02587264,\n",
        "        0.02815406,  0.14149159,  0.49643032,  0.75366528,  1.38305067])"
       ]
      }
     ],
     "prompt_number": 309
    },
    {
     "cell_type": "code",
     "collapsed": false,
     "input": [
      "large_arr[int(0.05*len(large_arr))]"
     ],
     "language": "python",
     "metadata": {},
     "outputs": [
      {
       "metadata": {},
       "output_type": "pyout",
       "prompt_number": 310,
       "text": [
        "-0.8198677633521344"
       ]
      }
     ],
     "prompt_number": 310
    },
    {
     "cell_type": "heading",
     "level": 3,
     "metadata": {},
     "source": [
      "4.3.5 \uc9d1\ud569 \ud568\uc218"
     ]
    },
    {
     "cell_type": "code",
     "collapsed": false,
     "input": [
      "names = np.array(['Bob','Joe','Will','Bob','Will','Joe','Joe'])"
     ],
     "language": "python",
     "metadata": {},
     "outputs": [],
     "prompt_number": 311
    },
    {
     "cell_type": "code",
     "collapsed": false,
     "input": [
      "names"
     ],
     "language": "python",
     "metadata": {},
     "outputs": [
      {
       "metadata": {},
       "output_type": "pyout",
       "prompt_number": 312,
       "text": [
        "array(['Bob', 'Joe', 'Will', 'Bob', 'Will', 'Joe', 'Joe'], \n",
        "      dtype='|S4')"
       ]
      }
     ],
     "prompt_number": 312
    },
    {
     "cell_type": "code",
     "collapsed": false,
     "input": [
      "np.unique(names)\n",
      "#names\uc5d0 \uc788\ub294 \uc694\uc18c\ub4e4\uc744 \uc911\ubcf5\ub418\uc9c0\uc54a\ub3c4\ub85d \ud558\uc5ec \ucd94\ucd9c"
     ],
     "language": "python",
     "metadata": {},
     "outputs": [
      {
       "metadata": {},
       "output_type": "pyout",
       "prompt_number": 313,
       "text": [
        "array(['Bob', 'Joe', 'Will'], \n",
        "      dtype='|S4')"
       ]
      }
     ],
     "prompt_number": 313
    },
    {
     "cell_type": "code",
     "collapsed": true,
     "input": [
      "ints = np.array([3,3,3,2,2,1,1,4,4])"
     ],
     "language": "python",
     "metadata": {},
     "outputs": [],
     "prompt_number": 314
    },
    {
     "cell_type": "code",
     "collapsed": false,
     "input": [
      "np.unique(ints)"
     ],
     "language": "python",
     "metadata": {},
     "outputs": [
      {
       "metadata": {},
       "output_type": "pyout",
       "prompt_number": 315,
       "text": [
        "array([1, 2, 3, 4])"
       ]
      }
     ],
     "prompt_number": 315
    },
    {
     "cell_type": "code",
     "collapsed": false,
     "input": [
      "sorted(set(names))"
     ],
     "language": "python",
     "metadata": {},
     "outputs": [
      {
       "metadata": {},
       "output_type": "pyout",
       "prompt_number": 316,
       "text": [
        "['Bob', 'Joe', 'Will']"
       ]
      }
     ],
     "prompt_number": 316
    },
    {
     "cell_type": "code",
     "collapsed": true,
     "input": [
      "values = np.array([6,0,0,3,2,5,6])"
     ],
     "language": "python",
     "metadata": {},
     "outputs": [],
     "prompt_number": 317
    },
    {
     "cell_type": "code",
     "collapsed": false,
     "input": [
      "values"
     ],
     "language": "python",
     "metadata": {},
     "outputs": [
      {
       "metadata": {},
       "output_type": "pyout",
       "prompt_number": 318,
       "text": [
        "array([6, 0, 0, 3, 2, 5, 6])"
       ]
      }
     ],
     "prompt_number": 318
    },
    {
     "cell_type": "code",
     "collapsed": false,
     "input": [
      "np.in1d(values,[2,3,6])\n",
      "#in1d(x,y) : x\uc758 \uc6d0\uc18c\uc911 y\uc758 \uc6d0\uc18c\ub97c \ud3ec\ud568\ud558\uc9c0\ub97c \ub098\ud0c0\ub0b4\ub294 boolean \ubc30\uc5f4 \ubc18\ud658"
     ],
     "language": "python",
     "metadata": {},
     "outputs": [
      {
       "metadata": {},
       "output_type": "pyout",
       "prompt_number": 319,
       "text": [
        "array([ True, False, False,  True,  True, False,  True], dtype=bool)"
       ]
      }
     ],
     "prompt_number": 319
    },
    {
     "cell_type": "heading",
     "level": 2,
     "metadata": {},
     "source": [
      "4.4 \ubc30\uc5f4\uc758 \ud30c\uc77c \uc785,\ucd9c\ub825"
     ]
    },
    {
     "cell_type": "heading",
     "level": 3,
     "metadata": {},
     "source": [
      "4.4.1 \ubc30\uc5f4\uc744 \ubc14\uc774\ub108\ub9ac \ud615\uc2dd\uc73c\ub85c \ub514\uc2a4\ud06c\uc5d0 \uc800\uc7a5\ud558\uae30"
     ]
    },
    {
     "cell_type": "code",
     "collapsed": true,
     "input": [
      "arr = np.arange(10)"
     ],
     "language": "python",
     "metadata": {},
     "outputs": [],
     "prompt_number": 320
    },
    {
     "cell_type": "code",
     "collapsed": true,
     "input": [
      "np.save('some_array',arr)\n",
      "#\ud30c\uc77c\uba85 'some_array'\ub85c \ud574\uc11c arr\uc744 \uc800\uc7a5"
     ],
     "language": "python",
     "metadata": {},
     "outputs": [],
     "prompt_number": 321
    },
    {
     "cell_type": "code",
     "collapsed": false,
     "input": [
      "np.load('some_array.npy')"
     ],
     "language": "python",
     "metadata": {},
     "outputs": [
      {
       "metadata": {},
       "output_type": "pyout",
       "prompt_number": 322,
       "text": [
        "array([0, 1, 2, 3, 4, 5, 6, 7, 8, 9])"
       ]
      }
     ],
     "prompt_number": 322
    },
    {
     "cell_type": "code",
     "collapsed": true,
     "input": [
      "np.savez('array_archive.npz',a=arr,b=arr)\n",
      "#np.savez \ud568\uc218\ub97c \uc774\uc6a9\ud558\uba74 \uc5ec\ub7ec\uac1c\uc758 \ubc30\uc5f4\uc744 \uc555\ucd95\ub41c \ud615\uc2dd\uc73c\ub85c \uc800\uc7a5\uc774 \uac00\ub2a5(\uc800\uc7a5\ud558\ub824\ub294 \ubc30\uc5f4\uc740 \ud0a4\uc6cc\ub4dc \uc778\uc790 \ud615\ud0dc\ub85c \uc804\ub2ec\ub428)"
     ],
     "language": "python",
     "metadata": {},
     "outputs": [],
     "prompt_number": 323
    },
    {
     "cell_type": "code",
     "collapsed": true,
     "input": [
      "arch=np.load('array_archive.npz')"
     ],
     "language": "python",
     "metadata": {},
     "outputs": [],
     "prompt_number": 324
    },
    {
     "cell_type": "code",
     "collapsed": false,
     "input": [
      "arch['b']"
     ],
     "language": "python",
     "metadata": {},
     "outputs": [
      {
       "metadata": {},
       "output_type": "pyout",
       "prompt_number": 325,
       "text": [
        "array([0, 1, 2, 3, 4, 5, 6, 7, 8, 9])"
       ]
      }
     ],
     "prompt_number": 325
    },
    {
     "cell_type": "code",
     "collapsed": false,
     "input": [
      "arch['a']"
     ],
     "language": "python",
     "metadata": {},
     "outputs": [
      {
       "metadata": {},
       "output_type": "pyout",
       "prompt_number": 326,
       "text": [
        "array([0, 1, 2, 3, 4, 5, 6, 7, 8, 9])"
       ]
      }
     ],
     "prompt_number": 326
    },
    {
     "cell_type": "heading",
     "level": 3,
     "metadata": {},
     "source": [
      "4.4.2 \ud14d\uc2a4\ud2b8 \ud30c\uc77c \ubd88\ub7ec\uc624\uae30\uc640 \uc800\uc7a5\ud558\uae30"
     ]
    },
    {
     "cell_type": "code",
     "collapsed": false,
     "input": [
      "!type array_ex.txt"
     ],
     "language": "python",
     "metadata": {},
     "outputs": [
      {
       "output_type": "stream",
       "stream": "stdout",
       "text": [
        "0.580052,0.1823,012331,-1.21321,0.1234,-0.0002\n"
       ]
      }
     ],
     "prompt_number": 327
    },
    {
     "cell_type": "code",
     "collapsed": false,
     "input": [
      "arr = np.loadtxt('array_ex.txt',delimiter=',')\n",
      "#delimiter\ub294 \uad6c\ubd84\uc790"
     ],
     "language": "python",
     "metadata": {},
     "outputs": [],
     "prompt_number": 331
    },
    {
     "cell_type": "code",
     "collapsed": false,
     "input": [
      "arr"
     ],
     "language": "python",
     "metadata": {},
     "outputs": [
      {
       "metadata": {},
       "output_type": "pyout",
       "prompt_number": 338,
       "text": [
        "array([  5.80052000e-01,   1.82300000e-01,   1.23310000e+04,\n",
        "        -1.21321000e+00,   1.23400000e-01,  -2.00000000e-04])"
       ]
      }
     ],
     "prompt_number": 338
    },
    {
     "cell_type": "heading",
     "level": 2,
     "metadata": {},
     "source": [
      "4.5 \uc120\ud615\ub300\uc218"
     ]
    },
    {
     "cell_type": "code",
     "collapsed": true,
     "input": [
      "x= np.array([[1.,2.,3.],[4.,5.,6.]])"
     ],
     "language": "python",
     "metadata": {},
     "outputs": [],
     "prompt_number": 339
    },
    {
     "cell_type": "code",
     "collapsed": true,
     "input": [
      "y=np.array([[6.,23.],[-1,7],[8,9]])"
     ],
     "language": "python",
     "metadata": {},
     "outputs": [],
     "prompt_number": 340
    },
    {
     "cell_type": "code",
     "collapsed": false,
     "input": [
      "x"
     ],
     "language": "python",
     "metadata": {},
     "outputs": [
      {
       "metadata": {},
       "output_type": "pyout",
       "prompt_number": 341,
       "text": [
        "array([[ 1.,  2.,  3.],\n",
        "       [ 4.,  5.,  6.]])"
       ]
      }
     ],
     "prompt_number": 341
    },
    {
     "cell_type": "code",
     "collapsed": false,
     "input": [
      "y"
     ],
     "language": "python",
     "metadata": {},
     "outputs": [
      {
       "metadata": {},
       "output_type": "pyout",
       "prompt_number": 342,
       "text": [
        "array([[  6.,  23.],\n",
        "       [ -1.,   7.],\n",
        "       [  8.,   9.]])"
       ]
      }
     ],
     "prompt_number": 342
    },
    {
     "cell_type": "code",
     "collapsed": false,
     "input": [
      "x.dot(y)\n",
      "#\ud589\ub82c\uc758 \uacf1\uc148\uc740 dot\ud568\uc218\ub97c \uc0ac\uc6a9(\ud604\uc7ac (2x3)*(3*2) \ud589\ub82c\uc758 \uacf1\uc148\uacb0\uacfc 2*2 \uc0dd\uc131)"
     ],
     "language": "python",
     "metadata": {},
     "outputs": [
      {
       "metadata": {},
       "output_type": "pyout",
       "prompt_number": 337,
       "text": [
        "array([[  28.,   64.],\n",
        "       [  67.,  181.]])"
       ]
      }
     ],
     "prompt_number": 337
    },
    {
     "cell_type": "code",
     "collapsed": false,
     "input": [
      "np.ones(3)"
     ],
     "language": "python",
     "metadata": {},
     "outputs": [
      {
       "metadata": {},
       "output_type": "pyout",
       "prompt_number": 343,
       "text": [
        "array([ 1.,  1.,  1.])"
       ]
      }
     ],
     "prompt_number": 343
    },
    {
     "cell_type": "code",
     "collapsed": false,
     "input": [
      "np.ones(3).shape"
     ],
     "language": "python",
     "metadata": {},
     "outputs": [
      {
       "metadata": {},
       "output_type": "pyout",
       "prompt_number": 344,
       "text": [
        "(3L,)"
       ]
      }
     ],
     "prompt_number": 344
    },
    {
     "cell_type": "code",
     "collapsed": false,
     "input": [
      "np.random.randn as randn"
     ],
     "language": "python",
     "metadata": {},
     "outputs": [
      {
       "ename": "SyntaxError",
       "evalue": "invalid syntax (<ipython-input-346-ab412246062c>, line 1)",
       "output_type": "pyerr",
       "traceback": [
        "\u001b[1;36m  File \u001b[1;32m\"<ipython-input-346-ab412246062c>\"\u001b[1;36m, line \u001b[1;32m1\u001b[0m\n\u001b[1;33m    np.random.randn as randn\u001b[0m\n\u001b[1;37m                     ^\u001b[0m\n\u001b[1;31mSyntaxError\u001b[0m\u001b[1;31m:\u001b[0m invalid syntax\n"
       ]
      }
     ],
     "prompt_number": 346
    },
    {
     "cell_type": "code",
     "collapsed": true,
     "input": [],
     "language": "python",
     "metadata": {},
     "outputs": [],
     "prompt_number": null
    }
   ],
   "metadata": {}
  }
 ]
}