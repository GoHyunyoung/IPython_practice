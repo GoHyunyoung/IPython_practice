{
 "cells": [
  {
   "cell_type": "code",
   "execution_count": 2,
   "metadata": {
    "collapsed": false
   },
   "outputs": [],
   "source": [
    "import numpy\n",
    "import matplotlib.pyplot as plt"
   ]
  },
  {
   "cell_type": "code",
   "execution_count": 11,
   "metadata": {
    "collapsed": true
   },
   "outputs": [],
   "source": [
    "%matplotlib inline"
   ]
  },
  {
   "cell_type": "code",
   "execution_count": 4,
   "metadata": {
    "collapsed": false
   },
   "outputs": [],
   "source": [
    "fp=open('./simulation_log.txt','r')\n",
    "\n",
    "time=[]\n",
    "# objectCout=(shark,fish)\n",
    "objectCount=[]\n",
    "for line in fp:\n",
    "    d=map(float,line.split())\n",
    "    time.append(d[0])\n",
    "    objectCount.append((d[1],d[2]))\n",
    "fp.close()"
   ]
  },
  {
   "cell_type": "code",
   "execution_count": 25,
   "metadata": {
    "collapsed": false,
    "scrolled": false
   },
   "outputs": [],
   "source": [
    "fig,ax=plt.subplots()\n",
    "# 선색상 설정\n",
    "ax.set_color_cycle(['blue','red'])\n",
    "ax.set_figure\n",
    "plt.plot(time,objectCount,'-')\n",
    "\n",
    "plt.xlabel(u'Time(sec)')\n",
    "plt.ylabel(u'Count')\n",
    "plt.title(u'Count of Objects(init->fish:60,shark:20)')\n",
    "plt.grid(True)\n",
    "plt.legend(['fish','shark'])\n",
    "plt.show()"
   ]
  }
 ],
 "metadata": {
  "kernelspec": {
   "display_name": "Python 2",
   "language": "python",
   "name": "python2"
  },
  "language_info": {
   "codemirror_mode": {
    "name": "ipython",
    "version": 2
   },
   "file_extension": ".py",
   "mimetype": "text/x-python",
   "name": "python",
   "nbconvert_exporter": "python",
   "pygments_lexer": "ipython2",
   "version": "2.7.10"
  }
 },
 "nbformat": 4,
 "nbformat_minor": 0
}
